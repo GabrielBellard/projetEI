{
 "cells": [
  {
   "cell_type": "code",
   "execution_count": 1,
   "metadata": {
    "autoscroll": "json-false",
    "collapsed": false,
    "ein.tags": [
     "worksheet-0"
    ],
    "slideshow": {
     "slide_type": "-"
    }
   },
   "outputs": [
    {
     "name": "stderr",
     "output_type": "stream",
     "text": [
      "Using Theano backend.\n"
     ]
    }
   ],
   "source": [
    "from __future__ import print_function\n",
    "import numpy as np\n",
    "np.random.seed(1337)  # for reproducibility\n",
    "from keras.preprocessing import sequence\n",
    "from keras.models import Sequential\n",
    "from keras.layers import Dense, Dropout, Activation\n",
    "from keras.layers import Embedding\n",
    "from keras.layers import Convolution1D, GlobalMaxPooling1D\n",
    "from keras.datasets import imdb\n"
   ]
  },
  {
   "cell_type": "code",
   "execution_count": 2,
   "metadata": {
    "autoscroll": "json-false",
    "collapsed": false,
    "ein.tags": [
     "worksheet-0"
    ],
    "slideshow": {
     "slide_type": "-"
    }
   },
   "outputs": [],
   "source": [
    "import string\n",
    "from nltk.stem.porter import *\n",
    "import multiprocessing\n",
    "import unicodedata\n",
    "import nltk\n",
    "from joblib import Parallel, delayed\n",
    "import tqdm\n",
    "import multiprocessing\n",
    "import os\n",
    "import glob"
   ]
  },
  {
   "cell_type": "code",
   "execution_count": 3,
   "metadata": {
    "autoscroll": "json-false",
    "collapsed": false,
    "ein.tags": [
     "worksheet-0"
    ],
    "slideshow": {
     "slide_type": "-"
    }
   },
   "outputs": [],
   "source": [
    "def load_aclImdb_data(path_train, path_test):\n",
    "    sentences_train = []\n",
    "    train_y = []\n",
    "    currdir = os.getcwd()\n",
    "    os.chdir('%s/pos/' % path_train)\n",
    "    for ff in glob.glob(\"*.txt\"):\n",
    "       \twith open(ff, 'r') as f:\n",
    "\t    sentences_train.append(f.readline().strip())\n",
    "            train_y.append(1)\n",
    "    os.chdir('%s/neg/' % path_train)\n",
    "    for ff in glob.glob(\"*.txt\"):\n",
    "       \twith open(ff, 'r') as f:\n",
    "            sentences_train.append(f.readline().strip())\n",
    "            train_y.append(0)\n",
    "    os.chdir(currdir)\n",
    "    sentences_test = []\n",
    "    test_y = []\n",
    "    currdir = os.getcwd()\n",
    "    os.chdir('%s/pos/' % path_test)\n",
    "    for ff in glob.glob(\"*.txt\"):\n",
    "        with open(ff, 'r') as f:\n",
    "            sentences_test.append(f.readline().strip())\n",
    "            test_y.append(1)\n",
    "    os.chdir('%s/neg/' % path_test)\n",
    "    for ff in glob.glob(\"*.txt\"):\n",
    "        with open(ff, 'r') as f:\n",
    "            sentences_test.append(f.readline().strip())\n",
    "            test_y.append(0)\n",
    "    os.chdir(currdir)\n",
    "    return sentences_train, sentences_test, train_y, test_y\n",
    "X_train, X_test, y_train, y_test = load_aclImdb_data(\"/Users/zacharie/Documents/AIC/REI-Option/aclImdb/train\", \"/Users/zacharie/Documents/AIC/REI-Option/aclImdb/test\")"
   ]
  },
  {
   "cell_type": "code",
   "execution_count": 4,
   "metadata": {
    "autoscroll": "json-false",
    "collapsed": false,
    "ein.tags": [
     "worksheet-0"
    ],
    "slideshow": {
     "slide_type": "-"
    }
   },
   "outputs": [
    {
     "name": "stderr",
     "output_type": "stream",
     "text": [
      "\n"
     ]
    },
    {
     "name": "stderr",
     "output_type": "stream",
     "text": [
      "\r",
      "stem: 100%|██████████| 50000/50000 [10:52<00:00, 76.59it/s]"
     ]
    },
    {
     "name": "stderr",
     "output_type": "stream",
     "text": [
      "\r",
      "stem: 100%|█████████▉| 49998/50000 [10:52<00:00, 62.38it/s]"
     ]
    },
    {
     "name": "stderr",
     "output_type": "stream",
     "text": [
      "\r",
      "stem: 100%|█████████▉| 49986/50000 [10:52<00:00, 62.67it/s]"
     ]
    },
    {
     "name": "stderr",
     "output_type": "stream",
     "text": [
      "\r",
      "stem: 100%|█████████▉| 49978/50000 [10:52<00:00, 67.85it/s]"
     ]
    },
    {
     "name": "stderr",
     "output_type": "stream",
     "text": [
      "\r",
      "stem: 100%|█████████▉| 49968/50000 [10:52<00:00, 86.33it/s]"
     ]
    },
    {
     "name": "stderr",
     "output_type": "stream",
     "text": [
      "\r",
      "stem: 100%|█████████▉| 49956/50000 [10:52<00:00, 77.78it/s]"
     ]
    },
    {
     "name": "stderr",
     "output_type": "stream",
     "text": [
      "\r",
      "stem: 100%|█████████▉| 49944/50000 [10:52<00:00, 74.42it/s]"
     ]
    },
    {
     "name": "stderr",
     "output_type": "stream",
     "text": [
      "\r",
      "stem: 100%|█████████▉| 49926/50000 [10:51<00:01, 66.12it/s]"
     ]
    },
    {
     "name": "stderr",
     "output_type": "stream",
     "text": [
      "\r",
      "stem: 100%|█████████▉| 49911/50000 [10:51<00:01, 57.50it/s]"
     ]
    },
    {
     "name": "stderr",
     "output_type": "stream",
     "text": [
      "\r",
      "stem: 100%|█████████▉| 49904/50000 [10:51<00:01, 59.91it/s]"
     ]
    },
    {
     "name": "stderr",
     "output_type": "stream",
     "text": [
      "\r",
      "stem: 100%|█████████▉| 49896/50000 [10:51<00:01, 61.71it/s]"
     ]
    },
    {
     "name": "stderr",
     "output_type": "stream",
     "text": [
      "\r",
      "stem: 100%|█████████▉| 49882/50000 [10:51<00:01, 65.39it/s]"
     ]
    },
    {
     "name": "stderr",
     "output_type": "stream",
     "text": [
      "\r",
      "stem: 100%|█████████▉| 49872/50000 [10:50<00:01, 81.38it/s]"
     ]
    },
    {
     "name": "stderr",
     "output_type": "stream",
     "text": [
      "\r",
      "stem: 100%|█████████▉| 49856/50000 [10:50<00:02, 67.87it/s]"
     ]
    },
    {
     "name": "stderr",
     "output_type": "stream",
     "text": [
      "\r",
      "stem: 100%|█████████▉| 49848/50000 [10:50<00:02, 73.87it/s]"
     ]
    },
    {
     "name": "stderr",
     "output_type": "stream",
     "text": [
      "\r",
      "stem: 100%|█████████▉| 49830/50000 [10:50<00:02, 71.59it/s]"
     ]
    },
    {
     "name": "stderr",
     "output_type": "stream",
     "text": [
      "\r",
      "stem: 100%|█████████▉| 49812/50000 [10:50<00:02, 70.90it/s]"
     ]
    },
    {
     "name": "stderr",
     "output_type": "stream",
     "text": [
      "\r",
      "stem: 100%|█████████▉| 49792/50000 [10:49<00:02, 75.28it/s]"
     ]
    },
    {
     "name": "stderr",
     "output_type": "stream",
     "text": [
      "\r",
      "stem: 100%|█████████▉| 49782/50000 [10:49<00:02, 80.30it/s]"
     ]
    },
    {
     "name": "stderr",
     "output_type": "stream",
     "text": [
      "\r",
      "stem: 100%|█████████▉| 49768/50000 [10:49<00:03, 70.66it/s]"
     ]
    },
    {
     "name": "stderr",
     "output_type": "stream",
     "text": [
      "\r",
      "stem: 100%|█████████▉| 49758/50000 [10:49<00:02, 81.41it/s]"
     ]
    },
    {
     "name": "stderr",
     "output_type": "stream",
     "text": [
      "\r",
      "stem:  99%|█████████▉| 49742/50000 [10:49<00:03, 68.51it/s]"
     ]
    },
    {
     "name": "stderr",
     "output_type": "stream",
     "text": [
      "\r",
      "stem:  99%|█████████▉| 49734/50000 [10:49<00:04, 66.10it/s]"
     ]
    },
    {
     "name": "stderr",
     "output_type": "stream",
     "text": [
      "\r",
      "stem:  99%|█████████▉| 49722/50000 [10:49<00:04, 68.57it/s]"
     ]
    },
    {
     "name": "stderr",
     "output_type": "stream",
     "text": [
      "\r",
      "stem:  99%|█████████▉| 49710/50000 [10:48<00:04, 62.46it/s]"
     ]
    },
    {
     "name": "stderr",
     "output_type": "stream",
     "text": [
      "\r",
      "stem:  99%|█████████▉| 49698/50000 [10:48<00:03, 79.93it/s]"
     ]
    },
    {
     "name": "stderr",
     "output_type": "stream",
     "text": [
      "\r",
      "stem:  99%|█████████▉| 49674/50000 [10:48<00:04, 73.90it/s]"
     ]
    },
    {
     "name": "stderr",
     "output_type": "stream",
     "text": [
      "\r",
      "stem:  99%|█████████▉| 49656/50000 [10:48<00:05, 68.17it/s]"
     ]
    },
    {
     "name": "stderr",
     "output_type": "stream",
     "text": [
      "\r",
      "stem:  99%|█████████▉| 49638/50000 [10:47<00:05, 64.79it/s]"
     ]
    },
    {
     "name": "stderr",
     "output_type": "stream",
     "text": [
      "\r",
      "stem:  99%|█████████▉| 49629/50000 [10:47<00:04, 74.86it/s]"
     ]
    },
    {
     "name": "stderr",
     "output_type": "stream",
     "text": [
      "\r",
      "stem:  99%|█████████▉| 49620/50000 [10:47<00:04, 76.36it/s]"
     ]
    },
    {
     "name": "stderr",
     "output_type": "stream",
     "text": [
      "\r",
      "stem:  99%|█████████▉| 49602/50000 [10:47<00:05, 67.27it/s]"
     ]
    },
    {
     "name": "stderr",
     "output_type": "stream",
     "text": [
      "\r",
      "stem:  99%|█████████▉| 49590/50000 [10:47<00:05, 68.77it/s]"
     ]
    },
    {
     "name": "stderr",
     "output_type": "stream",
     "text": [
      "\r",
      "stem:  99%|█████████▉| 49576/50000 [10:47<00:06, 70.49it/s]"
     ]
    },
    {
     "name": "stderr",
     "output_type": "stream",
     "text": [
      "\r",
      "stem:  99%|█████████▉| 49566/50000 [10:46<00:05, 85.55it/s]"
     ]
    },
    {
     "name": "stderr",
     "output_type": "stream",
     "text": [
      "\r",
      "stem:  99%|█████████▉| 49548/50000 [10:46<00:05, 80.60it/s]"
     ]
    },
    {
     "name": "stderr",
     "output_type": "stream",
     "text": [
      "\r",
      "stem:  99%|█████████▉| 49536/50000 [10:46<00:05, 92.10it/s] "
     ]
    },
    {
     "name": "stderr",
     "output_type": "stream",
     "text": [
      "\r",
      "stem:  99%|█████████▉| 49524/50000 [10:46<00:04, 103.77it/s]"
     ]
    },
    {
     "name": "stderr",
     "output_type": "stream",
     "text": [
      "\r",
      "stem:  99%|█████████▉| 49506/50000 [10:46<00:05, 88.68it/s]"
     ]
    },
    {
     "name": "stderr",
     "output_type": "stream",
     "text": [
      "\r",
      "stem:  99%|█████████▉| 49488/50000 [10:46<00:06, 85.06it/s]"
     ]
    },
    {
     "name": "stderr",
     "output_type": "stream",
     "text": [
      "\r",
      "stem:  99%|█████████▉| 49476/50000 [10:45<00:05, 94.97it/s]"
     ]
    },
    {
     "name": "stderr",
     "output_type": "stream",
     "text": [
      "\r",
      "stem:  99%|█████████▉| 49456/50000 [10:45<00:06, 87.97it/s]"
     ]
    },
    {
     "name": "stderr",
     "output_type": "stream",
     "text": [
      "\r",
      "stem:  99%|█████████▉| 49446/50000 [10:45<00:06, 86.35it/s]"
     ]
    },
    {
     "name": "stderr",
     "output_type": "stream",
     "text": [
      "\r",
      "stem:  99%|█████████▉| 49434/50000 [10:45<00:06, 86.81it/s]"
     ]
    },
    {
     "name": "stderr",
     "output_type": "stream",
     "text": [
      "\r",
      "stem:  99%|█████████▉| 49410/50000 [10:45<00:07, 75.35it/s]"
     ]
    },
    {
     "name": "stderr",
     "output_type": "stream",
     "text": [
      "\r",
      "stem:  99%|█████████▉| 49395/50000 [10:45<00:07, 79.55it/s]"
     ]
    },
    {
     "name": "stderr",
     "output_type": "stream",
     "text": [
      "\r",
      "stem:  99%|█████████▉| 49385/50000 [10:44<00:06, 90.13it/s]"
     ]
    },
    {
     "name": "stderr",
     "output_type": "stream",
     "text": [
      "\r",
      "stem:  99%|█████████▊| 49374/50000 [10:44<00:06, 95.87it/s]"
     ]
    },
    {
     "name": "stderr",
     "output_type": "stream",
     "text": [
      "\r",
      "stem:  99%|█████████▊| 49361/50000 [10:44<00:07, 87.93it/s]"
     ]
    },
    {
     "name": "stderr",
     "output_type": "stream",
     "text": [
      "\r",
      "stem:  99%|█████████▊| 49350/50000 [10:44<00:07, 83.55it/s]"
     ]
    },
    {
     "name": "stderr",
     "output_type": "stream",
     "text": [
      "\r",
      "stem:  99%|█████████▊| 49332/50000 [10:44<00:09, 68.01it/s]"
     ]
    },
    {
     "name": "stderr",
     "output_type": "stream",
     "text": [
      "\r",
      "stem:  99%|█████████▊| 49320/50000 [10:44<00:09, 73.72it/s]"
     ]
    },
    {
     "name": "stderr",
     "output_type": "stream",
     "text": [
      "\r",
      "stem:  99%|█████████▊| 49310/50000 [10:44<00:10, 68.25it/s]"
     ]
    },
    {
     "name": "stderr",
     "output_type": "stream",
     "text": [
      "\r",
      "stem:  99%|█████████▊| 49302/50000 [10:44<00:10, 66.02it/s]"
     ]
    },
    {
     "name": "stderr",
     "output_type": "stream",
     "text": [
      "\r",
      "stem:  99%|█████████▊| 49292/50000 [10:43<00:09, 75.52it/s]"
     ]
    },
    {
     "name": "stderr",
     "output_type": "stream",
     "text": [
      "\r",
      "stem:  99%|█████████▊| 49282/50000 [10:43<00:08, 79.89it/s]"
     ]
    },
    {
     "name": "stderr",
     "output_type": "stream",
     "text": [
      "\r",
      "stem:  99%|█████████▊| 49272/50000 [10:43<00:09, 77.75it/s]"
     ]
    },
    {
     "name": "stderr",
     "output_type": "stream",
     "text": [
      "\r",
      "stem:  98%|█████████▊| 49248/50000 [10:43<00:11, 63.44it/s]"
     ]
    },
    {
     "name": "stderr",
     "output_type": "stream",
     "text": [
      "\r",
      "stem:  98%|█████████▊| 49230/50000 [10:43<00:11, 66.00it/s]"
     ]
    },
    {
     "name": "stderr",
     "output_type": "stream",
     "text": [
      "\r",
      "stem:  98%|█████████▊| 49221/50000 [10:43<00:12, 60.01it/s]"
     ]
    },
    {
     "name": "stderr",
     "output_type": "stream",
     "text": [
      "\r",
      "stem:  98%|█████████▊| 49213/50000 [10:42<00:12, 61.53it/s]"
     ]
    },
    {
     "name": "stderr",
     "output_type": "stream",
     "text": [
      "\r",
      "stem:  98%|█████████▊| 49204/50000 [10:42<00:09, 80.83it/s]"
     ]
    },
    {
     "name": "stderr",
     "output_type": "stream",
     "text": [
      "\r",
      "stem:  98%|█████████▊| 49193/50000 [10:42<00:08, 99.34it/s]"
     ]
    },
    {
     "name": "stderr",
     "output_type": "stream",
     "text": [
      "\r",
      "stem:  98%|█████████▊| 49182/50000 [10:42<00:08, 96.98it/s]"
     ]
    },
    {
     "name": "stderr",
     "output_type": "stream",
     "text": [
      "\r",
      "stem:  98%|█████████▊| 49170/50000 [10:42<00:08, 93.79it/s]"
     ]
    },
    {
     "name": "stderr",
     "output_type": "stream",
     "text": [
      "\r",
      "stem:  98%|█████████▊| 49158/50000 [10:42<00:09, 88.60it/s]"
     ]
    },
    {
     "name": "stderr",
     "output_type": "stream",
     "text": [
      "\r",
      "stem:  98%|█████████▊| 49140/50000 [10:41<00:10, 83.86it/s]"
     ]
    },
    {
     "name": "stderr",
     "output_type": "stream",
     "text": [
      "\r",
      "stem:  98%|█████████▊| 49128/50000 [10:41<00:09, 88.98it/s]"
     ]
    },
    {
     "name": "stderr",
     "output_type": "stream",
     "text": [
      "\r",
      "stem:  98%|█████████▊| 49116/50000 [10:41<00:10, 80.54it/s]"
     ]
    },
    {
     "name": "stderr",
     "output_type": "stream",
     "text": [
      "\r",
      "stem:  98%|█████████▊| 49096/50000 [10:41<00:12, 70.97it/s]"
     ]
    },
    {
     "name": "stderr",
     "output_type": "stream",
     "text": [
      "\r",
      "stem:  98%|█████████▊| 49086/50000 [10:41<00:11, 81.50it/s]"
     ]
    },
    {
     "name": "stderr",
     "output_type": "stream",
     "text": [
      "\r",
      "stem:  98%|█████████▊| 49068/50000 [10:41<00:12, 72.45it/s]"
     ]
    },
    {
     "name": "stderr",
     "output_type": "stream",
     "text": [
      "\r",
      "stem:  98%|█████████▊| 49056/50000 [10:40<00:10, 85.96it/s]"
     ]
    },
    {
     "name": "stderr",
     "output_type": "stream",
     "text": [
      "\r",
      "stem:  98%|█████████▊| 49044/50000 [10:40<00:10, 87.30it/s]"
     ]
    },
    {
     "name": "stderr",
     "output_type": "stream",
     "text": [
      "\r",
      "stem:  98%|█████████▊| 49026/50000 [10:40<00:13, 72.97it/s]"
     ]
    },
    {
     "name": "stderr",
     "output_type": "stream",
     "text": [
      "\r",
      "stem:  98%|█████████▊| 49008/50000 [10:40<00:13, 71.27it/s]"
     ]
    },
    {
     "name": "stderr",
     "output_type": "stream",
     "text": [
      "\r",
      "stem:  98%|█████████▊| 48984/50000 [10:40<00:15, 64.57it/s]"
     ]
    },
    {
     "name": "stderr",
     "output_type": "stream",
     "text": [
      "\r",
      "stem:  98%|█████████▊| 48972/50000 [10:39<00:14, 71.66it/s]"
     ]
    },
    {
     "name": "stderr",
     "output_type": "stream",
     "text": [
      "\r",
      "stem:  98%|█████████▊| 48954/50000 [10:39<00:14, 73.49it/s]"
     ]
    },
    {
     "name": "stderr",
     "output_type": "stream",
     "text": [
      "\r",
      "stem:  98%|█████████▊| 48942/50000 [10:39<00:11, 94.59it/s]"
     ]
    },
    {
     "name": "stderr",
     "output_type": "stream",
     "text": [
      "\r",
      "stem:  98%|█████████▊| 48924/50000 [10:39<00:13, 79.24it/s]"
     ]
    },
    {
     "name": "stderr",
     "output_type": "stream",
     "text": [
      "\r",
      "stem:  98%|█████████▊| 48912/50000 [10:39<00:13, 82.91it/s]"
     ]
    },
    {
     "name": "stderr",
     "output_type": "stream",
     "text": [
      "\r",
      "stem:  98%|█████████▊| 48900/50000 [10:39<00:14, 77.62it/s]"
     ]
    },
    {
     "name": "stderr",
     "output_type": "stream",
     "text": [
      "\r",
      "stem:  98%|█████████▊| 48882/50000 [10:38<00:14, 76.58it/s]"
     ]
    },
    {
     "name": "stderr",
     "output_type": "stream",
     "text": [
      "\r",
      "stem:  98%|█████████▊| 48864/50000 [10:38<00:16, 68.64it/s]"
     ]
    },
    {
     "name": "stderr",
     "output_type": "stream",
     "text": [
      "\r",
      "stem:  98%|█████████▊| 48840/50000 [10:38<00:18, 62.62it/s]"
     ]
    },
    {
     "name": "stderr",
     "output_type": "stream",
     "text": [
      "\r",
      "stem:  98%|█████████▊| 48826/50000 [10:38<00:15, 73.80it/s]"
     ]
    },
    {
     "name": "stderr",
     "output_type": "stream",
     "text": [
      "\r",
      "stem:  98%|█████████▊| 48816/50000 [10:37<00:15, 76.43it/s]"
     ]
    },
    {
     "name": "stderr",
     "output_type": "stream",
     "text": [
      "\r",
      "stem:  98%|█████████▊| 48798/50000 [10:37<00:19, 61.89it/s]"
     ]
    },
    {
     "name": "stderr",
     "output_type": "stream",
     "text": [
      "\r",
      "stem:  98%|█████████▊| 48786/50000 [10:37<00:17, 69.00it/s]"
     ]
    },
    {
     "name": "stderr",
     "output_type": "stream",
     "text": [
      "\r",
      "stem:  98%|█████████▊| 48771/50000 [10:37<00:16, 76.17it/s]"
     ]
    },
    {
     "name": "stderr",
     "output_type": "stream",
     "text": [
      "\r",
      "stem:  98%|█████████▊| 48762/50000 [10:37<00:16, 73.10it/s]"
     ]
    },
    {
     "name": "stderr",
     "output_type": "stream",
     "text": [
      "\r",
      "stem:  97%|█████████▋| 48745/50000 [10:37<00:20, 59.91it/s]"
     ]
    },
    {
     "name": "stderr",
     "output_type": "stream",
     "text": [
      "\r",
      "stem:  97%|█████████▋| 48738/50000 [10:37<00:21, 57.53it/s]"
     ]
    },
    {
     "name": "stderr",
     "output_type": "stream",
     "text": [
      "\r",
      "stem:  97%|█████████▋| 48726/50000 [10:36<00:22, 56.05it/s]"
     ]
    },
    {
     "name": "stderr",
     "output_type": "stream",
     "text": [
      "\r",
      "stem:  97%|█████████▋| 48702/50000 [10:36<00:24, 52.62it/s]"
     ]
    },
    {
     "name": "stderr",
     "output_type": "stream",
     "text": [
      "\r",
      "stem:  97%|█████████▋| 48693/50000 [10:36<00:18, 70.90it/s]"
     ]
    },
    {
     "name": "stderr",
     "output_type": "stream",
     "text": [
      "\r",
      "stem:  97%|█████████▋| 48684/50000 [10:36<00:16, 80.85it/s]"
     ]
    },
    {
     "name": "stderr",
     "output_type": "stream",
     "text": [
      "\r",
      "stem:  97%|█████████▋| 48672/50000 [10:35<00:15, 86.50it/s]"
     ]
    },
    {
     "name": "stderr",
     "output_type": "stream",
     "text": [
      "\r",
      "stem:  97%|█████████▋| 48657/50000 [10:35<00:16, 81.31it/s]"
     ]
    },
    {
     "name": "stderr",
     "output_type": "stream",
     "text": [
      "\r",
      "stem:  97%|█████████▋| 48648/50000 [10:35<00:15, 85.15it/s]"
     ]
    },
    {
     "name": "stderr",
     "output_type": "stream",
     "text": [
      "\r",
      "stem:  97%|█████████▋| 48636/50000 [10:35<00:16, 81.66it/s]"
     ]
    },
    {
     "name": "stderr",
     "output_type": "stream",
     "text": [
      "\r",
      "stem:  97%|█████████▋| 48618/50000 [10:35<00:17, 79.32it/s]"
     ]
    },
    {
     "name": "stderr",
     "output_type": "stream",
     "text": [
      "\r",
      "stem:  97%|█████████▋| 48600/50000 [10:35<00:17, 79.92it/s]"
     ]
    },
    {
     "name": "stderr",
     "output_type": "stream",
     "text": [
      "\r",
      "stem:  97%|█████████▋| 48588/50000 [10:34<00:18, 77.03it/s]"
     ]
    },
    {
     "name": "stderr",
     "output_type": "stream",
     "text": [
      "\r",
      "stem:  97%|█████████▋| 48579/50000 [10:34<00:18, 74.79it/s]"
     ]
    },
    {
     "name": "stderr",
     "output_type": "stream",
     "text": [
      "\r",
      "stem:  97%|█████████▋| 48570/50000 [10:34<00:17, 80.40it/s]"
     ]
    },
    {
     "name": "stderr",
     "output_type": "stream",
     "text": [
      "\r",
      "stem:  97%|█████████▋| 48558/50000 [10:34<00:17, 80.84it/s]"
     ]
    },
    {
     "name": "stderr",
     "output_type": "stream",
     "text": [
      "\r",
      "stem:  97%|█████████▋| 48549/50000 [10:34<00:17, 81.06it/s]"
     ]
    },
    {
     "name": "stderr",
     "output_type": "stream",
     "text": [
      "\r",
      "stem:  97%|█████████▋| 48540/50000 [10:34<00:18, 78.39it/s]"
     ]
    },
    {
     "name": "stderr",
     "output_type": "stream",
     "text": [
      "\r",
      "stem:  97%|█████████▋| 48522/50000 [10:34<00:19, 73.90it/s]"
     ]
    },
    {
     "name": "stderr",
     "output_type": "stream",
     "text": [
      "\r",
      "stem:  97%|█████████▋| 48501/50000 [10:33<00:20, 71.63it/s]"
     ]
    },
    {
     "name": "stderr",
     "output_type": "stream",
     "text": [
      "\r",
      "stem:  97%|█████████▋| 48492/50000 [10:33<00:19, 77.82it/s]"
     ]
    },
    {
     "name": "stderr",
     "output_type": "stream",
     "text": [
      "\r",
      "stem:  97%|█████████▋| 48480/50000 [10:33<00:21, 72.34it/s]"
     ]
    },
    {
     "name": "stderr",
     "output_type": "stream",
     "text": [
      "\r",
      "stem:  97%|█████████▋| 48456/50000 [10:33<00:24, 64.02it/s]"
     ]
    },
    {
     "name": "stderr",
     "output_type": "stream",
     "text": [
      "\r",
      "stem:  97%|█████████▋| 48444/50000 [10:33<00:23, 66.79it/s]"
     ]
    },
    {
     "name": "stderr",
     "output_type": "stream",
     "text": [
      "\r",
      "stem:  97%|█████████▋| 48425/50000 [10:32<00:25, 61.70it/s]"
     ]
    },
    {
     "name": "stderr",
     "output_type": "stream",
     "text": [
      "\r",
      "stem:  97%|█████████▋| 48417/50000 [10:32<00:25, 62.82it/s]"
     ]
    },
    {
     "name": "stderr",
     "output_type": "stream",
     "text": [
      "\r",
      "stem:  97%|█████████▋| 48408/50000 [10:32<00:18, 85.71it/s]"
     ]
    },
    {
     "name": "stderr",
     "output_type": "stream",
     "text": [
      "\r",
      "stem:  97%|█████████▋| 48396/50000 [10:32<00:18, 86.46it/s]"
     ]
    },
    {
     "name": "stderr",
     "output_type": "stream",
     "text": [
      "\r",
      "stem:  97%|█████████▋| 48384/50000 [10:32<00:19, 84.25it/s]"
     ]
    },
    {
     "name": "stderr",
     "output_type": "stream",
     "text": [
      "\r",
      "stem:  97%|█████████▋| 48372/50000 [10:32<00:19, 83.08it/s]"
     ]
    },
    {
     "name": "stderr",
     "output_type": "stream",
     "text": [
      "\r",
      "stem:  97%|█████████▋| 48360/50000 [10:31<00:19, 82.54it/s]"
     ]
    },
    {
     "name": "stderr",
     "output_type": "stream",
     "text": [
      "\r",
      "stem:  97%|█████████▋| 48348/50000 [10:31<00:22, 73.39it/s]"
     ]
    },
    {
     "name": "stderr",
     "output_type": "stream",
     "text": [
      "\r",
      "stem:  97%|█████████▋| 48333/50000 [10:31<00:20, 80.86it/s]"
     ]
    },
    {
     "name": "stderr",
     "output_type": "stream",
     "text": [
      "\r",
      "stem:  97%|█████████▋| 48324/50000 [10:31<00:21, 79.80it/s]"
     ]
    },
    {
     "name": "stderr",
     "output_type": "stream",
     "text": [
      "\r",
      "stem:  97%|█████████▋| 48306/50000 [10:31<00:22, 74.38it/s]"
     ]
    },
    {
     "name": "stderr",
     "output_type": "stream",
     "text": [
      "\r",
      "stem:  97%|█████████▋| 48294/50000 [10:31<00:21, 79.89it/s]"
     ]
    },
    {
     "name": "stderr",
     "output_type": "stream",
     "text": [
      "\r",
      "stem:  97%|█████████▋| 48282/50000 [10:31<00:24, 70.06it/s]"
     ]
    },
    {
     "name": "stderr",
     "output_type": "stream",
     "text": [
      "\r",
      "stem:  97%|█████████▋| 48264/50000 [10:30<00:26, 64.45it/s]"
     ]
    },
    {
     "name": "stderr",
     "output_type": "stream",
     "text": [
      "\r",
      "stem:  97%|█████████▋| 48252/50000 [10:30<00:24, 72.01it/s]"
     ]
    },
    {
     "name": "stderr",
     "output_type": "stream",
     "text": [
      "\r",
      "stem:  96%|█████████▋| 48240/50000 [10:30<00:28, 62.07it/s]"
     ]
    },
    {
     "name": "stderr",
     "output_type": "stream",
     "text": [
      "\r",
      "stem:  96%|█████████▋| 48230/50000 [10:30<00:27, 64.89it/s]"
     ]
    },
    {
     "name": "stderr",
     "output_type": "stream",
     "text": [
      "\r",
      "stem:  96%|█████████▋| 48222/50000 [10:30<00:27, 64.52it/s]"
     ]
    },
    {
     "name": "stderr",
     "output_type": "stream",
     "text": [
      "\r",
      "stem:  96%|█████████▋| 48212/50000 [10:30<00:31, 56.91it/s]"
     ]
    },
    {
     "name": "stderr",
     "output_type": "stream",
     "text": [
      "\r",
      "stem:  96%|█████████▋| 48204/50000 [10:29<00:29, 61.92it/s]"
     ]
    },
    {
     "name": "stderr",
     "output_type": "stream",
     "text": [
      "\r",
      "stem:  96%|█████████▋| 48192/50000 [10:29<00:34, 52.37it/s]"
     ]
    },
    {
     "name": "stderr",
     "output_type": "stream",
     "text": [
      "\r",
      "stem:  96%|█████████▋| 48184/50000 [10:29<00:26, 67.95it/s]"
     ]
    },
    {
     "name": "stderr",
     "output_type": "stream",
     "text": [
      "\r",
      "stem:  96%|█████████▋| 48176/50000 [10:29<00:27, 67.29it/s]"
     ]
    },
    {
     "name": "stderr",
     "output_type": "stream",
     "text": [
      "\r",
      "stem:  96%|█████████▋| 48166/50000 [10:29<00:21, 85.12it/s]"
     ]
    },
    {
     "name": "stderr",
     "output_type": "stream",
     "text": [
      "\r",
      "stem:  96%|█████████▋| 48156/50000 [10:29<00:22, 81.38it/s]"
     ]
    },
    {
     "name": "stderr",
     "output_type": "stream",
     "text": [
      "\r",
      "stem:  96%|█████████▋| 48138/50000 [10:28<00:26, 70.14it/s]"
     ]
    },
    {
     "name": "stderr",
     "output_type": "stream",
     "text": [
      "\r",
      "stem:  96%|█████████▌| 48124/50000 [10:28<00:23, 78.56it/s]"
     ]
    },
    {
     "name": "stderr",
     "output_type": "stream",
     "text": [
      "\r",
      "stem:  96%|█████████▌| 48114/50000 [10:28<00:22, 82.29it/s]"
     ]
    },
    {
     "name": "stderr",
     "output_type": "stream",
     "text": [
      "\r",
      "stem:  96%|█████████▌| 48096/50000 [10:28<00:27, 70.31it/s]"
     ]
    },
    {
     "name": "stderr",
     "output_type": "stream",
     "text": [
      "\r",
      "stem:  96%|█████████▌| 48080/50000 [10:28<00:29, 65.53it/s]"
     ]
    },
    {
     "name": "stderr",
     "output_type": "stream",
     "text": [
      "\r",
      "stem:  96%|█████████▌| 48072/50000 [10:28<00:27, 69.18it/s]"
     ]
    },
    {
     "name": "stderr",
     "output_type": "stream",
     "text": [
      "\r",
      "stem:  96%|█████████▌| 48062/50000 [10:27<00:28, 67.37it/s]"
     ]
    },
    {
     "name": "stderr",
     "output_type": "stream",
     "text": [
      "\r",
      "stem:  96%|█████████▌| 48052/50000 [10:27<00:24, 79.30it/s]"
     ]
    },
    {
     "name": "stderr",
     "output_type": "stream",
     "text": [
      "\r",
      "stem:  96%|█████████▌| 48041/50000 [10:27<00:22, 88.50it/s]"
     ]
    },
    {
     "name": "stderr",
     "output_type": "stream",
     "text": [
      "\r",
      "stem:  96%|█████████▌| 48030/50000 [10:27<00:22, 86.26it/s]"
     ]
    },
    {
     "name": "stderr",
     "output_type": "stream",
     "text": [
      "\r",
      "stem:  96%|█████████▌| 48012/50000 [10:27<00:28, 70.70it/s]"
     ]
    },
    {
     "name": "stderr",
     "output_type": "stream",
     "text": [
      "\r",
      "stem:  96%|█████████▌| 48000/50000 [10:27<00:27, 73.55it/s]"
     ]
    },
    {
     "name": "stderr",
     "output_type": "stream",
     "text": [
      "\r",
      "stem:  96%|█████████▌| 47988/50000 [10:27<00:29, 68.70it/s]"
     ]
    },
    {
     "name": "stderr",
     "output_type": "stream",
     "text": [
      "\r",
      "stem:  96%|█████████▌| 47964/50000 [10:26<00:31, 63.87it/s]"
     ]
    },
    {
     "name": "stderr",
     "output_type": "stream",
     "text": [
      "\r",
      "stem:  96%|█████████▌| 47952/50000 [10:26<00:22, 89.59it/s]"
     ]
    },
    {
     "name": "stderr",
     "output_type": "stream",
     "text": [
      "\r",
      "stem:  96%|█████████▌| 47940/50000 [10:26<00:24, 82.82it/s]"
     ]
    },
    {
     "name": "stderr",
     "output_type": "stream",
     "text": [
      "\r",
      "stem:  96%|█████████▌| 47928/50000 [10:26<00:24, 83.12it/s]"
     ]
    },
    {
     "name": "stderr",
     "output_type": "stream",
     "text": [
      "\r",
      "stem:  96%|█████████▌| 47916/50000 [10:26<00:28, 74.13it/s]"
     ]
    },
    {
     "name": "stderr",
     "output_type": "stream",
     "text": [
      "\r",
      "stem:  96%|█████████▌| 47907/50000 [10:25<00:27, 77.20it/s]"
     ]
    },
    {
     "name": "stderr",
     "output_type": "stream",
     "text": [
      "\r",
      "stem:  96%|█████████▌| 47898/50000 [10:25<00:26, 80.18it/s]"
     ]
    },
    {
     "name": "stderr",
     "output_type": "stream",
     "text": [
      "\r",
      "stem:  96%|█████████▌| 47888/50000 [10:25<00:26, 80.19it/s]"
     ]
    },
    {
     "name": "stderr",
     "output_type": "stream",
     "text": [
      "\r",
      "stem:  96%|█████████▌| 47878/50000 [10:25<00:23, 88.54it/s]"
     ]
    },
    {
     "name": "stderr",
     "output_type": "stream",
     "text": [
      "\r",
      "stem:  96%|█████████▌| 47868/50000 [10:25<00:24, 86.03it/s]"
     ]
    },
    {
     "name": "stderr",
     "output_type": "stream",
     "text": [
      "\r",
      "stem:  96%|█████████▌| 47850/50000 [10:25<00:27, 79.57it/s]"
     ]
    },
    {
     "name": "stderr",
     "output_type": "stream",
     "text": [
      "\r",
      "stem:  96%|█████████▌| 47838/50000 [10:25<00:25, 83.28it/s]"
     ]
    },
    {
     "name": "stderr",
     "output_type": "stream",
     "text": [
      "\r",
      "stem:  96%|█████████▌| 47820/50000 [10:24<00:30, 71.14it/s]"
     ]
    },
    {
     "name": "stderr",
     "output_type": "stream",
     "text": [
      "\r",
      "stem:  96%|█████████▌| 47808/50000 [10:24<00:30, 70.96it/s]"
     ]
    },
    {
     "name": "stderr",
     "output_type": "stream",
     "text": [
      "\r",
      "stem:  96%|█████████▌| 47791/50000 [10:24<00:36, 60.65it/s]"
     ]
    },
    {
     "name": "stderr",
     "output_type": "stream",
     "text": [
      "\r",
      "stem:  96%|█████████▌| 47783/50000 [10:24<00:29, 74.85it/s]"
     ]
    },
    {
     "name": "stderr",
     "output_type": "stream",
     "text": [
      "\r",
      "stem:  96%|█████████▌| 47775/50000 [10:24<00:29, 75.36it/s]"
     ]
    },
    {
     "name": "stderr",
     "output_type": "stream",
     "text": [
      "\r",
      "stem:  96%|█████████▌| 47766/50000 [10:24<00:29, 75.06it/s]"
     ]
    },
    {
     "name": "stderr",
     "output_type": "stream",
     "text": [
      "\r",
      "stem:  96%|█████████▌| 47755/50000 [10:24<00:31, 70.95it/s]"
     ]
    },
    {
     "name": "stderr",
     "output_type": "stream",
     "text": [
      "\r",
      "stem:  95%|█████████▌| 47746/50000 [10:23<00:27, 83.25it/s]"
     ]
    },
    {
     "name": "stderr",
     "output_type": "stream",
     "text": [
      "\r",
      "stem:  95%|█████████▌| 47736/50000 [10:23<00:24, 92.28it/s]"
     ]
    },
    {
     "name": "stderr",
     "output_type": "stream",
     "text": [
      "\r",
      "stem:  95%|█████████▌| 47718/50000 [10:23<00:26, 86.57it/s]"
     ]
    },
    {
     "name": "stderr",
     "output_type": "stream",
     "text": [
      "\r",
      "stem:  95%|█████████▌| 47706/50000 [10:23<00:24, 92.79it/s]"
     ]
    },
    {
     "name": "stderr",
     "output_type": "stream",
     "text": [
      "\r",
      "stem:  95%|█████████▌| 47688/50000 [10:23<00:27, 83.95it/s]"
     ]
    },
    {
     "name": "stderr",
     "output_type": "stream",
     "text": [
      "\r",
      "stem:  95%|█████████▌| 47670/50000 [10:23<00:30, 77.54it/s]"
     ]
    },
    {
     "name": "stderr",
     "output_type": "stream",
     "text": [
      "\r",
      "stem:  95%|█████████▌| 47658/50000 [10:22<00:26, 87.36it/s]"
     ]
    },
    {
     "name": "stderr",
     "output_type": "stream",
     "text": [
      "\r",
      "stem:  95%|█████████▌| 47646/50000 [10:22<00:28, 83.57it/s]"
     ]
    },
    {
     "name": "stderr",
     "output_type": "stream",
     "text": [
      "\r",
      "stem:  95%|█████████▌| 47631/50000 [10:22<00:28, 84.45it/s]"
     ]
    },
    {
     "name": "stderr",
     "output_type": "stream",
     "text": [
      "\r",
      "stem:  95%|█████████▌| 47621/50000 [10:22<00:27, 86.45it/s]"
     ]
    },
    {
     "name": "stderr",
     "output_type": "stream",
     "text": [
      "\r",
      "stem:  95%|█████████▌| 47610/50000 [10:22<00:24, 95.95it/s]"
     ]
    },
    {
     "name": "stderr",
     "output_type": "stream",
     "text": [
      "\r",
      "stem:  95%|█████████▌| 47592/50000 [10:22<00:29, 81.89it/s]"
     ]
    },
    {
     "name": "stderr",
     "output_type": "stream",
     "text": [
      "\r",
      "stem:  95%|█████████▌| 47580/50000 [10:22<00:30, 78.69it/s]"
     ]
    },
    {
     "name": "stderr",
     "output_type": "stream",
     "text": [
      "\r",
      "stem:  95%|█████████▌| 47560/50000 [10:21<00:32, 75.25it/s]"
     ]
    },
    {
     "name": "stderr",
     "output_type": "stream",
     "text": [
      "\r",
      "stem:  95%|█████████▌| 47550/50000 [10:21<00:28, 84.75it/s]"
     ]
    },
    {
     "name": "stderr",
     "output_type": "stream",
     "text": [
      "\r",
      "stem:  95%|█████████▌| 47538/50000 [10:21<00:32, 75.40it/s]"
     ]
    },
    {
     "name": "stderr",
     "output_type": "stream",
     "text": [
      "\r",
      "stem:  95%|█████████▌| 47526/50000 [10:21<00:34, 72.35it/s]"
     ]
    },
    {
     "name": "stderr",
     "output_type": "stream",
     "text": [
      "\r",
      "stem:  95%|█████████▌| 47517/50000 [10:21<00:36, 68.91it/s]"
     ]
    },
    {
     "name": "stderr",
     "output_type": "stream",
     "text": [
      "\r",
      "stem:  95%|█████████▌| 47508/50000 [10:21<00:30, 80.40it/s]"
     ]
    },
    {
     "name": "stderr",
     "output_type": "stream",
     "text": [
      "\r",
      "stem:  95%|█████████▍| 47496/50000 [10:21<00:34, 72.83it/s]"
     ]
    },
    {
     "name": "stderr",
     "output_type": "stream",
     "text": [
      "\r",
      "stem:  95%|█████████▍| 47487/50000 [10:20<00:35, 71.05it/s]"
     ]
    },
    {
     "name": "stderr",
     "output_type": "stream",
     "text": [
      "\r",
      "stem:  95%|█████████▍| 47478/50000 [10:20<00:32, 78.40it/s]"
     ]
    },
    {
     "name": "stderr",
     "output_type": "stream",
     "text": [
      "\r",
      "stem:  95%|█████████▍| 47466/50000 [10:20<00:36, 70.15it/s]"
     ]
    },
    {
     "name": "stderr",
     "output_type": "stream",
     "text": [
      "\r",
      "stem:  95%|█████████▍| 47448/50000 [10:20<00:36, 69.33it/s]"
     ]
    },
    {
     "name": "stderr",
     "output_type": "stream",
     "text": [
      "\r",
      "stem:  95%|█████████▍| 47436/50000 [10:20<00:30, 83.04it/s]"
     ]
    },
    {
     "name": "stderr",
     "output_type": "stream",
     "text": [
      "\r",
      "stem:  95%|█████████▍| 47418/50000 [10:20<00:33, 77.85it/s]"
     ]
    },
    {
     "name": "stderr",
     "output_type": "stream",
     "text": [
      "\r",
      "stem:  95%|█████████▍| 47406/50000 [10:19<00:29, 87.71it/s]"
     ]
    },
    {
     "name": "stderr",
     "output_type": "stream",
     "text": [
      "\r",
      "stem:  95%|█████████▍| 47394/50000 [10:19<00:32, 79.53it/s]"
     ]
    },
    {
     "name": "stderr",
     "output_type": "stream",
     "text": [
      "\r",
      "stem:  95%|█████████▍| 47370/50000 [10:19<00:35, 73.65it/s]"
     ]
    },
    {
     "name": "stderr",
     "output_type": "stream",
     "text": [
      "\r",
      "stem:  95%|█████████▍| 47358/50000 [10:19<00:34, 75.96it/s]"
     ]
    },
    {
     "name": "stderr",
     "output_type": "stream",
     "text": [
      "\r",
      "stem:  95%|█████████▍| 47340/50000 [10:19<00:34, 76.48it/s]"
     ]
    },
    {
     "name": "stderr",
     "output_type": "stream",
     "text": [
      "\r",
      "stem:  95%|█████████▍| 47328/50000 [10:18<00:34, 76.44it/s]"
     ]
    },
    {
     "name": "stderr",
     "output_type": "stream",
     "text": [
      "\r",
      "stem:  95%|█████████▍| 47304/50000 [10:18<00:39, 68.00it/s]"
     ]
    },
    {
     "name": "stderr",
     "output_type": "stream",
     "text": [
      "\r",
      "stem:  95%|█████████▍| 47289/50000 [10:18<00:39, 68.71it/s]"
     ]
    },
    {
     "name": "stderr",
     "output_type": "stream",
     "text": [
      "\r",
      "stem:  95%|█████████▍| 47280/50000 [10:18<00:34, 79.55it/s]"
     ]
    },
    {
     "name": "stderr",
     "output_type": "stream",
     "text": [
      "\r",
      "stem:  95%|█████████▍| 47268/50000 [10:18<00:38, 70.63it/s]"
     ]
    },
    {
     "name": "stderr",
     "output_type": "stream",
     "text": [
      "\r",
      "stem:  95%|█████████▍| 47253/50000 [10:17<00:37, 74.11it/s]"
     ]
    },
    {
     "name": "stderr",
     "output_type": "stream",
     "text": [
      "\r",
      "stem:  94%|█████████▍| 47243/50000 [10:17<00:34, 79.52it/s]"
     ]
    },
    {
     "name": "stderr",
     "output_type": "stream",
     "text": [
      "\r",
      "stem:  94%|█████████▍| 47232/50000 [10:17<00:32, 83.90it/s]"
     ]
    },
    {
     "name": "stderr",
     "output_type": "stream",
     "text": [
      "\r",
      "stem:  94%|█████████▍| 47214/50000 [10:17<00:40, 69.31it/s]"
     ]
    },
    {
     "name": "stderr",
     "output_type": "stream",
     "text": [
      "\r",
      "stem:  94%|█████████▍| 47204/50000 [10:17<00:39, 70.35it/s]"
     ]
    },
    {
     "name": "stderr",
     "output_type": "stream",
     "text": [
      "\r",
      "stem:  94%|█████████▍| 47196/50000 [10:17<00:40, 69.03it/s]"
     ]
    },
    {
     "name": "stderr",
     "output_type": "stream",
     "text": [
      "\r",
      "stem:  94%|█████████▍| 47174/50000 [10:17<00:45, 62.51it/s]"
     ]
    },
    {
     "name": "stderr",
     "output_type": "stream",
     "text": [
      "\r",
      "stem:  94%|█████████▍| 47166/50000 [10:16<00:45, 62.42it/s]"
     ]
    },
    {
     "name": "stderr",
     "output_type": "stream",
     "text": [
      "\r",
      "stem:  94%|█████████▍| 47150/50000 [10:16<00:53, 53.59it/s]"
     ]
    },
    {
     "name": "stderr",
     "output_type": "stream",
     "text": [
      "\r",
      "stem:  94%|█████████▍| 47142/50000 [10:16<00:43, 65.06it/s]"
     ]
    },
    {
     "name": "stderr",
     "output_type": "stream",
     "text": [
      "\r",
      "stem:  94%|█████████▍| 47132/50000 [10:16<00:49, 57.51it/s]"
     ]
    },
    {
     "name": "stderr",
     "output_type": "stream",
     "text": [
      "\r",
      "stem:  94%|█████████▍| 47124/50000 [10:16<00:50, 56.95it/s]"
     ]
    },
    {
     "name": "stderr",
     "output_type": "stream",
     "text": [
      "\r",
      "stem:  94%|█████████▍| 47108/50000 [10:16<01:00, 47.59it/s]"
     ]
    },
    {
     "name": "stderr",
     "output_type": "stream",
     "text": [
      "\r",
      "stem:  94%|█████████▍| 47100/50000 [10:15<00:40, 70.81it/s]"
     ]
    },
    {
     "name": "stderr",
     "output_type": "stream",
     "text": [
      "\r",
      "stem:  94%|█████████▍| 47088/50000 [10:15<00:47, 61.63it/s]"
     ]
    },
    {
     "name": "stderr",
     "output_type": "stream",
     "text": [
      "\r",
      "stem:  94%|█████████▍| 47076/50000 [10:15<00:51, 57.26it/s]"
     ]
    },
    {
     "name": "stderr",
     "output_type": "stream",
     "text": [
      "\r",
      "stem:  94%|█████████▍| 47064/50000 [10:15<00:55, 53.32it/s]"
     ]
    },
    {
     "name": "stderr",
     "output_type": "stream",
     "text": [
      "\r",
      "stem:  94%|█████████▍| 47058/50000 [10:15<00:57, 51.11it/s]"
     ]
    },
    {
     "name": "stderr",
     "output_type": "stream",
     "text": [
      "\r",
      "stem:  94%|█████████▍| 47046/50000 [10:15<01:03, 46.43it/s]"
     ]
    },
    {
     "name": "stderr",
     "output_type": "stream",
     "text": [
      "\r",
      "stem:  94%|█████████▍| 47040/50000 [10:14<00:55, 52.98it/s]"
     ]
    },
    {
     "name": "stderr",
     "output_type": "stream",
     "text": [
      "\r",
      "stem:  94%|█████████▍| 47028/50000 [10:14<00:58, 50.81it/s]"
     ]
    },
    {
     "name": "stderr",
     "output_type": "stream",
     "text": [
      "\r",
      "stem:  94%|█████████▍| 47012/50000 [10:14<01:07, 44.55it/s]"
     ]
    },
    {
     "name": "stderr",
     "output_type": "stream",
     "text": [
      "\r",
      "stem:  94%|█████████▍| 47005/50000 [10:14<00:50, 58.96it/s]"
     ]
    },
    {
     "name": "stderr",
     "output_type": "stream",
     "text": [
      "\r",
      "stem:  94%|█████████▍| 46998/50000 [10:14<00:51, 58.37it/s]"
     ]
    },
    {
     "name": "stderr",
     "output_type": "stream",
     "text": [
      "\r",
      "stem:  94%|█████████▍| 46987/50000 [10:14<01:00, 49.87it/s]"
     ]
    },
    {
     "name": "stderr",
     "output_type": "stream",
     "text": [
      "\r",
      "stem:  94%|█████████▍| 46981/50000 [10:13<00:59, 51.03it/s]"
     ]
    },
    {
     "name": "stderr",
     "output_type": "stream",
     "text": [
      "\r",
      "stem:  94%|█████████▍| 46974/50000 [10:13<00:47, 63.99it/s]"
     ]
    },
    {
     "name": "stderr",
     "output_type": "stream",
     "text": [
      "\r",
      "stem:  94%|█████████▍| 46963/50000 [10:13<00:45, 66.46it/s]"
     ]
    },
    {
     "name": "stderr",
     "output_type": "stream",
     "text": [
      "\r",
      "stem:  94%|█████████▍| 46955/50000 [10:13<00:43, 70.54it/s]"
     ]
    },
    {
     "name": "stderr",
     "output_type": "stream",
     "text": [
      "\r",
      "stem:  94%|█████████▍| 46947/50000 [10:13<00:44, 69.06it/s]"
     ]
    },
    {
     "name": "stderr",
     "output_type": "stream",
     "text": [
      "\r",
      "stem:  94%|█████████▍| 46938/50000 [10:13<00:38, 80.02it/s]"
     ]
    },
    {
     "name": "stderr",
     "output_type": "stream",
     "text": [
      "\r",
      "stem:  94%|█████████▍| 46926/50000 [10:13<00:39, 77.64it/s]"
     ]
    },
    {
     "name": "stderr",
     "output_type": "stream",
     "text": [
      "\r",
      "stem:  94%|█████████▍| 46908/50000 [10:12<00:41, 74.51it/s]"
     ]
    },
    {
     "name": "stderr",
     "output_type": "stream",
     "text": [
      "\r",
      "stem:  94%|█████████▍| 46892/50000 [10:12<00:45, 67.85it/s]"
     ]
    },
    {
     "name": "stderr",
     "output_type": "stream",
     "text": [
      "\r",
      "stem:  94%|█████████▍| 46884/50000 [10:12<00:47, 64.97it/s]"
     ]
    },
    {
     "name": "stderr",
     "output_type": "stream",
     "text": [
      "\r",
      "stem:  94%|█████████▎| 46867/50000 [10:12<00:52, 59.27it/s]"
     ]
    },
    {
     "name": "stderr",
     "output_type": "stream",
     "text": [
      "\r",
      "stem:  94%|█████████▎| 46860/50000 [10:12<00:55, 56.95it/s]"
     ]
    },
    {
     "name": "stderr",
     "output_type": "stream",
     "text": [
      "\r",
      "stem:  94%|█████████▎| 46848/50000 [10:11<00:46, 67.36it/s]"
     ]
    },
    {
     "name": "stderr",
     "output_type": "stream",
     "text": [
      "\r",
      "stem:  94%|█████████▎| 46838/50000 [10:11<00:51, 61.88it/s]"
     ]
    },
    {
     "name": "stderr",
     "output_type": "stream",
     "text": [
      "\r",
      "stem:  94%|█████████▎| 46830/50000 [10:11<00:45, 69.09it/s]"
     ]
    },
    {
     "name": "stderr",
     "output_type": "stream",
     "text": [
      "\r",
      "stem:  94%|█████████▎| 46818/50000 [10:11<00:54, 58.51it/s]"
     ]
    },
    {
     "name": "stderr",
     "output_type": "stream",
     "text": [
      "\r",
      "stem:  94%|█████████▎| 46806/50000 [10:11<00:47, 66.94it/s]"
     ]
    },
    {
     "name": "stderr",
     "output_type": "stream",
     "text": [
      "\r",
      "stem:  94%|█████████▎| 46793/50000 [10:11<00:45, 70.14it/s]"
     ]
    },
    {
     "name": "stderr",
     "output_type": "stream",
     "text": [
      "\r",
      "stem:  94%|█████████▎| 46785/50000 [10:10<00:45, 70.51it/s]"
     ]
    },
    {
     "name": "stderr",
     "output_type": "stream",
     "text": [
      "\r",
      "stem:  94%|█████████▎| 46776/50000 [10:10<00:43, 73.98it/s]"
     ]
    },
    {
     "name": "stderr",
     "output_type": "stream",
     "text": [
      "\r",
      "stem:  94%|█████████▎| 46762/50000 [10:10<00:42, 76.19it/s]"
     ]
    },
    {
     "name": "stderr",
     "output_type": "stream",
     "text": [
      "\r",
      "stem:  94%|█████████▎| 46752/50000 [10:10<00:36, 89.69it/s]"
     ]
    },
    {
     "name": "stderr",
     "output_type": "stream",
     "text": [
      "\r",
      "stem:  93%|█████████▎| 46734/50000 [10:10<00:41, 79.57it/s]"
     ]
    },
    {
     "name": "stderr",
     "output_type": "stream",
     "text": [
      "\r",
      "stem:  93%|█████████▎| 46716/50000 [10:10<00:44, 73.90it/s]"
     ]
    },
    {
     "name": "stderr",
     "output_type": "stream",
     "text": [
      "\r",
      "stem:  93%|█████████▎| 46698/50000 [10:09<00:45, 71.94it/s]"
     ]
    },
    {
     "name": "stderr",
     "output_type": "stream",
     "text": [
      "\r",
      "stem:  93%|█████████▎| 46686/50000 [10:09<00:53, 61.87it/s]"
     ]
    },
    {
     "name": "stderr",
     "output_type": "stream",
     "text": [
      "\r",
      "stem:  93%|█████████▎| 46676/50000 [10:09<00:52, 63.65it/s]"
     ]
    },
    {
     "name": "stderr",
     "output_type": "stream",
     "text": [
      "\r",
      "stem:  93%|█████████▎| 46668/50000 [10:09<00:45, 72.84it/s]"
     ]
    },
    {
     "name": "stderr",
     "output_type": "stream",
     "text": [
      "\r",
      "stem:  93%|█████████▎| 46650/50000 [10:09<00:44, 74.65it/s]"
     ]
    },
    {
     "name": "stderr",
     "output_type": "stream",
     "text": [
      "\r",
      "stem:  93%|█████████▎| 46638/50000 [10:09<00:49, 67.52it/s]"
     ]
    },
    {
     "name": "stderr",
     "output_type": "stream",
     "text": [
      "\r",
      "stem:  93%|█████████▎| 46630/50000 [10:08<00:48, 69.62it/s]"
     ]
    },
    {
     "name": "stderr",
     "output_type": "stream",
     "text": [
      "\r",
      "stem:  93%|█████████▎| 46620/50000 [10:08<00:38, 87.49it/s]"
     ]
    },
    {
     "name": "stderr",
     "output_type": "stream",
     "text": [
      "\r",
      "stem:  93%|█████████▎| 46608/50000 [10:08<00:41, 82.58it/s]"
     ]
    },
    {
     "name": "stderr",
     "output_type": "stream",
     "text": [
      "\r",
      "stem:  93%|█████████▎| 46596/50000 [10:08<00:38, 87.30it/s]"
     ]
    },
    {
     "name": "stderr",
     "output_type": "stream",
     "text": [
      "\r",
      "stem:  93%|█████████▎| 46584/50000 [10:08<00:41, 82.36it/s]"
     ]
    },
    {
     "name": "stderr",
     "output_type": "stream",
     "text": [
      "\r",
      "stem:  93%|█████████▎| 46575/50000 [10:08<00:41, 82.25it/s]"
     ]
    },
    {
     "name": "stderr",
     "output_type": "stream",
     "text": [
      "\r",
      "stem:  93%|█████████▎| 46566/50000 [10:08<00:43, 79.34it/s]"
     ]
    },
    {
     "name": "stderr",
     "output_type": "stream",
     "text": [
      "\r",
      "stem:  93%|█████████▎| 46554/50000 [10:08<00:48, 71.63it/s]"
     ]
    },
    {
     "name": "stderr",
     "output_type": "stream",
     "text": [
      "\r",
      "stem:  93%|█████████▎| 46530/50000 [10:07<00:53, 65.14it/s]"
     ]
    },
    {
     "name": "stderr",
     "output_type": "stream",
     "text": [
      "\r",
      "stem:  93%|█████████▎| 46518/50000 [10:07<00:42, 81.75it/s]"
     ]
    },
    {
     "name": "stderr",
     "output_type": "stream",
     "text": [
      "\r",
      "stem:  93%|█████████▎| 46500/50000 [10:07<00:36, 96.87it/s]"
     ]
    },
    {
     "name": "stderr",
     "output_type": "stream",
     "text": [
      "\r",
      "stem:  93%|█████████▎| 46488/50000 [10:07<00:36, 95.30it/s]"
     ]
    },
    {
     "name": "stderr",
     "output_type": "stream",
     "text": [
      "\r",
      "stem:  93%|█████████▎| 46476/50000 [10:06<00:38, 90.91it/s]"
     ]
    },
    {
     "name": "stderr",
     "output_type": "stream",
     "text": [
      "\r",
      "stem:  93%|█████████▎| 46455/50000 [10:06<00:41, 85.54it/s]"
     ]
    },
    {
     "name": "stderr",
     "output_type": "stream",
     "text": [
      "\r",
      "stem:  93%|█████████▎| 46446/50000 [10:06<00:41, 85.30it/s]"
     ]
    },
    {
     "name": "stderr",
     "output_type": "stream",
     "text": [
      "\r",
      "stem:  93%|█████████▎| 46434/50000 [10:06<00:35, 99.77it/s]"
     ]
    },
    {
     "name": "stderr",
     "output_type": "stream",
     "text": [
      "\r",
      "stem:  93%|█████████▎| 46422/50000 [10:06<00:36, 99.18it/s] "
     ]
    },
    {
     "name": "stderr",
     "output_type": "stream",
     "text": [
      "\r",
      "stem:  93%|█████████▎| 46410/50000 [10:06<00:34, 103.35it/s]"
     ]
    },
    {
     "name": "stderr",
     "output_type": "stream",
     "text": [
      "\r",
      "stem:  93%|█████████▎| 46398/50000 [10:06<00:35, 102.00it/s]"
     ]
    },
    {
     "name": "stderr",
     "output_type": "stream",
     "text": [
      "\r",
      "stem:  93%|█████████▎| 46386/50000 [10:05<00:37, 96.22it/s]"
     ]
    },
    {
     "name": "stderr",
     "output_type": "stream",
     "text": [
      "\r",
      "stem:  93%|█████████▎| 46374/50000 [10:05<00:38, 93.54it/s]"
     ]
    },
    {
     "name": "stderr",
     "output_type": "stream",
     "text": [
      "\r",
      "stem:  93%|█████████▎| 46362/50000 [10:05<00:40, 90.28it/s]"
     ]
    },
    {
     "name": "stderr",
     "output_type": "stream",
     "text": [
      "\r",
      "stem:  93%|█████████▎| 46344/50000 [10:05<00:40, 90.54it/s]"
     ]
    },
    {
     "name": "stderr",
     "output_type": "stream",
     "text": [
      "\r",
      "stem:  93%|█████████▎| 46320/50000 [10:05<00:37, 98.58it/s]"
     ]
    },
    {
     "name": "stderr",
     "output_type": "stream",
     "text": [
      "\r",
      "stem:  93%|█████████▎| 46302/50000 [10:05<00:37, 98.36it/s]"
     ]
    },
    {
     "name": "stderr",
     "output_type": "stream",
     "text": [
      "\r",
      "stem:  93%|█████████▎| 46290/50000 [10:04<00:40, 92.08it/s]"
     ]
    },
    {
     "name": "stderr",
     "output_type": "stream",
     "text": [
      "\r",
      "stem:  93%|█████████▎| 46272/50000 [10:04<00:46, 79.81it/s]"
     ]
    },
    {
     "name": "stderr",
     "output_type": "stream",
     "text": [
      "\r",
      "stem:  93%|█████████▎| 46260/50000 [10:04<00:51, 72.47it/s]"
     ]
    },
    {
     "name": "stderr",
     "output_type": "stream",
     "text": [
      "\r",
      "stem:  92%|█████████▏| 46249/50000 [10:04<00:51, 72.20it/s]"
     ]
    },
    {
     "name": "stderr",
     "output_type": "stream",
     "text": [
      "\r",
      "stem:  92%|█████████▏| 46240/50000 [10:04<00:47, 79.88it/s]"
     ]
    },
    {
     "name": "stderr",
     "output_type": "stream",
     "text": [
      "\r",
      "stem:  92%|█████████▏| 46230/50000 [10:04<00:41, 90.02it/s]"
     ]
    },
    {
     "name": "stderr",
     "output_type": "stream",
     "text": [
      "\r",
      "stem:  92%|█████████▏| 46218/50000 [10:04<00:41, 90.22it/s]"
     ]
    },
    {
     "name": "stderr",
     "output_type": "stream",
     "text": [
      "\r",
      "stem:  92%|█████████▏| 46206/50000 [10:03<00:41, 92.35it/s]"
     ]
    },
    {
     "name": "stderr",
     "output_type": "stream",
     "text": [
      "\r",
      "stem:  92%|█████████▏| 46188/50000 [10:03<00:44, 86.57it/s]"
     ]
    },
    {
     "name": "stderr",
     "output_type": "stream",
     "text": [
      "\r",
      "stem:  92%|█████████▏| 46170/50000 [10:03<00:43, 87.44it/s]"
     ]
    },
    {
     "name": "stderr",
     "output_type": "stream",
     "text": [
      "\r",
      "stem:  92%|█████████▏| 46158/50000 [10:03<00:39, 98.38it/s]"
     ]
    },
    {
     "name": "stderr",
     "output_type": "stream",
     "text": [
      "\r",
      "stem:  92%|█████████▏| 46140/50000 [10:03<00:43, 88.48it/s]"
     ]
    },
    {
     "name": "stderr",
     "output_type": "stream",
     "text": [
      "\r",
      "stem:  92%|█████████▏| 46128/50000 [10:03<00:39, 98.70it/s]"
     ]
    },
    {
     "name": "stderr",
     "output_type": "stream",
     "text": [
      "\r",
      "stem:  92%|█████████▏| 46110/50000 [10:03<00:46, 83.61it/s]"
     ]
    },
    {
     "name": "stderr",
     "output_type": "stream",
     "text": [
      "\r",
      "stem:  92%|█████████▏| 46095/50000 [10:02<00:52, 74.90it/s]"
     ]
    },
    {
     "name": "stderr",
     "output_type": "stream",
     "text": [
      "\r",
      "stem:  92%|█████████▏| 46086/50000 [10:02<00:52, 74.62it/s]"
     ]
    },
    {
     "name": "stderr",
     "output_type": "stream",
     "text": [
      "\r",
      "stem:  92%|█████████▏| 46062/50000 [10:02<01:01, 64.24it/s]"
     ]
    },
    {
     "name": "stderr",
     "output_type": "stream",
     "text": [
      "\r",
      "stem:  92%|█████████▏| 46050/50000 [10:02<00:51, 76.70it/s]"
     ]
    },
    {
     "name": "stderr",
     "output_type": "stream",
     "text": [
      "\r",
      "stem:  92%|█████████▏| 46032/50000 [10:02<00:56, 70.65it/s]"
     ]
    },
    {
     "name": "stderr",
     "output_type": "stream",
     "text": [
      "\r",
      "stem:  92%|█████████▏| 46018/50000 [10:01<00:55, 71.86it/s]"
     ]
    },
    {
     "name": "stderr",
     "output_type": "stream",
     "text": [
      "\r",
      "stem:  92%|█████████▏| 46010/50000 [10:01<00:55, 72.14it/s]"
     ]
    },
    {
     "name": "stderr",
     "output_type": "stream",
     "text": [
      "\r",
      "stem:  92%|█████████▏| 46002/50000 [10:01<00:54, 73.19it/s]"
     ]
    },
    {
     "name": "stderr",
     "output_type": "stream",
     "text": [
      "\r",
      "stem:  92%|█████████▏| 45993/50000 [10:01<00:57, 70.02it/s]"
     ]
    },
    {
     "name": "stderr",
     "output_type": "stream",
     "text": [
      "\r",
      "stem:  92%|█████████▏| 45984/50000 [10:01<00:53, 75.59it/s]"
     ]
    },
    {
     "name": "stderr",
     "output_type": "stream",
     "text": [
      "\r",
      "stem:  92%|█████████▏| 45972/50000 [10:01<00:55, 71.94it/s]"
     ]
    },
    {
     "name": "stderr",
     "output_type": "stream",
     "text": [
      "\r",
      "stem:  92%|█████████▏| 45960/50000 [10:01<01:04, 62.87it/s]"
     ]
    },
    {
     "name": "stderr",
     "output_type": "stream",
     "text": [
      "\r",
      "stem:  92%|█████████▏| 45948/50000 [10:00<01:02, 65.06it/s]"
     ]
    },
    {
     "name": "stderr",
     "output_type": "stream",
     "text": [
      "\r",
      "stem:  92%|█████████▏| 45936/50000 [10:00<00:56, 72.09it/s]"
     ]
    },
    {
     "name": "stderr",
     "output_type": "stream",
     "text": [
      "\r",
      "stem:  92%|█████████▏| 45912/50000 [10:00<00:59, 68.50it/s]"
     ]
    },
    {
     "name": "stderr",
     "output_type": "stream",
     "text": [
      "\r",
      "stem:  92%|█████████▏| 45896/50000 [10:00<01:07, 61.19it/s]"
     ]
    },
    {
     "name": "stderr",
     "output_type": "stream",
     "text": [
      "\r",
      "stem:  92%|█████████▏| 45888/50000 [10:00<00:55, 73.85it/s]"
     ]
    },
    {
     "name": "stderr",
     "output_type": "stream",
     "text": [
      "\r",
      "stem:  92%|█████████▏| 45880/50000 [10:00<00:56, 73.29it/s]"
     ]
    },
    {
     "name": "stderr",
     "output_type": "stream",
     "text": [
      "\r",
      "stem:  92%|█████████▏| 45871/50000 [09:59<00:52, 78.37it/s]"
     ]
    },
    {
     "name": "stderr",
     "output_type": "stream",
     "text": [
      "\r",
      "stem:  92%|█████████▏| 45862/50000 [09:59<00:52, 78.66it/s]"
     ]
    },
    {
     "name": "stderr",
     "output_type": "stream",
     "text": [
      "\r",
      "stem:  92%|█████████▏| 45852/50000 [09:59<00:50, 82.91it/s]"
     ]
    },
    {
     "name": "stderr",
     "output_type": "stream",
     "text": [
      "\r",
      "stem:  92%|█████████▏| 45828/50000 [09:59<00:58, 71.91it/s]"
     ]
    },
    {
     "name": "stderr",
     "output_type": "stream",
     "text": [
      "\r",
      "stem:  92%|█████████▏| 45804/50000 [09:59<01:03, 66.19it/s]"
     ]
    },
    {
     "name": "stderr",
     "output_type": "stream",
     "text": [
      "\r",
      "stem:  92%|█████████▏| 45792/50000 [09:58<00:58, 72.27it/s]"
     ]
    },
    {
     "name": "stderr",
     "output_type": "stream",
     "text": [
      "\r",
      "stem:  92%|█████████▏| 45774/50000 [09:58<01:03, 67.04it/s]"
     ]
    },
    {
     "name": "stderr",
     "output_type": "stream",
     "text": [
      "\r",
      "stem:  92%|█████████▏| 45756/50000 [09:58<01:02, 67.85it/s]"
     ]
    },
    {
     "name": "stderr",
     "output_type": "stream",
     "text": [
      "\r",
      "stem:  91%|█████████▏| 45744/50000 [09:58<01:05, 65.11it/s]"
     ]
    },
    {
     "name": "stderr",
     "output_type": "stream",
     "text": [
      "\r",
      "stem:  91%|█████████▏| 45732/50000 [09:58<01:06, 63.82it/s]"
     ]
    },
    {
     "name": "stderr",
     "output_type": "stream",
     "text": [
      "\r",
      "stem:  91%|█████████▏| 45717/50000 [09:57<01:10, 60.41it/s]"
     ]
    },
    {
     "name": "stderr",
     "output_type": "stream",
     "text": [
      "\r",
      "stem:  91%|█████████▏| 45708/50000 [09:57<00:54, 78.45it/s]"
     ]
    },
    {
     "name": "stderr",
     "output_type": "stream",
     "text": [
      "\r",
      "stem:  91%|█████████▏| 45694/50000 [09:57<01:02, 69.19it/s]"
     ]
    },
    {
     "name": "stderr",
     "output_type": "stream",
     "text": [
      "\r",
      "stem:  91%|█████████▏| 45685/50000 [09:57<00:58, 74.13it/s]"
     ]
    },
    {
     "name": "stderr",
     "output_type": "stream",
     "text": [
      "\r",
      "stem:  91%|█████████▏| 45676/50000 [09:57<01:00, 71.69it/s]"
     ]
    },
    {
     "name": "stderr",
     "output_type": "stream",
     "text": [
      "\r",
      "stem:  91%|█████████▏| 45666/50000 [09:57<00:57, 75.01it/s]"
     ]
    },
    {
     "name": "stderr",
     "output_type": "stream",
     "text": [
      "\r",
      "stem:  91%|█████████▏| 45649/50000 [09:57<01:11, 60.90it/s]"
     ]
    },
    {
     "name": "stderr",
     "output_type": "stream",
     "text": [
      "\r",
      "stem:  91%|█████████▏| 45642/50000 [09:56<01:09, 62.76it/s]"
     ]
    },
    {
     "name": "stderr",
     "output_type": "stream",
     "text": [
      "\r",
      "stem:  91%|█████████▏| 45630/50000 [09:56<01:15, 58.13it/s]"
     ]
    },
    {
     "name": "stderr",
     "output_type": "stream",
     "text": [
      "\r",
      "stem:  91%|█████████ | 45619/50000 [09:56<01:22, 53.39it/s]"
     ]
    },
    {
     "name": "stderr",
     "output_type": "stream",
     "text": [
      "\r",
      "stem:  91%|█████████ | 45612/50000 [09:56<01:11, 61.21it/s]"
     ]
    },
    {
     "name": "stderr",
     "output_type": "stream",
     "text": [
      "\r",
      "stem:  91%|█████████ | 45602/50000 [09:56<01:14, 58.74it/s]"
     ]
    },
    {
     "name": "stderr",
     "output_type": "stream",
     "text": [
      "\r",
      "stem:  91%|█████████ | 45594/50000 [09:56<01:17, 57.10it/s]"
     ]
    },
    {
     "name": "stderr",
     "output_type": "stream",
     "text": [
      "\r",
      "stem:  91%|█████████ | 45585/50000 [09:55<01:12, 61.27it/s]"
     ]
    },
    {
     "name": "stderr",
     "output_type": "stream",
     "text": [
      "\r",
      "stem:  91%|█████████ | 45576/50000 [09:55<01:16, 57.94it/s]"
     ]
    },
    {
     "name": "stderr",
     "output_type": "stream",
     "text": [
      "\r",
      "stem:  91%|█████████ | 45559/50000 [09:55<01:37, 45.41it/s]"
     ]
    },
    {
     "name": "stderr",
     "output_type": "stream",
     "text": [
      "\r",
      "stem:  91%|█████████ | 45552/50000 [09:55<01:22, 53.78it/s]"
     ]
    },
    {
     "name": "stderr",
     "output_type": "stream",
     "text": [
      "\r",
      "stem:  91%|█████████ | 45530/50000 [09:55<01:33, 48.05it/s]"
     ]
    },
    {
     "name": "stderr",
     "output_type": "stream",
     "text": [
      "\r",
      "stem:  91%|█████████ | 45522/50000 [09:54<01:06, 67.29it/s]"
     ]
    },
    {
     "name": "stderr",
     "output_type": "stream",
     "text": [
      "\r",
      "stem:  91%|█████████ | 45512/50000 [09:54<01:06, 67.67it/s]"
     ]
    },
    {
     "name": "stderr",
     "output_type": "stream",
     "text": [
      "\r",
      "stem:  91%|█████████ | 45504/50000 [09:54<01:07, 66.97it/s]"
     ]
    },
    {
     "name": "stderr",
     "output_type": "stream",
     "text": [
      "\r",
      "stem:  91%|█████████ | 45486/50000 [09:54<01:12, 62.31it/s]"
     ]
    },
    {
     "name": "stderr",
     "output_type": "stream",
     "text": [
      "\r",
      "stem:  91%|█████████ | 45474/50000 [09:54<01:12, 62.05it/s]"
     ]
    },
    {
     "name": "stderr",
     "output_type": "stream",
     "text": [
      "\r",
      "stem:  91%|█████████ | 45462/50000 [09:54<01:17, 58.46it/s]"
     ]
    },
    {
     "name": "stderr",
     "output_type": "stream",
     "text": [
      "\r",
      "stem:  91%|█████████ | 45453/50000 [09:53<01:14, 60.80it/s]"
     ]
    },
    {
     "name": "stderr",
     "output_type": "stream",
     "text": [
      "\r",
      "stem:  91%|█████████ | 45444/50000 [09:53<01:24, 53.66it/s]"
     ]
    },
    {
     "name": "stderr",
     "output_type": "stream",
     "text": [
      "\r",
      "stem:  91%|█████████ | 45426/50000 [09:53<01:48, 42.18it/s]"
     ]
    },
    {
     "name": "stderr",
     "output_type": "stream",
     "text": [
      "\r",
      "stem:  91%|█████████ | 45417/50000 [09:53<01:18, 58.15it/s]"
     ]
    },
    {
     "name": "stderr",
     "output_type": "stream",
     "text": [
      "\r",
      "stem:  91%|█████████ | 45408/50000 [09:53<01:10, 65.54it/s]"
     ]
    },
    {
     "name": "stderr",
     "output_type": "stream",
     "text": [
      "\r",
      "stem:  91%|█████████ | 45390/50000 [09:53<01:26, 53.15it/s]"
     ]
    },
    {
     "name": "stderr",
     "output_type": "stream",
     "text": [
      "\r",
      "stem:  91%|█████████ | 45379/50000 [09:52<01:27, 52.88it/s]"
     ]
    },
    {
     "name": "stderr",
     "output_type": "stream",
     "text": [
      "\r",
      "stem:  91%|█████████ | 45372/50000 [09:52<01:21, 56.68it/s]"
     ]
    },
    {
     "name": "stderr",
     "output_type": "stream",
     "text": [
      "\r",
      "stem:  91%|█████████ | 45355/50000 [09:52<01:31, 50.50it/s]"
     ]
    },
    {
     "name": "stderr",
     "output_type": "stream",
     "text": [
      "\r",
      "stem:  91%|█████████ | 45348/50000 [09:52<01:17, 59.96it/s]"
     ]
    },
    {
     "name": "stderr",
     "output_type": "stream",
     "text": [
      "\r",
      "stem:  91%|█████████ | 45336/50000 [09:52<01:23, 55.91it/s]"
     ]
    },
    {
     "name": "stderr",
     "output_type": "stream",
     "text": [
      "\r",
      "stem:  91%|█████████ | 45324/50000 [09:51<01:29, 51.98it/s]"
     ]
    },
    {
     "name": "stderr",
     "output_type": "stream",
     "text": [
      "\r",
      "stem:  91%|█████████ | 45312/50000 [09:51<01:31, 51.45it/s]"
     ]
    },
    {
     "name": "stderr",
     "output_type": "stream",
     "text": [
      "\r",
      "stem:  91%|█████████ | 45300/50000 [09:51<01:25, 54.95it/s]"
     ]
    },
    {
     "name": "stderr",
     "output_type": "stream",
     "text": [
      "\r",
      "stem:  91%|█████████ | 45288/50000 [09:51<01:28, 53.18it/s]"
     ]
    },
    {
     "name": "stderr",
     "output_type": "stream",
     "text": [
      "\r",
      "stem:  91%|█████████ | 45276/50000 [09:50<01:09, 68.01it/s]"
     ]
    },
    {
     "name": "stderr",
     "output_type": "stream",
     "text": [
      "\r",
      "stem:  91%|█████████ | 45258/50000 [09:50<01:26, 54.94it/s]"
     ]
    },
    {
     "name": "stderr",
     "output_type": "stream",
     "text": [
      "\r",
      "stem:  90%|█████████ | 45240/50000 [09:50<01:29, 53.10it/s]"
     ]
    },
    {
     "name": "stderr",
     "output_type": "stream",
     "text": [
      "\r",
      "stem:  90%|█████████ | 45228/50000 [09:50<01:33, 51.28it/s]"
     ]
    },
    {
     "name": "stderr",
     "output_type": "stream",
     "text": [
      "\r",
      "stem:  90%|█████████ | 45222/50000 [09:50<01:30, 52.64it/s]"
     ]
    },
    {
     "name": "stderr",
     "output_type": "stream",
     "text": [
      "\r",
      "stem:  90%|█████████ | 45214/50000 [09:49<01:20, 59.54it/s]"
     ]
    },
    {
     "name": "stderr",
     "output_type": "stream",
     "text": [
      "\r",
      "stem:  90%|█████████ | 45206/50000 [09:49<01:16, 62.91it/s]"
     ]
    },
    {
     "name": "stderr",
     "output_type": "stream",
     "text": [
      "\r",
      "stem:  90%|█████████ | 45198/50000 [09:49<01:15, 63.87it/s]"
     ]
    },
    {
     "name": "stderr",
     "output_type": "stream",
     "text": [
      "\r",
      "stem:  90%|█████████ | 45181/50000 [09:49<01:26, 55.99it/s]"
     ]
    },
    {
     "name": "stderr",
     "output_type": "stream",
     "text": [
      "\r",
      "stem:  90%|█████████ | 45172/50000 [09:49<01:15, 63.87it/s]"
     ]
    },
    {
     "name": "stderr",
     "output_type": "stream",
     "text": [
      "\r",
      "stem:  90%|█████████ | 45162/50000 [09:49<01:11, 67.99it/s]"
     ]
    },
    {
     "name": "stderr",
     "output_type": "stream",
     "text": [
      "\r",
      "stem:  90%|█████████ | 45144/50000 [09:49<01:29, 54.56it/s]"
     ]
    },
    {
     "name": "stderr",
     "output_type": "stream",
     "text": [
      "\r",
      "stem:  90%|█████████ | 45132/50000 [09:48<01:14, 64.93it/s]"
     ]
    },
    {
     "name": "stderr",
     "output_type": "stream",
     "text": [
      "\r",
      "stem:  90%|█████████ | 45120/50000 [09:48<01:26, 56.17it/s]"
     ]
    },
    {
     "name": "stderr",
     "output_type": "stream",
     "text": [
      "\r",
      "stem:  90%|█████████ | 45108/50000 [09:48<01:21, 60.01it/s]"
     ]
    },
    {
     "name": "stderr",
     "output_type": "stream",
     "text": [
      "\r",
      "stem:  90%|█████████ | 45096/50000 [09:48<01:27, 55.77it/s]"
     ]
    },
    {
     "name": "stderr",
     "output_type": "stream",
     "text": [
      "\r",
      "stem:  90%|█████████ | 45084/50000 [09:47<01:24, 58.39it/s]"
     ]
    },
    {
     "name": "stderr",
     "output_type": "stream",
     "text": [
      "\r",
      "stem:  90%|█████████ | 45074/50000 [09:47<01:16, 64.31it/s]"
     ]
    },
    {
     "name": "stderr",
     "output_type": "stream",
     "text": [
      "\r",
      "stem:  90%|█████████ | 45066/50000 [09:47<01:22, 59.97it/s]"
     ]
    },
    {
     "name": "stderr",
     "output_type": "stream",
     "text": [
      "\r",
      "stem:  90%|█████████ | 45044/50000 [09:47<01:30, 54.95it/s]"
     ]
    },
    {
     "name": "stderr",
     "output_type": "stream",
     "text": [
      "\r",
      "stem:  90%|█████████ | 45036/50000 [09:47<01:22, 60.27it/s]"
     ]
    },
    {
     "name": "stderr",
     "output_type": "stream",
     "text": [
      "\r",
      "stem:  90%|█████████ | 45015/50000 [09:46<01:36, 51.92it/s]"
     ]
    },
    {
     "name": "stderr",
     "output_type": "stream",
     "text": [
      "\r",
      "stem:  90%|█████████ | 45006/50000 [09:46<01:08, 73.21it/s]"
     ]
    },
    {
     "name": "stderr",
     "output_type": "stream",
     "text": [
      "\r",
      "stem:  90%|████████▉ | 44990/50000 [09:46<01:20, 62.12it/s]"
     ]
    },
    {
     "name": "stderr",
     "output_type": "stream",
     "text": [
      "\r",
      "stem:  90%|████████▉ | 44982/50000 [09:46<01:07, 74.15it/s]"
     ]
    },
    {
     "name": "stderr",
     "output_type": "stream",
     "text": [
      "\r",
      "stem:  90%|████████▉ | 44964/50000 [09:46<01:13, 68.72it/s]"
     ]
    },
    {
     "name": "stderr",
     "output_type": "stream",
     "text": [
      "\r",
      "stem:  90%|████████▉ | 44952/50000 [09:46<01:20, 62.93it/s]"
     ]
    },
    {
     "name": "stderr",
     "output_type": "stream",
     "text": [
      "\r",
      "stem:  90%|████████▉ | 44943/50000 [09:45<01:27, 57.70it/s]"
     ]
    },
    {
     "name": "stderr",
     "output_type": "stream",
     "text": [
      "\r",
      "stem:  90%|████████▉ | 44936/50000 [09:45<01:24, 59.78it/s]"
     ]
    },
    {
     "name": "stderr",
     "output_type": "stream",
     "text": [
      "\r",
      "stem:  90%|████████▉ | 44929/50000 [09:45<01:22, 61.25it/s]"
     ]
    },
    {
     "name": "stderr",
     "output_type": "stream",
     "text": [
      "\r",
      "stem:  90%|████████▉ | 44922/50000 [09:45<01:25, 59.10it/s]"
     ]
    },
    {
     "name": "stderr",
     "output_type": "stream",
     "text": [
      "\r",
      "stem:  90%|████████▉ | 44910/50000 [09:45<01:33, 54.58it/s]"
     ]
    },
    {
     "name": "stderr",
     "output_type": "stream",
     "text": [
      "\r",
      "stem:  90%|████████▉ | 44899/50000 [09:45<01:40, 50.64it/s]"
     ]
    },
    {
     "name": "stderr",
     "output_type": "stream",
     "text": [
      "\r",
      "stem:  90%|████████▉ | 44892/50000 [09:45<01:37, 52.46it/s]"
     ]
    },
    {
     "name": "stderr",
     "output_type": "stream",
     "text": [
      "\r",
      "stem:  90%|████████▉ | 44884/50000 [09:44<01:18, 64.82it/s]"
     ]
    },
    {
     "name": "stderr",
     "output_type": "stream",
     "text": [
      "\r",
      "stem:  90%|████████▉ | 44874/50000 [09:44<01:05, 78.10it/s]"
     ]
    },
    {
     "name": "stderr",
     "output_type": "stream",
     "text": [
      "\r",
      "stem:  90%|████████▉ | 44856/50000 [09:44<01:17, 65.97it/s]"
     ]
    },
    {
     "name": "stderr",
     "output_type": "stream",
     "text": [
      "\r",
      "stem:  90%|████████▉ | 44841/50000 [09:44<01:18, 65.76it/s]"
     ]
    },
    {
     "name": "stderr",
     "output_type": "stream",
     "text": [
      "\r",
      "stem:  90%|████████▉ | 44832/50000 [09:44<01:21, 63.41it/s]"
     ]
    },
    {
     "name": "stderr",
     "output_type": "stream",
     "text": [
      "\r",
      "stem:  90%|████████▉ | 44820/50000 [09:43<01:05, 79.12it/s]"
     ]
    },
    {
     "name": "stderr",
     "output_type": "stream",
     "text": [
      "\r",
      "stem:  90%|████████▉ | 44796/50000 [09:43<01:16, 68.45it/s] "
     ]
    },
    {
     "name": "stderr",
     "output_type": "stream",
     "text": [
      "\r",
      "stem:  90%|████████▉ | 44784/50000 [09:43<00:51, 101.93it/s]"
     ]
    },
    {
     "name": "stderr",
     "output_type": "stream",
     "text": [
      "\r",
      "stem:  90%|████████▉ | 44770/50000 [09:43<00:55, 94.27it/s]"
     ]
    },
    {
     "name": "stderr",
     "output_type": "stream",
     "text": [
      "\r",
      "stem:  90%|████████▉ | 44759/50000 [09:43<00:54, 96.62it/s]"
     ]
    },
    {
     "name": "stderr",
     "output_type": "stream",
     "text": [
      "\r",
      "stem:  89%|████████▉ | 44748/50000 [09:43<00:56, 93.64it/s]"
     ]
    },
    {
     "name": "stderr",
     "output_type": "stream",
     "text": [
      "\r",
      "stem:  89%|████████▉ | 44736/50000 [09:42<00:55, 94.39it/s]"
     ]
    },
    {
     "name": "stderr",
     "output_type": "stream",
     "text": [
      "\r",
      "stem:  89%|████████▉ | 44712/50000 [09:42<01:06, 79.47it/s]"
     ]
    },
    {
     "name": "stderr",
     "output_type": "stream",
     "text": [
      "\r",
      "stem:  89%|████████▉ | 44700/50000 [09:42<01:04, 82.57it/s]"
     ]
    },
    {
     "name": "stderr",
     "output_type": "stream",
     "text": [
      "\r",
      "stem:  89%|████████▉ | 44688/50000 [09:42<01:07, 79.14it/s]"
     ]
    },
    {
     "name": "stderr",
     "output_type": "stream",
     "text": [
      "\r",
      "stem:  89%|████████▉ | 44670/50000 [09:42<01:12, 73.30it/s]"
     ]
    },
    {
     "name": "stderr",
     "output_type": "stream",
     "text": [
      "\r",
      "stem:  89%|████████▉ | 44658/50000 [09:42<01:03, 83.69it/s]"
     ]
    },
    {
     "name": "stderr",
     "output_type": "stream",
     "text": [
      "\r",
      "stem:  89%|████████▉ | 44646/50000 [09:41<01:10, 75.48it/s]"
     ]
    },
    {
     "name": "stderr",
     "output_type": "stream",
     "text": [
      "\r",
      "stem:  89%|████████▉ | 44628/50000 [09:41<01:26, 61.98it/s]"
     ]
    },
    {
     "name": "stderr",
     "output_type": "stream",
     "text": [
      "\r",
      "stem:  89%|████████▉ | 44619/50000 [09:41<01:08, 78.08it/s]"
     ]
    },
    {
     "name": "stderr",
     "output_type": "stream",
     "text": [
      "\r",
      "stem:  89%|████████▉ | 44610/50000 [09:41<01:10, 76.94it/s]"
     ]
    },
    {
     "name": "stderr",
     "output_type": "stream",
     "text": [
      "\r",
      "stem:  89%|████████▉ | 44598/50000 [09:41<01:11, 75.93it/s]"
     ]
    },
    {
     "name": "stderr",
     "output_type": "stream",
     "text": [
      "\r",
      "stem:  89%|████████▉ | 44586/50000 [09:41<01:14, 72.22it/s]"
     ]
    },
    {
     "name": "stderr",
     "output_type": "stream",
     "text": [
      "\r",
      "stem:  89%|████████▉ | 44574/50000 [09:41<01:19, 68.41it/s]"
     ]
    },
    {
     "name": "stderr",
     "output_type": "stream",
     "text": [
      "\r",
      "stem:  89%|████████▉ | 44550/50000 [09:40<01:34, 57.63it/s]"
     ]
    },
    {
     "name": "stderr",
     "output_type": "stream",
     "text": [
      "\r",
      "stem:  89%|████████▉ | 44536/50000 [09:40<01:28, 61.69it/s]"
     ]
    },
    {
     "name": "stderr",
     "output_type": "stream",
     "text": [
      "\r",
      "stem:  89%|████████▉ | 44528/50000 [09:40<01:11, 76.34it/s]"
     ]
    },
    {
     "name": "stderr",
     "output_type": "stream",
     "text": [
      "\r",
      "stem:  89%|████████▉ | 44520/50000 [09:40<01:11, 76.65it/s]"
     ]
    },
    {
     "name": "stderr",
     "output_type": "stream",
     "text": [
      "\r",
      "stem:  89%|████████▉ | 44511/50000 [09:40<01:07, 81.65it/s]"
     ]
    },
    {
     "name": "stderr",
     "output_type": "stream",
     "text": [
      "\r",
      "stem:  89%|████████▉ | 44502/50000 [09:40<01:06, 82.93it/s]"
     ]
    },
    {
     "name": "stderr",
     "output_type": "stream",
     "text": [
      "\r",
      "stem:  89%|████████▉ | 44490/50000 [09:39<01:13, 74.50it/s]"
     ]
    },
    {
     "name": "stderr",
     "output_type": "stream",
     "text": [
      "\r",
      "stem:  89%|████████▉ | 44479/50000 [09:39<01:12, 75.68it/s]"
     ]
    },
    {
     "name": "stderr",
     "output_type": "stream",
     "text": [
      "\r",
      "stem:  89%|████████▉ | 44470/50000 [09:39<01:09, 79.12it/s]"
     ]
    },
    {
     "name": "stderr",
     "output_type": "stream",
     "text": [
      "\r",
      "stem:  89%|████████▉ | 44460/50000 [09:39<01:04, 85.58it/s]"
     ]
    },
    {
     "name": "stderr",
     "output_type": "stream",
     "text": [
      "\r",
      "stem:  89%|████████▉ | 44448/50000 [09:39<01:09, 79.81it/s]"
     ]
    },
    {
     "name": "stderr",
     "output_type": "stream",
     "text": [
      "\r",
      "stem:  89%|████████▉ | 44436/50000 [09:39<01:11, 77.49it/s]"
     ]
    },
    {
     "name": "stderr",
     "output_type": "stream",
     "text": [
      "\r",
      "stem:  89%|████████▉ | 44424/50000 [09:39<01:03, 87.28it/s]"
     ]
    },
    {
     "name": "stderr",
     "output_type": "stream",
     "text": [
      "\r",
      "stem:  89%|████████▉ | 44412/50000 [09:38<01:09, 79.84it/s]"
     ]
    },
    {
     "name": "stderr",
     "output_type": "stream",
     "text": [
      "\r",
      "stem:  89%|████████▉ | 44400/50000 [09:38<01:17, 71.90it/s]"
     ]
    },
    {
     "name": "stderr",
     "output_type": "stream",
     "text": [
      "\r",
      "stem:  89%|████████▉ | 44388/50000 [09:38<01:10, 79.78it/s]"
     ]
    },
    {
     "name": "stderr",
     "output_type": "stream",
     "text": [
      "\r",
      "stem:  89%|████████▊ | 44370/50000 [09:38<01:15, 74.62it/s]"
     ]
    },
    {
     "name": "stderr",
     "output_type": "stream",
     "text": [
      "\r",
      "stem:  89%|████████▊ | 44358/50000 [09:38<01:02, 90.72it/s]"
     ]
    },
    {
     "name": "stderr",
     "output_type": "stream",
     "text": [
      "\r",
      "stem:  89%|████████▊ | 44346/50000 [09:38<00:59, 94.94it/s]"
     ]
    },
    {
     "name": "stderr",
     "output_type": "stream",
     "text": [
      "\r",
      "stem:  89%|████████▊ | 44328/50000 [09:37<01:08, 82.97it/s]"
     ]
    },
    {
     "name": "stderr",
     "output_type": "stream",
     "text": [
      "\r",
      "stem:  89%|████████▊ | 44310/50000 [09:37<01:15, 75.11it/s]"
     ]
    },
    {
     "name": "stderr",
     "output_type": "stream",
     "text": [
      "\r",
      "stem:  89%|████████▊ | 44298/50000 [09:37<01:12, 78.49it/s]"
     ]
    },
    {
     "name": "stderr",
     "output_type": "stream",
     "text": [
      "\r",
      "stem:  89%|████████▊ | 44286/50000 [09:37<01:07, 84.43it/s]"
     ]
    },
    {
     "name": "stderr",
     "output_type": "stream",
     "text": [
      "\r",
      "stem:  89%|████████▊ | 44268/50000 [09:37<01:18, 72.79it/s]"
     ]
    },
    {
     "name": "stderr",
     "output_type": "stream",
     "text": [
      "\r",
      "stem:  88%|████████▊ | 44250/50000 [09:37<01:31, 63.07it/s]"
     ]
    },
    {
     "name": "stderr",
     "output_type": "stream",
     "text": [
      "\r",
      "stem:  88%|████████▊ | 44238/50000 [09:37<01:42, 56.44it/s]"
     ]
    },
    {
     "name": "stderr",
     "output_type": "stream",
     "text": [
      "\r",
      "stem:  88%|████████▊ | 44226/50000 [09:36<01:44, 55.42it/s]"
     ]
    },
    {
     "name": "stderr",
     "output_type": "stream",
     "text": [
      "\r",
      "stem:  88%|████████▊ | 44216/50000 [09:36<01:56, 49.49it/s]"
     ]
    },
    {
     "name": "stderr",
     "output_type": "stream",
     "text": [
      "\r",
      "stem:  88%|████████▊ | 44209/50000 [09:36<01:50, 52.52it/s]"
     ]
    },
    {
     "name": "stderr",
     "output_type": "stream",
     "text": [
      "\r",
      "stem:  88%|████████▊ | 44202/50000 [09:36<01:52, 51.61it/s]"
     ]
    },
    {
     "name": "stderr",
     "output_type": "stream",
     "text": [
      "\r",
      "stem:  88%|████████▊ | 44191/50000 [09:36<01:38, 59.27it/s]"
     ]
    },
    {
     "name": "stderr",
     "output_type": "stream",
     "text": [
      "\r",
      "stem:  88%|████████▊ | 44182/50000 [09:35<01:33, 62.36it/s]"
     ]
    },
    {
     "name": "stderr",
     "output_type": "stream",
     "text": [
      "\r",
      "stem:  88%|████████▊ | 44172/50000 [09:35<01:12, 80.46it/s]"
     ]
    },
    {
     "name": "stderr",
     "output_type": "stream",
     "text": [
      "\r",
      "stem:  88%|████████▊ | 44158/50000 [09:35<01:24, 69.06it/s]"
     ]
    },
    {
     "name": "stderr",
     "output_type": "stream",
     "text": [
      "\r",
      "stem:  88%|████████▊ | 44148/50000 [09:35<01:15, 77.86it/s]"
     ]
    },
    {
     "name": "stderr",
     "output_type": "stream",
     "text": [
      "\r",
      "stem:  88%|████████▊ | 44131/50000 [09:35<01:32, 63.64it/s]"
     ]
    },
    {
     "name": "stderr",
     "output_type": "stream",
     "text": [
      "\r",
      "stem:  88%|████████▊ | 44123/50000 [09:35<01:19, 73.98it/s]"
     ]
    },
    {
     "name": "stderr",
     "output_type": "stream",
     "text": [
      "\r",
      "stem:  88%|████████▊ | 44114/50000 [09:35<01:13, 79.61it/s]"
     ]
    },
    {
     "name": "stderr",
     "output_type": "stream",
     "text": [
      "\r",
      "stem:  88%|████████▊ | 44104/50000 [09:34<01:07, 87.26it/s]"
     ]
    },
    {
     "name": "stderr",
     "output_type": "stream",
     "text": [
      "\r",
      "stem:  88%|████████▊ | 44093/50000 [09:34<01:01, 96.56it/s]"
     ]
    },
    {
     "name": "stderr",
     "output_type": "stream",
     "text": [
      "\r",
      "stem:  88%|████████▊ | 44082/50000 [09:34<01:03, 93.51it/s] "
     ]
    },
    {
     "name": "stderr",
     "output_type": "stream",
     "text": [
      "\r",
      "stem:  88%|████████▊ | 44070/50000 [09:34<00:56, 104.17it/s]"
     ]
    },
    {
     "name": "stderr",
     "output_type": "stream",
     "text": [
      "\r",
      "stem:  88%|████████▊ | 44052/50000 [09:34<01:04, 92.78it/s]"
     ]
    },
    {
     "name": "stderr",
     "output_type": "stream",
     "text": [
      "\r",
      "stem:  88%|████████▊ | 44039/50000 [09:34<01:02, 95.17it/s] "
     ]
    },
    {
     "name": "stderr",
     "output_type": "stream",
     "text": [
      "\r",
      "stem:  88%|████████▊ | 44028/50000 [09:34<00:59, 100.84it/s]"
     ]
    },
    {
     "name": "stderr",
     "output_type": "stream",
     "text": [
      "\r",
      "stem:  88%|████████▊ | 44016/50000 [09:33<00:59, 99.85it/s]"
     ]
    },
    {
     "name": "stderr",
     "output_type": "stream",
     "text": [
      "\r",
      "stem:  88%|████████▊ | 43998/50000 [09:33<01:09, 86.87it/s]"
     ]
    },
    {
     "name": "stderr",
     "output_type": "stream",
     "text": [
      "\r",
      "stem:  88%|████████▊ | 43986/50000 [09:33<01:13, 81.57it/s]"
     ]
    },
    {
     "name": "stderr",
     "output_type": "stream",
     "text": [
      "\r",
      "stem:  88%|████████▊ | 43968/50000 [09:33<01:15, 79.97it/s]"
     ]
    },
    {
     "name": "stderr",
     "output_type": "stream",
     "text": [
      "\r",
      "stem:  88%|████████▊ | 43956/50000 [09:33<01:16, 78.67it/s]"
     ]
    },
    {
     "name": "stderr",
     "output_type": "stream",
     "text": [
      "\r",
      "stem:  88%|████████▊ | 43932/50000 [09:33<01:25, 71.13it/s]"
     ]
    },
    {
     "name": "stderr",
     "output_type": "stream",
     "text": [
      "\r",
      "stem:  88%|████████▊ | 43908/50000 [09:32<01:32, 66.01it/s]"
     ]
    },
    {
     "name": "stderr",
     "output_type": "stream",
     "text": [
      "\r",
      "stem:  88%|████████▊ | 43897/50000 [09:32<01:33, 65.38it/s]"
     ]
    },
    {
     "name": "stderr",
     "output_type": "stream",
     "text": [
      "\r",
      "stem:  88%|████████▊ | 43888/50000 [09:32<01:20, 76.02it/s]"
     ]
    },
    {
     "name": "stderr",
     "output_type": "stream",
     "text": [
      "\r",
      "stem:  88%|████████▊ | 43878/50000 [09:32<01:08, 89.60it/s]"
     ]
    },
    {
     "name": "stderr",
     "output_type": "stream",
     "text": [
      "\r",
      "stem:  88%|████████▊ | 43865/50000 [09:32<01:16, 80.39it/s]"
     ]
    },
    {
     "name": "stderr",
     "output_type": "stream",
     "text": [
      "\r",
      "stem:  88%|████████▊ | 43854/50000 [09:32<01:03, 97.15it/s]"
     ]
    },
    {
     "name": "stderr",
     "output_type": "stream",
     "text": [
      "\r",
      "stem:  88%|████████▊ | 43842/50000 [09:31<01:06, 93.07it/s]"
     ]
    },
    {
     "name": "stderr",
     "output_type": "stream",
     "text": [
      "\r",
      "stem:  88%|████████▊ | 43830/50000 [09:31<01:06, 92.45it/s] "
     ]
    },
    {
     "name": "stderr",
     "output_type": "stream",
     "text": [
      "\r",
      "stem:  88%|████████▊ | 43818/50000 [09:31<00:58, 106.37it/s]"
     ]
    },
    {
     "name": "stderr",
     "output_type": "stream",
     "text": [
      "\r",
      "stem:  88%|████████▊ | 43800/50000 [09:31<01:01, 101.53it/s]"
     ]
    },
    {
     "name": "stderr",
     "output_type": "stream",
     "text": [
      "\r",
      "stem:  88%|████████▊ | 43782/50000 [09:31<01:08, 91.40it/s] "
     ]
    },
    {
     "name": "stderr",
     "output_type": "stream",
     "text": [
      "\r",
      "stem:  88%|████████▊ | 43770/50000 [09:31<00:58, 106.23it/s]"
     ]
    },
    {
     "name": "stderr",
     "output_type": "stream",
     "text": [
      "\r",
      "stem:  88%|████████▊ | 43752/50000 [09:31<01:06, 93.54it/s]"
     ]
    },
    {
     "name": "stderr",
     "output_type": "stream",
     "text": [
      "\r",
      "stem:  87%|████████▋ | 43734/50000 [09:30<01:07, 92.67it/s]"
     ]
    },
    {
     "name": "stderr",
     "output_type": "stream",
     "text": [
      "\r",
      "stem:  87%|████████▋ | 43722/50000 [09:30<01:08, 91.17it/s]"
     ]
    },
    {
     "name": "stderr",
     "output_type": "stream",
     "text": [
      "\r",
      "stem:  87%|████████▋ | 43710/50000 [09:30<01:04, 97.85it/s]"
     ]
    },
    {
     "name": "stderr",
     "output_type": "stream",
     "text": [
      "\r",
      "stem:  87%|████████▋ | 43698/50000 [09:30<01:07, 92.78it/s]"
     ]
    },
    {
     "name": "stderr",
     "output_type": "stream",
     "text": [
      "\r",
      "stem:  87%|████████▋ | 43686/50000 [09:30<01:11, 88.29it/s]"
     ]
    },
    {
     "name": "stderr",
     "output_type": "stream",
     "text": [
      "\r",
      "stem:  87%|████████▋ | 43662/50000 [09:30<01:24, 74.78it/s]"
     ]
    },
    {
     "name": "stderr",
     "output_type": "stream",
     "text": [
      "\r",
      "stem:  87%|████████▋ | 43638/50000 [09:29<01:35, 66.69it/s]"
     ]
    },
    {
     "name": "stderr",
     "output_type": "stream",
     "text": [
      "\r",
      "stem:  87%|████████▋ | 43617/50000 [09:29<01:29, 71.44it/s]"
     ]
    },
    {
     "name": "stderr",
     "output_type": "stream",
     "text": [
      "\r",
      "stem:  87%|████████▋ | 43608/50000 [09:29<01:25, 74.64it/s]"
     ]
    },
    {
     "name": "stderr",
     "output_type": "stream",
     "text": [
      "\r",
      "stem:  87%|████████▋ | 43587/50000 [09:29<01:34, 67.70it/s]"
     ]
    },
    {
     "name": "stderr",
     "output_type": "stream",
     "text": [
      "\r",
      "stem:  87%|████████▋ | 43578/50000 [09:29<01:18, 81.79it/s]"
     ]
    },
    {
     "name": "stderr",
     "output_type": "stream",
     "text": [
      "\r",
      "stem:  87%|████████▋ | 43566/50000 [09:28<01:19, 81.00it/s]"
     ]
    },
    {
     "name": "stderr",
     "output_type": "stream",
     "text": [
      "\r",
      "stem:  87%|████████▋ | 43548/50000 [09:28<01:31, 70.71it/s]"
     ]
    },
    {
     "name": "stderr",
     "output_type": "stream",
     "text": [
      "\r",
      "stem:  87%|████████▋ | 43536/50000 [09:28<01:29, 72.58it/s]"
     ]
    },
    {
     "name": "stderr",
     "output_type": "stream",
     "text": [
      "\r",
      "stem:  87%|████████▋ | 43524/50000 [09:28<01:24, 76.69it/s]"
     ]
    },
    {
     "name": "stderr",
     "output_type": "stream",
     "text": [
      "\r",
      "stem:  87%|████████▋ | 43512/50000 [09:28<01:25, 76.10it/s]"
     ]
    },
    {
     "name": "stderr",
     "output_type": "stream",
     "text": [
      "\r",
      "stem:  87%|████████▋ | 43500/50000 [09:28<01:30, 71.58it/s]"
     ]
    },
    {
     "name": "stderr",
     "output_type": "stream",
     "text": [
      "\r",
      "stem:  87%|████████▋ | 43488/50000 [09:27<01:46, 61.32it/s]"
     ]
    },
    {
     "name": "stderr",
     "output_type": "stream",
     "text": [
      "\r",
      "stem:  87%|████████▋ | 43470/50000 [09:27<01:48, 60.35it/s]"
     ]
    },
    {
     "name": "stderr",
     "output_type": "stream",
     "text": [
      "\r",
      "stem:  87%|████████▋ | 43458/50000 [09:27<01:31, 71.83it/s]"
     ]
    },
    {
     "name": "stderr",
     "output_type": "stream",
     "text": [
      "\r",
      "stem:  87%|████████▋ | 43440/50000 [09:27<01:35, 68.43it/s]"
     ]
    },
    {
     "name": "stderr",
     "output_type": "stream",
     "text": [
      "\r",
      "stem:  87%|████████▋ | 43428/50000 [09:26<01:18, 84.09it/s]"
     ]
    },
    {
     "name": "stderr",
     "output_type": "stream",
     "text": [
      "\r",
      "stem:  87%|████████▋ | 43416/50000 [09:26<01:13, 89.05it/s]"
     ]
    },
    {
     "name": "stderr",
     "output_type": "stream",
     "text": [
      "\r",
      "stem:  87%|████████▋ | 43398/50000 [09:26<01:29, 73.48it/s]"
     ]
    },
    {
     "name": "stderr",
     "output_type": "stream",
     "text": [
      "\r",
      "stem:  87%|████████▋ | 43376/50000 [09:26<01:38, 67.45it/s]"
     ]
    },
    {
     "name": "stderr",
     "output_type": "stream",
     "text": [
      "\r",
      "stem:  87%|████████▋ | 43366/50000 [09:26<01:18, 84.39it/s]"
     ]
    },
    {
     "name": "stderr",
     "output_type": "stream",
     "text": [
      "\r",
      "stem:  87%|████████▋ | 43356/50000 [09:26<01:17, 86.19it/s]"
     ]
    },
    {
     "name": "stderr",
     "output_type": "stream",
     "text": [
      "\r",
      "stem:  87%|████████▋ | 43332/50000 [09:25<01:27, 76.49it/s]"
     ]
    },
    {
     "name": "stderr",
     "output_type": "stream",
     "text": [
      "\r",
      "stem:  87%|████████▋ | 43320/50000 [09:25<01:13, 91.16it/s]"
     ]
    },
    {
     "name": "stderr",
     "output_type": "stream",
     "text": [
      "\r",
      "stem:  87%|████████▋ | 43308/50000 [09:25<01:08, 97.54it/s]"
     ]
    },
    {
     "name": "stderr",
     "output_type": "stream",
     "text": [
      "\r",
      "stem:  87%|████████▋ | 43284/50000 [09:25<01:14, 89.80it/s]"
     ]
    },
    {
     "name": "stderr",
     "output_type": "stream",
     "text": [
      "\r",
      "stem:  87%|████████▋ | 43272/50000 [09:25<01:19, 84.66it/s]"
     ]
    },
    {
     "name": "stderr",
     "output_type": "stream",
     "text": [
      "\r",
      "stem:  87%|████████▋ | 43260/50000 [09:25<01:20, 84.18it/s]"
     ]
    },
    {
     "name": "stderr",
     "output_type": "stream",
     "text": [
      "\r",
      "stem:  86%|████████▋ | 43248/50000 [09:24<01:24, 79.57it/s]"
     ]
    },
    {
     "name": "stderr",
     "output_type": "stream",
     "text": [
      "\r",
      "stem:  86%|████████▋ | 43234/50000 [09:24<01:18, 86.16it/s]"
     ]
    },
    {
     "name": "stderr",
     "output_type": "stream",
     "text": [
      "\r",
      "stem:  86%|████████▋ | 43224/50000 [09:24<01:14, 90.98it/s]"
     ]
    },
    {
     "name": "stderr",
     "output_type": "stream",
     "text": [
      "\r",
      "stem:  86%|████████▋ | 43212/50000 [09:24<01:18, 85.94it/s]"
     ]
    },
    {
     "name": "stderr",
     "output_type": "stream",
     "text": [
      "\r",
      "stem:  86%|████████▋ | 43188/50000 [09:24<01:31, 74.48it/s]"
     ]
    },
    {
     "name": "stderr",
     "output_type": "stream",
     "text": [
      "\r",
      "stem:  86%|████████▋ | 43176/50000 [09:24<01:31, 74.74it/s]"
     ]
    },
    {
     "name": "stderr",
     "output_type": "stream",
     "text": [
      "\r",
      "stem:  86%|████████▋ | 43164/50000 [09:24<01:44, 65.18it/s]"
     ]
    },
    {
     "name": "stderr",
     "output_type": "stream",
     "text": [
      "\r",
      "stem:  86%|████████▋ | 43144/50000 [09:23<01:34, 72.65it/s]"
     ]
    },
    {
     "name": "stderr",
     "output_type": "stream",
     "text": [
      "\r",
      "stem:  86%|████████▋ | 43134/50000 [09:23<01:22, 83.53it/s]"
     ]
    },
    {
     "name": "stderr",
     "output_type": "stream",
     "text": [
      "\r",
      "stem:  86%|████████▌ | 43116/50000 [09:23<01:32, 74.59it/s]"
     ]
    },
    {
     "name": "stderr",
     "output_type": "stream",
     "text": [
      "\r",
      "stem:  86%|████████▌ | 43098/50000 [09:23<01:26, 79.38it/s] "
     ]
    },
    {
     "name": "stderr",
     "output_type": "stream",
     "text": [
      "\r",
      "stem:  86%|████████▌ | 43086/50000 [09:22<01:07, 102.96it/s]"
     ]
    },
    {
     "name": "stderr",
     "output_type": "stream",
     "text": [
      "\r",
      "stem:  86%|████████▌ | 43074/50000 [09:22<01:10, 98.71it/s]"
     ]
    },
    {
     "name": "stderr",
     "output_type": "stream",
     "text": [
      "\r",
      "stem:  86%|████████▌ | 43056/50000 [09:22<01:20, 86.28it/s]"
     ]
    },
    {
     "name": "stderr",
     "output_type": "stream",
     "text": [
      "\r",
      "stem:  86%|████████▌ | 43038/50000 [09:22<01:21, 85.02it/s]"
     ]
    },
    {
     "name": "stderr",
     "output_type": "stream",
     "text": [
      "\r",
      "stem:  86%|████████▌ | 43026/50000 [09:22<01:29, 77.98it/s]"
     ]
    },
    {
     "name": "stderr",
     "output_type": "stream",
     "text": [
      "\r",
      "stem:  86%|████████▌ | 43014/50000 [09:22<01:23, 83.26it/s]"
     ]
    },
    {
     "name": "stderr",
     "output_type": "stream",
     "text": [
      "\r",
      "stem:  86%|████████▌ | 43002/50000 [09:22<01:32, 75.50it/s]"
     ]
    },
    {
     "name": "stderr",
     "output_type": "stream",
     "text": [
      "\r",
      "stem:  86%|████████▌ | 42990/50000 [09:21<01:33, 75.26it/s]"
     ]
    },
    {
     "name": "stderr",
     "output_type": "stream",
     "text": [
      "\r",
      "stem:  86%|████████▌ | 42972/50000 [09:21<01:51, 62.94it/s]"
     ]
    },
    {
     "name": "stderr",
     "output_type": "stream",
     "text": [
      "\r",
      "stem:  86%|████████▌ | 42957/50000 [09:21<01:39, 70.52it/s]"
     ]
    },
    {
     "name": "stderr",
     "output_type": "stream",
     "text": [
      "\r",
      "stem:  86%|████████▌ | 42947/50000 [09:21<01:20, 87.37it/s]"
     ]
    },
    {
     "name": "stderr",
     "output_type": "stream",
     "text": [
      "\r",
      "stem:  86%|████████▌ | 42936/50000 [09:21<01:15, 94.16it/s]"
     ]
    },
    {
     "name": "stderr",
     "output_type": "stream",
     "text": [
      "\r",
      "stem:  86%|████████▌ | 42918/50000 [09:20<01:28, 80.20it/s]"
     ]
    },
    {
     "name": "stderr",
     "output_type": "stream",
     "text": [
      "\r",
      "stem:  86%|████████▌ | 42904/50000 [09:20<01:22, 85.73it/s]"
     ]
    },
    {
     "name": "stderr",
     "output_type": "stream",
     "text": [
      "\r",
      "stem:  86%|████████▌ | 42894/50000 [09:20<01:22, 86.61it/s]"
     ]
    },
    {
     "name": "stderr",
     "output_type": "stream",
     "text": [
      "\r",
      "stem:  86%|████████▌ | 42882/50000 [09:20<01:26, 82.53it/s]"
     ]
    },
    {
     "name": "stderr",
     "output_type": "stream",
     "text": [
      "\r",
      "stem:  86%|████████▌ | 42864/50000 [09:20<01:29, 79.65it/s]"
     ]
    },
    {
     "name": "stderr",
     "output_type": "stream",
     "text": [
      "\r",
      "stem:  86%|████████▌ | 42852/50000 [09:20<01:30, 78.64it/s]"
     ]
    },
    {
     "name": "stderr",
     "output_type": "stream",
     "text": [
      "\r",
      "stem:  86%|████████▌ | 42840/50000 [09:20<01:40, 71.22it/s]"
     ]
    },
    {
     "name": "stderr",
     "output_type": "stream",
     "text": [
      "\r",
      "stem:  86%|████████▌ | 42828/50000 [09:19<01:49, 65.69it/s]"
     ]
    },
    {
     "name": "stderr",
     "output_type": "stream",
     "text": [
      "\r",
      "stem:  86%|████████▌ | 42819/50000 [09:19<01:58, 60.52it/s]"
     ]
    },
    {
     "name": "stderr",
     "output_type": "stream",
     "text": [
      "\r",
      "stem:  86%|████████▌ | 42810/50000 [09:19<01:29, 80.24it/s]"
     ]
    },
    {
     "name": "stderr",
     "output_type": "stream",
     "text": [
      "\r",
      "stem:  86%|████████▌ | 42798/50000 [09:19<01:40, 71.62it/s]"
     ]
    },
    {
     "name": "stderr",
     "output_type": "stream",
     "text": [
      "\r",
      "stem:  86%|████████▌ | 42789/50000 [09:19<01:32, 77.72it/s]"
     ]
    },
    {
     "name": "stderr",
     "output_type": "stream",
     "text": [
      "\r",
      "stem:  86%|████████▌ | 42780/50000 [09:19<01:35, 75.89it/s]"
     ]
    },
    {
     "name": "stderr",
     "output_type": "stream",
     "text": [
      "\r",
      "stem:  86%|████████▌ | 42768/50000 [09:19<01:35, 75.43it/s]"
     ]
    },
    {
     "name": "stderr",
     "output_type": "stream",
     "text": [
      "\r",
      "stem:  85%|████████▌ | 42747/50000 [09:18<01:49, 66.03it/s]"
     ]
    },
    {
     "name": "stderr",
     "output_type": "stream",
     "text": [
      "\r",
      "stem:  85%|████████▌ | 42738/50000 [09:18<01:28, 82.29it/s]"
     ]
    },
    {
     "name": "stderr",
     "output_type": "stream",
     "text": [
      "\r",
      "stem:  85%|████████▌ | 42726/50000 [09:18<01:21, 88.87it/s]"
     ]
    },
    {
     "name": "stderr",
     "output_type": "stream",
     "text": [
      "\r",
      "stem:  85%|████████▌ | 42714/50000 [09:18<01:31, 80.02it/s]"
     ]
    },
    {
     "name": "stderr",
     "output_type": "stream",
     "text": [
      "\r",
      "stem:  85%|████████▌ | 42702/50000 [09:18<01:31, 79.48it/s]"
     ]
    },
    {
     "name": "stderr",
     "output_type": "stream",
     "text": [
      "\r",
      "stem:  85%|████████▌ | 42690/50000 [09:18<01:40, 72.64it/s]"
     ]
    },
    {
     "name": "stderr",
     "output_type": "stream",
     "text": [
      "\r",
      "stem:  85%|████████▌ | 42678/50000 [09:17<01:29, 81.44it/s]"
     ]
    },
    {
     "name": "stderr",
     "output_type": "stream",
     "text": [
      "\r",
      "stem:  85%|████████▌ | 42666/50000 [09:17<01:33, 78.08it/s]"
     ]
    },
    {
     "name": "stderr",
     "output_type": "stream",
     "text": [
      "\r",
      "stem:  85%|████████▌ | 42654/50000 [09:17<01:38, 74.80it/s]"
     ]
    },
    {
     "name": "stderr",
     "output_type": "stream",
     "text": [
      "\r",
      "stem:  85%|████████▌ | 42642/50000 [09:17<01:33, 78.83it/s]"
     ]
    },
    {
     "name": "stderr",
     "output_type": "stream",
     "text": [
      "\r",
      "stem:  85%|████████▌ | 42628/50000 [09:17<01:34, 77.89it/s]"
     ]
    },
    {
     "name": "stderr",
     "output_type": "stream",
     "text": [
      "\r",
      "stem:  85%|████████▌ | 42618/50000 [09:17<01:22, 89.36it/s]"
     ]
    },
    {
     "name": "stderr",
     "output_type": "stream",
     "text": [
      "\r",
      "stem:  85%|████████▌ | 42603/50000 [09:17<01:27, 84.99it/s]"
     ]
    },
    {
     "name": "stderr",
     "output_type": "stream",
     "text": [
      "\r",
      "stem:  85%|████████▌ | 42594/50000 [09:16<01:28, 83.56it/s]"
     ]
    },
    {
     "name": "stderr",
     "output_type": "stream",
     "text": [
      "\r",
      "stem:  85%|████████▌ | 42575/50000 [09:16<01:24, 88.27it/s] "
     ]
    },
    {
     "name": "stderr",
     "output_type": "stream",
     "text": [
      "\r",
      "stem:  85%|████████▌ | 42564/50000 [09:16<01:12, 102.22it/s]"
     ]
    },
    {
     "name": "stderr",
     "output_type": "stream",
     "text": [
      "\r",
      "stem:  85%|████████▌ | 42552/50000 [09:16<01:15, 99.11it/s]"
     ]
    },
    {
     "name": "stderr",
     "output_type": "stream",
     "text": [
      "\r",
      "stem:  85%|████████▌ | 42534/50000 [09:16<01:24, 88.76it/s]"
     ]
    },
    {
     "name": "stderr",
     "output_type": "stream",
     "text": [
      "\r",
      "stem:  85%|████████▌ | 42516/50000 [09:16<01:23, 90.13it/s]"
     ]
    },
    {
     "name": "stderr",
     "output_type": "stream",
     "text": [
      "\r",
      "stem:  85%|████████▍ | 42498/50000 [09:15<01:31, 81.88it/s]"
     ]
    },
    {
     "name": "stderr",
     "output_type": "stream",
     "text": [
      "\r",
      "stem:  85%|████████▍ | 42480/50000 [09:15<01:22, 91.42it/s]"
     ]
    },
    {
     "name": "stderr",
     "output_type": "stream",
     "text": [
      "\r",
      "stem:  85%|████████▍ | 42468/50000 [09:15<01:17, 96.85it/s]"
     ]
    },
    {
     "name": "stderr",
     "output_type": "stream",
     "text": [
      "\r",
      "stem:  85%|████████▍ | 42450/50000 [09:15<01:19, 95.01it/s]"
     ]
    },
    {
     "name": "stderr",
     "output_type": "stream",
     "text": [
      "\r",
      "stem:  85%|████████▍ | 42437/50000 [09:15<01:19, 95.40it/s] "
     ]
    },
    {
     "name": "stderr",
     "output_type": "stream",
     "text": [
      "\r",
      "stem:  85%|████████▍ | 42426/50000 [09:15<01:13, 102.49it/s]"
     ]
    },
    {
     "name": "stderr",
     "output_type": "stream",
     "text": [
      "\r",
      "stem:  85%|████████▍ | 42408/50000 [09:14<01:21, 92.98it/s]"
     ]
    },
    {
     "name": "stderr",
     "output_type": "stream",
     "text": [
      "\r",
      "stem:  85%|████████▍ | 42384/50000 [09:14<01:21, 93.86it/s]"
     ]
    },
    {
     "name": "stderr",
     "output_type": "stream",
     "text": [
      "\r",
      "stem:  85%|████████▍ | 42360/50000 [09:14<01:29, 85.12it/s]"
     ]
    },
    {
     "name": "stderr",
     "output_type": "stream",
     "text": [
      "\r",
      "stem:  85%|████████▍ | 42348/50000 [09:14<01:32, 82.90it/s]"
     ]
    },
    {
     "name": "stderr",
     "output_type": "stream",
     "text": [
      "\r",
      "stem:  85%|████████▍ | 42336/50000 [09:14<01:39, 76.96it/s]"
     ]
    },
    {
     "name": "stderr",
     "output_type": "stream",
     "text": [
      "\r",
      "stem:  85%|████████▍ | 42324/50000 [09:13<01:30, 84.54it/s]"
     ]
    },
    {
     "name": "stderr",
     "output_type": "stream",
     "text": [
      "\r",
      "stem:  85%|████████▍ | 42312/50000 [09:13<01:41, 75.56it/s]"
     ]
    },
    {
     "name": "stderr",
     "output_type": "stream",
     "text": [
      "\r",
      "stem:  85%|████████▍ | 42294/50000 [09:13<01:44, 73.71it/s]"
     ]
    },
    {
     "name": "stderr",
     "output_type": "stream",
     "text": [
      "\r",
      "stem:  85%|████████▍ | 42282/50000 [09:13<01:32, 83.04it/s]"
     ]
    },
    {
     "name": "stderr",
     "output_type": "stream",
     "text": [
      "\r",
      "stem:  85%|████████▍ | 42268/50000 [09:13<01:30, 85.25it/s]"
     ]
    },
    {
     "name": "stderr",
     "output_type": "stream",
     "text": [
      "\r",
      "stem:  85%|████████▍ | 42258/50000 [09:13<01:31, 84.45it/s]"
     ]
    },
    {
     "name": "stderr",
     "output_type": "stream",
     "text": [
      "\r",
      "stem:  84%|████████▍ | 42240/50000 [09:12<01:38, 78.54it/s]"
     ]
    },
    {
     "name": "stderr",
     "output_type": "stream",
     "text": [
      "\r",
      "stem:  84%|████████▍ | 42222/50000 [09:12<01:53, 68.69it/s]"
     ]
    },
    {
     "name": "stderr",
     "output_type": "stream",
     "text": [
      "\r",
      "stem:  84%|████████▍ | 42204/50000 [09:12<02:05, 62.16it/s]"
     ]
    },
    {
     "name": "stderr",
     "output_type": "stream",
     "text": [
      "\r",
      "stem:  84%|████████▍ | 42192/50000 [09:12<02:13, 58.41it/s]"
     ]
    },
    {
     "name": "stderr",
     "output_type": "stream",
     "text": [
      "\r",
      "stem:  84%|████████▍ | 42184/50000 [09:12<02:05, 62.37it/s]"
     ]
    },
    {
     "name": "stderr",
     "output_type": "stream",
     "text": [
      "\r",
      "stem:  84%|████████▍ | 42176/50000 [09:12<01:49, 71.30it/s]"
     ]
    },
    {
     "name": "stderr",
     "output_type": "stream",
     "text": [
      "\r",
      "stem:  84%|████████▍ | 42168/50000 [09:12<01:45, 74.23it/s]"
     ]
    },
    {
     "name": "stderr",
     "output_type": "stream",
     "text": [
      "\r",
      "stem:  84%|████████▍ | 42156/50000 [09:11<01:45, 74.58it/s]"
     ]
    },
    {
     "name": "stderr",
     "output_type": "stream",
     "text": [
      "\r",
      "stem:  84%|████████▍ | 42138/50000 [09:11<01:48, 72.69it/s]"
     ]
    },
    {
     "name": "stderr",
     "output_type": "stream",
     "text": [
      "\r",
      "stem:  84%|████████▍ | 42126/50000 [09:11<01:43, 76.02it/s]"
     ]
    },
    {
     "name": "stderr",
     "output_type": "stream",
     "text": [
      "\r",
      "stem:  84%|████████▍ | 42114/50000 [09:11<01:39, 79.06it/s]"
     ]
    },
    {
     "name": "stderr",
     "output_type": "stream",
     "text": [
      "\r",
      "stem:  84%|████████▍ | 42102/50000 [09:11<01:24, 93.58it/s]"
     ]
    },
    {
     "name": "stderr",
     "output_type": "stream",
     "text": [
      "\r",
      "stem:  84%|████████▍ | 42084/50000 [09:10<01:39, 79.31it/s]"
     ]
    },
    {
     "name": "stderr",
     "output_type": "stream",
     "text": [
      "\r",
      "stem:  84%|████████▍ | 42072/50000 [09:10<01:28, 89.49it/s]"
     ]
    },
    {
     "name": "stderr",
     "output_type": "stream",
     "text": [
      "\r",
      "stem:  84%|████████▍ | 42048/50000 [09:10<01:44, 76.28it/s]"
     ]
    },
    {
     "name": "stderr",
     "output_type": "stream",
     "text": [
      "\r",
      "stem:  84%|████████▍ | 42024/50000 [09:10<01:58, 67.44it/s]"
     ]
    },
    {
     "name": "stderr",
     "output_type": "stream",
     "text": [
      "\r",
      "stem:  84%|████████▍ | 42005/50000 [09:10<01:57, 67.92it/s]"
     ]
    },
    {
     "name": "stderr",
     "output_type": "stream",
     "text": [
      "\r",
      "stem:  84%|████████▍ | 41994/50000 [09:09<01:44, 76.28it/s]"
     ]
    },
    {
     "name": "stderr",
     "output_type": "stream",
     "text": [
      "\r",
      "stem:  84%|████████▍ | 41976/50000 [09:09<02:10, 61.55it/s]"
     ]
    },
    {
     "name": "stderr",
     "output_type": "stream",
     "text": [
      "\r",
      "stem:  84%|████████▍ | 41966/50000 [09:09<01:36, 82.93it/s]"
     ]
    },
    {
     "name": "stderr",
     "output_type": "stream",
     "text": [
      "\r",
      "stem:  84%|████████▍ | 41956/50000 [09:09<01:30, 89.12it/s]"
     ]
    },
    {
     "name": "stderr",
     "output_type": "stream",
     "text": [
      "\r",
      "stem:  84%|████████▍ | 41946/50000 [09:09<01:29, 90.20it/s]"
     ]
    },
    {
     "name": "stderr",
     "output_type": "stream",
     "text": [
      "\r",
      "stem:  84%|████████▍ | 41928/50000 [09:09<01:41, 79.28it/s]"
     ]
    },
    {
     "name": "stderr",
     "output_type": "stream",
     "text": [
      "\r",
      "stem:  84%|████████▍ | 41914/50000 [09:08<01:32, 87.46it/s]"
     ]
    },
    {
     "name": "stderr",
     "output_type": "stream",
     "text": [
      "\r",
      "stem:  84%|████████▍ | 41904/50000 [09:08<01:36, 83.83it/s]"
     ]
    },
    {
     "name": "stderr",
     "output_type": "stream",
     "text": [
      "\r",
      "stem:  84%|████████▍ | 41886/50000 [09:08<01:25, 94.94it/s]"
     ]
    },
    {
     "name": "stderr",
     "output_type": "stream",
     "text": [
      "\r",
      "stem:  84%|████████▎ | 41868/50000 [09:08<01:34, 86.38it/s]"
     ]
    },
    {
     "name": "stderr",
     "output_type": "stream",
     "text": [
      "\r",
      "stem:  84%|████████▎ | 41844/50000 [09:08<01:42, 79.53it/s]"
     ]
    },
    {
     "name": "stderr",
     "output_type": "stream",
     "text": [
      "\r",
      "stem:  84%|████████▎ | 41832/50000 [09:08<01:42, 79.85it/s]"
     ]
    },
    {
     "name": "stderr",
     "output_type": "stream",
     "text": [
      "\r",
      "stem:  84%|████████▎ | 41820/50000 [09:07<01:38, 82.63it/s]"
     ]
    },
    {
     "name": "stderr",
     "output_type": "stream",
     "text": [
      "\r",
      "stem:  84%|████████▎ | 41802/50000 [09:07<01:37, 84.26it/s]"
     ]
    },
    {
     "name": "stderr",
     "output_type": "stream",
     "text": [
      "\r",
      "stem:  84%|████████▎ | 41784/50000 [09:07<01:51, 73.54it/s]"
     ]
    },
    {
     "name": "stderr",
     "output_type": "stream",
     "text": [
      "\r",
      "stem:  84%|████████▎ | 41760/50000 [09:07<02:12, 62.14it/s]"
     ]
    },
    {
     "name": "stderr",
     "output_type": "stream",
     "text": [
      "\r",
      "stem:  83%|████████▎ | 41748/50000 [09:07<01:57, 70.31it/s]"
     ]
    },
    {
     "name": "stderr",
     "output_type": "stream",
     "text": [
      "\r",
      "stem:  83%|████████▎ | 41736/50000 [09:06<02:08, 64.34it/s]"
     ]
    },
    {
     "name": "stderr",
     "output_type": "stream",
     "text": [
      "\r",
      "stem:  83%|████████▎ | 41712/50000 [09:06<02:15, 61.13it/s]"
     ]
    },
    {
     "name": "stderr",
     "output_type": "stream",
     "text": [
      "\r",
      "stem:  83%|████████▎ | 41700/50000 [09:06<01:56, 70.95it/s]"
     ]
    },
    {
     "name": "stderr",
     "output_type": "stream",
     "text": [
      "\r",
      "stem:  83%|████████▎ | 41687/50000 [09:06<01:54, 72.74it/s]"
     ]
    },
    {
     "name": "stderr",
     "output_type": "stream",
     "text": [
      "\r",
      "stem:  83%|████████▎ | 41676/50000 [09:05<01:33, 88.67it/s]"
     ]
    },
    {
     "name": "stderr",
     "output_type": "stream",
     "text": [
      "\r",
      "stem:  83%|████████▎ | 41658/50000 [09:05<01:53, 73.76it/s]"
     ]
    },
    {
     "name": "stderr",
     "output_type": "stream",
     "text": [
      "\r",
      "stem:  83%|████████▎ | 41636/50000 [09:05<01:48, 77.16it/s]"
     ]
    },
    {
     "name": "stderr",
     "output_type": "stream",
     "text": [
      "\r",
      "stem:  83%|████████▎ | 41626/50000 [09:05<01:35, 87.54it/s]"
     ]
    },
    {
     "name": "stderr",
     "output_type": "stream",
     "text": [
      "\r",
      "stem:  83%|████████▎ | 41616/50000 [09:05<01:37, 85.64it/s]"
     ]
    },
    {
     "name": "stderr",
     "output_type": "stream",
     "text": [
      "\r",
      "stem:  83%|████████▎ | 41598/50000 [09:05<01:39, 84.86it/s]"
     ]
    },
    {
     "name": "stderr",
     "output_type": "stream",
     "text": [
      "\r",
      "stem:  83%|████████▎ | 41574/50000 [09:04<01:52, 74.60it/s]"
     ]
    },
    {
     "name": "stderr",
     "output_type": "stream",
     "text": [
      "\r",
      "stem:  83%|████████▎ | 41554/50000 [09:04<01:50, 76.12it/s]"
     ]
    },
    {
     "name": "stderr",
     "output_type": "stream",
     "text": [
      "\r",
      "stem:  83%|████████▎ | 41544/50000 [09:04<01:37, 86.89it/s]"
     ]
    },
    {
     "name": "stderr",
     "output_type": "stream",
     "text": [
      "\r",
      "stem:  83%|████████▎ | 41532/50000 [09:04<01:40, 83.98it/s]"
     ]
    },
    {
     "name": "stderr",
     "output_type": "stream",
     "text": [
      "\r",
      "stem:  83%|████████▎ | 41514/50000 [09:04<01:51, 75.92it/s]"
     ]
    },
    {
     "name": "stderr",
     "output_type": "stream",
     "text": [
      "\r",
      "stem:  83%|████████▎ | 41490/50000 [09:03<02:10, 65.38it/s]"
     ]
    },
    {
     "name": "stderr",
     "output_type": "stream",
     "text": [
      "\r",
      "stem:  83%|████████▎ | 41478/50000 [09:03<02:06, 67.12it/s]"
     ]
    },
    {
     "name": "stderr",
     "output_type": "stream",
     "text": [
      "\r",
      "stem:  83%|████████▎ | 41466/50000 [09:03<02:09, 66.00it/s]"
     ]
    },
    {
     "name": "stderr",
     "output_type": "stream",
     "text": [
      "\r",
      "stem:  83%|████████▎ | 41458/50000 [09:03<02:06, 67.73it/s]"
     ]
    },
    {
     "name": "stderr",
     "output_type": "stream",
     "text": [
      "\r",
      "stem:  83%|████████▎ | 41448/50000 [09:03<01:42, 83.41it/s]"
     ]
    },
    {
     "name": "stderr",
     "output_type": "stream",
     "text": [
      "\r",
      "stem:  83%|████████▎ | 41434/50000 [09:03<01:53, 75.31it/s]"
     ]
    },
    {
     "name": "stderr",
     "output_type": "stream",
     "text": [
      "\r",
      "stem:  83%|████████▎ | 41424/50000 [09:02<01:42, 83.81it/s]"
     ]
    },
    {
     "name": "stderr",
     "output_type": "stream",
     "text": [
      "\r",
      "stem:  83%|████████▎ | 41410/50000 [09:02<01:47, 80.14it/s]"
     ]
    },
    {
     "name": "stderr",
     "output_type": "stream",
     "text": [
      "\r",
      "stem:  83%|████████▎ | 41400/50000 [09:02<01:44, 82.44it/s]"
     ]
    },
    {
     "name": "stderr",
     "output_type": "stream",
     "text": [
      "\r",
      "stem:  83%|████████▎ | 41388/50000 [09:02<01:27, 98.75it/s]"
     ]
    },
    {
     "name": "stderr",
     "output_type": "stream",
     "text": [
      "\r",
      "stem:  83%|████████▎ | 41370/50000 [09:02<01:43, 83.38it/s]"
     ]
    },
    {
     "name": "stderr",
     "output_type": "stream",
     "text": [
      "\r",
      "stem:  83%|████████▎ | 41352/50000 [09:02<01:37, 89.06it/s]"
     ]
    },
    {
     "name": "stderr",
     "output_type": "stream",
     "text": [
      "\r",
      "stem:  83%|████████▎ | 41334/50000 [09:01<01:38, 88.32it/s]"
     ]
    },
    {
     "name": "stderr",
     "output_type": "stream",
     "text": [
      "\r",
      "stem:  83%|████████▎ | 41316/50000 [09:01<01:45, 82.57it/s]"
     ]
    },
    {
     "name": "stderr",
     "output_type": "stream",
     "text": [
      "\r",
      "stem:  83%|████████▎ | 41298/50000 [09:01<01:44, 83.18it/s]"
     ]
    },
    {
     "name": "stderr",
     "output_type": "stream",
     "text": [
      "\r",
      "stem:  83%|████████▎ | 41280/50000 [09:01<01:39, 87.94it/s]"
     ]
    },
    {
     "name": "stderr",
     "output_type": "stream",
     "text": [
      "\r",
      "stem:  83%|████████▎ | 41268/50000 [09:01<01:44, 83.73it/s]"
     ]
    },
    {
     "name": "stderr",
     "output_type": "stream",
     "text": [
      "\r",
      "stem:  82%|████████▎ | 41250/50000 [09:00<01:57, 74.34it/s]"
     ]
    },
    {
     "name": "stderr",
     "output_type": "stream",
     "text": [
      "\r",
      "stem:  82%|████████▏ | 41238/50000 [09:00<01:47, 81.58it/s]"
     ]
    },
    {
     "name": "stderr",
     "output_type": "stream",
     "text": [
      "\r",
      "stem:  82%|████████▏ | 41220/50000 [09:00<01:57, 74.65it/s]"
     ]
    },
    {
     "name": "stderr",
     "output_type": "stream",
     "text": [
      "\r",
      "stem:  82%|████████▏ | 41208/50000 [09:00<02:02, 71.77it/s]"
     ]
    },
    {
     "name": "stderr",
     "output_type": "stream",
     "text": [
      "\r",
      "stem:  82%|████████▏ | 41190/50000 [09:00<02:23, 61.44it/s]"
     ]
    },
    {
     "name": "stderr",
     "output_type": "stream",
     "text": [
      "\r",
      "stem:  82%|████████▏ | 41178/50000 [09:00<02:07, 69.41it/s]"
     ]
    },
    {
     "name": "stderr",
     "output_type": "stream",
     "text": [
      "\r",
      "stem:  82%|████████▏ | 41166/50000 [08:59<02:14, 65.68it/s]"
     ]
    },
    {
     "name": "stderr",
     "output_type": "stream",
     "text": [
      "\r",
      "stem:  82%|████████▏ | 41142/50000 [08:59<02:38, 56.06it/s]"
     ]
    },
    {
     "name": "stderr",
     "output_type": "stream",
     "text": [
      "\r",
      "stem:  82%|████████▏ | 41134/50000 [08:59<02:09, 68.67it/s]"
     ]
    },
    {
     "name": "stderr",
     "output_type": "stream",
     "text": [
      "\r",
      "stem:  82%|████████▏ | 41125/50000 [08:59<01:58, 74.76it/s]"
     ]
    },
    {
     "name": "stderr",
     "output_type": "stream",
     "text": [
      "\r",
      "stem:  82%|████████▏ | 41116/50000 [08:59<01:59, 74.37it/s]"
     ]
    },
    {
     "name": "stderr",
     "output_type": "stream",
     "text": [
      "\r",
      "stem:  82%|████████▏ | 41106/50000 [08:59<01:50, 80.33it/s]"
     ]
    },
    {
     "name": "stderr",
     "output_type": "stream",
     "text": [
      "\r",
      "stem:  82%|████████▏ | 41094/50000 [08:58<01:52, 79.39it/s]"
     ]
    },
    {
     "name": "stderr",
     "output_type": "stream",
     "text": [
      "\r",
      "stem:  82%|████████▏ | 41074/50000 [08:58<02:13, 67.00it/s]"
     ]
    },
    {
     "name": "stderr",
     "output_type": "stream",
     "text": [
      "\r",
      "stem:  82%|████████▏ | 41064/50000 [08:58<01:35, 93.96it/s]"
     ]
    },
    {
     "name": "stderr",
     "output_type": "stream",
     "text": [
      "\r",
      "stem:  82%|████████▏ | 41046/50000 [08:58<01:43, 86.85it/s]"
     ]
    },
    {
     "name": "stderr",
     "output_type": "stream",
     "text": [
      "\r",
      "stem:  82%|████████▏ | 41028/50000 [08:58<01:42, 87.95it/s]"
     ]
    },
    {
     "name": "stderr",
     "output_type": "stream",
     "text": [
      "\r",
      "stem:  82%|████████▏ | 41016/50000 [08:58<01:48, 82.97it/s]"
     ]
    },
    {
     "name": "stderr",
     "output_type": "stream",
     "text": [
      "\r",
      "stem:  82%|████████▏ | 40992/50000 [08:57<01:54, 78.54it/s]"
     ]
    },
    {
     "name": "stderr",
     "output_type": "stream",
     "text": [
      "\r",
      "stem:  82%|████████▏ | 40974/50000 [08:57<01:56, 77.55it/s]"
     ]
    },
    {
     "name": "stderr",
     "output_type": "stream",
     "text": [
      "\r",
      "stem:  82%|████████▏ | 40962/50000 [08:57<01:44, 86.65it/s]"
     ]
    },
    {
     "name": "stderr",
     "output_type": "stream",
     "text": [
      "\r",
      "stem:  82%|████████▏ | 40948/50000 [08:57<01:52, 80.62it/s]"
     ]
    },
    {
     "name": "stderr",
     "output_type": "stream",
     "text": [
      "\r",
      "stem:  82%|████████▏ | 40937/50000 [08:57<01:34, 95.60it/s]"
     ]
    },
    {
     "name": "stderr",
     "output_type": "stream",
     "text": [
      "\r",
      "stem:  82%|████████▏ | 40926/50000 [08:56<01:32, 98.20it/s]"
     ]
    },
    {
     "name": "stderr",
     "output_type": "stream",
     "text": [
      "\r",
      "stem:  82%|████████▏ | 40908/50000 [08:56<01:42, 88.51it/s]"
     ]
    },
    {
     "name": "stderr",
     "output_type": "stream",
     "text": [
      "\r",
      "stem:  82%|████████▏ | 40889/50000 [08:56<01:33, 97.81it/s]"
     ]
    },
    {
     "name": "stderr",
     "output_type": "stream",
     "text": [
      "\r",
      "stem:  82%|████████▏ | 40878/50000 [08:56<01:31, 99.25it/s]"
     ]
    },
    {
     "name": "stderr",
     "output_type": "stream",
     "text": [
      "\r",
      "stem:  82%|████████▏ | 40860/50000 [08:56<01:42, 88.95it/s]"
     ]
    },
    {
     "name": "stderr",
     "output_type": "stream",
     "text": [
      "\r",
      "stem:  82%|████████▏ | 40848/50000 [08:56<01:37, 93.86it/s]"
     ]
    },
    {
     "name": "stderr",
     "output_type": "stream",
     "text": [
      "\r",
      "stem:  82%|████████▏ | 40824/50000 [08:55<01:43, 88.67it/s]"
     ]
    },
    {
     "name": "stderr",
     "output_type": "stream",
     "text": [
      "\r",
      "stem:  82%|████████▏ | 40805/50000 [08:55<01:40, 91.93it/s]"
     ]
    },
    {
     "name": "stderr",
     "output_type": "stream",
     "text": [
      "\r",
      "stem:  82%|████████▏ | 40794/50000 [08:55<01:36, 95.57it/s]"
     ]
    },
    {
     "name": "stderr",
     "output_type": "stream",
     "text": [
      "\r",
      "stem:  82%|████████▏ | 40776/50000 [08:55<01:51, 82.86it/s]"
     ]
    },
    {
     "name": "stderr",
     "output_type": "stream",
     "text": [
      "\r",
      "stem:  82%|████████▏ | 40752/50000 [08:55<02:02, 75.26it/s]"
     ]
    },
    {
     "name": "stderr",
     "output_type": "stream",
     "text": [
      "\r",
      "stem:  81%|████████▏ | 40740/50000 [08:54<01:40, 91.90it/s]"
     ]
    },
    {
     "name": "stderr",
     "output_type": "stream",
     "text": [
      "\r",
      "stem:  81%|████████▏ | 40728/50000 [08:54<01:41, 91.66it/s]"
     ]
    },
    {
     "name": "stderr",
     "output_type": "stream",
     "text": [
      "\r",
      "stem:  81%|████████▏ | 40716/50000 [08:54<01:44, 88.62it/s]"
     ]
    },
    {
     "name": "stderr",
     "output_type": "stream",
     "text": [
      "\r",
      "stem:  81%|████████▏ | 40704/50000 [08:54<01:54, 81.39it/s]"
     ]
    },
    {
     "name": "stderr",
     "output_type": "stream",
     "text": [
      "\r",
      "stem:  81%|████████▏ | 40686/50000 [08:54<02:00, 77.20it/s]"
     ]
    },
    {
     "name": "stderr",
     "output_type": "stream",
     "text": [
      "\r",
      "stem:  81%|████████▏ | 40674/50000 [08:54<02:08, 72.62it/s]"
     ]
    },
    {
     "name": "stderr",
     "output_type": "stream",
     "text": [
      "\r",
      "stem:  81%|████████▏ | 40656/50000 [08:54<02:13, 69.92it/s]"
     ]
    },
    {
     "name": "stderr",
     "output_type": "stream",
     "text": [
      "\r",
      "stem:  81%|████████▏ | 40638/50000 [08:53<02:29, 62.61it/s]"
     ]
    },
    {
     "name": "stderr",
     "output_type": "stream",
     "text": [
      "\r",
      "stem:  81%|████████  | 40622/50000 [08:53<02:25, 64.38it/s]"
     ]
    },
    {
     "name": "stderr",
     "output_type": "stream",
     "text": [
      "\r",
      "stem:  81%|████████  | 40614/50000 [08:53<02:13, 70.12it/s]"
     ]
    },
    {
     "name": "stderr",
     "output_type": "stream",
     "text": [
      "\r",
      "stem:  81%|████████  | 40605/50000 [08:53<02:19, 67.12it/s]"
     ]
    },
    {
     "name": "stderr",
     "output_type": "stream",
     "text": [
      "\r",
      "stem:  81%|████████  | 40596/50000 [08:53<02:06, 74.52it/s]"
     ]
    },
    {
     "name": "stderr",
     "output_type": "stream",
     "text": [
      "\r",
      "stem:  81%|████████  | 40584/50000 [08:53<02:25, 64.84it/s]"
     ]
    },
    {
     "name": "stderr",
     "output_type": "stream",
     "text": [
      "\r",
      "stem:  81%|████████  | 40575/50000 [08:52<02:31, 62.24it/s]"
     ]
    },
    {
     "name": "stderr",
     "output_type": "stream",
     "text": [
      "\r",
      "stem:  81%|████████  | 40566/50000 [08:52<02:31, 62.38it/s]"
     ]
    },
    {
     "name": "stderr",
     "output_type": "stream",
     "text": [
      "\r",
      "stem:  81%|████████  | 40548/50000 [08:52<03:12, 49.17it/s]"
     ]
    },
    {
     "name": "stderr",
     "output_type": "stream",
     "text": [
      "\r",
      "stem:  81%|████████  | 40542/50000 [08:52<03:14, 48.60it/s]"
     ]
    },
    {
     "name": "stderr",
     "output_type": "stream",
     "text": [
      "\r",
      "stem:  81%|████████  | 40525/50000 [08:52<03:48, 41.54it/s]"
     ]
    },
    {
     "name": "stderr",
     "output_type": "stream",
     "text": [
      "\r",
      "stem:  81%|████████  | 40519/50000 [08:52<03:09, 50.15it/s]"
     ]
    },
    {
     "name": "stderr",
     "output_type": "stream",
     "text": [
      "\r",
      "stem:  81%|████████  | 40512/50000 [08:52<02:59, 53.00it/s]"
     ]
    },
    {
     "name": "stderr",
     "output_type": "stream",
     "text": [
      "\r",
      "stem:  81%|████████  | 40500/50000 [08:51<03:10, 49.77it/s]"
     ]
    },
    {
     "name": "stderr",
     "output_type": "stream",
     "text": [
      "\r",
      "stem:  81%|████████  | 40488/50000 [08:51<03:53, 40.75it/s]"
     ]
    },
    {
     "name": "stderr",
     "output_type": "stream",
     "text": [
      "\r",
      "stem:  81%|████████  | 40476/50000 [08:51<02:57, 53.79it/s]"
     ]
    },
    {
     "name": "stderr",
     "output_type": "stream",
     "text": [
      "\r",
      "stem:  81%|████████  | 40464/50000 [08:51<03:22, 47.18it/s]"
     ]
    },
    {
     "name": "stderr",
     "output_type": "stream",
     "text": [
      "\r",
      "stem:  81%|████████  | 40452/50000 [08:50<02:57, 53.64it/s]"
     ]
    },
    {
     "name": "stderr",
     "output_type": "stream",
     "text": [
      "\r",
      "stem:  81%|████████  | 40443/50000 [08:50<03:28, 45.78it/s]"
     ]
    },
    {
     "name": "stderr",
     "output_type": "stream",
     "text": [
      "\r",
      "stem:  81%|████████  | 40436/50000 [08:50<02:59, 53.15it/s]"
     ]
    },
    {
     "name": "stderr",
     "output_type": "stream",
     "text": [
      "\r",
      "stem:  81%|████████  | 40428/50000 [08:50<02:19, 68.57it/s]"
     ]
    },
    {
     "name": "stderr",
     "output_type": "stream",
     "text": [
      "\r",
      "stem:  81%|████████  | 40416/50000 [08:50<02:19, 68.86it/s]"
     ]
    },
    {
     "name": "stderr",
     "output_type": "stream",
     "text": [
      "\r",
      "stem:  81%|████████  | 40404/50000 [08:49<02:33, 62.67it/s]"
     ]
    },
    {
     "name": "stderr",
     "output_type": "stream",
     "text": [
      "\r",
      "stem:  81%|████████  | 40392/50000 [08:49<02:14, 71.22it/s]"
     ]
    },
    {
     "name": "stderr",
     "output_type": "stream",
     "text": [
      "\r",
      "stem:  81%|████████  | 40380/50000 [08:49<02:14, 71.61it/s]"
     ]
    },
    {
     "name": "stderr",
     "output_type": "stream",
     "text": [
      "\r",
      "stem:  81%|████████  | 40368/50000 [08:49<02:24, 66.88it/s]"
     ]
    },
    {
     "name": "stderr",
     "output_type": "stream",
     "text": [
      "\r",
      "stem:  81%|████████  | 40356/50000 [08:49<02:36, 61.60it/s]"
     ]
    },
    {
     "name": "stderr",
     "output_type": "stream",
     "text": [
      "\r",
      "stem:  81%|████████  | 40339/50000 [08:49<02:59, 53.94it/s]"
     ]
    },
    {
     "name": "stderr",
     "output_type": "stream",
     "text": [
      "\r",
      "stem:  81%|████████  | 40332/50000 [08:48<02:49, 56.98it/s]"
     ]
    },
    {
     "name": "stderr",
     "output_type": "stream",
     "text": [
      "\r",
      "stem:  81%|████████  | 40316/50000 [08:48<03:08, 51.25it/s]"
     ]
    },
    {
     "name": "stderr",
     "output_type": "stream",
     "text": [
      "\r",
      "stem:  81%|████████  | 40309/50000 [08:48<03:10, 50.95it/s]"
     ]
    },
    {
     "name": "stderr",
     "output_type": "stream",
     "text": [
      "\r",
      "stem:  81%|████████  | 40302/50000 [08:48<02:53, 55.91it/s]"
     ]
    },
    {
     "name": "stderr",
     "output_type": "stream",
     "text": [
      "\r",
      "stem:  81%|████████  | 40290/50000 [08:48<03:10, 50.87it/s]"
     ]
    },
    {
     "name": "stderr",
     "output_type": "stream",
     "text": [
      "\r",
      "stem:  81%|████████  | 40282/50000 [08:48<03:00, 53.91it/s]"
     ]
    },
    {
     "name": "stderr",
     "output_type": "stream",
     "text": [
      "\r",
      "stem:  81%|████████  | 40272/50000 [08:47<01:59, 81.14it/s]"
     ]
    },
    {
     "name": "stderr",
     "output_type": "stream",
     "text": [
      "\r",
      "stem:  81%|████████  | 40260/50000 [08:47<02:11, 74.29it/s]"
     ]
    },
    {
     "name": "stderr",
     "output_type": "stream",
     "text": [
      "\r",
      "stem:  80%|████████  | 40242/50000 [08:47<02:39, 61.29it/s]"
     ]
    },
    {
     "name": "stderr",
     "output_type": "stream",
     "text": [
      "\r",
      "stem:  80%|████████  | 40230/50000 [08:47<02:46, 58.71it/s]"
     ]
    },
    {
     "name": "stderr",
     "output_type": "stream",
     "text": [
      "\r",
      "stem:  80%|████████  | 40219/50000 [08:47<02:49, 57.68it/s]"
     ]
    },
    {
     "name": "stderr",
     "output_type": "stream",
     "text": [
      "\r",
      "stem:  80%|████████  | 40212/50000 [08:46<02:58, 54.84it/s]"
     ]
    },
    {
     "name": "stderr",
     "output_type": "stream",
     "text": [
      "\r",
      "stem:  80%|████████  | 40201/50000 [08:46<03:11, 51.25it/s]"
     ]
    },
    {
     "name": "stderr",
     "output_type": "stream",
     "text": [
      "\r",
      "stem:  80%|████████  | 40194/50000 [08:46<02:36, 62.65it/s]"
     ]
    },
    {
     "name": "stderr",
     "output_type": "stream",
     "text": [
      "\r",
      "stem:  80%|████████  | 40176/50000 [08:46<02:56, 55.70it/s]"
     ]
    },
    {
     "name": "stderr",
     "output_type": "stream",
     "text": [
      "\r",
      "stem:  80%|████████  | 40164/50000 [08:46<02:36, 62.92it/s]"
     ]
    },
    {
     "name": "stderr",
     "output_type": "stream",
     "text": [
      "\r",
      "stem:  80%|████████  | 40152/50000 [08:45<02:41, 60.87it/s]"
     ]
    },
    {
     "name": "stderr",
     "output_type": "stream",
     "text": [
      "\r",
      "stem:  80%|████████  | 40142/50000 [08:45<02:09, 76.37it/s]"
     ]
    },
    {
     "name": "stderr",
     "output_type": "stream",
     "text": [
      "\r",
      "stem:  80%|████████  | 40132/50000 [08:45<01:57, 84.22it/s]"
     ]
    },
    {
     "name": "stderr",
     "output_type": "stream",
     "text": [
      "\r",
      "stem:  80%|████████  | 40122/50000 [08:45<01:58, 83.40it/s]"
     ]
    },
    {
     "name": "stderr",
     "output_type": "stream",
     "text": [
      "\r",
      "stem:  80%|████████  | 40110/50000 [08:45<02:11, 75.35it/s]"
     ]
    },
    {
     "name": "stderr",
     "output_type": "stream",
     "text": [
      "\r",
      "stem:  80%|████████  | 40086/50000 [08:45<02:25, 68.17it/s]"
     ]
    },
    {
     "name": "stderr",
     "output_type": "stream",
     "text": [
      "\r",
      "stem:  80%|████████  | 40062/50000 [08:44<02:48, 58.92it/s]"
     ]
    },
    {
     "name": "stderr",
     "output_type": "stream",
     "text": [
      "\r",
      "stem:  80%|████████  | 40050/50000 [08:44<02:32, 65.27it/s]"
     ]
    },
    {
     "name": "stderr",
     "output_type": "stream",
     "text": [
      "\r",
      "stem:  80%|████████  | 40041/50000 [08:44<02:20, 71.07it/s]"
     ]
    },
    {
     "name": "stderr",
     "output_type": "stream",
     "text": [
      "\r",
      "stem:  80%|████████  | 40032/50000 [08:44<01:58, 84.44it/s]"
     ]
    },
    {
     "name": "stderr",
     "output_type": "stream",
     "text": [
      "\r",
      "stem:  80%|████████  | 40020/50000 [08:44<01:56, 85.42it/s]"
     ]
    },
    {
     "name": "stderr",
     "output_type": "stream",
     "text": [
      "\r",
      "stem:  80%|████████  | 40009/50000 [08:43<01:42, 97.42it/s] "
     ]
    },
    {
     "name": "stderr",
     "output_type": "stream",
     "text": [
      "\r",
      "stem:  80%|███████▉  | 39997/50000 [08:43<01:37, 102.47it/s]"
     ]
    },
    {
     "name": "stderr",
     "output_type": "stream",
     "text": [
      "\r",
      "stem:  80%|███████▉  | 39984/50000 [08:43<01:33, 107.36it/s]"
     ]
    },
    {
     "name": "stderr",
     "output_type": "stream",
     "text": [
      "\r",
      "stem:  80%|███████▉  | 39966/50000 [08:43<01:49, 91.58it/s]"
     ]
    },
    {
     "name": "stderr",
     "output_type": "stream",
     "text": [
      "\r",
      "stem:  80%|███████▉  | 39954/50000 [08:43<01:56, 86.16it/s]"
     ]
    },
    {
     "name": "stderr",
     "output_type": "stream",
     "text": [
      "\r",
      "stem:  80%|███████▉  | 39936/50000 [08:43<01:47, 93.30it/s]"
     ]
    },
    {
     "name": "stderr",
     "output_type": "stream",
     "text": [
      "\r",
      "stem:  80%|███████▉  | 39924/50000 [08:43<01:47, 93.42it/s]"
     ]
    },
    {
     "name": "stderr",
     "output_type": "stream",
     "text": [
      "\r",
      "stem:  80%|███████▉  | 39912/50000 [08:43<01:53, 88.87it/s]"
     ]
    },
    {
     "name": "stderr",
     "output_type": "stream",
     "text": [
      "\r",
      "stem:  80%|███████▉  | 39900/50000 [08:42<01:53, 88.64it/s]"
     ]
    },
    {
     "name": "stderr",
     "output_type": "stream",
     "text": [
      "\r",
      "stem:  80%|███████▉  | 39889/50000 [08:42<01:43, 97.76it/s] "
     ]
    },
    {
     "name": "stderr",
     "output_type": "stream",
     "text": [
      "\r",
      "stem:  80%|███████▉  | 39877/50000 [08:42<01:39, 101.66it/s]"
     ]
    },
    {
     "name": "stderr",
     "output_type": "stream",
     "text": [
      "\r",
      "stem:  80%|███████▉  | 39865/50000 [08:42<01:42, 99.33it/s] "
     ]
    },
    {
     "name": "stderr",
     "output_type": "stream",
     "text": [
      "\r",
      "stem:  80%|███████▉  | 39852/50000 [08:42<01:32, 109.28it/s]"
     ]
    },
    {
     "name": "stderr",
     "output_type": "stream",
     "text": [
      "\r",
      "stem:  80%|███████▉  | 39834/50000 [08:42<01:44, 97.32it/s]"
     ]
    },
    {
     "name": "stderr",
     "output_type": "stream",
     "text": [
      "\r",
      "stem:  80%|███████▉  | 39810/50000 [08:42<02:01, 83.71it/s]"
     ]
    },
    {
     "name": "stderr",
     "output_type": "stream",
     "text": [
      "\r",
      "stem:  80%|███████▉  | 39792/50000 [08:41<01:55, 88.70it/s]"
     ]
    },
    {
     "name": "stderr",
     "output_type": "stream",
     "text": [
      "\r",
      "stem:  80%|███████▉  | 39780/50000 [08:41<01:45, 96.98it/s]"
     ]
    },
    {
     "name": "stderr",
     "output_type": "stream",
     "text": [
      "\r",
      "stem:  80%|███████▉  | 39762/50000 [08:41<01:59, 85.66it/s]"
     ]
    },
    {
     "name": "stderr",
     "output_type": "stream",
     "text": [
      "\r",
      "stem:  79%|███████▉  | 39744/50000 [08:41<02:23, 71.58it/s]"
     ]
    },
    {
     "name": "stderr",
     "output_type": "stream",
     "text": [
      "\r",
      "stem:  79%|███████▉  | 39725/50000 [08:41<02:18, 74.14it/s]"
     ]
    },
    {
     "name": "stderr",
     "output_type": "stream",
     "text": [
      "\r",
      "stem:  79%|███████▉  | 39717/50000 [08:41<02:14, 76.61it/s]"
     ]
    },
    {
     "name": "stderr",
     "output_type": "stream",
     "text": [
      "\r",
      "stem:  79%|███████▉  | 39708/50000 [08:40<02:11, 78.04it/s]"
     ]
    },
    {
     "name": "stderr",
     "output_type": "stream",
     "text": [
      "\r",
      "stem:  79%|███████▉  | 39692/50000 [08:40<02:08, 80.06it/s]"
     ]
    },
    {
     "name": "stderr",
     "output_type": "stream",
     "text": [
      "\r",
      "stem:  79%|███████▉  | 39682/50000 [08:40<02:00, 85.56it/s]"
     ]
    },
    {
     "name": "stderr",
     "output_type": "stream",
     "text": [
      "\r",
      "stem:  79%|███████▉  | 39672/50000 [08:40<02:04, 82.93it/s]"
     ]
    },
    {
     "name": "stderr",
     "output_type": "stream",
     "text": [
      "\r",
      "stem:  79%|███████▉  | 39660/50000 [08:40<02:02, 84.08it/s]"
     ]
    },
    {
     "name": "stderr",
     "output_type": "stream",
     "text": [
      "\r",
      "stem:  79%|███████▉  | 39648/50000 [08:40<02:18, 74.62it/s]"
     ]
    },
    {
     "name": "stderr",
     "output_type": "stream",
     "text": [
      "\r",
      "stem:  79%|███████▉  | 39624/50000 [08:39<02:45, 62.53it/s]"
     ]
    },
    {
     "name": "stderr",
     "output_type": "stream",
     "text": [
      "\r",
      "stem:  79%|███████▉  | 39608/50000 [08:39<02:25, 71.24it/s]"
     ]
    },
    {
     "name": "stderr",
     "output_type": "stream",
     "text": [
      "\r",
      "stem:  79%|███████▉  | 39599/50000 [08:39<02:22, 72.97it/s]"
     ]
    },
    {
     "name": "stderr",
     "output_type": "stream",
     "text": [
      "\r",
      "stem:  79%|███████▉  | 39588/50000 [08:39<02:08, 81.32it/s]"
     ]
    },
    {
     "name": "stderr",
     "output_type": "stream",
     "text": [
      "\r",
      "stem:  79%|███████▉  | 39570/50000 [08:39<02:38, 65.90it/s]"
     ]
    },
    {
     "name": "stderr",
     "output_type": "stream",
     "text": [
      "\r",
      "stem:  79%|███████▉  | 39560/50000 [08:39<02:33, 67.94it/s]"
     ]
    },
    {
     "name": "stderr",
     "output_type": "stream",
     "text": [
      "\r",
      "stem:  79%|███████▉  | 39552/50000 [08:38<02:27, 70.94it/s]"
     ]
    },
    {
     "name": "stderr",
     "output_type": "stream",
     "text": [
      "\r",
      "stem:  79%|███████▉  | 39537/50000 [08:38<02:33, 68.03it/s]"
     ]
    },
    {
     "name": "stderr",
     "output_type": "stream",
     "text": [
      "\r",
      "stem:  79%|███████▉  | 39528/50000 [08:38<02:12, 78.87it/s]"
     ]
    },
    {
     "name": "stderr",
     "output_type": "stream",
     "text": [
      "\r",
      "stem:  79%|███████▉  | 39516/50000 [08:38<02:23, 73.10it/s]"
     ]
    },
    {
     "name": "stderr",
     "output_type": "stream",
     "text": [
      "\r",
      "stem:  79%|███████▉  | 39493/50000 [08:38<02:46, 62.94it/s]"
     ]
    },
    {
     "name": "stderr",
     "output_type": "stream",
     "text": [
      "\r",
      "stem:  79%|███████▉  | 39484/50000 [08:38<02:20, 75.09it/s]"
     ]
    },
    {
     "name": "stderr",
     "output_type": "stream",
     "text": [
      "\r",
      "stem:  79%|███████▉  | 39474/50000 [08:37<01:54, 92.18it/s]"
     ]
    },
    {
     "name": "stderr",
     "output_type": "stream",
     "text": [
      "\r",
      "stem:  79%|███████▉  | 39462/50000 [08:37<01:52, 93.99it/s]"
     ]
    },
    {
     "name": "stderr",
     "output_type": "stream",
     "text": [
      "\r",
      "stem:  79%|███████▉  | 39450/50000 [08:37<01:53, 93.07it/s]"
     ]
    },
    {
     "name": "stderr",
     "output_type": "stream",
     "text": [
      "\r",
      "stem:  79%|███████▉  | 39438/50000 [08:37<01:53, 93.32it/s]"
     ]
    },
    {
     "name": "stderr",
     "output_type": "stream",
     "text": [
      "\r",
      "stem:  79%|███████▉  | 39426/50000 [08:37<01:53, 92.82it/s]"
     ]
    },
    {
     "name": "stderr",
     "output_type": "stream",
     "text": [
      "\r",
      "stem:  79%|███████▉  | 39414/50000 [08:37<01:58, 89.55it/s]"
     ]
    },
    {
     "name": "stderr",
     "output_type": "stream",
     "text": [
      "\r",
      "stem:  79%|███████▉  | 39402/50000 [08:37<01:54, 92.29it/s]"
     ]
    },
    {
     "name": "stderr",
     "output_type": "stream",
     "text": [
      "\r",
      "stem:  79%|███████▉  | 39390/50000 [08:36<01:53, 93.85it/s]"
     ]
    },
    {
     "name": "stderr",
     "output_type": "stream",
     "text": [
      "\r",
      "stem:  79%|███████▉  | 39378/50000 [08:36<02:00, 87.80it/s]"
     ]
    },
    {
     "name": "stderr",
     "output_type": "stream",
     "text": [
      "\r",
      "stem:  79%|███████▊  | 39366/50000 [08:36<02:07, 83.42it/s]"
     ]
    },
    {
     "name": "stderr",
     "output_type": "stream",
     "text": [
      "\r",
      "stem:  79%|███████▊  | 39348/50000 [08:36<02:09, 82.00it/s]"
     ]
    },
    {
     "name": "stderr",
     "output_type": "stream",
     "text": [
      "\r",
      "stem:  79%|███████▊  | 39336/50000 [08:36<02:08, 83.01it/s]"
     ]
    },
    {
     "name": "stderr",
     "output_type": "stream",
     "text": [
      "\r",
      "stem:  79%|███████▊  | 39324/50000 [08:36<02:23, 74.34it/s]"
     ]
    },
    {
     "name": "stderr",
     "output_type": "stream",
     "text": [
      "\r",
      "stem:  79%|███████▊  | 39309/50000 [08:36<02:19, 76.76it/s]"
     ]
    },
    {
     "name": "stderr",
     "output_type": "stream",
     "text": [
      "\r",
      "stem:  79%|███████▊  | 39300/50000 [08:35<02:08, 83.35it/s]"
     ]
    },
    {
     "name": "stderr",
     "output_type": "stream",
     "text": [
      "\r",
      "stem:  79%|███████▊  | 39288/50000 [08:35<01:52, 95.31it/s]"
     ]
    },
    {
     "name": "stderr",
     "output_type": "stream",
     "text": [
      "\r",
      "stem:  79%|███████▊  | 39276/50000 [08:35<01:59, 90.11it/s]"
     ]
    },
    {
     "name": "stderr",
     "output_type": "stream",
     "text": [
      "\r",
      "stem:  79%|███████▊  | 39258/50000 [08:35<02:00, 89.21it/s]"
     ]
    },
    {
     "name": "stderr",
     "output_type": "stream",
     "text": [
      "\r",
      "stem:  78%|███████▊  | 39246/50000 [08:35<02:07, 84.24it/s]"
     ]
    },
    {
     "name": "stderr",
     "output_type": "stream",
     "text": [
      "\r",
      "stem:  78%|███████▊  | 39234/50000 [08:35<01:58, 91.06it/s]"
     ]
    },
    {
     "name": "stderr",
     "output_type": "stream",
     "text": [
      "\r",
      "stem:  78%|███████▊  | 39222/50000 [08:35<01:54, 93.91it/s]"
     ]
    },
    {
     "name": "stderr",
     "output_type": "stream",
     "text": [
      "\r",
      "stem:  78%|███████▊  | 39210/50000 [08:34<01:55, 93.78it/s]"
     ]
    },
    {
     "name": "stderr",
     "output_type": "stream",
     "text": [
      "\r",
      "stem:  78%|███████▊  | 39192/50000 [08:34<02:00, 90.00it/s]"
     ]
    },
    {
     "name": "stderr",
     "output_type": "stream",
     "text": [
      "\r",
      "stem:  78%|███████▊  | 39174/50000 [08:34<02:02, 88.58it/s]"
     ]
    },
    {
     "name": "stderr",
     "output_type": "stream",
     "text": [
      "\r",
      "stem:  78%|███████▊  | 39162/50000 [08:34<02:00, 89.74it/s]"
     ]
    },
    {
     "name": "stderr",
     "output_type": "stream",
     "text": [
      "\r",
      "stem:  78%|███████▊  | 39150/50000 [08:34<01:53, 95.63it/s]"
     ]
    },
    {
     "name": "stderr",
     "output_type": "stream",
     "text": [
      "\r",
      "stem:  78%|███████▊  | 39138/50000 [08:34<01:55, 93.68it/s]"
     ]
    },
    {
     "name": "stderr",
     "output_type": "stream",
     "text": [
      "\r",
      "stem:  78%|███████▊  | 39124/50000 [08:33<01:59, 91.21it/s]"
     ]
    },
    {
     "name": "stderr",
     "output_type": "stream",
     "text": [
      "\r",
      "stem:  78%|███████▊  | 39114/50000 [08:33<02:02, 88.77it/s]"
     ]
    },
    {
     "name": "stderr",
     "output_type": "stream",
     "text": [
      "\r",
      "stem:  78%|███████▊  | 39090/50000 [08:33<02:12, 82.58it/s]"
     ]
    },
    {
     "name": "stderr",
     "output_type": "stream",
     "text": [
      "\r",
      "stem:  78%|███████▊  | 39072/50000 [08:33<02:13, 81.62it/s]"
     ]
    },
    {
     "name": "stderr",
     "output_type": "stream",
     "text": [
      "\r",
      "stem:  78%|███████▊  | 39060/50000 [08:33<02:09, 84.78it/s]"
     ]
    },
    {
     "name": "stderr",
     "output_type": "stream",
     "text": [
      "\r",
      "stem:  78%|███████▊  | 39048/50000 [08:33<02:13, 82.30it/s]"
     ]
    },
    {
     "name": "stderr",
     "output_type": "stream",
     "text": [
      "\r",
      "stem:  78%|███████▊  | 39036/50000 [08:32<02:15, 80.83it/s]"
     ]
    },
    {
     "name": "stderr",
     "output_type": "stream",
     "text": [
      "\r",
      "stem:  78%|███████▊  | 39018/50000 [08:32<02:07, 86.29it/s]"
     ]
    },
    {
     "name": "stderr",
     "output_type": "stream",
     "text": [
      "\r",
      "stem:  78%|███████▊  | 39000/50000 [08:32<02:20, 78.17it/s]"
     ]
    },
    {
     "name": "stderr",
     "output_type": "stream",
     "text": [
      "\r",
      "stem:  78%|███████▊  | 38991/50000 [08:32<02:18, 79.62it/s]"
     ]
    },
    {
     "name": "stderr",
     "output_type": "stream",
     "text": [
      "\r",
      "stem:  78%|███████▊  | 38982/50000 [08:32<02:22, 77.48it/s]"
     ]
    },
    {
     "name": "stderr",
     "output_type": "stream",
     "text": [
      "\r",
      "stem:  78%|███████▊  | 38964/50000 [08:32<02:31, 73.05it/s]"
     ]
    },
    {
     "name": "stderr",
     "output_type": "stream",
     "text": [
      "\r",
      "stem:  78%|███████▊  | 38946/50000 [08:31<02:22, 77.63it/s]"
     ]
    },
    {
     "name": "stderr",
     "output_type": "stream",
     "text": [
      "\r",
      "stem:  78%|███████▊  | 38934/50000 [08:31<02:07, 86.51it/s]"
     ]
    },
    {
     "name": "stderr",
     "output_type": "stream",
     "text": [
      "\r",
      "stem:  78%|███████▊  | 38916/50000 [08:31<02:29, 74.05it/s]"
     ]
    },
    {
     "name": "stderr",
     "output_type": "stream",
     "text": [
      "\r",
      "stem:  78%|███████▊  | 38904/50000 [08:31<02:27, 75.42it/s]"
     ]
    },
    {
     "name": "stderr",
     "output_type": "stream",
     "text": [
      "\r",
      "stem:  78%|███████▊  | 38892/50000 [08:31<02:35, 71.54it/s]"
     ]
    },
    {
     "name": "stderr",
     "output_type": "stream",
     "text": [
      "\r",
      "stem:  78%|███████▊  | 38872/50000 [08:31<03:02, 61.01it/s]"
     ]
    },
    {
     "name": "stderr",
     "output_type": "stream",
     "text": [
      "\r",
      "stem:  78%|███████▊  | 38862/50000 [08:30<02:19, 79.81it/s]"
     ]
    },
    {
     "name": "stderr",
     "output_type": "stream",
     "text": [
      "\r",
      "stem:  78%|███████▊  | 38847/50000 [08:30<02:39, 69.89it/s]"
     ]
    },
    {
     "name": "stderr",
     "output_type": "stream",
     "text": [
      "\r",
      "stem:  78%|███████▊  | 38837/50000 [08:30<02:01, 91.87it/s]"
     ]
    },
    {
     "name": "stderr",
     "output_type": "stream",
     "text": [
      "\r",
      "stem:  78%|███████▊  | 38826/50000 [08:30<02:02, 91.56it/s]"
     ]
    },
    {
     "name": "stderr",
     "output_type": "stream",
     "text": [
      "\r",
      "stem:  78%|███████▊  | 38802/50000 [08:30<02:21, 79.16it/s]"
     ]
    },
    {
     "name": "stderr",
     "output_type": "stream",
     "text": [
      "\r",
      "stem:  78%|███████▊  | 38790/50000 [08:30<02:18, 80.86it/s]"
     ]
    },
    {
     "name": "stderr",
     "output_type": "stream",
     "text": [
      "\r",
      "stem:  78%|███████▊  | 38778/50000 [08:29<02:26, 76.70it/s]"
     ]
    },
    {
     "name": "stderr",
     "output_type": "stream",
     "text": [
      "\r",
      "stem:  78%|███████▊  | 38766/50000 [08:29<02:38, 70.91it/s]"
     ]
    },
    {
     "name": "stderr",
     "output_type": "stream",
     "text": [
      "\r",
      "stem:  78%|███████▊  | 38754/50000 [08:29<02:35, 72.35it/s]"
     ]
    },
    {
     "name": "stderr",
     "output_type": "stream",
     "text": [
      "\r",
      "stem:  77%|███████▋  | 38742/50000 [08:29<02:46, 67.46it/s]"
     ]
    },
    {
     "name": "stderr",
     "output_type": "stream",
     "text": [
      "\r",
      "stem:  77%|███████▋  | 38730/50000 [08:29<03:06, 60.45it/s]"
     ]
    },
    {
     "name": "stderr",
     "output_type": "stream",
     "text": [
      "\r",
      "stem:  77%|███████▋  | 38714/50000 [08:29<03:01, 62.17it/s]"
     ]
    },
    {
     "name": "stderr",
     "output_type": "stream",
     "text": [
      "\r",
      "stem:  77%|███████▋  | 38707/50000 [08:28<03:07, 60.32it/s]"
     ]
    },
    {
     "name": "stderr",
     "output_type": "stream",
     "text": [
      "\r",
      "stem:  77%|███████▋  | 38700/50000 [08:28<02:54, 64.94it/s]"
     ]
    },
    {
     "name": "stderr",
     "output_type": "stream",
     "text": [
      "\r",
      "stem:  77%|███████▋  | 38688/50000 [08:28<02:43, 69.39it/s]"
     ]
    },
    {
     "name": "stderr",
     "output_type": "stream",
     "text": [
      "\r",
      "stem:  77%|███████▋  | 38679/50000 [08:28<02:43, 69.04it/s]"
     ]
    },
    {
     "name": "stderr",
     "output_type": "stream",
     "text": [
      "\r",
      "stem:  77%|███████▋  | 38671/50000 [08:28<02:47, 67.77it/s]"
     ]
    },
    {
     "name": "stderr",
     "output_type": "stream",
     "text": [
      "\r",
      "stem:  77%|███████▋  | 38662/50000 [08:28<02:20, 80.75it/s]"
     ]
    },
    {
     "name": "stderr",
     "output_type": "stream",
     "text": [
      "\r",
      "stem:  77%|███████▋  | 38652/50000 [08:28<02:04, 90.90it/s]"
     ]
    },
    {
     "name": "stderr",
     "output_type": "stream",
     "text": [
      "\r",
      "stem:  77%|███████▋  | 38638/50000 [08:27<02:15, 83.62it/s]"
     ]
    },
    {
     "name": "stderr",
     "output_type": "stream",
     "text": [
      "\r",
      "stem:  77%|███████▋  | 38628/50000 [08:27<02:24, 78.49it/s]"
     ]
    },
    {
     "name": "stderr",
     "output_type": "stream",
     "text": [
      "\r",
      "stem:  77%|███████▋  | 38614/50000 [08:27<02:46, 68.39it/s]"
     ]
    },
    {
     "name": "stderr",
     "output_type": "stream",
     "text": [
      "\r",
      "stem:  77%|███████▋  | 38604/50000 [08:27<02:23, 79.28it/s]"
     ]
    },
    {
     "name": "stderr",
     "output_type": "stream",
     "text": [
      "\r",
      "stem:  77%|███████▋  | 38586/50000 [08:27<02:49, 67.51it/s]"
     ]
    },
    {
     "name": "stderr",
     "output_type": "stream",
     "text": [
      "\r",
      "stem:  77%|███████▋  | 38562/50000 [08:27<03:00, 63.21it/s]"
     ]
    },
    {
     "name": "stderr",
     "output_type": "stream",
     "text": [
      "\r",
      "stem:  77%|███████▋  | 38550/50000 [08:26<02:33, 74.58it/s]"
     ]
    },
    {
     "name": "stderr",
     "output_type": "stream",
     "text": [
      "\r",
      "stem:  77%|███████▋  | 38538/50000 [08:26<02:47, 68.54it/s]"
     ]
    },
    {
     "name": "stderr",
     "output_type": "stream",
     "text": [
      "\r",
      "stem:  77%|███████▋  | 38526/50000 [08:26<02:44, 69.71it/s]"
     ]
    },
    {
     "name": "stderr",
     "output_type": "stream",
     "text": [
      "\r",
      "stem:  77%|███████▋  | 38508/50000 [08:26<02:39, 71.85it/s]"
     ]
    },
    {
     "name": "stderr",
     "output_type": "stream",
     "text": [
      "\r",
      "stem:  77%|███████▋  | 38490/50000 [08:25<02:40, 71.91it/s]"
     ]
    },
    {
     "name": "stderr",
     "output_type": "stream",
     "text": [
      "\r",
      "stem:  77%|███████▋  | 38478/50000 [08:25<02:54, 66.19it/s]"
     ]
    },
    {
     "name": "stderr",
     "output_type": "stream",
     "text": [
      "\r",
      "stem:  77%|███████▋  | 38469/50000 [08:25<02:30, 76.53it/s]"
     ]
    },
    {
     "name": "stderr",
     "output_type": "stream",
     "text": [
      "\r",
      "stem:  77%|███████▋  | 38460/50000 [08:25<02:28, 77.65it/s]"
     ]
    },
    {
     "name": "stderr",
     "output_type": "stream",
     "text": [
      "\r",
      "stem:  77%|███████▋  | 38448/50000 [08:25<02:47, 69.09it/s]"
     ]
    },
    {
     "name": "stderr",
     "output_type": "stream",
     "text": [
      "\r",
      "stem:  77%|███████▋  | 38436/50000 [08:25<02:56, 65.47it/s]"
     ]
    },
    {
     "name": "stderr",
     "output_type": "stream",
     "text": [
      "\r",
      "stem:  77%|███████▋  | 38428/50000 [08:25<02:52, 67.18it/s]"
     ]
    },
    {
     "name": "stderr",
     "output_type": "stream",
     "text": [
      "\r",
      "stem:  77%|███████▋  | 38419/50000 [08:24<02:19, 83.14it/s]"
     ]
    },
    {
     "name": "stderr",
     "output_type": "stream",
     "text": [
      "\r",
      "stem:  77%|███████▋  | 38410/50000 [08:24<02:19, 82.87it/s]"
     ]
    },
    {
     "name": "stderr",
     "output_type": "stream",
     "text": [
      "\r",
      "stem:  77%|███████▋  | 38400/50000 [08:24<02:10, 89.20it/s]"
     ]
    },
    {
     "name": "stderr",
     "output_type": "stream",
     "text": [
      "\r",
      "stem:  77%|███████▋  | 38388/50000 [08:24<02:16, 84.91it/s]"
     ]
    },
    {
     "name": "stderr",
     "output_type": "stream",
     "text": [
      "\r",
      "stem:  77%|███████▋  | 38370/50000 [08:24<02:39, 72.93it/s]"
     ]
    },
    {
     "name": "stderr",
     "output_type": "stream",
     "text": [
      "\r",
      "stem:  77%|███████▋  | 38358/50000 [08:24<02:53, 67.29it/s]"
     ]
    },
    {
     "name": "stderr",
     "output_type": "stream",
     "text": [
      "\r",
      "stem:  77%|███████▋  | 38346/50000 [08:24<02:38, 73.71it/s]"
     ]
    },
    {
     "name": "stderr",
     "output_type": "stream",
     "text": [
      "\r",
      "stem:  77%|███████▋  | 38334/50000 [08:23<02:46, 70.26it/s]"
     ]
    },
    {
     "name": "stderr",
     "output_type": "stream",
     "text": [
      "\r",
      "stem:  77%|███████▋  | 38310/50000 [08:23<03:05, 63.04it/s]"
     ]
    },
    {
     "name": "stderr",
     "output_type": "stream",
     "text": [
      "\r",
      "stem:  77%|███████▋  | 38298/50000 [08:23<02:47, 69.66it/s]"
     ]
    },
    {
     "name": "stderr",
     "output_type": "stream",
     "text": [
      "\r",
      "stem:  77%|███████▋  | 38286/50000 [08:23<02:38, 73.87it/s]"
     ]
    },
    {
     "name": "stderr",
     "output_type": "stream",
     "text": [
      "\r",
      "stem:  77%|███████▋  | 38276/50000 [08:23<02:49, 69.06it/s]"
     ]
    },
    {
     "name": "stderr",
     "output_type": "stream",
     "text": [
      "\r",
      "stem:  77%|███████▋  | 38268/50000 [08:23<02:49, 69.34it/s]"
     ]
    },
    {
     "name": "stderr",
     "output_type": "stream",
     "text": [
      "\r",
      "stem:  77%|███████▋  | 38256/50000 [08:22<02:26, 79.91it/s]"
     ]
    },
    {
     "name": "stderr",
     "output_type": "stream",
     "text": [
      "\r",
      "stem:  76%|███████▋  | 38244/50000 [08:22<02:04, 94.14it/s]"
     ]
    },
    {
     "name": "stderr",
     "output_type": "stream",
     "text": [
      "\r",
      "stem:  76%|███████▋  | 38226/50000 [08:22<02:21, 83.13it/s]"
     ]
    },
    {
     "name": "stderr",
     "output_type": "stream",
     "text": [
      "\r",
      "stem:  76%|███████▋  | 38214/50000 [08:22<02:13, 88.36it/s]"
     ]
    },
    {
     "name": "stderr",
     "output_type": "stream",
     "text": [
      "\r",
      "stem:  76%|███████▋  | 38196/50000 [08:22<02:25, 80.92it/s]"
     ]
    },
    {
     "name": "stderr",
     "output_type": "stream",
     "text": [
      "\r",
      "stem:  76%|███████▋  | 38184/50000 [08:22<02:38, 74.52it/s]"
     ]
    },
    {
     "name": "stderr",
     "output_type": "stream",
     "text": [
      "\r",
      "stem:  76%|███████▋  | 38172/50000 [08:21<02:35, 75.91it/s]"
     ]
    },
    {
     "name": "stderr",
     "output_type": "stream",
     "text": [
      "\r",
      "stem:  76%|███████▋  | 38160/50000 [08:21<02:58, 66.27it/s]"
     ]
    },
    {
     "name": "stderr",
     "output_type": "stream",
     "text": [
      "\r",
      "stem:  76%|███████▋  | 38151/50000 [08:21<02:20, 84.04it/s]"
     ]
    },
    {
     "name": "stderr",
     "output_type": "stream",
     "text": [
      "\r",
      "stem:  76%|███████▋  | 38142/50000 [08:21<02:23, 82.46it/s]"
     ]
    },
    {
     "name": "stderr",
     "output_type": "stream",
     "text": [
      "\r",
      "stem:  76%|███████▌  | 38124/50000 [08:21<02:35, 76.13it/s]"
     ]
    },
    {
     "name": "stderr",
     "output_type": "stream",
     "text": [
      "\r",
      "stem:  76%|███████▌  | 38107/50000 [08:21<02:44, 72.09it/s]"
     ]
    },
    {
     "name": "stderr",
     "output_type": "stream",
     "text": [
      "\r",
      "stem:  76%|███████▌  | 38098/50000 [08:20<02:35, 76.50it/s]"
     ]
    },
    {
     "name": "stderr",
     "output_type": "stream",
     "text": [
      "\r",
      "stem:  76%|███████▌  | 38089/50000 [08:20<02:19, 85.25it/s]"
     ]
    },
    {
     "name": "stderr",
     "output_type": "stream",
     "text": [
      "\r",
      "stem:  76%|███████▌  | 38079/50000 [08:20<02:22, 83.90it/s]"
     ]
    },
    {
     "name": "stderr",
     "output_type": "stream",
     "text": [
      "\r",
      "stem:  76%|███████▌  | 38069/50000 [08:20<02:15, 88.33it/s]"
     ]
    },
    {
     "name": "stderr",
     "output_type": "stream",
     "text": [
      "\r",
      "stem:  76%|███████▌  | 38058/50000 [08:20<02:14, 88.78it/s]"
     ]
    },
    {
     "name": "stderr",
     "output_type": "stream",
     "text": [
      "\r",
      "stem:  76%|███████▌  | 38040/50000 [08:20<02:33, 78.11it/s]"
     ]
    },
    {
     "name": "stderr",
     "output_type": "stream",
     "text": [
      "\r",
      "stem:  76%|███████▌  | 38028/50000 [08:20<02:20, 85.41it/s]"
     ]
    },
    {
     "name": "stderr",
     "output_type": "stream",
     "text": [
      "\r",
      "stem:  76%|███████▌  | 38010/50000 [08:19<02:44, 72.72it/s]"
     ]
    },
    {
     "name": "stderr",
     "output_type": "stream",
     "text": [
      "\r",
      "stem:  76%|███████▌  | 37998/50000 [08:19<02:26, 82.05it/s]"
     ]
    },
    {
     "name": "stderr",
     "output_type": "stream",
     "text": [
      "\r",
      "stem:  76%|███████▌  | 37986/50000 [08:19<02:30, 79.83it/s]"
     ]
    },
    {
     "name": "stderr",
     "output_type": "stream",
     "text": [
      "\r",
      "stem:  76%|███████▌  | 37974/50000 [08:19<02:35, 77.24it/s]"
     ]
    },
    {
     "name": "stderr",
     "output_type": "stream",
     "text": [
      "\r",
      "stem:  76%|███████▌  | 37956/50000 [08:19<02:59, 67.09it/s]"
     ]
    },
    {
     "name": "stderr",
     "output_type": "stream",
     "text": [
      "\r",
      "stem:  76%|███████▌  | 37944/50000 [08:19<02:24, 83.26it/s]"
     ]
    },
    {
     "name": "stderr",
     "output_type": "stream",
     "text": [
      "\r",
      "stem:  76%|███████▌  | 37932/50000 [08:18<02:37, 76.55it/s]"
     ]
    },
    {
     "name": "stderr",
     "output_type": "stream",
     "text": [
      "\r",
      "stem:  76%|███████▌  | 37920/50000 [08:18<02:36, 77.16it/s]"
     ]
    },
    {
     "name": "stderr",
     "output_type": "stream",
     "text": [
      "\r",
      "stem:  76%|███████▌  | 37902/50000 [08:18<03:01, 66.80it/s]"
     ]
    },
    {
     "name": "stderr",
     "output_type": "stream",
     "text": [
      "\r",
      "stem:  76%|███████▌  | 37879/50000 [08:18<03:11, 63.42it/s]"
     ]
    },
    {
     "name": "stderr",
     "output_type": "stream",
     "text": [
      "\r",
      "stem:  76%|███████▌  | 37871/50000 [08:18<02:45, 73.30it/s]"
     ]
    },
    {
     "name": "stderr",
     "output_type": "stream",
     "text": [
      "\r",
      "stem:  76%|███████▌  | 37863/50000 [08:18<02:40, 75.62it/s]"
     ]
    },
    {
     "name": "stderr",
     "output_type": "stream",
     "text": [
      "\r",
      "stem:  76%|███████▌  | 37854/50000 [08:17<02:38, 76.60it/s]"
     ]
    },
    {
     "name": "stderr",
     "output_type": "stream",
     "text": [
      "\r",
      "stem:  76%|███████▌  | 37836/50000 [08:17<02:49, 71.76it/s]"
     ]
    },
    {
     "name": "stderr",
     "output_type": "stream",
     "text": [
      "\r",
      "stem:  76%|███████▌  | 37818/50000 [08:17<03:01, 67.09it/s]"
     ]
    },
    {
     "name": "stderr",
     "output_type": "stream",
     "text": [
      "\r",
      "stem:  76%|███████▌  | 37806/50000 [08:17<03:17, 61.69it/s]"
     ]
    },
    {
     "name": "stderr",
     "output_type": "stream",
     "text": [
      "\r",
      "stem:  76%|███████▌  | 37797/50000 [08:17<02:36, 77.99it/s]"
     ]
    },
    {
     "name": "stderr",
     "output_type": "stream",
     "text": [
      "\r",
      "stem:  76%|███████▌  | 37788/50000 [08:17<02:35, 78.42it/s]"
     ]
    },
    {
     "name": "stderr",
     "output_type": "stream",
     "text": [
      "\r",
      "stem:  76%|███████▌  | 37776/50000 [08:16<02:30, 81.23it/s]"
     ]
    },
    {
     "name": "stderr",
     "output_type": "stream",
     "text": [
      "\r",
      "stem:  76%|███████▌  | 37764/50000 [08:16<02:24, 84.45it/s]"
     ]
    },
    {
     "name": "stderr",
     "output_type": "stream",
     "text": [
      "\r",
      "stem:  75%|███████▌  | 37749/50000 [08:16<02:47, 73.23it/s]"
     ]
    },
    {
     "name": "stderr",
     "output_type": "stream",
     "text": [
      "\r",
      "stem:  75%|███████▌  | 37740/50000 [08:16<02:25, 84.52it/s]"
     ]
    },
    {
     "name": "stderr",
     "output_type": "stream",
     "text": [
      "\r",
      "stem:  75%|███████▌  | 37728/50000 [08:16<02:31, 81.00it/s]"
     ]
    },
    {
     "name": "stderr",
     "output_type": "stream",
     "text": [
      "\r",
      "stem:  75%|███████▌  | 37716/50000 [08:16<02:40, 76.75it/s]"
     ]
    },
    {
     "name": "stderr",
     "output_type": "stream",
     "text": [
      "\r",
      "stem:  75%|███████▌  | 37704/50000 [08:16<02:31, 81.14it/s]"
     ]
    },
    {
     "name": "stderr",
     "output_type": "stream",
     "text": [
      "\r",
      "stem:  75%|███████▌  | 37693/50000 [08:15<02:33, 80.20it/s]"
     ]
    },
    {
     "name": "stderr",
     "output_type": "stream",
     "text": [
      "\r",
      "stem:  75%|███████▌  | 37683/50000 [08:15<02:24, 85.22it/s]"
     ]
    },
    {
     "name": "stderr",
     "output_type": "stream",
     "text": [
      "\r",
      "stem:  75%|███████▌  | 37672/50000 [08:15<02:10, 94.67it/s]"
     ]
    },
    {
     "name": "stderr",
     "output_type": "stream",
     "text": [
      "\r",
      "stem:  75%|███████▌  | 37661/50000 [08:15<02:11, 93.96it/s]"
     ]
    },
    {
     "name": "stderr",
     "output_type": "stream",
     "text": [
      "\r",
      "stem:  75%|███████▌  | 37650/50000 [08:15<02:11, 93.74it/s]"
     ]
    },
    {
     "name": "stderr",
     "output_type": "stream",
     "text": [
      "\r",
      "stem:  75%|███████▌  | 37632/50000 [08:15<02:31, 81.62it/s]"
     ]
    },
    {
     "name": "stderr",
     "output_type": "stream",
     "text": [
      "\r",
      "stem:  75%|███████▌  | 37620/50000 [08:15<02:35, 79.66it/s]"
     ]
    },
    {
     "name": "stderr",
     "output_type": "stream",
     "text": [
      "\r",
      "stem:  75%|███████▌  | 37608/50000 [08:14<02:40, 77.03it/s]"
     ]
    },
    {
     "name": "stderr",
     "output_type": "stream",
     "text": [
      "\r",
      "stem:  75%|███████▌  | 37590/50000 [08:14<03:09, 65.60it/s]"
     ]
    },
    {
     "name": "stderr",
     "output_type": "stream",
     "text": [
      "\r",
      "stem:  75%|███████▌  | 37572/50000 [08:14<03:18, 62.54it/s]"
     ]
    },
    {
     "name": "stderr",
     "output_type": "stream",
     "text": [
      "\r",
      "stem:  75%|███████▌  | 37563/50000 [08:14<02:50, 72.97it/s]"
     ]
    },
    {
     "name": "stderr",
     "output_type": "stream",
     "text": [
      "\r",
      "stem:  75%|███████▌  | 37554/50000 [08:14<02:52, 72.32it/s]"
     ]
    },
    {
     "name": "stderr",
     "output_type": "stream",
     "text": [
      "\r",
      "stem:  75%|███████▌  | 37538/50000 [08:14<03:24, 60.81it/s]"
     ]
    },
    {
     "name": "stderr",
     "output_type": "stream",
     "text": [
      "\r",
      "stem:  75%|███████▌  | 37530/50000 [08:13<03:07, 66.66it/s]"
     ]
    },
    {
     "name": "stderr",
     "output_type": "stream",
     "text": [
      "\r",
      "stem:  75%|███████▌  | 37518/50000 [08:13<03:25, 60.84it/s]"
     ]
    },
    {
     "name": "stderr",
     "output_type": "stream",
     "text": [
      "\r",
      "stem:  75%|███████▌  | 37509/50000 [08:13<03:43, 55.84it/s]"
     ]
    },
    {
     "name": "stderr",
     "output_type": "stream",
     "text": [
      "\r",
      "stem:  75%|███████▌  | 37502/50000 [08:13<03:53, 53.42it/s]"
     ]
    },
    {
     "name": "stderr",
     "output_type": "stream",
     "text": [
      "\r",
      "stem:  75%|███████▍  | 37494/50000 [08:13<03:17, 63.36it/s]"
     ]
    },
    {
     "name": "stderr",
     "output_type": "stream",
     "text": [
      "\r",
      "stem:  75%|███████▍  | 37482/50000 [08:13<03:22, 61.79it/s]"
     ]
    },
    {
     "name": "stderr",
     "output_type": "stream",
     "text": [
      "\r",
      "stem:  75%|███████▍  | 37470/50000 [08:13<03:43, 56.04it/s]"
     ]
    },
    {
     "name": "stderr",
     "output_type": "stream",
     "text": [
      "\r",
      "stem:  75%|███████▍  | 37454/50000 [08:12<03:48, 54.98it/s]"
     ]
    },
    {
     "name": "stderr",
     "output_type": "stream",
     "text": [
      "\r",
      "stem:  75%|███████▍  | 37444/50000 [08:12<02:19, 89.81it/s]"
     ]
    },
    {
     "name": "stderr",
     "output_type": "stream",
     "text": [
      "\r",
      "stem:  75%|███████▍  | 37434/50000 [08:12<02:16, 91.87it/s]"
     ]
    },
    {
     "name": "stderr",
     "output_type": "stream",
     "text": [
      "\r",
      "stem:  75%|███████▍  | 37422/50000 [08:12<02:23, 87.57it/s]"
     ]
    },
    {
     "name": "stderr",
     "output_type": "stream",
     "text": [
      "\r",
      "stem:  75%|███████▍  | 37410/50000 [08:12<02:29, 84.02it/s]"
     ]
    },
    {
     "name": "stderr",
     "output_type": "stream",
     "text": [
      "\r",
      "stem:  75%|███████▍  | 37398/50000 [08:12<02:49, 74.54it/s]"
     ]
    },
    {
     "name": "stderr",
     "output_type": "stream",
     "text": [
      "\r",
      "stem:  75%|███████▍  | 37386/50000 [08:11<02:54, 72.27it/s]"
     ]
    },
    {
     "name": "stderr",
     "output_type": "stream",
     "text": [
      "\r",
      "stem:  75%|███████▍  | 37368/50000 [08:11<03:17, 64.11it/s]"
     ]
    },
    {
     "name": "stderr",
     "output_type": "stream",
     "text": [
      "\r",
      "stem:  75%|███████▍  | 37356/50000 [08:11<02:38, 79.99it/s]"
     ]
    },
    {
     "name": "stderr",
     "output_type": "stream",
     "text": [
      "\r",
      "stem:  75%|███████▍  | 37344/50000 [08:11<02:30, 83.84it/s]"
     ]
    },
    {
     "name": "stderr",
     "output_type": "stream",
     "text": [
      "\r",
      "stem:  75%|███████▍  | 37326/50000 [08:10<02:18, 91.47it/s]"
     ]
    },
    {
     "name": "stderr",
     "output_type": "stream",
     "text": [
      "\r",
      "stem:  75%|███████▍  | 37314/50000 [08:10<02:22, 89.14it/s]"
     ]
    },
    {
     "name": "stderr",
     "output_type": "stream",
     "text": [
      "\r",
      "stem:  75%|███████▍  | 37302/50000 [08:10<02:16, 93.32it/s]"
     ]
    },
    {
     "name": "stderr",
     "output_type": "stream",
     "text": [
      "\r",
      "stem:  75%|███████▍  | 37290/50000 [08:10<02:20, 90.24it/s]"
     ]
    },
    {
     "name": "stderr",
     "output_type": "stream",
     "text": [
      "\r",
      "stem:  75%|███████▍  | 37278/50000 [08:10<02:25, 87.63it/s]"
     ]
    },
    {
     "name": "stderr",
     "output_type": "stream",
     "text": [
      "\r",
      "stem:  75%|███████▍  | 37266/50000 [08:10<02:41, 78.82it/s]"
     ]
    },
    {
     "name": "stderr",
     "output_type": "stream",
     "text": [
      "\r",
      "stem:  75%|███████▍  | 37254/50000 [08:10<02:59, 70.89it/s]"
     ]
    },
    {
     "name": "stderr",
     "output_type": "stream",
     "text": [
      "\r",
      "stem:  74%|███████▍  | 37242/50000 [08:10<02:32, 83.40it/s]"
     ]
    },
    {
     "name": "stderr",
     "output_type": "stream",
     "text": [
      "\r",
      "stem:  74%|███████▍  | 37230/50000 [08:09<02:34, 82.72it/s]"
     ]
    },
    {
     "name": "stderr",
     "output_type": "stream",
     "text": [
      "\r",
      "stem:  74%|███████▍  | 37218/50000 [08:09<02:30, 85.02it/s]"
     ]
    },
    {
     "name": "stderr",
     "output_type": "stream",
     "text": [
      "\r",
      "stem:  74%|███████▍  | 37203/50000 [08:09<02:37, 81.26it/s]"
     ]
    },
    {
     "name": "stderr",
     "output_type": "stream",
     "text": [
      "\r",
      "stem:  74%|███████▍  | 37194/50000 [08:09<02:37, 81.33it/s]"
     ]
    },
    {
     "name": "stderr",
     "output_type": "stream",
     "text": [
      "\r",
      "stem:  74%|███████▍  | 37182/50000 [08:09<02:40, 79.90it/s]"
     ]
    },
    {
     "name": "stderr",
     "output_type": "stream",
     "text": [
      "\r",
      "stem:  74%|███████▍  | 37171/50000 [08:09<02:26, 87.54it/s]"
     ]
    },
    {
     "name": "stderr",
     "output_type": "stream",
     "text": [
      "\r",
      "stem:  74%|███████▍  | 37161/50000 [08:09<02:13, 95.88it/s]"
     ]
    },
    {
     "name": "stderr",
     "output_type": "stream",
     "text": [
      "\r",
      "stem:  74%|███████▍  | 37151/50000 [08:08<02:15, 94.97it/s] "
     ]
    },
    {
     "name": "stderr",
     "output_type": "stream",
     "text": [
      "\r",
      "stem:  74%|███████▍  | 37140/50000 [08:08<02:04, 103.62it/s]"
     ]
    },
    {
     "name": "stderr",
     "output_type": "stream",
     "text": [
      "\r",
      "stem:  74%|███████▍  | 37127/50000 [08:08<02:14, 95.75it/s]"
     ]
    },
    {
     "name": "stderr",
     "output_type": "stream",
     "text": [
      "\r",
      "stem:  74%|███████▍  | 37116/50000 [08:08<02:11, 98.31it/s]"
     ]
    },
    {
     "name": "stderr",
     "output_type": "stream",
     "text": [
      "\r",
      "stem:  74%|███████▍  | 37104/50000 [08:08<02:15, 95.27it/s]"
     ]
    },
    {
     "name": "stderr",
     "output_type": "stream",
     "text": [
      "\r",
      "stem:  74%|███████▍  | 37080/50000 [08:08<02:24, 89.38it/s]"
     ]
    },
    {
     "name": "stderr",
     "output_type": "stream",
     "text": [
      "\r",
      "stem:  74%|███████▍  | 37068/50000 [08:08<02:38, 81.63it/s]"
     ]
    },
    {
     "name": "stderr",
     "output_type": "stream",
     "text": [
      "\r",
      "stem:  74%|███████▍  | 37056/50000 [08:07<02:22, 90.94it/s]"
     ]
    },
    {
     "name": "stderr",
     "output_type": "stream",
     "text": [
      "\r",
      "stem:  74%|███████▍  | 37037/50000 [08:07<02:40, 80.84it/s]"
     ]
    },
    {
     "name": "stderr",
     "output_type": "stream",
     "text": [
      "\r",
      "stem:  74%|███████▍  | 37028/50000 [08:07<02:43, 79.32it/s]"
     ]
    },
    {
     "name": "stderr",
     "output_type": "stream",
     "text": [
      "\r",
      "stem:  74%|███████▍  | 37018/50000 [08:07<02:36, 82.98it/s]"
     ]
    },
    {
     "name": "stderr",
     "output_type": "stream",
     "text": [
      "\r",
      "stem:  74%|███████▍  | 37008/50000 [08:07<02:36, 83.27it/s]"
     ]
    },
    {
     "name": "stderr",
     "output_type": "stream",
     "text": [
      "\r",
      "stem:  74%|███████▍  | 36990/50000 [08:07<03:06, 69.79it/s]"
     ]
    },
    {
     "name": "stderr",
     "output_type": "stream",
     "text": [
      "\r",
      "stem:  74%|███████▍  | 36974/50000 [08:07<02:58, 72.88it/s]"
     ]
    },
    {
     "name": "stderr",
     "output_type": "stream",
     "text": [
      "\r",
      "stem:  74%|███████▍  | 36966/50000 [08:06<02:48, 77.42it/s]"
     ]
    },
    {
     "name": "stderr",
     "output_type": "stream",
     "text": [
      "\r",
      "stem:  74%|███████▍  | 36957/50000 [08:06<02:50, 76.62it/s]"
     ]
    },
    {
     "name": "stderr",
     "output_type": "stream",
     "text": [
      "\r",
      "stem:  74%|███████▍  | 36948/50000 [08:06<02:46, 78.36it/s]"
     ]
    },
    {
     "name": "stderr",
     "output_type": "stream",
     "text": [
      "\r",
      "stem:  74%|███████▍  | 36939/50000 [08:06<02:43, 79.87it/s]"
     ]
    },
    {
     "name": "stderr",
     "output_type": "stream",
     "text": [
      "\r",
      "stem:  74%|███████▍  | 36930/50000 [08:06<02:50, 76.52it/s]"
     ]
    },
    {
     "name": "stderr",
     "output_type": "stream",
     "text": [
      "\r",
      "stem:  74%|███████▍  | 36913/50000 [08:06<03:21, 65.03it/s]"
     ]
    },
    {
     "name": "stderr",
     "output_type": "stream",
     "text": [
      "\r",
      "stem:  74%|███████▍  | 36906/50000 [08:06<03:20, 65.34it/s]"
     ]
    },
    {
     "name": "stderr",
     "output_type": "stream",
     "text": [
      "\r",
      "stem:  74%|███████▍  | 36894/50000 [08:06<03:19, 65.60it/s]"
     ]
    },
    {
     "name": "stderr",
     "output_type": "stream",
     "text": [
      "\r",
      "stem:  74%|███████▍  | 36878/50000 [08:05<03:26, 63.65it/s]"
     ]
    },
    {
     "name": "stderr",
     "output_type": "stream",
     "text": [
      "\r",
      "stem:  74%|███████▎  | 36870/50000 [08:05<03:28, 63.10it/s]"
     ]
    },
    {
     "name": "stderr",
     "output_type": "stream",
     "text": [
      "\r",
      "stem:  74%|███████▎  | 36858/50000 [08:05<03:58, 55.18it/s]"
     ]
    },
    {
     "name": "stderr",
     "output_type": "stream",
     "text": [
      "\r",
      "stem:  74%|███████▎  | 36847/50000 [08:05<04:10, 52.41it/s]"
     ]
    },
    {
     "name": "stderr",
     "output_type": "stream",
     "text": [
      "\r",
      "stem:  74%|███████▎  | 36840/50000 [08:05<03:46, 58.20it/s]"
     ]
    },
    {
     "name": "stderr",
     "output_type": "stream",
     "text": [
      "\r",
      "stem:  74%|███████▎  | 36830/50000 [08:05<03:11, 68.91it/s]"
     ]
    },
    {
     "name": "stderr",
     "output_type": "stream",
     "text": [
      "\r",
      "stem:  74%|███████▎  | 36822/50000 [08:04<02:59, 73.41it/s]"
     ]
    },
    {
     "name": "stderr",
     "output_type": "stream",
     "text": [
      "\r",
      "stem:  74%|███████▎  | 36804/50000 [08:04<02:57, 74.46it/s]"
     ]
    },
    {
     "name": "stderr",
     "output_type": "stream",
     "text": [
      "\r",
      "stem:  74%|███████▎  | 36792/50000 [08:04<02:26, 89.88it/s]"
     ]
    },
    {
     "name": "stderr",
     "output_type": "stream",
     "text": [
      "\r",
      "stem:  74%|███████▎  | 36778/50000 [08:04<02:42, 81.29it/s]"
     ]
    },
    {
     "name": "stderr",
     "output_type": "stream",
     "text": [
      "\r",
      "stem:  74%|███████▎  | 36768/50000 [08:04<02:30, 87.80it/s]"
     ]
    },
    {
     "name": "stderr",
     "output_type": "stream",
     "text": [
      "\r",
      "stem:  74%|███████▎  | 36756/50000 [08:03<02:23, 92.06it/s]"
     ]
    },
    {
     "name": "stderr",
     "output_type": "stream",
     "text": [
      "\r",
      "stem:  73%|███████▎  | 36738/50000 [08:03<02:30, 88.40it/s]"
     ]
    },
    {
     "name": "stderr",
     "output_type": "stream",
     "text": [
      "\r",
      "stem:  73%|███████▎  | 36714/50000 [08:03<02:43, 81.24it/s]"
     ]
    },
    {
     "name": "stderr",
     "output_type": "stream",
     "text": [
      "\r",
      "stem:  73%|███████▎  | 36696/50000 [08:03<02:50, 78.02it/s]"
     ]
    },
    {
     "name": "stderr",
     "output_type": "stream",
     "text": [
      "\r",
      "stem:  73%|███████▎  | 36684/50000 [08:03<02:37, 84.52it/s]"
     ]
    },
    {
     "name": "stderr",
     "output_type": "stream",
     "text": [
      "\r",
      "stem:  73%|███████▎  | 36672/50000 [08:03<02:32, 87.41it/s]"
     ]
    },
    {
     "name": "stderr",
     "output_type": "stream",
     "text": [
      "\r",
      "stem:  73%|███████▎  | 36648/50000 [08:02<03:12, 69.45it/s]"
     ]
    },
    {
     "name": "stderr",
     "output_type": "stream",
     "text": [
      "\r",
      "stem:  73%|███████▎  | 36627/50000 [08:02<03:24, 65.52it/s]"
     ]
    },
    {
     "name": "stderr",
     "output_type": "stream",
     "text": [
      "\r",
      "stem:  73%|███████▎  | 36618/50000 [08:02<02:43, 81.76it/s]"
     ]
    },
    {
     "name": "stderr",
     "output_type": "stream",
     "text": [
      "\r",
      "stem:  73%|███████▎  | 36603/50000 [08:02<03:02, 73.27it/s]"
     ]
    },
    {
     "name": "stderr",
     "output_type": "stream",
     "text": [
      "\r",
      "stem:  73%|███████▎  | 36594/50000 [08:02<02:39, 83.89it/s]"
     ]
    },
    {
     "name": "stderr",
     "output_type": "stream",
     "text": [
      "\r",
      "stem:  73%|███████▎  | 36582/50000 [08:02<02:36, 85.51it/s]"
     ]
    },
    {
     "name": "stderr",
     "output_type": "stream",
     "text": [
      "\r",
      "stem:  73%|███████▎  | 36570/50000 [08:01<02:56, 76.23it/s]"
     ]
    },
    {
     "name": "stderr",
     "output_type": "stream",
     "text": [
      "\r",
      "stem:  73%|███████▎  | 36546/50000 [08:01<02:56, 76.04it/s]"
     ]
    },
    {
     "name": "stderr",
     "output_type": "stream",
     "text": [
      "\r",
      "stem:  73%|███████▎  | 36531/50000 [08:01<02:57, 75.75it/s]"
     ]
    },
    {
     "name": "stderr",
     "output_type": "stream",
     "text": [
      "\r",
      "stem:  73%|███████▎  | 36522/50000 [08:01<02:38, 84.91it/s]"
     ]
    },
    {
     "name": "stderr",
     "output_type": "stream",
     "text": [
      "\r",
      "stem:  73%|███████▎  | 36508/50000 [08:01<02:39, 84.44it/s]"
     ]
    },
    {
     "name": "stderr",
     "output_type": "stream",
     "text": [
      "\r",
      "stem:  73%|███████▎  | 36498/50000 [08:00<02:32, 88.62it/s]"
     ]
    },
    {
     "name": "stderr",
     "output_type": "stream",
     "text": [
      "\r",
      "stem:  73%|███████▎  | 36474/50000 [08:00<02:53, 78.06it/s]"
     ]
    },
    {
     "name": "stderr",
     "output_type": "stream",
     "text": [
      "\r",
      "stem:  73%|███████▎  | 36462/50000 [08:00<02:49, 79.91it/s]"
     ]
    },
    {
     "name": "stderr",
     "output_type": "stream",
     "text": [
      "\r",
      "stem:  73%|███████▎  | 36450/50000 [08:00<02:36, 86.84it/s]"
     ]
    },
    {
     "name": "stderr",
     "output_type": "stream",
     "text": [
      "\r",
      "stem:  73%|███████▎  | 36432/50000 [08:00<03:00, 75.02it/s]"
     ]
    },
    {
     "name": "stderr",
     "output_type": "stream",
     "text": [
      "\r",
      "stem:  73%|███████▎  | 36414/50000 [08:00<03:13, 70.05it/s]"
     ]
    },
    {
     "name": "stderr",
     "output_type": "stream",
     "text": [
      "\r",
      "stem:  73%|███████▎  | 36402/50000 [07:59<03:04, 73.76it/s]"
     ]
    },
    {
     "name": "stderr",
     "output_type": "stream",
     "text": [
      "\r",
      "stem:  73%|███████▎  | 36390/50000 [07:59<03:01, 75.19it/s]"
     ]
    },
    {
     "name": "stderr",
     "output_type": "stream",
     "text": [
      "\r",
      "stem:  73%|███████▎  | 36366/50000 [07:59<03:07, 72.90it/s]"
     ]
    },
    {
     "name": "stderr",
     "output_type": "stream",
     "text": [
      "\r",
      "stem:  73%|███████▎  | 36348/50000 [07:59<03:32, 64.16it/s]"
     ]
    },
    {
     "name": "stderr",
     "output_type": "stream",
     "text": [
      "\r",
      "stem:  73%|███████▎  | 36327/50000 [07:59<03:57, 57.58it/s]"
     ]
    },
    {
     "name": "stderr",
     "output_type": "stream",
     "text": [
      "\r",
      "stem:  73%|███████▎  | 36318/50000 [07:58<03:14, 70.48it/s]"
     ]
    },
    {
     "name": "stderr",
     "output_type": "stream",
     "text": [
      "\r",
      "stem:  73%|███████▎  | 36306/50000 [07:58<03:40, 62.09it/s]"
     ]
    },
    {
     "name": "stderr",
     "output_type": "stream",
     "text": [
      "\r",
      "stem:  73%|███████▎  | 36294/50000 [07:58<03:09, 72.26it/s]"
     ]
    },
    {
     "name": "stderr",
     "output_type": "stream",
     "text": [
      "\r",
      "stem:  73%|███████▎  | 36279/50000 [07:58<03:36, 63.28it/s]"
     ]
    },
    {
     "name": "stderr",
     "output_type": "stream",
     "text": [
      "\r",
      "stem:  73%|███████▎  | 36271/50000 [07:58<03:41, 62.08it/s]"
     ]
    },
    {
     "name": "stderr",
     "output_type": "stream",
     "text": [
      "\r",
      "stem:  73%|███████▎  | 36262/50000 [07:57<02:49, 81.07it/s]"
     ]
    },
    {
     "name": "stderr",
     "output_type": "stream",
     "text": [
      "\r",
      "stem:  73%|███████▎  | 36252/50000 [07:57<02:45, 83.12it/s]"
     ]
    },
    {
     "name": "stderr",
     "output_type": "stream",
     "text": [
      "\r",
      "stem:  72%|███████▏  | 36234/50000 [07:57<02:59, 76.86it/s]"
     ]
    },
    {
     "name": "stderr",
     "output_type": "stream",
     "text": [
      "\r",
      "stem:  72%|███████▏  | 36222/50000 [07:57<02:40, 85.78it/s]"
     ]
    },
    {
     "name": "stderr",
     "output_type": "stream",
     "text": [
      "\r",
      "stem:  72%|███████▏  | 36210/50000 [07:57<02:23, 96.12it/s]"
     ]
    },
    {
     "name": "stderr",
     "output_type": "stream",
     "text": [
      "\r",
      "stem:  72%|███████▏  | 36192/50000 [07:57<02:46, 83.17it/s]"
     ]
    },
    {
     "name": "stderr",
     "output_type": "stream",
     "text": [
      "\r",
      "stem:  72%|███████▏  | 36168/50000 [07:57<03:09, 72.87it/s]"
     ]
    },
    {
     "name": "stderr",
     "output_type": "stream",
     "text": [
      "\r",
      "stem:  72%|███████▏  | 36144/50000 [07:56<03:13, 71.44it/s]"
     ]
    },
    {
     "name": "stderr",
     "output_type": "stream",
     "text": [
      "\r",
      "stem:  72%|███████▏  | 36126/50000 [07:56<03:31, 65.72it/s]"
     ]
    },
    {
     "name": "stderr",
     "output_type": "stream",
     "text": [
      "\r",
      "stem:  72%|███████▏  | 36111/50000 [07:56<03:17, 70.15it/s]"
     ]
    },
    {
     "name": "stderr",
     "output_type": "stream",
     "text": [
      "\r",
      "stem:  72%|███████▏  | 36102/50000 [07:56<03:15, 71.07it/s]"
     ]
    },
    {
     "name": "stderr",
     "output_type": "stream",
     "text": [
      "\r",
      "stem:  72%|███████▏  | 36084/50000 [07:55<03:48, 60.92it/s]"
     ]
    },
    {
     "name": "stderr",
     "output_type": "stream",
     "text": [
      "\r",
      "stem:  72%|███████▏  | 36066/50000 [07:55<04:30, 51.60it/s]"
     ]
    },
    {
     "name": "stderr",
     "output_type": "stream",
     "text": [
      "\r",
      "stem:  72%|███████▏  | 36049/50000 [07:55<05:17, 43.93it/s]"
     ]
    },
    {
     "name": "stderr",
     "output_type": "stream",
     "text": [
      "\r",
      "stem:  72%|███████▏  | 36042/50000 [07:55<03:54, 59.52it/s]"
     ]
    },
    {
     "name": "stderr",
     "output_type": "stream",
     "text": [
      "\r",
      "stem:  72%|███████▏  | 36030/50000 [07:55<03:34, 65.15it/s]"
     ]
    },
    {
     "name": "stderr",
     "output_type": "stream",
     "text": [
      "\r",
      "stem:  72%|███████▏  | 36018/50000 [07:54<03:11, 72.87it/s]"
     ]
    },
    {
     "name": "stderr",
     "output_type": "stream",
     "text": [
      "\r",
      "stem:  72%|███████▏  | 36000/50000 [07:54<03:20, 70.00it/s]"
     ]
    },
    {
     "name": "stderr",
     "output_type": "stream",
     "text": [
      "\r",
      "stem:  72%|███████▏  | 35988/50000 [07:54<03:50, 60.87it/s]"
     ]
    },
    {
     "name": "stderr",
     "output_type": "stream",
     "text": [
      "\r",
      "stem:  72%|███████▏  | 35976/50000 [07:54<04:02, 57.78it/s]"
     ]
    },
    {
     "name": "stderr",
     "output_type": "stream",
     "text": [
      "\r",
      "stem:  72%|███████▏  | 35966/50000 [07:54<04:17, 54.60it/s]"
     ]
    },
    {
     "name": "stderr",
     "output_type": "stream",
     "text": [
      "\r",
      "stem:  72%|███████▏  | 35958/50000 [07:53<03:33, 65.64it/s]"
     ]
    },
    {
     "name": "stderr",
     "output_type": "stream",
     "text": [
      "\r",
      "stem:  72%|███████▏  | 35940/50000 [07:53<04:08, 56.53it/s]"
     ]
    },
    {
     "name": "stderr",
     "output_type": "stream",
     "text": [
      "\r",
      "stem:  72%|███████▏  | 35922/50000 [07:53<04:38, 50.49it/s]"
     ]
    },
    {
     "name": "stderr",
     "output_type": "stream",
     "text": [
      "\r",
      "stem:  72%|███████▏  | 35904/50000 [07:53<05:31, 42.54it/s]"
     ]
    },
    {
     "name": "stderr",
     "output_type": "stream",
     "text": [
      "\r",
      "stem:  72%|███████▏  | 35898/50000 [07:53<05:54, 39.76it/s]"
     ]
    },
    {
     "name": "stderr",
     "output_type": "stream",
     "text": [
      "\r",
      "stem:  72%|███████▏  | 35892/50000 [07:53<05:27, 43.02it/s]"
     ]
    },
    {
     "name": "stderr",
     "output_type": "stream",
     "text": [
      "\r",
      "stem:  72%|███████▏  | 35880/50000 [07:52<04:45, 49.42it/s]"
     ]
    },
    {
     "name": "stderr",
     "output_type": "stream",
     "text": [
      "\r",
      "stem:  72%|███████▏  | 35874/50000 [07:52<05:04, 46.43it/s]"
     ]
    },
    {
     "name": "stderr",
     "output_type": "stream",
     "text": [
      "\r",
      "stem:  72%|███████▏  | 35868/50000 [07:52<04:57, 47.57it/s]"
     ]
    },
    {
     "name": "stderr",
     "output_type": "stream",
     "text": [
      "\r",
      "stem:  72%|███████▏  | 35856/50000 [07:52<05:34, 42.23it/s]"
     ]
    },
    {
     "name": "stderr",
     "output_type": "stream",
     "text": [
      "\r",
      "stem:  72%|███████▏  | 35844/50000 [07:52<05:24, 43.59it/s]"
     ]
    },
    {
     "name": "stderr",
     "output_type": "stream",
     "text": [
      "\r",
      "stem:  72%|███████▏  | 35832/50000 [07:51<04:19, 54.54it/s]"
     ]
    },
    {
     "name": "stderr",
     "output_type": "stream",
     "text": [
      "\r",
      "stem:  72%|███████▏  | 35822/50000 [07:51<04:14, 55.62it/s]"
     ]
    },
    {
     "name": "stderr",
     "output_type": "stream",
     "text": [
      "\r",
      "stem:  72%|███████▏  | 35814/50000 [07:51<04:13, 56.04it/s]"
     ]
    },
    {
     "name": "stderr",
     "output_type": "stream",
     "text": [
      "\r",
      "stem:  72%|███████▏  | 35798/50000 [07:51<04:56, 47.83it/s]"
     ]
    },
    {
     "name": "stderr",
     "output_type": "stream",
     "text": [
      "\r",
      "stem:  72%|███████▏  | 35790/50000 [07:50<03:51, 61.48it/s]"
     ]
    },
    {
     "name": "stderr",
     "output_type": "stream",
     "text": [
      "\r",
      "stem:  72%|███████▏  | 35780/50000 [07:50<04:15, 55.61it/s]"
     ]
    },
    {
     "name": "stderr",
     "output_type": "stream",
     "text": [
      "\r",
      "stem:  72%|███████▏  | 35772/50000 [07:50<03:53, 60.82it/s]"
     ]
    },
    {
     "name": "stderr",
     "output_type": "stream",
     "text": [
      "\r",
      "stem:  72%|███████▏  | 35754/50000 [07:50<04:46, 49.74it/s]"
     ]
    },
    {
     "name": "stderr",
     "output_type": "stream",
     "text": [
      "\r",
      "stem:  71%|███████▏  | 35742/50000 [07:50<05:06, 46.58it/s]"
     ]
    },
    {
     "name": "stderr",
     "output_type": "stream",
     "text": [
      "\r",
      "stem:  71%|███████▏  | 35730/50000 [07:49<03:23, 70.05it/s]"
     ]
    },
    {
     "name": "stderr",
     "output_type": "stream",
     "text": [
      "\r",
      "stem:  71%|███████▏  | 35721/50000 [07:49<03:15, 72.87it/s]"
     ]
    },
    {
     "name": "stderr",
     "output_type": "stream",
     "text": [
      "\r",
      "stem:  71%|███████▏  | 35712/50000 [07:49<02:55, 81.32it/s]"
     ]
    },
    {
     "name": "stderr",
     "output_type": "stream",
     "text": [
      "\r",
      "stem:  71%|███████▏  | 35700/50000 [07:49<03:04, 77.31it/s]"
     ]
    },
    {
     "name": "stderr",
     "output_type": "stream",
     "text": [
      "\r",
      "stem:  71%|███████▏  | 35682/50000 [07:49<03:21, 70.89it/s]"
     ]
    },
    {
     "name": "stderr",
     "output_type": "stream",
     "text": [
      "\r",
      "stem:  71%|███████▏  | 35670/50000 [07:48<03:13, 74.04it/s]"
     ]
    },
    {
     "name": "stderr",
     "output_type": "stream",
     "text": [
      "\r",
      "stem:  71%|███████▏  | 35661/50000 [07:48<03:10, 75.19it/s]"
     ]
    },
    {
     "name": "stderr",
     "output_type": "stream",
     "text": [
      "\r",
      "stem:  71%|███████▏  | 35652/50000 [07:48<03:03, 78.13it/s]"
     ]
    },
    {
     "name": "stderr",
     "output_type": "stream",
     "text": [
      "\r",
      "stem:  71%|███████▏  | 35640/50000 [07:48<03:16, 72.96it/s]"
     ]
    },
    {
     "name": "stderr",
     "output_type": "stream",
     "text": [
      "\r",
      "stem:  71%|███████▏  | 35629/50000 [07:48<03:44, 63.93it/s]"
     ]
    },
    {
     "name": "stderr",
     "output_type": "stream",
     "text": [
      "\r",
      "stem:  71%|███████   | 35622/50000 [07:48<03:40, 65.34it/s]"
     ]
    },
    {
     "name": "stderr",
     "output_type": "stream",
     "text": [
      "\r",
      "stem:  71%|███████   | 35612/50000 [07:48<03:34, 67.22it/s]"
     ]
    },
    {
     "name": "stderr",
     "output_type": "stream",
     "text": [
      "\r",
      "stem:  71%|███████   | 35604/50000 [07:48<03:21, 71.55it/s]"
     ]
    },
    {
     "name": "stderr",
     "output_type": "stream",
     "text": [
      "\r",
      "stem:  71%|███████   | 35596/50000 [07:47<03:18, 72.52it/s]"
     ]
    },
    {
     "name": "stderr",
     "output_type": "stream",
     "text": [
      "\r",
      "stem:  71%|███████   | 35588/50000 [07:47<03:24, 70.47it/s]"
     ]
    },
    {
     "name": "stderr",
     "output_type": "stream",
     "text": [
      "\r",
      "stem:  71%|███████   | 35580/50000 [07:47<03:32, 67.78it/s]"
     ]
    },
    {
     "name": "stderr",
     "output_type": "stream",
     "text": [
      "\r",
      "stem:  71%|███████   | 35571/50000 [07:47<03:05, 77.69it/s]"
     ]
    },
    {
     "name": "stderr",
     "output_type": "stream",
     "text": [
      "\r",
      "stem:  71%|███████   | 35562/50000 [07:47<03:12, 75.16it/s]"
     ]
    },
    {
     "name": "stderr",
     "output_type": "stream",
     "text": [
      "\r",
      "stem:  71%|███████   | 35550/50000 [07:47<03:25, 70.44it/s]"
     ]
    },
    {
     "name": "stderr",
     "output_type": "stream",
     "text": [
      "\r",
      "stem:  71%|███████   | 35532/50000 [07:47<03:42, 64.90it/s]"
     ]
    },
    {
     "name": "stderr",
     "output_type": "stream",
     "text": [
      "\r",
      "stem:  71%|███████   | 35520/50000 [07:46<03:10, 76.02it/s]"
     ]
    },
    {
     "name": "stderr",
     "output_type": "stream",
     "text": [
      "\r",
      "stem:  71%|███████   | 35508/50000 [07:46<03:39, 66.11it/s]"
     ]
    },
    {
     "name": "stderr",
     "output_type": "stream",
     "text": [
      "\r",
      "stem:  71%|███████   | 35498/50000 [07:46<03:36, 66.92it/s]"
     ]
    },
    {
     "name": "stderr",
     "output_type": "stream",
     "text": [
      "\r",
      "stem:  71%|███████   | 35490/50000 [07:46<03:32, 68.17it/s]"
     ]
    },
    {
     "name": "stderr",
     "output_type": "stream",
     "text": [
      "\r",
      "stem:  71%|███████   | 35481/50000 [07:46<03:03, 79.27it/s]"
     ]
    },
    {
     "name": "stderr",
     "output_type": "stream",
     "text": [
      "\r",
      "stem:  71%|███████   | 35472/50000 [07:46<03:12, 75.63it/s]"
     ]
    },
    {
     "name": "stderr",
     "output_type": "stream",
     "text": [
      "\r",
      "stem:  71%|███████   | 35460/50000 [07:46<03:08, 77.14it/s]"
     ]
    },
    {
     "name": "stderr",
     "output_type": "stream",
     "text": [
      "\r",
      "stem:  71%|███████   | 35440/50000 [07:45<03:39, 66.30it/s]"
     ]
    },
    {
     "name": "stderr",
     "output_type": "stream",
     "text": [
      "\r",
      "stem:  71%|███████   | 35432/50000 [07:45<03:40, 65.98it/s]"
     ]
    },
    {
     "name": "stderr",
     "output_type": "stream",
     "text": [
      "\r",
      "stem:  71%|███████   | 35424/50000 [07:45<03:35, 67.63it/s]"
     ]
    },
    {
     "name": "stderr",
     "output_type": "stream",
     "text": [
      "\r",
      "stem:  71%|███████   | 35412/50000 [07:45<03:44, 64.86it/s]"
     ]
    },
    {
     "name": "stderr",
     "output_type": "stream",
     "text": [
      "\r",
      "stem:  71%|███████   | 35400/50000 [07:45<04:26, 54.82it/s]"
     ]
    },
    {
     "name": "stderr",
     "output_type": "stream",
     "text": [
      "\r",
      "stem:  71%|███████   | 35383/50000 [07:45<04:46, 50.96it/s]"
     ]
    },
    {
     "name": "stderr",
     "output_type": "stream",
     "text": [
      "\r",
      "stem:  71%|███████   | 35376/50000 [07:44<04:10, 58.39it/s]"
     ]
    },
    {
     "name": "stderr",
     "output_type": "stream",
     "text": [
      "\r",
      "stem:  71%|███████   | 35364/50000 [07:44<03:39, 66.80it/s]"
     ]
    },
    {
     "name": "stderr",
     "output_type": "stream",
     "text": [
      "\r",
      "stem:  71%|███████   | 35344/50000 [07:44<04:08, 58.96it/s]"
     ]
    },
    {
     "name": "stderr",
     "output_type": "stream",
     "text": [
      "\r",
      "stem:  71%|███████   | 35336/50000 [07:44<03:46, 64.85it/s]"
     ]
    },
    {
     "name": "stderr",
     "output_type": "stream",
     "text": [
      "\r",
      "stem:  71%|███████   | 35328/50000 [07:44<03:29, 70.00it/s]"
     ]
    },
    {
     "name": "stderr",
     "output_type": "stream",
     "text": [
      "\r",
      "stem:  71%|███████   | 35316/50000 [07:44<03:59, 61.37it/s]"
     ]
    },
    {
     "name": "stderr",
     "output_type": "stream",
     "text": [
      "\r",
      "stem:  71%|███████   | 35304/50000 [07:43<04:13, 57.97it/s]"
     ]
    },
    {
     "name": "stderr",
     "output_type": "stream",
     "text": [
      "\r",
      "stem:  71%|███████   | 35293/50000 [07:43<03:57, 61.89it/s]"
     ]
    },
    {
     "name": "stderr",
     "output_type": "stream",
     "text": [
      "\r",
      "stem:  71%|███████   | 35284/50000 [07:43<03:18, 73.95it/s]"
     ]
    },
    {
     "name": "stderr",
     "output_type": "stream",
     "text": [
      "\r",
      "stem:  71%|███████   | 35274/50000 [07:43<02:54, 84.51it/s]"
     ]
    },
    {
     "name": "stderr",
     "output_type": "stream",
     "text": [
      "\r",
      "stem:  71%|███████   | 35256/50000 [07:43<03:21, 73.22it/s]"
     ]
    },
    {
     "name": "stderr",
     "output_type": "stream",
     "text": [
      "\r",
      "stem:  70%|███████   | 35247/50000 [07:42<03:11, 77.15it/s]"
     ]
    },
    {
     "name": "stderr",
     "output_type": "stream",
     "text": [
      "\r",
      "stem:  70%|███████   | 35238/50000 [07:42<03:01, 81.40it/s]"
     ]
    },
    {
     "name": "stderr",
     "output_type": "stream",
     "text": [
      "\r",
      "stem:  70%|███████   | 35220/50000 [07:42<03:18, 74.61it/s]"
     ]
    },
    {
     "name": "stderr",
     "output_type": "stream",
     "text": [
      "\r",
      "stem:  70%|███████   | 35199/50000 [07:42<03:16, 75.28it/s]"
     ]
    },
    {
     "name": "stderr",
     "output_type": "stream",
     "text": [
      "\r",
      "stem:  70%|███████   | 35190/50000 [07:42<02:57, 83.41it/s]"
     ]
    },
    {
     "name": "stderr",
     "output_type": "stream",
     "text": [
      "\r",
      "stem:  70%|███████   | 35178/50000 [07:42<03:08, 78.77it/s]"
     ]
    },
    {
     "name": "stderr",
     "output_type": "stream",
     "text": [
      "\r",
      "stem:  70%|███████   | 35162/50000 [07:41<03:28, 71.23it/s]"
     ]
    },
    {
     "name": "stderr",
     "output_type": "stream",
     "text": [
      "\r",
      "stem:  70%|███████   | 35154/50000 [07:41<03:26, 72.00it/s]"
     ]
    },
    {
     "name": "stderr",
     "output_type": "stream",
     "text": [
      "\r",
      "stem:  70%|███████   | 35142/50000 [07:41<03:08, 78.64it/s]"
     ]
    },
    {
     "name": "stderr",
     "output_type": "stream",
     "text": [
      "\r",
      "stem:  70%|███████   | 35124/50000 [07:41<03:06, 79.83it/s]"
     ]
    },
    {
     "name": "stderr",
     "output_type": "stream",
     "text": [
      "\r",
      "stem:  70%|███████   | 35112/50000 [07:41<02:55, 84.67it/s]"
     ]
    },
    {
     "name": "stderr",
     "output_type": "stream",
     "text": [
      "\r",
      "stem:  70%|███████   | 35100/50000 [07:41<03:14, 76.80it/s]"
     ]
    },
    {
     "name": "stderr",
     "output_type": "stream",
     "text": [
      "\r",
      "stem:  70%|███████   | 35082/50000 [07:40<02:53, 85.91it/s]"
     ]
    },
    {
     "name": "stderr",
     "output_type": "stream",
     "text": [
      "\r",
      "stem:  70%|███████   | 35070/50000 [07:40<03:06, 79.96it/s]"
     ]
    },
    {
     "name": "stderr",
     "output_type": "stream",
     "text": [
      "\r",
      "stem:  70%|███████   | 35046/50000 [07:40<03:54, 63.69it/s]"
     ]
    },
    {
     "name": "stderr",
     "output_type": "stream",
     "text": [
      "\r",
      "stem:  70%|███████   | 35028/50000 [07:40<03:30, 70.98it/s]"
     ]
    },
    {
     "name": "stderr",
     "output_type": "stream",
     "text": [
      "\r",
      "stem:  70%|███████   | 35016/50000 [07:40<03:47, 65.75it/s]"
     ]
    },
    {
     "name": "stderr",
     "output_type": "stream",
     "text": [
      "\r",
      "stem:  70%|███████   | 35007/50000 [07:39<03:09, 78.99it/s]"
     ]
    },
    {
     "name": "stderr",
     "output_type": "stream",
     "text": [
      "\r",
      "stem:  70%|██████▉   | 34998/50000 [07:39<03:10, 78.91it/s]"
     ]
    },
    {
     "name": "stderr",
     "output_type": "stream",
     "text": [
      "\r",
      "stem:  70%|██████▉   | 34984/50000 [07:39<03:42, 67.40it/s]"
     ]
    },
    {
     "name": "stderr",
     "output_type": "stream",
     "text": [
      "\r",
      "stem:  70%|██████▉   | 34976/50000 [07:39<03:41, 67.81it/s]"
     ]
    },
    {
     "name": "stderr",
     "output_type": "stream",
     "text": [
      "\r",
      "stem:  70%|██████▉   | 34968/50000 [07:39<03:23, 73.81it/s]"
     ]
    },
    {
     "name": "stderr",
     "output_type": "stream",
     "text": [
      "\r",
      "stem:  70%|██████▉   | 34956/50000 [07:39<03:17, 76.15it/s]"
     ]
    },
    {
     "name": "stderr",
     "output_type": "stream",
     "text": [
      "\r",
      "stem:  70%|██████▉   | 34946/50000 [07:39<03:31, 71.34it/s]"
     ]
    },
    {
     "name": "stderr",
     "output_type": "stream",
     "text": [
      "\r",
      "stem:  70%|██████▉   | 34938/50000 [07:39<03:35, 70.00it/s]"
     ]
    },
    {
     "name": "stderr",
     "output_type": "stream",
     "text": [
      "\r",
      "stem:  70%|██████▉   | 34923/50000 [07:38<03:48, 66.11it/s]"
     ]
    },
    {
     "name": "stderr",
     "output_type": "stream",
     "text": [
      "\r",
      "stem:  70%|██████▉   | 34913/50000 [07:38<03:02, 82.54it/s]"
     ]
    },
    {
     "name": "stderr",
     "output_type": "stream",
     "text": [
      "\r",
      "stem:  70%|██████▉   | 34902/50000 [07:38<02:46, 90.77it/s]"
     ]
    },
    {
     "name": "stderr",
     "output_type": "stream",
     "text": [
      "\r",
      "stem:  70%|██████▉   | 34886/50000 [07:38<03:13, 78.20it/s]"
     ]
    },
    {
     "name": "stderr",
     "output_type": "stream",
     "text": [
      "\r",
      "stem:  70%|██████▉   | 34876/50000 [07:38<03:11, 79.04it/s]"
     ]
    },
    {
     "name": "stderr",
     "output_type": "stream",
     "text": [
      "\r",
      "stem:  70%|██████▉   | 34866/50000 [07:38<03:22, 74.76it/s]"
     ]
    },
    {
     "name": "stderr",
     "output_type": "stream",
     "text": [
      "\r",
      "stem:  70%|██████▉   | 34842/50000 [07:37<04:05, 61.70it/s]"
     ]
    },
    {
     "name": "stderr",
     "output_type": "stream",
     "text": [
      "\r",
      "stem:  70%|██████▉   | 34833/50000 [07:37<03:45, 67.17it/s]"
     ]
    },
    {
     "name": "stderr",
     "output_type": "stream",
     "text": [
      "\r",
      "stem:  70%|██████▉   | 34824/50000 [07:37<03:15, 77.51it/s]"
     ]
    },
    {
     "name": "stderr",
     "output_type": "stream",
     "text": [
      "\r",
      "stem:  70%|██████▉   | 34812/50000 [07:37<03:42, 68.31it/s]"
     ]
    },
    {
     "name": "stderr",
     "output_type": "stream",
     "text": [
      "\r",
      "stem:  70%|██████▉   | 34800/50000 [07:37<03:35, 70.47it/s]"
     ]
    },
    {
     "name": "stderr",
     "output_type": "stream",
     "text": [
      "\r",
      "stem:  70%|██████▉   | 34788/50000 [07:37<04:04, 62.22it/s]"
     ]
    },
    {
     "name": "stderr",
     "output_type": "stream",
     "text": [
      "\r",
      "stem:  70%|██████▉   | 34776/50000 [07:37<03:46, 67.34it/s]"
     ]
    },
    {
     "name": "stderr",
     "output_type": "stream",
     "text": [
      "\r",
      "stem:  70%|██████▉   | 34762/50000 [07:36<03:59, 63.62it/s]"
     ]
    },
    {
     "name": "stderr",
     "output_type": "stream",
     "text": [
      "\r",
      "stem:  70%|██████▉   | 34751/50000 [07:36<03:21, 75.78it/s]"
     ]
    },
    {
     "name": "stderr",
     "output_type": "stream",
     "text": [
      "\r",
      "stem:  69%|██████▉   | 34740/50000 [07:36<03:39, 69.68it/s]"
     ]
    },
    {
     "name": "stderr",
     "output_type": "stream",
     "text": [
      "\r",
      "stem:  69%|██████▉   | 34716/50000 [07:36<04:25, 57.52it/s] "
     ]
    },
    {
     "name": "stderr",
     "output_type": "stream",
     "text": [
      "\r",
      "stem:  69%|██████▉   | 34703/50000 [07:35<02:26, 104.13it/s]"
     ]
    },
    {
     "name": "stderr",
     "output_type": "stream",
     "text": [
      "\r",
      "stem:  69%|██████▉   | 34685/50000 [07:35<02:53, 88.20it/s]"
     ]
    },
    {
     "name": "stderr",
     "output_type": "stream",
     "text": [
      "\r",
      "stem:  69%|██████▉   | 34674/50000 [07:35<02:35, 98.53it/s]"
     ]
    },
    {
     "name": "stderr",
     "output_type": "stream",
     "text": [
      "\r",
      "stem:  69%|██████▉   | 34656/50000 [07:35<02:58, 86.01it/s]"
     ]
    },
    {
     "name": "stderr",
     "output_type": "stream",
     "text": [
      "\r",
      "stem:  69%|██████▉   | 34638/50000 [07:35<03:06, 82.48it/s]"
     ]
    },
    {
     "name": "stderr",
     "output_type": "stream",
     "text": [
      "\r",
      "stem:  69%|██████▉   | 34620/50000 [07:35<03:03, 83.78it/s]"
     ]
    },
    {
     "name": "stderr",
     "output_type": "stream",
     "text": [
      "\r",
      "stem:  69%|██████▉   | 34602/50000 [07:34<02:49, 90.87it/s]"
     ]
    },
    {
     "name": "stderr",
     "output_type": "stream",
     "text": [
      "\r",
      "stem:  69%|██████▉   | 34590/50000 [07:34<02:46, 92.82it/s]"
     ]
    },
    {
     "name": "stderr",
     "output_type": "stream",
     "text": [
      "\r",
      "stem:  69%|██████▉   | 34577/50000 [07:34<02:38, 97.12it/s] "
     ]
    },
    {
     "name": "stderr",
     "output_type": "stream",
     "text": [
      "\r",
      "stem:  69%|██████▉   | 34566/50000 [07:34<02:31, 101.62it/s]"
     ]
    },
    {
     "name": "stderr",
     "output_type": "stream",
     "text": [
      "\r",
      "stem:  69%|██████▉   | 34548/50000 [07:34<02:44, 94.10it/s]"
     ]
    },
    {
     "name": "stderr",
     "output_type": "stream",
     "text": [
      "\r",
      "stem:  69%|██████▉   | 34536/50000 [07:34<02:35, 99.55it/s]"
     ]
    },
    {
     "name": "stderr",
     "output_type": "stream",
     "text": [
      "\r",
      "stem:  69%|██████▉   | 34512/50000 [07:33<02:44, 94.11it/s] "
     ]
    },
    {
     "name": "stderr",
     "output_type": "stream",
     "text": [
      "\r",
      "stem:  69%|██████▉   | 34500/50000 [07:33<02:28, 104.45it/s]"
     ]
    },
    {
     "name": "stderr",
     "output_type": "stream",
     "text": [
      "\r",
      "stem:  69%|██████▉   | 34488/50000 [07:33<02:32, 101.98it/s]"
     ]
    },
    {
     "name": "stderr",
     "output_type": "stream",
     "text": [
      "\r",
      "stem:  69%|██████▉   | 34475/50000 [07:33<02:36, 99.23it/s] "
     ]
    },
    {
     "name": "stderr",
     "output_type": "stream",
     "text": [
      "\r",
      "stem:  69%|██████▉   | 34464/50000 [07:33<02:33, 101.25it/s]"
     ]
    },
    {
     "name": "stderr",
     "output_type": "stream",
     "text": [
      "\r",
      "stem:  69%|██████▉   | 34440/50000 [07:33<02:40, 96.74it/s]"
     ]
    },
    {
     "name": "stderr",
     "output_type": "stream",
     "text": [
      "\r",
      "stem:  69%|██████▉   | 34428/50000 [07:33<02:45, 94.13it/s]"
     ]
    },
    {
     "name": "stderr",
     "output_type": "stream",
     "text": [
      "\r",
      "stem:  69%|██████▉   | 34416/50000 [07:32<02:43, 95.45it/s]"
     ]
    },
    {
     "name": "stderr",
     "output_type": "stream",
     "text": [
      "\r",
      "stem:  69%|██████▉   | 34398/50000 [07:32<03:00, 86.51it/s]"
     ]
    },
    {
     "name": "stderr",
     "output_type": "stream",
     "text": [
      "\r",
      "stem:  69%|██████▉   | 34386/50000 [07:32<03:07, 83.43it/s]"
     ]
    },
    {
     "name": "stderr",
     "output_type": "stream",
     "text": [
      "\r",
      "stem:  69%|██████▊   | 34374/50000 [07:32<03:07, 83.20it/s]"
     ]
    },
    {
     "name": "stderr",
     "output_type": "stream",
     "text": [
      "\r",
      "stem:  69%|██████▊   | 34350/50000 [07:32<03:36, 72.41it/s]"
     ]
    },
    {
     "name": "stderr",
     "output_type": "stream",
     "text": [
      "\r",
      "stem:  69%|██████▊   | 34338/50000 [07:32<03:34, 73.04it/s]"
     ]
    },
    {
     "name": "stderr",
     "output_type": "stream",
     "text": [
      "\r",
      "stem:  69%|██████▊   | 34326/50000 [07:31<03:10, 82.11it/s]"
     ]
    },
    {
     "name": "stderr",
     "output_type": "stream",
     "text": [
      "\r",
      "stem:  69%|██████▊   | 34314/50000 [07:31<03:36, 72.38it/s]"
     ]
    },
    {
     "name": "stderr",
     "output_type": "stream",
     "text": [
      "\r",
      "stem:  69%|██████▊   | 34302/50000 [07:31<03:10, 82.21it/s]"
     ]
    },
    {
     "name": "stderr",
     "output_type": "stream",
     "text": [
      "\r",
      "stem:  69%|██████▊   | 34284/50000 [07:31<03:22, 77.77it/s]"
     ]
    },
    {
     "name": "stderr",
     "output_type": "stream",
     "text": [
      "\r",
      "stem:  69%|██████▊   | 34266/50000 [07:31<03:58, 65.87it/s]"
     ]
    },
    {
     "name": "stderr",
     "output_type": "stream",
     "text": [
      "\r",
      "stem:  69%|██████▊   | 34254/50000 [07:31<03:17, 79.56it/s]"
     ]
    },
    {
     "name": "stderr",
     "output_type": "stream",
     "text": [
      "\r",
      "stem:  68%|██████▊   | 34236/50000 [07:30<03:49, 68.76it/s]"
     ]
    },
    {
     "name": "stderr",
     "output_type": "stream",
     "text": [
      "\r",
      "stem:  68%|██████▊   | 34214/50000 [07:30<04:17, 61.32it/s]"
     ]
    },
    {
     "name": "stderr",
     "output_type": "stream",
     "text": [
      "\r",
      "stem:  68%|██████▊   | 34206/50000 [07:30<03:44, 70.29it/s]"
     ]
    },
    {
     "name": "stderr",
     "output_type": "stream",
     "text": [
      "\r",
      "stem:  68%|██████▊   | 34197/50000 [07:30<03:20, 78.92it/s]"
     ]
    },
    {
     "name": "stderr",
     "output_type": "stream",
     "text": [
      "\r",
      "stem:  68%|██████▊   | 34187/50000 [07:30<03:15, 80.95it/s]"
     ]
    },
    {
     "name": "stderr",
     "output_type": "stream",
     "text": [
      "\r",
      "stem:  68%|██████▊   | 34176/50000 [07:30<02:59, 88.34it/s]"
     ]
    },
    {
     "name": "stderr",
     "output_type": "stream",
     "text": [
      "\r",
      "stem:  68%|██████▊   | 34158/50000 [07:29<03:32, 74.48it/s]"
     ]
    },
    {
     "name": "stderr",
     "output_type": "stream",
     "text": [
      "\r",
      "stem:  68%|██████▊   | 34140/50000 [07:29<03:45, 70.19it/s]"
     ]
    },
    {
     "name": "stderr",
     "output_type": "stream",
     "text": [
      "\r",
      "stem:  68%|██████▊   | 34128/50000 [07:29<03:23, 78.18it/s]"
     ]
    },
    {
     "name": "stderr",
     "output_type": "stream",
     "text": [
      "\r",
      "stem:  68%|██████▊   | 34110/50000 [07:29<03:21, 78.73it/s]"
     ]
    },
    {
     "name": "stderr",
     "output_type": "stream",
     "text": [
      "\r",
      "stem:  68%|██████▊   | 34098/50000 [07:29<03:43, 71.19it/s]"
     ]
    },
    {
     "name": "stderr",
     "output_type": "stream",
     "text": [
      "\r",
      "stem:  68%|██████▊   | 34086/50000 [07:28<02:51, 92.89it/s]"
     ]
    },
    {
     "name": "stderr",
     "output_type": "stream",
     "text": [
      "\r",
      "stem:  68%|██████▊   | 34062/50000 [07:28<03:10, 83.72it/s]"
     ]
    },
    {
     "name": "stderr",
     "output_type": "stream",
     "text": [
      "\r",
      "stem:  68%|██████▊   | 34044/50000 [07:28<02:53, 92.05it/s]"
     ]
    },
    {
     "name": "stderr",
     "output_type": "stream",
     "text": [
      "\r",
      "stem:  68%|██████▊   | 34032/50000 [07:28<02:42, 98.01it/s]"
     ]
    },
    {
     "name": "stderr",
     "output_type": "stream",
     "text": [
      "\r",
      "stem:  68%|██████▊   | 34020/50000 [07:28<02:55, 91.27it/s]"
     ]
    },
    {
     "name": "stderr",
     "output_type": "stream",
     "text": [
      "\r",
      "stem:  68%|██████▊   | 34008/50000 [07:28<02:55, 91.18it/s]"
     ]
    },
    {
     "name": "stderr",
     "output_type": "stream",
     "text": [
      "\r",
      "stem:  68%|██████▊   | 33990/50000 [07:27<03:19, 80.28it/s]"
     ]
    },
    {
     "name": "stderr",
     "output_type": "stream",
     "text": [
      "\r",
      "stem:  68%|██████▊   | 33971/50000 [07:27<03:27, 77.41it/s]"
     ]
    },
    {
     "name": "stderr",
     "output_type": "stream",
     "text": [
      "\r",
      "stem:  68%|██████▊   | 33960/50000 [07:27<03:13, 82.76it/s]"
     ]
    },
    {
     "name": "stderr",
     "output_type": "stream",
     "text": [
      "\r",
      "stem:  68%|██████▊   | 33942/50000 [07:27<03:56, 67.94it/s]"
     ]
    },
    {
     "name": "stderr",
     "output_type": "stream",
     "text": [
      "\r",
      "stem:  68%|██████▊   | 33918/50000 [07:27<04:37, 57.96it/s]"
     ]
    },
    {
     "name": "stderr",
     "output_type": "stream",
     "text": [
      "\r",
      "stem:  68%|██████▊   | 33906/50000 [07:26<04:01, 66.62it/s]"
     ]
    },
    {
     "name": "stderr",
     "output_type": "stream",
     "text": [
      "\r",
      "stem:  68%|██████▊   | 33897/50000 [07:26<04:14, 63.37it/s]"
     ]
    },
    {
     "name": "stderr",
     "output_type": "stream",
     "text": [
      "\r",
      "stem:  68%|██████▊   | 33888/50000 [07:26<03:25, 78.52it/s]"
     ]
    },
    {
     "name": "stderr",
     "output_type": "stream",
     "text": [
      "\r",
      "stem:  68%|██████▊   | 33876/50000 [07:26<03:52, 69.26it/s]"
     ]
    },
    {
     "name": "stderr",
     "output_type": "stream",
     "text": [
      "\r",
      "stem:  68%|██████▊   | 33864/50000 [07:26<03:24, 78.89it/s]"
     ]
    },
    {
     "name": "stderr",
     "output_type": "stream",
     "text": [
      "\r",
      "stem:  68%|██████▊   | 33854/50000 [07:26<03:34, 75.21it/s]"
     ]
    },
    {
     "name": "stderr",
     "output_type": "stream",
     "text": [
      "\r",
      "stem:  68%|██████▊   | 33846/50000 [07:26<03:32, 75.91it/s]"
     ]
    },
    {
     "name": "stderr",
     "output_type": "stream",
     "text": [
      "\r",
      "stem:  68%|██████▊   | 33830/50000 [07:25<03:42, 72.55it/s]"
     ]
    },
    {
     "name": "stderr",
     "output_type": "stream",
     "text": [
      "\r",
      "stem:  68%|██████▊   | 33822/50000 [07:25<03:34, 75.58it/s]"
     ]
    },
    {
     "name": "stderr",
     "output_type": "stream",
     "text": [
      "\r",
      "stem:  68%|██████▊   | 33810/50000 [07:25<03:57, 68.28it/s]"
     ]
    },
    {
     "name": "stderr",
     "output_type": "stream",
     "text": [
      "\r",
      "stem:  68%|██████▊   | 33800/50000 [07:25<03:59, 67.69it/s]"
     ]
    },
    {
     "name": "stderr",
     "output_type": "stream",
     "text": [
      "\r",
      "stem:  68%|██████▊   | 33792/50000 [07:25<03:36, 74.98it/s]"
     ]
    },
    {
     "name": "stderr",
     "output_type": "stream",
     "text": [
      "\r",
      "stem:  68%|██████▊   | 33782/50000 [07:25<03:27, 78.28it/s]"
     ]
    },
    {
     "name": "stderr",
     "output_type": "stream",
     "text": [
      "\r",
      "stem:  68%|██████▊   | 33772/50000 [07:25<02:56, 92.13it/s]"
     ]
    },
    {
     "name": "stderr",
     "output_type": "stream",
     "text": [
      "\r",
      "stem:  68%|██████▊   | 33762/50000 [07:24<02:58, 91.22it/s]"
     ]
    },
    {
     "name": "stderr",
     "output_type": "stream",
     "text": [
      "\r",
      "stem:  68%|██████▊   | 33750/50000 [07:24<03:05, 87.66it/s]"
     ]
    },
    {
     "name": "stderr",
     "output_type": "stream",
     "text": [
      "\r",
      "stem:  67%|██████▋   | 33726/50000 [07:24<03:01, 89.74it/s]"
     ]
    },
    {
     "name": "stderr",
     "output_type": "stream",
     "text": [
      "\r",
      "stem:  67%|██████▋   | 33714/50000 [07:24<03:02, 89.18it/s]"
     ]
    },
    {
     "name": "stderr",
     "output_type": "stream",
     "text": [
      "\r",
      "stem:  67%|██████▋   | 33702/50000 [07:24<03:08, 86.55it/s]"
     ]
    },
    {
     "name": "stderr",
     "output_type": "stream",
     "text": [
      "\r",
      "stem:  67%|██████▋   | 33690/50000 [07:24<03:11, 85.30it/s]"
     ]
    },
    {
     "name": "stderr",
     "output_type": "stream",
     "text": [
      "\r",
      "stem:  67%|██████▋   | 33678/50000 [07:24<03:08, 86.56it/s]"
     ]
    },
    {
     "name": "stderr",
     "output_type": "stream",
     "text": [
      "\r",
      "stem:  67%|██████▋   | 33666/50000 [07:23<03:21, 81.20it/s]"
     ]
    },
    {
     "name": "stderr",
     "output_type": "stream",
     "text": [
      "\r",
      "stem:  67%|██████▋   | 33654/50000 [07:23<03:41, 73.83it/s]"
     ]
    },
    {
     "name": "stderr",
     "output_type": "stream",
     "text": [
      "\r",
      "stem:  67%|██████▋   | 33636/50000 [07:23<04:27, 61.07it/s]"
     ]
    },
    {
     "name": "stderr",
     "output_type": "stream",
     "text": [
      "\r",
      "stem:  67%|██████▋   | 33624/50000 [07:23<04:09, 65.73it/s]"
     ]
    },
    {
     "name": "stderr",
     "output_type": "stream",
     "text": [
      "\r",
      "stem:  67%|██████▋   | 33615/50000 [07:23<03:49, 71.43it/s]"
     ]
    },
    {
     "name": "stderr",
     "output_type": "stream",
     "text": [
      "\r",
      "stem:  67%|██████▋   | 33606/50000 [07:23<03:44, 73.00it/s]"
     ]
    },
    {
     "name": "stderr",
     "output_type": "stream",
     "text": [
      "\r",
      "stem:  67%|██████▋   | 33588/50000 [07:22<04:16, 64.09it/s]"
     ]
    },
    {
     "name": "stderr",
     "output_type": "stream",
     "text": [
      "\r",
      "stem:  67%|██████▋   | 33576/50000 [07:22<05:01, 54.51it/s]"
     ]
    },
    {
     "name": "stderr",
     "output_type": "stream",
     "text": [
      "\r",
      "stem:  67%|██████▋   | 33558/50000 [07:22<05:34, 49.16it/s]"
     ]
    },
    {
     "name": "stderr",
     "output_type": "stream",
     "text": [
      "\r",
      "stem:  67%|██████▋   | 33546/50000 [07:22<05:12, 52.70it/s]"
     ]
    },
    {
     "name": "stderr",
     "output_type": "stream",
     "text": [
      "\r",
      "stem:  67%|██████▋   | 33534/50000 [07:22<05:14, 52.42it/s]"
     ]
    },
    {
     "name": "stderr",
     "output_type": "stream",
     "text": [
      "\r",
      "stem:  67%|██████▋   | 33523/50000 [07:21<05:50, 47.03it/s]"
     ]
    },
    {
     "name": "stderr",
     "output_type": "stream",
     "text": [
      "\r",
      "stem:  67%|██████▋   | 33516/50000 [07:21<04:41, 58.60it/s]"
     ]
    },
    {
     "name": "stderr",
     "output_type": "stream",
     "text": [
      "\r",
      "stem:  67%|██████▋   | 33508/50000 [07:21<04:50, 56.82it/s]"
     ]
    },
    {
     "name": "stderr",
     "output_type": "stream",
     "text": [
      "\r",
      "stem:  67%|██████▋   | 33500/50000 [07:21<04:06, 67.06it/s]"
     ]
    },
    {
     "name": "stderr",
     "output_type": "stream",
     "text": [
      "\r",
      "stem:  67%|██████▋   | 33492/50000 [07:21<04:19, 63.70it/s]"
     ]
    },
    {
     "name": "stderr",
     "output_type": "stream",
     "text": [
      "\r",
      "stem:  67%|██████▋   | 33480/50000 [07:21<04:56, 55.65it/s]"
     ]
    },
    {
     "name": "stderr",
     "output_type": "stream",
     "text": [
      "\r",
      "stem:  67%|██████▋   | 33472/50000 [07:21<05:16, 52.27it/s]"
     ]
    },
    {
     "name": "stderr",
     "output_type": "stream",
     "text": [
      "\r",
      "stem:  67%|██████▋   | 33464/50000 [07:20<04:37, 59.64it/s]"
     ]
    },
    {
     "name": "stderr",
     "output_type": "stream",
     "text": [
      "\r",
      "stem:  67%|██████▋   | 33454/50000 [07:20<03:01, 91.09it/s]"
     ]
    },
    {
     "name": "stderr",
     "output_type": "stream",
     "text": [
      "\r",
      "stem:  67%|██████▋   | 33443/50000 [07:20<02:50, 97.15it/s]"
     ]
    },
    {
     "name": "stderr",
     "output_type": "stream",
     "text": [
      "\r",
      "stem:  67%|██████▋   | 33432/50000 [07:20<02:51, 96.58it/s]"
     ]
    },
    {
     "name": "stderr",
     "output_type": "stream",
     "text": [
      "\r",
      "stem:  67%|██████▋   | 33414/50000 [07:20<02:53, 95.45it/s]"
     ]
    },
    {
     "name": "stderr",
     "output_type": "stream",
     "text": [
      "\r",
      "stem:  67%|██████▋   | 33402/50000 [07:20<03:08, 88.19it/s]"
     ]
    },
    {
     "name": "stderr",
     "output_type": "stream",
     "text": [
      "\r",
      "stem:  67%|██████▋   | 33384/50000 [07:19<03:33, 78.00it/s]"
     ]
    },
    {
     "name": "stderr",
     "output_type": "stream",
     "text": [
      "\r",
      "stem:  67%|██████▋   | 33367/50000 [07:19<04:11, 66.00it/s]"
     ]
    },
    {
     "name": "stderr",
     "output_type": "stream",
     "text": [
      "\r",
      "stem:  67%|██████▋   | 33358/50000 [07:19<03:46, 73.48it/s]"
     ]
    },
    {
     "name": "stderr",
     "output_type": "stream",
     "text": [
      "\r",
      "stem:  67%|██████▋   | 33348/50000 [07:19<03:06, 89.50it/s]"
     ]
    },
    {
     "name": "stderr",
     "output_type": "stream",
     "text": [
      "\r",
      "stem:  67%|██████▋   | 33334/50000 [07:19<03:27, 80.22it/s]"
     ]
    },
    {
     "name": "stderr",
     "output_type": "stream",
     "text": [
      "\r",
      "stem:  67%|██████▋   | 33324/50000 [07:19<03:08, 88.28it/s]"
     ]
    },
    {
     "name": "stderr",
     "output_type": "stream",
     "text": [
      "\r",
      "stem:  67%|██████▋   | 33306/50000 [07:18<03:34, 77.99it/s]"
     ]
    },
    {
     "name": "stderr",
     "output_type": "stream",
     "text": [
      "\r",
      "stem:  67%|██████▋   | 33293/50000 [07:18<03:15, 85.65it/s]"
     ]
    },
    {
     "name": "stderr",
     "output_type": "stream",
     "text": [
      "\r",
      "stem:  67%|██████▋   | 33282/50000 [07:18<02:58, 93.85it/s]"
     ]
    },
    {
     "name": "stderr",
     "output_type": "stream",
     "text": [
      "\r",
      "stem:  67%|██████▋   | 33270/50000 [07:18<03:02, 91.91it/s]"
     ]
    },
    {
     "name": "stderr",
     "output_type": "stream",
     "text": [
      "\r",
      "stem:  67%|██████▋   | 33252/50000 [07:18<03:27, 80.63it/s]"
     ]
    },
    {
     "name": "stderr",
     "output_type": "stream",
     "text": [
      "\r",
      "stem:  66%|██████▋   | 33239/50000 [07:18<03:41, 75.68it/s]"
     ]
    },
    {
     "name": "stderr",
     "output_type": "stream",
     "text": [
      "\r",
      "stem:  66%|██████▋   | 33228/50000 [07:18<03:23, 82.35it/s]"
     ]
    },
    {
     "name": "stderr",
     "output_type": "stream",
     "text": [
      "\r",
      "stem:  66%|██████▋   | 33210/50000 [07:17<04:11, 66.82it/s]"
     ]
    },
    {
     "name": "stderr",
     "output_type": "stream",
     "text": [
      "\r",
      "stem:  66%|██████▋   | 33198/50000 [07:17<04:24, 63.60it/s]"
     ]
    },
    {
     "name": "stderr",
     "output_type": "stream",
     "text": [
      "\r",
      "stem:  66%|██████▋   | 33180/50000 [07:17<04:37, 60.66it/s]"
     ]
    },
    {
     "name": "stderr",
     "output_type": "stream",
     "text": [
      "\r",
      "stem:  66%|██████▋   | 33171/50000 [07:17<03:28, 80.76it/s]"
     ]
    },
    {
     "name": "stderr",
     "output_type": "stream",
     "text": [
      "\r",
      "stem:  66%|██████▋   | 33162/50000 [07:17<03:23, 82.74it/s]"
     ]
    },
    {
     "name": "stderr",
     "output_type": "stream",
     "text": [
      "\r",
      "stem:  66%|██████▋   | 33153/50000 [07:17<03:24, 82.19it/s]"
     ]
    },
    {
     "name": "stderr",
     "output_type": "stream",
     "text": [
      "\r",
      "stem:  66%|██████▋   | 33144/50000 [07:16<03:30, 80.17it/s]"
     ]
    },
    {
     "name": "stderr",
     "output_type": "stream",
     "text": [
      "\r",
      "stem:  66%|██████▋   | 33132/50000 [07:16<03:44, 75.01it/s]"
     ]
    },
    {
     "name": "stderr",
     "output_type": "stream",
     "text": [
      "\r",
      "stem:  66%|██████▌   | 33108/50000 [07:16<04:19, 65.06it/s]"
     ]
    },
    {
     "name": "stderr",
     "output_type": "stream",
     "text": [
      "\r",
      "stem:  66%|██████▌   | 33099/50000 [07:16<03:44, 75.15it/s]"
     ]
    },
    {
     "name": "stderr",
     "output_type": "stream",
     "text": [
      "\r",
      "stem:  66%|██████▌   | 33090/50000 [07:16<03:29, 80.56it/s]"
     ]
    },
    {
     "name": "stderr",
     "output_type": "stream",
     "text": [
      "\r",
      "stem:  66%|██████▌   | 33072/50000 [07:16<04:01, 70.16it/s]"
     ]
    },
    {
     "name": "stderr",
     "output_type": "stream",
     "text": [
      "\r",
      "stem:  66%|██████▌   | 33063/50000 [07:16<03:27, 81.56it/s]"
     ]
    },
    {
     "name": "stderr",
     "output_type": "stream",
     "text": [
      "\r",
      "stem:  66%|██████▌   | 33054/50000 [07:15<03:22, 83.49it/s]"
     ]
    },
    {
     "name": "stderr",
     "output_type": "stream",
     "text": [
      "\r",
      "stem:  66%|██████▌   | 33042/50000 [07:15<03:37, 77.91it/s]"
     ]
    },
    {
     "name": "stderr",
     "output_type": "stream",
     "text": [
      "\r",
      "stem:  66%|██████▌   | 33024/50000 [07:15<04:04, 69.36it/s]"
     ]
    },
    {
     "name": "stderr",
     "output_type": "stream",
     "text": [
      "\r",
      "stem:  66%|██████▌   | 33012/50000 [07:15<03:54, 72.41it/s]"
     ]
    },
    {
     "name": "stderr",
     "output_type": "stream",
     "text": [
      "\r",
      "stem:  66%|██████▌   | 33000/50000 [07:15<03:54, 72.57it/s]"
     ]
    },
    {
     "name": "stderr",
     "output_type": "stream",
     "text": [
      "\r",
      "stem:  66%|██████▌   | 32982/50000 [07:15<04:15, 66.53it/s]"
     ]
    },
    {
     "name": "stderr",
     "output_type": "stream",
     "text": [
      "\r",
      "stem:  66%|██████▌   | 32970/50000 [07:14<03:37, 78.41it/s]"
     ]
    },
    {
     "name": "stderr",
     "output_type": "stream",
     "text": [
      "\r",
      "stem:  66%|██████▌   | 32958/50000 [07:14<03:59, 71.05it/s]"
     ]
    },
    {
     "name": "stderr",
     "output_type": "stream",
     "text": [
      "\r",
      "stem:  66%|██████▌   | 32946/50000 [07:14<04:01, 70.67it/s]"
     ]
    },
    {
     "name": "stderr",
     "output_type": "stream",
     "text": [
      "\r",
      "stem:  66%|██████▌   | 32934/50000 [07:14<03:40, 77.57it/s]"
     ]
    },
    {
     "name": "stderr",
     "output_type": "stream",
     "text": [
      "\r",
      "stem:  66%|██████▌   | 32922/50000 [07:14<03:48, 74.84it/s]"
     ]
    },
    {
     "name": "stderr",
     "output_type": "stream",
     "text": [
      "\r",
      "stem:  66%|██████▌   | 32904/50000 [07:13<03:40, 77.61it/s]"
     ]
    },
    {
     "name": "stderr",
     "output_type": "stream",
     "text": [
      "\r",
      "stem:  66%|██████▌   | 32886/50000 [07:13<03:39, 77.84it/s]"
     ]
    },
    {
     "name": "stderr",
     "output_type": "stream",
     "text": [
      "\r",
      "stem:  66%|██████▌   | 32874/50000 [07:13<03:24, 83.81it/s]"
     ]
    },
    {
     "name": "stderr",
     "output_type": "stream",
     "text": [
      "\r",
      "stem:  66%|██████▌   | 32857/50000 [07:13<03:16, 87.44it/s] "
     ]
    },
    {
     "name": "stderr",
     "output_type": "stream",
     "text": [
      "\r",
      "stem:  66%|██████▌   | 32844/50000 [07:13<02:38, 107.91it/s]"
     ]
    },
    {
     "name": "stderr",
     "output_type": "stream",
     "text": [
      "\r",
      "stem:  66%|██████▌   | 32820/50000 [07:12<02:57, 96.72it/s]"
     ]
    },
    {
     "name": "stderr",
     "output_type": "stream",
     "text": [
      "\r",
      "stem:  66%|██████▌   | 32802/50000 [07:12<03:30, 81.73it/s]"
     ]
    },
    {
     "name": "stderr",
     "output_type": "stream",
     "text": [
      "\r",
      "stem:  66%|██████▌   | 32790/50000 [07:12<03:38, 78.65it/s]"
     ]
    },
    {
     "name": "stderr",
     "output_type": "stream",
     "text": [
      "\r",
      "stem:  66%|██████▌   | 32766/50000 [07:12<03:51, 74.57it/s]"
     ]
    },
    {
     "name": "stderr",
     "output_type": "stream",
     "text": [
      "\r",
      "stem:  66%|██████▌   | 32754/50000 [07:12<04:21, 66.07it/s]"
     ]
    },
    {
     "name": "stderr",
     "output_type": "stream",
     "text": [
      "\r",
      "stem:  65%|██████▌   | 32742/50000 [07:12<03:53, 73.83it/s]"
     ]
    },
    {
     "name": "stderr",
     "output_type": "stream",
     "text": [
      "\r",
      "stem:  65%|██████▌   | 32730/50000 [07:11<04:03, 71.05it/s]"
     ]
    },
    {
     "name": "stderr",
     "output_type": "stream",
     "text": [
      "\r",
      "stem:  65%|██████▌   | 32718/50000 [07:11<04:29, 64.17it/s]"
     ]
    },
    {
     "name": "stderr",
     "output_type": "stream",
     "text": [
      "\r",
      "stem:  65%|██████▌   | 32706/50000 [07:11<05:04, 56.77it/s]"
     ]
    },
    {
     "name": "stderr",
     "output_type": "stream",
     "text": [
      "\r",
      "stem:  65%|██████▌   | 32697/50000 [07:11<03:49, 75.34it/s]"
     ]
    },
    {
     "name": "stderr",
     "output_type": "stream",
     "text": [
      "\r",
      "stem:  65%|██████▌   | 32688/50000 [07:11<03:30, 82.15it/s]"
     ]
    },
    {
     "name": "stderr",
     "output_type": "stream",
     "text": [
      "\r",
      "stem:  65%|██████▌   | 32673/50000 [07:11<03:51, 74.73it/s]"
     ]
    },
    {
     "name": "stderr",
     "output_type": "stream",
     "text": [
      "\r",
      "stem:  65%|██████▌   | 32664/50000 [07:10<03:21, 86.07it/s]"
     ]
    },
    {
     "name": "stderr",
     "output_type": "stream",
     "text": [
      "\r",
      "stem:  65%|██████▌   | 32650/50000 [07:10<03:18, 87.58it/s]"
     ]
    },
    {
     "name": "stderr",
     "output_type": "stream",
     "text": [
      "\r",
      "stem:  65%|██████▌   | 32640/50000 [07:10<03:00, 96.40it/s]"
     ]
    },
    {
     "name": "stderr",
     "output_type": "stream",
     "text": [
      "\r",
      "stem:  65%|██████▌   | 32626/50000 [07:10<02:57, 97.63it/s]"
     ]
    },
    {
     "name": "stderr",
     "output_type": "stream",
     "text": [
      "\r",
      "stem:  65%|██████▌   | 32615/50000 [07:10<02:59, 96.66it/s]"
     ]
    },
    {
     "name": "stderr",
     "output_type": "stream",
     "text": [
      "\r",
      "stem:  65%|██████▌   | 32604/50000 [07:10<03:08, 92.11it/s]"
     ]
    },
    {
     "name": "stderr",
     "output_type": "stream",
     "text": [
      "\r",
      "stem:  65%|██████▌   | 32586/50000 [07:10<03:13, 90.03it/s]"
     ]
    },
    {
     "name": "stderr",
     "output_type": "stream",
     "text": [
      "\r",
      "stem:  65%|██████▌   | 32574/50000 [07:10<03:31, 82.58it/s]"
     ]
    },
    {
     "name": "stderr",
     "output_type": "stream",
     "text": [
      "\r",
      "stem:  65%|██████▌   | 32562/50000 [07:09<03:01, 96.16it/s]"
     ]
    },
    {
     "name": "stderr",
     "output_type": "stream",
     "text": [
      "\r",
      "stem:  65%|██████▌   | 32550/50000 [07:09<03:08, 92.76it/s]"
     ]
    },
    {
     "name": "stderr",
     "output_type": "stream",
     "text": [
      "\r",
      "stem:  65%|██████▌   | 32532/50000 [07:09<03:40, 79.11it/s]"
     ]
    },
    {
     "name": "stderr",
     "output_type": "stream",
     "text": [
      "\r",
      "stem:  65%|██████▌   | 32520/50000 [07:09<03:14, 89.83it/s]"
     ]
    },
    {
     "name": "stderr",
     "output_type": "stream",
     "text": [
      "\r",
      "stem:  65%|██████▌   | 32502/50000 [07:09<03:31, 82.63it/s]"
     ]
    },
    {
     "name": "stderr",
     "output_type": "stream",
     "text": [
      "\r",
      "stem:  65%|██████▍   | 32484/50000 [07:09<04:12, 69.25it/s]"
     ]
    },
    {
     "name": "stderr",
     "output_type": "stream",
     "text": [
      "\r",
      "stem:  65%|██████▍   | 32472/50000 [07:08<03:23, 86.29it/s]"
     ]
    },
    {
     "name": "stderr",
     "output_type": "stream",
     "text": [
      "\r",
      "stem:  65%|██████▍   | 32454/50000 [07:08<04:04, 71.62it/s]"
     ]
    },
    {
     "name": "stderr",
     "output_type": "stream",
     "text": [
      "\r",
      "stem:  65%|██████▍   | 32439/50000 [07:08<03:56, 74.12it/s]"
     ]
    },
    {
     "name": "stderr",
     "output_type": "stream",
     "text": [
      "\r",
      "stem:  65%|██████▍   | 32430/50000 [07:08<03:57, 73.99it/s]"
     ]
    },
    {
     "name": "stderr",
     "output_type": "stream",
     "text": [
      "\r",
      "stem:  65%|██████▍   | 32406/50000 [07:08<04:39, 62.89it/s]"
     ]
    },
    {
     "name": "stderr",
     "output_type": "stream",
     "text": [
      "\r",
      "stem:  65%|██████▍   | 32394/50000 [07:08<04:11, 69.88it/s]"
     ]
    },
    {
     "name": "stderr",
     "output_type": "stream",
     "text": [
      "\r",
      "stem:  65%|██████▍   | 32382/50000 [07:07<04:27, 65.87it/s]"
     ]
    },
    {
     "name": "stderr",
     "output_type": "stream",
     "text": [
      "\r",
      "stem:  65%|██████▍   | 32364/50000 [07:07<04:35, 64.12it/s]"
     ]
    },
    {
     "name": "stderr",
     "output_type": "stream",
     "text": [
      "\r",
      "stem:  65%|██████▍   | 32348/50000 [07:07<04:39, 63.17it/s]"
     ]
    },
    {
     "name": "stderr",
     "output_type": "stream",
     "text": [
      "\r",
      "stem:  65%|██████▍   | 32340/50000 [07:07<04:44, 62.11it/s]"
     ]
    },
    {
     "name": "stderr",
     "output_type": "stream",
     "text": [
      "\r",
      "stem:  65%|██████▍   | 32328/50000 [07:07<04:58, 59.29it/s]"
     ]
    },
    {
     "name": "stderr",
     "output_type": "stream",
     "text": [
      "\r",
      "stem:  65%|██████▍   | 32316/50000 [07:06<04:39, 63.32it/s]"
     ]
    },
    {
     "name": "stderr",
     "output_type": "stream",
     "text": [
      "\r",
      "stem:  65%|██████▍   | 32304/50000 [07:06<05:34, 52.94it/s]"
     ]
    },
    {
     "name": "stderr",
     "output_type": "stream",
     "text": [
      "\r",
      "stem:  65%|██████▍   | 32292/50000 [07:06<04:03, 72.62it/s]"
     ]
    },
    {
     "name": "stderr",
     "output_type": "stream",
     "text": [
      "\r",
      "stem:  65%|██████▍   | 32283/50000 [07:06<04:11, 70.50it/s]"
     ]
    },
    {
     "name": "stderr",
     "output_type": "stream",
     "text": [
      "\r",
      "stem:  65%|██████▍   | 32274/50000 [07:06<04:32, 65.03it/s]"
     ]
    },
    {
     "name": "stderr",
     "output_type": "stream",
     "text": [
      "\r",
      "stem:  65%|██████▍   | 32252/50000 [07:05<05:27, 54.27it/s]"
     ]
    },
    {
     "name": "stderr",
     "output_type": "stream",
     "text": [
      "\r",
      "stem:  64%|██████▍   | 32244/50000 [07:05<04:05, 72.26it/s]"
     ]
    },
    {
     "name": "stderr",
     "output_type": "stream",
     "text": [
      "\r",
      "stem:  64%|██████▍   | 32223/50000 [07:05<04:26, 66.78it/s]"
     ]
    },
    {
     "name": "stderr",
     "output_type": "stream",
     "text": [
      "\r",
      "stem:  64%|██████▍   | 32214/50000 [07:05<03:34, 83.01it/s]"
     ]
    },
    {
     "name": "stderr",
     "output_type": "stream",
     "text": [
      "\r",
      "stem:  64%|██████▍   | 32200/50000 [07:05<03:41, 80.44it/s]"
     ]
    },
    {
     "name": "stderr",
     "output_type": "stream",
     "text": [
      "\r",
      "stem:  64%|██████▍   | 32190/50000 [07:05<03:37, 81.83it/s]"
     ]
    },
    {
     "name": "stderr",
     "output_type": "stream",
     "text": [
      "\r",
      "stem:  64%|██████▍   | 32178/50000 [07:04<03:50, 77.36it/s]"
     ]
    },
    {
     "name": "stderr",
     "output_type": "stream",
     "text": [
      "\r",
      "stem:  64%|██████▍   | 32164/50000 [07:04<04:18, 69.10it/s]"
     ]
    },
    {
     "name": "stderr",
     "output_type": "stream",
     "text": [
      "\r",
      "stem:  64%|██████▍   | 32153/50000 [07:04<03:04, 96.78it/s]"
     ]
    },
    {
     "name": "stderr",
     "output_type": "stream",
     "text": [
      "\r",
      "stem:  64%|██████▍   | 32142/50000 [07:04<03:06, 95.55it/s]"
     ]
    },
    {
     "name": "stderr",
     "output_type": "stream",
     "text": [
      "\r",
      "stem:  64%|██████▍   | 32124/50000 [07:04<03:33, 83.66it/s]"
     ]
    },
    {
     "name": "stderr",
     "output_type": "stream",
     "text": [
      "\r",
      "stem:  64%|██████▍   | 32112/50000 [07:04<03:41, 80.82it/s]"
     ]
    },
    {
     "name": "stderr",
     "output_type": "stream",
     "text": [
      "\r",
      "stem:  64%|██████▍   | 32100/50000 [07:03<03:54, 76.38it/s]"
     ]
    },
    {
     "name": "stderr",
     "output_type": "stream",
     "text": [
      "\r",
      "stem:  64%|██████▍   | 32083/50000 [07:03<04:21, 68.54it/s]"
     ]
    },
    {
     "name": "stderr",
     "output_type": "stream",
     "text": [
      "\r",
      "stem:  64%|██████▍   | 32074/50000 [07:03<04:00, 74.59it/s]"
     ]
    },
    {
     "name": "stderr",
     "output_type": "stream",
     "text": [
      "\r",
      "stem:  64%|██████▍   | 32064/50000 [07:03<03:17, 90.76it/s]"
     ]
    },
    {
     "name": "stderr",
     "output_type": "stream",
     "text": [
      "\r",
      "stem:  64%|██████▍   | 32052/50000 [07:03<03:23, 88.23it/s]"
     ]
    },
    {
     "name": "stderr",
     "output_type": "stream",
     "text": [
      "\r",
      "stem:  64%|██████▍   | 32028/50000 [07:03<03:13, 92.94it/s]"
     ]
    },
    {
     "name": "stderr",
     "output_type": "stream",
     "text": [
      "\r",
      "stem:  64%|██████▍   | 32010/50000 [07:02<03:17, 91.20it/s]"
     ]
    },
    {
     "name": "stderr",
     "output_type": "stream",
     "text": [
      "\r",
      "stem:  64%|██████▍   | 31998/50000 [07:02<03:25, 87.56it/s]"
     ]
    },
    {
     "name": "stderr",
     "output_type": "stream",
     "text": [
      "\r",
      "stem:  64%|██████▍   | 31980/50000 [07:02<03:57, 75.73it/s]"
     ]
    },
    {
     "name": "stderr",
     "output_type": "stream",
     "text": [
      "\r",
      "stem:  64%|██████▍   | 31968/50000 [07:02<03:49, 78.73it/s] "
     ]
    },
    {
     "name": "stderr",
     "output_type": "stream",
     "text": [
      "\r",
      "stem:  64%|██████▍   | 31956/50000 [07:02<02:59, 100.37it/s]"
     ]
    },
    {
     "name": "stderr",
     "output_type": "stream",
     "text": [
      "\r",
      "stem:  64%|██████▍   | 31938/50000 [07:02<03:33, 84.48it/s]"
     ]
    },
    {
     "name": "stderr",
     "output_type": "stream",
     "text": [
      "\r",
      "stem:  64%|██████▍   | 31926/50000 [07:01<03:24, 88.17it/s]"
     ]
    },
    {
     "name": "stderr",
     "output_type": "stream",
     "text": [
      "\r",
      "stem:  64%|██████▍   | 31908/50000 [07:01<03:42, 81.26it/s]"
     ]
    },
    {
     "name": "stderr",
     "output_type": "stream",
     "text": [
      "\r",
      "stem:  64%|██████▍   | 31890/50000 [07:01<03:49, 79.03it/s]"
     ]
    },
    {
     "name": "stderr",
     "output_type": "stream",
     "text": [
      "\r",
      "stem:  64%|██████▍   | 31878/50000 [07:01<04:01, 74.94it/s]"
     ]
    },
    {
     "name": "stderr",
     "output_type": "stream",
     "text": [
      "\r",
      "stem:  64%|██████▎   | 31866/50000 [07:01<03:54, 77.22it/s]"
     ]
    },
    {
     "name": "stderr",
     "output_type": "stream",
     "text": [
      "\r",
      "stem:  64%|██████▎   | 31854/50000 [07:01<03:37, 83.29it/s]"
     ]
    },
    {
     "name": "stderr",
     "output_type": "stream",
     "text": [
      "\r",
      "stem:  64%|██████▎   | 31842/50000 [07:00<03:47, 79.76it/s]"
     ]
    },
    {
     "name": "stderr",
     "output_type": "stream",
     "text": [
      "\r",
      "stem:  64%|██████▎   | 31830/50000 [07:00<04:10, 72.40it/s]"
     ]
    },
    {
     "name": "stderr",
     "output_type": "stream",
     "text": [
      "\r",
      "stem:  64%|██████▎   | 31818/50000 [07:00<03:58, 76.21it/s]"
     ]
    },
    {
     "name": "stderr",
     "output_type": "stream",
     "text": [
      "\r",
      "stem:  64%|██████▎   | 31806/50000 [07:00<03:45, 80.55it/s]"
     ]
    },
    {
     "name": "stderr",
     "output_type": "stream",
     "text": [
      "\r",
      "stem:  64%|██████▎   | 31794/50000 [07:00<03:42, 81.87it/s]"
     ]
    },
    {
     "name": "stderr",
     "output_type": "stream",
     "text": [
      "\r",
      "stem:  64%|██████▎   | 31782/50000 [07:00<04:09, 72.97it/s]"
     ]
    },
    {
     "name": "stderr",
     "output_type": "stream",
     "text": [
      "\r",
      "stem:  64%|██████▎   | 31762/50000 [07:00<04:30, 67.46it/s]"
     ]
    },
    {
     "name": "stderr",
     "output_type": "stream",
     "text": [
      "\r",
      "stem:  64%|██████▎   | 31752/50000 [06:59<03:34, 84.89it/s]"
     ]
    },
    {
     "name": "stderr",
     "output_type": "stream",
     "text": [
      "\r",
      "stem:  63%|██████▎   | 31740/50000 [06:59<03:56, 77.13it/s]"
     ]
    },
    {
     "name": "stderr",
     "output_type": "stream",
     "text": [
      "\r",
      "stem:  63%|██████▎   | 31729/50000 [06:59<04:16, 71.34it/s]"
     ]
    },
    {
     "name": "stderr",
     "output_type": "stream",
     "text": [
      "\r",
      "stem:  63%|██████▎   | 31720/50000 [06:59<04:07, 73.87it/s]"
     ]
    },
    {
     "name": "stderr",
     "output_type": "stream",
     "text": [
      "\r",
      "stem:  63%|██████▎   | 31710/50000 [06:59<03:42, 82.04it/s]"
     ]
    },
    {
     "name": "stderr",
     "output_type": "stream",
     "text": [
      "\r",
      "stem:  63%|██████▎   | 31692/50000 [06:59<04:08, 73.59it/s]"
     ]
    },
    {
     "name": "stderr",
     "output_type": "stream",
     "text": [
      "\r",
      "stem:  63%|██████▎   | 31668/50000 [06:58<04:24, 69.35it/s]"
     ]
    },
    {
     "name": "stderr",
     "output_type": "stream",
     "text": [
      "\r",
      "stem:  63%|██████▎   | 31647/50000 [06:58<04:59, 61.25it/s]"
     ]
    },
    {
     "name": "stderr",
     "output_type": "stream",
     "text": [
      "\r",
      "stem:  63%|██████▎   | 31638/50000 [06:58<03:44, 81.77it/s]"
     ]
    },
    {
     "name": "stderr",
     "output_type": "stream",
     "text": [
      "\r",
      "stem:  63%|██████▎   | 31626/50000 [06:58<03:48, 80.25it/s]"
     ]
    },
    {
     "name": "stderr",
     "output_type": "stream",
     "text": [
      "\r",
      "stem:  63%|██████▎   | 31610/50000 [06:58<03:47, 80.94it/s]"
     ]
    },
    {
     "name": "stderr",
     "output_type": "stream",
     "text": [
      "\r",
      "stem:  63%|██████▎   | 31600/50000 [06:57<03:33, 86.36it/s]"
     ]
    },
    {
     "name": "stderr",
     "output_type": "stream",
     "text": [
      "\r",
      "stem:  63%|██████▎   | 31590/50000 [06:57<03:44, 82.18it/s]"
     ]
    },
    {
     "name": "stderr",
     "output_type": "stream",
     "text": [
      "\r",
      "stem:  63%|██████▎   | 31572/50000 [06:57<04:21, 70.46it/s]"
     ]
    },
    {
     "name": "stderr",
     "output_type": "stream",
     "text": [
      "\r",
      "stem:  63%|██████▎   | 31560/50000 [06:57<05:05, 60.35it/s]"
     ]
    },
    {
     "name": "stderr",
     "output_type": "stream",
     "text": [
      "\r",
      "stem:  63%|██████▎   | 31548/50000 [06:57<05:07, 60.00it/s]"
     ]
    },
    {
     "name": "stderr",
     "output_type": "stream",
     "text": [
      "\r",
      "stem:  63%|██████▎   | 31539/50000 [06:57<03:50, 80.09it/s]"
     ]
    },
    {
     "name": "stderr",
     "output_type": "stream",
     "text": [
      "\r",
      "stem:  63%|██████▎   | 31529/50000 [06:56<03:41, 83.54it/s]"
     ]
    },
    {
     "name": "stderr",
     "output_type": "stream",
     "text": [
      "\r",
      "stem:  63%|██████▎   | 31518/50000 [06:56<03:12, 96.07it/s]"
     ]
    },
    {
     "name": "stderr",
     "output_type": "stream",
     "text": [
      "\r",
      "stem:  63%|██████▎   | 31506/50000 [06:56<03:28, 88.64it/s]"
     ]
    },
    {
     "name": "stderr",
     "output_type": "stream",
     "text": [
      "\r",
      "stem:  63%|██████▎   | 31488/50000 [06:56<03:40, 84.01it/s]"
     ]
    },
    {
     "name": "stderr",
     "output_type": "stream",
     "text": [
      "\r",
      "stem:  63%|██████▎   | 31476/50000 [06:56<03:25, 90.27it/s]"
     ]
    },
    {
     "name": "stderr",
     "output_type": "stream",
     "text": [
      "\r",
      "stem:  63%|██████▎   | 31461/50000 [06:56<03:59, 77.39it/s]"
     ]
    },
    {
     "name": "stderr",
     "output_type": "stream",
     "text": [
      "\r",
      "stem:  63%|██████▎   | 31452/50000 [06:56<03:57, 78.23it/s]"
     ]
    },
    {
     "name": "stderr",
     "output_type": "stream",
     "text": [
      "\r",
      "stem:  63%|██████▎   | 31440/50000 [06:56<04:20, 71.21it/s]"
     ]
    },
    {
     "name": "stderr",
     "output_type": "stream",
     "text": [
      "\r",
      "stem:  63%|██████▎   | 31422/50000 [06:55<04:09, 74.48it/s]"
     ]
    },
    {
     "name": "stderr",
     "output_type": "stream",
     "text": [
      "\r",
      "stem:  63%|██████▎   | 31398/50000 [06:55<04:30, 68.72it/s]"
     ]
    },
    {
     "name": "stderr",
     "output_type": "stream",
     "text": [
      "\r",
      "stem:  63%|██████▎   | 31389/50000 [06:55<03:52, 80.10it/s]"
     ]
    },
    {
     "name": "stderr",
     "output_type": "stream",
     "text": [
      "\r",
      "stem:  63%|██████▎   | 31380/50000 [06:55<04:00, 77.29it/s]"
     ]
    },
    {
     "name": "stderr",
     "output_type": "stream",
     "text": [
      "\r",
      "stem:  63%|██████▎   | 31368/50000 [06:55<04:36, 67.48it/s]"
     ]
    },
    {
     "name": "stderr",
     "output_type": "stream",
     "text": [
      "\r",
      "stem:  63%|██████▎   | 31356/50000 [06:54<04:49, 64.46it/s]"
     ]
    },
    {
     "name": "stderr",
     "output_type": "stream",
     "text": [
      "\r",
      "stem:  63%|██████▎   | 31344/50000 [06:54<04:12, 73.96it/s]"
     ]
    },
    {
     "name": "stderr",
     "output_type": "stream",
     "text": [
      "\r",
      "stem:  63%|██████▎   | 31326/50000 [06:54<04:18, 72.22it/s]"
     ]
    },
    {
     "name": "stderr",
     "output_type": "stream",
     "text": [
      "\r",
      "stem:  63%|██████▎   | 31314/50000 [06:54<04:38, 66.98it/s]"
     ]
    },
    {
     "name": "stderr",
     "output_type": "stream",
     "text": [
      "\r",
      "stem:  63%|██████▎   | 31302/50000 [06:54<04:32, 68.73it/s]"
     ]
    },
    {
     "name": "stderr",
     "output_type": "stream",
     "text": [
      "\r",
      "stem:  63%|██████▎   | 31278/50000 [06:54<05:45, 54.15it/s]"
     ]
    },
    {
     "name": "stderr",
     "output_type": "stream",
     "text": [
      "\r",
      "stem:  63%|██████▎   | 31266/50000 [06:53<04:52, 63.96it/s]"
     ]
    },
    {
     "name": "stderr",
     "output_type": "stream",
     "text": [
      "\r",
      "stem:  63%|██████▎   | 31257/50000 [06:53<05:18, 58.89it/s]"
     ]
    },
    {
     "name": "stderr",
     "output_type": "stream",
     "text": [
      "\r",
      "stem:  62%|██████▏   | 31248/50000 [06:53<04:15, 73.46it/s]"
     ]
    },
    {
     "name": "stderr",
     "output_type": "stream",
     "text": [
      "\r",
      "stem:  62%|██████▏   | 31236/50000 [06:53<04:34, 68.39it/s]"
     ]
    },
    {
     "name": "stderr",
     "output_type": "stream",
     "text": [
      "\r",
      "stem:  62%|██████▏   | 31227/50000 [06:53<04:20, 71.95it/s]"
     ]
    },
    {
     "name": "stderr",
     "output_type": "stream",
     "text": [
      "\r",
      "stem:  62%|██████▏   | 31218/50000 [06:52<04:26, 70.41it/s]"
     ]
    },
    {
     "name": "stderr",
     "output_type": "stream",
     "text": [
      "\r",
      "stem:  62%|██████▏   | 31203/50000 [06:52<05:23, 58.15it/s]"
     ]
    },
    {
     "name": "stderr",
     "output_type": "stream",
     "text": [
      "\r",
      "stem:  62%|██████▏   | 31196/50000 [06:52<05:34, 56.17it/s]"
     ]
    },
    {
     "name": "stderr",
     "output_type": "stream",
     "text": [
      "\r",
      "stem:  62%|██████▏   | 31188/50000 [06:52<04:44, 66.20it/s]"
     ]
    },
    {
     "name": "stderr",
     "output_type": "stream",
     "text": [
      "\r",
      "stem:  62%|██████▏   | 31176/50000 [06:52<05:14, 59.80it/s]"
     ]
    },
    {
     "name": "stderr",
     "output_type": "stream",
     "text": [
      "\r",
      "stem:  62%|██████▏   | 31164/50000 [06:52<05:59, 52.42it/s]"
     ]
    },
    {
     "name": "stderr",
     "output_type": "stream",
     "text": [
      "\r",
      "stem:  62%|██████▏   | 31152/50000 [06:52<05:21, 58.60it/s]"
     ]
    },
    {
     "name": "stderr",
     "output_type": "stream",
     "text": [
      "\r",
      "stem:  62%|██████▏   | 31140/50000 [06:51<05:46, 54.39it/s]"
     ]
    },
    {
     "name": "stderr",
     "output_type": "stream",
     "text": [
      "\r",
      "stem:  62%|██████▏   | 31116/50000 [06:51<06:29, 48.50it/s]"
     ]
    },
    {
     "name": "stderr",
     "output_type": "stream",
     "text": [
      "\r",
      "stem:  62%|██████▏   | 31102/50000 [06:51<07:51, 40.11it/s]"
     ]
    },
    {
     "name": "stderr",
     "output_type": "stream",
     "text": [
      "\r",
      "stem:  62%|██████▏   | 31096/50000 [06:51<07:29, 42.07it/s]"
     ]
    },
    {
     "name": "stderr",
     "output_type": "stream",
     "text": [
      "\r",
      "stem:  62%|██████▏   | 31089/50000 [06:50<05:13, 60.35it/s]"
     ]
    },
    {
     "name": "stderr",
     "output_type": "stream",
     "text": [
      "\r",
      "stem:  62%|██████▏   | 31082/50000 [06:50<05:22, 58.71it/s]"
     ]
    },
    {
     "name": "stderr",
     "output_type": "stream",
     "text": [
      "\r",
      "stem:  62%|██████▏   | 31075/50000 [06:50<05:15, 59.92it/s]"
     ]
    },
    {
     "name": "stderr",
     "output_type": "stream",
     "text": [
      "\r",
      "stem:  62%|██████▏   | 31068/50000 [06:50<05:18, 59.50it/s]"
     ]
    },
    {
     "name": "stderr",
     "output_type": "stream",
     "text": [
      "\r",
      "stem:  62%|██████▏   | 31056/50000 [06:50<05:49, 54.25it/s]"
     ]
    },
    {
     "name": "stderr",
     "output_type": "stream",
     "text": [
      "\r",
      "stem:  62%|██████▏   | 31049/50000 [06:50<05:15, 60.01it/s]"
     ]
    },
    {
     "name": "stderr",
     "output_type": "stream",
     "text": [
      "\r",
      "stem:  62%|██████▏   | 31041/50000 [06:50<05:11, 60.92it/s]"
     ]
    },
    {
     "name": "stderr",
     "output_type": "stream",
     "text": [
      "\r",
      "stem:  62%|██████▏   | 31032/50000 [06:49<04:11, 75.36it/s]"
     ]
    },
    {
     "name": "stderr",
     "output_type": "stream",
     "text": [
      "\r",
      "stem:  62%|██████▏   | 31014/50000 [06:49<04:52, 65.01it/s]"
     ]
    },
    {
     "name": "stderr",
     "output_type": "stream",
     "text": [
      "\r",
      "stem:  62%|██████▏   | 31002/50000 [06:49<04:29, 70.41it/s]"
     ]
    },
    {
     "name": "stderr",
     "output_type": "stream",
     "text": [
      "\r",
      "stem:  62%|██████▏   | 30990/50000 [06:49<05:07, 61.86it/s]"
     ]
    },
    {
     "name": "stderr",
     "output_type": "stream",
     "text": [
      "\r",
      "stem:  62%|██████▏   | 30972/50000 [06:49<05:41, 55.67it/s]"
     ]
    },
    {
     "name": "stderr",
     "output_type": "stream",
     "text": [
      "\r",
      "stem:  62%|██████▏   | 30954/50000 [06:48<06:07, 51.85it/s]"
     ]
    },
    {
     "name": "stderr",
     "output_type": "stream",
     "text": [
      "\r",
      "stem:  62%|██████▏   | 30946/50000 [06:48<05:29, 57.86it/s]"
     ]
    },
    {
     "name": "stderr",
     "output_type": "stream",
     "text": [
      "\r",
      "stem:  62%|██████▏   | 30939/50000 [06:48<05:21, 59.30it/s]"
     ]
    },
    {
     "name": "stderr",
     "output_type": "stream",
     "text": [
      "\r",
      "stem:  62%|██████▏   | 30930/50000 [06:48<04:09, 76.54it/s]"
     ]
    },
    {
     "name": "stderr",
     "output_type": "stream",
     "text": [
      "\r",
      "stem:  62%|██████▏   | 30918/50000 [06:48<04:35, 69.28it/s]"
     ]
    },
    {
     "name": "stderr",
     "output_type": "stream",
     "text": [
      "\r",
      "stem:  62%|██████▏   | 30906/50000 [06:48<05:13, 60.90it/s]"
     ]
    },
    {
     "name": "stderr",
     "output_type": "stream",
     "text": [
      "\r",
      "stem:  62%|██████▏   | 30894/50000 [06:48<05:43, 55.57it/s]"
     ]
    },
    {
     "name": "stderr",
     "output_type": "stream",
     "text": [
      "\r",
      "stem:  62%|██████▏   | 30883/50000 [06:47<05:51, 54.36it/s]"
     ]
    },
    {
     "name": "stderr",
     "output_type": "stream",
     "text": [
      "\r",
      "stem:  62%|██████▏   | 30877/50000 [06:47<06:02, 52.74it/s]"
     ]
    },
    {
     "name": "stderr",
     "output_type": "stream",
     "text": [
      "\r",
      "stem:  62%|██████▏   | 30871/50000 [06:47<05:48, 54.83it/s]"
     ]
    },
    {
     "name": "stderr",
     "output_type": "stream",
     "text": [
      "\r",
      "stem:  62%|██████▏   | 30864/50000 [06:47<05:24, 58.99it/s]"
     ]
    },
    {
     "name": "stderr",
     "output_type": "stream",
     "text": [
      "\r",
      "stem:  62%|██████▏   | 30852/50000 [06:47<05:43, 55.74it/s]"
     ]
    },
    {
     "name": "stderr",
     "output_type": "stream",
     "text": [
      "\r",
      "stem:  62%|██████▏   | 30841/50000 [06:47<05:53, 54.25it/s]"
     ]
    },
    {
     "name": "stderr",
     "output_type": "stream",
     "text": [
      "\r",
      "stem:  62%|██████▏   | 30834/50000 [06:46<06:05, 52.38it/s]"
     ]
    },
    {
     "name": "stderr",
     "output_type": "stream",
     "text": [
      "\r",
      "stem:  62%|██████▏   | 30819/50000 [06:46<07:13, 44.23it/s]"
     ]
    },
    {
     "name": "stderr",
     "output_type": "stream",
     "text": [
      "\r",
      "stem:  62%|██████▏   | 30812/50000 [06:46<06:40, 47.86it/s]"
     ]
    },
    {
     "name": "stderr",
     "output_type": "stream",
     "text": [
      "\r",
      "stem:  62%|██████▏   | 30804/50000 [06:46<05:33, 57.63it/s]"
     ]
    },
    {
     "name": "stderr",
     "output_type": "stream",
     "text": [
      "\r",
      "stem:  62%|██████▏   | 30792/50000 [06:46<06:40, 48.01it/s]"
     ]
    },
    {
     "name": "stderr",
     "output_type": "stream",
     "text": [
      "\r",
      "stem:  62%|██████▏   | 30780/50000 [06:45<05:44, 55.77it/s]"
     ]
    },
    {
     "name": "stderr",
     "output_type": "stream",
     "text": [
      "\r",
      "stem:  62%|██████▏   | 30757/50000 [06:45<06:37, 48.47it/s]"
     ]
    },
    {
     "name": "stderr",
     "output_type": "stream",
     "text": [
      "\r",
      "stem:  62%|██████▏   | 30750/50000 [06:45<05:08, 62.30it/s]"
     ]
    },
    {
     "name": "stderr",
     "output_type": "stream",
     "text": [
      "\r",
      "stem:  61%|██████▏   | 30733/50000 [06:45<05:54, 54.43it/s]"
     ]
    },
    {
     "name": "stderr",
     "output_type": "stream",
     "text": [
      "\r",
      "stem:  61%|██████▏   | 30726/50000 [06:45<05:40, 56.55it/s]"
     ]
    },
    {
     "name": "stderr",
     "output_type": "stream",
     "text": [
      "\r",
      "stem:  61%|██████▏   | 30714/50000 [06:44<06:00, 53.56it/s]"
     ]
    },
    {
     "name": "stderr",
     "output_type": "stream",
     "text": [
      "\r",
      "stem:  61%|██████▏   | 30702/50000 [06:44<06:33, 48.99it/s]"
     ]
    },
    {
     "name": "stderr",
     "output_type": "stream",
     "text": [
      "\r",
      "stem:  61%|██████▏   | 30690/50000 [06:44<06:14, 51.50it/s]"
     ]
    },
    {
     "name": "stderr",
     "output_type": "stream",
     "text": [
      "\r",
      "stem:  61%|██████▏   | 30681/50000 [06:44<06:48, 47.26it/s]"
     ]
    },
    {
     "name": "stderr",
     "output_type": "stream",
     "text": [
      "\r",
      "stem:  61%|██████▏   | 30674/50000 [06:44<06:32, 49.23it/s]"
     ]
    },
    {
     "name": "stderr",
     "output_type": "stream",
     "text": [
      "\r",
      "stem:  61%|██████▏   | 30666/50000 [06:43<04:32, 70.97it/s]"
     ]
    },
    {
     "name": "stderr",
     "output_type": "stream",
     "text": [
      "\r",
      "stem:  61%|██████▏   | 30657/50000 [06:43<04:26, 72.67it/s]"
     ]
    },
    {
     "name": "stderr",
     "output_type": "stream",
     "text": [
      "\r",
      "stem:  61%|██████▏   | 30648/50000 [06:43<04:03, 79.39it/s]"
     ]
    },
    {
     "name": "stderr",
     "output_type": "stream",
     "text": [
      "\r",
      "stem:  61%|██████▏   | 30635/50000 [06:43<04:03, 79.59it/s]"
     ]
    },
    {
     "name": "stderr",
     "output_type": "stream",
     "text": [
      "\r",
      "stem:  61%|██████    | 30624/50000 [06:43<03:32, 91.31it/s]"
     ]
    },
    {
     "name": "stderr",
     "output_type": "stream",
     "text": [
      "\r",
      "stem:  61%|██████    | 30606/50000 [06:43<04:08, 78.13it/s]"
     ]
    },
    {
     "name": "stderr",
     "output_type": "stream",
     "text": [
      "\r",
      "stem:  61%|██████    | 30588/50000 [06:42<04:01, 80.41it/s]"
     ]
    },
    {
     "name": "stderr",
     "output_type": "stream",
     "text": [
      "\r",
      "stem:  61%|██████    | 30577/50000 [06:42<03:29, 92.85it/s] "
     ]
    },
    {
     "name": "stderr",
     "output_type": "stream",
     "text": [
      "\r",
      "stem:  61%|██████    | 30564/50000 [06:42<02:53, 111.91it/s]"
     ]
    },
    {
     "name": "stderr",
     "output_type": "stream",
     "text": [
      "\r",
      "stem:  61%|██████    | 30546/50000 [06:42<03:20, 97.09it/s]"
     ]
    },
    {
     "name": "stderr",
     "output_type": "stream",
     "text": [
      "\r",
      "stem:  61%|██████    | 30522/50000 [06:42<03:19, 97.49it/s]"
     ]
    },
    {
     "name": "stderr",
     "output_type": "stream",
     "text": [
      "\r",
      "stem:  61%|██████    | 30504/50000 [06:42<03:29, 92.98it/s] "
     ]
    },
    {
     "name": "stderr",
     "output_type": "stream",
     "text": [
      "\r",
      "stem:  61%|██████    | 30492/50000 [06:41<03:09, 103.07it/s]"
     ]
    },
    {
     "name": "stderr",
     "output_type": "stream",
     "text": [
      "\r",
      "stem:  61%|██████    | 30474/50000 [06:41<03:32, 92.07it/s]"
     ]
    },
    {
     "name": "stderr",
     "output_type": "stream",
     "text": [
      "\r",
      "stem:  61%|██████    | 30455/50000 [06:41<03:42, 87.65it/s]"
     ]
    },
    {
     "name": "stderr",
     "output_type": "stream",
     "text": [
      "\r",
      "stem:  61%|██████    | 30444/50000 [06:41<03:26, 94.60it/s]"
     ]
    },
    {
     "name": "stderr",
     "output_type": "stream",
     "text": [
      "\r",
      "stem:  61%|██████    | 30432/50000 [06:41<03:27, 94.09it/s]"
     ]
    },
    {
     "name": "stderr",
     "output_type": "stream",
     "text": [
      "\r",
      "stem:  61%|██████    | 30414/50000 [06:41<04:02, 80.91it/s]"
     ]
    },
    {
     "name": "stderr",
     "output_type": "stream",
     "text": [
      "\r",
      "stem:  61%|██████    | 30396/50000 [06:41<04:19, 75.62it/s]"
     ]
    },
    {
     "name": "stderr",
     "output_type": "stream",
     "text": [
      "\r",
      "stem:  61%|██████    | 30387/50000 [06:40<04:20, 75.38it/s]"
     ]
    },
    {
     "name": "stderr",
     "output_type": "stream",
     "text": [
      "\r",
      "stem:  61%|██████    | 30378/50000 [06:40<04:33, 71.68it/s]"
     ]
    },
    {
     "name": "stderr",
     "output_type": "stream",
     "text": [
      "\r",
      "stem:  61%|██████    | 30360/50000 [06:40<03:33, 91.80it/s]"
     ]
    },
    {
     "name": "stderr",
     "output_type": "stream",
     "text": [
      "\r",
      "stem:  61%|██████    | 30348/50000 [06:40<03:43, 87.89it/s]"
     ]
    },
    {
     "name": "stderr",
     "output_type": "stream",
     "text": [
      "\r",
      "stem:  61%|██████    | 30336/50000 [06:40<03:39, 89.61it/s]"
     ]
    },
    {
     "name": "stderr",
     "output_type": "stream",
     "text": [
      "\r",
      "stem:  61%|██████    | 30324/50000 [06:40<03:54, 83.99it/s]"
     ]
    },
    {
     "name": "stderr",
     "output_type": "stream",
     "text": [
      "\r",
      "stem:  61%|██████    | 30300/50000 [06:39<04:32, 72.33it/s]"
     ]
    },
    {
     "name": "stderr",
     "output_type": "stream",
     "text": [
      "\r",
      "stem:  61%|██████    | 30289/50000 [06:39<04:21, 75.34it/s]"
     ]
    },
    {
     "name": "stderr",
     "output_type": "stream",
     "text": [
      "\r",
      "stem:  61%|██████    | 30279/50000 [06:39<03:46, 87.01it/s]"
     ]
    },
    {
     "name": "stderr",
     "output_type": "stream",
     "text": [
      "\r",
      "stem:  61%|██████    | 30268/50000 [06:39<03:34, 92.09it/s]"
     ]
    },
    {
     "name": "stderr",
     "output_type": "stream",
     "text": [
      "\r",
      "stem:  61%|██████    | 30257/50000 [06:39<03:46, 87.03it/s]"
     ]
    },
    {
     "name": "stderr",
     "output_type": "stream",
     "text": [
      "\r",
      "stem:  60%|██████    | 30246/50000 [06:39<03:42, 88.87it/s]"
     ]
    },
    {
     "name": "stderr",
     "output_type": "stream",
     "text": [
      "\r",
      "stem:  60%|██████    | 30228/50000 [06:39<04:26, 74.10it/s]"
     ]
    },
    {
     "name": "stderr",
     "output_type": "stream",
     "text": [
      "\r",
      "stem:  60%|██████    | 30216/50000 [06:38<04:22, 75.32it/s]"
     ]
    },
    {
     "name": "stderr",
     "output_type": "stream",
     "text": [
      "\r",
      "stem:  60%|██████    | 30204/50000 [06:38<05:01, 65.70it/s]"
     ]
    },
    {
     "name": "stderr",
     "output_type": "stream",
     "text": [
      "\r",
      "stem:  60%|██████    | 30192/50000 [06:38<04:53, 67.52it/s]"
     ]
    },
    {
     "name": "stderr",
     "output_type": "stream",
     "text": [
      "\r",
      "stem:  60%|██████    | 30177/50000 [06:38<05:45, 57.35it/s]"
     ]
    },
    {
     "name": "stderr",
     "output_type": "stream",
     "text": [
      "\r",
      "stem:  60%|██████    | 30168/50000 [06:38<04:16, 77.42it/s]"
     ]
    },
    {
     "name": "stderr",
     "output_type": "stream",
     "text": [
      "\r",
      "stem:  60%|██████    | 30158/50000 [06:38<04:10, 79.36it/s]"
     ]
    },
    {
     "name": "stderr",
     "output_type": "stream",
     "text": [
      "\r",
      "stem:  60%|██████    | 30148/50000 [06:37<03:44, 88.59it/s]"
     ]
    },
    {
     "name": "stderr",
     "output_type": "stream",
     "text": [
      "\r",
      "stem:  60%|██████    | 30138/50000 [06:37<03:42, 89.12it/s]"
     ]
    },
    {
     "name": "stderr",
     "output_type": "stream",
     "text": [
      "\r",
      "stem:  60%|██████    | 30126/50000 [06:37<03:45, 88.26it/s]"
     ]
    },
    {
     "name": "stderr",
     "output_type": "stream",
     "text": [
      "\r",
      "stem:  60%|██████    | 30114/50000 [06:37<03:39, 90.58it/s]"
     ]
    },
    {
     "name": "stderr",
     "output_type": "stream",
     "text": [
      "\r",
      "stem:  60%|██████    | 30090/50000 [06:37<03:56, 84.17it/s]"
     ]
    },
    {
     "name": "stderr",
     "output_type": "stream",
     "text": [
      "\r",
      "stem:  60%|██████    | 30066/50000 [06:37<04:27, 74.38it/s]"
     ]
    },
    {
     "name": "stderr",
     "output_type": "stream",
     "text": [
      "\r",
      "stem:  60%|██████    | 30054/50000 [06:36<03:44, 88.88it/s]"
     ]
    },
    {
     "name": "stderr",
     "output_type": "stream",
     "text": [
      "\r",
      "stem:  60%|██████    | 30042/50000 [06:36<04:06, 80.87it/s]"
     ]
    },
    {
     "name": "stderr",
     "output_type": "stream",
     "text": [
      "\r",
      "stem:  60%|██████    | 30030/50000 [06:36<03:48, 87.25it/s]"
     ]
    },
    {
     "name": "stderr",
     "output_type": "stream",
     "text": [
      "\r",
      "stem:  60%|██████    | 30018/50000 [06:36<03:23, 98.06it/s]"
     ]
    },
    {
     "name": "stderr",
     "output_type": "stream",
     "text": [
      "\r",
      "stem:  60%|██████    | 30000/50000 [06:36<04:00, 83.01it/s]"
     ]
    },
    {
     "name": "stderr",
     "output_type": "stream",
     "text": [
      "\r",
      "stem:  60%|█████▉    | 29980/50000 [06:36<04:07, 80.90it/s]"
     ]
    },
    {
     "name": "stderr",
     "output_type": "stream",
     "text": [
      "\r",
      "stem:  60%|█████▉    | 29970/50000 [06:35<04:12, 79.31it/s]"
     ]
    },
    {
     "name": "stderr",
     "output_type": "stream",
     "text": [
      "\r",
      "stem:  60%|█████▉    | 29946/50000 [06:35<05:05, 65.58it/s]"
     ]
    },
    {
     "name": "stderr",
     "output_type": "stream",
     "text": [
      "\r",
      "stem:  60%|█████▉    | 29932/50000 [06:35<05:00, 66.86it/s]"
     ]
    },
    {
     "name": "stderr",
     "output_type": "stream",
     "text": [
      "\r",
      "stem:  60%|█████▉    | 29924/50000 [06:35<05:13, 64.09it/s]"
     ]
    },
    {
     "name": "stderr",
     "output_type": "stream",
     "text": [
      "\r",
      "stem:  60%|█████▉    | 29916/50000 [06:35<05:28, 61.16it/s]"
     ]
    },
    {
     "name": "stderr",
     "output_type": "stream",
     "text": [
      "\r",
      "stem:  60%|█████▉    | 29906/50000 [06:35<06:14, 53.65it/s]"
     ]
    },
    {
     "name": "stderr",
     "output_type": "stream",
     "text": [
      "\r",
      "stem:  60%|█████▉    | 29898/50000 [06:35<05:50, 57.41it/s]"
     ]
    },
    {
     "name": "stderr",
     "output_type": "stream",
     "text": [
      "\r",
      "stem:  60%|█████▉    | 29875/50000 [06:34<06:58, 48.08it/s]"
     ]
    },
    {
     "name": "stderr",
     "output_type": "stream",
     "text": [
      "\r",
      "stem:  60%|█████▉    | 29868/50000 [06:34<05:21, 62.63it/s]"
     ]
    },
    {
     "name": "stderr",
     "output_type": "stream",
     "text": [
      "\r",
      "stem:  60%|█████▉    | 29859/50000 [06:34<04:55, 68.10it/s]"
     ]
    },
    {
     "name": "stderr",
     "output_type": "stream",
     "text": [
      "\r",
      "stem:  60%|█████▉    | 29850/50000 [06:34<04:19, 77.56it/s]"
     ]
    },
    {
     "name": "stderr",
     "output_type": "stream",
     "text": [
      "\r",
      "stem:  60%|█████▉    | 29838/50000 [06:34<04:22, 76.67it/s]"
     ]
    },
    {
     "name": "stderr",
     "output_type": "stream",
     "text": [
      "\r",
      "stem:  60%|█████▉    | 29820/50000 [06:33<04:57, 67.89it/s]"
     ]
    },
    {
     "name": "stderr",
     "output_type": "stream",
     "text": [
      "\r",
      "stem:  60%|█████▉    | 29805/50000 [06:33<05:10, 65.07it/s]"
     ]
    },
    {
     "name": "stderr",
     "output_type": "stream",
     "text": [
      "\r",
      "stem:  60%|█████▉    | 29797/50000 [06:33<05:01, 67.12it/s]"
     ]
    },
    {
     "name": "stderr",
     "output_type": "stream",
     "text": [
      "\r",
      "stem:  60%|█████▉    | 29788/50000 [06:33<04:04, 82.81it/s]"
     ]
    },
    {
     "name": "stderr",
     "output_type": "stream",
     "text": [
      "\r",
      "stem:  60%|█████▉    | 29778/50000 [06:33<03:53, 86.77it/s]"
     ]
    },
    {
     "name": "stderr",
     "output_type": "stream",
     "text": [
      "\r",
      "stem:  60%|█████▉    | 29760/50000 [06:33<04:30, 74.70it/s]"
     ]
    },
    {
     "name": "stderr",
     "output_type": "stream",
     "text": [
      "\r",
      "stem:  59%|█████▉    | 29748/50000 [06:33<04:20, 77.62it/s]"
     ]
    },
    {
     "name": "stderr",
     "output_type": "stream",
     "text": [
      "\r",
      "stem:  59%|█████▉    | 29736/50000 [06:32<04:40, 72.21it/s]"
     ]
    },
    {
     "name": "stderr",
     "output_type": "stream",
     "text": [
      "\r",
      "stem:  59%|█████▉    | 29718/50000 [06:32<04:54, 68.89it/s]"
     ]
    },
    {
     "name": "stderr",
     "output_type": "stream",
     "text": [
      "\r",
      "stem:  59%|█████▉    | 29706/50000 [06:32<04:46, 70.82it/s]"
     ]
    },
    {
     "name": "stderr",
     "output_type": "stream",
     "text": [
      "\r",
      "stem:  59%|█████▉    | 29694/50000 [06:32<05:21, 63.10it/s]"
     ]
    },
    {
     "name": "stderr",
     "output_type": "stream",
     "text": [
      "\r",
      "stem:  59%|█████▉    | 29684/50000 [06:32<05:38, 60.01it/s]"
     ]
    },
    {
     "name": "stderr",
     "output_type": "stream",
     "text": [
      "\r",
      "stem:  59%|█████▉    | 29676/50000 [06:32<04:57, 68.42it/s]"
     ]
    },
    {
     "name": "stderr",
     "output_type": "stream",
     "text": [
      "\r",
      "stem:  59%|█████▉    | 29664/50000 [06:31<05:31, 61.35it/s]"
     ]
    },
    {
     "name": "stderr",
     "output_type": "stream",
     "text": [
      "\r",
      "stem:  59%|█████▉    | 29655/50000 [06:31<04:07, 82.34it/s]"
     ]
    },
    {
     "name": "stderr",
     "output_type": "stream",
     "text": [
      "\r",
      "stem:  59%|█████▉    | 29646/50000 [06:31<04:13, 80.22it/s]"
     ]
    },
    {
     "name": "stderr",
     "output_type": "stream",
     "text": [
      "\r",
      "stem:  59%|█████▉    | 29628/50000 [06:31<04:34, 74.29it/s]"
     ]
    },
    {
     "name": "stderr",
     "output_type": "stream",
     "text": [
      "\r",
      "stem:  59%|█████▉    | 29612/50000 [06:31<05:03, 67.10it/s]"
     ]
    },
    {
     "name": "stderr",
     "output_type": "stream",
     "text": [
      "\r",
      "stem:  59%|█████▉    | 29604/50000 [06:31<05:18, 64.02it/s]"
     ]
    },
    {
     "name": "stderr",
     "output_type": "stream",
     "text": [
      "\r",
      "stem:  59%|█████▉    | 29592/50000 [06:30<04:12, 80.75it/s]"
     ]
    },
    {
     "name": "stderr",
     "output_type": "stream",
     "text": [
      "\r",
      "stem:  59%|█████▉    | 29580/50000 [06:30<04:29, 75.76it/s]"
     ]
    },
    {
     "name": "stderr",
     "output_type": "stream",
     "text": [
      "\r",
      "stem:  59%|█████▉    | 29568/50000 [06:30<04:23, 77.54it/s]"
     ]
    },
    {
     "name": "stderr",
     "output_type": "stream",
     "text": [
      "\r",
      "stem:  59%|█████▉    | 29556/50000 [06:30<04:13, 80.63it/s]"
     ]
    },
    {
     "name": "stderr",
     "output_type": "stream",
     "text": [
      "\r",
      "stem:  59%|█████▉    | 29538/50000 [06:30<04:10, 81.76it/s]"
     ]
    },
    {
     "name": "stderr",
     "output_type": "stream",
     "text": [
      "\r",
      "stem:  59%|█████▉    | 29514/50000 [06:29<04:23, 77.72it/s]"
     ]
    },
    {
     "name": "stderr",
     "output_type": "stream",
     "text": [
      "\r",
      "stem:  59%|█████▉    | 29490/50000 [06:29<05:18, 64.36it/s]"
     ]
    },
    {
     "name": "stderr",
     "output_type": "stream",
     "text": [
      "\r",
      "stem:  59%|█████▉    | 29476/50000 [06:29<04:22, 78.25it/s]"
     ]
    },
    {
     "name": "stderr",
     "output_type": "stream",
     "text": [
      "\r",
      "stem:  59%|█████▉    | 29466/50000 [06:29<04:15, 80.48it/s]"
     ]
    },
    {
     "name": "stderr",
     "output_type": "stream",
     "text": [
      "\r",
      "stem:  59%|█████▉    | 29448/50000 [06:29<04:59, 68.59it/s]"
     ]
    },
    {
     "name": "stderr",
     "output_type": "stream",
     "text": [
      "\r",
      "stem:  59%|█████▉    | 29424/50000 [06:28<05:13, 65.66it/s]"
     ]
    },
    {
     "name": "stderr",
     "output_type": "stream",
     "text": [
      "\r",
      "stem:  59%|█████▉    | 29412/50000 [06:28<05:11, 66.13it/s]"
     ]
    },
    {
     "name": "stderr",
     "output_type": "stream",
     "text": [
      "\r",
      "stem:  59%|█████▉    | 29400/50000 [06:28<05:45, 59.60it/s]"
     ]
    },
    {
     "name": "stderr",
     "output_type": "stream",
     "text": [
      "\r",
      "stem:  59%|█████▉    | 29393/50000 [06:28<05:45, 59.56it/s]"
     ]
    },
    {
     "name": "stderr",
     "output_type": "stream",
     "text": [
      "\r",
      "stem:  59%|█████▉    | 29385/50000 [06:28<05:06, 67.18it/s]"
     ]
    },
    {
     "name": "stderr",
     "output_type": "stream",
     "text": [
      "\r",
      "stem:  59%|█████▉    | 29375/50000 [06:28<04:02, 84.95it/s]"
     ]
    },
    {
     "name": "stderr",
     "output_type": "stream",
     "text": [
      "\r",
      "stem:  59%|█████▊    | 29364/50000 [06:27<03:46, 91.21it/s]"
     ]
    },
    {
     "name": "stderr",
     "output_type": "stream",
     "text": [
      "\r",
      "stem:  59%|█████▊    | 29340/50000 [06:27<04:24, 78.11it/s]"
     ]
    },
    {
     "name": "stderr",
     "output_type": "stream",
     "text": [
      "\r",
      "stem:  59%|█████▊    | 29328/50000 [06:27<04:25, 77.91it/s]"
     ]
    },
    {
     "name": "stderr",
     "output_type": "stream",
     "text": [
      "\r",
      "stem:  59%|█████▊    | 29319/50000 [06:27<04:26, 77.53it/s]"
     ]
    },
    {
     "name": "stderr",
     "output_type": "stream",
     "text": [
      "\r",
      "stem:  59%|█████▊    | 29310/50000 [06:27<04:32, 75.80it/s]"
     ]
    },
    {
     "name": "stderr",
     "output_type": "stream",
     "text": [
      "\r",
      "stem:  59%|█████▊    | 29298/50000 [06:27<05:06, 67.59it/s]"
     ]
    },
    {
     "name": "stderr",
     "output_type": "stream",
     "text": [
      "\r",
      "stem:  59%|█████▊    | 29286/50000 [06:27<05:01, 68.66it/s]"
     ]
    },
    {
     "name": "stderr",
     "output_type": "stream",
     "text": [
      "\r",
      "stem:  59%|█████▊    | 29270/50000 [06:26<05:36, 61.69it/s]"
     ]
    },
    {
     "name": "stderr",
     "output_type": "stream",
     "text": [
      "\r",
      "stem:  59%|█████▊    | 29262/50000 [06:26<04:38, 74.40it/s]"
     ]
    },
    {
     "name": "stderr",
     "output_type": "stream",
     "text": [
      "\r",
      "stem:  58%|█████▊    | 29242/50000 [06:26<05:02, 68.52it/s]"
     ]
    },
    {
     "name": "stderr",
     "output_type": "stream",
     "text": [
      "\r",
      "stem:  58%|█████▊    | 29234/50000 [06:26<04:58, 69.60it/s]"
     ]
    },
    {
     "name": "stderr",
     "output_type": "stream",
     "text": [
      "\r",
      "stem:  58%|█████▊    | 29226/50000 [06:26<04:53, 70.87it/s]"
     ]
    },
    {
     "name": "stderr",
     "output_type": "stream",
     "text": [
      "\r",
      "stem:  58%|█████▊    | 29214/50000 [06:26<04:37, 74.82it/s]"
     ]
    },
    {
     "name": "stderr",
     "output_type": "stream",
     "text": [
      "\r",
      "stem:  58%|█████▊    | 29202/50000 [06:25<05:20, 64.85it/s]"
     ]
    },
    {
     "name": "stderr",
     "output_type": "stream",
     "text": [
      "\r",
      "stem:  58%|█████▊    | 29191/50000 [06:25<05:00, 69.28it/s]"
     ]
    },
    {
     "name": "stderr",
     "output_type": "stream",
     "text": [
      "\r",
      "stem:  58%|█████▊    | 29181/50000 [06:25<04:01, 86.04it/s]"
     ]
    },
    {
     "name": "stderr",
     "output_type": "stream",
     "text": [
      "\r",
      "stem:  58%|█████▊    | 29170/50000 [06:25<03:32, 98.16it/s]"
     ]
    },
    {
     "name": "stderr",
     "output_type": "stream",
     "text": [
      "\r",
      "stem:  58%|█████▊    | 29159/50000 [06:25<03:33, 97.81it/s]"
     ]
    },
    {
     "name": "stderr",
     "output_type": "stream",
     "text": [
      "\r",
      "stem:  58%|█████▊    | 29148/50000 [06:25<03:38, 95.35it/s]"
     ]
    },
    {
     "name": "stderr",
     "output_type": "stream",
     "text": [
      "\r",
      "stem:  58%|█████▊    | 29124/50000 [06:24<04:09, 83.69it/s]"
     ]
    },
    {
     "name": "stderr",
     "output_type": "stream",
     "text": [
      "\r",
      "stem:  58%|█████▊    | 29111/50000 [06:24<03:46, 92.41it/s]"
     ]
    },
    {
     "name": "stderr",
     "output_type": "stream",
     "text": [
      "\r",
      "stem:  58%|█████▊    | 29100/50000 [06:24<03:43, 93.63it/s]"
     ]
    },
    {
     "name": "stderr",
     "output_type": "stream",
     "text": [
      "\r",
      "stem:  58%|█████▊    | 29082/50000 [06:24<04:11, 83.11it/s]"
     ]
    },
    {
     "name": "stderr",
     "output_type": "stream",
     "text": [
      "\r",
      "stem:  58%|█████▊    | 29070/50000 [06:24<04:36, 75.67it/s]"
     ]
    },
    {
     "name": "stderr",
     "output_type": "stream",
     "text": [
      "\r",
      "stem:  58%|█████▊    | 29053/50000 [06:24<05:10, 67.44it/s]"
     ]
    },
    {
     "name": "stderr",
     "output_type": "stream",
     "text": [
      "\r",
      "stem:  58%|█████▊    | 29043/50000 [06:24<03:58, 87.92it/s]"
     ]
    },
    {
     "name": "stderr",
     "output_type": "stream",
     "text": [
      "\r",
      "stem:  58%|█████▊    | 29032/50000 [06:23<03:36, 96.78it/s]"
     ]
    },
    {
     "name": "stderr",
     "output_type": "stream",
     "text": [
      "\r",
      "stem:  58%|█████▊    | 29021/50000 [06:23<03:39, 95.39it/s]"
     ]
    },
    {
     "name": "stderr",
     "output_type": "stream",
     "text": [
      "\r",
      "stem:  58%|█████▊    | 29010/50000 [06:23<03:48, 91.77it/s]"
     ]
    },
    {
     "name": "stderr",
     "output_type": "stream",
     "text": [
      "\r",
      "stem:  58%|█████▊    | 28992/50000 [06:23<04:29, 77.89it/s]"
     ]
    },
    {
     "name": "stderr",
     "output_type": "stream",
     "text": [
      "\r",
      "stem:  58%|█████▊    | 28974/50000 [06:23<05:06, 68.66it/s]"
     ]
    },
    {
     "name": "stderr",
     "output_type": "stream",
     "text": [
      "\r",
      "stem:  58%|█████▊    | 28959/50000 [06:23<05:40, 61.86it/s]"
     ]
    },
    {
     "name": "stderr",
     "output_type": "stream",
     "text": [
      "\r",
      "stem:  58%|█████▊    | 28950/50000 [06:23<04:35, 76.35it/s]"
     ]
    },
    {
     "name": "stderr",
     "output_type": "stream",
     "text": [
      "\r",
      "stem:  58%|█████▊    | 28935/50000 [06:22<04:24, 79.50it/s]"
     ]
    },
    {
     "name": "stderr",
     "output_type": "stream",
     "text": [
      "\r",
      "stem:  58%|█████▊    | 28925/50000 [06:22<04:01, 87.43it/s]"
     ]
    },
    {
     "name": "stderr",
     "output_type": "stream",
     "text": [
      "\r",
      "stem:  58%|█████▊    | 28914/50000 [06:22<03:56, 89.05it/s]"
     ]
    },
    {
     "name": "stderr",
     "output_type": "stream",
     "text": [
      "\r",
      "stem:  58%|█████▊    | 28902/50000 [06:22<04:22, 80.29it/s]"
     ]
    },
    {
     "name": "stderr",
     "output_type": "stream",
     "text": [
      "\r",
      "stem:  58%|█████▊    | 28884/50000 [06:22<05:14, 67.18it/s]"
     ]
    },
    {
     "name": "stderr",
     "output_type": "stream",
     "text": [
      "\r",
      "stem:  58%|█████▊    | 28872/50000 [06:22<04:44, 74.29it/s]"
     ]
    },
    {
     "name": "stderr",
     "output_type": "stream",
     "text": [
      "\r",
      "stem:  58%|█████▊    | 28858/50000 [06:21<05:16, 66.71it/s]"
     ]
    },
    {
     "name": "stderr",
     "output_type": "stream",
     "text": [
      "\r",
      "stem:  58%|█████▊    | 28848/50000 [06:21<04:23, 80.19it/s]"
     ]
    },
    {
     "name": "stderr",
     "output_type": "stream",
     "text": [
      "\r",
      "stem:  58%|█████▊    | 28830/50000 [06:21<05:06, 69.15it/s]"
     ]
    },
    {
     "name": "stderr",
     "output_type": "stream",
     "text": [
      "\r",
      "stem:  58%|█████▊    | 28820/50000 [06:21<04:36, 76.71it/s]"
     ]
    },
    {
     "name": "stderr",
     "output_type": "stream",
     "text": [
      "\r",
      "stem:  58%|█████▊    | 28810/50000 [06:21<03:46, 93.42it/s]"
     ]
    },
    {
     "name": "stderr",
     "output_type": "stream",
     "text": [
      "\r",
      "stem:  58%|█████▊    | 28800/50000 [06:21<03:44, 94.39it/s]"
     ]
    },
    {
     "name": "stderr",
     "output_type": "stream",
     "text": [
      "\r",
      "stem:  58%|█████▊    | 28788/50000 [06:21<04:00, 88.23it/s]"
     ]
    },
    {
     "name": "stderr",
     "output_type": "stream",
     "text": [
      "\r",
      "stem:  58%|█████▊    | 28770/50000 [06:20<04:10, 84.74it/s]"
     ]
    },
    {
     "name": "stderr",
     "output_type": "stream",
     "text": [
      "\r",
      "stem:  58%|█████▊    | 28758/50000 [06:20<04:19, 82.01it/s]"
     ]
    },
    {
     "name": "stderr",
     "output_type": "stream",
     "text": [
      "\r",
      "stem:  57%|█████▋    | 28746/50000 [06:20<03:51, 91.98it/s]"
     ]
    },
    {
     "name": "stderr",
     "output_type": "stream",
     "text": [
      "\r",
      "stem:  57%|█████▋    | 28734/50000 [06:20<04:12, 84.13it/s]"
     ]
    },
    {
     "name": "stderr",
     "output_type": "stream",
     "text": [
      "\r",
      "stem:  57%|█████▋    | 28716/50000 [06:20<04:14, 83.48it/s]"
     ]
    },
    {
     "name": "stderr",
     "output_type": "stream",
     "text": [
      "\r",
      "stem:  57%|█████▋    | 28704/50000 [06:20<04:27, 79.64it/s]"
     ]
    },
    {
     "name": "stderr",
     "output_type": "stream",
     "text": [
      "\r",
      "stem:  57%|█████▋    | 28686/50000 [06:19<04:57, 71.63it/s]"
     ]
    },
    {
     "name": "stderr",
     "output_type": "stream",
     "text": [
      "\r",
      "stem:  57%|█████▋    | 28674/50000 [06:19<04:35, 77.36it/s]"
     ]
    },
    {
     "name": "stderr",
     "output_type": "stream",
     "text": [
      "\r",
      "stem:  57%|█████▋    | 28656/50000 [06:19<05:12, 68.33it/s]"
     ]
    },
    {
     "name": "stderr",
     "output_type": "stream",
     "text": [
      "\r",
      "stem:  57%|█████▋    | 28638/50000 [06:19<05:18, 67.16it/s]"
     ]
    },
    {
     "name": "stderr",
     "output_type": "stream",
     "text": [
      "\r",
      "stem:  57%|█████▋    | 28626/50000 [06:19<04:36, 77.23it/s]"
     ]
    },
    {
     "name": "stderr",
     "output_type": "stream",
     "text": [
      "\r",
      "stem:  57%|█████▋    | 28608/50000 [06:18<05:35, 63.74it/s]"
     ]
    },
    {
     "name": "stderr",
     "output_type": "stream",
     "text": [
      "\r",
      "stem:  57%|█████▋    | 28599/50000 [06:18<05:05, 70.11it/s]"
     ]
    },
    {
     "name": "stderr",
     "output_type": "stream",
     "text": [
      "\r",
      "stem:  57%|█████▋    | 28590/50000 [06:18<04:45, 75.09it/s]"
     ]
    },
    {
     "name": "stderr",
     "output_type": "stream",
     "text": [
      "\r",
      "stem:  57%|█████▋    | 28578/50000 [06:18<05:02, 70.79it/s]"
     ]
    },
    {
     "name": "stderr",
     "output_type": "stream",
     "text": [
      "\r",
      "stem:  57%|█████▋    | 28566/50000 [06:18<05:32, 64.52it/s]"
     ]
    },
    {
     "name": "stderr",
     "output_type": "stream",
     "text": [
      "\r",
      "stem:  57%|█████▋    | 28554/50000 [06:18<03:46, 94.58it/s]"
     ]
    },
    {
     "name": "stderr",
     "output_type": "stream",
     "text": [
      "\r",
      "stem:  57%|█████▋    | 28536/50000 [06:17<04:11, 85.26it/s]"
     ]
    },
    {
     "name": "stderr",
     "output_type": "stream",
     "text": [
      "\r",
      "stem:  57%|█████▋    | 28524/50000 [06:17<04:38, 77.13it/s]"
     ]
    },
    {
     "name": "stderr",
     "output_type": "stream",
     "text": [
      "\r",
      "stem:  57%|█████▋    | 28512/50000 [06:17<04:06, 87.20it/s]"
     ]
    },
    {
     "name": "stderr",
     "output_type": "stream",
     "text": [
      "\r",
      "stem:  57%|█████▋    | 28496/50000 [06:17<04:53, 73.21it/s]"
     ]
    },
    {
     "name": "stderr",
     "output_type": "stream",
     "text": [
      "\r",
      "stem:  57%|█████▋    | 28484/50000 [06:17<04:08, 86.55it/s]"
     ]
    },
    {
     "name": "stderr",
     "output_type": "stream",
     "text": [
      "\r",
      "stem:  57%|█████▋    | 28470/50000 [06:17<03:56, 90.95it/s]"
     ]
    },
    {
     "name": "stderr",
     "output_type": "stream",
     "text": [
      "\r",
      "stem:  57%|█████▋    | 28452/50000 [06:16<04:46, 75.29it/s]"
     ]
    },
    {
     "name": "stderr",
     "output_type": "stream",
     "text": [
      "\r",
      "stem:  57%|█████▋    | 28428/50000 [06:16<05:55, 60.63it/s]"
     ]
    },
    {
     "name": "stderr",
     "output_type": "stream",
     "text": [
      "\r",
      "stem:  57%|█████▋    | 28410/50000 [06:16<07:24, 48.59it/s]"
     ]
    },
    {
     "name": "stderr",
     "output_type": "stream",
     "text": [
      "\r",
      "stem:  57%|█████▋    | 28401/50000 [06:16<04:44, 76.05it/s]"
     ]
    },
    {
     "name": "stderr",
     "output_type": "stream",
     "text": [
      "\r",
      "stem:  57%|█████▋    | 28392/50000 [06:16<05:01, 71.76it/s]"
     ]
    },
    {
     "name": "stderr",
     "output_type": "stream",
     "text": [
      "\r",
      "stem:  57%|█████▋    | 28380/50000 [06:16<05:38, 63.84it/s]"
     ]
    },
    {
     "name": "stderr",
     "output_type": "stream",
     "text": [
      "\r",
      "stem:  57%|█████▋    | 28370/50000 [06:16<06:22, 56.62it/s]"
     ]
    },
    {
     "name": "stderr",
     "output_type": "stream",
     "text": [
      "\r",
      "stem:  57%|█████▋    | 28362/50000 [06:15<05:23, 66.93it/s]"
     ]
    },
    {
     "name": "stderr",
     "output_type": "stream",
     "text": [
      "\r",
      "stem:  57%|█████▋    | 28350/50000 [06:15<06:07, 58.96it/s]"
     ]
    },
    {
     "name": "stderr",
     "output_type": "stream",
     "text": [
      "\r",
      "stem:  57%|█████▋    | 28339/50000 [06:15<06:09, 58.58it/s]"
     ]
    },
    {
     "name": "stderr",
     "output_type": "stream",
     "text": [
      "\r",
      "stem:  57%|█████▋    | 28330/50000 [06:15<05:06, 70.73it/s]"
     ]
    },
    {
     "name": "stderr",
     "output_type": "stream",
     "text": [
      "\r",
      "stem:  57%|█████▋    | 28320/50000 [06:15<04:33, 79.40it/s]"
     ]
    },
    {
     "name": "stderr",
     "output_type": "stream",
     "text": [
      "\r",
      "stem:  57%|█████▋    | 28302/50000 [06:15<05:29, 65.86it/s]"
     ]
    },
    {
     "name": "stderr",
     "output_type": "stream",
     "text": [
      "\r",
      "stem:  57%|█████▋    | 28290/50000 [06:14<05:37, 64.35it/s]"
     ]
    },
    {
     "name": "stderr",
     "output_type": "stream",
     "text": [
      "\r",
      "stem:  57%|█████▋    | 28280/50000 [06:14<05:50, 62.02it/s]"
     ]
    },
    {
     "name": "stderr",
     "output_type": "stream",
     "text": [
      "\r",
      "stem:  57%|█████▋    | 28272/50000 [06:14<05:21, 67.49it/s]"
     ]
    },
    {
     "name": "stderr",
     "output_type": "stream",
     "text": [
      "\r",
      "stem:  57%|█████▋    | 28254/50000 [06:14<05:50, 62.07it/s]"
     ]
    },
    {
     "name": "stderr",
     "output_type": "stream",
     "text": [
      "\r",
      "stem:  56%|█████▋    | 28242/50000 [06:14<06:06, 59.44it/s]"
     ]
    },
    {
     "name": "stderr",
     "output_type": "stream",
     "text": [
      "\r",
      "stem:  56%|█████▋    | 28230/50000 [06:13<06:01, 60.24it/s]"
     ]
    },
    {
     "name": "stderr",
     "output_type": "stream",
     "text": [
      "\r",
      "stem:  56%|█████▋    | 28221/50000 [06:13<06:24, 56.69it/s]"
     ]
    },
    {
     "name": "stderr",
     "output_type": "stream",
     "text": [
      "\r",
      "stem:  56%|█████▋    | 28212/50000 [06:13<04:34, 79.44it/s]"
     ]
    },
    {
     "name": "stderr",
     "output_type": "stream",
     "text": [
      "\r",
      "stem:  56%|█████▋    | 28200/50000 [06:13<05:11, 69.96it/s]"
     ]
    },
    {
     "name": "stderr",
     "output_type": "stream",
     "text": [
      "\r",
      "stem:  56%|█████▋    | 28189/50000 [06:13<04:51, 74.70it/s]"
     ]
    },
    {
     "name": "stderr",
     "output_type": "stream",
     "text": [
      "\r",
      "stem:  56%|█████▋    | 28180/50000 [06:13<05:12, 69.73it/s]"
     ]
    },
    {
     "name": "stderr",
     "output_type": "stream",
     "text": [
      "\r",
      "stem:  56%|█████▋    | 28170/50000 [06:13<04:24, 82.41it/s]"
     ]
    },
    {
     "name": "stderr",
     "output_type": "stream",
     "text": [
      "\r",
      "stem:  56%|█████▋    | 28158/50000 [06:12<04:16, 85.08it/s]"
     ]
    },
    {
     "name": "stderr",
     "output_type": "stream",
     "text": [
      "\r",
      "stem:  56%|█████▋    | 28146/50000 [06:12<04:40, 77.94it/s]"
     ]
    },
    {
     "name": "stderr",
     "output_type": "stream",
     "text": [
      "\r",
      "stem:  56%|█████▋    | 28128/50000 [06:12<05:10, 70.52it/s]"
     ]
    },
    {
     "name": "stderr",
     "output_type": "stream",
     "text": [
      "\r",
      "stem:  56%|█████▌    | 28116/50000 [06:12<05:42, 63.94it/s]"
     ]
    },
    {
     "name": "stderr",
     "output_type": "stream",
     "text": [
      "\r",
      "stem:  56%|█████▌    | 28103/50000 [06:12<06:53, 52.92it/s]"
     ]
    },
    {
     "name": "stderr",
     "output_type": "stream",
     "text": [
      "\r",
      "stem:  56%|█████▌    | 28092/50000 [06:11<04:21, 83.69it/s]"
     ]
    },
    {
     "name": "stderr",
     "output_type": "stream",
     "text": [
      "\r",
      "stem:  56%|█████▌    | 28074/50000 [06:11<05:14, 69.63it/s]"
     ]
    },
    {
     "name": "stderr",
     "output_type": "stream",
     "text": [
      "\r",
      "stem:  56%|█████▌    | 28053/50000 [06:11<05:15, 69.66it/s]"
     ]
    },
    {
     "name": "stderr",
     "output_type": "stream",
     "text": [
      "\r",
      "stem:  56%|█████▌    | 28044/50000 [06:11<04:30, 81.16it/s]"
     ]
    },
    {
     "name": "stderr",
     "output_type": "stream",
     "text": [
      "\r",
      "stem:  56%|█████▌    | 28026/50000 [06:11<05:06, 71.60it/s]"
     ]
    },
    {
     "name": "stderr",
     "output_type": "stream",
     "text": [
      "\r",
      "stem:  56%|█████▌    | 28008/50000 [06:10<04:29, 81.60it/s]"
     ]
    },
    {
     "name": "stderr",
     "output_type": "stream",
     "text": [
      "\r",
      "stem:  56%|█████▌    | 27993/50000 [06:10<04:36, 79.56it/s]"
     ]
    },
    {
     "name": "stderr",
     "output_type": "stream",
     "text": [
      "\r",
      "stem:  56%|█████▌    | 27984/50000 [06:10<04:33, 80.53it/s]"
     ]
    },
    {
     "name": "stderr",
     "output_type": "stream",
     "text": [
      "\r",
      "stem:  56%|█████▌    | 27972/50000 [06:10<04:59, 73.65it/s]"
     ]
    },
    {
     "name": "stderr",
     "output_type": "stream",
     "text": [
      "\r",
      "stem:  56%|█████▌    | 27960/50000 [06:10<05:38, 65.03it/s]"
     ]
    },
    {
     "name": "stderr",
     "output_type": "stream",
     "text": [
      "\r",
      "stem:  56%|█████▌    | 27948/50000 [06:10<04:37, 79.43it/s]"
     ]
    },
    {
     "name": "stderr",
     "output_type": "stream",
     "text": [
      "\r",
      "stem:  56%|█████▌    | 27939/50000 [06:10<04:44, 77.53it/s]"
     ]
    },
    {
     "name": "stderr",
     "output_type": "stream",
     "text": [
      "\r",
      "stem:  56%|█████▌    | 27930/50000 [06:09<04:23, 83.74it/s]"
     ]
    },
    {
     "name": "stderr",
     "output_type": "stream",
     "text": [
      "\r",
      "stem:  56%|█████▌    | 27918/50000 [06:09<04:44, 77.65it/s]"
     ]
    },
    {
     "name": "stderr",
     "output_type": "stream",
     "text": [
      "\r",
      "stem:  56%|█████▌    | 27909/50000 [06:09<04:33, 80.80it/s]"
     ]
    },
    {
     "name": "stderr",
     "output_type": "stream",
     "text": [
      "\r",
      "stem:  56%|█████▌    | 27900/50000 [06:09<04:38, 79.41it/s]"
     ]
    },
    {
     "name": "stderr",
     "output_type": "stream",
     "text": [
      "\r",
      "stem:  56%|█████▌    | 27888/50000 [06:09<05:02, 73.03it/s]"
     ]
    },
    {
     "name": "stderr",
     "output_type": "stream",
     "text": [
      "\r",
      "stem:  56%|█████▌    | 27870/50000 [06:09<05:51, 62.93it/s]"
     ]
    },
    {
     "name": "stderr",
     "output_type": "stream",
     "text": [
      "\r",
      "stem:  56%|█████▌    | 27852/50000 [06:08<06:04, 60.80it/s]"
     ]
    },
    {
     "name": "stderr",
     "output_type": "stream",
     "text": [
      "\r",
      "stem:  56%|█████▌    | 27840/50000 [06:08<05:37, 65.58it/s]"
     ]
    },
    {
     "name": "stderr",
     "output_type": "stream",
     "text": [
      "\r",
      "stem:  56%|█████▌    | 27828/50000 [06:08<06:17, 58.71it/s]"
     ]
    },
    {
     "name": "stderr",
     "output_type": "stream",
     "text": [
      "\r",
      "stem:  56%|█████▌    | 27810/50000 [06:08<07:21, 50.25it/s]"
     ]
    },
    {
     "name": "stderr",
     "output_type": "stream",
     "text": [
      "\r",
      "stem:  56%|█████▌    | 27801/50000 [06:08<07:47, 47.52it/s]"
     ]
    },
    {
     "name": "stderr",
     "output_type": "stream",
     "text": [
      "\r",
      "stem:  56%|█████▌    | 27795/50000 [06:08<06:28, 57.10it/s]"
     ]
    },
    {
     "name": "stderr",
     "output_type": "stream",
     "text": [
      "\r",
      "stem:  56%|█████▌    | 27788/50000 [06:07<06:16, 59.04it/s]"
     ]
    },
    {
     "name": "stderr",
     "output_type": "stream",
     "text": [
      "\r",
      "stem:  56%|█████▌    | 27781/50000 [06:07<05:43, 64.72it/s]"
     ]
    },
    {
     "name": "stderr",
     "output_type": "stream",
     "text": [
      "\r",
      "stem:  56%|█████▌    | 27774/50000 [06:07<05:48, 63.85it/s]"
     ]
    },
    {
     "name": "stderr",
     "output_type": "stream",
     "text": [
      "\r",
      "stem:  56%|█████▌    | 27765/50000 [06:07<05:00, 74.08it/s]"
     ]
    },
    {
     "name": "stderr",
     "output_type": "stream",
     "text": [
      "\r",
      "stem:  56%|█████▌    | 27756/50000 [06:07<05:03, 73.17it/s]"
     ]
    },
    {
     "name": "stderr",
     "output_type": "stream",
     "text": [
      "\r",
      "stem:  55%|█████▌    | 27744/50000 [06:07<04:17, 86.49it/s]"
     ]
    },
    {
     "name": "stderr",
     "output_type": "stream",
     "text": [
      "\r",
      "stem:  55%|█████▌    | 27732/50000 [06:07<04:42, 78.91it/s]"
     ]
    },
    {
     "name": "stderr",
     "output_type": "stream",
     "text": [
      "\r",
      "stem:  55%|█████▌    | 27720/50000 [06:06<04:19, 85.73it/s]"
     ]
    },
    {
     "name": "stderr",
     "output_type": "stream",
     "text": [
      "\r",
      "stem:  55%|█████▌    | 27708/50000 [06:06<04:40, 79.51it/s]"
     ]
    },
    {
     "name": "stderr",
     "output_type": "stream",
     "text": [
      "\r",
      "stem:  55%|█████▌    | 27696/50000 [06:06<04:39, 79.70it/s]"
     ]
    },
    {
     "name": "stderr",
     "output_type": "stream",
     "text": [
      "\r",
      "stem:  55%|█████▌    | 27678/50000 [06:06<05:12, 71.48it/s]"
     ]
    },
    {
     "name": "stderr",
     "output_type": "stream",
     "text": [
      "\r",
      "stem:  55%|█████▌    | 27666/50000 [06:06<05:01, 74.10it/s]"
     ]
    },
    {
     "name": "stderr",
     "output_type": "stream",
     "text": [
      "\r",
      "stem:  55%|█████▌    | 27654/50000 [06:06<05:11, 71.70it/s]"
     ]
    },
    {
     "name": "stderr",
     "output_type": "stream",
     "text": [
      "\r",
      "stem:  55%|█████▌    | 27636/50000 [06:05<04:52, 76.48it/s]"
     ]
    },
    {
     "name": "stderr",
     "output_type": "stream",
     "text": [
      "\r",
      "stem:  55%|█████▌    | 27617/50000 [06:05<04:41, 79.59it/s]"
     ]
    },
    {
     "name": "stderr",
     "output_type": "stream",
     "text": [
      "\r",
      "stem:  55%|█████▌    | 27606/50000 [06:05<04:03, 92.11it/s]"
     ]
    },
    {
     "name": "stderr",
     "output_type": "stream",
     "text": [
      "\r",
      "stem:  55%|█████▌    | 27588/50000 [06:05<04:51, 76.91it/s]"
     ]
    },
    {
     "name": "stderr",
     "output_type": "stream",
     "text": [
      "\r",
      "stem:  55%|█████▌    | 27576/50000 [06:05<04:24, 84.72it/s]"
     ]
    },
    {
     "name": "stderr",
     "output_type": "stream",
     "text": [
      "\r",
      "stem:  55%|█████▌    | 27564/50000 [06:04<04:44, 78.77it/s]"
     ]
    },
    {
     "name": "stderr",
     "output_type": "stream",
     "text": [
      "\r",
      "stem:  55%|█████▌    | 27549/50000 [06:04<04:45, 78.61it/s]"
     ]
    },
    {
     "name": "stderr",
     "output_type": "stream",
     "text": [
      "\r",
      "stem:  55%|█████▌    | 27539/50000 [06:04<04:24, 85.03it/s]"
     ]
    },
    {
     "name": "stderr",
     "output_type": "stream",
     "text": [
      "\r",
      "stem:  55%|█████▌    | 27528/50000 [06:04<04:14, 88.35it/s]"
     ]
    },
    {
     "name": "stderr",
     "output_type": "stream",
     "text": [
      "\r",
      "stem:  55%|█████▌    | 27510/50000 [06:04<05:05, 73.55it/s]"
     ]
    },
    {
     "name": "stderr",
     "output_type": "stream",
     "text": [
      "\r",
      "stem:  55%|█████▍    | 27486/50000 [06:04<05:33, 67.47it/s]"
     ]
    },
    {
     "name": "stderr",
     "output_type": "stream",
     "text": [
      "\r",
      "stem:  55%|█████▍    | 27474/50000 [06:03<04:43, 79.39it/s]"
     ]
    },
    {
     "name": "stderr",
     "output_type": "stream",
     "text": [
      "\r",
      "stem:  55%|█████▍    | 27458/50000 [06:03<05:18, 70.72it/s]"
     ]
    },
    {
     "name": "stderr",
     "output_type": "stream",
     "text": [
      "\r",
      "stem:  55%|█████▍    | 27450/50000 [06:03<05:25, 69.35it/s]"
     ]
    },
    {
     "name": "stderr",
     "output_type": "stream",
     "text": [
      "\r",
      "stem:  55%|█████▍    | 27438/50000 [06:03<05:51, 64.16it/s]"
     ]
    },
    {
     "name": "stderr",
     "output_type": "stream",
     "text": [
      "\r",
      "stem:  55%|█████▍    | 27428/50000 [06:03<06:06, 61.67it/s]"
     ]
    },
    {
     "name": "stderr",
     "output_type": "stream",
     "text": [
      "\r",
      "stem:  55%|█████▍    | 27420/50000 [06:03<06:16, 59.91it/s]"
     ]
    },
    {
     "name": "stderr",
     "output_type": "stream",
     "text": [
      "\r",
      "stem:  55%|█████▍    | 27410/50000 [06:02<04:28, 84.28it/s]"
     ]
    },
    {
     "name": "stderr",
     "output_type": "stream",
     "text": [
      "\r",
      "stem:  55%|█████▍    | 27400/50000 [06:02<04:27, 84.50it/s]"
     ]
    },
    {
     "name": "stderr",
     "output_type": "stream",
     "text": [
      "\r",
      "stem:  55%|█████▍    | 27390/50000 [06:02<04:44, 79.40it/s] "
     ]
    },
    {
     "name": "stderr",
     "output_type": "stream",
     "text": [
      "\r",
      "stem:  55%|█████▍    | 27378/50000 [06:02<03:24, 110.46it/s]"
     ]
    },
    {
     "name": "stderr",
     "output_type": "stream",
     "text": [
      "\r",
      "stem:  55%|█████▍    | 27360/50000 [06:02<03:55, 96.02it/s]"
     ]
    },
    {
     "name": "stderr",
     "output_type": "stream",
     "text": [
      "\r",
      "stem:  55%|█████▍    | 27342/50000 [06:02<03:53, 97.24it/s]"
     ]
    },
    {
     "name": "stderr",
     "output_type": "stream",
     "text": [
      "\r",
      "stem:  55%|█████▍    | 27330/50000 [06:02<04:00, 94.37it/s]"
     ]
    },
    {
     "name": "stderr",
     "output_type": "stream",
     "text": [
      "\r",
      "stem:  55%|█████▍    | 27318/50000 [06:01<03:53, 96.94it/s]"
     ]
    },
    {
     "name": "stderr",
     "output_type": "stream",
     "text": [
      "\r",
      "stem:  55%|█████▍    | 27306/50000 [06:01<04:12, 89.95it/s]"
     ]
    },
    {
     "name": "stderr",
     "output_type": "stream",
     "text": [
      "\r",
      "stem:  55%|█████▍    | 27294/50000 [06:01<04:20, 87.28it/s]"
     ]
    },
    {
     "name": "stderr",
     "output_type": "stream",
     "text": [
      "\r",
      "stem:  55%|█████▍    | 27274/50000 [06:01<04:29, 84.33it/s]"
     ]
    },
    {
     "name": "stderr",
     "output_type": "stream",
     "text": [
      "\r",
      "stem:  55%|█████▍    | 27264/50000 [06:01<04:26, 85.38it/s]"
     ]
    },
    {
     "name": "stderr",
     "output_type": "stream",
     "text": [
      "\r",
      "stem:  54%|█████▍    | 27240/50000 [06:01<05:00, 75.81it/s]"
     ]
    },
    {
     "name": "stderr",
     "output_type": "stream",
     "text": [
      "\r",
      "stem:  54%|█████▍    | 27228/50000 [06:00<04:24, 86.25it/s] "
     ]
    },
    {
     "name": "stderr",
     "output_type": "stream",
     "text": [
      "\r",
      "stem:  54%|█████▍    | 27216/50000 [06:00<03:35, 105.67it/s]"
     ]
    },
    {
     "name": "stderr",
     "output_type": "stream",
     "text": [
      "\r",
      "stem:  54%|█████▍    | 27204/50000 [06:00<03:44, 101.46it/s]"
     ]
    },
    {
     "name": "stderr",
     "output_type": "stream",
     "text": [
      "\r",
      "stem:  54%|█████▍    | 27186/50000 [06:00<04:13, 89.87it/s] "
     ]
    },
    {
     "name": "stderr",
     "output_type": "stream",
     "text": [
      "\r",
      "stem:  54%|█████▍    | 27174/50000 [06:00<03:38, 104.69it/s]"
     ]
    },
    {
     "name": "stderr",
     "output_type": "stream",
     "text": [
      "\r",
      "stem:  54%|█████▍    | 27156/50000 [06:00<04:06, 92.65it/s]"
     ]
    },
    {
     "name": "stderr",
     "output_type": "stream",
     "text": [
      "\r",
      "stem:  54%|█████▍    | 27137/50000 [06:00<04:19, 87.94it/s]"
     ]
    },
    {
     "name": "stderr",
     "output_type": "stream",
     "text": [
      "\r",
      "stem:  54%|█████▍    | 27126/50000 [05:59<04:20, 87.84it/s]"
     ]
    },
    {
     "name": "stderr",
     "output_type": "stream",
     "text": [
      "\r",
      "stem:  54%|█████▍    | 27102/50000 [05:59<05:01, 76.00it/s]"
     ]
    },
    {
     "name": "stderr",
     "output_type": "stream",
     "text": [
      "\r",
      "stem:  54%|█████▍    | 27090/50000 [05:59<04:36, 82.88it/s]"
     ]
    },
    {
     "name": "stderr",
     "output_type": "stream",
     "text": [
      "\r",
      "stem:  54%|█████▍    | 27072/50000 [05:59<04:43, 80.81it/s] "
     ]
    },
    {
     "name": "stderr",
     "output_type": "stream",
     "text": [
      "\r",
      "stem:  54%|█████▍    | 27060/50000 [05:59<03:45, 101.73it/s]"
     ]
    },
    {
     "name": "stderr",
     "output_type": "stream",
     "text": [
      "\r",
      "stem:  54%|█████▍    | 27042/50000 [05:59<04:09, 91.84it/s]"
     ]
    },
    {
     "name": "stderr",
     "output_type": "stream",
     "text": [
      "\r",
      "stem:  54%|█████▍    | 27024/50000 [05:58<04:16, 89.64it/s]"
     ]
    },
    {
     "name": "stderr",
     "output_type": "stream",
     "text": [
      "\r",
      "stem:  54%|█████▍    | 27006/50000 [05:58<05:08, 74.59it/s]"
     ]
    },
    {
     "name": "stderr",
     "output_type": "stream",
     "text": [
      "\r",
      "stem:  54%|█████▍    | 26988/50000 [05:58<05:45, 66.54it/s]"
     ]
    },
    {
     "name": "stderr",
     "output_type": "stream",
     "text": [
      "\r",
      "stem:  54%|█████▍    | 26976/50000 [05:58<06:39, 57.63it/s]"
     ]
    },
    {
     "name": "stderr",
     "output_type": "stream",
     "text": [
      "\r",
      "stem:  54%|█████▍    | 26967/50000 [05:58<07:07, 53.94it/s]"
     ]
    },
    {
     "name": "stderr",
     "output_type": "stream",
     "text": [
      "\r",
      "stem:  54%|█████▍    | 26959/50000 [05:58<05:37, 68.27it/s]"
     ]
    },
    {
     "name": "stderr",
     "output_type": "stream",
     "text": [
      "\r",
      "stem:  54%|█████▍    | 26951/50000 [05:58<05:45, 66.67it/s]"
     ]
    },
    {
     "name": "stderr",
     "output_type": "stream",
     "text": [
      "\r",
      "stem:  54%|█████▍    | 26943/50000 [05:57<05:29, 70.05it/s]"
     ]
    },
    {
     "name": "stderr",
     "output_type": "stream",
     "text": [
      "\r",
      "stem:  54%|█████▍    | 26934/50000 [05:57<05:34, 68.99it/s]"
     ]
    },
    {
     "name": "stderr",
     "output_type": "stream",
     "text": [
      "\r",
      "stem:  54%|█████▍    | 26916/50000 [05:57<06:29, 59.23it/s]"
     ]
    },
    {
     "name": "stderr",
     "output_type": "stream",
     "text": [
      "\r",
      "stem:  54%|█████▍    | 26904/50000 [05:57<06:11, 62.18it/s]"
     ]
    },
    {
     "name": "stderr",
     "output_type": "stream",
     "text": [
      "\r",
      "stem:  54%|█████▍    | 26892/50000 [05:57<05:44, 67.05it/s]"
     ]
    },
    {
     "name": "stderr",
     "output_type": "stream",
     "text": [
      "\r",
      "stem:  54%|█████▍    | 26880/50000 [05:57<06:24, 60.12it/s]"
     ]
    },
    {
     "name": "stderr",
     "output_type": "stream",
     "text": [
      "\r",
      "stem:  54%|█████▎    | 26868/50000 [05:56<07:38, 50.40it/s]"
     ]
    },
    {
     "name": "stderr",
     "output_type": "stream",
     "text": [
      "\r",
      "stem:  54%|█████▎    | 26859/50000 [05:56<08:39, 44.54it/s]"
     ]
    },
    {
     "name": "stderr",
     "output_type": "stream",
     "text": [
      "\r",
      "stem:  54%|█████▎    | 26850/50000 [05:56<08:16, 46.62it/s]"
     ]
    },
    {
     "name": "stderr",
     "output_type": "stream",
     "text": [
      "\r",
      "stem:  54%|█████▎    | 26832/50000 [05:56<10:51, 35.59it/s]"
     ]
    },
    {
     "name": "stderr",
     "output_type": "stream",
     "text": [
      "\r",
      "stem:  54%|█████▎    | 26826/50000 [05:56<07:35, 50.82it/s]"
     ]
    },
    {
     "name": "stderr",
     "output_type": "stream",
     "text": [
      "\r",
      "stem:  54%|█████▎    | 26810/50000 [05:55<08:38, 44.73it/s]"
     ]
    },
    {
     "name": "stderr",
     "output_type": "stream",
     "text": [
      "\r",
      "stem:  54%|█████▎    | 26804/50000 [05:55<08:09, 47.38it/s]"
     ]
    },
    {
     "name": "stderr",
     "output_type": "stream",
     "text": [
      "\r",
      "stem:  54%|█████▎    | 26797/50000 [05:55<07:23, 52.28it/s]"
     ]
    },
    {
     "name": "stderr",
     "output_type": "stream",
     "text": [
      "\r",
      "stem:  54%|█████▎    | 26790/50000 [05:55<07:37, 50.76it/s]"
     ]
    },
    {
     "name": "stderr",
     "output_type": "stream",
     "text": [
      "\r",
      "stem:  54%|█████▎    | 26775/50000 [05:55<06:32, 59.17it/s]"
     ]
    },
    {
     "name": "stderr",
     "output_type": "stream",
     "text": [
      "\r",
      "stem:  54%|█████▎    | 26766/50000 [05:54<05:34, 69.42it/s]"
     ]
    },
    {
     "name": "stderr",
     "output_type": "stream",
     "text": [
      "\r",
      "stem:  54%|█████▎    | 26754/50000 [05:54<06:16, 61.73it/s]"
     ]
    },
    {
     "name": "stderr",
     "output_type": "stream",
     "text": [
      "\r",
      "stem:  53%|█████▎    | 26742/50000 [05:54<07:16, 53.24it/s]"
     ]
    },
    {
     "name": "stderr",
     "output_type": "stream",
     "text": [
      "\r",
      "stem:  53%|█████▎    | 26730/50000 [05:54<07:38, 50.80it/s]"
     ]
    },
    {
     "name": "stderr",
     "output_type": "stream",
     "text": [
      "\r",
      "stem:  53%|█████▎    | 26712/50000 [05:54<08:41, 44.61it/s]"
     ]
    },
    {
     "name": "stderr",
     "output_type": "stream",
     "text": [
      "\r",
      "stem:  53%|█████▎    | 26700/50000 [05:53<04:13, 91.79it/s]"
     ]
    },
    {
     "name": "stderr",
     "output_type": "stream",
     "text": [
      "\r",
      "stem:  53%|█████▎    | 26682/50000 [05:53<04:58, 78.14it/s]"
     ]
    },
    {
     "name": "stderr",
     "output_type": "stream",
     "text": [
      "\r",
      "stem:  53%|█████▎    | 26667/50000 [05:53<04:52, 79.66it/s]"
     ]
    },
    {
     "name": "stderr",
     "output_type": "stream",
     "text": [
      "\r",
      "stem:  53%|█████▎    | 26658/50000 [05:53<05:01, 77.51it/s]"
     ]
    },
    {
     "name": "stderr",
     "output_type": "stream",
     "text": [
      "\r",
      "stem:  53%|█████▎    | 26648/50000 [05:53<05:18, 73.28it/s]"
     ]
    },
    {
     "name": "stderr",
     "output_type": "stream",
     "text": [
      "\r",
      "stem:  53%|█████▎    | 26639/50000 [05:52<05:16, 73.86it/s]"
     ]
    },
    {
     "name": "stderr",
     "output_type": "stream",
     "text": [
      "\r",
      "stem:  53%|█████▎    | 26628/50000 [05:52<04:21, 89.26it/s]"
     ]
    },
    {
     "name": "stderr",
     "output_type": "stream",
     "text": [
      "\r",
      "stem:  53%|█████▎    | 26604/50000 [05:52<05:01, 77.55it/s]"
     ]
    },
    {
     "name": "stderr",
     "output_type": "stream",
     "text": [
      "\r",
      "stem:  53%|█████▎    | 26586/50000 [05:52<05:12, 74.99it/s]"
     ]
    },
    {
     "name": "stderr",
     "output_type": "stream",
     "text": [
      "\r",
      "stem:  53%|█████▎    | 26574/50000 [05:52<04:31, 86.13it/s]"
     ]
    },
    {
     "name": "stderr",
     "output_type": "stream",
     "text": [
      "\r",
      "stem:  53%|█████▎    | 26562/50000 [05:52<04:37, 84.48it/s]"
     ]
    },
    {
     "name": "stderr",
     "output_type": "stream",
     "text": [
      "\r",
      "stem:  53%|█████▎    | 26544/50000 [05:51<05:16, 74.14it/s]"
     ]
    },
    {
     "name": "stderr",
     "output_type": "stream",
     "text": [
      "\r",
      "stem:  53%|█████▎    | 26532/50000 [05:51<04:39, 83.82it/s] "
     ]
    },
    {
     "name": "stderr",
     "output_type": "stream",
     "text": [
      "\r",
      "stem:  53%|█████▎    | 26520/50000 [05:51<03:50, 102.09it/s]"
     ]
    },
    {
     "name": "stderr",
     "output_type": "stream",
     "text": [
      "\r",
      "stem:  53%|█████▎    | 26502/50000 [05:51<04:24, 88.68it/s]"
     ]
    },
    {
     "name": "stderr",
     "output_type": "stream",
     "text": [
      "\r",
      "stem:  53%|█████▎    | 26490/50000 [05:51<04:51, 80.75it/s]"
     ]
    },
    {
     "name": "stderr",
     "output_type": "stream",
     "text": [
      "\r",
      "stem:  53%|█████▎    | 26476/50000 [05:51<04:39, 84.27it/s]"
     ]
    },
    {
     "name": "stderr",
     "output_type": "stream",
     "text": [
      "\r",
      "stem:  53%|█████▎    | 26466/50000 [05:50<04:42, 83.30it/s]"
     ]
    },
    {
     "name": "stderr",
     "output_type": "stream",
     "text": [
      "\r",
      "stem:  53%|█████▎    | 26454/50000 [05:50<04:05, 95.73it/s]"
     ]
    },
    {
     "name": "stderr",
     "output_type": "stream",
     "text": [
      "\r",
      "stem:  53%|█████▎    | 26430/50000 [05:50<04:49, 81.31it/s]"
     ]
    },
    {
     "name": "stderr",
     "output_type": "stream",
     "text": [
      "\r",
      "stem:  53%|█████▎    | 26414/50000 [05:50<05:12, 75.50it/s]"
     ]
    },
    {
     "name": "stderr",
     "output_type": "stream",
     "text": [
      "\r",
      "stem:  53%|█████▎    | 26406/50000 [05:50<05:07, 76.73it/s]"
     ]
    },
    {
     "name": "stderr",
     "output_type": "stream",
     "text": [
      "\r",
      "stem:  53%|█████▎    | 26394/50000 [05:50<05:03, 77.68it/s]"
     ]
    },
    {
     "name": "stderr",
     "output_type": "stream",
     "text": [
      "\r",
      "stem:  53%|█████▎    | 26382/50000 [05:50<05:22, 73.16it/s]"
     ]
    },
    {
     "name": "stderr",
     "output_type": "stream",
     "text": [
      "\r",
      "stem:  53%|█████▎    | 26370/50000 [05:49<04:26, 88.75it/s]"
     ]
    },
    {
     "name": "stderr",
     "output_type": "stream",
     "text": [
      "\r",
      "stem:  53%|█████▎    | 26358/50000 [05:49<04:26, 88.65it/s]"
     ]
    },
    {
     "name": "stderr",
     "output_type": "stream",
     "text": [
      "\r",
      "stem:  53%|█████▎    | 26346/50000 [05:49<04:36, 85.64it/s]"
     ]
    },
    {
     "name": "stderr",
     "output_type": "stream",
     "text": [
      "\r",
      "stem:  53%|█████▎    | 26331/50000 [05:49<04:44, 83.19it/s]"
     ]
    },
    {
     "name": "stderr",
     "output_type": "stream",
     "text": [
      "\r",
      "stem:  53%|█████▎    | 26322/50000 [05:49<04:39, 84.58it/s]"
     ]
    },
    {
     "name": "stderr",
     "output_type": "stream",
     "text": [
      "\r",
      "stem:  53%|█████▎    | 26310/50000 [05:49<04:53, 80.85it/s]"
     ]
    },
    {
     "name": "stderr",
     "output_type": "stream",
     "text": [
      "\r",
      "stem:  53%|█████▎    | 26298/50000 [05:48<04:38, 84.96it/s]"
     ]
    },
    {
     "name": "stderr",
     "output_type": "stream",
     "text": [
      "\r",
      "stem:  53%|█████▎    | 26286/50000 [05:48<04:53, 80.81it/s]"
     ]
    },
    {
     "name": "stderr",
     "output_type": "stream",
     "text": [
      "\r",
      "stem:  53%|█████▎    | 26274/50000 [05:48<05:04, 77.87it/s]"
     ]
    },
    {
     "name": "stderr",
     "output_type": "stream",
     "text": [
      "\r",
      "stem:  53%|█████▎    | 26260/50000 [05:48<05:15, 75.27it/s]"
     ]
    },
    {
     "name": "stderr",
     "output_type": "stream",
     "text": [
      "\r",
      "stem:  52%|█████▎    | 26250/50000 [05:48<04:52, 81.11it/s]"
     ]
    },
    {
     "name": "stderr",
     "output_type": "stream",
     "text": [
      "\r",
      "stem:  52%|█████▏    | 26234/50000 [05:48<05:34, 71.13it/s]"
     ]
    },
    {
     "name": "stderr",
     "output_type": "stream",
     "text": [
      "\r",
      "stem:  52%|█████▏    | 26224/50000 [05:48<04:21, 90.95it/s]"
     ]
    },
    {
     "name": "stderr",
     "output_type": "stream",
     "text": [
      "\r",
      "stem:  52%|█████▏    | 26213/50000 [05:47<04:04, 97.44it/s] "
     ]
    },
    {
     "name": "stderr",
     "output_type": "stream",
     "text": [
      "\r",
      "stem:  52%|█████▏    | 26202/50000 [05:47<03:57, 100.06it/s]"
     ]
    },
    {
     "name": "stderr",
     "output_type": "stream",
     "text": [
      "\r",
      "stem:  52%|█████▏    | 26190/50000 [05:47<03:50, 103.31it/s]"
     ]
    },
    {
     "name": "stderr",
     "output_type": "stream",
     "text": [
      "\r",
      "stem:  52%|█████▏    | 26172/50000 [05:47<03:52, 102.50it/s]"
     ]
    },
    {
     "name": "stderr",
     "output_type": "stream",
     "text": [
      "\r",
      "stem:  52%|█████▏    | 26160/50000 [05:47<03:59, 99.69it/s]"
     ]
    },
    {
     "name": "stderr",
     "output_type": "stream",
     "text": [
      "\r",
      "stem:  52%|█████▏    | 26142/50000 [05:47<04:38, 85.67it/s]"
     ]
    },
    {
     "name": "stderr",
     "output_type": "stream",
     "text": [
      "\r",
      "stem:  52%|█████▏    | 26130/50000 [05:47<04:25, 89.82it/s]"
     ]
    },
    {
     "name": "stderr",
     "output_type": "stream",
     "text": [
      "\r",
      "stem:  52%|█████▏    | 26112/50000 [05:47<05:21, 74.20it/s]"
     ]
    },
    {
     "name": "stderr",
     "output_type": "stream",
     "text": [
      "\r",
      "stem:  52%|█████▏    | 26100/50000 [05:46<05:02, 79.04it/s]"
     ]
    },
    {
     "name": "stderr",
     "output_type": "stream",
     "text": [
      "\r",
      "stem:  52%|█████▏    | 26088/50000 [05:46<05:05, 78.37it/s]"
     ]
    },
    {
     "name": "stderr",
     "output_type": "stream",
     "text": [
      "\r",
      "stem:  52%|█████▏    | 26078/50000 [05:46<04:28, 89.21it/s]"
     ]
    },
    {
     "name": "stderr",
     "output_type": "stream",
     "text": [
      "\r",
      "stem:  52%|█████▏    | 26068/50000 [05:46<04:26, 89.67it/s]"
     ]
    },
    {
     "name": "stderr",
     "output_type": "stream",
     "text": [
      "\r",
      "stem:  52%|█████▏    | 26058/50000 [05:46<04:16, 93.20it/s]"
     ]
    },
    {
     "name": "stderr",
     "output_type": "stream",
     "text": [
      "\r",
      "stem:  52%|█████▏    | 26046/50000 [05:46<04:27, 89.38it/s]"
     ]
    },
    {
     "name": "stderr",
     "output_type": "stream",
     "text": [
      "\r",
      "stem:  52%|█████▏    | 26034/50000 [05:46<04:49, 82.85it/s]"
     ]
    },
    {
     "name": "stderr",
     "output_type": "stream",
     "text": [
      "\r",
      "stem:  52%|█████▏    | 26022/50000 [05:45<04:14, 94.25it/s]"
     ]
    },
    {
     "name": "stderr",
     "output_type": "stream",
     "text": [
      "\r",
      "stem:  52%|█████▏    | 26010/50000 [05:45<04:26, 90.11it/s]"
     ]
    },
    {
     "name": "stderr",
     "output_type": "stream",
     "text": [
      "\r",
      "stem:  52%|█████▏    | 25992/50000 [05:45<05:03, 79.04it/s]"
     ]
    },
    {
     "name": "stderr",
     "output_type": "stream",
     "text": [
      "\r",
      "stem:  52%|█████▏    | 25980/50000 [05:45<05:07, 78.10it/s]"
     ]
    },
    {
     "name": "stderr",
     "output_type": "stream",
     "text": [
      "\r",
      "stem:  52%|█████▏    | 25968/50000 [05:45<05:40, 70.60it/s]"
     ]
    },
    {
     "name": "stderr",
     "output_type": "stream",
     "text": [
      "\r",
      "stem:  52%|█████▏    | 25944/50000 [05:45<06:23, 62.68it/s]"
     ]
    },
    {
     "name": "stderr",
     "output_type": "stream",
     "text": [
      "\r",
      "stem:  52%|█████▏    | 25933/50000 [05:44<06:08, 65.26it/s]"
     ]
    },
    {
     "name": "stderr",
     "output_type": "stream",
     "text": [
      "\r",
      "stem:  52%|█████▏    | 25925/50000 [05:44<05:56, 67.45it/s]"
     ]
    },
    {
     "name": "stderr",
     "output_type": "stream",
     "text": [
      "\r",
      "stem:  52%|█████▏    | 25917/50000 [05:44<05:40, 70.71it/s]"
     ]
    },
    {
     "name": "stderr",
     "output_type": "stream",
     "text": [
      "\r",
      "stem:  52%|█████▏    | 25908/50000 [05:44<05:30, 72.82it/s]"
     ]
    },
    {
     "name": "stderr",
     "output_type": "stream",
     "text": [
      "\r",
      "stem:  52%|█████▏    | 25884/50000 [05:44<06:25, 62.57it/s]"
     ]
    },
    {
     "name": "stderr",
     "output_type": "stream",
     "text": [
      "\r",
      "stem:  52%|█████▏    | 25866/50000 [05:43<05:47, 69.41it/s]"
     ]
    },
    {
     "name": "stderr",
     "output_type": "stream",
     "text": [
      "\r",
      "stem:  52%|█████▏    | 25857/50000 [05:43<05:32, 72.69it/s]"
     ]
    },
    {
     "name": "stderr",
     "output_type": "stream",
     "text": [
      "\r",
      "stem:  52%|█████▏    | 25848/50000 [05:43<05:21, 75.21it/s]"
     ]
    },
    {
     "name": "stderr",
     "output_type": "stream",
     "text": [
      "\r",
      "stem:  52%|█████▏    | 25830/50000 [05:43<05:59, 67.19it/s]"
     ]
    },
    {
     "name": "stderr",
     "output_type": "stream",
     "text": [
      "\r",
      "stem:  52%|█████▏    | 25815/50000 [05:43<04:59, 80.82it/s]"
     ]
    },
    {
     "name": "stderr",
     "output_type": "stream",
     "text": [
      "\r",
      "stem:  52%|█████▏    | 25806/50000 [05:43<05:10, 77.82it/s]"
     ]
    },
    {
     "name": "stderr",
     "output_type": "stream",
     "text": [
      "\r",
      "stem:  52%|█████▏    | 25790/50000 [05:42<05:56, 67.99it/s]"
     ]
    },
    {
     "name": "stderr",
     "output_type": "stream",
     "text": [
      "\r",
      "stem:  52%|█████▏    | 25782/50000 [05:42<05:55, 68.13it/s]"
     ]
    },
    {
     "name": "stderr",
     "output_type": "stream",
     "text": [
      "\r",
      "stem:  52%|█████▏    | 25773/50000 [05:42<04:56, 81.58it/s]"
     ]
    },
    {
     "name": "stderr",
     "output_type": "stream",
     "text": [
      "\r",
      "stem:  52%|█████▏    | 25764/50000 [05:42<04:58, 81.08it/s]"
     ]
    },
    {
     "name": "stderr",
     "output_type": "stream",
     "text": [
      "\r",
      "stem:  51%|█████▏    | 25746/50000 [05:42<05:39, 71.48it/s]"
     ]
    },
    {
     "name": "stderr",
     "output_type": "stream",
     "text": [
      "\r",
      "stem:  51%|█████▏    | 25734/50000 [05:42<05:26, 74.40it/s]"
     ]
    },
    {
     "name": "stderr",
     "output_type": "stream",
     "text": [
      "\r",
      "stem:  51%|█████▏    | 25722/50000 [05:42<05:15, 76.94it/s]"
     ]
    },
    {
     "name": "stderr",
     "output_type": "stream",
     "text": [
      "\r",
      "stem:  51%|█████▏    | 25710/50000 [05:41<04:31, 89.55it/s]"
     ]
    },
    {
     "name": "stderr",
     "output_type": "stream",
     "text": [
      "\r",
      "stem:  51%|█████▏    | 25698/50000 [05:41<04:19, 93.77it/s]"
     ]
    },
    {
     "name": "stderr",
     "output_type": "stream",
     "text": [
      "\r",
      "stem:  51%|█████▏    | 25680/50000 [05:41<04:51, 83.53it/s] "
     ]
    },
    {
     "name": "stderr",
     "output_type": "stream",
     "text": [
      "\r",
      "stem:  51%|█████▏    | 25668/50000 [05:41<03:49, 105.82it/s]"
     ]
    },
    {
     "name": "stderr",
     "output_type": "stream",
     "text": [
      "\r",
      "stem:  51%|█████▏    | 25656/50000 [05:41<03:59, 101.56it/s]"
     ]
    },
    {
     "name": "stderr",
     "output_type": "stream",
     "text": [
      "\r",
      "stem:  51%|█████▏    | 25632/50000 [05:41<04:37, 87.95it/s]"
     ]
    },
    {
     "name": "stderr",
     "output_type": "stream",
     "text": [
      "\r",
      "stem:  51%|█████     | 25620/50000 [05:40<04:24, 92.15it/s]"
     ]
    },
    {
     "name": "stderr",
     "output_type": "stream",
     "text": [
      "\r",
      "stem:  51%|█████     | 25602/50000 [05:40<05:03, 80.28it/s]"
     ]
    },
    {
     "name": "stderr",
     "output_type": "stream",
     "text": [
      "\r",
      "stem:  51%|█████     | 25578/50000 [05:40<05:49, 69.97it/s]"
     ]
    },
    {
     "name": "stderr",
     "output_type": "stream",
     "text": [
      "\r",
      "stem:  51%|█████     | 25566/50000 [05:40<05:13, 77.93it/s]"
     ]
    },
    {
     "name": "stderr",
     "output_type": "stream",
     "text": [
      "\r",
      "stem:  51%|█████     | 25554/50000 [05:40<04:46, 85.47it/s]"
     ]
    },
    {
     "name": "stderr",
     "output_type": "stream",
     "text": [
      "\r",
      "stem:  51%|█████     | 25542/50000 [05:40<04:54, 83.11it/s]"
     ]
    },
    {
     "name": "stderr",
     "output_type": "stream",
     "text": [
      "\r",
      "stem:  51%|█████     | 25530/50000 [05:39<04:41, 87.03it/s]"
     ]
    },
    {
     "name": "stderr",
     "output_type": "stream",
     "text": [
      "\r",
      "stem:  51%|█████     | 25512/50000 [05:39<05:04, 80.55it/s]"
     ]
    },
    {
     "name": "stderr",
     "output_type": "stream",
     "text": [
      "\r",
      "stem:  51%|█████     | 25500/50000 [05:39<05:18, 76.96it/s]"
     ]
    },
    {
     "name": "stderr",
     "output_type": "stream",
     "text": [
      "\r",
      "stem:  51%|█████     | 25491/50000 [05:39<05:11, 78.55it/s]"
     ]
    },
    {
     "name": "stderr",
     "output_type": "stream",
     "text": [
      "\r",
      "stem:  51%|█████     | 25481/50000 [05:39<04:55, 82.93it/s]"
     ]
    },
    {
     "name": "stderr",
     "output_type": "stream",
     "text": [
      "\r",
      "stem:  51%|█████     | 25470/50000 [05:39<04:13, 96.82it/s]"
     ]
    },
    {
     "name": "stderr",
     "output_type": "stream",
     "text": [
      "\r",
      "stem:  51%|█████     | 25452/50000 [05:39<04:38, 88.16it/s]"
     ]
    },
    {
     "name": "stderr",
     "output_type": "stream",
     "text": [
      "\r",
      "stem:  51%|█████     | 25440/50000 [05:38<04:43, 86.77it/s]"
     ]
    },
    {
     "name": "stderr",
     "output_type": "stream",
     "text": [
      "\r",
      "stem:  51%|█████     | 25416/50000 [05:38<05:13, 78.39it/s]"
     ]
    },
    {
     "name": "stderr",
     "output_type": "stream",
     "text": [
      "\r",
      "stem:  51%|█████     | 25404/50000 [05:38<05:43, 71.63it/s]"
     ]
    },
    {
     "name": "stderr",
     "output_type": "stream",
     "text": [
      "\r",
      "stem:  51%|█████     | 25392/50000 [05:38<05:08, 79.86it/s]"
     ]
    },
    {
     "name": "stderr",
     "output_type": "stream",
     "text": [
      "\r",
      "stem:  51%|█████     | 25381/50000 [05:38<05:10, 79.20it/s]"
     ]
    },
    {
     "name": "stderr",
     "output_type": "stream",
     "text": [
      "\r",
      "stem:  51%|█████     | 25372/50000 [05:38<05:16, 77.89it/s]"
     ]
    },
    {
     "name": "stderr",
     "output_type": "stream",
     "text": [
      "\r",
      "stem:  51%|█████     | 25362/50000 [05:38<05:03, 81.19it/s]"
     ]
    },
    {
     "name": "stderr",
     "output_type": "stream",
     "text": [
      "\r",
      "stem:  51%|█████     | 25346/50000 [05:37<05:48, 70.65it/s]"
     ]
    },
    {
     "name": "stderr",
     "output_type": "stream",
     "text": [
      "\r",
      "stem:  51%|█████     | 25338/50000 [05:37<05:37, 72.97it/s]"
     ]
    },
    {
     "name": "stderr",
     "output_type": "stream",
     "text": [
      "\r",
      "stem:  51%|█████     | 25326/50000 [05:37<06:10, 66.67it/s]"
     ]
    },
    {
     "name": "stderr",
     "output_type": "stream",
     "text": [
      "\r",
      "stem:  51%|█████     | 25314/50000 [05:37<06:37, 62.13it/s]"
     ]
    },
    {
     "name": "stderr",
     "output_type": "stream",
     "text": [
      "\r",
      "stem:  51%|█████     | 25305/50000 [05:37<07:05, 58.10it/s]"
     ]
    },
    {
     "name": "stderr",
     "output_type": "stream",
     "text": [
      "\r",
      "stem:  51%|█████     | 25296/50000 [05:37<05:18, 77.61it/s]"
     ]
    },
    {
     "name": "stderr",
     "output_type": "stream",
     "text": [
      "\r",
      "stem:  51%|█████     | 25284/50000 [05:36<05:26, 75.68it/s]"
     ]
    },
    {
     "name": "stderr",
     "output_type": "stream",
     "text": [
      "\r",
      "stem:  51%|█████     | 25275/50000 [05:36<05:16, 78.05it/s]"
     ]
    },
    {
     "name": "stderr",
     "output_type": "stream",
     "text": [
      "\r",
      "stem:  51%|█████     | 25265/50000 [05:36<04:54, 84.13it/s]"
     ]
    },
    {
     "name": "stderr",
     "output_type": "stream",
     "text": [
      "\r",
      "stem:  51%|█████     | 25254/50000 [05:36<04:33, 90.45it/s]"
     ]
    },
    {
     "name": "stderr",
     "output_type": "stream",
     "text": [
      "\r",
      "stem:  50%|█████     | 25236/50000 [05:36<05:26, 75.92it/s]"
     ]
    },
    {
     "name": "stderr",
     "output_type": "stream",
     "text": [
      "\r",
      "stem:  50%|█████     | 25224/50000 [05:36<05:34, 74.02it/s]"
     ]
    },
    {
     "name": "stderr",
     "output_type": "stream",
     "text": [
      "\r",
      "stem:  50%|█████     | 25212/50000 [05:36<05:53, 70.07it/s]"
     ]
    },
    {
     "name": "stderr",
     "output_type": "stream",
     "text": [
      "\r",
      "stem:  50%|█████     | 25194/50000 [05:35<06:14, 66.21it/s]"
     ]
    },
    {
     "name": "stderr",
     "output_type": "stream",
     "text": [
      "\r",
      "stem:  50%|█████     | 25182/50000 [05:35<05:35, 74.03it/s]"
     ]
    },
    {
     "name": "stderr",
     "output_type": "stream",
     "text": [
      "\r",
      "stem:  50%|█████     | 25170/50000 [05:35<05:33, 74.54it/s]"
     ]
    },
    {
     "name": "stderr",
     "output_type": "stream",
     "text": [
      "\r",
      "stem:  50%|█████     | 25154/50000 [05:35<06:03, 68.37it/s]"
     ]
    },
    {
     "name": "stderr",
     "output_type": "stream",
     "text": [
      "\r",
      "stem:  50%|█████     | 25146/50000 [05:35<05:47, 71.54it/s]"
     ]
    },
    {
     "name": "stderr",
     "output_type": "stream",
     "text": [
      "\r",
      "stem:  50%|█████     | 25135/50000 [05:35<05:47, 71.49it/s]"
     ]
    },
    {
     "name": "stderr",
     "output_type": "stream",
     "text": [
      "\r",
      "stem:  50%|█████     | 25126/50000 [05:34<05:41, 72.88it/s]"
     ]
    },
    {
     "name": "stderr",
     "output_type": "stream",
     "text": [
      "\r",
      "stem:  50%|█████     | 25116/50000 [05:34<06:00, 68.99it/s]"
     ]
    },
    {
     "name": "stderr",
     "output_type": "stream",
     "text": [
      "\r",
      "stem:  50%|█████     | 25098/50000 [05:34<07:31, 55.21it/s]"
     ]
    },
    {
     "name": "stderr",
     "output_type": "stream",
     "text": [
      "\r",
      "stem:  50%|█████     | 25082/50000 [05:34<08:01, 51.71it/s]"
     ]
    },
    {
     "name": "stderr",
     "output_type": "stream",
     "text": [
      "\r",
      "stem:  50%|█████     | 25074/50000 [05:34<06:06, 68.09it/s]"
     ]
    },
    {
     "name": "stderr",
     "output_type": "stream",
     "text": [
      "\r",
      "stem:  50%|█████     | 25056/50000 [05:33<06:13, 66.81it/s]"
     ]
    },
    {
     "name": "stderr",
     "output_type": "stream",
     "text": [
      "\r",
      "stem:  50%|█████     | 25045/50000 [05:33<05:29, 75.76it/s]"
     ]
    },
    {
     "name": "stderr",
     "output_type": "stream",
     "text": [
      "\r",
      "stem:  50%|█████     | 25036/50000 [05:33<05:21, 77.71it/s]"
     ]
    },
    {
     "name": "stderr",
     "output_type": "stream",
     "text": [
      "\r",
      "stem:  50%|█████     | 25026/50000 [05:33<04:49, 86.29it/s]"
     ]
    },
    {
     "name": "stderr",
     "output_type": "stream",
     "text": [
      "\r",
      "stem:  50%|█████     | 25008/50000 [05:33<05:17, 78.80it/s]"
     ]
    },
    {
     "name": "stderr",
     "output_type": "stream",
     "text": [
      "\r",
      "stem:  50%|████▉     | 24999/50000 [05:33<05:29, 75.85it/s]"
     ]
    },
    {
     "name": "stderr",
     "output_type": "stream",
     "text": [
      "\r",
      "stem:  50%|████▉     | 24990/50000 [05:33<05:07, 81.41it/s]"
     ]
    },
    {
     "name": "stderr",
     "output_type": "stream",
     "text": [
      "\r",
      "stem:  50%|████▉     | 24975/50000 [05:32<05:14, 79.59it/s]"
     ]
    },
    {
     "name": "stderr",
     "output_type": "stream",
     "text": [
      "\r",
      "stem:  50%|████▉     | 24966/50000 [05:32<05:21, 77.87it/s]"
     ]
    },
    {
     "name": "stderr",
     "output_type": "stream",
     "text": [
      "\r",
      "stem:  50%|████▉     | 24952/50000 [05:32<04:41, 89.04it/s]"
     ]
    },
    {
     "name": "stderr",
     "output_type": "stream",
     "text": [
      "\r",
      "stem:  50%|████▉     | 24942/50000 [05:32<04:52, 85.74it/s]"
     ]
    },
    {
     "name": "stderr",
     "output_type": "stream",
     "text": [
      "\r",
      "stem:  50%|████▉     | 24924/50000 [05:32<05:29, 76.08it/s]"
     ]
    },
    {
     "name": "stderr",
     "output_type": "stream",
     "text": [
      "\r",
      "stem:  50%|████▉     | 24911/50000 [05:32<04:49, 86.58it/s]"
     ]
    },
    {
     "name": "stderr",
     "output_type": "stream",
     "text": [
      "\r",
      "stem:  50%|████▉     | 24900/50000 [05:31<04:11, 99.69it/s]"
     ]
    },
    {
     "name": "stderr",
     "output_type": "stream",
     "text": [
      "\r",
      "stem:  50%|████▉     | 24888/50000 [05:31<04:24, 95.11it/s]"
     ]
    },
    {
     "name": "stderr",
     "output_type": "stream",
     "text": [
      "\r",
      "stem:  50%|████▉     | 24876/50000 [05:31<04:33, 91.75it/s]"
     ]
    },
    {
     "name": "stderr",
     "output_type": "stream",
     "text": [
      "\r",
      "stem:  50%|████▉     | 24858/50000 [05:31<05:26, 77.10it/s]"
     ]
    },
    {
     "name": "stderr",
     "output_type": "stream",
     "text": [
      "\r",
      "stem:  50%|████▉     | 24846/50000 [05:31<04:42, 88.96it/s]"
     ]
    },
    {
     "name": "stderr",
     "output_type": "stream",
     "text": [
      "\r",
      "stem:  50%|████▉     | 24828/50000 [05:31<04:59, 83.92it/s]"
     ]
    },
    {
     "name": "stderr",
     "output_type": "stream",
     "text": [
      "\r",
      "stem:  50%|████▉     | 24804/50000 [05:31<05:38, 74.34it/s]"
     ]
    },
    {
     "name": "stderr",
     "output_type": "stream",
     "text": [
      "\r",
      "stem:  50%|████▉     | 24786/50000 [05:30<06:20, 66.18it/s]"
     ]
    },
    {
     "name": "stderr",
     "output_type": "stream",
     "text": [
      "\r",
      "stem:  50%|████▉     | 24774/50000 [05:30<05:01, 83.72it/s]"
     ]
    },
    {
     "name": "stderr",
     "output_type": "stream",
     "text": [
      "\r",
      "stem:  50%|████▉     | 24762/50000 [05:30<05:15, 79.94it/s] "
     ]
    },
    {
     "name": "stderr",
     "output_type": "stream",
     "text": [
      "\r",
      "stem:  50%|████▉     | 24750/50000 [05:30<04:09, 101.10it/s]"
     ]
    },
    {
     "name": "stderr",
     "output_type": "stream",
     "text": [
      "\r",
      "stem:  49%|████▉     | 24738/50000 [05:30<04:14, 99.40it/s]"
     ]
    },
    {
     "name": "stderr",
     "output_type": "stream",
     "text": [
      "\r",
      "stem:  49%|████▉     | 24720/50000 [05:29<04:38, 90.88it/s]"
     ]
    },
    {
     "name": "stderr",
     "output_type": "stream",
     "text": [
      "\r",
      "stem:  49%|████▉     | 24708/50000 [05:29<04:29, 93.83it/s]"
     ]
    },
    {
     "name": "stderr",
     "output_type": "stream",
     "text": [
      "\r",
      "stem:  49%|████▉     | 24696/50000 [05:29<04:29, 93.85it/s]"
     ]
    },
    {
     "name": "stderr",
     "output_type": "stream",
     "text": [
      "\r",
      "stem:  49%|████▉     | 24678/50000 [05:29<04:45, 88.71it/s]"
     ]
    },
    {
     "name": "stderr",
     "output_type": "stream",
     "text": [
      "\r",
      "stem:  49%|████▉     | 24666/50000 [05:29<04:57, 85.19it/s]"
     ]
    },
    {
     "name": "stderr",
     "output_type": "stream",
     "text": [
      "\r",
      "stem:  49%|████▉     | 24653/50000 [05:29<05:00, 84.37it/s]"
     ]
    },
    {
     "name": "stderr",
     "output_type": "stream",
     "text": [
      "\r",
      "stem:  49%|████▉     | 24642/50000 [05:29<04:35, 91.88it/s]"
     ]
    },
    {
     "name": "stderr",
     "output_type": "stream",
     "text": [
      "\r",
      "stem:  49%|████▉     | 24624/50000 [05:28<05:22, 78.75it/s]"
     ]
    },
    {
     "name": "stderr",
     "output_type": "stream",
     "text": [
      "\r",
      "stem:  49%|████▉     | 24612/50000 [05:28<05:00, 84.36it/s]"
     ]
    },
    {
     "name": "stderr",
     "output_type": "stream",
     "text": [
      "\r",
      "stem:  49%|████▉     | 24600/50000 [05:28<05:35, 75.73it/s]"
     ]
    },
    {
     "name": "stderr",
     "output_type": "stream",
     "text": [
      "\r",
      "stem:  49%|████▉     | 24588/50000 [05:28<05:54, 71.72it/s]"
     ]
    },
    {
     "name": "stderr",
     "output_type": "stream",
     "text": [
      "\r",
      "stem:  49%|████▉     | 24570/50000 [05:28<05:49, 72.76it/s]"
     ]
    },
    {
     "name": "stderr",
     "output_type": "stream",
     "text": [
      "\r",
      "stem:  49%|████▉     | 24552/50000 [05:28<06:45, 62.75it/s] "
     ]
    },
    {
     "name": "stderr",
     "output_type": "stream",
     "text": [
      "\r",
      "stem:  49%|████▉     | 24540/50000 [05:27<04:12, 100.97it/s]"
     ]
    },
    {
     "name": "stderr",
     "output_type": "stream",
     "text": [
      "\r",
      "stem:  49%|████▉     | 24522/50000 [05:27<04:57, 85.53it/s]"
     ]
    },
    {
     "name": "stderr",
     "output_type": "stream",
     "text": [
      "\r",
      "stem:  49%|████▉     | 24510/50000 [05:27<04:38, 91.62it/s]"
     ]
    },
    {
     "name": "stderr",
     "output_type": "stream",
     "text": [
      "\r",
      "stem:  49%|████▉     | 24486/50000 [05:27<04:58, 85.56it/s]"
     ]
    },
    {
     "name": "stderr",
     "output_type": "stream",
     "text": [
      "\r",
      "stem:  49%|████▉     | 24474/50000 [05:27<05:06, 83.24it/s]"
     ]
    },
    {
     "name": "stderr",
     "output_type": "stream",
     "text": [
      "\r",
      "stem:  49%|████▉     | 24456/50000 [05:26<05:20, 79.66it/s]"
     ]
    },
    {
     "name": "stderr",
     "output_type": "stream",
     "text": [
      "\r",
      "stem:  49%|████▉     | 24444/50000 [05:26<05:53, 72.38it/s]"
     ]
    },
    {
     "name": "stderr",
     "output_type": "stream",
     "text": [
      "\r",
      "stem:  49%|████▉     | 24420/50000 [05:26<07:04, 60.24it/s]"
     ]
    },
    {
     "name": "stderr",
     "output_type": "stream",
     "text": [
      "\r",
      "stem:  49%|████▉     | 24408/50000 [05:26<05:56, 71.81it/s]"
     ]
    },
    {
     "name": "stderr",
     "output_type": "stream",
     "text": [
      "\r",
      "stem:  49%|████▉     | 24396/50000 [05:26<06:15, 68.19it/s]"
     ]
    },
    {
     "name": "stderr",
     "output_type": "stream",
     "text": [
      "\r",
      "stem:  49%|████▉     | 24386/50000 [05:26<05:22, 79.41it/s]"
     ]
    },
    {
     "name": "stderr",
     "output_type": "stream",
     "text": [
      "\r",
      "stem:  49%|████▉     | 24376/50000 [05:25<04:53, 87.35it/s]"
     ]
    },
    {
     "name": "stderr",
     "output_type": "stream",
     "text": [
      "\r",
      "stem:  49%|████▊     | 24366/50000 [05:25<04:59, 85.53it/s]"
     ]
    },
    {
     "name": "stderr",
     "output_type": "stream",
     "text": [
      "\r",
      "stem:  49%|████▊     | 24354/50000 [05:25<05:18, 80.41it/s]"
     ]
    },
    {
     "name": "stderr",
     "output_type": "stream",
     "text": [
      "\r",
      "stem:  49%|████▊     | 24336/50000 [05:25<05:50, 73.16it/s]"
     ]
    },
    {
     "name": "stderr",
     "output_type": "stream",
     "text": [
      "\r",
      "stem:  49%|████▊     | 24316/50000 [05:25<05:54, 72.46it/s]"
     ]
    },
    {
     "name": "stderr",
     "output_type": "stream",
     "text": [
      "\r",
      "stem:  49%|████▊     | 24306/50000 [05:25<04:35, 93.34it/s]"
     ]
    },
    {
     "name": "stderr",
     "output_type": "stream",
     "text": [
      "\r",
      "stem:  49%|████▊     | 24288/50000 [05:24<04:58, 86.18it/s]"
     ]
    },
    {
     "name": "stderr",
     "output_type": "stream",
     "text": [
      "\r",
      "stem:  49%|████▊     | 24264/50000 [05:24<05:31, 77.73it/s]"
     ]
    },
    {
     "name": "stderr",
     "output_type": "stream",
     "text": [
      "\r",
      "stem:  48%|████▊     | 24246/50000 [05:24<05:21, 80.02it/s]"
     ]
    },
    {
     "name": "stderr",
     "output_type": "stream",
     "text": [
      "\r",
      "stem:  48%|████▊     | 24228/50000 [05:24<05:44, 74.83it/s]"
     ]
    },
    {
     "name": "stderr",
     "output_type": "stream",
     "text": [
      "\r",
      "stem:  48%|████▊     | 24210/50000 [05:24<05:46, 74.42it/s]"
     ]
    },
    {
     "name": "stderr",
     "output_type": "stream",
     "text": [
      "\r",
      "stem:  48%|████▊     | 24198/50000 [05:23<05:28, 78.47it/s]"
     ]
    },
    {
     "name": "stderr",
     "output_type": "stream",
     "text": [
      "\r",
      "stem:  48%|████▊     | 24174/50000 [05:23<06:28, 66.48it/s]"
     ]
    },
    {
     "name": "stderr",
     "output_type": "stream",
     "text": [
      "\r",
      "stem:  48%|████▊     | 24162/50000 [05:23<07:09, 60.14it/s]"
     ]
    },
    {
     "name": "stderr",
     "output_type": "stream",
     "text": [
      "\r",
      "stem:  48%|████▊     | 24144/50000 [05:23<06:56, 62.14it/s]"
     ]
    },
    {
     "name": "stderr",
     "output_type": "stream",
     "text": [
      "\r",
      "stem:  48%|████▊     | 24132/50000 [05:22<06:38, 64.95it/s]"
     ]
    },
    {
     "name": "stderr",
     "output_type": "stream",
     "text": [
      "\r",
      "stem:  48%|████▊     | 24120/50000 [05:22<06:45, 63.76it/s]"
     ]
    },
    {
     "name": "stderr",
     "output_type": "stream",
     "text": [
      "\r",
      "stem:  48%|████▊     | 24111/50000 [05:22<05:51, 73.56it/s]"
     ]
    },
    {
     "name": "stderr",
     "output_type": "stream",
     "text": [
      "\r",
      "stem:  48%|████▊     | 24102/50000 [05:22<05:56, 72.62it/s]"
     ]
    },
    {
     "name": "stderr",
     "output_type": "stream",
     "text": [
      "\r",
      "stem:  48%|████▊     | 24090/50000 [05:22<06:41, 64.47it/s]"
     ]
    },
    {
     "name": "stderr",
     "output_type": "stream",
     "text": [
      "\r",
      "stem:  48%|████▊     | 24082/50000 [05:22<06:16, 68.75it/s]"
     ]
    },
    {
     "name": "stderr",
     "output_type": "stream",
     "text": [
      "\r",
      "stem:  48%|████▊     | 24072/50000 [05:22<04:55, 87.63it/s]"
     ]
    },
    {
     "name": "stderr",
     "output_type": "stream",
     "text": [
      "\r",
      "stem:  48%|████▊     | 24060/50000 [05:21<05:20, 80.82it/s]"
     ]
    },
    {
     "name": "stderr",
     "output_type": "stream",
     "text": [
      "\r",
      "stem:  48%|████▊     | 24042/50000 [05:21<05:27, 79.29it/s]"
     ]
    },
    {
     "name": "stderr",
     "output_type": "stream",
     "text": [
      "\r",
      "stem:  48%|████▊     | 24030/50000 [05:21<04:36, 94.04it/s]"
     ]
    },
    {
     "name": "stderr",
     "output_type": "stream",
     "text": [
      "\r",
      "stem:  48%|████▊     | 24012/50000 [05:21<05:03, 85.49it/s]"
     ]
    },
    {
     "name": "stderr",
     "output_type": "stream",
     "text": [
      "\r",
      "stem:  48%|████▊     | 23994/50000 [05:21<05:20, 81.22it/s]"
     ]
    },
    {
     "name": "stderr",
     "output_type": "stream",
     "text": [
      "\r",
      "stem:  48%|████▊     | 23982/50000 [05:20<04:34, 94.95it/s]"
     ]
    },
    {
     "name": "stderr",
     "output_type": "stream",
     "text": [
      "\r",
      "stem:  48%|████▊     | 23970/50000 [05:20<04:48, 90.30it/s]"
     ]
    },
    {
     "name": "stderr",
     "output_type": "stream",
     "text": [
      "\r",
      "stem:  48%|████▊     | 23958/50000 [05:20<05:14, 82.74it/s]"
     ]
    },
    {
     "name": "stderr",
     "output_type": "stream",
     "text": [
      "\r",
      "stem:  48%|████▊     | 23946/50000 [05:20<05:12, 83.36it/s]"
     ]
    },
    {
     "name": "stderr",
     "output_type": "stream",
     "text": [
      "\r",
      "stem:  48%|████▊     | 23934/50000 [05:20<05:35, 77.58it/s]"
     ]
    },
    {
     "name": "stderr",
     "output_type": "stream",
     "text": [
      "\r",
      "stem:  48%|████▊     | 23918/50000 [05:20<05:39, 76.82it/s]"
     ]
    },
    {
     "name": "stderr",
     "output_type": "stream",
     "text": [
      "\r",
      "stem:  48%|████▊     | 23908/50000 [05:20<05:37, 77.36it/s]"
     ]
    },
    {
     "name": "stderr",
     "output_type": "stream",
     "text": [
      "\r",
      "stem:  48%|████▊     | 23898/50000 [05:20<05:51, 74.21it/s]"
     ]
    },
    {
     "name": "stderr",
     "output_type": "stream",
     "text": [
      "\r",
      "stem:  48%|████▊     | 23880/50000 [05:19<07:10, 60.66it/s]"
     ]
    },
    {
     "name": "stderr",
     "output_type": "stream",
     "text": [
      "\r",
      "stem:  48%|████▊     | 23868/50000 [05:19<07:50, 55.55it/s]"
     ]
    },
    {
     "name": "stderr",
     "output_type": "stream",
     "text": [
      "\r",
      "stem:  48%|████▊     | 23859/50000 [05:19<06:54, 63.04it/s]"
     ]
    },
    {
     "name": "stderr",
     "output_type": "stream",
     "text": [
      "\r",
      "stem:  48%|████▊     | 23850/50000 [05:19<05:12, 83.55it/s]"
     ]
    },
    {
     "name": "stderr",
     "output_type": "stream",
     "text": [
      "\r",
      "stem:  48%|████▊     | 23832/50000 [05:19<05:43, 76.28it/s]"
     ]
    },
    {
     "name": "stderr",
     "output_type": "stream",
     "text": [
      "\r",
      "stem:  48%|████▊     | 23820/50000 [05:18<04:58, 87.79it/s]"
     ]
    },
    {
     "name": "stderr",
     "output_type": "stream",
     "text": [
      "\r",
      "stem:  48%|████▊     | 23808/50000 [05:18<05:04, 85.93it/s]"
     ]
    },
    {
     "name": "stderr",
     "output_type": "stream",
     "text": [
      "\r",
      "stem:  48%|████▊     | 23796/50000 [05:18<05:05, 85.67it/s]"
     ]
    },
    {
     "name": "stderr",
     "output_type": "stream",
     "text": [
      "\r",
      "stem:  48%|████▊     | 23784/50000 [05:18<05:23, 81.14it/s]"
     ]
    },
    {
     "name": "stderr",
     "output_type": "stream",
     "text": [
      "\r",
      "stem:  48%|████▊     | 23772/50000 [05:18<05:29, 79.49it/s]"
     ]
    },
    {
     "name": "stderr",
     "output_type": "stream",
     "text": [
      "\r",
      "stem:  48%|████▊     | 23754/50000 [05:18<05:44, 76.15it/s]"
     ]
    },
    {
     "name": "stderr",
     "output_type": "stream",
     "text": [
      "\r",
      "stem:  47%|████▋     | 23742/50000 [05:18<05:07, 85.52it/s]"
     ]
    },
    {
     "name": "stderr",
     "output_type": "stream",
     "text": [
      "\r",
      "stem:  47%|████▋     | 23730/50000 [05:17<05:30, 79.37it/s]"
     ]
    },
    {
     "name": "stderr",
     "output_type": "stream",
     "text": [
      "\r",
      "stem:  47%|████▋     | 23717/50000 [05:17<05:12, 84.18it/s]"
     ]
    },
    {
     "name": "stderr",
     "output_type": "stream",
     "text": [
      "\r",
      "stem:  47%|████▋     | 23706/50000 [05:17<04:56, 88.67it/s]"
     ]
    },
    {
     "name": "stderr",
     "output_type": "stream",
     "text": [
      "\r",
      "stem:  47%|████▋     | 23688/50000 [05:17<05:55, 74.09it/s]"
     ]
    },
    {
     "name": "stderr",
     "output_type": "stream",
     "text": [
      "\r",
      "stem:  47%|████▋     | 23676/50000 [05:17<05:04, 86.42it/s]"
     ]
    },
    {
     "name": "stderr",
     "output_type": "stream",
     "text": [
      "\r",
      "stem:  47%|████▋     | 23664/50000 [05:17<04:53, 89.78it/s]"
     ]
    },
    {
     "name": "stderr",
     "output_type": "stream",
     "text": [
      "\r",
      "stem:  47%|████▋     | 23646/50000 [05:16<05:08, 85.38it/s]"
     ]
    },
    {
     "name": "stderr",
     "output_type": "stream",
     "text": [
      "\r",
      "stem:  47%|████▋     | 23628/50000 [05:16<06:12, 70.71it/s]"
     ]
    },
    {
     "name": "stderr",
     "output_type": "stream",
     "text": [
      "\r",
      "stem:  47%|████▋     | 23616/50000 [05:16<04:41, 93.66it/s]"
     ]
    },
    {
     "name": "stderr",
     "output_type": "stream",
     "text": [
      "\r",
      "stem:  47%|████▋     | 23604/50000 [05:16<04:50, 90.86it/s]"
     ]
    },
    {
     "name": "stderr",
     "output_type": "stream",
     "text": [
      "\r",
      "stem:  47%|████▋     | 23592/50000 [05:16<05:13, 84.16it/s]"
     ]
    },
    {
     "name": "stderr",
     "output_type": "stream",
     "text": [
      "\r",
      "stem:  47%|████▋     | 23568/50000 [05:16<05:53, 74.71it/s]"
     ]
    },
    {
     "name": "stderr",
     "output_type": "stream",
     "text": [
      "\r",
      "stem:  47%|████▋     | 23550/50000 [05:15<05:05, 86.68it/s]"
     ]
    },
    {
     "name": "stderr",
     "output_type": "stream",
     "text": [
      "\r",
      "stem:  47%|████▋     | 23538/50000 [05:15<04:42, 93.62it/s]"
     ]
    },
    {
     "name": "stderr",
     "output_type": "stream",
     "text": [
      "\r",
      "stem:  47%|████▋     | 23526/50000 [05:15<04:55, 89.69it/s]"
     ]
    },
    {
     "name": "stderr",
     "output_type": "stream",
     "text": [
      "\r",
      "stem:  47%|████▋     | 23516/50000 [05:15<05:01, 87.72it/s]"
     ]
    },
    {
     "name": "stderr",
     "output_type": "stream",
     "text": [
      "\r",
      "stem:  47%|████▋     | 23506/50000 [05:15<05:13, 84.43it/s]"
     ]
    },
    {
     "name": "stderr",
     "output_type": "stream",
     "text": [
      "\r",
      "stem:  47%|████▋     | 23496/50000 [05:15<05:12, 84.71it/s]"
     ]
    },
    {
     "name": "stderr",
     "output_type": "stream",
     "text": [
      "\r",
      "stem:  47%|████▋     | 23478/50000 [05:15<06:12, 71.19it/s]"
     ]
    },
    {
     "name": "stderr",
     "output_type": "stream",
     "text": [
      "\r",
      "stem:  47%|████▋     | 23460/50000 [05:14<06:06, 72.34it/s]"
     ]
    },
    {
     "name": "stderr",
     "output_type": "stream",
     "text": [
      "\r",
      "stem:  47%|████▋     | 23448/50000 [05:14<06:15, 70.79it/s]"
     ]
    },
    {
     "name": "stderr",
     "output_type": "stream",
     "text": [
      "\r",
      "stem:  47%|████▋     | 23434/50000 [05:14<06:14, 70.97it/s]"
     ]
    },
    {
     "name": "stderr",
     "output_type": "stream",
     "text": [
      "\r",
      "stem:  47%|████▋     | 23424/50000 [05:14<05:05, 86.98it/s]"
     ]
    },
    {
     "name": "stderr",
     "output_type": "stream",
     "text": [
      "\r",
      "stem:  47%|████▋     | 23412/50000 [05:14<05:38, 78.63it/s]"
     ]
    },
    {
     "name": "stderr",
     "output_type": "stream",
     "text": [
      "\r",
      "stem:  47%|████▋     | 23400/50000 [05:14<05:40, 78.15it/s]"
     ]
    },
    {
     "name": "stderr",
     "output_type": "stream",
     "text": [
      "\r",
      "stem:  47%|████▋     | 23376/50000 [05:13<06:06, 72.64it/s]"
     ]
    },
    {
     "name": "stderr",
     "output_type": "stream",
     "text": [
      "\r",
      "stem:  47%|████▋     | 23362/50000 [05:13<05:40, 78.27it/s]"
     ]
    },
    {
     "name": "stderr",
     "output_type": "stream",
     "text": [
      "\r",
      "stem:  47%|████▋     | 23352/50000 [05:13<05:27, 81.30it/s]"
     ]
    },
    {
     "name": "stderr",
     "output_type": "stream",
     "text": [
      "\r",
      "stem:  47%|████▋     | 23334/50000 [05:13<06:23, 69.62it/s]"
     ]
    },
    {
     "name": "stderr",
     "output_type": "stream",
     "text": [
      "\r",
      "stem:  47%|████▋     | 23310/50000 [05:13<07:27, 59.63it/s]"
     ]
    },
    {
     "name": "stderr",
     "output_type": "stream",
     "text": [
      "\r",
      "stem:  47%|████▋     | 23293/50000 [05:12<07:29, 59.42it/s]"
     ]
    },
    {
     "name": "stderr",
     "output_type": "stream",
     "text": [
      "\r",
      "stem:  47%|████▋     | 23284/50000 [05:12<06:05, 73.08it/s]"
     ]
    },
    {
     "name": "stderr",
     "output_type": "stream",
     "text": [
      "\r",
      "stem:  47%|████▋     | 23274/50000 [05:12<05:42, 78.01it/s]"
     ]
    },
    {
     "name": "stderr",
     "output_type": "stream",
     "text": [
      "\r",
      "stem:  47%|████▋     | 23256/50000 [05:12<07:02, 63.28it/s]"
     ]
    },
    {
     "name": "stderr",
     "output_type": "stream",
     "text": [
      "\r",
      "stem:  46%|████▋     | 23244/50000 [05:12<05:59, 74.40it/s]"
     ]
    },
    {
     "name": "stderr",
     "output_type": "stream",
     "text": [
      "\r",
      "stem:  46%|████▋     | 23220/50000 [05:11<06:36, 67.55it/s]"
     ]
    },
    {
     "name": "stderr",
     "output_type": "stream",
     "text": [
      "\r",
      "stem:  46%|████▋     | 23196/50000 [05:11<06:33, 68.19it/s]"
     ]
    },
    {
     "name": "stderr",
     "output_type": "stream",
     "text": [
      "\r",
      "stem:  46%|████▋     | 23182/50000 [05:11<05:33, 80.37it/s]"
     ]
    },
    {
     "name": "stderr",
     "output_type": "stream",
     "text": [
      "\r",
      "stem:  46%|████▋     | 23172/50000 [05:10<04:57, 90.10it/s]"
     ]
    },
    {
     "name": "stderr",
     "output_type": "stream",
     "text": [
      "\r",
      "stem:  46%|████▋     | 23154/50000 [05:10<05:20, 83.66it/s]"
     ]
    },
    {
     "name": "stderr",
     "output_type": "stream",
     "text": [
      "\r",
      "stem:  46%|████▋     | 23142/50000 [05:10<05:08, 87.13it/s]"
     ]
    },
    {
     "name": "stderr",
     "output_type": "stream",
     "text": [
      "\r",
      "stem:  46%|████▋     | 23127/50000 [05:10<05:14, 85.56it/s]"
     ]
    },
    {
     "name": "stderr",
     "output_type": "stream",
     "text": [
      "\r",
      "stem:  46%|████▌     | 23118/50000 [05:10<05:08, 87.22it/s]"
     ]
    },
    {
     "name": "stderr",
     "output_type": "stream",
     "text": [
      "\r",
      "stem:  46%|████▌     | 23106/50000 [05:10<04:58, 90.01it/s]"
     ]
    },
    {
     "name": "stderr",
     "output_type": "stream",
     "text": [
      "\r",
      "stem:  46%|████▌     | 23094/50000 [05:10<05:14, 85.67it/s]"
     ]
    },
    {
     "name": "stderr",
     "output_type": "stream",
     "text": [
      "\r",
      "stem:  46%|████▌     | 23079/50000 [05:09<05:40, 79.17it/s]"
     ]
    },
    {
     "name": "stderr",
     "output_type": "stream",
     "text": [
      "\r",
      "stem:  46%|████▌     | 23070/50000 [05:09<05:38, 79.49it/s]"
     ]
    },
    {
     "name": "stderr",
     "output_type": "stream",
     "text": [
      "\r",
      "stem:  46%|████▌     | 23061/50000 [05:09<05:45, 78.02it/s]"
     ]
    },
    {
     "name": "stderr",
     "output_type": "stream",
     "text": [
      "\r",
      "stem:  46%|████▌     | 23052/50000 [05:09<05:37, 79.74it/s]"
     ]
    },
    {
     "name": "stderr",
     "output_type": "stream",
     "text": [
      "\r",
      "stem:  46%|████▌     | 23034/50000 [05:09<05:50, 77.03it/s]"
     ]
    },
    {
     "name": "stderr",
     "output_type": "stream",
     "text": [
      "\r",
      "stem:  46%|████▌     | 23022/50000 [05:09<06:00, 74.88it/s]"
     ]
    },
    {
     "name": "stderr",
     "output_type": "stream",
     "text": [
      "\r",
      "stem:  46%|████▌     | 23004/50000 [05:09<06:19, 71.08it/s]"
     ]
    },
    {
     "name": "stderr",
     "output_type": "stream",
     "text": [
      "\r",
      "stem:  46%|████▌     | 22992/50000 [05:08<05:22, 83.85it/s]"
     ]
    },
    {
     "name": "stderr",
     "output_type": "stream",
     "text": [
      "\r",
      "stem:  46%|████▌     | 22970/50000 [05:08<05:51, 76.88it/s]"
     ]
    },
    {
     "name": "stderr",
     "output_type": "stream",
     "text": [
      "\r",
      "stem:  46%|████▌     | 22960/50000 [05:08<05:13, 86.36it/s]"
     ]
    },
    {
     "name": "stderr",
     "output_type": "stream",
     "text": [
      "\r",
      "stem:  46%|████▌     | 22949/50000 [05:08<05:14, 85.89it/s]"
     ]
    },
    {
     "name": "stderr",
     "output_type": "stream",
     "text": [
      "\r",
      "stem:  46%|████▌     | 22938/50000 [05:08<05:16, 85.53it/s]"
     ]
    },
    {
     "name": "stderr",
     "output_type": "stream",
     "text": [
      "\r",
      "stem:  46%|████▌     | 22920/50000 [05:08<06:26, 69.99it/s]"
     ]
    },
    {
     "name": "stderr",
     "output_type": "stream",
     "text": [
      "\r",
      "stem:  46%|████▌     | 22911/50000 [05:07<05:29, 82.17it/s]"
     ]
    },
    {
     "name": "stderr",
     "output_type": "stream",
     "text": [
      "\r",
      "stem:  46%|████▌     | 22902/50000 [05:07<05:37, 80.26it/s]"
     ]
    },
    {
     "name": "stderr",
     "output_type": "stream",
     "text": [
      "\r",
      "stem:  46%|████▌     | 22890/50000 [05:07<05:20, 84.66it/s]"
     ]
    },
    {
     "name": "stderr",
     "output_type": "stream",
     "text": [
      "\r",
      "stem:  46%|████▌     | 22878/50000 [05:07<05:47, 78.00it/s]"
     ]
    },
    {
     "name": "stderr",
     "output_type": "stream",
     "text": [
      "\r",
      "stem:  46%|████▌     | 22860/50000 [05:07<06:35, 68.67it/s]"
     ]
    },
    {
     "name": "stderr",
     "output_type": "stream",
     "text": [
      "\r",
      "stem:  46%|████▌     | 22838/50000 [05:07<07:35, 59.57it/s]"
     ]
    },
    {
     "name": "stderr",
     "output_type": "stream",
     "text": [
      "\r",
      "stem:  46%|████▌     | 22830/50000 [05:07<06:20, 71.32it/s]"
     ]
    },
    {
     "name": "stderr",
     "output_type": "stream",
     "text": [
      "\r",
      "stem:  46%|████▌     | 22806/50000 [05:06<06:48, 66.57it/s]"
     ]
    },
    {
     "name": "stderr",
     "output_type": "stream",
     "text": [
      "\r",
      "stem:  46%|████▌     | 22794/50000 [05:06<05:43, 79.17it/s]"
     ]
    },
    {
     "name": "stderr",
     "output_type": "stream",
     "text": [
      "\r",
      "stem:  46%|████▌     | 22785/50000 [05:06<06:01, 75.34it/s]"
     ]
    },
    {
     "name": "stderr",
     "output_type": "stream",
     "text": [
      "\r",
      "stem:  46%|████▌     | 22776/50000 [05:06<05:31, 82.03it/s]"
     ]
    },
    {
     "name": "stderr",
     "output_type": "stream",
     "text": [
      "\r",
      "stem:  46%|████▌     | 22764/50000 [05:06<05:28, 82.84it/s]"
     ]
    },
    {
     "name": "stderr",
     "output_type": "stream",
     "text": [
      "\r",
      "stem:  46%|████▌     | 22752/50000 [05:05<06:00, 75.48it/s]"
     ]
    },
    {
     "name": "stderr",
     "output_type": "stream",
     "text": [
      "\r",
      "stem:  45%|████▌     | 22728/50000 [05:05<06:25, 70.76it/s]"
     ]
    },
    {
     "name": "stderr",
     "output_type": "stream",
     "text": [
      "\r",
      "stem:  45%|████▌     | 22710/50000 [05:05<06:57, 65.30it/s]"
     ]
    },
    {
     "name": "stderr",
     "output_type": "stream",
     "text": [
      "\r",
      "stem:  45%|████▌     | 22686/50000 [05:05<06:37, 68.75it/s]"
     ]
    },
    {
     "name": "stderr",
     "output_type": "stream",
     "text": [
      "\r",
      "stem:  45%|████▌     | 22670/50000 [05:04<07:06, 64.15it/s]"
     ]
    },
    {
     "name": "stderr",
     "output_type": "stream",
     "text": [
      "\r",
      "stem:  45%|████▌     | 22662/50000 [05:04<06:49, 66.71it/s]"
     ]
    },
    {
     "name": "stderr",
     "output_type": "stream",
     "text": [
      "\r",
      "stem:  45%|████▌     | 22650/50000 [05:04<07:44, 58.94it/s]"
     ]
    },
    {
     "name": "stderr",
     "output_type": "stream",
     "text": [
      "\r",
      "stem:  45%|████▌     | 22639/50000 [05:04<07:05, 64.34it/s]"
     ]
    },
    {
     "name": "stderr",
     "output_type": "stream",
     "text": [
      "\r",
      "stem:  45%|████▌     | 22632/50000 [05:04<06:53, 66.24it/s]"
     ]
    },
    {
     "name": "stderr",
     "output_type": "stream",
     "text": [
      "\r",
      "stem:  45%|████▌     | 22622/50000 [05:04<06:02, 75.47it/s]"
     ]
    },
    {
     "name": "stderr",
     "output_type": "stream",
     "text": [
      "\r",
      "stem:  45%|████▌     | 22614/50000 [05:03<05:59, 76.13it/s]"
     ]
    },
    {
     "name": "stderr",
     "output_type": "stream",
     "text": [
      "\r",
      "stem:  45%|████▌     | 22596/50000 [05:03<05:31, 82.59it/s]"
     ]
    },
    {
     "name": "stderr",
     "output_type": "stream",
     "text": [
      "\r",
      "stem:  45%|████▌     | 22578/50000 [05:03<05:53, 77.50it/s]"
     ]
    },
    {
     "name": "stderr",
     "output_type": "stream",
     "text": [
      "\r",
      "stem:  45%|████▌     | 22566/50000 [05:03<05:59, 76.40it/s]"
     ]
    },
    {
     "name": "stderr",
     "output_type": "stream",
     "text": [
      "\r",
      "stem:  45%|████▌     | 22554/50000 [05:03<06:36, 69.27it/s]"
     ]
    },
    {
     "name": "stderr",
     "output_type": "stream",
     "text": [
      "\r",
      "stem:  45%|████▌     | 22542/50000 [05:03<07:19, 62.50it/s]"
     ]
    },
    {
     "name": "stderr",
     "output_type": "stream",
     "text": [
      "\r",
      "stem:  45%|████▌     | 22533/50000 [05:02<07:02, 64.94it/s]"
     ]
    },
    {
     "name": "stderr",
     "output_type": "stream",
     "text": [
      "\r",
      "stem:  45%|████▌     | 22526/50000 [05:02<07:06, 64.37it/s]"
     ]
    },
    {
     "name": "stderr",
     "output_type": "stream",
     "text": [
      "\r",
      "stem:  45%|████▌     | 22518/50000 [05:02<06:31, 70.24it/s]"
     ]
    },
    {
     "name": "stderr",
     "output_type": "stream",
     "text": [
      "\r",
      "stem:  45%|████▌     | 22506/50000 [05:02<06:34, 69.75it/s]"
     ]
    },
    {
     "name": "stderr",
     "output_type": "stream",
     "text": [
      "\r",
      "stem:  45%|████▍     | 22497/50000 [05:02<07:02, 65.06it/s]"
     ]
    },
    {
     "name": "stderr",
     "output_type": "stream",
     "text": [
      "\r",
      "stem:  45%|████▍     | 22488/50000 [05:02<06:03, 75.71it/s]"
     ]
    },
    {
     "name": "stderr",
     "output_type": "stream",
     "text": [
      "\r",
      "stem:  45%|████▍     | 22476/50000 [05:02<06:48, 67.30it/s]"
     ]
    },
    {
     "name": "stderr",
     "output_type": "stream",
     "text": [
      "\r",
      "stem:  45%|████▍     | 22464/50000 [05:01<06:53, 66.66it/s]"
     ]
    },
    {
     "name": "stderr",
     "output_type": "stream",
     "text": [
      "\r",
      "stem:  45%|████▍     | 22452/50000 [05:01<07:19, 62.73it/s]"
     ]
    },
    {
     "name": "stderr",
     "output_type": "stream",
     "text": [
      "\r",
      "stem:  45%|████▍     | 22442/50000 [05:01<08:14, 55.68it/s]"
     ]
    },
    {
     "name": "stderr",
     "output_type": "stream",
     "text": [
      "\r",
      "stem:  45%|████▍     | 22434/50000 [05:01<07:28, 61.42it/s]"
     ]
    },
    {
     "name": "stderr",
     "output_type": "stream",
     "text": [
      "\r",
      "stem:  45%|████▍     | 22422/50000 [05:01<05:49, 78.94it/s]"
     ]
    },
    {
     "name": "stderr",
     "output_type": "stream",
     "text": [
      "\r",
      "stem:  45%|████▍     | 22410/50000 [05:01<06:16, 73.28it/s]"
     ]
    },
    {
     "name": "stderr",
     "output_type": "stream",
     "text": [
      "\r",
      "stem:  45%|████▍     | 22389/50000 [05:00<07:20, 62.66it/s]"
     ]
    },
    {
     "name": "stderr",
     "output_type": "stream",
     "text": [
      "\r",
      "stem:  45%|████▍     | 22380/50000 [05:00<06:20, 72.52it/s]"
     ]
    },
    {
     "name": "stderr",
     "output_type": "stream",
     "text": [
      "\r",
      "stem:  45%|████▍     | 22364/50000 [05:00<07:39, 60.13it/s]"
     ]
    },
    {
     "name": "stderr",
     "output_type": "stream",
     "text": [
      "\r",
      "stem:  45%|████▍     | 22356/50000 [05:00<07:06, 64.89it/s]"
     ]
    },
    {
     "name": "stderr",
     "output_type": "stream",
     "text": [
      "\r",
      "stem:  45%|████▍     | 22344/50000 [05:00<07:17, 63.22it/s]"
     ]
    },
    {
     "name": "stderr",
     "output_type": "stream",
     "text": [
      "\r",
      "stem:  45%|████▍     | 22332/50000 [05:00<08:20, 55.31it/s]"
     ]
    },
    {
     "name": "stderr",
     "output_type": "stream",
     "text": [
      "\r",
      "stem:  45%|████▍     | 22323/50000 [04:59<07:11, 64.13it/s]"
     ]
    },
    {
     "name": "stderr",
     "output_type": "stream",
     "text": [
      "\r",
      "stem:  45%|████▍     | 22315/50000 [04:59<07:09, 64.48it/s]"
     ]
    },
    {
     "name": "stderr",
     "output_type": "stream",
     "text": [
      "\r",
      "stem:  45%|████▍     | 22306/50000 [04:59<06:29, 71.10it/s]"
     ]
    },
    {
     "name": "stderr",
     "output_type": "stream",
     "text": [
      "\r",
      "stem:  45%|████▍     | 22296/50000 [04:59<06:25, 71.96it/s]"
     ]
    },
    {
     "name": "stderr",
     "output_type": "stream",
     "text": [
      "\r",
      "stem:  45%|████▍     | 22284/50000 [04:59<06:57, 66.37it/s]"
     ]
    },
    {
     "name": "stderr",
     "output_type": "stream",
     "text": [
      "\r",
      "stem:  45%|████▍     | 22272/50000 [04:59<05:15, 87.82it/s]"
     ]
    },
    {
     "name": "stderr",
     "output_type": "stream",
     "text": [
      "\r",
      "stem:  45%|████▍     | 22254/50000 [04:59<06:22, 72.51it/s]"
     ]
    },
    {
     "name": "stderr",
     "output_type": "stream",
     "text": [
      "\r",
      "stem:  44%|████▍     | 22242/50000 [04:58<05:24, 85.64it/s]"
     ]
    },
    {
     "name": "stderr",
     "output_type": "stream",
     "text": [
      "\r",
      "stem:  44%|████▍     | 22229/50000 [04:58<06:11, 74.75it/s]"
     ]
    },
    {
     "name": "stderr",
     "output_type": "stream",
     "text": [
      "\r",
      "stem:  44%|████▍     | 22218/50000 [04:58<05:09, 89.84it/s]"
     ]
    },
    {
     "name": "stderr",
     "output_type": "stream",
     "text": [
      "\r",
      "stem:  44%|████▍     | 22200/50000 [04:58<06:13, 74.42it/s]"
     ]
    },
    {
     "name": "stderr",
     "output_type": "stream",
     "text": [
      "\r",
      "stem:  44%|████▍     | 22185/50000 [04:58<06:13, 74.51it/s]"
     ]
    },
    {
     "name": "stderr",
     "output_type": "stream",
     "text": [
      "\r",
      "stem:  44%|████▍     | 22176/50000 [04:58<06:30, 71.32it/s]"
     ]
    },
    {
     "name": "stderr",
     "output_type": "stream",
     "text": [
      "\r",
      "stem:  44%|████▍     | 22158/50000 [04:57<07:40, 60.44it/s]"
     ]
    },
    {
     "name": "stderr",
     "output_type": "stream",
     "text": [
      "\r",
      "stem:  44%|████▍     | 22146/50000 [04:57<06:37, 70.08it/s]"
     ]
    },
    {
     "name": "stderr",
     "output_type": "stream",
     "text": [
      "\r",
      "stem:  44%|████▍     | 22132/50000 [04:57<05:45, 80.69it/s]"
     ]
    },
    {
     "name": "stderr",
     "output_type": "stream",
     "text": [
      "\r",
      "stem:  44%|████▍     | 22122/50000 [04:57<05:46, 80.46it/s]"
     ]
    },
    {
     "name": "stderr",
     "output_type": "stream",
     "text": [
      "\r",
      "stem:  44%|████▍     | 22104/50000 [04:57<06:51, 67.81it/s]"
     ]
    },
    {
     "name": "stderr",
     "output_type": "stream",
     "text": [
      "\r",
      "stem:  44%|████▍     | 22080/50000 [04:56<07:42, 60.35it/s]"
     ]
    },
    {
     "name": "stderr",
     "output_type": "stream",
     "text": [
      "\r",
      "stem:  44%|████▍     | 22069/50000 [04:56<07:35, 61.31it/s]"
     ]
    },
    {
     "name": "stderr",
     "output_type": "stream",
     "text": [
      "\r",
      "stem:  44%|████▍     | 22060/50000 [04:56<06:00, 77.46it/s]"
     ]
    },
    {
     "name": "stderr",
     "output_type": "stream",
     "text": [
      "\r",
      "stem:  44%|████▍     | 22051/50000 [04:56<05:56, 78.38it/s]"
     ]
    },
    {
     "name": "stderr",
     "output_type": "stream",
     "text": [
      "\r",
      "stem:  44%|████▍     | 22042/50000 [04:56<06:07, 75.98it/s]"
     ]
    },
    {
     "name": "stderr",
     "output_type": "stream",
     "text": [
      "\r",
      "stem:  44%|████▍     | 22032/50000 [04:56<05:25, 85.95it/s]"
     ]
    },
    {
     "name": "stderr",
     "output_type": "stream",
     "text": [
      "\r",
      "stem:  44%|████▍     | 22020/50000 [04:55<06:03, 77.05it/s]"
     ]
    },
    {
     "name": "stderr",
     "output_type": "stream",
     "text": [
      "\r",
      "stem:  44%|████▍     | 22002/50000 [04:55<06:00, 77.66it/s]"
     ]
    },
    {
     "name": "stderr",
     "output_type": "stream",
     "text": [
      "\r",
      "stem:  44%|████▍     | 21990/50000 [04:55<05:19, 87.56it/s]"
     ]
    },
    {
     "name": "stderr",
     "output_type": "stream",
     "text": [
      "\r",
      "stem:  44%|████▍     | 21966/50000 [04:55<06:07, 76.21it/s]"
     ]
    },
    {
     "name": "stderr",
     "output_type": "stream",
     "text": [
      "\r",
      "stem:  44%|████▍     | 21954/50000 [04:55<05:37, 83.21it/s]"
     ]
    },
    {
     "name": "stderr",
     "output_type": "stream",
     "text": [
      "\r",
      "stem:  44%|████▍     | 21940/50000 [04:55<05:33, 84.15it/s]"
     ]
    },
    {
     "name": "stderr",
     "output_type": "stream",
     "text": [
      "\r",
      "stem:  44%|████▍     | 21930/50000 [04:54<05:17, 88.51it/s]"
     ]
    },
    {
     "name": "stderr",
     "output_type": "stream",
     "text": [
      "\r",
      "stem:  44%|████▍     | 21918/50000 [04:54<04:54, 95.43it/s]"
     ]
    },
    {
     "name": "stderr",
     "output_type": "stream",
     "text": [
      "\r",
      "stem:  44%|████▍     | 21906/50000 [04:54<05:11, 90.20it/s]"
     ]
    },
    {
     "name": "stderr",
     "output_type": "stream",
     "text": [
      "\r",
      "stem:  44%|████▍     | 21888/50000 [04:54<04:52, 96.07it/s]"
     ]
    },
    {
     "name": "stderr",
     "output_type": "stream",
     "text": [
      "\r",
      "stem:  44%|████▍     | 21876/50000 [04:54<05:14, 89.31it/s]"
     ]
    },
    {
     "name": "stderr",
     "output_type": "stream",
     "text": [
      "\r",
      "stem:  44%|████▎     | 21864/50000 [04:54<05:02, 93.09it/s]"
     ]
    },
    {
     "name": "stderr",
     "output_type": "stream",
     "text": [
      "\r",
      "stem:  44%|████▎     | 21852/50000 [04:54<05:28, 85.64it/s]"
     ]
    },
    {
     "name": "stderr",
     "output_type": "stream",
     "text": [
      "\r",
      "stem:  44%|████▎     | 21834/50000 [04:53<05:55, 79.32it/s]"
     ]
    },
    {
     "name": "stderr",
     "output_type": "stream",
     "text": [
      "\r",
      "stem:  44%|████▎     | 21822/50000 [04:53<05:21, 87.67it/s]"
     ]
    },
    {
     "name": "stderr",
     "output_type": "stream",
     "text": [
      "\r",
      "stem:  44%|████▎     | 21804/50000 [04:53<06:15, 75.08it/s]"
     ]
    },
    {
     "name": "stderr",
     "output_type": "stream",
     "text": [
      "\r",
      "stem:  44%|████▎     | 21792/50000 [04:53<06:12, 75.82it/s]"
     ]
    },
    {
     "name": "stderr",
     "output_type": "stream",
     "text": [
      "\r",
      "stem:  44%|████▎     | 21776/50000 [04:53<06:54, 68.09it/s]"
     ]
    },
    {
     "name": "stderr",
     "output_type": "stream",
     "text": [
      "\r",
      "stem:  44%|████▎     | 21768/50000 [04:53<06:23, 73.61it/s]"
     ]
    },
    {
     "name": "stderr",
     "output_type": "stream",
     "text": [
      "\r",
      "stem:  44%|████▎     | 21750/50000 [04:52<06:17, 74.91it/s]"
     ]
    },
    {
     "name": "stderr",
     "output_type": "stream",
     "text": [
      "\r",
      "stem:  43%|████▎     | 21740/50000 [04:52<06:44, 69.93it/s]"
     ]
    },
    {
     "name": "stderr",
     "output_type": "stream",
     "text": [
      "\r",
      "stem:  43%|████▎     | 21732/50000 [04:52<06:14, 75.41it/s]"
     ]
    },
    {
     "name": "stderr",
     "output_type": "stream",
     "text": [
      "\r",
      "stem:  43%|████▎     | 21720/50000 [04:52<06:05, 77.42it/s]"
     ]
    },
    {
     "name": "stderr",
     "output_type": "stream",
     "text": [
      "\r",
      "stem:  43%|████▎     | 21708/50000 [04:52<06:36, 71.30it/s]"
     ]
    },
    {
     "name": "stderr",
     "output_type": "stream",
     "text": [
      "\r",
      "stem:  43%|████▎     | 21690/50000 [04:52<06:47, 69.55it/s]"
     ]
    },
    {
     "name": "stderr",
     "output_type": "stream",
     "text": [
      "\r",
      "stem:  43%|████▎     | 21678/50000 [04:51<05:53, 80.11it/s]"
     ]
    },
    {
     "name": "stderr",
     "output_type": "stream",
     "text": [
      "\r",
      "stem:  43%|████▎     | 21666/50000 [04:51<06:19, 74.74it/s]"
     ]
    },
    {
     "name": "stderr",
     "output_type": "stream",
     "text": [
      "\r",
      "stem:  43%|████▎     | 21654/50000 [04:51<06:36, 71.49it/s]"
     ]
    },
    {
     "name": "stderr",
     "output_type": "stream",
     "text": [
      "\r",
      "stem:  43%|████▎     | 21643/50000 [04:51<06:05, 77.52it/s]"
     ]
    },
    {
     "name": "stderr",
     "output_type": "stream",
     "text": [
      "\r",
      "stem:  43%|████▎     | 21634/50000 [04:51<05:37, 84.17it/s]"
     ]
    },
    {
     "name": "stderr",
     "output_type": "stream",
     "text": [
      "\r",
      "stem:  43%|████▎     | 21624/50000 [04:51<05:18, 89.07it/s]"
     ]
    },
    {
     "name": "stderr",
     "output_type": "stream",
     "text": [
      "\r",
      "stem:  43%|████▎     | 21614/50000 [04:51<05:11, 91.01it/s]"
     ]
    },
    {
     "name": "stderr",
     "output_type": "stream",
     "text": [
      "\r",
      "stem:  43%|████▎     | 21604/50000 [04:50<05:21, 88.25it/s]"
     ]
    },
    {
     "name": "stderr",
     "output_type": "stream",
     "text": [
      "\r",
      "stem:  43%|████▎     | 21594/50000 [04:50<05:20, 88.53it/s]"
     ]
    },
    {
     "name": "stderr",
     "output_type": "stream",
     "text": [
      "\r",
      "stem:  43%|████▎     | 21576/50000 [04:50<06:11, 76.42it/s]"
     ]
    },
    {
     "name": "stderr",
     "output_type": "stream",
     "text": [
      "\r",
      "stem:  43%|████▎     | 21552/50000 [04:50<06:24, 73.92it/s]"
     ]
    },
    {
     "name": "stderr",
     "output_type": "stream",
     "text": [
      "\r",
      "stem:  43%|████▎     | 21534/50000 [04:50<05:37, 84.36it/s]"
     ]
    },
    {
     "name": "stderr",
     "output_type": "stream",
     "text": [
      "\r",
      "stem:  43%|████▎     | 21522/50000 [04:49<06:09, 77.07it/s]"
     ]
    },
    {
     "name": "stderr",
     "output_type": "stream",
     "text": [
      "\r",
      "stem:  43%|████▎     | 21510/50000 [04:49<07:04, 67.05it/s]"
     ]
    },
    {
     "name": "stderr",
     "output_type": "stream",
     "text": [
      "\r",
      "stem:  43%|████▎     | 21502/50000 [04:49<07:21, 64.61it/s]"
     ]
    },
    {
     "name": "stderr",
     "output_type": "stream",
     "text": [
      "\r",
      "stem:  43%|████▎     | 21494/50000 [04:49<07:02, 67.47it/s]"
     ]
    },
    {
     "name": "stderr",
     "output_type": "stream",
     "text": [
      "\r",
      "stem:  43%|████▎     | 21486/50000 [04:49<06:46, 70.13it/s]"
     ]
    },
    {
     "name": "stderr",
     "output_type": "stream",
     "text": [
      "\r",
      "stem:  43%|████▎     | 21476/50000 [04:49<07:13, 65.82it/s]"
     ]
    },
    {
     "name": "stderr",
     "output_type": "stream",
     "text": [
      "\r",
      "stem:  43%|████▎     | 21468/50000 [04:49<07:00, 67.86it/s]"
     ]
    },
    {
     "name": "stderr",
     "output_type": "stream",
     "text": [
      "\r",
      "stem:  43%|████▎     | 21450/50000 [04:49<08:21, 56.94it/s]"
     ]
    },
    {
     "name": "stderr",
     "output_type": "stream",
     "text": [
      "\r",
      "stem:  43%|████▎     | 21438/50000 [04:48<07:25, 64.12it/s]"
     ]
    },
    {
     "name": "stderr",
     "output_type": "stream",
     "text": [
      "\r",
      "stem:  43%|████▎     | 21426/50000 [04:48<07:27, 63.86it/s]"
     ]
    },
    {
     "name": "stderr",
     "output_type": "stream",
     "text": [
      "\r",
      "stem:  43%|████▎     | 21414/50000 [04:48<07:10, 66.44it/s]"
     ]
    },
    {
     "name": "stderr",
     "output_type": "stream",
     "text": [
      "\r",
      "stem:  43%|████▎     | 21402/50000 [04:48<07:32, 63.23it/s]"
     ]
    },
    {
     "name": "stderr",
     "output_type": "stream",
     "text": [
      "\r",
      "stem:  43%|████▎     | 21390/50000 [04:48<07:12, 66.20it/s]"
     ]
    },
    {
     "name": "stderr",
     "output_type": "stream",
     "text": [
      "\r",
      "stem:  43%|████▎     | 21380/50000 [04:47<08:08, 58.60it/s]"
     ]
    },
    {
     "name": "stderr",
     "output_type": "stream",
     "text": [
      "\r",
      "stem:  43%|████▎     | 21372/50000 [04:47<07:17, 65.45it/s]"
     ]
    },
    {
     "name": "stderr",
     "output_type": "stream",
     "text": [
      "\r",
      "stem:  43%|████▎     | 21363/50000 [04:47<07:31, 63.49it/s]"
     ]
    },
    {
     "name": "stderr",
     "output_type": "stream",
     "text": [
      "\r",
      "stem:  43%|████▎     | 21354/50000 [04:47<07:03, 67.69it/s]"
     ]
    },
    {
     "name": "stderr",
     "output_type": "stream",
     "text": [
      "\r",
      "stem:  43%|████▎     | 21338/50000 [04:47<08:35, 55.56it/s]"
     ]
    },
    {
     "name": "stderr",
     "output_type": "stream",
     "text": [
      "\r",
      "stem:  43%|████▎     | 21330/50000 [04:47<07:25, 64.39it/s]"
     ]
    },
    {
     "name": "stderr",
     "output_type": "stream",
     "text": [
      "\r",
      "stem:  43%|████▎     | 21318/50000 [04:47<08:30, 56.14it/s]"
     ]
    },
    {
     "name": "stderr",
     "output_type": "stream",
     "text": [
      "\r",
      "stem:  43%|████▎     | 21306/50000 [04:46<08:05, 59.10it/s]"
     ]
    },
    {
     "name": "stderr",
     "output_type": "stream",
     "text": [
      "\r",
      "stem:  43%|████▎     | 21294/50000 [04:46<09:31, 50.22it/s]"
     ]
    },
    {
     "name": "stderr",
     "output_type": "stream",
     "text": [
      "\r",
      "stem:  43%|████▎     | 21283/50000 [04:46<10:46, 44.39it/s]"
     ]
    },
    {
     "name": "stderr",
     "output_type": "stream",
     "text": [
      "\r",
      "stem:  43%|████▎     | 21277/50000 [04:46<08:40, 55.20it/s]"
     ]
    },
    {
     "name": "stderr",
     "output_type": "stream",
     "text": [
      "\r",
      "stem:  43%|████▎     | 21270/50000 [04:46<08:08, 58.81it/s]"
     ]
    },
    {
     "name": "stderr",
     "output_type": "stream",
     "text": [
      "\r",
      "stem:  43%|████▎     | 21259/50000 [04:46<08:20, 57.39it/s]"
     ]
    },
    {
     "name": "stderr",
     "output_type": "stream",
     "text": [
      "\r",
      "stem:  43%|████▎     | 21252/50000 [04:45<08:59, 53.32it/s]"
     ]
    },
    {
     "name": "stderr",
     "output_type": "stream",
     "text": [
      "\r",
      "stem:  42%|████▏     | 21240/50000 [04:45<10:26, 45.93it/s]"
     ]
    },
    {
     "name": "stderr",
     "output_type": "stream",
     "text": [
      "\r",
      "stem:  42%|████▏     | 21234/50000 [04:45<08:57, 53.56it/s]"
     ]
    },
    {
     "name": "stderr",
     "output_type": "stream",
     "text": [
      "\r",
      "stem:  42%|████▏     | 21222/50000 [04:45<07:45, 61.86it/s]"
     ]
    },
    {
     "name": "stderr",
     "output_type": "stream",
     "text": [
      "\r",
      "stem:  42%|████▏     | 21211/50000 [04:45<08:43, 54.96it/s]"
     ]
    },
    {
     "name": "stderr",
     "output_type": "stream",
     "text": [
      "\r",
      "stem:  42%|████▏     | 21204/50000 [04:45<07:49, 61.39it/s]"
     ]
    },
    {
     "name": "stderr",
     "output_type": "stream",
     "text": [
      "\r",
      "stem:  42%|████▏     | 21191/50000 [04:44<06:51, 70.02it/s]"
     ]
    },
    {
     "name": "stderr",
     "output_type": "stream",
     "text": [
      "\r",
      "stem:  42%|████▏     | 21183/50000 [04:44<07:05, 67.65it/s]"
     ]
    },
    {
     "name": "stderr",
     "output_type": "stream",
     "text": [
      "\r",
      "stem:  42%|████▏     | 21174/50000 [04:44<06:09, 78.01it/s]"
     ]
    },
    {
     "name": "stderr",
     "output_type": "stream",
     "text": [
      "\r",
      "stem:  42%|████▏     | 21158/50000 [04:44<06:56, 69.17it/s]"
     ]
    },
    {
     "name": "stderr",
     "output_type": "stream",
     "text": [
      "\r",
      "stem:  42%|████▏     | 21150/50000 [04:44<06:18, 76.13it/s]"
     ]
    },
    {
     "name": "stderr",
     "output_type": "stream",
     "text": [
      "\r",
      "stem:  42%|████▏     | 21138/50000 [04:44<06:23, 75.36it/s]"
     ]
    },
    {
     "name": "stderr",
     "output_type": "stream",
     "text": [
      "\r",
      "stem:  42%|████▏     | 21126/50000 [04:43<05:50, 82.48it/s]"
     ]
    },
    {
     "name": "stderr",
     "output_type": "stream",
     "text": [
      "\r",
      "stem:  42%|████▏     | 21108/50000 [04:43<05:59, 80.33it/s]"
     ]
    },
    {
     "name": "stderr",
     "output_type": "stream",
     "text": [
      "\r",
      "stem:  42%|████▏     | 21090/50000 [04:43<06:07, 78.72it/s]"
     ]
    },
    {
     "name": "stderr",
     "output_type": "stream",
     "text": [
      "\r",
      "stem:  42%|████▏     | 21077/50000 [04:43<05:02, 95.63it/s]"
     ]
    },
    {
     "name": "stderr",
     "output_type": "stream",
     "text": [
      "\r",
      "stem:  42%|████▏     | 21066/50000 [04:43<04:59, 96.65it/s]"
     ]
    },
    {
     "name": "stderr",
     "output_type": "stream",
     "text": [
      "\r",
      "stem:  42%|████▏     | 21053/50000 [04:42<05:17, 91.24it/s]"
     ]
    },
    {
     "name": "stderr",
     "output_type": "stream",
     "text": [
      "\r",
      "stem:  42%|████▏     | 21042/50000 [04:42<05:24, 89.20it/s]"
     ]
    },
    {
     "name": "stderr",
     "output_type": "stream",
     "text": [
      "\r",
      "stem:  42%|████▏     | 21030/50000 [04:42<04:54, 98.34it/s]"
     ]
    },
    {
     "name": "stderr",
     "output_type": "stream",
     "text": [
      "\r",
      "stem:  42%|████▏     | 21012/50000 [04:42<05:45, 83.94it/s]"
     ]
    },
    {
     "name": "stderr",
     "output_type": "stream",
     "text": [
      "\r",
      "stem:  42%|████▏     | 20988/50000 [04:42<05:53, 82.04it/s]"
     ]
    },
    {
     "name": "stderr",
     "output_type": "stream",
     "text": [
      "\r",
      "stem:  42%|████▏     | 20976/50000 [04:42<05:41, 85.10it/s]"
     ]
    },
    {
     "name": "stderr",
     "output_type": "stream",
     "text": [
      "\r",
      "stem:  42%|████▏     | 20964/50000 [04:42<05:31, 87.49it/s]"
     ]
    },
    {
     "name": "stderr",
     "output_type": "stream",
     "text": [
      "\r",
      "stem:  42%|████▏     | 20946/50000 [04:41<06:30, 74.45it/s]"
     ]
    },
    {
     "name": "stderr",
     "output_type": "stream",
     "text": [
      "\r",
      "stem:  42%|████▏     | 20928/50000 [04:41<06:17, 76.94it/s]"
     ]
    },
    {
     "name": "stderr",
     "output_type": "stream",
     "text": [
      "\r",
      "stem:  42%|████▏     | 20915/50000 [04:41<06:53, 70.36it/s]"
     ]
    },
    {
     "name": "stderr",
     "output_type": "stream",
     "text": [
      "\r",
      "stem:  42%|████▏     | 20904/50000 [04:41<05:48, 83.58it/s]"
     ]
    },
    {
     "name": "stderr",
     "output_type": "stream",
     "text": [
      "\r",
      "stem:  42%|████▏     | 20888/50000 [04:41<06:56, 69.88it/s]"
     ]
    },
    {
     "name": "stderr",
     "output_type": "stream",
     "text": [
      "\r",
      "stem:  42%|████▏     | 20880/50000 [04:41<07:10, 67.57it/s]"
     ]
    },
    {
     "name": "stderr",
     "output_type": "stream",
     "text": [
      "\r",
      "stem:  42%|████▏     | 20868/50000 [04:40<08:28, 57.30it/s]"
     ]
    },
    {
     "name": "stderr",
     "output_type": "stream",
     "text": [
      "\r",
      "stem:  42%|████▏     | 20853/50000 [04:40<07:56, 61.11it/s]"
     ]
    },
    {
     "name": "stderr",
     "output_type": "stream",
     "text": [
      "\r",
      "stem:  42%|████▏     | 20846/50000 [04:40<08:04, 60.19it/s]"
     ]
    },
    {
     "name": "stderr",
     "output_type": "stream",
     "text": [
      "\r",
      "stem:  42%|████▏     | 20838/50000 [04:40<08:25, 57.68it/s]"
     ]
    },
    {
     "name": "stderr",
     "output_type": "stream",
     "text": [
      "\r",
      "stem:  42%|████▏     | 20829/50000 [04:40<05:52, 82.87it/s]"
     ]
    },
    {
     "name": "stderr",
     "output_type": "stream",
     "text": [
      "\r",
      "stem:  42%|████▏     | 20820/50000 [04:40<05:51, 83.10it/s]"
     ]
    },
    {
     "name": "stderr",
     "output_type": "stream",
     "text": [
      "\r",
      "stem:  42%|████▏     | 20808/50000 [04:39<06:14, 77.87it/s]"
     ]
    },
    {
     "name": "stderr",
     "output_type": "stream",
     "text": [
      "\r",
      "stem:  42%|████▏     | 20792/50000 [04:39<06:29, 75.01it/s]"
     ]
    },
    {
     "name": "stderr",
     "output_type": "stream",
     "text": [
      "\r",
      "stem:  42%|████▏     | 20782/50000 [04:39<05:30, 88.29it/s]"
     ]
    },
    {
     "name": "stderr",
     "output_type": "stream",
     "text": [
      "\r",
      "stem:  42%|████▏     | 20772/50000 [04:39<05:40, 85.89it/s]"
     ]
    },
    {
     "name": "stderr",
     "output_type": "stream",
     "text": [
      "\r",
      "stem:  42%|████▏     | 20754/50000 [04:39<06:22, 76.52it/s]"
     ]
    },
    {
     "name": "stderr",
     "output_type": "stream",
     "text": [
      "\r",
      "stem:  41%|████▏     | 20742/50000 [04:39<07:12, 67.64it/s]"
     ]
    },
    {
     "name": "stderr",
     "output_type": "stream",
     "text": [
      "\r",
      "stem:  41%|████▏     | 20730/50000 [04:39<06:57, 70.05it/s]"
     ]
    },
    {
     "name": "stderr",
     "output_type": "stream",
     "text": [
      "\r",
      "stem:  41%|████▏     | 20706/50000 [04:38<07:50, 62.26it/s]"
     ]
    },
    {
     "name": "stderr",
     "output_type": "stream",
     "text": [
      "\r",
      "stem:  41%|████▏     | 20694/50000 [04:38<07:40, 63.62it/s]"
     ]
    },
    {
     "name": "stderr",
     "output_type": "stream",
     "text": [
      "\r",
      "stem:  41%|████▏     | 20682/50000 [04:38<06:48, 71.79it/s]"
     ]
    },
    {
     "name": "stderr",
     "output_type": "stream",
     "text": [
      "\r",
      "stem:  41%|████▏     | 20673/50000 [04:38<07:13, 67.59it/s]"
     ]
    },
    {
     "name": "stderr",
     "output_type": "stream",
     "text": [
      "\r",
      "stem:  41%|████▏     | 20664/50000 [04:38<06:48, 71.85it/s]"
     ]
    },
    {
     "name": "stderr",
     "output_type": "stream",
     "text": [
      "\r",
      "stem:  41%|████▏     | 20646/50000 [04:37<08:04, 60.54it/s]"
     ]
    },
    {
     "name": "stderr",
     "output_type": "stream",
     "text": [
      "\r",
      "stem:  41%|████▏     | 20634/50000 [04:37<06:58, 70.19it/s]"
     ]
    },
    {
     "name": "stderr",
     "output_type": "stream",
     "text": [
      "\r",
      "stem:  41%|████      | 20616/50000 [04:37<07:12, 67.88it/s]"
     ]
    },
    {
     "name": "stderr",
     "output_type": "stream",
     "text": [
      "\r",
      "stem:  41%|████      | 20603/50000 [04:37<07:20, 66.69it/s]"
     ]
    },
    {
     "name": "stderr",
     "output_type": "stream",
     "text": [
      "\r",
      "stem:  41%|████      | 20595/50000 [04:37<06:46, 72.35it/s]"
     ]
    },
    {
     "name": "stderr",
     "output_type": "stream",
     "text": [
      "\r",
      "stem:  41%|████      | 20587/50000 [04:36<06:47, 72.15it/s]"
     ]
    },
    {
     "name": "stderr",
     "output_type": "stream",
     "text": [
      "\r",
      "stem:  41%|████      | 20578/50000 [04:36<06:26, 76.22it/s]"
     ]
    },
    {
     "name": "stderr",
     "output_type": "stream",
     "text": [
      "\r",
      "stem:  41%|████      | 20568/50000 [04:36<05:51, 83.66it/s]"
     ]
    },
    {
     "name": "stderr",
     "output_type": "stream",
     "text": [
      "\r",
      "stem:  41%|████      | 20550/50000 [04:36<06:55, 70.89it/s]"
     ]
    },
    {
     "name": "stderr",
     "output_type": "stream",
     "text": [
      "\r",
      "stem:  41%|████      | 20532/50000 [04:36<07:12, 68.11it/s]"
     ]
    },
    {
     "name": "stderr",
     "output_type": "stream",
     "text": [
      "\r",
      "stem:  41%|████      | 20520/50000 [04:36<07:42, 63.79it/s]"
     ]
    },
    {
     "name": "stderr",
     "output_type": "stream",
     "text": [
      "\r",
      "stem:  41%|████      | 20508/50000 [04:36<08:25, 58.38it/s]"
     ]
    },
    {
     "name": "stderr",
     "output_type": "stream",
     "text": [
      "\r",
      "stem:  41%|████      | 20496/50000 [04:35<08:15, 59.54it/s]"
     ]
    },
    {
     "name": "stderr",
     "output_type": "stream",
     "text": [
      "\r",
      "stem:  41%|████      | 20485/50000 [04:35<08:47, 55.98it/s]"
     ]
    },
    {
     "name": "stderr",
     "output_type": "stream",
     "text": [
      "\r",
      "stem:  41%|████      | 20476/50000 [04:35<06:13, 79.10it/s]"
     ]
    },
    {
     "name": "stderr",
     "output_type": "stream",
     "text": [
      "\r",
      "stem:  41%|████      | 20466/50000 [04:35<06:15, 78.72it/s]"
     ]
    },
    {
     "name": "stderr",
     "output_type": "stream",
     "text": [
      "\r",
      "stem:  41%|████      | 20448/50000 [04:35<07:13, 68.12it/s]"
     ]
    },
    {
     "name": "stderr",
     "output_type": "stream",
     "text": [
      "\r",
      "stem:  41%|████      | 20430/50000 [04:34<08:27, 58.29it/s]"
     ]
    },
    {
     "name": "stderr",
     "output_type": "stream",
     "text": [
      "\r",
      "stem:  41%|████      | 20419/50000 [04:34<07:44, 63.67it/s]"
     ]
    },
    {
     "name": "stderr",
     "output_type": "stream",
     "text": [
      "\r",
      "stem:  41%|████      | 20412/50000 [04:34<07:55, 62.22it/s]"
     ]
    },
    {
     "name": "stderr",
     "output_type": "stream",
     "text": [
      "\r",
      "stem:  41%|████      | 20400/50000 [04:34<07:14, 68.17it/s]"
     ]
    },
    {
     "name": "stderr",
     "output_type": "stream",
     "text": [
      "\r",
      "stem:  41%|████      | 20388/50000 [04:34<07:40, 64.26it/s]"
     ]
    },
    {
     "name": "stderr",
     "output_type": "stream",
     "text": [
      "\r",
      "stem:  41%|████      | 20380/50000 [04:34<07:40, 64.38it/s]"
     ]
    },
    {
     "name": "stderr",
     "output_type": "stream",
     "text": [
      "\r",
      "stem:  41%|████      | 20370/50000 [04:33<05:37, 87.72it/s]"
     ]
    },
    {
     "name": "stderr",
     "output_type": "stream",
     "text": [
      "\r",
      "stem:  41%|████      | 20353/50000 [04:33<06:08, 80.52it/s]"
     ]
    },
    {
     "name": "stderr",
     "output_type": "stream",
     "text": [
      "\r",
      "stem:  41%|████      | 20343/50000 [04:33<06:04, 81.46it/s]"
     ]
    },
    {
     "name": "stderr",
     "output_type": "stream",
     "text": [
      "\r",
      "stem:  41%|████      | 20333/50000 [04:33<05:47, 85.27it/s]"
     ]
    },
    {
     "name": "stderr",
     "output_type": "stream",
     "text": [
      "\r",
      "stem:  41%|████      | 20322/50000 [04:33<05:50, 84.57it/s]"
     ]
    },
    {
     "name": "stderr",
     "output_type": "stream",
     "text": [
      "\r",
      "stem:  41%|████      | 20304/50000 [04:33<07:09, 69.19it/s]"
     ]
    },
    {
     "name": "stderr",
     "output_type": "stream",
     "text": [
      "\r",
      "stem:  41%|████      | 20286/50000 [04:33<07:48, 63.41it/s]"
     ]
    },
    {
     "name": "stderr",
     "output_type": "stream",
     "text": [
      "\r",
      "stem:  41%|████      | 20276/50000 [04:32<08:07, 60.97it/s]"
     ]
    },
    {
     "name": "stderr",
     "output_type": "stream",
     "text": [
      "\r",
      "stem:  41%|████      | 20268/50000 [04:32<06:57, 71.29it/s]"
     ]
    },
    {
     "name": "stderr",
     "output_type": "stream",
     "text": [
      "\r",
      "stem:  41%|████      | 20256/50000 [04:32<07:13, 68.58it/s]"
     ]
    },
    {
     "name": "stderr",
     "output_type": "stream",
     "text": [
      "\r",
      "stem:  40%|████      | 20244/50000 [04:32<06:32, 75.84it/s]"
     ]
    },
    {
     "name": "stderr",
     "output_type": "stream",
     "text": [
      "\r",
      "stem:  40%|████      | 20230/50000 [04:32<06:27, 76.88it/s]"
     ]
    },
    {
     "name": "stderr",
     "output_type": "stream",
     "text": [
      "\r",
      "stem:  40%|████      | 20220/50000 [04:31<05:47, 85.73it/s]"
     ]
    },
    {
     "name": "stderr",
     "output_type": "stream",
     "text": [
      "\r",
      "stem:  40%|████      | 20202/50000 [04:31<06:17, 78.83it/s]"
     ]
    },
    {
     "name": "stderr",
     "output_type": "stream",
     "text": [
      "\r",
      "stem:  40%|████      | 20190/50000 [04:31<06:41, 74.25it/s]"
     ]
    },
    {
     "name": "stderr",
     "output_type": "stream",
     "text": [
      "\r",
      "stem:  40%|████      | 20178/50000 [04:31<07:23, 67.22it/s]"
     ]
    },
    {
     "name": "stderr",
     "output_type": "stream",
     "text": [
      "\r",
      "stem:  40%|████      | 20168/50000 [04:31<07:44, 64.17it/s]"
     ]
    },
    {
     "name": "stderr",
     "output_type": "stream",
     "text": [
      "\r",
      "stem:  40%|████      | 20160/50000 [04:31<07:13, 68.87it/s]"
     ]
    },
    {
     "name": "stderr",
     "output_type": "stream",
     "text": [
      "\r",
      "stem:  40%|████      | 20150/50000 [04:31<06:56, 71.60it/s]"
     ]
    },
    {
     "name": "stderr",
     "output_type": "stream",
     "text": [
      "\r",
      "stem:  40%|████      | 20141/50000 [04:30<06:13, 79.94it/s]"
     ]
    },
    {
     "name": "stderr",
     "output_type": "stream",
     "text": [
      "\r",
      "stem:  40%|████      | 20132/50000 [04:30<06:27, 77.18it/s]"
     ]
    },
    {
     "name": "stderr",
     "output_type": "stream",
     "text": [
      "\r",
      "stem:  40%|████      | 20122/50000 [04:30<06:16, 79.27it/s]"
     ]
    },
    {
     "name": "stderr",
     "output_type": "stream",
     "text": [
      "\r",
      "stem:  40%|████      | 20112/50000 [04:30<06:41, 74.43it/s]"
     ]
    },
    {
     "name": "stderr",
     "output_type": "stream",
     "text": [
      "\r",
      "stem:  40%|████      | 20092/50000 [04:30<07:56, 62.79it/s]"
     ]
    },
    {
     "name": "stderr",
     "output_type": "stream",
     "text": [
      "\r",
      "stem:  40%|████      | 20082/50000 [04:30<06:13, 80.18it/s]"
     ]
    },
    {
     "name": "stderr",
     "output_type": "stream",
     "text": [
      "\r",
      "stem:  40%|████      | 20067/50000 [04:30<07:18, 68.31it/s]"
     ]
    },
    {
     "name": "stderr",
     "output_type": "stream",
     "text": [
      "\r",
      "stem:  40%|████      | 20058/50000 [04:29<06:36, 75.45it/s]"
     ]
    },
    {
     "name": "stderr",
     "output_type": "stream",
     "text": [
      "\r",
      "stem:  40%|████      | 20040/50000 [04:29<07:18, 68.30it/s]"
     ]
    },
    {
     "name": "stderr",
     "output_type": "stream",
     "text": [
      "\r",
      "stem:  40%|████      | 20026/50000 [04:29<07:47, 64.07it/s]"
     ]
    },
    {
     "name": "stderr",
     "output_type": "stream",
     "text": [
      "\r",
      "stem:  40%|████      | 20015/50000 [04:29<05:50, 85.44it/s]"
     ]
    },
    {
     "name": "stderr",
     "output_type": "stream",
     "text": [
      "\r",
      "stem:  40%|████      | 20004/50000 [04:29<06:15, 79.84it/s]"
     ]
    },
    {
     "name": "stderr",
     "output_type": "stream",
     "text": [
      "\r",
      "stem:  40%|███▉      | 19986/50000 [04:29<07:41, 65.07it/s]"
     ]
    },
    {
     "name": "stderr",
     "output_type": "stream",
     "text": [
      "\r",
      "stem:  40%|███▉      | 19976/50000 [04:28<07:12, 69.46it/s]"
     ]
    },
    {
     "name": "stderr",
     "output_type": "stream",
     "text": [
      "\r",
      "stem:  40%|███▉      | 19967/50000 [04:28<07:25, 67.46it/s]"
     ]
    },
    {
     "name": "stderr",
     "output_type": "stream",
     "text": [
      "\r",
      "stem:  40%|███▉      | 19956/50000 [04:28<06:25, 77.85it/s]"
     ]
    },
    {
     "name": "stderr",
     "output_type": "stream",
     "text": [
      "\r",
      "stem:  40%|███▉      | 19938/50000 [04:28<07:57, 62.92it/s]"
     ]
    },
    {
     "name": "stderr",
     "output_type": "stream",
     "text": [
      "\r",
      "stem:  40%|███▉      | 19920/50000 [04:28<08:23, 59.73it/s]"
     ]
    },
    {
     "name": "stderr",
     "output_type": "stream",
     "text": [
      "\r",
      "stem:  40%|███▉      | 19912/50000 [04:28<07:26, 67.35it/s]"
     ]
    },
    {
     "name": "stderr",
     "output_type": "stream",
     "text": [
      "\r",
      "stem:  40%|███▉      | 19903/50000 [04:27<06:13, 80.49it/s]"
     ]
    },
    {
     "name": "stderr",
     "output_type": "stream",
     "text": [
      "\r",
      "stem:  40%|███▉      | 19894/50000 [04:27<06:19, 79.38it/s]"
     ]
    },
    {
     "name": "stderr",
     "output_type": "stream",
     "text": [
      "\r",
      "stem:  40%|███▉      | 19884/50000 [04:27<05:36, 89.62it/s]"
     ]
    },
    {
     "name": "stderr",
     "output_type": "stream",
     "text": [
      "\r",
      "stem:  40%|███▉      | 19871/50000 [04:27<05:58, 83.93it/s]"
     ]
    },
    {
     "name": "stderr",
     "output_type": "stream",
     "text": [
      "\r",
      "stem:  40%|███▉      | 19860/50000 [04:27<05:20, 94.09it/s]"
     ]
    },
    {
     "name": "stderr",
     "output_type": "stream",
     "text": [
      "\r",
      "stem:  40%|███▉      | 19843/50000 [04:27<06:19, 79.38it/s]"
     ]
    },
    {
     "name": "stderr",
     "output_type": "stream",
     "text": [
      "\r",
      "stem:  40%|███▉      | 19834/50000 [04:27<05:51, 85.70it/s]"
     ]
    },
    {
     "name": "stderr",
     "output_type": "stream",
     "text": [
      "\r",
      "stem:  40%|███▉      | 19824/50000 [04:26<05:33, 90.56it/s]"
     ]
    },
    {
     "name": "stderr",
     "output_type": "stream",
     "text": [
      "\r",
      "stem:  40%|███▉      | 19811/50000 [04:26<05:45, 87.27it/s]"
     ]
    },
    {
     "name": "stderr",
     "output_type": "stream",
     "text": [
      "\r",
      "stem:  40%|███▉      | 19800/50000 [04:26<05:09, 97.71it/s]"
     ]
    },
    {
     "name": "stderr",
     "output_type": "stream",
     "text": [
      "\r",
      "stem:  40%|███▉      | 19788/50000 [04:26<05:16, 95.45it/s]"
     ]
    },
    {
     "name": "stderr",
     "output_type": "stream",
     "text": [
      "\r",
      "stem:  40%|███▉      | 19776/50000 [04:26<05:15, 95.92it/s]"
     ]
    },
    {
     "name": "stderr",
     "output_type": "stream",
     "text": [
      "\r",
      "stem:  40%|███▉      | 19758/50000 [04:26<05:48, 86.89it/s]"
     ]
    },
    {
     "name": "stderr",
     "output_type": "stream",
     "text": [
      "\r",
      "stem:  39%|███▉      | 19740/50000 [04:26<05:49, 86.53it/s]"
     ]
    },
    {
     "name": "stderr",
     "output_type": "stream",
     "text": [
      "\r",
      "stem:  39%|███▉      | 19728/50000 [04:25<06:07, 82.47it/s]"
     ]
    },
    {
     "name": "stderr",
     "output_type": "stream",
     "text": [
      "\r",
      "stem:  39%|███▉      | 19716/50000 [04:25<05:48, 86.82it/s]"
     ]
    },
    {
     "name": "stderr",
     "output_type": "stream",
     "text": [
      "\r",
      "stem:  39%|███▉      | 19698/50000 [04:25<06:32, 77.12it/s]"
     ]
    },
    {
     "name": "stderr",
     "output_type": "stream",
     "text": [
      "\r",
      "stem:  39%|███▉      | 19686/50000 [04:25<06:57, 72.66it/s]"
     ]
    },
    {
     "name": "stderr",
     "output_type": "stream",
     "text": [
      "\r",
      "stem:  39%|███▉      | 19674/50000 [04:25<07:31, 67.22it/s]"
     ]
    },
    {
     "name": "stderr",
     "output_type": "stream",
     "text": [
      "\r",
      "stem:  39%|███▉      | 19662/50000 [04:25<06:20, 79.63it/s]"
     ]
    },
    {
     "name": "stderr",
     "output_type": "stream",
     "text": [
      "\r",
      "stem:  39%|███▉      | 19638/50000 [04:25<08:03, 62.79it/s]"
     ]
    },
    {
     "name": "stderr",
     "output_type": "stream",
     "text": [
      "\r",
      "stem:  39%|███▉      | 19626/50000 [04:24<07:52, 64.25it/s]"
     ]
    },
    {
     "name": "stderr",
     "output_type": "stream",
     "text": [
      "\r",
      "stem:  39%|███▉      | 19616/50000 [04:24<05:52, 86.26it/s]"
     ]
    },
    {
     "name": "stderr",
     "output_type": "stream",
     "text": [
      "\r",
      "stem:  39%|███▉      | 19606/50000 [04:24<05:46, 87.69it/s]"
     ]
    },
    {
     "name": "stderr",
     "output_type": "stream",
     "text": [
      "\r",
      "stem:  39%|███▉      | 19596/50000 [04:24<05:38, 89.78it/s]"
     ]
    },
    {
     "name": "stderr",
     "output_type": "stream",
     "text": [
      "\r",
      "stem:  39%|███▉      | 19584/50000 [04:24<06:08, 82.64it/s]"
     ]
    },
    {
     "name": "stderr",
     "output_type": "stream",
     "text": [
      "\r",
      "stem:  39%|███▉      | 19570/50000 [04:24<06:42, 75.55it/s]"
     ]
    },
    {
     "name": "stderr",
     "output_type": "stream",
     "text": [
      "\r",
      "stem:  39%|███▉      | 19560/50000 [04:23<05:30, 92.12it/s]"
     ]
    },
    {
     "name": "stderr",
     "output_type": "stream",
     "text": [
      "\r",
      "stem:  39%|███▉      | 19547/50000 [04:23<06:07, 82.81it/s]"
     ]
    },
    {
     "name": "stderr",
     "output_type": "stream",
     "text": [
      "\r",
      "stem:  39%|███▉      | 19537/50000 [04:23<05:52, 86.45it/s]"
     ]
    },
    {
     "name": "stderr",
     "output_type": "stream",
     "text": [
      "\r",
      "stem:  39%|███▉      | 19527/50000 [04:23<05:37, 90.18it/s]"
     ]
    },
    {
     "name": "stderr",
     "output_type": "stream",
     "text": [
      "\r",
      "stem:  39%|███▉      | 19517/50000 [04:23<05:37, 90.20it/s]"
     ]
    },
    {
     "name": "stderr",
     "output_type": "stream",
     "text": [
      "\r",
      "stem:  39%|███▉      | 19506/50000 [04:23<05:33, 91.45it/s]"
     ]
    },
    {
     "name": "stderr",
     "output_type": "stream",
     "text": [
      "\r",
      "stem:  39%|███▉      | 19488/50000 [04:23<06:19, 80.50it/s]"
     ]
    },
    {
     "name": "stderr",
     "output_type": "stream",
     "text": [
      "\r",
      "stem:  39%|███▉      | 19468/50000 [04:23<06:57, 73.16it/s]"
     ]
    },
    {
     "name": "stderr",
     "output_type": "stream",
     "text": [
      "\r",
      "stem:  39%|███▉      | 19458/50000 [04:22<06:26, 78.94it/s]"
     ]
    },
    {
     "name": "stderr",
     "output_type": "stream",
     "text": [
      "\r",
      "stem:  39%|███▉      | 19437/50000 [04:22<07:14, 70.39it/s]"
     ]
    },
    {
     "name": "stderr",
     "output_type": "stream",
     "text": [
      "\r",
      "stem:  39%|███▉      | 19427/50000 [04:22<05:16, 96.65it/s]"
     ]
    },
    {
     "name": "stderr",
     "output_type": "stream",
     "text": [
      "\r",
      "stem:  39%|███▉      | 19416/50000 [04:22<05:18, 95.93it/s]"
     ]
    },
    {
     "name": "stderr",
     "output_type": "stream",
     "text": [
      "\r",
      "stem:  39%|███▉      | 19404/50000 [04:22<05:45, 88.47it/s]"
     ]
    },
    {
     "name": "stderr",
     "output_type": "stream",
     "text": [
      "\r",
      "stem:  39%|███▉      | 19392/50000 [04:22<05:40, 89.87it/s]"
     ]
    },
    {
     "name": "stderr",
     "output_type": "stream",
     "text": [
      "\r",
      "stem:  39%|███▉      | 19380/50000 [04:21<06:15, 81.62it/s]"
     ]
    },
    {
     "name": "stderr",
     "output_type": "stream",
     "text": [
      "\r",
      "stem:  39%|███▊      | 19362/50000 [04:21<06:04, 84.16it/s]"
     ]
    },
    {
     "name": "stderr",
     "output_type": "stream",
     "text": [
      "\r",
      "stem:  39%|███▊      | 19348/50000 [04:21<05:38, 90.47it/s]"
     ]
    },
    {
     "name": "stderr",
     "output_type": "stream",
     "text": [
      "\r",
      "stem:  39%|███▊      | 19338/50000 [04:21<05:32, 92.19it/s]"
     ]
    },
    {
     "name": "stderr",
     "output_type": "stream",
     "text": [
      "\r",
      "stem:  39%|███▊      | 19320/50000 [04:21<06:22, 80.26it/s]"
     ]
    },
    {
     "name": "stderr",
     "output_type": "stream",
     "text": [
      "\r",
      "stem:  39%|███▊      | 19302/50000 [04:21<06:42, 76.20it/s]"
     ]
    },
    {
     "name": "stderr",
     "output_type": "stream",
     "text": [
      "\r",
      "stem:  39%|███▊      | 19280/50000 [04:20<07:03, 72.57it/s]"
     ]
    },
    {
     "name": "stderr",
     "output_type": "stream",
     "text": [
      "\r",
      "stem:  39%|███▊      | 19272/50000 [04:20<07:07, 71.86it/s]"
     ]
    },
    {
     "name": "stderr",
     "output_type": "stream",
     "text": [
      "\r",
      "stem:  39%|███▊      | 19260/50000 [04:20<07:08, 71.82it/s]"
     ]
    },
    {
     "name": "stderr",
     "output_type": "stream",
     "text": [
      "\r",
      "stem:  38%|███▊      | 19248/50000 [04:20<06:33, 78.13it/s]"
     ]
    },
    {
     "name": "stderr",
     "output_type": "stream",
     "text": [
      "\r",
      "stem:  38%|███▊      | 19236/50000 [04:20<07:04, 72.42it/s]"
     ]
    },
    {
     "name": "stderr",
     "output_type": "stream",
     "text": [
      "\r",
      "stem:  38%|███▊      | 19216/50000 [04:20<07:58, 64.32it/s]"
     ]
    },
    {
     "name": "stderr",
     "output_type": "stream",
     "text": [
      "\r",
      "stem:  38%|███▊      | 19208/50000 [04:19<07:48, 65.74it/s]"
     ]
    },
    {
     "name": "stderr",
     "output_type": "stream",
     "text": [
      "\r",
      "stem:  38%|███▊      | 19200/50000 [04:19<08:00, 64.14it/s]"
     ]
    },
    {
     "name": "stderr",
     "output_type": "stream",
     "text": [
      "\r",
      "stem:  38%|███▊      | 19191/50000 [04:19<08:11, 62.63it/s]"
     ]
    },
    {
     "name": "stderr",
     "output_type": "stream",
     "text": [
      "\r",
      "stem:  38%|███▊      | 19182/50000 [04:19<06:21, 80.81it/s]"
     ]
    },
    {
     "name": "stderr",
     "output_type": "stream",
     "text": [
      "\r",
      "stem:  38%|███▊      | 19168/50000 [04:19<06:41, 76.72it/s]"
     ]
    },
    {
     "name": "stderr",
     "output_type": "stream",
     "text": [
      "\r",
      "stem:  38%|███▊      | 19158/50000 [04:19<05:30, 93.43it/s]"
     ]
    },
    {
     "name": "stderr",
     "output_type": "stream",
     "text": [
      "\r",
      "stem:  38%|███▊      | 19140/50000 [04:18<06:00, 85.68it/s]"
     ]
    },
    {
     "name": "stderr",
     "output_type": "stream",
     "text": [
      "\r",
      "stem:  38%|███▊      | 19128/50000 [04:18<06:22, 80.64it/s]"
     ]
    },
    {
     "name": "stderr",
     "output_type": "stream",
     "text": [
      "\r",
      "stem:  38%|███▊      | 19110/50000 [04:18<06:20, 81.26it/s]"
     ]
    },
    {
     "name": "stderr",
     "output_type": "stream",
     "text": [
      "\r",
      "stem:  38%|███▊      | 19098/50000 [04:18<06:26, 79.91it/s]"
     ]
    },
    {
     "name": "stderr",
     "output_type": "stream",
     "text": [
      "\r",
      "stem:  38%|███▊      | 19089/50000 [04:18<06:26, 79.90it/s]"
     ]
    },
    {
     "name": "stderr",
     "output_type": "stream",
     "text": [
      "\r",
      "stem:  38%|███▊      | 19080/50000 [04:18<06:42, 76.80it/s]"
     ]
    },
    {
     "name": "stderr",
     "output_type": "stream",
     "text": [
      "\r",
      "stem:  38%|███▊      | 19062/50000 [04:18<07:41, 67.03it/s]"
     ]
    },
    {
     "name": "stderr",
     "output_type": "stream",
     "text": [
      "\r",
      "stem:  38%|███▊      | 19044/50000 [04:17<08:17, 62.24it/s]"
     ]
    },
    {
     "name": "stderr",
     "output_type": "stream",
     "text": [
      "\r",
      "stem:  38%|███▊      | 19032/50000 [04:17<07:42, 66.98it/s]"
     ]
    },
    {
     "name": "stderr",
     "output_type": "stream",
     "text": [
      "\r",
      "stem:  38%|███▊      | 19020/50000 [04:17<07:36, 67.85it/s]"
     ]
    },
    {
     "name": "stderr",
     "output_type": "stream",
     "text": [
      "\r",
      "stem:  38%|███▊      | 19002/50000 [04:17<08:06, 63.74it/s]"
     ]
    },
    {
     "name": "stderr",
     "output_type": "stream",
     "text": [
      "\r",
      "stem:  38%|███▊      | 18990/50000 [04:17<07:19, 70.52it/s]"
     ]
    },
    {
     "name": "stderr",
     "output_type": "stream",
     "text": [
      "\r",
      "stem:  38%|███▊      | 18978/50000 [04:16<07:56, 65.09it/s]"
     ]
    },
    {
     "name": "stderr",
     "output_type": "stream",
     "text": [
      "\r",
      "stem:  38%|███▊      | 18968/50000 [04:16<07:34, 68.21it/s]"
     ]
    },
    {
     "name": "stderr",
     "output_type": "stream",
     "text": [
      "\r",
      "stem:  38%|███▊      | 18960/50000 [04:16<08:02, 64.39it/s]"
     ]
    },
    {
     "name": "stderr",
     "output_type": "stream",
     "text": [
      "\r",
      "stem:  38%|███▊      | 18944/50000 [04:16<08:57, 57.79it/s]"
     ]
    },
    {
     "name": "stderr",
     "output_type": "stream",
     "text": [
      "\r",
      "stem:  38%|███▊      | 18936/50000 [04:16<08:09, 63.44it/s]"
     ]
    },
    {
     "name": "stderr",
     "output_type": "stream",
     "text": [
      "\r",
      "stem:  38%|███▊      | 18924/50000 [04:16<09:11, 56.32it/s]"
     ]
    },
    {
     "name": "stderr",
     "output_type": "stream",
     "text": [
      "\r",
      "stem:  38%|███▊      | 18912/50000 [04:15<06:35, 78.59it/s]"
     ]
    },
    {
     "name": "stderr",
     "output_type": "stream",
     "text": [
      "\r",
      "stem:  38%|███▊      | 18900/50000 [04:15<07:02, 73.55it/s]"
     ]
    },
    {
     "name": "stderr",
     "output_type": "stream",
     "text": [
      "\r",
      "stem:  38%|███▊      | 18882/50000 [04:15<07:12, 71.90it/s]"
     ]
    },
    {
     "name": "stderr",
     "output_type": "stream",
     "text": [
      "\r",
      "stem:  38%|███▊      | 18870/50000 [04:15<07:50, 66.11it/s]"
     ]
    },
    {
     "name": "stderr",
     "output_type": "stream",
     "text": [
      "\r",
      "stem:  38%|███▊      | 18860/50000 [04:15<06:10, 84.01it/s]"
     ]
    },
    {
     "name": "stderr",
     "output_type": "stream",
     "text": [
      "\r",
      "stem:  38%|███▊      | 18846/50000 [04:14<07:14, 71.73it/s]"
     ]
    },
    {
     "name": "stderr",
     "output_type": "stream",
     "text": [
      "\r",
      "stem:  38%|███▊      | 18834/50000 [04:14<07:45, 67.02it/s]"
     ]
    },
    {
     "name": "stderr",
     "output_type": "stream",
     "text": [
      "\r",
      "stem:  38%|███▊      | 18822/50000 [04:14<07:36, 68.37it/s]"
     ]
    },
    {
     "name": "stderr",
     "output_type": "stream",
     "text": [
      "\r",
      "stem:  38%|███▊      | 18804/50000 [04:14<07:40, 67.70it/s]"
     ]
    },
    {
     "name": "stderr",
     "output_type": "stream",
     "text": [
      "\r",
      "stem:  38%|███▊      | 18788/50000 [04:14<08:28, 61.43it/s]"
     ]
    },
    {
     "name": "stderr",
     "output_type": "stream",
     "text": [
      "\r",
      "stem:  38%|███▊      | 18780/50000 [04:14<07:06, 73.15it/s]"
     ]
    },
    {
     "name": "stderr",
     "output_type": "stream",
     "text": [
      "\r",
      "stem:  38%|███▊      | 18771/50000 [04:13<06:36, 78.71it/s]"
     ]
    },
    {
     "name": "stderr",
     "output_type": "stream",
     "text": [
      "\r",
      "stem:  38%|███▊      | 18762/50000 [04:13<06:18, 82.62it/s]"
     ]
    },
    {
     "name": "stderr",
     "output_type": "stream",
     "text": [
      "\r",
      "stem:  38%|███▊      | 18750/50000 [04:13<06:38, 78.49it/s]"
     ]
    },
    {
     "name": "stderr",
     "output_type": "stream",
     "text": [
      "\r",
      "stem:  37%|███▋      | 18730/50000 [04:13<07:09, 72.73it/s]"
     ]
    },
    {
     "name": "stderr",
     "output_type": "stream",
     "text": [
      "\r",
      "stem:  37%|███▋      | 18720/50000 [04:13<05:59, 87.04it/s]"
     ]
    },
    {
     "name": "stderr",
     "output_type": "stream",
     "text": [
      "\r",
      "stem:  37%|███▋      | 18706/50000 [04:13<06:10, 84.38it/s]"
     ]
    },
    {
     "name": "stderr",
     "output_type": "stream",
     "text": [
      "\r",
      "stem:  37%|███▋      | 18696/50000 [04:12<05:48, 89.76it/s]"
     ]
    },
    {
     "name": "stderr",
     "output_type": "stream",
     "text": [
      "\r",
      "stem:  37%|███▋      | 18678/50000 [04:12<06:48, 76.68it/s]"
     ]
    },
    {
     "name": "stderr",
     "output_type": "stream",
     "text": [
      "\r",
      "stem:  37%|███▋      | 18666/50000 [04:12<06:17, 82.98it/s]"
     ]
    },
    {
     "name": "stderr",
     "output_type": "stream",
     "text": [
      "\r",
      "stem:  37%|███▋      | 18657/50000 [04:12<06:21, 82.19it/s]"
     ]
    },
    {
     "name": "stderr",
     "output_type": "stream",
     "text": [
      "\r",
      "stem:  37%|███▋      | 18648/50000 [04:12<06:24, 81.44it/s]"
     ]
    },
    {
     "name": "stderr",
     "output_type": "stream",
     "text": [
      "\r",
      "stem:  37%|███▋      | 18636/50000 [04:12<06:51, 76.19it/s]"
     ]
    },
    {
     "name": "stderr",
     "output_type": "stream",
     "text": [
      "\r",
      "stem:  37%|███▋      | 18624/50000 [04:12<06:57, 75.08it/s]"
     ]
    },
    {
     "name": "stderr",
     "output_type": "stream",
     "text": [
      "\r",
      "stem:  37%|███▋      | 18612/50000 [04:11<07:05, 73.79it/s]"
     ]
    },
    {
     "name": "stderr",
     "output_type": "stream",
     "text": [
      "\r",
      "stem:  37%|███▋      | 18594/50000 [04:11<07:25, 70.52it/s]"
     ]
    },
    {
     "name": "stderr",
     "output_type": "stream",
     "text": [
      "\r",
      "stem:  37%|███▋      | 18581/50000 [04:11<07:01, 74.48it/s]"
     ]
    },
    {
     "name": "stderr",
     "output_type": "stream",
     "text": [
      "\r",
      "stem:  37%|███▋      | 18573/50000 [04:11<07:13, 72.49it/s]"
     ]
    },
    {
     "name": "stderr",
     "output_type": "stream",
     "text": [
      "\r",
      "stem:  37%|███▋      | 18564/50000 [04:11<06:32, 80.12it/s]"
     ]
    },
    {
     "name": "stderr",
     "output_type": "stream",
     "text": [
      "\r",
      "stem:  37%|███▋      | 18552/50000 [04:11<06:41, 78.29it/s]"
     ]
    },
    {
     "name": "stderr",
     "output_type": "stream",
     "text": [
      "\r",
      "stem:  37%|███▋      | 18540/50000 [04:11<07:39, 68.50it/s]"
     ]
    },
    {
     "name": "stderr",
     "output_type": "stream",
     "text": [
      "\r",
      "stem:  37%|███▋      | 18516/50000 [04:10<08:04, 64.99it/s]"
     ]
    },
    {
     "name": "stderr",
     "output_type": "stream",
     "text": [
      "\r",
      "stem:  37%|███▋      | 18499/50000 [04:10<07:51, 66.87it/s]"
     ]
    },
    {
     "name": "stderr",
     "output_type": "stream",
     "text": [
      "\r",
      "stem:  37%|███▋      | 18491/50000 [04:10<07:47, 67.38it/s]"
     ]
    },
    {
     "name": "stderr",
     "output_type": "stream",
     "text": [
      "\r",
      "stem:  37%|███▋      | 18483/50000 [04:10<08:11, 64.17it/s]"
     ]
    },
    {
     "name": "stderr",
     "output_type": "stream",
     "text": [
      "\r",
      "stem:  37%|███▋      | 18474/50000 [04:10<07:32, 69.66it/s]"
     ]
    },
    {
     "name": "stderr",
     "output_type": "stream",
     "text": [
      "\r",
      "stem:  37%|███▋      | 18462/50000 [04:09<07:50, 67.08it/s]"
     ]
    },
    {
     "name": "stderr",
     "output_type": "stream",
     "text": [
      "\r",
      "stem:  37%|███▋      | 18445/50000 [04:09<09:28, 55.53it/s]"
     ]
    },
    {
     "name": "stderr",
     "output_type": "stream",
     "text": [
      "\r",
      "stem:  37%|███▋      | 18438/50000 [04:09<08:41, 60.55it/s]"
     ]
    },
    {
     "name": "stderr",
     "output_type": "stream",
     "text": [
      "\r",
      "stem:  37%|███▋      | 18426/50000 [04:09<08:10, 64.31it/s]"
     ]
    },
    {
     "name": "stderr",
     "output_type": "stream",
     "text": [
      "\r",
      "stem:  37%|███▋      | 18411/50000 [04:09<08:50, 59.56it/s]"
     ]
    },
    {
     "name": "stderr",
     "output_type": "stream",
     "text": [
      "\r",
      "stem:  37%|███▋      | 18402/50000 [04:09<07:51, 66.98it/s]"
     ]
    },
    {
     "name": "stderr",
     "output_type": "stream",
     "text": [
      "\r",
      "stem:  37%|███▋      | 18386/50000 [04:08<09:26, 55.84it/s]"
     ]
    },
    {
     "name": "stderr",
     "output_type": "stream",
     "text": [
      "\r",
      "stem:  37%|███▋      | 18378/50000 [04:08<07:53, 66.72it/s]"
     ]
    },
    {
     "name": "stderr",
     "output_type": "stream",
     "text": [
      "\r",
      "stem:  37%|███▋      | 18369/50000 [04:08<06:42, 78.68it/s]"
     ]
    },
    {
     "name": "stderr",
     "output_type": "stream",
     "text": [
      "\r",
      "stem:  37%|███▋      | 18360/50000 [04:08<06:17, 83.76it/s]"
     ]
    },
    {
     "name": "stderr",
     "output_type": "stream",
     "text": [
      "\r",
      "stem:  37%|███▋      | 18342/50000 [04:08<06:54, 76.29it/s]"
     ]
    },
    {
     "name": "stderr",
     "output_type": "stream",
     "text": [
      "\r",
      "stem:  37%|███▋      | 18330/50000 [04:08<06:52, 76.82it/s]"
     ]
    },
    {
     "name": "stderr",
     "output_type": "stream",
     "text": [
      "\r",
      "stem:  37%|███▋      | 18320/50000 [04:07<07:05, 74.53it/s]"
     ]
    },
    {
     "name": "stderr",
     "output_type": "stream",
     "text": [
      "\r",
      "stem:  37%|███▋      | 18310/50000 [04:07<06:08, 86.09it/s]"
     ]
    },
    {
     "name": "stderr",
     "output_type": "stream",
     "text": [
      "\r",
      "stem:  37%|███▋      | 18300/50000 [04:07<06:05, 86.80it/s]"
     ]
    },
    {
     "name": "stderr",
     "output_type": "stream",
     "text": [
      "\r",
      "stem:  37%|███▋      | 18288/50000 [04:07<06:48, 77.70it/s]"
     ]
    },
    {
     "name": "stderr",
     "output_type": "stream",
     "text": [
      "\r",
      "stem:  37%|███▋      | 18270/50000 [04:07<07:32, 70.08it/s]"
     ]
    },
    {
     "name": "stderr",
     "output_type": "stream",
     "text": [
      "\r",
      "stem:  37%|███▋      | 18258/50000 [04:07<08:29, 62.35it/s]"
     ]
    },
    {
     "name": "stderr",
     "output_type": "stream",
     "text": [
      "\r",
      "stem:  36%|███▋      | 18246/50000 [04:07<08:46, 60.33it/s]"
     ]
    },
    {
     "name": "stderr",
     "output_type": "stream",
     "text": [
      "\r",
      "stem:  36%|███▋      | 18231/50000 [04:06<07:45, 68.28it/s]"
     ]
    },
    {
     "name": "stderr",
     "output_type": "stream",
     "text": [
      "\r",
      "stem:  36%|███▋      | 18222/50000 [04:06<08:12, 64.51it/s]"
     ]
    },
    {
     "name": "stderr",
     "output_type": "stream",
     "text": [
      "\r",
      "stem:  36%|███▋      | 18200/50000 [04:06<09:48, 54.05it/s]"
     ]
    },
    {
     "name": "stderr",
     "output_type": "stream",
     "text": [
      "\r",
      "stem:  36%|███▋      | 18192/50000 [04:06<07:59, 66.28it/s]"
     ]
    },
    {
     "name": "stderr",
     "output_type": "stream",
     "text": [
      "\r",
      "stem:  36%|███▋      | 18180/50000 [04:06<09:25, 56.28it/s]"
     ]
    },
    {
     "name": "stderr",
     "output_type": "stream",
     "text": [
      "\r",
      "stem:  36%|███▋      | 18156/50000 [04:05<08:56, 59.37it/s]"
     ]
    },
    {
     "name": "stderr",
     "output_type": "stream",
     "text": [
      "\r",
      "stem:  36%|███▋      | 18144/50000 [04:05<07:52, 67.41it/s]"
     ]
    },
    {
     "name": "stderr",
     "output_type": "stream",
     "text": [
      "\r",
      "stem:  36%|███▋      | 18134/50000 [04:05<07:39, 69.31it/s]"
     ]
    },
    {
     "name": "stderr",
     "output_type": "stream",
     "text": [
      "\r",
      "stem:  36%|███▋      | 18126/50000 [04:05<07:23, 71.87it/s]"
     ]
    },
    {
     "name": "stderr",
     "output_type": "stream",
     "text": [
      "\r",
      "stem:  36%|███▌      | 18116/50000 [04:04<06:51, 77.56it/s]"
     ]
    },
    {
     "name": "stderr",
     "output_type": "stream",
     "text": [
      "\r",
      "stem:  36%|███▌      | 18106/50000 [04:04<06:14, 85.24it/s]"
     ]
    },
    {
     "name": "stderr",
     "output_type": "stream",
     "text": [
      "\r",
      "stem:  36%|███▌      | 18096/50000 [04:04<06:25, 82.78it/s]"
     ]
    },
    {
     "name": "stderr",
     "output_type": "stream",
     "text": [
      "\r",
      "stem:  36%|███▌      | 18084/50000 [04:04<06:05, 87.27it/s]"
     ]
    },
    {
     "name": "stderr",
     "output_type": "stream",
     "text": [
      "\r",
      "stem:  36%|███▌      | 18069/50000 [04:04<07:09, 74.33it/s]"
     ]
    },
    {
     "name": "stderr",
     "output_type": "stream",
     "text": [
      "\r",
      "stem:  36%|███▌      | 18060/50000 [04:04<07:10, 74.23it/s]"
     ]
    },
    {
     "name": "stderr",
     "output_type": "stream",
     "text": [
      "\r",
      "stem:  36%|███▌      | 18037/50000 [04:04<08:03, 66.09it/s]"
     ]
    },
    {
     "name": "stderr",
     "output_type": "stream",
     "text": [
      "\r",
      "stem:  36%|███▌      | 18028/50000 [04:03<07:45, 68.69it/s]"
     ]
    },
    {
     "name": "stderr",
     "output_type": "stream",
     "text": [
      "\r",
      "stem:  36%|███▌      | 18018/50000 [04:03<06:25, 83.07it/s]"
     ]
    },
    {
     "name": "stderr",
     "output_type": "stream",
     "text": [
      "\r",
      "stem:  36%|███▌      | 18000/50000 [04:03<07:44, 68.91it/s]"
     ]
    },
    {
     "name": "stderr",
     "output_type": "stream",
     "text": [
      "\r",
      "stem:  36%|███▌      | 17988/50000 [04:03<07:25, 71.87it/s]"
     ]
    },
    {
     "name": "stderr",
     "output_type": "stream",
     "text": [
      "\r",
      "stem:  36%|███▌      | 17976/50000 [04:03<07:12, 73.98it/s]"
     ]
    },
    {
     "name": "stderr",
     "output_type": "stream",
     "text": [
      "\r",
      "stem:  36%|███▌      | 17961/50000 [04:03<08:00, 66.68it/s]"
     ]
    },
    {
     "name": "stderr",
     "output_type": "stream",
     "text": [
      "\r",
      "stem:  36%|███▌      | 17952/50000 [04:02<06:25, 83.05it/s]"
     ]
    },
    {
     "name": "stderr",
     "output_type": "stream",
     "text": [
      "\r",
      "stem:  36%|███▌      | 17940/50000 [04:02<07:15, 73.67it/s]"
     ]
    },
    {
     "name": "stderr",
     "output_type": "stream",
     "text": [
      "\r",
      "stem:  36%|███▌      | 17930/50000 [04:02<07:19, 73.04it/s]"
     ]
    },
    {
     "name": "stderr",
     "output_type": "stream",
     "text": [
      "\r",
      "stem:  36%|███▌      | 17922/50000 [04:02<07:26, 71.90it/s]"
     ]
    },
    {
     "name": "stderr",
     "output_type": "stream",
     "text": [
      "\r",
      "stem:  36%|███▌      | 17912/50000 [04:02<06:22, 83.88it/s]"
     ]
    },
    {
     "name": "stderr",
     "output_type": "stream",
     "text": [
      "\r",
      "stem:  36%|███▌      | 17902/50000 [04:02<06:27, 82.87it/s]"
     ]
    },
    {
     "name": "stderr",
     "output_type": "stream",
     "text": [
      "\r",
      "stem:  36%|███▌      | 17892/50000 [04:02<06:43, 79.65it/s]"
     ]
    },
    {
     "name": "stderr",
     "output_type": "stream",
     "text": [
      "\r",
      "stem:  36%|███▌      | 17878/50000 [04:02<07:19, 73.13it/s]"
     ]
    },
    {
     "name": "stderr",
     "output_type": "stream",
     "text": [
      "\r",
      "stem:  36%|███▌      | 17868/50000 [04:01<07:55, 67.63it/s] "
     ]
    },
    {
     "name": "stderr",
     "output_type": "stream",
     "text": [
      "\r",
      "stem:  36%|███▌      | 17856/50000 [04:01<05:17, 101.35it/s]"
     ]
    },
    {
     "name": "stderr",
     "output_type": "stream",
     "text": [
      "\r",
      "stem:  36%|███▌      | 17838/50000 [04:01<06:09, 87.02it/s]"
     ]
    },
    {
     "name": "stderr",
     "output_type": "stream",
     "text": [
      "\r",
      "stem:  36%|███▌      | 17820/50000 [04:01<06:29, 82.65it/s]"
     ]
    },
    {
     "name": "stderr",
     "output_type": "stream",
     "text": [
      "\r",
      "stem:  36%|███▌      | 17808/50000 [04:01<05:59, 89.64it/s]"
     ]
    },
    {
     "name": "stderr",
     "output_type": "stream",
     "text": [
      "\r",
      "stem:  36%|███▌      | 17788/50000 [04:00<06:16, 85.45it/s]"
     ]
    },
    {
     "name": "stderr",
     "output_type": "stream",
     "text": [
      "\r",
      "stem:  36%|███▌      | 17778/50000 [04:00<06:14, 86.03it/s]"
     ]
    },
    {
     "name": "stderr",
     "output_type": "stream",
     "text": [
      "\r",
      "stem:  36%|███▌      | 17764/50000 [04:00<05:54, 91.04it/s]"
     ]
    },
    {
     "name": "stderr",
     "output_type": "stream",
     "text": [
      "\r",
      "stem:  36%|███▌      | 17754/50000 [04:00<06:04, 88.37it/s]"
     ]
    },
    {
     "name": "stderr",
     "output_type": "stream",
     "text": [
      "\r",
      "stem:  35%|███▌      | 17742/50000 [04:00<06:09, 87.27it/s]"
     ]
    },
    {
     "name": "stderr",
     "output_type": "stream",
     "text": [
      "\r",
      "stem:  35%|███▌      | 17718/50000 [04:00<07:14, 74.28it/s]"
     ]
    },
    {
     "name": "stderr",
     "output_type": "stream",
     "text": [
      "\r",
      "stem:  35%|███▌      | 17694/50000 [04:00<08:04, 66.73it/s]"
     ]
    },
    {
     "name": "stderr",
     "output_type": "stream",
     "text": [
      "\r",
      "stem:  35%|███▌      | 17682/50000 [03:59<07:55, 67.94it/s]"
     ]
    },
    {
     "name": "stderr",
     "output_type": "stream",
     "text": [
      "\r",
      "stem:  35%|███▌      | 17670/50000 [03:59<08:07, 66.36it/s]"
     ]
    },
    {
     "name": "stderr",
     "output_type": "stream",
     "text": [
      "\r",
      "stem:  35%|███▌      | 17658/50000 [03:59<08:55, 60.45it/s]"
     ]
    },
    {
     "name": "stderr",
     "output_type": "stream",
     "text": [
      "\r",
      "stem:  35%|███▌      | 17646/50000 [03:59<07:11, 74.97it/s]"
     ]
    },
    {
     "name": "stderr",
     "output_type": "stream",
     "text": [
      "\r",
      "stem:  35%|███▌      | 17628/50000 [03:59<07:34, 71.18it/s]"
     ]
    },
    {
     "name": "stderr",
     "output_type": "stream",
     "text": [
      "\r",
      "stem:  35%|███▌      | 17619/50000 [03:58<07:30, 71.86it/s]"
     ]
    },
    {
     "name": "stderr",
     "output_type": "stream",
     "text": [
      "\r",
      "stem:  35%|███▌      | 17610/50000 [03:58<06:49, 79.16it/s]"
     ]
    },
    {
     "name": "stderr",
     "output_type": "stream",
     "text": [
      "\r",
      "stem:  35%|███▌      | 17594/50000 [03:58<07:47, 69.27it/s]"
     ]
    },
    {
     "name": "stderr",
     "output_type": "stream",
     "text": [
      "\r",
      "stem:  35%|███▌      | 17586/50000 [03:58<07:32, 71.66it/s]"
     ]
    },
    {
     "name": "stderr",
     "output_type": "stream",
     "text": [
      "\r",
      "stem:  35%|███▌      | 17577/50000 [03:58<07:30, 71.96it/s]"
     ]
    },
    {
     "name": "stderr",
     "output_type": "stream",
     "text": [
      "\r",
      "stem:  35%|███▌      | 17568/50000 [03:58<07:52, 68.67it/s]"
     ]
    },
    {
     "name": "stderr",
     "output_type": "stream",
     "text": [
      "\r",
      "stem:  35%|███▌      | 17556/50000 [03:58<08:56, 60.52it/s]"
     ]
    },
    {
     "name": "stderr",
     "output_type": "stream",
     "text": [
      "\r",
      "stem:  35%|███▌      | 17544/50000 [03:58<10:35, 51.04it/s]"
     ]
    },
    {
     "name": "stderr",
     "output_type": "stream",
     "text": [
      "\r",
      "stem:  35%|███▌      | 17532/50000 [03:57<10:43, 50.48it/s]"
     ]
    },
    {
     "name": "stderr",
     "output_type": "stream",
     "text": [
      "\r",
      "stem:  35%|███▌      | 17523/50000 [03:57<07:11, 75.21it/s]"
     ]
    },
    {
     "name": "stderr",
     "output_type": "stream",
     "text": [
      "\r",
      "stem:  35%|███▌      | 17514/50000 [03:57<07:11, 75.23it/s]"
     ]
    },
    {
     "name": "stderr",
     "output_type": "stream",
     "text": [
      "\r",
      "stem:  35%|███▌      | 17502/50000 [03:57<08:08, 66.58it/s]"
     ]
    },
    {
     "name": "stderr",
     "output_type": "stream",
     "text": [
      "\r",
      "stem:  35%|███▍      | 17488/50000 [03:57<07:55, 68.30it/s]"
     ]
    },
    {
     "name": "stderr",
     "output_type": "stream",
     "text": [
      "\r",
      "stem:  35%|███▍      | 17478/50000 [03:56<06:01, 89.90it/s]"
     ]
    },
    {
     "name": "stderr",
     "output_type": "stream",
     "text": [
      "\r",
      "stem:  35%|███▍      | 17454/50000 [03:56<06:27, 84.07it/s]"
     ]
    },
    {
     "name": "stderr",
     "output_type": "stream",
     "text": [
      "\r",
      "stem:  35%|███▍      | 17442/50000 [03:56<05:28, 99.12it/s]"
     ]
    },
    {
     "name": "stderr",
     "output_type": "stream",
     "text": [
      "\r",
      "stem:  35%|███▍      | 17424/50000 [03:56<06:10, 88.01it/s]"
     ]
    },
    {
     "name": "stderr",
     "output_type": "stream",
     "text": [
      "\r",
      "stem:  35%|███▍      | 17406/50000 [03:56<06:12, 87.42it/s]"
     ]
    },
    {
     "name": "stderr",
     "output_type": "stream",
     "text": [
      "\r",
      "stem:  35%|███▍      | 17394/50000 [03:55<05:54, 92.02it/s]"
     ]
    },
    {
     "name": "stderr",
     "output_type": "stream",
     "text": [
      "\r",
      "stem:  35%|███▍      | 17375/50000 [03:55<06:11, 87.81it/s]"
     ]
    },
    {
     "name": "stderr",
     "output_type": "stream",
     "text": [
      "\r",
      "stem:  35%|███▍      | 17364/50000 [03:55<05:44, 94.74it/s]"
     ]
    },
    {
     "name": "stderr",
     "output_type": "stream",
     "text": [
      "\r",
      "stem:  35%|███▍      | 17351/50000 [03:55<06:00, 90.48it/s]"
     ]
    },
    {
     "name": "stderr",
     "output_type": "stream",
     "text": [
      "\r",
      "stem:  35%|███▍      | 17340/50000 [03:55<06:05, 89.34it/s]"
     ]
    },
    {
     "name": "stderr",
     "output_type": "stream",
     "text": [
      "\r",
      "stem:  35%|███▍      | 17325/50000 [03:55<07:05, 76.88it/s]"
     ]
    },
    {
     "name": "stderr",
     "output_type": "stream",
     "text": [
      "\r",
      "stem:  35%|███▍      | 17316/50000 [03:55<06:55, 78.67it/s]"
     ]
    },
    {
     "name": "stderr",
     "output_type": "stream",
     "text": [
      "\r",
      "stem:  35%|███▍      | 17304/50000 [03:54<07:14, 75.32it/s]"
     ]
    },
    {
     "name": "stderr",
     "output_type": "stream",
     "text": [
      "\r",
      "stem:  35%|███▍      | 17292/50000 [03:54<08:12, 66.43it/s]"
     ]
    },
    {
     "name": "stderr",
     "output_type": "stream",
     "text": [
      "\r",
      "stem:  35%|███▍      | 17280/50000 [03:54<08:03, 67.64it/s]"
     ]
    },
    {
     "name": "stderr",
     "output_type": "stream",
     "text": [
      "\r",
      "stem:  35%|███▍      | 17268/50000 [03:54<09:13, 59.15it/s]"
     ]
    },
    {
     "name": "stderr",
     "output_type": "stream",
     "text": [
      "\r",
      "stem:  35%|███▍      | 17251/50000 [03:54<10:04, 54.17it/s]"
     ]
    },
    {
     "name": "stderr",
     "output_type": "stream",
     "text": [
      "\r",
      "stem:  34%|███▍      | 17243/50000 [03:54<08:18, 65.75it/s]"
     ]
    },
    {
     "name": "stderr",
     "output_type": "stream",
     "text": [
      "\r",
      "stem:  34%|███▍      | 17235/50000 [03:53<07:33, 72.32it/s]"
     ]
    },
    {
     "name": "stderr",
     "output_type": "stream",
     "text": [
      "\r",
      "stem:  34%|███▍      | 17226/50000 [03:53<06:55, 78.97it/s]"
     ]
    },
    {
     "name": "stderr",
     "output_type": "stream",
     "text": [
      "\r",
      "stem:  34%|███▍      | 17211/50000 [03:53<06:45, 80.79it/s]"
     ]
    },
    {
     "name": "stderr",
     "output_type": "stream",
     "text": [
      "\r",
      "stem:  34%|███▍      | 17201/50000 [03:53<06:44, 81.06it/s]"
     ]
    },
    {
     "name": "stderr",
     "output_type": "stream",
     "text": [
      "\r",
      "stem:  34%|███▍      | 17190/50000 [03:53<05:58, 91.40it/s]"
     ]
    },
    {
     "name": "stderr",
     "output_type": "stream",
     "text": [
      "\r",
      "stem:  34%|███▍      | 17172/50000 [03:53<07:10, 76.33it/s]"
     ]
    },
    {
     "name": "stderr",
     "output_type": "stream",
     "text": [
      "\r",
      "stem:  34%|███▍      | 17154/50000 [03:52<06:57, 78.58it/s]"
     ]
    },
    {
     "name": "stderr",
     "output_type": "stream",
     "text": [
      "\r",
      "stem:  34%|███▍      | 17142/50000 [03:52<06:28, 84.65it/s]"
     ]
    },
    {
     "name": "stderr",
     "output_type": "stream",
     "text": [
      "\r",
      "stem:  34%|███▍      | 17130/50000 [03:52<06:29, 84.34it/s]"
     ]
    },
    {
     "name": "stderr",
     "output_type": "stream",
     "text": [
      "\r",
      "stem:  34%|███▍      | 17112/50000 [03:52<07:50, 69.83it/s]"
     ]
    },
    {
     "name": "stderr",
     "output_type": "stream",
     "text": [
      "\r",
      "stem:  34%|███▍      | 17103/50000 [03:52<06:34, 83.37it/s]"
     ]
    },
    {
     "name": "stderr",
     "output_type": "stream",
     "text": [
      "\r",
      "stem:  34%|███▍      | 17094/50000 [03:52<06:41, 81.89it/s]"
     ]
    },
    {
     "name": "stderr",
     "output_type": "stream",
     "text": [
      "\r",
      "stem:  34%|███▍      | 17079/50000 [03:52<06:53, 79.58it/s]"
     ]
    },
    {
     "name": "stderr",
     "output_type": "stream",
     "text": [
      "\r",
      "stem:  34%|███▍      | 17069/50000 [03:51<06:27, 85.05it/s]"
     ]
    },
    {
     "name": "stderr",
     "output_type": "stream",
     "text": [
      "\r",
      "stem:  34%|███▍      | 17058/50000 [03:51<06:15, 87.71it/s]"
     ]
    },
    {
     "name": "stderr",
     "output_type": "stream",
     "text": [
      "\r",
      "stem:  34%|███▍      | 17040/50000 [03:51<07:34, 72.45it/s]"
     ]
    },
    {
     "name": "stderr",
     "output_type": "stream",
     "text": [
      "\r",
      "stem:  34%|███▍      | 17031/50000 [03:51<07:16, 75.47it/s]"
     ]
    },
    {
     "name": "stderr",
     "output_type": "stream",
     "text": [
      "\r",
      "stem:  34%|███▍      | 17022/50000 [03:51<07:42, 71.36it/s]"
     ]
    },
    {
     "name": "stderr",
     "output_type": "stream",
     "text": [
      "\r",
      "stem:  34%|███▍      | 17010/50000 [03:51<07:27, 73.79it/s]"
     ]
    },
    {
     "name": "stderr",
     "output_type": "stream",
     "text": [
      "\r",
      "stem:  34%|███▍      | 16998/50000 [03:51<08:37, 63.72it/s]"
     ]
    },
    {
     "name": "stderr",
     "output_type": "stream",
     "text": [
      "\r",
      "stem:  34%|███▍      | 16983/50000 [03:50<07:51, 70.00it/s]"
     ]
    },
    {
     "name": "stderr",
     "output_type": "stream",
     "text": [
      "\r",
      "stem:  34%|███▍      | 16974/50000 [03:50<08:23, 65.60it/s]"
     ]
    },
    {
     "name": "stderr",
     "output_type": "stream",
     "text": [
      "\r",
      "stem:  34%|███▍      | 16956/50000 [03:50<10:06, 54.48it/s]"
     ]
    },
    {
     "name": "stderr",
     "output_type": "stream",
     "text": [
      "\r",
      "stem:  34%|███▍      | 16944/50000 [03:50<08:12, 67.17it/s]"
     ]
    },
    {
     "name": "stderr",
     "output_type": "stream",
     "text": [
      "\r",
      "stem:  34%|███▍      | 16932/50000 [03:50<08:47, 62.68it/s]"
     ]
    },
    {
     "name": "stderr",
     "output_type": "stream",
     "text": [
      "\r",
      "stem:  34%|███▍      | 16920/50000 [03:50<09:37, 57.28it/s]"
     ]
    },
    {
     "name": "stderr",
     "output_type": "stream",
     "text": [
      "\r",
      "stem:  34%|███▍      | 16902/50000 [03:49<08:08, 67.77it/s]"
     ]
    },
    {
     "name": "stderr",
     "output_type": "stream",
     "text": [
      "\r",
      "stem:  34%|███▍      | 16890/50000 [03:49<08:12, 67.25it/s]"
     ]
    },
    {
     "name": "stderr",
     "output_type": "stream",
     "text": [
      "\r",
      "stem:  34%|███▍      | 16879/50000 [03:49<09:23, 58.78it/s]"
     ]
    },
    {
     "name": "stderr",
     "output_type": "stream",
     "text": [
      "\r",
      "stem:  34%|███▎      | 16872/50000 [03:49<09:15, 59.66it/s]"
     ]
    },
    {
     "name": "stderr",
     "output_type": "stream",
     "text": [
      "\r",
      "stem:  34%|███▎      | 16863/50000 [03:49<09:01, 61.19it/s]"
     ]
    },
    {
     "name": "stderr",
     "output_type": "stream",
     "text": [
      "\r",
      "stem:  34%|███▎      | 16854/50000 [03:48<06:56, 79.61it/s]"
     ]
    },
    {
     "name": "stderr",
     "output_type": "stream",
     "text": [
      "\r",
      "stem:  34%|███▎      | 16843/50000 [03:48<07:16, 75.95it/s]"
     ]
    },
    {
     "name": "stderr",
     "output_type": "stream",
     "text": [
      "\r",
      "stem:  34%|███▎      | 16830/50000 [03:48<08:34, 64.47it/s]"
     ]
    },
    {
     "name": "stderr",
     "output_type": "stream",
     "text": [
      "\r",
      "stem:  34%|███▎      | 16818/50000 [03:48<09:02, 61.18it/s]"
     ]
    },
    {
     "name": "stderr",
     "output_type": "stream",
     "text": [
      "\r",
      "stem:  34%|███▎      | 16808/50000 [03:48<09:37, 57.44it/s]"
     ]
    },
    {
     "name": "stderr",
     "output_type": "stream",
     "text": [
      "\r",
      "stem:  34%|███▎      | 16801/50000 [03:48<10:11, 54.30it/s]"
     ]
    },
    {
     "name": "stderr",
     "output_type": "stream",
     "text": [
      "\r",
      "stem:  34%|███▎      | 16794/50000 [03:48<09:48, 56.41it/s]"
     ]
    },
    {
     "name": "stderr",
     "output_type": "stream",
     "text": [
      "\r",
      "stem:  34%|███▎      | 16777/50000 [03:47<11:37, 47.64it/s]"
     ]
    },
    {
     "name": "stderr",
     "output_type": "stream",
     "text": [
      "\r",
      "stem:  34%|███▎      | 16770/50000 [03:47<10:03, 55.05it/s]"
     ]
    },
    {
     "name": "stderr",
     "output_type": "stream",
     "text": [
      "\r",
      "stem:  34%|███▎      | 16758/50000 [03:47<11:10, 49.59it/s]"
     ]
    },
    {
     "name": "stderr",
     "output_type": "stream",
     "text": [
      "\r",
      "stem:  33%|███▎      | 16747/50000 [03:47<12:02, 46.05it/s]"
     ]
    },
    {
     "name": "stderr",
     "output_type": "stream",
     "text": [
      "\r",
      "stem:  33%|███▎      | 16741/50000 [03:47<12:56, 42.81it/s]"
     ]
    },
    {
     "name": "stderr",
     "output_type": "stream",
     "text": [
      "\r",
      "stem:  33%|███▎      | 16734/50000 [03:46<10:02, 55.25it/s]"
     ]
    },
    {
     "name": "stderr",
     "output_type": "stream",
     "text": [
      "\r",
      "stem:  33%|███▎      | 16725/50000 [03:46<11:06, 49.89it/s]"
     ]
    },
    {
     "name": "stderr",
     "output_type": "stream",
     "text": [
      "\r",
      "stem:  33%|███▎      | 16718/50000 [03:46<09:51, 56.28it/s]"
     ]
    },
    {
     "name": "stderr",
     "output_type": "stream",
     "text": [
      "\r",
      "stem:  33%|███▎      | 16711/50000 [03:46<10:35, 52.35it/s]"
     ]
    },
    {
     "name": "stderr",
     "output_type": "stream",
     "text": [
      "\r",
      "stem:  33%|███▎      | 16704/50000 [03:46<11:39, 47.59it/s]"
     ]
    },
    {
     "name": "stderr",
     "output_type": "stream",
     "text": [
      "\r",
      "stem:  33%|███▎      | 16692/50000 [03:46<13:52, 40.03it/s]"
     ]
    },
    {
     "name": "stderr",
     "output_type": "stream",
     "text": [
      "\r",
      "stem:  33%|███▎      | 16686/50000 [03:46<14:32, 38.16it/s]"
     ]
    },
    {
     "name": "stderr",
     "output_type": "stream",
     "text": [
      "\r",
      "stem:  33%|███▎      | 16662/50000 [03:45<18:11, 30.55it/s]"
     ]
    },
    {
     "name": "stderr",
     "output_type": "stream",
     "text": [
      "\r",
      "stem:  33%|███▎      | 16656/50000 [03:45<12:05, 45.99it/s]"
     ]
    },
    {
     "name": "stderr",
     "output_type": "stream",
     "text": [
      "\r",
      "stem:  33%|███▎      | 16646/50000 [03:45<13:50, 40.16it/s]"
     ]
    },
    {
     "name": "stderr",
     "output_type": "stream",
     "text": [
      "\r",
      "stem:  33%|███▎      | 16639/50000 [03:45<10:47, 51.54it/s]"
     ]
    },
    {
     "name": "stderr",
     "output_type": "stream",
     "text": [
      "\r",
      "stem:  33%|███▎      | 16632/50000 [03:45<11:45, 47.29it/s]"
     ]
    },
    {
     "name": "stderr",
     "output_type": "stream",
     "text": [
      "\r",
      "stem:  33%|███▎      | 16625/50000 [03:44<12:49, 43.40it/s]"
     ]
    },
    {
     "name": "stderr",
     "output_type": "stream",
     "text": [
      "\r",
      "stem:  33%|███▎      | 16618/50000 [03:44<13:53, 40.03it/s]"
     ]
    },
    {
     "name": "stderr",
     "output_type": "stream",
     "text": [
      "\r",
      "stem:  33%|███▎      | 16608/50000 [03:44<06:42, 83.03it/s]"
     ]
    },
    {
     "name": "stderr",
     "output_type": "stream",
     "text": [
      "\r",
      "stem:  33%|███▎      | 16590/50000 [03:44<07:39, 72.66it/s]"
     ]
    },
    {
     "name": "stderr",
     "output_type": "stream",
     "text": [
      "\r",
      "stem:  33%|███▎      | 16572/50000 [03:43<07:50, 71.07it/s]"
     ]
    },
    {
     "name": "stderr",
     "output_type": "stream",
     "text": [
      "\r",
      "stem:  33%|███▎      | 16560/50000 [03:43<07:56, 70.24it/s]"
     ]
    },
    {
     "name": "stderr",
     "output_type": "stream",
     "text": [
      "\r",
      "stem:  33%|███▎      | 16540/50000 [03:43<08:25, 66.19it/s]"
     ]
    },
    {
     "name": "stderr",
     "output_type": "stream",
     "text": [
      "\r",
      "stem:  33%|███▎      | 16530/50000 [03:43<06:18, 88.45it/s]"
     ]
    },
    {
     "name": "stderr",
     "output_type": "stream",
     "text": [
      "\r",
      "stem:  33%|███▎      | 16516/50000 [03:43<06:48, 81.93it/s]"
     ]
    },
    {
     "name": "stderr",
     "output_type": "stream",
     "text": [
      "\r",
      "stem:  33%|███▎      | 16506/50000 [03:42<06:48, 82.03it/s]"
     ]
    },
    {
     "name": "stderr",
     "output_type": "stream",
     "text": [
      "\r",
      "stem:  33%|███▎      | 16488/50000 [03:42<08:12, 68.10it/s]"
     ]
    },
    {
     "name": "stderr",
     "output_type": "stream",
     "text": [
      "\r",
      "stem:  33%|███▎      | 16476/50000 [03:42<08:26, 66.19it/s]"
     ]
    },
    {
     "name": "stderr",
     "output_type": "stream",
     "text": [
      "\r",
      "stem:  33%|███▎      | 16464/50000 [03:42<07:15, 76.96it/s]"
     ]
    },
    {
     "name": "stderr",
     "output_type": "stream",
     "text": [
      "\r",
      "stem:  33%|███▎      | 16452/50000 [03:42<06:13, 89.74it/s]"
     ]
    },
    {
     "name": "stderr",
     "output_type": "stream",
     "text": [
      "\r",
      "stem:  33%|███▎      | 16440/50000 [03:42<06:35, 84.91it/s]"
     ]
    },
    {
     "name": "stderr",
     "output_type": "stream",
     "text": [
      "\r",
      "stem:  33%|███▎      | 16428/50000 [03:41<06:17, 89.01it/s]"
     ]
    },
    {
     "name": "stderr",
     "output_type": "stream",
     "text": [
      "\r",
      "stem:  33%|███▎      | 16416/50000 [03:41<06:19, 88.56it/s]"
     ]
    },
    {
     "name": "stderr",
     "output_type": "stream",
     "text": [
      "\r",
      "stem:  33%|███▎      | 16404/50000 [03:41<06:51, 81.63it/s]"
     ]
    },
    {
     "name": "stderr",
     "output_type": "stream",
     "text": [
      "\r",
      "stem:  33%|███▎      | 16386/50000 [03:41<07:37, 73.54it/s]"
     ]
    },
    {
     "name": "stderr",
     "output_type": "stream",
     "text": [
      "\r",
      "stem:  33%|███▎      | 16374/50000 [03:41<07:03, 79.33it/s]"
     ]
    },
    {
     "name": "stderr",
     "output_type": "stream",
     "text": [
      "\r",
      "stem:  33%|███▎      | 16350/50000 [03:41<07:10, 78.24it/s]"
     ]
    },
    {
     "name": "stderr",
     "output_type": "stream",
     "text": [
      "\r",
      "stem:  33%|███▎      | 16332/50000 [03:40<07:20, 76.42it/s]"
     ]
    },
    {
     "name": "stderr",
     "output_type": "stream",
     "text": [
      "\r",
      "stem:  33%|███▎      | 16320/50000 [03:40<06:49, 82.17it/s]"
     ]
    },
    {
     "name": "stderr",
     "output_type": "stream",
     "text": [
      "\r",
      "stem:  33%|███▎      | 16305/50000 [03:40<06:57, 80.78it/s]"
     ]
    },
    {
     "name": "stderr",
     "output_type": "stream",
     "text": [
      "\r",
      "stem:  33%|███▎      | 16296/50000 [03:40<06:45, 83.10it/s]"
     ]
    },
    {
     "name": "stderr",
     "output_type": "stream",
     "text": [
      "\r",
      "stem:  33%|███▎      | 16281/50000 [03:40<06:38, 84.55it/s]"
     ]
    },
    {
     "name": "stderr",
     "output_type": "stream",
     "text": [
      "\r",
      "stem:  33%|███▎      | 16272/50000 [03:40<06:47, 82.84it/s]"
     ]
    },
    {
     "name": "stderr",
     "output_type": "stream",
     "text": [
      "\r",
      "stem:  33%|███▎      | 16260/50000 [03:39<07:23, 76.10it/s]"
     ]
    },
    {
     "name": "stderr",
     "output_type": "stream",
     "text": [
      "\r",
      "stem:  32%|███▏      | 16248/50000 [03:39<07:22, 76.27it/s]"
     ]
    },
    {
     "name": "stderr",
     "output_type": "stream",
     "text": [
      "\r",
      "stem:  32%|███▏      | 16236/50000 [03:39<07:55, 71.06it/s]"
     ]
    },
    {
     "name": "stderr",
     "output_type": "stream",
     "text": [
      "\r",
      "stem:  32%|███▏      | 16224/50000 [03:39<08:04, 69.72it/s]"
     ]
    },
    {
     "name": "stderr",
     "output_type": "stream",
     "text": [
      "\r",
      "stem:  32%|███▏      | 16212/50000 [03:39<08:11, 68.81it/s]"
     ]
    },
    {
     "name": "stderr",
     "output_type": "stream",
     "text": [
      "\r",
      "stem:  32%|███▏      | 16194/50000 [03:39<09:18, 60.52it/s]"
     ]
    },
    {
     "name": "stderr",
     "output_type": "stream",
     "text": [
      "\r",
      "stem:  32%|███▏      | 16182/50000 [03:38<06:40, 84.52it/s]"
     ]
    },
    {
     "name": "stderr",
     "output_type": "stream",
     "text": [
      "\r",
      "stem:  32%|███▏      | 16171/50000 [03:38<06:42, 84.13it/s]"
     ]
    },
    {
     "name": "stderr",
     "output_type": "stream",
     "text": [
      "\r",
      "stem:  32%|███▏      | 16162/50000 [03:38<06:52, 81.93it/s]"
     ]
    },
    {
     "name": "stderr",
     "output_type": "stream",
     "text": [
      "\r",
      "stem:  32%|███▏      | 16152/50000 [03:38<06:46, 83.21it/s]"
     ]
    },
    {
     "name": "stderr",
     "output_type": "stream",
     "text": [
      "\r",
      "stem:  32%|███▏      | 16134/50000 [03:38<07:46, 72.63it/s]"
     ]
    },
    {
     "name": "stderr",
     "output_type": "stream",
     "text": [
      "\r",
      "stem:  32%|███▏      | 16122/50000 [03:38<08:03, 70.11it/s]"
     ]
    },
    {
     "name": "stderr",
     "output_type": "stream",
     "text": [
      "\r",
      "stem:  32%|███▏      | 16112/50000 [03:38<08:27, 66.71it/s]"
     ]
    },
    {
     "name": "stderr",
     "output_type": "stream",
     "text": [
      "\r",
      "stem:  32%|███▏      | 16104/50000 [03:37<08:43, 64.71it/s]"
     ]
    },
    {
     "name": "stderr",
     "output_type": "stream",
     "text": [
      "\r",
      "stem:  32%|███▏      | 16092/50000 [03:37<10:01, 56.38it/s]"
     ]
    },
    {
     "name": "stderr",
     "output_type": "stream",
     "text": [
      "\r",
      "stem:  32%|███▏      | 16082/50000 [03:37<10:02, 56.34it/s]"
     ]
    },
    {
     "name": "stderr",
     "output_type": "stream",
     "text": [
      "\r",
      "stem:  32%|███▏      | 16072/50000 [03:37<06:05, 92.82it/s]"
     ]
    },
    {
     "name": "stderr",
     "output_type": "stream",
     "text": [
      "\r",
      "stem:  32%|███▏      | 16062/50000 [03:37<06:14, 90.73it/s]"
     ]
    },
    {
     "name": "stderr",
     "output_type": "stream",
     "text": [
      "\r",
      "stem:  32%|███▏      | 16046/50000 [03:37<06:47, 83.42it/s]"
     ]
    },
    {
     "name": "stderr",
     "output_type": "stream",
     "text": [
      "\r",
      "stem:  32%|███▏      | 16036/50000 [03:36<06:25, 88.17it/s]"
     ]
    },
    {
     "name": "stderr",
     "output_type": "stream",
     "text": [
      "\r",
      "stem:  32%|███▏      | 16026/50000 [03:36<06:39, 85.04it/s]"
     ]
    },
    {
     "name": "stderr",
     "output_type": "stream",
     "text": [
      "\r",
      "stem:  32%|███▏      | 16008/50000 [03:36<07:40, 73.76it/s]"
     ]
    },
    {
     "name": "stderr",
     "output_type": "stream",
     "text": [
      "\r",
      "stem:  32%|███▏      | 15996/50000 [03:36<06:28, 87.62it/s]"
     ]
    },
    {
     "name": "stderr",
     "output_type": "stream",
     "text": [
      "\r",
      "stem:  32%|███▏      | 15984/50000 [03:36<06:36, 85.80it/s]"
     ]
    },
    {
     "name": "stderr",
     "output_type": "stream",
     "text": [
      "\r",
      "stem:  32%|███▏      | 15972/50000 [03:36<06:45, 83.85it/s]"
     ]
    },
    {
     "name": "stderr",
     "output_type": "stream",
     "text": [
      "\r",
      "stem:  32%|███▏      | 15954/50000 [03:36<07:42, 73.54it/s]"
     ]
    },
    {
     "name": "stderr",
     "output_type": "stream",
     "text": [
      "\r",
      "stem:  32%|███▏      | 15942/50000 [03:35<07:39, 74.07it/s]"
     ]
    },
    {
     "name": "stderr",
     "output_type": "stream",
     "text": [
      "\r",
      "stem:  32%|███▏      | 15930/50000 [03:35<07:11, 79.02it/s]"
     ]
    },
    {
     "name": "stderr",
     "output_type": "stream",
     "text": [
      "\r",
      "stem:  32%|███▏      | 15918/50000 [03:35<07:27, 76.21it/s]"
     ]
    },
    {
     "name": "stderr",
     "output_type": "stream",
     "text": [
      "\r",
      "stem:  32%|███▏      | 15905/50000 [03:35<06:01, 94.33it/s]"
     ]
    },
    {
     "name": "stderr",
     "output_type": "stream",
     "text": [
      "\r",
      "stem:  32%|███▏      | 15894/50000 [03:35<06:02, 94.05it/s]"
     ]
    },
    {
     "name": "stderr",
     "output_type": "stream",
     "text": [
      "\r",
      "stem:  32%|███▏      | 15876/50000 [03:35<07:04, 80.41it/s]"
     ]
    },
    {
     "name": "stderr",
     "output_type": "stream",
     "text": [
      "\r",
      "stem:  32%|███▏      | 15864/50000 [03:34<06:03, 93.99it/s]"
     ]
    },
    {
     "name": "stderr",
     "output_type": "stream",
     "text": [
      "\r",
      "stem:  32%|███▏      | 15852/50000 [03:34<06:33, 86.87it/s]"
     ]
    },
    {
     "name": "stderr",
     "output_type": "stream",
     "text": [
      "\r",
      "stem:  32%|███▏      | 15834/50000 [03:34<06:28, 88.03it/s]"
     ]
    },
    {
     "name": "stderr",
     "output_type": "stream",
     "text": [
      "\r",
      "stem:  32%|███▏      | 15822/50000 [03:34<06:43, 84.65it/s]"
     ]
    },
    {
     "name": "stderr",
     "output_type": "stream",
     "text": [
      "\r",
      "stem:  32%|███▏      | 15810/50000 [03:34<06:49, 83.50it/s]"
     ]
    },
    {
     "name": "stderr",
     "output_type": "stream",
     "text": [
      "\r",
      "stem:  32%|███▏      | 15798/50000 [03:34<07:40, 74.24it/s]"
     ]
    },
    {
     "name": "stderr",
     "output_type": "stream",
     "text": [
      "\r",
      "stem:  32%|███▏      | 15784/50000 [03:33<06:33, 86.91it/s]"
     ]
    },
    {
     "name": "stderr",
     "output_type": "stream",
     "text": [
      "\r",
      "stem:  32%|███▏      | 15773/50000 [03:33<06:10, 92.31it/s]"
     ]
    },
    {
     "name": "stderr",
     "output_type": "stream",
     "text": [
      "\r",
      "stem:  32%|███▏      | 15762/50000 [03:33<06:20, 89.97it/s]"
     ]
    },
    {
     "name": "stderr",
     "output_type": "stream",
     "text": [
      "\r",
      "stem:  31%|███▏      | 15744/50000 [03:33<07:31, 75.92it/s]"
     ]
    },
    {
     "name": "stderr",
     "output_type": "stream",
     "text": [
      "\r",
      "stem:  31%|███▏      | 15723/50000 [03:33<08:18, 68.80it/s]"
     ]
    },
    {
     "name": "stderr",
     "output_type": "stream",
     "text": [
      "\r",
      "stem:  31%|███▏      | 15713/50000 [03:33<06:22, 89.64it/s]"
     ]
    },
    {
     "name": "stderr",
     "output_type": "stream",
     "text": [
      "\r",
      "stem:  31%|███▏      | 15702/50000 [03:33<05:51, 97.65it/s]"
     ]
    },
    {
     "name": "stderr",
     "output_type": "stream",
     "text": [
      "\r",
      "stem:  31%|███▏      | 15684/50000 [03:32<05:51, 97.73it/s] "
     ]
    },
    {
     "name": "stderr",
     "output_type": "stream",
     "text": [
      "\r",
      "stem:  31%|███▏      | 15672/50000 [03:32<05:27, 104.66it/s]"
     ]
    },
    {
     "name": "stderr",
     "output_type": "stream",
     "text": [
      "\r",
      "stem:  31%|███▏      | 15654/50000 [03:32<06:23, 89.60it/s]"
     ]
    },
    {
     "name": "stderr",
     "output_type": "stream",
     "text": [
      "\r",
      "stem:  31%|███▏      | 15642/50000 [03:32<06:34, 87.12it/s]"
     ]
    },
    {
     "name": "stderr",
     "output_type": "stream",
     "text": [
      "\r",
      "stem:  31%|███▏      | 15630/50000 [03:32<06:52, 83.42it/s]"
     ]
    },
    {
     "name": "stderr",
     "output_type": "stream",
     "text": [
      "\r",
      "stem:  31%|███       | 15612/50000 [03:32<07:19, 78.17it/s]"
     ]
    },
    {
     "name": "stderr",
     "output_type": "stream",
     "text": [
      "\r",
      "stem:  31%|███       | 15597/50000 [03:32<08:09, 70.32it/s]"
     ]
    },
    {
     "name": "stderr",
     "output_type": "stream",
     "text": [
      "\r",
      "stem:  31%|███       | 15588/50000 [03:31<07:20, 78.09it/s]"
     ]
    },
    {
     "name": "stderr",
     "output_type": "stream",
     "text": [
      "\r",
      "stem:  31%|███       | 15570/50000 [03:31<08:03, 71.26it/s]"
     ]
    },
    {
     "name": "stderr",
     "output_type": "stream",
     "text": [
      "\r",
      "stem:  31%|███       | 15558/50000 [03:31<07:32, 76.14it/s]"
     ]
    },
    {
     "name": "stderr",
     "output_type": "stream",
     "text": [
      "\r",
      "stem:  31%|███       | 15546/50000 [03:31<08:17, 69.19it/s]"
     ]
    },
    {
     "name": "stderr",
     "output_type": "stream",
     "text": [
      "\r",
      "stem:  31%|███       | 15534/50000 [03:31<06:41, 85.90it/s]"
     ]
    },
    {
     "name": "stderr",
     "output_type": "stream",
     "text": [
      "\r",
      "stem:  31%|███       | 15516/50000 [03:31<07:42, 74.50it/s]"
     ]
    },
    {
     "name": "stderr",
     "output_type": "stream",
     "text": [
      "\r",
      "stem:  31%|███       | 15504/50000 [03:30<07:57, 72.22it/s]"
     ]
    },
    {
     "name": "stderr",
     "output_type": "stream",
     "text": [
      "\r",
      "stem:  31%|███       | 15492/50000 [03:30<06:13, 92.35it/s]"
     ]
    },
    {
     "name": "stderr",
     "output_type": "stream",
     "text": [
      "\r",
      "stem:  31%|███       | 15480/50000 [03:30<06:49, 84.26it/s]"
     ]
    },
    {
     "name": "stderr",
     "output_type": "stream",
     "text": [
      "\r",
      "stem:  31%|███       | 15468/50000 [03:30<07:35, 75.84it/s]"
     ]
    },
    {
     "name": "stderr",
     "output_type": "stream",
     "text": [
      "\r",
      "stem:  31%|███       | 15444/50000 [03:30<08:43, 66.07it/s]"
     ]
    },
    {
     "name": "stderr",
     "output_type": "stream",
     "text": [
      "\r",
      "stem:  31%|███       | 15430/50000 [03:29<08:31, 67.61it/s]"
     ]
    },
    {
     "name": "stderr",
     "output_type": "stream",
     "text": [
      "\r",
      "stem:  31%|███       | 15420/50000 [03:29<06:38, 86.67it/s]"
     ]
    },
    {
     "name": "stderr",
     "output_type": "stream",
     "text": [
      "\r",
      "stem:  31%|███       | 15396/50000 [03:29<07:43, 74.64it/s]"
     ]
    },
    {
     "name": "stderr",
     "output_type": "stream",
     "text": [
      "\r",
      "stem:  31%|███       | 15384/50000 [03:29<07:09, 80.61it/s]"
     ]
    },
    {
     "name": "stderr",
     "output_type": "stream",
     "text": [
      "\r",
      "stem:  31%|███       | 15372/50000 [03:29<07:17, 79.08it/s]"
     ]
    },
    {
     "name": "stderr",
     "output_type": "stream",
     "text": [
      "\r",
      "stem:  31%|███       | 15348/50000 [03:28<07:55, 72.91it/s]"
     ]
    },
    {
     "name": "stderr",
     "output_type": "stream",
     "text": [
      "\r",
      "stem:  31%|███       | 15334/50000 [03:28<06:32, 88.31it/s]"
     ]
    },
    {
     "name": "stderr",
     "output_type": "stream",
     "text": [
      "\r",
      "stem:  31%|███       | 15324/50000 [03:28<06:22, 90.65it/s]"
     ]
    },
    {
     "name": "stderr",
     "output_type": "stream",
     "text": [
      "\r",
      "stem:  31%|███       | 15312/50000 [03:28<06:45, 85.55it/s]"
     ]
    },
    {
     "name": "stderr",
     "output_type": "stream",
     "text": [
      "\r",
      "stem:  31%|███       | 15300/50000 [03:28<07:11, 80.50it/s]"
     ]
    },
    {
     "name": "stderr",
     "output_type": "stream",
     "text": [
      "\r",
      "stem:  31%|███       | 15282/50000 [03:28<06:47, 85.09it/s]"
     ]
    },
    {
     "name": "stderr",
     "output_type": "stream",
     "text": [
      "\r",
      "stem:  31%|███       | 15270/50000 [03:27<06:20, 91.17it/s]"
     ]
    },
    {
     "name": "stderr",
     "output_type": "stream",
     "text": [
      "\r",
      "stem:  31%|███       | 15252/50000 [03:27<06:51, 84.53it/s]"
     ]
    },
    {
     "name": "stderr",
     "output_type": "stream",
     "text": [
      "\r",
      "stem:  30%|███       | 15238/50000 [03:27<07:22, 78.57it/s]"
     ]
    },
    {
     "name": "stderr",
     "output_type": "stream",
     "text": [
      "\r",
      "stem:  30%|███       | 15227/50000 [03:27<06:24, 90.50it/s]"
     ]
    },
    {
     "name": "stderr",
     "output_type": "stream",
     "text": [
      "\r",
      "stem:  30%|███       | 15216/50000 [03:27<06:07, 94.55it/s]"
     ]
    },
    {
     "name": "stderr",
     "output_type": "stream",
     "text": [
      "\r",
      "stem:  30%|███       | 15198/50000 [03:27<07:06, 81.57it/s]"
     ]
    },
    {
     "name": "stderr",
     "output_type": "stream",
     "text": [
      "\r",
      "stem:  30%|███       | 15174/50000 [03:27<07:58, 72.84it/s]"
     ]
    },
    {
     "name": "stderr",
     "output_type": "stream",
     "text": [
      "\r",
      "stem:  30%|███       | 15164/50000 [03:26<06:48, 85.30it/s]"
     ]
    },
    {
     "name": "stderr",
     "output_type": "stream",
     "text": [
      "\r",
      "stem:  30%|███       | 15154/50000 [03:26<06:49, 85.09it/s]"
     ]
    },
    {
     "name": "stderr",
     "output_type": "stream",
     "text": [
      "\r",
      "stem:  30%|███       | 15143/50000 [03:26<06:09, 94.37it/s]"
     ]
    },
    {
     "name": "stderr",
     "output_type": "stream",
     "text": [
      "\r",
      "stem:  30%|███       | 15132/50000 [03:26<06:30, 89.19it/s]"
     ]
    },
    {
     "name": "stderr",
     "output_type": "stream",
     "text": [
      "\r",
      "stem:  30%|███       | 15108/50000 [03:26<07:42, 75.39it/s]"
     ]
    },
    {
     "name": "stderr",
     "output_type": "stream",
     "text": [
      "\r",
      "stem:  30%|███       | 15096/50000 [03:26<07:13, 80.57it/s]"
     ]
    },
    {
     "name": "stderr",
     "output_type": "stream",
     "text": [
      "\r",
      "stem:  30%|███       | 15078/50000 [03:25<07:48, 74.55it/s]"
     ]
    },
    {
     "name": "stderr",
     "output_type": "stream",
     "text": [
      "\r",
      "stem:  30%|███       | 15056/50000 [03:25<07:55, 73.45it/s]"
     ]
    },
    {
     "name": "stderr",
     "output_type": "stream",
     "text": [
      "\r",
      "stem:  30%|███       | 15048/50000 [03:25<07:59, 72.95it/s]"
     ]
    },
    {
     "name": "stderr",
     "output_type": "stream",
     "text": [
      "\r",
      "stem:  30%|███       | 15036/50000 [03:25<07:48, 74.61it/s]"
     ]
    },
    {
     "name": "stderr",
     "output_type": "stream",
     "text": [
      "\r",
      "stem:  30%|███       | 15018/50000 [03:25<08:56, 65.23it/s]"
     ]
    },
    {
     "name": "stderr",
     "output_type": "stream",
     "text": [
      "\r",
      "stem:  30%|███       | 15006/50000 [03:25<09:44, 59.91it/s]"
     ]
    },
    {
     "name": "stderr",
     "output_type": "stream",
     "text": [
      "\r",
      "stem:  30%|██▉       | 14996/50000 [03:24<09:39, 60.44it/s]"
     ]
    },
    {
     "name": "stderr",
     "output_type": "stream",
     "text": [
      "\r",
      "stem:  30%|██▉       | 14988/50000 [03:24<09:21, 62.36it/s]"
     ]
    },
    {
     "name": "stderr",
     "output_type": "stream",
     "text": [
      "\r",
      "stem:  30%|██▉       | 14979/50000 [03:24<07:03, 82.78it/s]"
     ]
    },
    {
     "name": "stderr",
     "output_type": "stream",
     "text": [
      "\r",
      "stem:  30%|██▉       | 14970/50000 [03:24<07:14, 80.65it/s]"
     ]
    },
    {
     "name": "stderr",
     "output_type": "stream",
     "text": [
      "\r",
      "stem:  30%|██▉       | 14958/50000 [03:24<07:59, 73.02it/s]"
     ]
    },
    {
     "name": "stderr",
     "output_type": "stream",
     "text": [
      "\r",
      "stem:  30%|██▉       | 14946/50000 [03:24<07:45, 75.31it/s]"
     ]
    },
    {
     "name": "stderr",
     "output_type": "stream",
     "text": [
      "\r",
      "stem:  30%|██▉       | 14930/50000 [03:23<08:10, 71.50it/s]"
     ]
    },
    {
     "name": "stderr",
     "output_type": "stream",
     "text": [
      "\r",
      "stem:  30%|██▉       | 14922/50000 [03:23<08:16, 70.71it/s]"
     ]
    },
    {
     "name": "stderr",
     "output_type": "stream",
     "text": [
      "\r",
      "stem:  30%|██▉       | 14910/50000 [03:23<08:53, 65.74it/s]"
     ]
    },
    {
     "name": "stderr",
     "output_type": "stream",
     "text": [
      "\r",
      "stem:  30%|██▉       | 14898/50000 [03:23<09:44, 60.09it/s]"
     ]
    },
    {
     "name": "stderr",
     "output_type": "stream",
     "text": [
      "\r",
      "stem:  30%|██▉       | 14874/50000 [03:23<10:59, 53.27it/s]"
     ]
    },
    {
     "name": "stderr",
     "output_type": "stream",
     "text": [
      "\r",
      "stem:  30%|██▉       | 14863/50000 [03:22<08:06, 72.28it/s]"
     ]
    },
    {
     "name": "stderr",
     "output_type": "stream",
     "text": [
      "\r",
      "stem:  30%|██▉       | 14854/50000 [03:22<07:24, 79.13it/s]"
     ]
    },
    {
     "name": "stderr",
     "output_type": "stream",
     "text": [
      "\r",
      "stem:  30%|██▉       | 14844/50000 [03:22<06:51, 85.47it/s]"
     ]
    },
    {
     "name": "stderr",
     "output_type": "stream",
     "text": [
      "\r",
      "stem:  30%|██▉       | 14830/50000 [03:22<07:41, 76.16it/s]"
     ]
    },
    {
     "name": "stderr",
     "output_type": "stream",
     "text": [
      "\r",
      "stem:  30%|██▉       | 14820/50000 [03:22<06:44, 87.03it/s]"
     ]
    },
    {
     "name": "stderr",
     "output_type": "stream",
     "text": [
      "\r",
      "stem:  30%|██▉       | 14802/50000 [03:22<07:42, 76.05it/s]"
     ]
    },
    {
     "name": "stderr",
     "output_type": "stream",
     "text": [
      "\r",
      "stem:  30%|██▉       | 14778/50000 [03:21<08:21, 70.25it/s]"
     ]
    },
    {
     "name": "stderr",
     "output_type": "stream",
     "text": [
      "\r",
      "stem:  30%|██▉       | 14768/50000 [03:21<08:28, 69.29it/s]"
     ]
    },
    {
     "name": "stderr",
     "output_type": "stream",
     "text": [
      "\r",
      "stem:  30%|██▉       | 14758/50000 [03:21<08:02, 73.03it/s]"
     ]
    },
    {
     "name": "stderr",
     "output_type": "stream",
     "text": [
      "\r",
      "stem:  29%|██▉       | 14748/50000 [03:21<08:34, 68.50it/s]"
     ]
    },
    {
     "name": "stderr",
     "output_type": "stream",
     "text": [
      "\r",
      "stem:  29%|██▉       | 14736/50000 [03:21<06:05, 96.45it/s]"
     ]
    },
    {
     "name": "stderr",
     "output_type": "stream",
     "text": [
      "\r",
      "stem:  29%|██▉       | 14718/50000 [03:21<07:16, 80.78it/s]"
     ]
    },
    {
     "name": "stderr",
     "output_type": "stream",
     "text": [
      "\r",
      "stem:  29%|██▉       | 14700/50000 [03:20<06:57, 84.58it/s]"
     ]
    },
    {
     "name": "stderr",
     "output_type": "stream",
     "text": [
      "\r",
      "stem:  29%|██▉       | 14688/50000 [03:20<07:49, 75.28it/s]"
     ]
    },
    {
     "name": "stderr",
     "output_type": "stream",
     "text": [
      "\r",
      "stem:  29%|██▉       | 14676/50000 [03:20<07:53, 74.61it/s]"
     ]
    },
    {
     "name": "stderr",
     "output_type": "stream",
     "text": [
      "\r",
      "stem:  29%|██▉       | 14664/50000 [03:20<09:09, 64.29it/s]"
     ]
    },
    {
     "name": "stderr",
     "output_type": "stream",
     "text": [
      "\r",
      "stem:  29%|██▉       | 14655/50000 [03:20<07:58, 73.83it/s]"
     ]
    },
    {
     "name": "stderr",
     "output_type": "stream",
     "text": [
      "\r",
      "stem:  29%|██▉       | 14647/50000 [03:20<07:52, 74.81it/s]"
     ]
    },
    {
     "name": "stderr",
     "output_type": "stream",
     "text": [
      "\r",
      "stem:  29%|██▉       | 14638/50000 [03:20<07:03, 83.60it/s]"
     ]
    },
    {
     "name": "stderr",
     "output_type": "stream",
     "text": [
      "\r",
      "stem:  29%|██▉       | 14628/50000 [03:19<06:33, 89.96it/s]"
     ]
    },
    {
     "name": "stderr",
     "output_type": "stream",
     "text": [
      "\r",
      "stem:  29%|██▉       | 14610/50000 [03:19<06:52, 85.82it/s]"
     ]
    },
    {
     "name": "stderr",
     "output_type": "stream",
     "text": [
      "\r",
      "stem:  29%|██▉       | 14598/50000 [03:19<06:53, 85.57it/s]"
     ]
    },
    {
     "name": "stderr",
     "output_type": "stream",
     "text": [
      "\r",
      "stem:  29%|██▉       | 14586/50000 [03:19<06:43, 87.82it/s]"
     ]
    },
    {
     "name": "stderr",
     "output_type": "stream",
     "text": [
      "\r",
      "stem:  29%|██▉       | 14574/50000 [03:19<07:13, 81.81it/s]"
     ]
    },
    {
     "name": "stderr",
     "output_type": "stream",
     "text": [
      "\r",
      "stem:  29%|██▉       | 14556/50000 [03:19<07:34, 78.02it/s]"
     ]
    },
    {
     "name": "stderr",
     "output_type": "stream",
     "text": [
      "\r",
      "stem:  29%|██▉       | 14544/50000 [03:19<08:11, 72.20it/s]"
     ]
    },
    {
     "name": "stderr",
     "output_type": "stream",
     "text": [
      "\r",
      "stem:  29%|██▉       | 14532/50000 [03:18<07:14, 81.56it/s]"
     ]
    },
    {
     "name": "stderr",
     "output_type": "stream",
     "text": [
      "\r",
      "stem:  29%|██▉       | 14522/50000 [03:18<07:35, 77.91it/s]"
     ]
    },
    {
     "name": "stderr",
     "output_type": "stream",
     "text": [
      "\r",
      "stem:  29%|██▉       | 14513/50000 [03:18<07:14, 81.64it/s]"
     ]
    },
    {
     "name": "stderr",
     "output_type": "stream",
     "text": [
      "\r",
      "stem:  29%|██▉       | 14502/50000 [03:18<06:18, 93.71it/s]"
     ]
    },
    {
     "name": "stderr",
     "output_type": "stream",
     "text": [
      "\r",
      "stem:  29%|██▉       | 14490/50000 [03:18<06:02, 97.95it/s]"
     ]
    },
    {
     "name": "stderr",
     "output_type": "stream",
     "text": [
      "\r",
      "stem:  29%|██▉       | 14472/50000 [03:18<07:01, 84.22it/s]"
     ]
    },
    {
     "name": "stderr",
     "output_type": "stream",
     "text": [
      "\r",
      "stem:  29%|██▉       | 14460/50000 [03:18<07:08, 82.87it/s]"
     ]
    },
    {
     "name": "stderr",
     "output_type": "stream",
     "text": [
      "\r",
      "stem:  29%|██▉       | 14448/50000 [03:17<07:40, 77.23it/s]"
     ]
    },
    {
     "name": "stderr",
     "output_type": "stream",
     "text": [
      "\r",
      "stem:  29%|██▉       | 14432/50000 [03:17<08:13, 72.09it/s]"
     ]
    },
    {
     "name": "stderr",
     "output_type": "stream",
     "text": [
      "\r",
      "stem:  29%|██▉       | 14424/50000 [03:17<08:16, 71.67it/s]"
     ]
    },
    {
     "name": "stderr",
     "output_type": "stream",
     "text": [
      "\r",
      "stem:  29%|██▉       | 14412/50000 [03:17<08:09, 72.75it/s]"
     ]
    },
    {
     "name": "stderr",
     "output_type": "stream",
     "text": [
      "\r",
      "stem:  29%|██▉       | 14400/50000 [03:17<08:15, 71.84it/s]"
     ]
    },
    {
     "name": "stderr",
     "output_type": "stream",
     "text": [
      "\r",
      "stem:  29%|██▉       | 14386/50000 [03:17<07:43, 76.83it/s]"
     ]
    },
    {
     "name": "stderr",
     "output_type": "stream",
     "text": [
      "\r",
      "stem:  29%|██▉       | 14377/50000 [03:16<08:01, 73.96it/s]"
     ]
    },
    {
     "name": "stderr",
     "output_type": "stream",
     "text": [
      "\r",
      "stem:  29%|██▊       | 14368/50000 [03:16<08:13, 72.24it/s]"
     ]
    },
    {
     "name": "stderr",
     "output_type": "stream",
     "text": [
      "\r",
      "stem:  29%|██▊       | 14358/50000 [03:16<06:19, 93.87it/s]"
     ]
    },
    {
     "name": "stderr",
     "output_type": "stream",
     "text": [
      "\r",
      "stem:  29%|██▊       | 14340/50000 [03:16<06:58, 85.14it/s]"
     ]
    },
    {
     "name": "stderr",
     "output_type": "stream",
     "text": [
      "\r",
      "stem:  29%|██▊       | 14322/50000 [03:16<07:12, 82.54it/s]"
     ]
    },
    {
     "name": "stderr",
     "output_type": "stream",
     "text": [
      "\r",
      "stem:  29%|██▊       | 14310/50000 [03:16<07:30, 79.29it/s]"
     ]
    },
    {
     "name": "stderr",
     "output_type": "stream",
     "text": [
      "\r",
      "stem:  29%|██▊       | 14292/50000 [03:15<08:03, 73.89it/s]"
     ]
    },
    {
     "name": "stderr",
     "output_type": "stream",
     "text": [
      "\r",
      "stem:  29%|██▊       | 14283/50000 [03:15<08:25, 70.64it/s]"
     ]
    },
    {
     "name": "stderr",
     "output_type": "stream",
     "text": [
      "\r",
      "stem:  29%|██▊       | 14274/50000 [03:15<07:41, 77.36it/s]"
     ]
    },
    {
     "name": "stderr",
     "output_type": "stream",
     "text": [
      "\r",
      "stem:  29%|██▊       | 14259/50000 [03:15<08:35, 69.38it/s]"
     ]
    },
    {
     "name": "stderr",
     "output_type": "stream",
     "text": [
      "\r",
      "stem:  28%|██▊       | 14250/50000 [03:15<07:33, 78.82it/s]"
     ]
    },
    {
     "name": "stderr",
     "output_type": "stream",
     "text": [
      "\r",
      "stem:  28%|██▊       | 14238/50000 [03:15<07:36, 78.30it/s]"
     ]
    },
    {
     "name": "stderr",
     "output_type": "stream",
     "text": [
      "\r",
      "stem:  28%|██▊       | 14220/50000 [03:15<07:55, 75.20it/s]"
     ]
    },
    {
     "name": "stderr",
     "output_type": "stream",
     "text": [
      "\r",
      "stem:  28%|██▊       | 14200/50000 [03:14<08:08, 73.33it/s]"
     ]
    },
    {
     "name": "stderr",
     "output_type": "stream",
     "text": [
      "\r",
      "stem:  28%|██▊       | 14190/50000 [03:14<06:53, 86.59it/s]"
     ]
    },
    {
     "name": "stderr",
     "output_type": "stream",
     "text": [
      "\r",
      "stem:  28%|██▊       | 14172/50000 [03:14<08:01, 74.43it/s]"
     ]
    },
    {
     "name": "stderr",
     "output_type": "stream",
     "text": [
      "\r",
      "stem:  28%|██▊       | 14154/50000 [03:14<07:32, 79.30it/s]"
     ]
    },
    {
     "name": "stderr",
     "output_type": "stream",
     "text": [
      "\r",
      "stem:  28%|██▊       | 14143/50000 [03:14<08:13, 72.61it/s]"
     ]
    },
    {
     "name": "stderr",
     "output_type": "stream",
     "text": [
      "\r",
      "stem:  28%|██▊       | 14133/50000 [03:13<06:40, 89.48it/s]"
     ]
    },
    {
     "name": "stderr",
     "output_type": "stream",
     "text": [
      "\r",
      "stem:  28%|██▊       | 14123/50000 [03:13<06:47, 88.09it/s]"
     ]
    },
    {
     "name": "stderr",
     "output_type": "stream",
     "text": [
      "\r",
      "stem:  28%|██▊       | 14112/50000 [03:13<06:30, 91.97it/s]"
     ]
    },
    {
     "name": "stderr",
     "output_type": "stream",
     "text": [
      "\r",
      "stem:  28%|██▊       | 14094/50000 [03:13<07:33, 79.15it/s]"
     ]
    },
    {
     "name": "stderr",
     "output_type": "stream",
     "text": [
      "\r",
      "stem:  28%|██▊       | 14082/50000 [03:13<06:58, 85.77it/s]"
     ]
    },
    {
     "name": "stderr",
     "output_type": "stream",
     "text": [
      "\r",
      "stem:  28%|██▊       | 14070/50000 [03:13<07:46, 76.96it/s]"
     ]
    },
    {
     "name": "stderr",
     "output_type": "stream",
     "text": [
      "\r",
      "stem:  28%|██▊       | 14056/50000 [03:13<07:36, 78.74it/s]"
     ]
    },
    {
     "name": "stderr",
     "output_type": "stream",
     "text": [
      "\r",
      "stem:  28%|██▊       | 14046/50000 [03:12<07:36, 78.70it/s]"
     ]
    },
    {
     "name": "stderr",
     "output_type": "stream",
     "text": [
      "\r",
      "stem:  28%|██▊       | 14031/50000 [03:12<09:08, 65.54it/s]"
     ]
    },
    {
     "name": "stderr",
     "output_type": "stream",
     "text": [
      "\r",
      "stem:  28%|██▊       | 14022/50000 [03:12<06:51, 87.37it/s]"
     ]
    },
    {
     "name": "stderr",
     "output_type": "stream",
     "text": [
      "\r",
      "stem:  28%|██▊       | 14004/50000 [03:12<07:09, 83.82it/s]"
     ]
    },
    {
     "name": "stderr",
     "output_type": "stream",
     "text": [
      "\r",
      "stem:  28%|██▊       | 13994/50000 [03:12<06:47, 88.47it/s]"
     ]
    },
    {
     "name": "stderr",
     "output_type": "stream",
     "text": [
      "\r",
      "stem:  28%|██▊       | 13984/50000 [03:12<06:38, 90.47it/s]"
     ]
    },
    {
     "name": "stderr",
     "output_type": "stream",
     "text": [
      "\r",
      "stem:  28%|██▊       | 13973/50000 [03:12<06:13, 96.55it/s]"
     ]
    },
    {
     "name": "stderr",
     "output_type": "stream",
     "text": [
      "\r",
      "stem:  28%|██▊       | 13962/50000 [03:11<06:31, 92.08it/s]"
     ]
    },
    {
     "name": "stderr",
     "output_type": "stream",
     "text": [
      "\r",
      "stem:  28%|██▊       | 13944/50000 [03:11<07:19, 82.06it/s]"
     ]
    },
    {
     "name": "stderr",
     "output_type": "stream",
     "text": [
      "\r",
      "stem:  28%|██▊       | 13930/50000 [03:11<07:48, 76.93it/s]"
     ]
    },
    {
     "name": "stderr",
     "output_type": "stream",
     "text": [
      "\r",
      "stem:  28%|██▊       | 13920/50000 [03:11<06:38, 90.47it/s]"
     ]
    },
    {
     "name": "stderr",
     "output_type": "stream",
     "text": [
      "\r",
      "stem:  28%|██▊       | 13908/50000 [03:11<06:49, 88.21it/s]"
     ]
    },
    {
     "name": "stderr",
     "output_type": "stream",
     "text": [
      "\r",
      "stem:  28%|██▊       | 13896/50000 [03:11<07:02, 85.40it/s]"
     ]
    },
    {
     "name": "stderr",
     "output_type": "stream",
     "text": [
      "\r",
      "stem:  28%|██▊       | 13884/50000 [03:11<07:54, 76.10it/s]"
     ]
    },
    {
     "name": "stderr",
     "output_type": "stream",
     "text": [
      "\r",
      "stem:  28%|██▊       | 13872/50000 [03:10<07:56, 75.90it/s]"
     ]
    },
    {
     "name": "stderr",
     "output_type": "stream",
     "text": [
      "\r",
      "stem:  28%|██▊       | 13861/50000 [03:10<06:34, 91.68it/s]"
     ]
    },
    {
     "name": "stderr",
     "output_type": "stream",
     "text": [
      "\r",
      "stem:  28%|██▊       | 13848/50000 [03:10<07:24, 81.40it/s]"
     ]
    },
    {
     "name": "stderr",
     "output_type": "stream",
     "text": [
      "\r",
      "stem:  28%|██▊       | 13833/50000 [03:10<08:00, 75.25it/s]"
     ]
    },
    {
     "name": "stderr",
     "output_type": "stream",
     "text": [
      "\r",
      "stem:  28%|██▊       | 13823/50000 [03:10<07:08, 84.38it/s]"
     ]
    },
    {
     "name": "stderr",
     "output_type": "stream",
     "text": [
      "\r",
      "stem:  28%|██▊       | 13812/50000 [03:10<06:47, 88.79it/s]"
     ]
    },
    {
     "name": "stderr",
     "output_type": "stream",
     "text": [
      "\r",
      "stem:  28%|██▊       | 13794/50000 [03:10<08:13, 73.42it/s]"
     ]
    },
    {
     "name": "stderr",
     "output_type": "stream",
     "text": [
      "\r",
      "stem:  28%|██▊       | 13782/50000 [03:09<08:40, 69.52it/s]"
     ]
    },
    {
     "name": "stderr",
     "output_type": "stream",
     "text": [
      "\r",
      "stem:  28%|██▊       | 13769/50000 [03:09<07:49, 77.22it/s]"
     ]
    },
    {
     "name": "stderr",
     "output_type": "stream",
     "text": [
      "\r",
      "stem:  28%|██▊       | 13758/50000 [03:09<06:20, 95.16it/s]"
     ]
    },
    {
     "name": "stderr",
     "output_type": "stream",
     "text": [
      "\r",
      "stem:  27%|██▋       | 13740/50000 [03:09<07:28, 80.79it/s]"
     ]
    },
    {
     "name": "stderr",
     "output_type": "stream",
     "text": [
      "\r",
      "stem:  27%|██▋       | 13716/50000 [03:09<08:10, 74.04it/s]"
     ]
    },
    {
     "name": "stderr",
     "output_type": "stream",
     "text": [
      "\r",
      "stem:  27%|██▋       | 13704/50000 [03:08<07:19, 82.63it/s]"
     ]
    },
    {
     "name": "stderr",
     "output_type": "stream",
     "text": [
      "\r",
      "stem:  27%|██▋       | 13686/50000 [03:08<08:00, 75.59it/s]"
     ]
    },
    {
     "name": "stderr",
     "output_type": "stream",
     "text": [
      "\r",
      "stem:  27%|██▋       | 13674/50000 [03:08<07:37, 79.42it/s]"
     ]
    },
    {
     "name": "stderr",
     "output_type": "stream",
     "text": [
      "\r",
      "stem:  27%|██▋       | 13656/50000 [03:08<07:06, 85.12it/s]"
     ]
    },
    {
     "name": "stderr",
     "output_type": "stream",
     "text": [
      "\r",
      "stem:  27%|██▋       | 13642/50000 [03:08<06:52, 88.15it/s]"
     ]
    },
    {
     "name": "stderr",
     "output_type": "stream",
     "text": [
      "\r",
      "stem:  27%|██▋       | 13632/50000 [03:08<06:38, 91.18it/s]"
     ]
    },
    {
     "name": "stderr",
     "output_type": "stream",
     "text": [
      "\r",
      "stem:  27%|██▋       | 13620/50000 [03:07<07:12, 84.13it/s]"
     ]
    },
    {
     "name": "stderr",
     "output_type": "stream",
     "text": [
      "\r",
      "stem:  27%|██▋       | 13608/50000 [03:07<06:45, 89.85it/s]"
     ]
    },
    {
     "name": "stderr",
     "output_type": "stream",
     "text": [
      "\r",
      "stem:  27%|██▋       | 13584/50000 [03:07<06:54, 87.88it/s]"
     ]
    },
    {
     "name": "stderr",
     "output_type": "stream",
     "text": [
      "\r",
      "stem:  27%|██▋       | 13566/50000 [03:07<06:40, 91.01it/s]"
     ]
    },
    {
     "name": "stderr",
     "output_type": "stream",
     "text": [
      "\r",
      "stem:  27%|██▋       | 13554/50000 [03:07<06:16, 96.88it/s]"
     ]
    },
    {
     "name": "stderr",
     "output_type": "stream",
     "text": [
      "\r",
      "stem:  27%|██▋       | 13536/50000 [03:07<06:51, 88.72it/s]"
     ]
    },
    {
     "name": "stderr",
     "output_type": "stream",
     "text": [
      "\r",
      "stem:  27%|██▋       | 13524/50000 [03:06<06:15, 97.23it/s]"
     ]
    },
    {
     "name": "stderr",
     "output_type": "stream",
     "text": [
      "\r",
      "stem:  27%|██▋       | 13512/50000 [03:06<06:44, 90.23it/s]"
     ]
    },
    {
     "name": "stderr",
     "output_type": "stream",
     "text": [
      "\r",
      "stem:  27%|██▋       | 13494/50000 [03:06<08:04, 75.37it/s]"
     ]
    },
    {
     "name": "stderr",
     "output_type": "stream",
     "text": [
      "\r",
      "stem:  27%|██▋       | 13482/50000 [03:06<08:13, 74.01it/s]"
     ]
    },
    {
     "name": "stderr",
     "output_type": "stream",
     "text": [
      "\r",
      "stem:  27%|██▋       | 13470/50000 [03:06<06:11, 98.28it/s]"
     ]
    },
    {
     "name": "stderr",
     "output_type": "stream",
     "text": [
      "\r",
      "stem:  27%|██▋       | 13452/50000 [03:06<07:06, 85.77it/s] "
     ]
    },
    {
     "name": "stderr",
     "output_type": "stream",
     "text": [
      "\r",
      "stem:  27%|██▋       | 13440/50000 [03:05<05:38, 107.94it/s]"
     ]
    },
    {
     "name": "stderr",
     "output_type": "stream",
     "text": [
      "\r",
      "stem:  27%|██▋       | 13422/50000 [03:05<06:16, 97.09it/s]"
     ]
    },
    {
     "name": "stderr",
     "output_type": "stream",
     "text": [
      "\r",
      "stem:  27%|██▋       | 13404/50000 [03:05<06:28, 94.16it/s]"
     ]
    },
    {
     "name": "stderr",
     "output_type": "stream",
     "text": [
      "\r",
      "stem:  27%|██▋       | 13386/50000 [03:05<07:33, 80.76it/s]"
     ]
    },
    {
     "name": "stderr",
     "output_type": "stream",
     "text": [
      "\r",
      "stem:  27%|██▋       | 13374/50000 [03:05<07:10, 85.02it/s]"
     ]
    },
    {
     "name": "stderr",
     "output_type": "stream",
     "text": [
      "\r",
      "stem:  27%|██▋       | 13362/50000 [03:05<07:39, 79.67it/s]"
     ]
    },
    {
     "name": "stderr",
     "output_type": "stream",
     "text": [
      "\r",
      "stem:  27%|██▋       | 13348/50000 [03:05<06:52, 88.80it/s]"
     ]
    },
    {
     "name": "stderr",
     "output_type": "stream",
     "text": [
      "\r",
      "stem:  27%|██▋       | 13338/50000 [03:04<07:08, 85.64it/s]"
     ]
    },
    {
     "name": "stderr",
     "output_type": "stream",
     "text": [
      "\r",
      "stem:  27%|██▋       | 13320/50000 [03:04<07:56, 77.05it/s]"
     ]
    },
    {
     "name": "stderr",
     "output_type": "stream",
     "text": [
      "\r",
      "stem:  27%|██▋       | 13306/50000 [03:04<07:26, 82.16it/s] "
     ]
    },
    {
     "name": "stderr",
     "output_type": "stream",
     "text": [
      "\r",
      "stem:  27%|██▋       | 13295/50000 [03:04<06:00, 101.76it/s]"
     ]
    },
    {
     "name": "stderr",
     "output_type": "stream",
     "text": [
      "\r",
      "stem:  27%|██▋       | 13284/50000 [03:04<06:07, 99.93it/s]"
     ]
    },
    {
     "name": "stderr",
     "output_type": "stream",
     "text": [
      "\r",
      "stem:  27%|██▋       | 13266/50000 [03:04<07:04, 86.46it/s]"
     ]
    },
    {
     "name": "stderr",
     "output_type": "stream",
     "text": [
      "\r",
      "stem:  26%|██▋       | 13248/50000 [03:03<07:16, 84.11it/s]"
     ]
    },
    {
     "name": "stderr",
     "output_type": "stream",
     "text": [
      "\r",
      "stem:  26%|██▋       | 13234/50000 [03:03<07:16, 84.21it/s]"
     ]
    },
    {
     "name": "stderr",
     "output_type": "stream",
     "text": [
      "\r",
      "stem:  26%|██▋       | 13224/50000 [03:03<06:43, 91.05it/s]"
     ]
    },
    {
     "name": "stderr",
     "output_type": "stream",
     "text": [
      "\r",
      "stem:  26%|██▋       | 13212/50000 [03:03<07:02, 86.99it/s]"
     ]
    },
    {
     "name": "stderr",
     "output_type": "stream",
     "text": [
      "\r",
      "stem:  26%|██▋       | 13194/50000 [03:03<07:15, 84.42it/s]"
     ]
    },
    {
     "name": "stderr",
     "output_type": "stream",
     "text": [
      "\r",
      "stem:  26%|██▋       | 13182/50000 [03:03<07:28, 82.17it/s]"
     ]
    },
    {
     "name": "stderr",
     "output_type": "stream",
     "text": [
      "\r",
      "stem:  26%|██▋       | 13164/50000 [03:02<07:41, 79.90it/s]"
     ]
    },
    {
     "name": "stderr",
     "output_type": "stream",
     "text": [
      "\r",
      "stem:  26%|██▋       | 13146/50000 [03:02<08:23, 73.13it/s]"
     ]
    },
    {
     "name": "stderr",
     "output_type": "stream",
     "text": [
      "\r",
      "stem:  26%|██▋       | 13134/50000 [03:02<08:05, 75.86it/s]"
     ]
    },
    {
     "name": "stderr",
     "output_type": "stream",
     "text": [
      "\r",
      "stem:  26%|██▌       | 13122/50000 [03:02<08:42, 70.60it/s]"
     ]
    },
    {
     "name": "stderr",
     "output_type": "stream",
     "text": [
      "\r",
      "stem:  26%|██▌       | 13110/50000 [03:02<08:20, 73.76it/s]"
     ]
    },
    {
     "name": "stderr",
     "output_type": "stream",
     "text": [
      "\r",
      "stem:  26%|██▌       | 13101/50000 [03:02<08:07, 75.71it/s]"
     ]
    },
    {
     "name": "stderr",
     "output_type": "stream",
     "text": [
      "\r",
      "stem:  26%|██▌       | 13092/50000 [03:02<07:24, 82.97it/s]"
     ]
    },
    {
     "name": "stderr",
     "output_type": "stream",
     "text": [
      "\r",
      "stem:  26%|██▌       | 13080/50000 [03:01<07:12, 85.28it/s]"
     ]
    },
    {
     "name": "stderr",
     "output_type": "stream",
     "text": [
      "\r",
      "stem:  26%|██▌       | 13056/50000 [03:01<07:47, 79.00it/s]"
     ]
    },
    {
     "name": "stderr",
     "output_type": "stream",
     "text": [
      "\r",
      "stem:  26%|██▌       | 13044/50000 [03:01<07:26, 82.73it/s]"
     ]
    },
    {
     "name": "stderr",
     "output_type": "stream",
     "text": [
      "\r",
      "stem:  26%|██▌       | 13026/50000 [03:01<07:39, 80.50it/s]"
     ]
    },
    {
     "name": "stderr",
     "output_type": "stream",
     "text": [
      "\r",
      "stem:  26%|██▌       | 13008/50000 [03:01<07:57, 77.45it/s]"
     ]
    },
    {
     "name": "stderr",
     "output_type": "stream",
     "text": [
      "\r",
      "stem:  26%|██▌       | 12996/50000 [03:00<07:25, 83.05it/s]"
     ]
    },
    {
     "name": "stderr",
     "output_type": "stream",
     "text": [
      "\r",
      "stem:  26%|██▌       | 12980/50000 [03:00<08:32, 72.18it/s]"
     ]
    },
    {
     "name": "stderr",
     "output_type": "stream",
     "text": [
      "\r",
      "stem:  26%|██▌       | 12970/50000 [03:00<07:15, 85.06it/s]"
     ]
    },
    {
     "name": "stderr",
     "output_type": "stream",
     "text": [
      "\r",
      "stem:  26%|██▌       | 12959/50000 [03:00<06:23, 96.57it/s]"
     ]
    },
    {
     "name": "stderr",
     "output_type": "stream",
     "text": [
      "\r",
      "stem:  26%|██▌       | 12948/50000 [03:00<06:41, 92.17it/s]"
     ]
    },
    {
     "name": "stderr",
     "output_type": "stream",
     "text": [
      "\r",
      "stem:  26%|██▌       | 12930/50000 [03:00<07:39, 80.70it/s]"
     ]
    },
    {
     "name": "stderr",
     "output_type": "stream",
     "text": [
      "\r",
      "stem:  26%|██▌       | 12918/50000 [03:00<06:30, 95.02it/s]"
     ]
    },
    {
     "name": "stderr",
     "output_type": "stream",
     "text": [
      "\r",
      "stem:  26%|██▌       | 12906/50000 [02:59<06:56, 89.02it/s]"
     ]
    },
    {
     "name": "stderr",
     "output_type": "stream",
     "text": [
      "\r",
      "stem:  26%|██▌       | 12888/50000 [02:59<07:12, 85.88it/s]"
     ]
    },
    {
     "name": "stderr",
     "output_type": "stream",
     "text": [
      "\r",
      "stem:  26%|██▌       | 12876/50000 [02:59<06:54, 89.60it/s]"
     ]
    },
    {
     "name": "stderr",
     "output_type": "stream",
     "text": [
      "\r",
      "stem:  26%|██▌       | 12864/50000 [02:59<07:13, 85.59it/s]"
     ]
    },
    {
     "name": "stderr",
     "output_type": "stream",
     "text": [
      "\r",
      "stem:  26%|██▌       | 12846/50000 [02:59<07:15, 85.34it/s]"
     ]
    },
    {
     "name": "stderr",
     "output_type": "stream",
     "text": [
      "\r",
      "stem:  26%|██▌       | 12822/50000 [02:58<07:44, 79.96it/s]"
     ]
    },
    {
     "name": "stderr",
     "output_type": "stream",
     "text": [
      "\r",
      "stem:  26%|██▌       | 12810/50000 [02:58<07:32, 82.22it/s]"
     ]
    },
    {
     "name": "stderr",
     "output_type": "stream",
     "text": [
      "\r",
      "stem:  26%|██▌       | 12792/50000 [02:58<07:38, 81.14it/s]"
     ]
    },
    {
     "name": "stderr",
     "output_type": "stream",
     "text": [
      "\r",
      "stem:  26%|██▌       | 12780/50000 [02:58<08:20, 74.30it/s]"
     ]
    },
    {
     "name": "stderr",
     "output_type": "stream",
     "text": [
      "\r",
      "stem:  26%|██▌       | 12767/50000 [02:58<06:30, 95.25it/s]"
     ]
    },
    {
     "name": "stderr",
     "output_type": "stream",
     "text": [
      "\r",
      "stem:  26%|██▌       | 12756/50000 [02:58<06:51, 90.49it/s]"
     ]
    },
    {
     "name": "stderr",
     "output_type": "stream",
     "text": [
      "\r",
      "stem:  25%|██▌       | 12738/50000 [02:58<07:46, 79.79it/s]"
     ]
    },
    {
     "name": "stderr",
     "output_type": "stream",
     "text": [
      "\r",
      "stem:  25%|██▌       | 12720/50000 [02:57<08:50, 70.30it/s]"
     ]
    },
    {
     "name": "stderr",
     "output_type": "stream",
     "text": [
      "\r",
      "stem:  25%|██▌       | 12708/50000 [02:57<09:00, 68.99it/s]"
     ]
    },
    {
     "name": "stderr",
     "output_type": "stream",
     "text": [
      "\r",
      "stem:  25%|██▌       | 12697/50000 [02:57<09:07, 68.16it/s]"
     ]
    },
    {
     "name": "stderr",
     "output_type": "stream",
     "text": [
      "\r",
      "stem:  25%|██▌       | 12688/50000 [02:57<07:32, 82.39it/s]"
     ]
    },
    {
     "name": "stderr",
     "output_type": "stream",
     "text": [
      "\r",
      "stem:  25%|██▌       | 12678/50000 [02:57<06:49, 91.04it/s]"
     ]
    },
    {
     "name": "stderr",
     "output_type": "stream",
     "text": [
      "\r",
      "stem:  25%|██▌       | 12660/50000 [02:57<07:48, 79.71it/s]"
     ]
    },
    {
     "name": "stderr",
     "output_type": "stream",
     "text": [
      "\r",
      "stem:  25%|██▌       | 12642/50000 [02:56<08:03, 77.20it/s]"
     ]
    },
    {
     "name": "stderr",
     "output_type": "stream",
     "text": [
      "\r",
      "stem:  25%|██▌       | 12626/50000 [02:56<08:20, 74.69it/s]"
     ]
    },
    {
     "name": "stderr",
     "output_type": "stream",
     "text": [
      "\r",
      "stem:  25%|██▌       | 12616/50000 [02:56<06:40, 93.46it/s]"
     ]
    },
    {
     "name": "stderr",
     "output_type": "stream",
     "text": [
      "\r",
      "stem:  25%|██▌       | 12606/50000 [02:56<06:49, 91.25it/s]"
     ]
    },
    {
     "name": "stderr",
     "output_type": "stream",
     "text": [
      "\r",
      "stem:  25%|██▌       | 12594/50000 [02:56<07:23, 84.37it/s]"
     ]
    },
    {
     "name": "stderr",
     "output_type": "stream",
     "text": [
      "\r",
      "stem:  25%|██▌       | 12570/50000 [02:55<07:33, 82.59it/s]"
     ]
    },
    {
     "name": "stderr",
     "output_type": "stream",
     "text": [
      "\r",
      "stem:  25%|██▌       | 12546/50000 [02:55<07:14, 86.23it/s]"
     ]
    },
    {
     "name": "stderr",
     "output_type": "stream",
     "text": [
      "\r",
      "stem:  25%|██▌       | 12526/50000 [02:55<07:02, 88.73it/s]"
     ]
    },
    {
     "name": "stderr",
     "output_type": "stream",
     "text": [
      "\r",
      "stem:  25%|██▌       | 12516/50000 [02:55<06:48, 91.71it/s]"
     ]
    },
    {
     "name": "stderr",
     "output_type": "stream",
     "text": [
      "\r",
      "stem:  25%|██▌       | 12504/50000 [02:55<06:59, 89.28it/s]"
     ]
    },
    {
     "name": "stderr",
     "output_type": "stream",
     "text": [
      "\r",
      "stem:  25%|██▍       | 12492/50000 [02:55<07:14, 86.41it/s]"
     ]
    },
    {
     "name": "stderr",
     "output_type": "stream",
     "text": [
      "\r",
      "stem:  25%|██▍       | 12474/50000 [02:54<08:30, 73.56it/s]"
     ]
    },
    {
     "name": "stderr",
     "output_type": "stream",
     "text": [
      "\r",
      "stem:  25%|██▍       | 12462/50000 [02:54<09:08, 68.46it/s]"
     ]
    },
    {
     "name": "stderr",
     "output_type": "stream",
     "text": [
      "\r",
      "stem:  25%|██▍       | 12453/50000 [02:54<09:21, 66.85it/s]"
     ]
    },
    {
     "name": "stderr",
     "output_type": "stream",
     "text": [
      "\r",
      "stem:  25%|██▍       | 12444/50000 [02:54<08:45, 71.42it/s]"
     ]
    },
    {
     "name": "stderr",
     "output_type": "stream",
     "text": [
      "\r",
      "stem:  25%|██▍       | 12432/50000 [02:54<08:25, 74.28it/s]"
     ]
    },
    {
     "name": "stderr",
     "output_type": "stream",
     "text": [
      "\r",
      "stem:  25%|██▍       | 12414/50000 [02:54<09:47, 63.95it/s]"
     ]
    },
    {
     "name": "stderr",
     "output_type": "stream",
     "text": [
      "\r",
      "stem:  25%|██▍       | 12393/50000 [02:53<10:15, 61.11it/s]"
     ]
    },
    {
     "name": "stderr",
     "output_type": "stream",
     "text": [
      "\r",
      "stem:  25%|██▍       | 12384/50000 [02:53<08:31, 73.49it/s]"
     ]
    },
    {
     "name": "stderr",
     "output_type": "stream",
     "text": [
      "\r",
      "stem:  25%|██▍       | 12372/50000 [02:53<09:43, 64.54it/s]"
     ]
    },
    {
     "name": "stderr",
     "output_type": "stream",
     "text": [
      "\r",
      "stem:  25%|██▍       | 12360/50000 [02:53<10:58, 57.18it/s]"
     ]
    },
    {
     "name": "stderr",
     "output_type": "stream",
     "text": [
      "\r",
      "stem:  25%|██▍       | 12342/50000 [02:53<12:55, 48.57it/s]"
     ]
    },
    {
     "name": "stderr",
     "output_type": "stream",
     "text": [
      "\r",
      "stem:  25%|██▍       | 12325/50000 [02:53<14:17, 43.91it/s]"
     ]
    },
    {
     "name": "stderr",
     "output_type": "stream",
     "text": [
      "\r",
      "stem:  25%|██▍       | 12318/50000 [02:52<12:14, 51.27it/s]"
     ]
    },
    {
     "name": "stderr",
     "output_type": "stream",
     "text": [
      "\r",
      "stem:  25%|██▍       | 12307/50000 [02:52<14:21, 43.73it/s]"
     ]
    },
    {
     "name": "stderr",
     "output_type": "stream",
     "text": [
      "\r",
      "stem:  25%|██▍       | 12300/50000 [02:52<11:19, 55.47it/s]"
     ]
    },
    {
     "name": "stderr",
     "output_type": "stream",
     "text": [
      "\r",
      "stem:  25%|██▍       | 12288/50000 [02:52<13:01, 48.26it/s]"
     ]
    },
    {
     "name": "stderr",
     "output_type": "stream",
     "text": [
      "\r",
      "stem:  25%|██▍       | 12278/50000 [02:51<09:39, 65.11it/s]"
     ]
    },
    {
     "name": "stderr",
     "output_type": "stream",
     "text": [
      "\r",
      "stem:  25%|██▍       | 12270/50000 [02:51<09:36, 65.49it/s]"
     ]
    },
    {
     "name": "stderr",
     "output_type": "stream",
     "text": [
      "\r",
      "stem:  25%|██▍       | 12260/50000 [02:51<10:20, 60.86it/s]"
     ]
    },
    {
     "name": "stderr",
     "output_type": "stream",
     "text": [
      "\r",
      "stem:  25%|██▍       | 12252/50000 [02:51<10:08, 61.98it/s]"
     ]
    },
    {
     "name": "stderr",
     "output_type": "stream",
     "text": [
      "\r",
      "stem:  24%|██▍       | 12240/50000 [02:51<10:03, 62.61it/s]"
     ]
    },
    {
     "name": "stderr",
     "output_type": "stream",
     "text": [
      "\r",
      "stem:  24%|██▍       | 12231/50000 [02:51<11:06, 56.64it/s]"
     ]
    },
    {
     "name": "stderr",
     "output_type": "stream",
     "text": [
      "\r",
      "stem:  24%|██▍       | 12222/50000 [02:51<09:10, 68.68it/s]"
     ]
    },
    {
     "name": "stderr",
     "output_type": "stream",
     "text": [
      "\r",
      "stem:  24%|██▍       | 12207/50000 [02:50<10:59, 57.29it/s]"
     ]
    },
    {
     "name": "stderr",
     "output_type": "stream",
     "text": [
      "\r",
      "stem:  24%|██▍       | 12198/50000 [02:50<09:04, 69.46it/s]"
     ]
    },
    {
     "name": "stderr",
     "output_type": "stream",
     "text": [
      "\r",
      "stem:  24%|██▍       | 12180/50000 [02:50<10:52, 57.95it/s]"
     ]
    },
    {
     "name": "stderr",
     "output_type": "stream",
     "text": [
      "\r",
      "stem:  24%|██▍       | 12170/50000 [02:50<11:55, 52.87it/s]"
     ]
    },
    {
     "name": "stderr",
     "output_type": "stream",
     "text": [
      "\r",
      "stem:  24%|██▍       | 12163/50000 [02:50<11:45, 53.60it/s]"
     ]
    },
    {
     "name": "stderr",
     "output_type": "stream",
     "text": [
      "\r",
      "stem:  24%|██▍       | 12156/50000 [02:50<12:46, 49.39it/s]"
     ]
    },
    {
     "name": "stderr",
     "output_type": "stream",
     "text": [
      "\r",
      "stem:  24%|██▍       | 12138/50000 [02:49<13:43, 45.97it/s]"
     ]
    },
    {
     "name": "stderr",
     "output_type": "stream",
     "text": [
      "\r",
      "stem:  24%|██▍       | 12121/50000 [02:49<17:08, 36.84it/s]"
     ]
    },
    {
     "name": "stderr",
     "output_type": "stream",
     "text": [
      "\r",
      "stem:  24%|██▍       | 12114/50000 [02:49<14:40, 43.03it/s]"
     ]
    },
    {
     "name": "stderr",
     "output_type": "stream",
     "text": [
      "\r",
      "stem:  24%|██▍       | 12096/50000 [02:49<18:49, 33.56it/s]"
     ]
    },
    {
     "name": "stderr",
     "output_type": "stream",
     "text": [
      "\r",
      "stem:  24%|██▍       | 12090/50000 [02:49<22:22, 28.24it/s]"
     ]
    },
    {
     "name": "stderr",
     "output_type": "stream",
     "text": [
      "\r",
      "stem:  24%|██▍       | 12072/50000 [02:48<27:41, 22.82it/s]"
     ]
    },
    {
     "name": "stderr",
     "output_type": "stream",
     "text": [
      "\r",
      "stem:  24%|██▍       | 12066/50000 [02:48<28:55, 21.86it/s]"
     ]
    },
    {
     "name": "stderr",
     "output_type": "stream",
     "text": [
      "\r",
      "stem:  24%|██▍       | 12060/50000 [02:48<20:47, 30.42it/s]"
     ]
    },
    {
     "name": "stderr",
     "output_type": "stream",
     "text": [
      "\r",
      "stem:  24%|██▍       | 12054/50000 [02:48<24:37, 25.67it/s]"
     ]
    },
    {
     "name": "stderr",
     "output_type": "stream",
     "text": [
      "\r",
      "stem:  24%|██▍       | 12048/50000 [02:47<25:31, 24.78it/s]"
     ]
    },
    {
     "name": "stderr",
     "output_type": "stream",
     "text": [
      "\r",
      "stem:  24%|██▍       | 12042/50000 [02:47<25:18, 24.99it/s]"
     ]
    },
    {
     "name": "stderr",
     "output_type": "stream",
     "text": [
      "\r",
      "stem:  24%|██▍       | 12036/50000 [02:47<19:58, 31.68it/s]"
     ]
    },
    {
     "name": "stderr",
     "output_type": "stream",
     "text": [
      "\r",
      "stem:  24%|██▍       | 12024/50000 [02:47<25:41, 24.64it/s]"
     ]
    },
    {
     "name": "stderr",
     "output_type": "stream",
     "text": [
      "\r",
      "stem:  24%|██▍       | 12018/50000 [02:46<27:42, 22.84it/s]"
     ]
    },
    {
     "name": "stderr",
     "output_type": "stream",
     "text": [
      "\r",
      "stem:  24%|██▍       | 12012/50000 [02:46<21:48, 29.03it/s]"
     ]
    },
    {
     "name": "stderr",
     "output_type": "stream",
     "text": [
      "\r",
      "stem:  24%|██▍       | 12006/50000 [02:46<14:12, 44.59it/s]"
     ]
    },
    {
     "name": "stderr",
     "output_type": "stream",
     "text": [
      "\r",
      "stem:  24%|██▍       | 12000/50000 [02:46<15:31, 40.79it/s]"
     ]
    },
    {
     "name": "stderr",
     "output_type": "stream",
     "text": [
      "\r",
      "stem:  24%|██▍       | 11994/50000 [02:45<16:08, 39.23it/s]"
     ]
    },
    {
     "name": "stderr",
     "output_type": "stream",
     "text": [
      "\r",
      "stem:  24%|██▍       | 11988/50000 [02:45<17:03, 37.15it/s]"
     ]
    },
    {
     "name": "stderr",
     "output_type": "stream",
     "text": [
      "\r",
      "stem:  24%|██▍       | 11976/50000 [02:45<20:50, 30.40it/s]"
     ]
    },
    {
     "name": "stderr",
     "output_type": "stream",
     "text": [
      "\r",
      "stem:  24%|██▍       | 11964/50000 [02:45<19:39, 32.24it/s]"
     ]
    },
    {
     "name": "stderr",
     "output_type": "stream",
     "text": [
      "\r",
      "stem:  24%|██▍       | 11958/50000 [02:45<22:27, 28.24it/s]"
     ]
    },
    {
     "name": "stderr",
     "output_type": "stream",
     "text": [
      "\r",
      "stem:  24%|██▍       | 11940/50000 [02:44<27:40, 22.92it/s]"
     ]
    },
    {
     "name": "stderr",
     "output_type": "stream",
     "text": [
      "\r",
      "stem:  24%|██▍       | 11934/50000 [02:44<34:24, 18.44it/s]"
     ]
    },
    {
     "name": "stderr",
     "output_type": "stream",
     "text": [
      "\r",
      "stem:  24%|██▍       | 11928/50000 [02:44<17:56, 35.37it/s]"
     ]
    },
    {
     "name": "stderr",
     "output_type": "stream",
     "text": [
      "\r",
      "stem:  24%|██▍       | 11922/50000 [02:43<19:56, 31.82it/s]"
     ]
    },
    {
     "name": "stderr",
     "output_type": "stream",
     "text": [
      "\r",
      "stem:  24%|██▍       | 11910/50000 [02:43<22:39, 28.02it/s]"
     ]
    },
    {
     "name": "stderr",
     "output_type": "stream",
     "text": [
      "\r",
      "stem:  24%|██▍       | 11892/50000 [02:42<22:18, 28.47it/s]"
     ]
    },
    {
     "name": "stderr",
     "output_type": "stream",
     "text": [
      "\r",
      "stem:  24%|██▍       | 11886/50000 [02:42<26:38, 23.85it/s]"
     ]
    },
    {
     "name": "stderr",
     "output_type": "stream",
     "text": [
      "\r",
      "stem:  24%|██▍       | 11880/50000 [02:42<17:55, 35.44it/s]"
     ]
    },
    {
     "name": "stderr",
     "output_type": "stream",
     "text": [
      "\r",
      "stem:  24%|██▎       | 11874/50000 [02:42<19:04, 33.30it/s]"
     ]
    },
    {
     "name": "stderr",
     "output_type": "stream",
     "text": [
      "\r",
      "stem:  24%|██▎       | 11862/50000 [02:42<24:22, 26.07it/s]"
     ]
    },
    {
     "name": "stderr",
     "output_type": "stream",
     "text": [
      "\r",
      "stem:  24%|██▎       | 11856/50000 [02:41<21:35, 29.45it/s]"
     ]
    },
    {
     "name": "stderr",
     "output_type": "stream",
     "text": [
      "\r",
      "stem:  24%|██▎       | 11838/50000 [02:41<24:49, 25.61it/s]"
     ]
    },
    {
     "name": "stderr",
     "output_type": "stream",
     "text": [
      "\r",
      "stem:  24%|██▎       | 11826/50000 [02:41<25:43, 24.73it/s]"
     ]
    },
    {
     "name": "stderr",
     "output_type": "stream",
     "text": [
      "\r",
      "stem:  24%|██▎       | 11820/50000 [02:40<29:24, 21.64it/s]"
     ]
    },
    {
     "name": "stderr",
     "output_type": "stream",
     "text": [
      "\r",
      "stem:  24%|██▎       | 11814/50000 [02:40<19:16, 33.01it/s]"
     ]
    },
    {
     "name": "stderr",
     "output_type": "stream",
     "text": [
      "\r",
      "stem:  24%|██▎       | 11808/50000 [02:40<15:53, 40.05it/s]"
     ]
    },
    {
     "name": "stderr",
     "output_type": "stream",
     "text": [
      "\r",
      "stem:  24%|██▎       | 11796/50000 [02:39<16:02, 39.71it/s]"
     ]
    },
    {
     "name": "stderr",
     "output_type": "stream",
     "text": [
      "\r",
      "stem:  24%|██▎       | 11784/50000 [02:39<15:27, 41.22it/s]"
     ]
    },
    {
     "name": "stderr",
     "output_type": "stream",
     "text": [
      "\r",
      "stem:  24%|██▎       | 11778/50000 [02:39<15:18, 41.62it/s]"
     ]
    },
    {
     "name": "stderr",
     "output_type": "stream",
     "text": [
      "\r",
      "stem:  24%|██▎       | 11772/50000 [02:39<15:32, 40.97it/s]"
     ]
    },
    {
     "name": "stderr",
     "output_type": "stream",
     "text": [
      "\r",
      "stem:  24%|██▎       | 11760/50000 [02:38<17:16, 36.90it/s]"
     ]
    },
    {
     "name": "stderr",
     "output_type": "stream",
     "text": [
      "\r",
      "stem:  23%|██▎       | 11748/50000 [02:38<21:18, 29.92it/s]"
     ]
    },
    {
     "name": "stderr",
     "output_type": "stream",
     "text": [
      "\r",
      "stem:  23%|██▎       | 11736/50000 [02:38<20:27, 31.16it/s]"
     ]
    },
    {
     "name": "stderr",
     "output_type": "stream",
     "text": [
      "\r",
      "stem:  23%|██▎       | 11730/50000 [02:38<17:46, 35.88it/s]"
     ]
    },
    {
     "name": "stderr",
     "output_type": "stream",
     "text": [
      "\r",
      "stem:  23%|██▎       | 11724/50000 [02:38<20:02, 31.82it/s]"
     ]
    },
    {
     "name": "stderr",
     "output_type": "stream",
     "text": [
      "\r",
      "stem:  23%|██▎       | 11712/50000 [02:37<18:06, 35.25it/s]"
     ]
    },
    {
     "name": "stderr",
     "output_type": "stream",
     "text": [
      "\r",
      "stem:  23%|██▎       | 11706/50000 [02:37<18:59, 33.61it/s]"
     ]
    },
    {
     "name": "stderr",
     "output_type": "stream",
     "text": [
      "\r",
      "stem:  23%|██▎       | 11700/50000 [02:37<19:12, 33.23it/s]"
     ]
    },
    {
     "name": "stderr",
     "output_type": "stream",
     "text": [
      "\r",
      "stem:  23%|██▎       | 11694/50000 [02:37<20:40, 30.89it/s]"
     ]
    },
    {
     "name": "stderr",
     "output_type": "stream",
     "text": [
      "\r",
      "stem:  23%|██▎       | 11682/50000 [02:36<26:40, 23.95it/s]"
     ]
    },
    {
     "name": "stderr",
     "output_type": "stream",
     "text": [
      "\r",
      "stem:  23%|██▎       | 11676/50000 [02:36<20:39, 30.92it/s]"
     ]
    },
    {
     "name": "stderr",
     "output_type": "stream",
     "text": [
      "\r",
      "stem:  23%|██▎       | 11670/50000 [02:36<19:50, 32.20it/s]"
     ]
    },
    {
     "name": "stderr",
     "output_type": "stream",
     "text": [
      "\r",
      "stem:  23%|██▎       | 11658/50000 [02:36<22:48, 28.02it/s]"
     ]
    },
    {
     "name": "stderr",
     "output_type": "stream",
     "text": [
      "\r",
      "stem:  23%|██▎       | 11652/50000 [02:35<21:51, 29.23it/s]"
     ]
    },
    {
     "name": "stderr",
     "output_type": "stream",
     "text": [
      "\r",
      "stem:  23%|██▎       | 11634/50000 [02:35<26:26, 24.18it/s]"
     ]
    },
    {
     "name": "stderr",
     "output_type": "stream",
     "text": [
      "\r",
      "stem:  23%|██▎       | 11628/50000 [02:35<26:27, 24.17it/s]"
     ]
    },
    {
     "name": "stderr",
     "output_type": "stream",
     "text": [
      "\r",
      "stem:  23%|██▎       | 11622/50000 [02:34<19:48, 32.30it/s]"
     ]
    },
    {
     "name": "stderr",
     "output_type": "stream",
     "text": [
      "\r",
      "stem:  23%|██▎       | 11610/50000 [02:34<20:16, 31.55it/s]"
     ]
    },
    {
     "name": "stderr",
     "output_type": "stream",
     "text": [
      "\r",
      "stem:  23%|██▎       | 11598/50000 [02:34<17:53, 35.78it/s]"
     ]
    },
    {
     "name": "stderr",
     "output_type": "stream",
     "text": [
      "\r",
      "stem:  23%|██▎       | 11586/50000 [02:33<19:41, 32.52it/s]"
     ]
    },
    {
     "name": "stderr",
     "output_type": "stream",
     "text": [
      "\r",
      "stem:  23%|██▎       | 11581/50000 [02:33<17:27, 36.68it/s]"
     ]
    },
    {
     "name": "stderr",
     "output_type": "stream",
     "text": [
      "\r",
      "stem:  23%|██▎       | 11575/50000 [02:33<15:50, 40.41it/s]"
     ]
    },
    {
     "name": "stderr",
     "output_type": "stream",
     "text": [
      "\r",
      "stem:  23%|██▎       | 11569/50000 [02:33<17:25, 36.74it/s]"
     ]
    },
    {
     "name": "stderr",
     "output_type": "stream",
     "text": [
      "\r",
      "stem:  23%|██▎       | 11562/50000 [02:33<15:43, 40.74it/s]"
     ]
    },
    {
     "name": "stderr",
     "output_type": "stream",
     "text": [
      "\r",
      "stem:  23%|██▎       | 11550/50000 [02:33<20:03, 31.94it/s]"
     ]
    },
    {
     "name": "stderr",
     "output_type": "stream",
     "text": [
      "\r",
      "stem:  23%|██▎       | 11544/50000 [02:32<21:19, 30.07it/s]"
     ]
    },
    {
     "name": "stderr",
     "output_type": "stream",
     "text": [
      "\r",
      "stem:  23%|██▎       | 11538/50000 [02:32<19:00, 33.72it/s]"
     ]
    },
    {
     "name": "stderr",
     "output_type": "stream",
     "text": [
      "\r",
      "stem:  23%|██▎       | 11526/50000 [02:32<21:29, 29.84it/s]"
     ]
    },
    {
     "name": "stderr",
     "output_type": "stream",
     "text": [
      "\r",
      "stem:  23%|██▎       | 11520/50000 [02:32<19:18, 33.20it/s]"
     ]
    },
    {
     "name": "stderr",
     "output_type": "stream",
     "text": [
      "\r",
      "stem:  23%|██▎       | 11514/50000 [02:31<19:42, 32.55it/s]"
     ]
    },
    {
     "name": "stderr",
     "output_type": "stream",
     "text": [
      "\r",
      "stem:  23%|██▎       | 11502/50000 [02:31<24:59, 25.67it/s]"
     ]
    },
    {
     "name": "stderr",
     "output_type": "stream",
     "text": [
      "\r",
      "stem:  23%|██▎       | 11496/50000 [02:31<15:09, 42.34it/s]"
     ]
    },
    {
     "name": "stderr",
     "output_type": "stream",
     "text": [
      "\r",
      "stem:  23%|██▎       | 11490/50000 [02:31<16:40, 38.50it/s]"
     ]
    },
    {
     "name": "stderr",
     "output_type": "stream",
     "text": [
      "\r",
      "stem:  23%|██▎       | 11484/50000 [02:31<19:11, 33.44it/s]"
     ]
    },
    {
     "name": "stderr",
     "output_type": "stream",
     "text": [
      "\r",
      "stem:  23%|██▎       | 11478/50000 [02:30<16:36, 38.65it/s]"
     ]
    },
    {
     "name": "stderr",
     "output_type": "stream",
     "text": [
      "\r",
      "stem:  23%|██▎       | 11467/50000 [02:30<19:02, 33.71it/s]"
     ]
    },
    {
     "name": "stderr",
     "output_type": "stream",
     "text": [
      "\r",
      "stem:  23%|██▎       | 11460/50000 [02:30<13:47, 46.56it/s]"
     ]
    },
    {
     "name": "stderr",
     "output_type": "stream",
     "text": [
      "\r",
      "stem:  23%|██▎       | 11448/50000 [02:30<16:34, 38.76it/s]"
     ]
    },
    {
     "name": "stderr",
     "output_type": "stream",
     "text": [
      "\r",
      "stem:  23%|██▎       | 11436/50000 [02:30<20:23, 31.51it/s]"
     ]
    },
    {
     "name": "stderr",
     "output_type": "stream",
     "text": [
      "\r",
      "stem:  23%|██▎       | 11426/50000 [02:29<18:16, 35.19it/s]"
     ]
    },
    {
     "name": "stderr",
     "output_type": "stream",
     "text": [
      "\r",
      "stem:  23%|██▎       | 11418/50000 [02:29<18:34, 34.61it/s]"
     ]
    },
    {
     "name": "stderr",
     "output_type": "stream",
     "text": [
      "\r",
      "stem:  23%|██▎       | 11400/50000 [02:29<24:40, 26.06it/s]"
     ]
    },
    {
     "name": "stderr",
     "output_type": "stream",
     "text": [
      "\r",
      "stem:  23%|██▎       | 11388/50000 [02:28<20:38, 31.17it/s]"
     ]
    },
    {
     "name": "stderr",
     "output_type": "stream",
     "text": [
      "\r",
      "stem:  23%|██▎       | 11377/50000 [02:28<25:19, 25.42it/s]"
     ]
    },
    {
     "name": "stderr",
     "output_type": "stream",
     "text": [
      "\r",
      "stem:  23%|██▎       | 11371/50000 [02:28<17:32, 36.71it/s]"
     ]
    },
    {
     "name": "stderr",
     "output_type": "stream",
     "text": [
      "\r",
      "stem:  23%|██▎       | 11364/50000 [02:27<18:37, 34.56it/s]"
     ]
    },
    {
     "name": "stderr",
     "output_type": "stream",
     "text": [
      "\r",
      "stem:  23%|██▎       | 11352/50000 [02:27<24:04, 26.75it/s]"
     ]
    },
    {
     "name": "stderr",
     "output_type": "stream",
     "text": [
      "\r",
      "stem:  23%|██▎       | 11346/50000 [02:27<15:34, 41.37it/s]"
     ]
    },
    {
     "name": "stderr",
     "output_type": "stream",
     "text": [
      "\r",
      "stem:  23%|██▎       | 11334/50000 [02:27<15:09, 42.50it/s]"
     ]
    },
    {
     "name": "stderr",
     "output_type": "stream",
     "text": [
      "\r",
      "stem:  23%|██▎       | 11322/50000 [02:27<19:16, 33.46it/s]"
     ]
    },
    {
     "name": "stderr",
     "output_type": "stream",
     "text": [
      "\r",
      "stem:  23%|██▎       | 11310/50000 [02:26<16:38, 38.76it/s]"
     ]
    },
    {
     "name": "stderr",
     "output_type": "stream",
     "text": [
      "\r",
      "stem:  23%|██▎       | 11304/50000 [02:26<17:34, 36.71it/s]"
     ]
    },
    {
     "name": "stderr",
     "output_type": "stream",
     "text": [
      "\r",
      "stem:  23%|██▎       | 11292/50000 [02:26<19:24, 33.23it/s]"
     ]
    },
    {
     "name": "stderr",
     "output_type": "stream",
     "text": [
      "\r",
      "stem:  23%|██▎       | 11280/50000 [02:25<18:24, 35.04it/s]"
     ]
    },
    {
     "name": "stderr",
     "output_type": "stream",
     "text": [
      "\r",
      "stem:  23%|██▎       | 11274/50000 [02:25<20:14, 31.89it/s]"
     ]
    },
    {
     "name": "stderr",
     "output_type": "stream",
     "text": [
      "\r",
      "stem:  23%|██▎       | 11268/50000 [02:25<20:13, 31.92it/s]"
     ]
    },
    {
     "name": "stderr",
     "output_type": "stream",
     "text": [
      "\r",
      "stem:  23%|██▎       | 11257/50000 [02:25<22:04, 29.25it/s]"
     ]
    },
    {
     "name": "stderr",
     "output_type": "stream",
     "text": [
      "\r",
      "stem:  22%|██▎       | 11250/50000 [02:24<09:54, 65.19it/s]"
     ]
    },
    {
     "name": "stderr",
     "output_type": "stream",
     "text": [
      "\r",
      "stem:  22%|██▏       | 11234/50000 [02:24<08:47, 73.55it/s]"
     ]
    },
    {
     "name": "stderr",
     "output_type": "stream",
     "text": [
      "\r",
      "stem:  22%|██▏       | 11226/50000 [02:24<09:03, 71.33it/s]"
     ]
    },
    {
     "name": "stderr",
     "output_type": "stream",
     "text": [
      "\r",
      "stem:  22%|██▏       | 11214/50000 [02:24<09:02, 71.55it/s]"
     ]
    },
    {
     "name": "stderr",
     "output_type": "stream",
     "text": [
      "\r",
      "stem:  22%|██▏       | 11202/50000 [02:23<09:48, 65.97it/s]"
     ]
    },
    {
     "name": "stderr",
     "output_type": "stream",
     "text": [
      "\r",
      "stem:  22%|██▏       | 11190/50000 [02:23<08:08, 79.48it/s]"
     ]
    },
    {
     "name": "stderr",
     "output_type": "stream",
     "text": [
      "\r",
      "stem:  22%|██▏       | 11178/50000 [02:23<08:32, 75.73it/s]"
     ]
    },
    {
     "name": "stderr",
     "output_type": "stream",
     "text": [
      "\r",
      "stem:  22%|██▏       | 11166/50000 [02:23<09:01, 71.66it/s]"
     ]
    },
    {
     "name": "stderr",
     "output_type": "stream",
     "text": [
      "\r",
      "stem:  22%|██▏       | 11151/50000 [02:23<09:22, 69.11it/s]"
     ]
    },
    {
     "name": "stderr",
     "output_type": "stream",
     "text": [
      "\r",
      "stem:  22%|██▏       | 11142/50000 [02:23<08:08, 79.53it/s]"
     ]
    },
    {
     "name": "stderr",
     "output_type": "stream",
     "text": [
      "\r",
      "stem:  22%|██▏       | 11130/50000 [02:22<08:07, 79.75it/s]"
     ]
    },
    {
     "name": "stderr",
     "output_type": "stream",
     "text": [
      "\r",
      "stem:  22%|██▏       | 11112/50000 [02:22<08:37, 75.16it/s]"
     ]
    },
    {
     "name": "stderr",
     "output_type": "stream",
     "text": [
      "\r",
      "stem:  22%|██▏       | 11100/50000 [02:22<07:50, 82.73it/s]"
     ]
    },
    {
     "name": "stderr",
     "output_type": "stream",
     "text": [
      "\r",
      "stem:  22%|██▏       | 11088/50000 [02:22<08:47, 73.84it/s]"
     ]
    },
    {
     "name": "stderr",
     "output_type": "stream",
     "text": [
      "\r",
      "stem:  22%|██▏       | 11075/50000 [02:22<09:57, 65.17it/s]"
     ]
    },
    {
     "name": "stderr",
     "output_type": "stream",
     "text": [
      "\r",
      "stem:  22%|██▏       | 11067/50000 [02:22<09:25, 68.82it/s]"
     ]
    },
    {
     "name": "stderr",
     "output_type": "stream",
     "text": [
      "\r",
      "stem:  22%|██▏       | 11058/50000 [02:21<08:12, 79.07it/s]"
     ]
    },
    {
     "name": "stderr",
     "output_type": "stream",
     "text": [
      "\r",
      "stem:  22%|██▏       | 11046/50000 [02:21<08:04, 80.44it/s]"
     ]
    },
    {
     "name": "stderr",
     "output_type": "stream",
     "text": [
      "\r",
      "stem:  22%|██▏       | 11034/50000 [02:21<07:50, 82.78it/s]"
     ]
    },
    {
     "name": "stderr",
     "output_type": "stream",
     "text": [
      "\r",
      "stem:  22%|██▏       | 11022/50000 [02:21<07:28, 87.00it/s]"
     ]
    },
    {
     "name": "stderr",
     "output_type": "stream",
     "text": [
      "\r",
      "stem:  22%|██▏       | 11004/50000 [02:21<07:52, 82.45it/s]"
     ]
    },
    {
     "name": "stderr",
     "output_type": "stream",
     "text": [
      "\r",
      "stem:  22%|██▏       | 10986/50000 [02:21<06:50, 95.06it/s]"
     ]
    },
    {
     "name": "stderr",
     "output_type": "stream",
     "text": [
      "\r",
      "stem:  22%|██▏       | 10974/50000 [02:20<06:37, 98.29it/s]"
     ]
    },
    {
     "name": "stderr",
     "output_type": "stream",
     "text": [
      "\r",
      "stem:  22%|██▏       | 10956/50000 [02:20<06:39, 97.68it/s]"
     ]
    },
    {
     "name": "stderr",
     "output_type": "stream",
     "text": [
      "\r",
      "stem:  22%|██▏       | 10938/50000 [02:20<06:53, 94.46it/s]"
     ]
    },
    {
     "name": "stderr",
     "output_type": "stream",
     "text": [
      "\r",
      "stem:  22%|██▏       | 10926/50000 [02:20<07:25, 87.74it/s]"
     ]
    },
    {
     "name": "stderr",
     "output_type": "stream",
     "text": [
      "\r",
      "stem:  22%|██▏       | 10914/50000 [02:20<07:07, 91.50it/s]"
     ]
    },
    {
     "name": "stderr",
     "output_type": "stream",
     "text": [
      "\r",
      "stem:  22%|██▏       | 10896/50000 [02:20<07:57, 81.97it/s]"
     ]
    },
    {
     "name": "stderr",
     "output_type": "stream",
     "text": [
      "\r",
      "stem:  22%|██▏       | 10884/50000 [02:20<08:05, 80.55it/s]"
     ]
    },
    {
     "name": "stderr",
     "output_type": "stream",
     "text": [
      "\r",
      "stem:  22%|██▏       | 10872/50000 [02:19<08:19, 78.37it/s]"
     ]
    },
    {
     "name": "stderr",
     "output_type": "stream",
     "text": [
      "\r",
      "stem:  22%|██▏       | 10860/50000 [02:19<08:51, 73.71it/s]"
     ]
    },
    {
     "name": "stderr",
     "output_type": "stream",
     "text": [
      "\r",
      "stem:  22%|██▏       | 10848/50000 [02:19<08:47, 74.23it/s]"
     ]
    },
    {
     "name": "stderr",
     "output_type": "stream",
     "text": [
      "\r",
      "stem:  22%|██▏       | 10827/50000 [02:19<09:49, 66.45it/s]"
     ]
    },
    {
     "name": "stderr",
     "output_type": "stream",
     "text": [
      "\r",
      "stem:  22%|██▏       | 10818/50000 [02:19<08:04, 80.87it/s]"
     ]
    },
    {
     "name": "stderr",
     "output_type": "stream",
     "text": [
      "\r",
      "stem:  22%|██▏       | 10800/50000 [02:18<07:45, 84.12it/s]"
     ]
    },
    {
     "name": "stderr",
     "output_type": "stream",
     "text": [
      "\r",
      "stem:  22%|██▏       | 10789/50000 [02:18<07:56, 82.23it/s]"
     ]
    },
    {
     "name": "stderr",
     "output_type": "stream",
     "text": [
      "\r",
      "stem:  22%|██▏       | 10780/50000 [02:18<07:50, 83.37it/s]"
     ]
    },
    {
     "name": "stderr",
     "output_type": "stream",
     "text": [
      "\r",
      "stem:  22%|██▏       | 10770/50000 [02:18<07:05, 92.11it/s] "
     ]
    },
    {
     "name": "stderr",
     "output_type": "stream",
     "text": [
      "\r",
      "stem:  22%|██▏       | 10758/50000 [02:18<06:27, 101.15it/s]"
     ]
    },
    {
     "name": "stderr",
     "output_type": "stream",
     "text": [
      "\r",
      "stem:  21%|██▏       | 10746/50000 [02:18<06:11, 105.80it/s]"
     ]
    },
    {
     "name": "stderr",
     "output_type": "stream",
     "text": [
      "\r",
      "stem:  21%|██▏       | 10728/50000 [02:18<06:11, 105.75it/s]"
     ]
    },
    {
     "name": "stderr",
     "output_type": "stream",
     "text": [
      "\r",
      "stem:  21%|██▏       | 10710/50000 [02:17<07:09, 91.56it/s]"
     ]
    },
    {
     "name": "stderr",
     "output_type": "stream",
     "text": [
      "\r",
      "stem:  21%|██▏       | 10692/50000 [02:17<07:16, 90.04it/s]"
     ]
    },
    {
     "name": "stderr",
     "output_type": "stream",
     "text": [
      "\r",
      "stem:  21%|██▏       | 10680/50000 [02:17<06:41, 97.84it/s]"
     ]
    },
    {
     "name": "stderr",
     "output_type": "stream",
     "text": [
      "\r",
      "stem:  21%|██▏       | 10662/50000 [02:17<07:47, 84.12it/s]"
     ]
    },
    {
     "name": "stderr",
     "output_type": "stream",
     "text": [
      "\r",
      "stem:  21%|██▏       | 10650/50000 [02:17<07:55, 82.84it/s]"
     ]
    },
    {
     "name": "stderr",
     "output_type": "stream",
     "text": [
      "\r",
      "stem:  21%|██▏       | 10632/50000 [02:17<09:23, 69.86it/s]"
     ]
    },
    {
     "name": "stderr",
     "output_type": "stream",
     "text": [
      "\r",
      "stem:  21%|██        | 10620/50000 [02:17<10:24, 63.07it/s]"
     ]
    },
    {
     "name": "stderr",
     "output_type": "stream",
     "text": [
      "\r",
      "stem:  21%|██        | 10599/50000 [02:16<11:07, 59.05it/s]"
     ]
    },
    {
     "name": "stderr",
     "output_type": "stream",
     "text": [
      "\r",
      "stem:  21%|██        | 10590/50000 [02:16<09:37, 68.23it/s]"
     ]
    },
    {
     "name": "stderr",
     "output_type": "stream",
     "text": [
      "\r",
      "stem:  21%|██        | 10574/50000 [02:16<11:17, 58.17it/s]"
     ]
    },
    {
     "name": "stderr",
     "output_type": "stream",
     "text": [
      "\r",
      "stem:  21%|██        | 10566/50000 [02:16<09:34, 68.70it/s]"
     ]
    },
    {
     "name": "stderr",
     "output_type": "stream",
     "text": [
      "\r",
      "stem:  21%|██        | 10551/50000 [02:16<10:58, 59.91it/s]"
     ]
    },
    {
     "name": "stderr",
     "output_type": "stream",
     "text": [
      "\r",
      "stem:  21%|██        | 10544/50000 [02:16<10:44, 61.18it/s]"
     ]
    },
    {
     "name": "stderr",
     "output_type": "stream",
     "text": [
      "\r",
      "stem:  21%|██        | 10536/50000 [02:15<08:55, 73.64it/s]"
     ]
    },
    {
     "name": "stderr",
     "output_type": "stream",
     "text": [
      "\r",
      "stem:  21%|██        | 10527/50000 [02:15<08:31, 77.22it/s]"
     ]
    },
    {
     "name": "stderr",
     "output_type": "stream",
     "text": [
      "\r",
      "stem:  21%|██        | 10518/50000 [02:15<08:50, 74.38it/s]"
     ]
    },
    {
     "name": "stderr",
     "output_type": "stream",
     "text": [
      "\r",
      "stem:  21%|██        | 10494/50000 [02:15<09:53, 66.59it/s]"
     ]
    },
    {
     "name": "stderr",
     "output_type": "stream",
     "text": [
      "\r",
      "stem:  21%|██        | 10470/50000 [02:15<10:57, 60.13it/s]"
     ]
    },
    {
     "name": "stderr",
     "output_type": "stream",
     "text": [
      "\r",
      "stem:  21%|██        | 10456/50000 [02:14<10:53, 60.54it/s]"
     ]
    },
    {
     "name": "stderr",
     "output_type": "stream",
     "text": [
      "\r",
      "stem:  21%|██        | 10448/50000 [02:14<10:32, 62.55it/s]"
     ]
    },
    {
     "name": "stderr",
     "output_type": "stream",
     "text": [
      "\r",
      "stem:  21%|██        | 10440/50000 [02:14<10:26, 63.16it/s]"
     ]
    },
    {
     "name": "stderr",
     "output_type": "stream",
     "text": [
      "\r",
      "stem:  21%|██        | 10425/50000 [02:14<12:03, 54.73it/s]"
     ]
    },
    {
     "name": "stderr",
     "output_type": "stream",
     "text": [
      "\r",
      "stem:  21%|██        | 10416/50000 [02:14<08:18, 79.47it/s]"
     ]
    },
    {
     "name": "stderr",
     "output_type": "stream",
     "text": [
      "\r",
      "stem:  21%|██        | 10398/50000 [02:13<08:26, 78.23it/s]"
     ]
    },
    {
     "name": "stderr",
     "output_type": "stream",
     "text": [
      "\r",
      "stem:  21%|██        | 10389/50000 [02:13<08:05, 81.53it/s]"
     ]
    },
    {
     "name": "stderr",
     "output_type": "stream",
     "text": [
      "\r",
      "stem:  21%|██        | 10380/50000 [02:13<08:24, 78.57it/s]"
     ]
    },
    {
     "name": "stderr",
     "output_type": "stream",
     "text": [
      "\r",
      "stem:  21%|██        | 10368/50000 [02:13<07:16, 90.88it/s]"
     ]
    },
    {
     "name": "stderr",
     "output_type": "stream",
     "text": [
      "\r",
      "stem:  21%|██        | 10346/50000 [02:13<08:04, 81.82it/s]"
     ]
    },
    {
     "name": "stderr",
     "output_type": "stream",
     "text": [
      "\r",
      "stem:  21%|██        | 10336/50000 [02:13<07:49, 84.50it/s]"
     ]
    },
    {
     "name": "stderr",
     "output_type": "stream",
     "text": [
      "\r",
      "stem:  21%|██        | 10326/50000 [02:13<08:04, 81.86it/s]"
     ]
    },
    {
     "name": "stderr",
     "output_type": "stream",
     "text": [
      "\r",
      "stem:  21%|██        | 10314/50000 [02:12<07:36, 86.98it/s]"
     ]
    },
    {
     "name": "stderr",
     "output_type": "stream",
     "text": [
      "\r",
      "stem:  21%|██        | 10296/50000 [02:12<08:52, 74.55it/s]"
     ]
    },
    {
     "name": "stderr",
     "output_type": "stream",
     "text": [
      "\r",
      "stem:  21%|██        | 10272/50000 [02:12<08:42, 76.00it/s]"
     ]
    },
    {
     "name": "stderr",
     "output_type": "stream",
     "text": [
      "\r",
      "stem:  21%|██        | 10260/50000 [02:12<07:37, 86.78it/s]"
     ]
    },
    {
     "name": "stderr",
     "output_type": "stream",
     "text": [
      "\r",
      "stem:  20%|██        | 10242/50000 [02:12<08:50, 75.00it/s]"
     ]
    },
    {
     "name": "stderr",
     "output_type": "stream",
     "text": [
      "\r",
      "stem:  20%|██        | 10230/50000 [02:11<08:03, 82.32it/s]"
     ]
    },
    {
     "name": "stderr",
     "output_type": "stream",
     "text": [
      "\r",
      "stem:  20%|██        | 10212/50000 [02:11<07:38, 86.75it/s]"
     ]
    },
    {
     "name": "stderr",
     "output_type": "stream",
     "text": [
      "\r",
      "stem:  20%|██        | 10200/50000 [02:11<07:43, 85.79it/s]"
     ]
    },
    {
     "name": "stderr",
     "output_type": "stream",
     "text": [
      "\r",
      "stem:  20%|██        | 10188/50000 [02:11<08:39, 76.58it/s]"
     ]
    },
    {
     "name": "stderr",
     "output_type": "stream",
     "text": [
      "\r",
      "stem:  20%|██        | 10176/50000 [02:11<08:47, 75.47it/s]"
     ]
    },
    {
     "name": "stderr",
     "output_type": "stream",
     "text": [
      "\r",
      "stem:  20%|██        | 10164/50000 [02:11<10:04, 65.89it/s]"
     ]
    },
    {
     "name": "stderr",
     "output_type": "stream",
     "text": [
      "\r",
      "stem:  20%|██        | 10154/50000 [02:11<08:44, 75.94it/s]"
     ]
    },
    {
     "name": "stderr",
     "output_type": "stream",
     "text": [
      "\r",
      "stem:  20%|██        | 10144/50000 [02:10<07:37, 87.18it/s]"
     ]
    },
    {
     "name": "stderr",
     "output_type": "stream",
     "text": [
      "\r",
      "stem:  20%|██        | 10134/50000 [02:10<07:32, 88.04it/s]"
     ]
    },
    {
     "name": "stderr",
     "output_type": "stream",
     "text": [
      "\r",
      "stem:  20%|██        | 10120/50000 [02:10<08:18, 80.02it/s]"
     ]
    },
    {
     "name": "stderr",
     "output_type": "stream",
     "text": [
      "\r",
      "stem:  20%|██        | 10110/50000 [02:10<07:24, 89.82it/s]"
     ]
    },
    {
     "name": "stderr",
     "output_type": "stream",
     "text": [
      "\r",
      "stem:  20%|██        | 10092/50000 [02:10<08:12, 80.96it/s]"
     ]
    },
    {
     "name": "stderr",
     "output_type": "stream",
     "text": [
      "\r",
      "stem:  20%|██        | 10074/50000 [02:10<08:34, 77.56it/s]"
     ]
    },
    {
     "name": "stderr",
     "output_type": "stream",
     "text": [
      "\r",
      "stem:  20%|██        | 10062/50000 [02:09<08:27, 78.76it/s]"
     ]
    },
    {
     "name": "stderr",
     "output_type": "stream",
     "text": [
      "\r",
      "stem:  20%|██        | 10050/50000 [02:09<08:57, 74.30it/s]"
     ]
    },
    {
     "name": "stderr",
     "output_type": "stream",
     "text": [
      "\r",
      "stem:  20%|██        | 10030/50000 [02:09<08:31, 78.17it/s]"
     ]
    },
    {
     "name": "stderr",
     "output_type": "stream",
     "text": [
      "\r",
      "stem:  20%|██        | 10020/50000 [02:09<07:59, 83.42it/s]"
     ]
    },
    {
     "name": "stderr",
     "output_type": "stream",
     "text": [
      "\r",
      "stem:  20%|██        | 10008/50000 [02:09<09:01, 73.84it/s]"
     ]
    },
    {
     "name": "stderr",
     "output_type": "stream",
     "text": [
      "\r",
      "stem:  20%|█▉        | 9992/50000 [02:09<09:48, 67.93it/s]"
     ]
    },
    {
     "name": "stderr",
     "output_type": "stream",
     "text": [
      "\r",
      "stem:  20%|█▉        | 9984/50000 [02:08<09:21, 71.31it/s]"
     ]
    },
    {
     "name": "stderr",
     "output_type": "stream",
     "text": [
      "\r",
      "stem:  20%|█▉        | 9969/50000 [02:08<08:32, 78.06it/s]"
     ]
    },
    {
     "name": "stderr",
     "output_type": "stream",
     "text": [
      "\r",
      "stem:  20%|█▉        | 9959/50000 [02:08<07:39, 87.11it/s]"
     ]
    },
    {
     "name": "stderr",
     "output_type": "stream",
     "text": [
      "\r",
      "stem:  20%|█▉        | 9948/50000 [02:08<07:05, 94.18it/s]"
     ]
    },
    {
     "name": "stderr",
     "output_type": "stream",
     "text": [
      "\r",
      "stem:  20%|█▉        | 9930/50000 [02:08<08:12, 81.36it/s]"
     ]
    },
    {
     "name": "stderr",
     "output_type": "stream",
     "text": [
      "\r",
      "stem:  20%|█▉        | 9918/50000 [02:08<08:06, 82.41it/s]"
     ]
    },
    {
     "name": "stderr",
     "output_type": "stream",
     "text": [
      "\r",
      "stem:  20%|█▉        | 9900/50000 [02:07<09:18, 71.78it/s]"
     ]
    },
    {
     "name": "stderr",
     "output_type": "stream",
     "text": [
      "\r",
      "stem:  20%|█▉        | 9888/50000 [02:07<08:57, 74.57it/s]"
     ]
    },
    {
     "name": "stderr",
     "output_type": "stream",
     "text": [
      "\r",
      "stem:  20%|█▉        | 9871/50000 [02:07<09:27, 70.69it/s]"
     ]
    },
    {
     "name": "stderr",
     "output_type": "stream",
     "text": [
      "\r",
      "stem:  20%|█▉        | 9862/50000 [02:07<08:06, 82.42it/s]"
     ]
    },
    {
     "name": "stderr",
     "output_type": "stream",
     "text": [
      "\r",
      "stem:  20%|█▉        | 9852/50000 [02:07<07:57, 84.12it/s]"
     ]
    },
    {
     "name": "stderr",
     "output_type": "stream",
     "text": [
      "\r",
      "stem:  20%|█▉        | 9834/50000 [02:07<09:09, 73.10it/s]"
     ]
    },
    {
     "name": "stderr",
     "output_type": "stream",
     "text": [
      "\r",
      "stem:  20%|█▉        | 9822/50000 [02:07<09:45, 68.57it/s]"
     ]
    },
    {
     "name": "stderr",
     "output_type": "stream",
     "text": [
      "\r",
      "stem:  20%|█▉        | 9810/50000 [02:06<10:04, 66.54it/s]"
     ]
    },
    {
     "name": "stderr",
     "output_type": "stream",
     "text": [
      "\r",
      "stem:  20%|█▉        | 9798/50000 [02:06<11:52, 56.45it/s]"
     ]
    },
    {
     "name": "stderr",
     "output_type": "stream",
     "text": [
      "\r",
      "stem:  20%|█▉        | 9789/50000 [02:06<11:33, 58.02it/s]"
     ]
    },
    {
     "name": "stderr",
     "output_type": "stream",
     "text": [
      "\r",
      "stem:  20%|█▉        | 9782/50000 [02:06<12:20, 54.30it/s]"
     ]
    },
    {
     "name": "stderr",
     "output_type": "stream",
     "text": [
      "\r",
      "stem:  20%|█▉        | 9774/50000 [02:06<10:51, 61.76it/s]"
     ]
    },
    {
     "name": "stderr",
     "output_type": "stream",
     "text": [
      "\r",
      "stem:  20%|█▉        | 9765/50000 [02:06<08:18, 80.73it/s]"
     ]
    },
    {
     "name": "stderr",
     "output_type": "stream",
     "text": [
      "\r",
      "stem:  20%|█▉        | 9756/50000 [02:05<08:23, 79.86it/s]"
     ]
    },
    {
     "name": "stderr",
     "output_type": "stream",
     "text": [
      "\r",
      "stem:  19%|█▉        | 9744/50000 [02:05<07:34, 88.50it/s]"
     ]
    },
    {
     "name": "stderr",
     "output_type": "stream",
     "text": [
      "\r",
      "stem:  19%|█▉        | 9730/50000 [02:05<07:29, 89.68it/s]"
     ]
    },
    {
     "name": "stderr",
     "output_type": "stream",
     "text": [
      "\r",
      "stem:  19%|█▉        | 9720/50000 [02:05<07:35, 88.48it/s]"
     ]
    },
    {
     "name": "stderr",
     "output_type": "stream",
     "text": [
      "\r",
      "stem:  19%|█▉        | 9708/50000 [02:05<07:52, 85.34it/s]"
     ]
    },
    {
     "name": "stderr",
     "output_type": "stream",
     "text": [
      "\r",
      "stem:  19%|█▉        | 9690/50000 [02:05<07:26, 90.29it/s]"
     ]
    },
    {
     "name": "stderr",
     "output_type": "stream",
     "text": [
      "\r",
      "stem:  19%|█▉        | 9672/50000 [02:04<07:30, 89.44it/s]"
     ]
    },
    {
     "name": "stderr",
     "output_type": "stream",
     "text": [
      "\r",
      "stem:  19%|█▉        | 9654/50000 [02:04<07:33, 88.88it/s]"
     ]
    },
    {
     "name": "stderr",
     "output_type": "stream",
     "text": [
      "\r",
      "stem:  19%|█▉        | 9636/50000 [02:04<08:39, 77.65it/s]"
     ]
    },
    {
     "name": "stderr",
     "output_type": "stream",
     "text": [
      "\r",
      "stem:  19%|█▉        | 9612/50000 [02:04<09:54, 67.94it/s]"
     ]
    },
    {
     "name": "stderr",
     "output_type": "stream",
     "text": [
      "\r",
      "stem:  19%|█▉        | 9590/50000 [02:04<11:24, 59.04it/s]"
     ]
    },
    {
     "name": "stderr",
     "output_type": "stream",
     "text": [
      "\r",
      "stem:  19%|█▉        | 9582/50000 [02:04<11:24, 59.09it/s]"
     ]
    },
    {
     "name": "stderr",
     "output_type": "stream",
     "text": [
      "\r",
      "stem:  19%|█▉        | 9570/50000 [02:03<13:16, 50.74it/s]"
     ]
    },
    {
     "name": "stderr",
     "output_type": "stream",
     "text": [
      "\r",
      "stem:  19%|█▉        | 9561/50000 [02:03<13:41, 49.25it/s]"
     ]
    },
    {
     "name": "stderr",
     "output_type": "stream",
     "text": [
      "\r",
      "stem:  19%|█▉        | 9551/50000 [02:03<07:16, 92.59it/s]"
     ]
    },
    {
     "name": "stderr",
     "output_type": "stream",
     "text": [
      "\r",
      "stem:  19%|█▉        | 9540/50000 [02:03<06:59, 96.40it/s]"
     ]
    },
    {
     "name": "stderr",
     "output_type": "stream",
     "text": [
      "\r",
      "stem:  19%|█▉        | 9526/50000 [02:03<07:22, 91.55it/s]"
     ]
    },
    {
     "name": "stderr",
     "output_type": "stream",
     "text": [
      "\r",
      "stem:  19%|█▉        | 9516/50000 [02:02<07:27, 90.43it/s]"
     ]
    },
    {
     "name": "stderr",
     "output_type": "stream",
     "text": [
      "\r",
      "stem:  19%|█▉        | 9504/50000 [02:02<07:45, 86.97it/s]"
     ]
    },
    {
     "name": "stderr",
     "output_type": "stream",
     "text": [
      "\r",
      "stem:  19%|█▉        | 9492/50000 [02:02<08:08, 82.99it/s]"
     ]
    },
    {
     "name": "stderr",
     "output_type": "stream",
     "text": [
      "\r",
      "stem:  19%|█▉        | 9474/50000 [02:02<09:34, 70.52it/s]"
     ]
    },
    {
     "name": "stderr",
     "output_type": "stream",
     "text": [
      "\r",
      "stem:  19%|█▉        | 9462/50000 [02:02<08:10, 82.71it/s]"
     ]
    },
    {
     "name": "stderr",
     "output_type": "stream",
     "text": [
      "\r",
      "stem:  19%|█▉        | 9450/50000 [02:02<08:45, 77.12it/s]"
     ]
    },
    {
     "name": "stderr",
     "output_type": "stream",
     "text": [
      "\r",
      "stem:  19%|█▉        | 9438/50000 [02:02<08:52, 76.14it/s]"
     ]
    },
    {
     "name": "stderr",
     "output_type": "stream",
     "text": [
      "\r",
      "stem:  19%|█▉        | 9420/50000 [02:01<08:49, 76.59it/s]"
     ]
    },
    {
     "name": "stderr",
     "output_type": "stream",
     "text": [
      "\r",
      "stem:  19%|█▉        | 9400/50000 [02:01<09:50, 68.74it/s]"
     ]
    },
    {
     "name": "stderr",
     "output_type": "stream",
     "text": [
      "\r",
      "stem:  19%|█▉        | 9390/50000 [02:01<08:10, 82.73it/s]"
     ]
    },
    {
     "name": "stderr",
     "output_type": "stream",
     "text": [
      "\r",
      "stem:  19%|█▊        | 9371/50000 [02:01<08:53, 76.11it/s]"
     ]
    },
    {
     "name": "stderr",
     "output_type": "stream",
     "text": [
      "\r",
      "stem:  19%|█▊        | 9360/50000 [02:01<08:29, 79.77it/s]"
     ]
    },
    {
     "name": "stderr",
     "output_type": "stream",
     "text": [
      "\r",
      "stem:  19%|█▊        | 9342/50000 [02:01<10:26, 64.90it/s]"
     ]
    },
    {
     "name": "stderr",
     "output_type": "stream",
     "text": [
      "\r",
      "stem:  19%|█▊        | 9330/50000 [02:00<11:39, 58.15it/s]"
     ]
    },
    {
     "name": "stderr",
     "output_type": "stream",
     "text": [
      "\r",
      "stem:  19%|█▊        | 9319/50000 [02:00<11:37, 58.35it/s]"
     ]
    },
    {
     "name": "stderr",
     "output_type": "stream",
     "text": [
      "\r",
      "stem:  19%|█▊        | 9312/50000 [02:00<11:50, 57.27it/s]"
     ]
    },
    {
     "name": "stderr",
     "output_type": "stream",
     "text": [
      "\r",
      "stem:  19%|█▊        | 9303/50000 [02:00<09:05, 74.60it/s]"
     ]
    },
    {
     "name": "stderr",
     "output_type": "stream",
     "text": [
      "\r",
      "stem:  19%|█▊        | 9294/50000 [02:00<08:54, 76.17it/s]"
     ]
    },
    {
     "name": "stderr",
     "output_type": "stream",
     "text": [
      "\r",
      "stem:  19%|█▊        | 9282/50000 [02:00<10:02, 67.61it/s]"
     ]
    },
    {
     "name": "stderr",
     "output_type": "stream",
     "text": [
      "\r",
      "stem:  19%|█▊        | 9270/50000 [01:59<08:56, 75.90it/s]"
     ]
    },
    {
     "name": "stderr",
     "output_type": "stream",
     "text": [
      "\r",
      "stem:  19%|█▊        | 9258/50000 [01:59<09:27, 71.74it/s]"
     ]
    },
    {
     "name": "stderr",
     "output_type": "stream",
     "text": [
      "\r",
      "stem:  18%|█▊        | 9241/50000 [01:59<10:39, 63.72it/s]"
     ]
    },
    {
     "name": "stderr",
     "output_type": "stream",
     "text": [
      "\r",
      "stem:  18%|█▊        | 9232/50000 [01:59<08:17, 81.92it/s]"
     ]
    },
    {
     "name": "stderr",
     "output_type": "stream",
     "text": [
      "\r",
      "stem:  18%|█▊        | 9222/50000 [01:59<08:09, 83.35it/s]"
     ]
    },
    {
     "name": "stderr",
     "output_type": "stream",
     "text": [
      "\r",
      "stem:  18%|█▊        | 9204/50000 [01:59<09:14, 73.60it/s]"
     ]
    },
    {
     "name": "stderr",
     "output_type": "stream",
     "text": [
      "\r",
      "stem:  18%|█▊        | 9192/50000 [01:58<09:14, 73.62it/s]"
     ]
    },
    {
     "name": "stderr",
     "output_type": "stream",
     "text": [
      "\r",
      "stem:  18%|█▊        | 9171/50000 [01:58<09:56, 68.41it/s]"
     ]
    },
    {
     "name": "stderr",
     "output_type": "stream",
     "text": [
      "\r",
      "stem:  18%|█▊        | 9162/50000 [01:58<09:01, 75.48it/s]"
     ]
    },
    {
     "name": "stderr",
     "output_type": "stream",
     "text": [
      "\r",
      "stem:  18%|█▊        | 9144/50000 [01:58<10:21, 65.74it/s]"
     ]
    },
    {
     "name": "stderr",
     "output_type": "stream",
     "text": [
      "\r",
      "stem:  18%|█▊        | 9120/50000 [01:58<10:46, 63.20it/s]"
     ]
    },
    {
     "name": "stderr",
     "output_type": "stream",
     "text": [
      "\r",
      "stem:  18%|█▊        | 9098/50000 [01:57<10:59, 62.01it/s]"
     ]
    },
    {
     "name": "stderr",
     "output_type": "stream",
     "text": [
      "\r",
      "stem:  18%|█▊        | 9090/50000 [01:57<09:50, 69.29it/s]"
     ]
    },
    {
     "name": "stderr",
     "output_type": "stream",
     "text": [
      "\r",
      "stem:  18%|█▊        | 9072/50000 [01:57<11:20, 60.16it/s]"
     ]
    },
    {
     "name": "stderr",
     "output_type": "stream",
     "text": [
      "\r",
      "stem:  18%|█▊        | 9060/50000 [01:57<11:16, 60.51it/s]"
     ]
    },
    {
     "name": "stderr",
     "output_type": "stream",
     "text": [
      "\r",
      "stem:  18%|█▊        | 9048/50000 [01:57<12:46, 53.42it/s]"
     ]
    },
    {
     "name": "stderr",
     "output_type": "stream",
     "text": [
      "\r",
      "stem:  18%|█▊        | 9036/50000 [01:56<13:08, 51.98it/s]"
     ]
    },
    {
     "name": "stderr",
     "output_type": "stream",
     "text": [
      "\r",
      "stem:  18%|█▊        | 9024/50000 [01:56<12:53, 52.97it/s]"
     ]
    },
    {
     "name": "stderr",
     "output_type": "stream",
     "text": [
      "\r",
      "stem:  18%|█▊        | 9006/50000 [01:56<13:19, 51.30it/s]"
     ]
    },
    {
     "name": "stderr",
     "output_type": "stream",
     "text": [
      "\r",
      "stem:  18%|█▊        | 8994/50000 [01:56<12:12, 55.99it/s]"
     ]
    },
    {
     "name": "stderr",
     "output_type": "stream",
     "text": [
      "\r",
      "stem:  18%|█▊        | 8982/50000 [01:55<13:01, 52.49it/s]"
     ]
    },
    {
     "name": "stderr",
     "output_type": "stream",
     "text": [
      "\r",
      "stem:  18%|█▊        | 8971/50000 [01:55<15:02, 45.44it/s]"
     ]
    },
    {
     "name": "stderr",
     "output_type": "stream",
     "text": [
      "\r",
      "stem:  18%|█▊        | 8964/50000 [01:55<13:20, 51.26it/s]"
     ]
    },
    {
     "name": "stderr",
     "output_type": "stream",
     "text": [
      "\r",
      "stem:  18%|█▊        | 8952/50000 [01:55<15:44, 43.47it/s]"
     ]
    },
    {
     "name": "stderr",
     "output_type": "stream",
     "text": [
      "\r",
      "stem:  18%|█▊        | 8946/50000 [01:55<15:49, 43.24it/s]"
     ]
    },
    {
     "name": "stderr",
     "output_type": "stream",
     "text": [
      "\r",
      "stem:  18%|█▊        | 8940/50000 [01:55<12:42, 53.87it/s]"
     ]
    },
    {
     "name": "stderr",
     "output_type": "stream",
     "text": [
      "\r",
      "stem:  18%|█▊        | 8930/50000 [01:54<11:24, 59.98it/s]"
     ]
    },
    {
     "name": "stderr",
     "output_type": "stream",
     "text": [
      "\r",
      "stem:  18%|█▊        | 8922/50000 [01:54<09:33, 71.65it/s]"
     ]
    },
    {
     "name": "stderr",
     "output_type": "stream",
     "text": [
      "\r",
      "stem:  18%|█▊        | 8910/50000 [01:54<09:33, 71.61it/s]"
     ]
    },
    {
     "name": "stderr",
     "output_type": "stream",
     "text": [
      "\r",
      "stem:  18%|█▊        | 8892/50000 [01:54<09:19, 73.51it/s]"
     ]
    },
    {
     "name": "stderr",
     "output_type": "stream",
     "text": [
      "\r",
      "stem:  18%|█▊        | 8875/50000 [01:53<09:47, 70.03it/s]"
     ]
    },
    {
     "name": "stderr",
     "output_type": "stream",
     "text": [
      "\r",
      "stem:  18%|█▊        | 8866/50000 [01:53<09:38, 71.09it/s]"
     ]
    },
    {
     "name": "stderr",
     "output_type": "stream",
     "text": [
      "\r",
      "stem:  18%|█▊        | 8856/50000 [01:53<08:59, 76.20it/s]"
     ]
    },
    {
     "name": "stderr",
     "output_type": "stream",
     "text": [
      "\r",
      "stem:  18%|█▊        | 8838/50000 [01:53<10:53, 62.99it/s]"
     ]
    },
    {
     "name": "stderr",
     "output_type": "stream",
     "text": [
      "\r",
      "stem:  18%|█▊        | 8826/50000 [01:53<10:25, 65.79it/s]"
     ]
    },
    {
     "name": "stderr",
     "output_type": "stream",
     "text": [
      "\r",
      "stem:  18%|█▊        | 8810/50000 [01:53<10:59, 62.42it/s]"
     ]
    },
    {
     "name": "stderr",
     "output_type": "stream",
     "text": [
      "\r",
      "stem:  18%|█▊        | 8802/50000 [01:52<10:21, 66.29it/s]"
     ]
    },
    {
     "name": "stderr",
     "output_type": "stream",
     "text": [
      "\r",
      "stem:  18%|█▊        | 8790/50000 [01:52<10:18, 66.59it/s]"
     ]
    },
    {
     "name": "stderr",
     "output_type": "stream",
     "text": [
      "\r",
      "stem:  18%|█▊        | 8777/50000 [01:52<11:29, 59.76it/s]"
     ]
    },
    {
     "name": "stderr",
     "output_type": "stream",
     "text": [
      "\r",
      "stem:  18%|█▊        | 8769/50000 [01:52<10:49, 63.44it/s]"
     ]
    },
    {
     "name": "stderr",
     "output_type": "stream",
     "text": [
      "\r",
      "stem:  18%|█▊        | 8760/50000 [01:52<10:17, 66.78it/s]"
     ]
    },
    {
     "name": "stderr",
     "output_type": "stream",
     "text": [
      "\r",
      "stem:  17%|█▋        | 8742/50000 [01:52<12:42, 54.10it/s]"
     ]
    },
    {
     "name": "stderr",
     "output_type": "stream",
     "text": [
      "\r",
      "stem:  17%|█▋        | 8730/50000 [01:51<11:33, 59.47it/s]"
     ]
    },
    {
     "name": "stderr",
     "output_type": "stream",
     "text": [
      "\r",
      "stem:  17%|█▋        | 8718/50000 [01:51<12:55, 53.25it/s]"
     ]
    },
    {
     "name": "stderr",
     "output_type": "stream",
     "text": [
      "\r",
      "stem:  17%|█▋        | 8707/50000 [01:51<11:59, 57.41it/s]"
     ]
    },
    {
     "name": "stderr",
     "output_type": "stream",
     "text": [
      "\r",
      "stem:  17%|█▋        | 8700/50000 [01:51<11:58, 57.45it/s]"
     ]
    },
    {
     "name": "stderr",
     "output_type": "stream",
     "text": [
      "\r",
      "stem:  17%|█▋        | 8682/50000 [01:51<11:14, 61.27it/s]"
     ]
    },
    {
     "name": "stderr",
     "output_type": "stream",
     "text": [
      "\r",
      "stem:  17%|█▋        | 8658/50000 [01:50<10:40, 64.54it/s]"
     ]
    },
    {
     "name": "stderr",
     "output_type": "stream",
     "text": [
      "\r",
      "stem:  17%|█▋        | 8640/50000 [01:50<09:41, 71.13it/s]"
     ]
    },
    {
     "name": "stderr",
     "output_type": "stream",
     "text": [
      "\r",
      "stem:  17%|█▋        | 8631/50000 [01:50<09:27, 72.91it/s]"
     ]
    },
    {
     "name": "stderr",
     "output_type": "stream",
     "text": [
      "\r",
      "stem:  17%|█▋        | 8622/50000 [01:50<08:57, 76.97it/s]"
     ]
    },
    {
     "name": "stderr",
     "output_type": "stream",
     "text": [
      "\r",
      "stem:  17%|█▋        | 8610/50000 [01:49<10:18, 66.96it/s]"
     ]
    },
    {
     "name": "stderr",
     "output_type": "stream",
     "text": [
      "\r",
      "stem:  17%|█▋        | 8595/50000 [01:49<11:19, 60.91it/s]"
     ]
    },
    {
     "name": "stderr",
     "output_type": "stream",
     "text": [
      "\r",
      "stem:  17%|█▋        | 8586/50000 [01:49<08:30, 81.20it/s]"
     ]
    },
    {
     "name": "stderr",
     "output_type": "stream",
     "text": [
      "\r",
      "stem:  17%|█▋        | 8568/50000 [01:49<09:31, 72.44it/s]"
     ]
    },
    {
     "name": "stderr",
     "output_type": "stream",
     "text": [
      "\r",
      "stem:  17%|█▋        | 8556/50000 [01:49<08:44, 78.96it/s]"
     ]
    },
    {
     "name": "stderr",
     "output_type": "stream",
     "text": [
      "\r",
      "stem:  17%|█▋        | 8532/50000 [01:48<09:17, 74.36it/s]"
     ]
    },
    {
     "name": "stderr",
     "output_type": "stream",
     "text": [
      "\r",
      "stem:  17%|█▋        | 8518/50000 [01:48<08:56, 77.35it/s]"
     ]
    },
    {
     "name": "stderr",
     "output_type": "stream",
     "text": [
      "\r",
      "stem:  17%|█▋        | 8508/50000 [01:48<07:34, 91.32it/s]"
     ]
    },
    {
     "name": "stderr",
     "output_type": "stream",
     "text": [
      "\r",
      "stem:  17%|█▋        | 8490/50000 [01:48<07:57, 86.87it/s]"
     ]
    },
    {
     "name": "stderr",
     "output_type": "stream",
     "text": [
      "\r",
      "stem:  17%|█▋        | 8478/50000 [01:48<08:47, 78.76it/s]"
     ]
    },
    {
     "name": "stderr",
     "output_type": "stream",
     "text": [
      "\r",
      "stem:  17%|█▋        | 8464/50000 [01:48<09:36, 72.06it/s]"
     ]
    },
    {
     "name": "stderr",
     "output_type": "stream",
     "text": [
      "\r",
      "stem:  17%|█▋        | 8454/50000 [01:47<07:53, 87.71it/s]"
     ]
    },
    {
     "name": "stderr",
     "output_type": "stream",
     "text": [
      "\r",
      "stem:  17%|█▋        | 8442/50000 [01:47<08:15, 83.88it/s]"
     ]
    },
    {
     "name": "stderr",
     "output_type": "stream",
     "text": [
      "\r",
      "stem:  17%|█▋        | 8430/50000 [01:47<09:08, 75.84it/s]"
     ]
    },
    {
     "name": "stderr",
     "output_type": "stream",
     "text": [
      "\r",
      "stem:  17%|█▋        | 8417/50000 [01:47<10:25, 66.52it/s]"
     ]
    },
    {
     "name": "stderr",
     "output_type": "stream",
     "text": [
      "\r",
      "stem:  17%|█▋        | 8406/50000 [01:47<08:31, 81.27it/s]"
     ]
    },
    {
     "name": "stderr",
     "output_type": "stream",
     "text": [
      "\r",
      "stem:  17%|█▋        | 8388/50000 [01:47<10:30, 65.95it/s]"
     ]
    },
    {
     "name": "stderr",
     "output_type": "stream",
     "text": [
      "\r",
      "stem:  17%|█▋        | 8376/50000 [01:47<12:04, 57.46it/s]"
     ]
    },
    {
     "name": "stderr",
     "output_type": "stream",
     "text": [
      "\r",
      "stem:  17%|█▋        | 8364/50000 [01:46<12:22, 56.09it/s]"
     ]
    },
    {
     "name": "stderr",
     "output_type": "stream",
     "text": [
      "\r",
      "stem:  17%|█▋        | 8352/50000 [01:46<12:57, 53.55it/s]"
     ]
    },
    {
     "name": "stderr",
     "output_type": "stream",
     "text": [
      "\r",
      "stem:  17%|█▋        | 8340/50000 [01:46<15:33, 44.61it/s]"
     ]
    },
    {
     "name": "stderr",
     "output_type": "stream",
     "text": [
      "\r",
      "stem:  17%|█▋        | 8328/50000 [01:46<14:55, 46.52it/s]"
     ]
    },
    {
     "name": "stderr",
     "output_type": "stream",
     "text": [
      "\r",
      "stem:  17%|█▋        | 8316/50000 [01:46<14:41, 47.29it/s]"
     ]
    },
    {
     "name": "stderr",
     "output_type": "stream",
     "text": [
      "\r",
      "stem:  17%|█▋        | 8310/50000 [01:45<13:00, 53.39it/s]"
     ]
    },
    {
     "name": "stderr",
     "output_type": "stream",
     "text": [
      "\r",
      "stem:  17%|█▋        | 8300/50000 [01:45<12:11, 56.99it/s]"
     ]
    },
    {
     "name": "stderr",
     "output_type": "stream",
     "text": [
      "\r",
      "stem:  17%|█▋        | 8292/50000 [01:45<09:56, 69.89it/s]"
     ]
    },
    {
     "name": "stderr",
     "output_type": "stream",
     "text": [
      "\r",
      "stem:  17%|█▋        | 8276/50000 [01:45<10:11, 68.22it/s]"
     ]
    },
    {
     "name": "stderr",
     "output_type": "stream",
     "text": [
      "\r",
      "stem:  17%|█▋        | 8268/50000 [01:45<10:48, 64.36it/s]"
     ]
    },
    {
     "name": "stderr",
     "output_type": "stream",
     "text": [
      "\r",
      "stem:  17%|█▋        | 8256/50000 [01:44<08:50, 78.62it/s]"
     ]
    },
    {
     "name": "stderr",
     "output_type": "stream",
     "text": [
      "\r",
      "stem:  16%|█▋        | 8244/50000 [01:44<09:14, 75.34it/s]"
     ]
    },
    {
     "name": "stderr",
     "output_type": "stream",
     "text": [
      "\r",
      "stem:  16%|█▋        | 8235/50000 [01:44<08:55, 77.96it/s]"
     ]
    },
    {
     "name": "stderr",
     "output_type": "stream",
     "text": [
      "\r",
      "stem:  16%|█▋        | 8226/50000 [01:44<09:03, 76.85it/s]"
     ]
    },
    {
     "name": "stderr",
     "output_type": "stream",
     "text": [
      "\r",
      "stem:  16%|█▋        | 8214/50000 [01:44<10:24, 66.88it/s]"
     ]
    },
    {
     "name": "stderr",
     "output_type": "stream",
     "text": [
      "\r",
      "stem:  16%|█▋        | 8204/50000 [01:44<08:07, 85.65it/s]"
     ]
    },
    {
     "name": "stderr",
     "output_type": "stream",
     "text": [
      "\r",
      "stem:  16%|█▋        | 8194/50000 [01:44<08:25, 82.67it/s]"
     ]
    },
    {
     "name": "stderr",
     "output_type": "stream",
     "text": [
      "\r",
      "stem:  16%|█▋        | 8184/50000 [01:43<08:15, 84.45it/s]"
     ]
    },
    {
     "name": "stderr",
     "output_type": "stream",
     "text": [
      "\r",
      "stem:  16%|█▋        | 8166/50000 [01:43<09:37, 72.49it/s]"
     ]
    },
    {
     "name": "stderr",
     "output_type": "stream",
     "text": [
      "\r",
      "stem:  16%|█▋        | 8150/50000 [01:43<10:38, 65.50it/s]"
     ]
    },
    {
     "name": "stderr",
     "output_type": "stream",
     "text": [
      "\r",
      "stem:  16%|█▋        | 8142/50000 [01:43<10:07, 68.93it/s]"
     ]
    },
    {
     "name": "stderr",
     "output_type": "stream",
     "text": [
      "\r",
      "stem:  16%|█▋        | 8132/50000 [01:43<11:04, 63.01it/s]"
     ]
    },
    {
     "name": "stderr",
     "output_type": "stream",
     "text": [
      "\r",
      "stem:  16%|█▌        | 8124/50000 [01:43<11:13, 62.22it/s]"
     ]
    },
    {
     "name": "stderr",
     "output_type": "stream",
     "text": [
      "\r",
      "stem:  16%|█▌        | 8112/50000 [01:43<09:32, 73.18it/s]"
     ]
    },
    {
     "name": "stderr",
     "output_type": "stream",
     "text": [
      "\r",
      "stem:  16%|█▌        | 8100/50000 [01:42<09:27, 73.80it/s]"
     ]
    },
    {
     "name": "stderr",
     "output_type": "stream",
     "text": [
      "\r",
      "stem:  16%|█▌        | 8086/50000 [01:42<11:05, 62.97it/s]"
     ]
    },
    {
     "name": "stderr",
     "output_type": "stream",
     "text": [
      "\r",
      "stem:  16%|█▌        | 8077/50000 [01:42<10:05, 69.27it/s]"
     ]
    },
    {
     "name": "stderr",
     "output_type": "stream",
     "text": [
      "\r",
      "stem:  16%|█▌        | 8068/50000 [01:42<10:58, 63.73it/s]"
     ]
    },
    {
     "name": "stderr",
     "output_type": "stream",
     "text": [
      "\r",
      "stem:  16%|█▌        | 8058/50000 [01:42<10:54, 64.07it/s]"
     ]
    },
    {
     "name": "stderr",
     "output_type": "stream",
     "text": [
      "\r",
      "stem:  16%|█▌        | 8040/50000 [01:42<13:51, 50.47it/s]"
     ]
    },
    {
     "name": "stderr",
     "output_type": "stream",
     "text": [
      "\r",
      "stem:  16%|█▌        | 8022/50000 [01:41<15:44, 44.44it/s]"
     ]
    },
    {
     "name": "stderr",
     "output_type": "stream",
     "text": [
      "\r",
      "stem:  16%|█▌        | 8011/50000 [01:41<15:39, 44.69it/s]"
     ]
    },
    {
     "name": "stderr",
     "output_type": "stream",
     "text": [
      "\r",
      "stem:  16%|█▌        | 8005/50000 [01:41<16:05, 43.48it/s]"
     ]
    },
    {
     "name": "stderr",
     "output_type": "stream",
     "text": [
      "\r",
      "stem:  16%|█▌        | 7998/50000 [01:41<12:42, 55.06it/s]"
     ]
    },
    {
     "name": "stderr",
     "output_type": "stream",
     "text": [
      "\r",
      "stem:  16%|█▌        | 7988/50000 [01:41<14:15, 49.10it/s]"
     ]
    },
    {
     "name": "stderr",
     "output_type": "stream",
     "text": [
      "\r",
      "stem:  16%|█▌        | 7982/50000 [01:41<15:03, 46.52it/s]"
     ]
    },
    {
     "name": "stderr",
     "output_type": "stream",
     "text": [
      "\r",
      "stem:  16%|█▌        | 7975/50000 [01:40<13:25, 52.20it/s]"
     ]
    },
    {
     "name": "stderr",
     "output_type": "stream",
     "text": [
      "\r",
      "stem:  16%|█▌        | 7968/50000 [01:40<13:46, 50.86it/s]"
     ]
    },
    {
     "name": "stderr",
     "output_type": "stream",
     "text": [
      "\r",
      "stem:  16%|█▌        | 7951/50000 [01:40<15:12, 46.10it/s]"
     ]
    },
    {
     "name": "stderr",
     "output_type": "stream",
     "text": [
      "\r",
      "stem:  16%|█▌        | 7942/50000 [01:40<11:28, 61.05it/s]"
     ]
    },
    {
     "name": "stderr",
     "output_type": "stream",
     "text": [
      "\r",
      "stem:  16%|█▌        | 7932/50000 [01:40<11:09, 62.81it/s]"
     ]
    },
    {
     "name": "stderr",
     "output_type": "stream",
     "text": [
      "\r",
      "stem:  16%|█▌        | 7914/50000 [01:39<14:15, 49.22it/s]"
     ]
    },
    {
     "name": "stderr",
     "output_type": "stream",
     "text": [
      "\r",
      "stem:  16%|█▌        | 7902/50000 [01:39<12:46, 54.91it/s]"
     ]
    },
    {
     "name": "stderr",
     "output_type": "stream",
     "text": [
      "\r",
      "stem:  16%|█▌        | 7890/50000 [01:39<13:37, 51.51it/s]"
     ]
    },
    {
     "name": "stderr",
     "output_type": "stream",
     "text": [
      "\r",
      "stem:  16%|█▌        | 7878/50000 [01:39<13:09, 53.36it/s]"
     ]
    },
    {
     "name": "stderr",
     "output_type": "stream",
     "text": [
      "\r",
      "stem:  16%|█▌        | 7870/50000 [01:39<11:06, 63.18it/s]"
     ]
    },
    {
     "name": "stderr",
     "output_type": "stream",
     "text": [
      "\r",
      "stem:  16%|█▌        | 7862/50000 [01:38<10:43, 65.46it/s]"
     ]
    },
    {
     "name": "stderr",
     "output_type": "stream",
     "text": [
      "\r",
      "stem:  16%|█▌        | 7854/50000 [01:38<11:28, 61.18it/s]"
     ]
    },
    {
     "name": "stderr",
     "output_type": "stream",
     "text": [
      "\r",
      "stem:  16%|█▌        | 7842/50000 [01:38<11:20, 61.96it/s]"
     ]
    },
    {
     "name": "stderr",
     "output_type": "stream",
     "text": [
      "\r",
      "stem:  16%|█▌        | 7830/50000 [01:38<13:22, 52.53it/s]"
     ]
    },
    {
     "name": "stderr",
     "output_type": "stream",
     "text": [
      "\r",
      "stem:  16%|█▌        | 7818/50000 [01:38<09:12, 76.40it/s]"
     ]
    },
    {
     "name": "stderr",
     "output_type": "stream",
     "text": [
      "\r",
      "stem:  16%|█▌        | 7806/50000 [01:37<09:18, 75.54it/s]"
     ]
    },
    {
     "name": "stderr",
     "output_type": "stream",
     "text": [
      "\r",
      "stem:  16%|█▌        | 7794/50000 [01:37<08:58, 78.36it/s]"
     ]
    },
    {
     "name": "stderr",
     "output_type": "stream",
     "text": [
      "\r",
      "stem:  16%|█▌        | 7782/50000 [01:37<09:33, 73.65it/s]"
     ]
    },
    {
     "name": "stderr",
     "output_type": "stream",
     "text": [
      "\r",
      "stem:  16%|█▌        | 7770/50000 [01:37<08:31, 82.52it/s]"
     ]
    },
    {
     "name": "stderr",
     "output_type": "stream",
     "text": [
      "\r",
      "stem:  16%|█▌        | 7752/50000 [01:37<09:37, 73.20it/s]"
     ]
    },
    {
     "name": "stderr",
     "output_type": "stream",
     "text": [
      "\r",
      "stem:  15%|█▌        | 7740/50000 [01:37<09:49, 71.65it/s]"
     ]
    },
    {
     "name": "stderr",
     "output_type": "stream",
     "text": [
      "\r",
      "stem:  15%|█▌        | 7731/50000 [01:36<09:29, 74.16it/s]"
     ]
    },
    {
     "name": "stderr",
     "output_type": "stream",
     "text": [
      "\r",
      "stem:  15%|█▌        | 7722/50000 [01:36<09:12, 76.46it/s]"
     ]
    },
    {
     "name": "stderr",
     "output_type": "stream",
     "text": [
      "\r",
      "stem:  15%|█▌        | 7698/50000 [01:36<10:47, 65.30it/s]"
     ]
    },
    {
     "name": "stderr",
     "output_type": "stream",
     "text": [
      "\r",
      "stem:  15%|█▌        | 7686/50000 [01:36<11:10, 63.12it/s]"
     ]
    },
    {
     "name": "stderr",
     "output_type": "stream",
     "text": [
      "\r",
      "stem:  15%|█▌        | 7669/50000 [01:36<11:54, 59.24it/s]"
     ]
    },
    {
     "name": "stderr",
     "output_type": "stream",
     "text": [
      "\r",
      "stem:  15%|█▌        | 7662/50000 [01:36<11:09, 63.21it/s]"
     ]
    },
    {
     "name": "stderr",
     "output_type": "stream",
     "text": [
      "\r",
      "stem:  15%|█▌        | 7651/50000 [01:35<10:47, 65.39it/s]"
     ]
    },
    {
     "name": "stderr",
     "output_type": "stream",
     "text": [
      "\r",
      "stem:  15%|█▌        | 7642/50000 [01:35<09:53, 71.40it/s]"
     ]
    },
    {
     "name": "stderr",
     "output_type": "stream",
     "text": [
      "\r",
      "stem:  15%|█▌        | 7632/50000 [01:35<08:19, 84.75it/s]"
     ]
    },
    {
     "name": "stderr",
     "output_type": "stream",
     "text": [
      "\r",
      "stem:  15%|█▌        | 7614/50000 [01:35<08:58, 78.71it/s]"
     ]
    },
    {
     "name": "stderr",
     "output_type": "stream",
     "text": [
      "\r",
      "stem:  15%|█▌        | 7596/50000 [01:35<10:16, 68.79it/s]"
     ]
    },
    {
     "name": "stderr",
     "output_type": "stream",
     "text": [
      "\r",
      "stem:  15%|█▌        | 7578/50000 [01:35<11:13, 63.00it/s]"
     ]
    },
    {
     "name": "stderr",
     "output_type": "stream",
     "text": [
      "\r",
      "stem:  15%|█▌        | 7566/50000 [01:34<12:38, 55.96it/s]"
     ]
    },
    {
     "name": "stderr",
     "output_type": "stream",
     "text": [
      "\r",
      "stem:  15%|█▌        | 7554/50000 [01:34<09:48, 72.18it/s]"
     ]
    },
    {
     "name": "stderr",
     "output_type": "stream",
     "text": [
      "\r",
      "stem:  15%|█▌        | 7542/50000 [01:34<09:20, 75.74it/s]"
     ]
    },
    {
     "name": "stderr",
     "output_type": "stream",
     "text": [
      "\r",
      "stem:  15%|█▌        | 7524/50000 [01:34<09:06, 77.71it/s]"
     ]
    },
    {
     "name": "stderr",
     "output_type": "stream",
     "text": [
      "\r",
      "stem:  15%|█▌        | 7512/50000 [01:33<09:14, 76.60it/s]"
     ]
    },
    {
     "name": "stderr",
     "output_type": "stream",
     "text": [
      "\r",
      "stem:  15%|█▍        | 7496/50000 [01:33<09:25, 75.11it/s]"
     ]
    },
    {
     "name": "stderr",
     "output_type": "stream",
     "text": [
      "\r",
      "stem:  15%|█▍        | 7488/50000 [01:33<09:34, 73.95it/s]"
     ]
    },
    {
     "name": "stderr",
     "output_type": "stream",
     "text": [
      "\r",
      "stem:  15%|█▍        | 7476/50000 [01:33<09:24, 75.32it/s]"
     ]
    },
    {
     "name": "stderr",
     "output_type": "stream",
     "text": [
      "\r",
      "stem:  15%|█▍        | 7464/50000 [01:33<09:40, 73.30it/s]"
     ]
    },
    {
     "name": "stderr",
     "output_type": "stream",
     "text": [
      "\r",
      "stem:  15%|█▍        | 7452/50000 [01:33<09:01, 78.64it/s]"
     ]
    },
    {
     "name": "stderr",
     "output_type": "stream",
     "text": [
      "\r",
      "stem:  15%|█▍        | 7440/50000 [01:33<09:41, 73.19it/s]"
     ]
    },
    {
     "name": "stderr",
     "output_type": "stream",
     "text": [
      "\r",
      "stem:  15%|█▍        | 7428/50000 [01:32<09:56, 71.32it/s]"
     ]
    },
    {
     "name": "stderr",
     "output_type": "stream",
     "text": [
      "\r",
      "stem:  15%|█▍        | 7410/50000 [01:32<11:01, 64.35it/s]"
     ]
    },
    {
     "name": "stderr",
     "output_type": "stream",
     "text": [
      "\r",
      "stem:  15%|█▍        | 7398/50000 [01:32<12:43, 55.81it/s]"
     ]
    },
    {
     "name": "stderr",
     "output_type": "stream",
     "text": [
      "\r",
      "stem:  15%|█▍        | 7389/50000 [01:32<09:30, 74.66it/s]"
     ]
    },
    {
     "name": "stderr",
     "output_type": "stream",
     "text": [
      "\r",
      "stem:  15%|█▍        | 7380/50000 [01:32<09:00, 78.85it/s]"
     ]
    },
    {
     "name": "stderr",
     "output_type": "stream",
     "text": [
      "\r",
      "stem:  15%|█▍        | 7368/50000 [01:32<08:38, 82.24it/s]"
     ]
    },
    {
     "name": "stderr",
     "output_type": "stream",
     "text": [
      "\r",
      "stem:  15%|█▍        | 7344/50000 [01:31<08:35, 82.68it/s]"
     ]
    },
    {
     "name": "stderr",
     "output_type": "stream",
     "text": [
      "\r",
      "stem:  15%|█▍        | 7332/50000 [01:31<07:44, 91.88it/s]"
     ]
    },
    {
     "name": "stderr",
     "output_type": "stream",
     "text": [
      "\r",
      "stem:  15%|█▍        | 7320/50000 [01:31<07:25, 95.77it/s]"
     ]
    },
    {
     "name": "stderr",
     "output_type": "stream",
     "text": [
      "\r",
      "stem:  15%|█▍        | 7302/50000 [01:31<08:48, 80.83it/s]"
     ]
    },
    {
     "name": "stderr",
     "output_type": "stream",
     "text": [
      "\r",
      "stem:  15%|█▍        | 7289/50000 [01:31<08:15, 86.12it/s]"
     ]
    },
    {
     "name": "stderr",
     "output_type": "stream",
     "text": [
      "\r",
      "stem:  15%|█▍        | 7278/50000 [01:30<07:20, 96.93it/s]"
     ]
    },
    {
     "name": "stderr",
     "output_type": "stream",
     "text": [
      "\r",
      "stem:  15%|█▍        | 7260/50000 [01:30<08:10, 87.20it/s]"
     ]
    },
    {
     "name": "stderr",
     "output_type": "stream",
     "text": [
      "\r",
      "stem:  14%|█▍        | 7242/50000 [01:30<09:28, 75.20it/s]"
     ]
    },
    {
     "name": "stderr",
     "output_type": "stream",
     "text": [
      "\r",
      "stem:  14%|█▍        | 7227/50000 [01:30<10:03, 70.82it/s]"
     ]
    },
    {
     "name": "stderr",
     "output_type": "stream",
     "text": [
      "\r",
      "stem:  14%|█▍        | 7217/50000 [01:30<08:13, 86.62it/s]"
     ]
    },
    {
     "name": "stderr",
     "output_type": "stream",
     "text": [
      "\r",
      "stem:  14%|█▍        | 7206/50000 [01:30<07:27, 95.58it/s] "
     ]
    },
    {
     "name": "stderr",
     "output_type": "stream",
     "text": [
      "\r",
      "stem:  14%|█▍        | 7194/50000 [01:30<07:04, 100.80it/s]"
     ]
    },
    {
     "name": "stderr",
     "output_type": "stream",
     "text": [
      "\r",
      "stem:  14%|█▍        | 7176/50000 [01:29<08:10, 87.24it/s]"
     ]
    },
    {
     "name": "stderr",
     "output_type": "stream",
     "text": [
      "\r",
      "stem:  14%|█▍        | 7164/50000 [01:29<09:06, 78.45it/s]"
     ]
    },
    {
     "name": "stderr",
     "output_type": "stream",
     "text": [
      "\r",
      "stem:  14%|█▍        | 7152/50000 [01:29<08:31, 83.69it/s]"
     ]
    },
    {
     "name": "stderr",
     "output_type": "stream",
     "text": [
      "\r",
      "stem:  14%|█▍        | 7140/50000 [01:29<07:15, 98.46it/s]"
     ]
    },
    {
     "name": "stderr",
     "output_type": "stream",
     "text": [
      "\r",
      "stem:  14%|█▍        | 7122/50000 [01:29<08:30, 84.03it/s]"
     ]
    },
    {
     "name": "stderr",
     "output_type": "stream",
     "text": [
      "\r",
      "stem:  14%|█▍        | 7098/50000 [01:29<08:34, 83.37it/s]"
     ]
    },
    {
     "name": "stderr",
     "output_type": "stream",
     "text": [
      "\r",
      "stem:  14%|█▍        | 7084/50000 [01:28<09:05, 78.61it/s]"
     ]
    },
    {
     "name": "stderr",
     "output_type": "stream",
     "text": [
      "\r",
      "stem:  14%|█▍        | 7073/50000 [01:28<07:38, 93.70it/s]"
     ]
    },
    {
     "name": "stderr",
     "output_type": "stream",
     "text": [
      "\r",
      "stem:  14%|█▍        | 7062/50000 [01:28<07:22, 96.93it/s]"
     ]
    },
    {
     "name": "stderr",
     "output_type": "stream",
     "text": [
      "\r",
      "stem:  14%|█▍        | 7044/50000 [01:28<08:13, 87.01it/s]"
     ]
    },
    {
     "name": "stderr",
     "output_type": "stream",
     "text": [
      "\r",
      "stem:  14%|█▍        | 7026/50000 [01:28<09:22, 76.37it/s]"
     ]
    },
    {
     "name": "stderr",
     "output_type": "stream",
     "text": [
      "\r",
      "stem:  14%|█▍        | 7014/50000 [01:28<08:59, 79.65it/s]"
     ]
    },
    {
     "name": "stderr",
     "output_type": "stream",
     "text": [
      "\r",
      "stem:  14%|█▍        | 6996/50000 [01:28<10:49, 66.23it/s]"
     ]
    },
    {
     "name": "stderr",
     "output_type": "stream",
     "text": [
      "\r",
      "stem:  14%|█▍        | 6983/50000 [01:27<09:53, 72.49it/s]"
     ]
    },
    {
     "name": "stderr",
     "output_type": "stream",
     "text": [
      "\r",
      "stem:  14%|█▍        | 6975/50000 [01:27<10:12, 70.20it/s]"
     ]
    },
    {
     "name": "stderr",
     "output_type": "stream",
     "text": [
      "\r",
      "stem:  14%|█▍        | 6966/50000 [01:27<09:42, 73.83it/s]"
     ]
    },
    {
     "name": "stderr",
     "output_type": "stream",
     "text": [
      "\r",
      "stem:  14%|█▍        | 6954/50000 [01:27<11:15, 63.73it/s]"
     ]
    },
    {
     "name": "stderr",
     "output_type": "stream",
     "text": [
      "\r",
      "stem:  14%|█▍        | 6936/50000 [01:27<11:27, 62.68it/s]"
     ]
    },
    {
     "name": "stderr",
     "output_type": "stream",
     "text": [
      "\r",
      "stem:  14%|█▍        | 6924/50000 [01:27<12:39, 56.69it/s]"
     ]
    },
    {
     "name": "stderr",
     "output_type": "stream",
     "text": [
      "\r",
      "stem:  14%|█▍        | 6912/50000 [01:26<11:01, 65.11it/s]"
     ]
    },
    {
     "name": "stderr",
     "output_type": "stream",
     "text": [
      "\r",
      "stem:  14%|█▍        | 6900/50000 [01:26<11:32, 62.21it/s]"
     ]
    },
    {
     "name": "stderr",
     "output_type": "stream",
     "text": [
      "\r",
      "stem:  14%|█▍        | 6892/50000 [01:26<12:37, 56.93it/s]"
     ]
    },
    {
     "name": "stderr",
     "output_type": "stream",
     "text": [
      "\r",
      "stem:  14%|█▍        | 6882/50000 [01:26<08:17, 86.62it/s]"
     ]
    },
    {
     "name": "stderr",
     "output_type": "stream",
     "text": [
      "\r",
      "stem:  14%|█▎        | 6864/50000 [01:26<09:18, 77.19it/s]"
     ]
    },
    {
     "name": "stderr",
     "output_type": "stream",
     "text": [
      "\r",
      "stem:  14%|█▎        | 6852/50000 [01:25<09:29, 75.71it/s]"
     ]
    },
    {
     "name": "stderr",
     "output_type": "stream",
     "text": [
      "\r",
      "stem:  14%|█▎        | 6840/50000 [01:25<09:42, 74.06it/s]"
     ]
    },
    {
     "name": "stderr",
     "output_type": "stream",
     "text": [
      "\r",
      "stem:  14%|█▎        | 6828/50000 [01:25<10:43, 67.08it/s]"
     ]
    },
    {
     "name": "stderr",
     "output_type": "stream",
     "text": [
      "\r",
      "stem:  14%|█▎        | 6810/50000 [01:25<11:06, 64.76it/s]"
     ]
    },
    {
     "name": "stderr",
     "output_type": "stream",
     "text": [
      "\r",
      "stem:  14%|█▎        | 6793/50000 [01:25<12:29, 57.67it/s]"
     ]
    },
    {
     "name": "stderr",
     "output_type": "stream",
     "text": [
      "\r",
      "stem:  14%|█▎        | 6784/50000 [01:24<09:15, 77.75it/s]"
     ]
    },
    {
     "name": "stderr",
     "output_type": "stream",
     "text": [
      "\r",
      "stem:  14%|█▎        | 6774/50000 [01:24<07:35, 94.83it/s]"
     ]
    },
    {
     "name": "stderr",
     "output_type": "stream",
     "text": [
      "\r",
      "stem:  14%|█▎        | 6761/50000 [01:24<07:18, 98.64it/s]"
     ]
    },
    {
     "name": "stderr",
     "output_type": "stream",
     "text": [
      "\r",
      "stem:  14%|█▎        | 6750/50000 [01:24<07:36, 94.84it/s] "
     ]
    },
    {
     "name": "stderr",
     "output_type": "stream",
     "text": [
      "\r",
      "stem:  13%|█▎        | 6732/50000 [01:24<06:34, 109.57it/s]"
     ]
    },
    {
     "name": "stderr",
     "output_type": "stream",
     "text": [
      "\r",
      "stem:  13%|█▎        | 6714/50000 [01:24<06:57, 103.56it/s]"
     ]
    },
    {
     "name": "stderr",
     "output_type": "stream",
     "text": [
      "\r",
      "stem:  13%|█▎        | 6702/50000 [01:23<06:31, 110.46it/s]"
     ]
    },
    {
     "name": "stderr",
     "output_type": "stream",
     "text": [
      "\r",
      "stem:  13%|█▎        | 6684/50000 [01:23<07:05, 101.77it/s]"
     ]
    },
    {
     "name": "stderr",
     "output_type": "stream",
     "text": [
      "\r",
      "stem:  13%|█▎        | 6666/50000 [01:23<07:28, 96.70it/s]"
     ]
    },
    {
     "name": "stderr",
     "output_type": "stream",
     "text": [
      "\r",
      "stem:  13%|█▎        | 6654/50000 [01:23<07:18, 98.92it/s]"
     ]
    },
    {
     "name": "stderr",
     "output_type": "stream",
     "text": [
      "\r",
      "stem:  13%|█▎        | 6636/50000 [01:23<08:32, 84.56it/s]"
     ]
    },
    {
     "name": "stderr",
     "output_type": "stream",
     "text": [
      "\r",
      "stem:  13%|█▎        | 6618/50000 [01:23<09:16, 77.97it/s]"
     ]
    },
    {
     "name": "stderr",
     "output_type": "stream",
     "text": [
      "\r",
      "stem:  13%|█▎        | 6598/50000 [01:23<10:07, 71.49it/s]"
     ]
    },
    {
     "name": "stderr",
     "output_type": "stream",
     "text": [
      "\r",
      "stem:  13%|█▎        | 6588/50000 [01:22<08:46, 82.40it/s]"
     ]
    },
    {
     "name": "stderr",
     "output_type": "stream",
     "text": [
      "\r",
      "stem:  13%|█▎        | 6576/50000 [01:22<09:39, 74.89it/s]"
     ]
    },
    {
     "name": "stderr",
     "output_type": "stream",
     "text": [
      "\r",
      "stem:  13%|█▎        | 6564/50000 [01:22<07:38, 94.82it/s]"
     ]
    },
    {
     "name": "stderr",
     "output_type": "stream",
     "text": [
      "\r",
      "stem:  13%|█▎        | 6552/50000 [01:22<08:01, 90.25it/s]"
     ]
    },
    {
     "name": "stderr",
     "output_type": "stream",
     "text": [
      "\r",
      "stem:  13%|█▎        | 6534/50000 [01:22<08:46, 82.58it/s]"
     ]
    },
    {
     "name": "stderr",
     "output_type": "stream",
     "text": [
      "\r",
      "stem:  13%|█▎        | 6521/50000 [01:22<07:33, 95.84it/s]"
     ]
    },
    {
     "name": "stderr",
     "output_type": "stream",
     "text": [
      "\r",
      "stem:  13%|█▎        | 6510/50000 [01:21<07:24, 97.86it/s]"
     ]
    },
    {
     "name": "stderr",
     "output_type": "stream",
     "text": [
      "\r",
      "stem:  13%|█▎        | 6492/50000 [01:21<08:12, 88.43it/s]"
     ]
    },
    {
     "name": "stderr",
     "output_type": "stream",
     "text": [
      "\r",
      "stem:  13%|█▎        | 6474/50000 [01:21<08:23, 86.47it/s] "
     ]
    },
    {
     "name": "stderr",
     "output_type": "stream",
     "text": [
      "\r",
      "stem:  13%|█▎        | 6462/50000 [01:21<07:13, 100.53it/s]"
     ]
    },
    {
     "name": "stderr",
     "output_type": "stream",
     "text": [
      "\r",
      "stem:  13%|█▎        | 6450/50000 [01:21<07:40, 94.64it/s]"
     ]
    },
    {
     "name": "stderr",
     "output_type": "stream",
     "text": [
      "\r",
      "stem:  13%|█▎        | 6432/50000 [01:21<08:51, 81.94it/s]"
     ]
    },
    {
     "name": "stderr",
     "output_type": "stream",
     "text": [
      "\r",
      "stem:  13%|█▎        | 6417/50000 [01:21<09:58, 72.81it/s]"
     ]
    },
    {
     "name": "stderr",
     "output_type": "stream",
     "text": [
      "\r",
      "stem:  13%|█▎        | 6408/50000 [01:20<09:47, 74.23it/s]"
     ]
    },
    {
     "name": "stderr",
     "output_type": "stream",
     "text": [
      "\r",
      "stem:  13%|█▎        | 6396/50000 [01:20<11:07, 65.36it/s]"
     ]
    },
    {
     "name": "stderr",
     "output_type": "stream",
     "text": [
      "\r",
      "stem:  13%|█▎        | 6384/50000 [01:20<09:00, 80.76it/s]"
     ]
    },
    {
     "name": "stderr",
     "output_type": "stream",
     "text": [
      "\r",
      "stem:  13%|█▎        | 6369/50000 [01:20<09:39, 75.28it/s]"
     ]
    },
    {
     "name": "stderr",
     "output_type": "stream",
     "text": [
      "\r",
      "stem:  13%|█▎        | 6360/50000 [01:20<09:54, 73.46it/s]"
     ]
    },
    {
     "name": "stderr",
     "output_type": "stream",
     "text": [
      "\r",
      "stem:  13%|█▎        | 6348/50000 [01:20<10:56, 66.53it/s]"
     ]
    },
    {
     "name": "stderr",
     "output_type": "stream",
     "text": [
      "\r",
      "stem:  13%|█▎        | 6326/50000 [01:19<12:48, 56.82it/s]"
     ]
    },
    {
     "name": "stderr",
     "output_type": "stream",
     "text": [
      "\r",
      "stem:  13%|█▎        | 6318/50000 [01:19<10:41, 68.10it/s]"
     ]
    },
    {
     "name": "stderr",
     "output_type": "stream",
     "text": [
      "\r",
      "stem:  13%|█▎        | 6306/50000 [01:19<10:24, 69.95it/s]"
     ]
    },
    {
     "name": "stderr",
     "output_type": "stream",
     "text": [
      "\r",
      "stem:  13%|█▎        | 6290/50000 [01:19<10:28, 69.59it/s]"
     ]
    },
    {
     "name": "stderr",
     "output_type": "stream",
     "text": [
      "\r",
      "stem:  13%|█▎        | 6280/50000 [01:19<08:03, 90.33it/s]"
     ]
    },
    {
     "name": "stderr",
     "output_type": "stream",
     "text": [
      "\r",
      "stem:  13%|█▎        | 6269/50000 [01:19<07:41, 94.81it/s]"
     ]
    },
    {
     "name": "stderr",
     "output_type": "stream",
     "text": [
      "\r",
      "stem:  13%|█▎        | 6258/50000 [01:18<07:58, 91.40it/s]"
     ]
    },
    {
     "name": "stderr",
     "output_type": "stream",
     "text": [
      "\r",
      "stem:  12%|█▏        | 6240/50000 [01:18<08:48, 82.84it/s]"
     ]
    },
    {
     "name": "stderr",
     "output_type": "stream",
     "text": [
      "\r",
      "stem:  12%|█▏        | 6223/50000 [01:18<09:12, 79.29it/s] "
     ]
    },
    {
     "name": "stderr",
     "output_type": "stream",
     "text": [
      "\r",
      "stem:  12%|█▏        | 6210/50000 [01:18<07:08, 102.22it/s]"
     ]
    },
    {
     "name": "stderr",
     "output_type": "stream",
     "text": [
      "\r",
      "stem:  12%|█▏        | 6192/50000 [01:18<08:17, 88.03it/s]"
     ]
    },
    {
     "name": "stderr",
     "output_type": "stream",
     "text": [
      "\r",
      "stem:  12%|█▏        | 6168/50000 [01:18<09:41, 75.34it/s]"
     ]
    },
    {
     "name": "stderr",
     "output_type": "stream",
     "text": [
      "\r",
      "stem:  12%|█▏        | 6156/50000 [01:17<08:20, 87.53it/s]"
     ]
    },
    {
     "name": "stderr",
     "output_type": "stream",
     "text": [
      "\r",
      "stem:  12%|█▏        | 6140/50000 [01:17<09:58, 73.32it/s]"
     ]
    },
    {
     "name": "stderr",
     "output_type": "stream",
     "text": [
      "\r",
      "stem:  12%|█▏        | 6132/50000 [01:17<10:02, 72.76it/s]"
     ]
    },
    {
     "name": "stderr",
     "output_type": "stream",
     "text": [
      "\r",
      "stem:  12%|█▏        | 6114/50000 [01:17<10:46, 67.91it/s]"
     ]
    },
    {
     "name": "stderr",
     "output_type": "stream",
     "text": [
      "\r",
      "stem:  12%|█▏        | 6104/50000 [01:17<10:38, 68.74it/s]"
     ]
    },
    {
     "name": "stderr",
     "output_type": "stream",
     "text": [
      "\r",
      "stem:  12%|█▏        | 6094/50000 [01:17<08:05, 90.42it/s]"
     ]
    },
    {
     "name": "stderr",
     "output_type": "stream",
     "text": [
      "\r",
      "stem:  12%|█▏        | 6084/50000 [01:16<08:05, 90.54it/s]"
     ]
    },
    {
     "name": "stderr",
     "output_type": "stream",
     "text": [
      "\r",
      "stem:  12%|█▏        | 6072/50000 [01:16<08:15, 88.70it/s]"
     ]
    },
    {
     "name": "stderr",
     "output_type": "stream",
     "text": [
      "\r",
      "stem:  12%|█▏        | 6057/50000 [01:16<09:01, 81.20it/s]"
     ]
    },
    {
     "name": "stderr",
     "output_type": "stream",
     "text": [
      "\r",
      "stem:  12%|█▏        | 6048/50000 [01:16<09:02, 81.01it/s]"
     ]
    },
    {
     "name": "stderr",
     "output_type": "stream",
     "text": [
      "\r",
      "stem:  12%|█▏        | 6036/50000 [01:16<10:04, 72.77it/s]"
     ]
    },
    {
     "name": "stderr",
     "output_type": "stream",
     "text": [
      "\r",
      "stem:  12%|█▏        | 6024/50000 [01:16<10:38, 68.88it/s]"
     ]
    },
    {
     "name": "stderr",
     "output_type": "stream",
     "text": [
      "\r",
      "stem:  12%|█▏        | 6006/50000 [01:16<12:18, 59.60it/s]"
     ]
    },
    {
     "name": "stderr",
     "output_type": "stream",
     "text": [
      "\r",
      "stem:  12%|█▏        | 5996/50000 [01:15<10:21, 70.84it/s]"
     ]
    },
    {
     "name": "stderr",
     "output_type": "stream",
     "text": [
      "\r",
      "stem:  12%|█▏        | 5988/50000 [01:15<10:49, 67.77it/s]"
     ]
    },
    {
     "name": "stderr",
     "output_type": "stream",
     "text": [
      "\r",
      "stem:  12%|█▏        | 5977/50000 [01:15<12:02, 60.93it/s]"
     ]
    },
    {
     "name": "stderr",
     "output_type": "stream",
     "text": [
      "\r",
      "stem:  12%|█▏        | 5970/50000 [01:15<12:01, 61.05it/s]"
     ]
    },
    {
     "name": "stderr",
     "output_type": "stream",
     "text": [
      "\r",
      "stem:  12%|█▏        | 5961/50000 [01:15<11:40, 62.89it/s]"
     ]
    },
    {
     "name": "stderr",
     "output_type": "stream",
     "text": [
      "\r",
      "stem:  12%|█▏        | 5952/50000 [01:15<10:08, 72.35it/s]"
     ]
    },
    {
     "name": "stderr",
     "output_type": "stream",
     "text": [
      "\r",
      "stem:  12%|█▏        | 5934/50000 [01:15<11:48, 62.20it/s]"
     ]
    },
    {
     "name": "stderr",
     "output_type": "stream",
     "text": [
      "\r",
      "stem:  12%|█▏        | 5922/50000 [01:14<10:27, 70.28it/s]"
     ]
    },
    {
     "name": "stderr",
     "output_type": "stream",
     "text": [
      "\r",
      "stem:  12%|█▏        | 5907/50000 [01:14<10:09, 72.40it/s]"
     ]
    },
    {
     "name": "stderr",
     "output_type": "stream",
     "text": [
      "\r",
      "stem:  12%|█▏        | 5898/50000 [01:14<09:53, 74.32it/s]"
     ]
    },
    {
     "name": "stderr",
     "output_type": "stream",
     "text": [
      "\r",
      "stem:  12%|█▏        | 5886/50000 [01:14<11:02, 66.56it/s]"
     ]
    },
    {
     "name": "stderr",
     "output_type": "stream",
     "text": [
      "\r",
      "stem:  12%|█▏        | 5872/50000 [01:14<09:21, 78.57it/s]"
     ]
    },
    {
     "name": "stderr",
     "output_type": "stream",
     "text": [
      "\r",
      "stem:  12%|█▏        | 5862/50000 [01:13<08:12, 89.55it/s]"
     ]
    },
    {
     "name": "stderr",
     "output_type": "stream",
     "text": [
      "\r",
      "stem:  12%|█▏        | 5850/50000 [01:13<08:31, 86.27it/s] "
     ]
    },
    {
     "name": "stderr",
     "output_type": "stream",
     "text": [
      "\r",
      "stem:  12%|█▏        | 5838/50000 [01:13<07:00, 105.05it/s]"
     ]
    },
    {
     "name": "stderr",
     "output_type": "stream",
     "text": [
      "\r",
      "stem:  12%|█▏        | 5826/50000 [01:13<07:15, 101.55it/s]"
     ]
    },
    {
     "name": "stderr",
     "output_type": "stream",
     "text": [
      "\r",
      "stem:  12%|█▏        | 5814/50000 [01:13<07:41, 95.81it/s]"
     ]
    },
    {
     "name": "stderr",
     "output_type": "stream",
     "text": [
      "\r",
      "stem:  12%|█▏        | 5798/50000 [01:13<08:28, 86.84it/s] "
     ]
    },
    {
     "name": "stderr",
     "output_type": "stream",
     "text": [
      "\r",
      "stem:  12%|█▏        | 5785/50000 [01:13<06:57, 105.80it/s]"
     ]
    },
    {
     "name": "stderr",
     "output_type": "stream",
     "text": [
      "\r",
      "stem:  12%|█▏        | 5772/50000 [01:12<07:31, 98.01it/s]"
     ]
    },
    {
     "name": "stderr",
     "output_type": "stream",
     "text": [
      "\r",
      "stem:  11%|█▏        | 5748/50000 [01:12<09:07, 80.84it/s]"
     ]
    },
    {
     "name": "stderr",
     "output_type": "stream",
     "text": [
      "\r",
      "stem:  11%|█▏        | 5736/50000 [01:12<09:10, 80.36it/s]"
     ]
    },
    {
     "name": "stderr",
     "output_type": "stream",
     "text": [
      "\r",
      "stem:  11%|█▏        | 5712/50000 [01:12<11:28, 64.37it/s]"
     ]
    },
    {
     "name": "stderr",
     "output_type": "stream",
     "text": [
      "\r",
      "stem:  11%|█▏        | 5694/50000 [01:12<11:02, 66.92it/s]"
     ]
    },
    {
     "name": "stderr",
     "output_type": "stream",
     "text": [
      "\r",
      "stem:  11%|█▏        | 5677/50000 [01:12<11:38, 63.42it/s]"
     ]
    },
    {
     "name": "stderr",
     "output_type": "stream",
     "text": [
      "\r",
      "stem:  11%|█▏        | 5670/50000 [01:11<12:06, 60.98it/s]"
     ]
    },
    {
     "name": "stderr",
     "output_type": "stream",
     "text": [
      "\r",
      "stem:  11%|█▏        | 5658/50000 [01:11<10:38, 69.41it/s]"
     ]
    },
    {
     "name": "stderr",
     "output_type": "stream",
     "text": [
      "\r",
      "stem:  11%|█▏        | 5648/50000 [01:11<11:09, 66.26it/s]"
     ]
    },
    {
     "name": "stderr",
     "output_type": "stream",
     "text": [
      "\r",
      "stem:  11%|█▏        | 5640/50000 [01:11<10:11, 72.53it/s]"
     ]
    },
    {
     "name": "stderr",
     "output_type": "stream",
     "text": [
      "\r",
      "stem:  11%|█         | 5616/50000 [01:11<11:01, 67.07it/s]"
     ]
    },
    {
     "name": "stderr",
     "output_type": "stream",
     "text": [
      "\r",
      "stem:  11%|█         | 5600/50000 [01:10<10:36, 69.76it/s]"
     ]
    },
    {
     "name": "stderr",
     "output_type": "stream",
     "text": [
      "\r",
      "stem:  11%|█         | 5592/50000 [01:10<10:09, 72.88it/s]"
     ]
    },
    {
     "name": "stderr",
     "output_type": "stream",
     "text": [
      "\r",
      "stem:  11%|█         | 5580/50000 [01:10<10:47, 68.59it/s]"
     ]
    },
    {
     "name": "stderr",
     "output_type": "stream",
     "text": [
      "\r",
      "stem:  11%|█         | 5562/50000 [01:10<11:40, 63.40it/s]"
     ]
    },
    {
     "name": "stderr",
     "output_type": "stream",
     "text": [
      "\r",
      "stem:  11%|█         | 5546/50000 [01:10<12:21, 59.97it/s]"
     ]
    },
    {
     "name": "stderr",
     "output_type": "stream",
     "text": [
      "\r",
      "stem:  11%|█         | 5538/50000 [01:10<12:57, 57.17it/s]"
     ]
    },
    {
     "name": "stderr",
     "output_type": "stream",
     "text": [
      "\r",
      "stem:  11%|█         | 5526/50000 [01:09<14:11, 52.20it/s]"
     ]
    },
    {
     "name": "stderr",
     "output_type": "stream",
     "text": [
      "\r",
      "stem:  11%|█         | 5517/50000 [01:09<09:32, 77.69it/s]"
     ]
    },
    {
     "name": "stderr",
     "output_type": "stream",
     "text": [
      "\r",
      "stem:  11%|█         | 5507/50000 [01:09<09:10, 80.83it/s]"
     ]
    },
    {
     "name": "stderr",
     "output_type": "stream",
     "text": [
      "\r",
      "stem:  11%|█         | 5496/50000 [01:09<07:59, 92.73it/s]"
     ]
    },
    {
     "name": "stderr",
     "output_type": "stream",
     "text": [
      "\r",
      "stem:  11%|█         | 5478/50000 [01:09<09:20, 79.47it/s]"
     ]
    },
    {
     "name": "stderr",
     "output_type": "stream",
     "text": [
      "\r",
      "stem:  11%|█         | 5466/50000 [01:08<08:36, 86.15it/s]"
     ]
    },
    {
     "name": "stderr",
     "output_type": "stream",
     "text": [
      "\r",
      "stem:  11%|█         | 5448/50000 [01:08<10:04, 73.76it/s]"
     ]
    },
    {
     "name": "stderr",
     "output_type": "stream",
     "text": [
      "\r",
      "stem:  11%|█         | 5436/50000 [01:08<10:11, 72.93it/s]"
     ]
    },
    {
     "name": "stderr",
     "output_type": "stream",
     "text": [
      "\r",
      "stem:  11%|█         | 5424/50000 [01:08<10:55, 67.98it/s]"
     ]
    },
    {
     "name": "stderr",
     "output_type": "stream",
     "text": [
      "\r",
      "stem:  11%|█         | 5400/50000 [01:08<13:33, 54.80it/s]"
     ]
    },
    {
     "name": "stderr",
     "output_type": "stream",
     "text": [
      "\r",
      "stem:  11%|█         | 5388/50000 [01:08<11:56, 62.29it/s]"
     ]
    },
    {
     "name": "stderr",
     "output_type": "stream",
     "text": [
      "\r",
      "stem:  11%|█         | 5370/50000 [01:07<12:07, 61.31it/s]"
     ]
    },
    {
     "name": "stderr",
     "output_type": "stream",
     "text": [
      "\r",
      "stem:  11%|█         | 5358/50000 [01:07<13:02, 57.07it/s]"
     ]
    },
    {
     "name": "stderr",
     "output_type": "stream",
     "text": [
      "\r",
      "stem:  11%|█         | 5349/50000 [01:07<08:33, 86.93it/s]"
     ]
    },
    {
     "name": "stderr",
     "output_type": "stream",
     "text": [
      "\r",
      "stem:  11%|█         | 5340/50000 [01:07<08:40, 85.76it/s]"
     ]
    },
    {
     "name": "stderr",
     "output_type": "stream",
     "text": [
      "\r",
      "stem:  11%|█         | 5328/50000 [01:07<09:02, 82.32it/s]"
     ]
    },
    {
     "name": "stderr",
     "output_type": "stream",
     "text": [
      "\r",
      "stem:  11%|█         | 5316/50000 [01:07<09:48, 75.91it/s]"
     ]
    },
    {
     "name": "stderr",
     "output_type": "stream",
     "text": [
      "\r",
      "stem:  11%|█         | 5304/50000 [01:06<09:51, 75.56it/s]"
     ]
    },
    {
     "name": "stderr",
     "output_type": "stream",
     "text": [
      "\r",
      "stem:  11%|█         | 5282/50000 [01:06<11:09, 66.79it/s]"
     ]
    },
    {
     "name": "stderr",
     "output_type": "stream",
     "text": [
      "\r",
      "stem:  11%|█         | 5274/50000 [01:06<10:30, 70.99it/s]"
     ]
    },
    {
     "name": "stderr",
     "output_type": "stream",
     "text": [
      "\r",
      "stem:  11%|█         | 5265/50000 [01:06<11:05, 67.19it/s]"
     ]
    },
    {
     "name": "stderr",
     "output_type": "stream",
     "text": [
      "\r",
      "stem:  11%|█         | 5256/50000 [01:06<09:30, 78.40it/s]"
     ]
    },
    {
     "name": "stderr",
     "output_type": "stream",
     "text": [
      "\r",
      "stem:  10%|█         | 5238/50000 [01:06<10:50, 68.76it/s]"
     ]
    },
    {
     "name": "stderr",
     "output_type": "stream",
     "text": [
      "\r",
      "stem:  10%|█         | 5225/50000 [01:05<10:32, 70.84it/s]"
     ]
    },
    {
     "name": "stderr",
     "output_type": "stream",
     "text": [
      "\r",
      "stem:  10%|█         | 5217/50000 [01:05<10:46, 69.23it/s]"
     ]
    },
    {
     "name": "stderr",
     "output_type": "stream",
     "text": [
      "\r",
      "stem:  10%|█         | 5208/50000 [01:05<09:14, 80.80it/s]"
     ]
    },
    {
     "name": "stderr",
     "output_type": "stream",
     "text": [
      "\r",
      "stem:  10%|█         | 5192/50000 [01:05<10:42, 69.79it/s]"
     ]
    },
    {
     "name": "stderr",
     "output_type": "stream",
     "text": [
      "\r",
      "stem:  10%|█         | 5184/50000 [01:05<09:52, 75.66it/s]"
     ]
    },
    {
     "name": "stderr",
     "output_type": "stream",
     "text": [
      "\r",
      "stem:  10%|█         | 5175/50000 [01:05<09:40, 77.23it/s]"
     ]
    },
    {
     "name": "stderr",
     "output_type": "stream",
     "text": [
      "\r",
      "stem:  10%|█         | 5166/50000 [01:05<09:19, 80.11it/s]"
     ]
    },
    {
     "name": "stderr",
     "output_type": "stream",
     "text": [
      "\r",
      "stem:  10%|█         | 5150/50000 [01:04<09:39, 77.44it/s]"
     ]
    },
    {
     "name": "stderr",
     "output_type": "stream",
     "text": [
      "\r",
      "stem:  10%|█         | 5140/50000 [01:04<08:26, 88.63it/s]"
     ]
    },
    {
     "name": "stderr",
     "output_type": "stream",
     "text": [
      "\r",
      "stem:  10%|█         | 5130/50000 [01:04<08:39, 86.29it/s]"
     ]
    },
    {
     "name": "stderr",
     "output_type": "stream",
     "text": [
      "\r",
      "stem:  10%|█         | 5118/50000 [01:04<07:47, 96.01it/s]"
     ]
    },
    {
     "name": "stderr",
     "output_type": "stream",
     "text": [
      "\r",
      "stem:  10%|█         | 5106/50000 [01:04<07:34, 98.72it/s]"
     ]
    },
    {
     "name": "stderr",
     "output_type": "stream",
     "text": [
      "\r",
      "stem:  10%|█         | 5088/50000 [01:04<08:55, 83.81it/s]"
     ]
    },
    {
     "name": "stderr",
     "output_type": "stream",
     "text": [
      "\r",
      "stem:  10%|█         | 5070/50000 [01:04<09:06, 82.20it/s]"
     ]
    },
    {
     "name": "stderr",
     "output_type": "stream",
     "text": [
      "\r",
      "stem:  10%|█         | 5052/50000 [01:03<08:02, 93.20it/s]"
     ]
    },
    {
     "name": "stderr",
     "output_type": "stream",
     "text": [
      "\r",
      "stem:  10%|█         | 5040/50000 [01:03<08:42, 86.07it/s]"
     ]
    },
    {
     "name": "stderr",
     "output_type": "stream",
     "text": [
      "\r",
      "stem:  10%|█         | 5024/50000 [01:03<08:54, 84.12it/s]"
     ]
    },
    {
     "name": "stderr",
     "output_type": "stream",
     "text": [
      "\r",
      "stem:  10%|█         | 5014/50000 [01:03<08:13, 91.17it/s]"
     ]
    },
    {
     "name": "stderr",
     "output_type": "stream",
     "text": [
      "\r",
      "stem:  10%|█         | 5004/50000 [01:03<08:02, 93.32it/s]"
     ]
    },
    {
     "name": "stderr",
     "output_type": "stream",
     "text": [
      "\r",
      "stem:  10%|▉         | 4986/50000 [01:03<08:40, 86.44it/s]"
     ]
    },
    {
     "name": "stderr",
     "output_type": "stream",
     "text": [
      "\r",
      "stem:  10%|▉         | 4972/50000 [01:02<09:30, 78.92it/s]"
     ]
    },
    {
     "name": "stderr",
     "output_type": "stream",
     "text": [
      "\r",
      "stem:  10%|▉         | 4962/50000 [01:02<08:52, 84.65it/s]"
     ]
    },
    {
     "name": "stderr",
     "output_type": "stream",
     "text": [
      "\r",
      "stem:  10%|▉         | 4950/50000 [01:02<09:49, 76.47it/s]"
     ]
    },
    {
     "name": "stderr",
     "output_type": "stream",
     "text": [
      "\r",
      "stem:  10%|▉         | 4938/50000 [01:02<10:38, 70.62it/s]"
     ]
    },
    {
     "name": "stderr",
     "output_type": "stream",
     "text": [
      "\r",
      "stem:  10%|▉         | 4922/50000 [01:02<12:20, 60.87it/s]"
     ]
    },
    {
     "name": "stderr",
     "output_type": "stream",
     "text": [
      "\r",
      "stem:  10%|▉         | 4914/50000 [01:02<11:08, 67.48it/s]"
     ]
    },
    {
     "name": "stderr",
     "output_type": "stream",
     "text": [
      "\r",
      "stem:  10%|▉         | 4903/50000 [01:02<11:29, 65.39it/s]"
     ]
    },
    {
     "name": "stderr",
     "output_type": "stream",
     "text": [
      "\r",
      "stem:  10%|▉         | 4894/50000 [01:01<10:44, 70.04it/s]"
     ]
    },
    {
     "name": "stderr",
     "output_type": "stream",
     "text": [
      "\r",
      "stem:  10%|▉         | 4884/50000 [01:01<08:02, 93.42it/s]"
     ]
    },
    {
     "name": "stderr",
     "output_type": "stream",
     "text": [
      "\r",
      "stem:  10%|▉         | 4866/50000 [01:01<08:42, 86.45it/s]"
     ]
    },
    {
     "name": "stderr",
     "output_type": "stream",
     "text": [
      "\r",
      "stem:  10%|▉         | 4854/50000 [01:01<08:20, 90.25it/s]"
     ]
    },
    {
     "name": "stderr",
     "output_type": "stream",
     "text": [
      "\r",
      "stem:  10%|▉         | 4842/50000 [01:01<08:30, 88.45it/s]"
     ]
    },
    {
     "name": "stderr",
     "output_type": "stream",
     "text": [
      "\r",
      "stem:  10%|▉         | 4824/50000 [01:01<09:49, 76.66it/s]"
     ]
    },
    {
     "name": "stderr",
     "output_type": "stream",
     "text": [
      "\r",
      "stem:  10%|▉         | 4806/50000 [01:00<09:28, 79.47it/s]"
     ]
    },
    {
     "name": "stderr",
     "output_type": "stream",
     "text": [
      "\r",
      "stem:  10%|▉         | 4794/50000 [01:00<07:52, 95.63it/s]"
     ]
    },
    {
     "name": "stderr",
     "output_type": "stream",
     "text": [
      "\r",
      "stem:  10%|▉         | 4782/50000 [01:00<07:57, 94.73it/s]"
     ]
    },
    {
     "name": "stderr",
     "output_type": "stream",
     "text": [
      "\r",
      "stem:  10%|▉         | 4770/50000 [01:00<08:09, 92.47it/s]"
     ]
    },
    {
     "name": "stderr",
     "output_type": "stream",
     "text": [
      "\r",
      "stem:  10%|▉         | 4758/50000 [01:00<08:21, 90.29it/s] "
     ]
    },
    {
     "name": "stderr",
     "output_type": "stream",
     "text": [
      "\r",
      "stem:   9%|▉         | 4742/50000 [01:00<06:49, 110.59it/s]"
     ]
    },
    {
     "name": "stderr",
     "output_type": "stream",
     "text": [
      "\r",
      "stem:   9%|▉         | 4728/50000 [00:59<06:41, 112.86it/s]"
     ]
    },
    {
     "name": "stderr",
     "output_type": "stream",
     "text": [
      "\r",
      "stem:   9%|▉         | 4710/50000 [00:59<07:31, 100.30it/s]"
     ]
    },
    {
     "name": "stderr",
     "output_type": "stream",
     "text": [
      "\r",
      "stem:   9%|▉         | 4692/50000 [00:59<08:23, 90.02it/s]"
     ]
    },
    {
     "name": "stderr",
     "output_type": "stream",
     "text": [
      "\r",
      "stem:   9%|▉         | 4668/50000 [00:59<10:07, 74.68it/s]"
     ]
    },
    {
     "name": "stderr",
     "output_type": "stream",
     "text": [
      "\r",
      "stem:   9%|▉         | 4650/50000 [00:59<11:25, 66.17it/s]"
     ]
    },
    {
     "name": "stderr",
     "output_type": "stream",
     "text": [
      "\r",
      "stem:   9%|▉         | 4636/50000 [00:59<11:43, 64.47it/s]"
     ]
    },
    {
     "name": "stderr",
     "output_type": "stream",
     "text": [
      "\r",
      "stem:   9%|▉         | 4626/50000 [00:58<09:57, 75.96it/s]"
     ]
    },
    {
     "name": "stderr",
     "output_type": "stream",
     "text": [
      "\r",
      "stem:   9%|▉         | 4610/50000 [00:58<12:04, 62.66it/s]"
     ]
    },
    {
     "name": "stderr",
     "output_type": "stream",
     "text": [
      "\r",
      "stem:   9%|▉         | 4602/50000 [00:58<11:15, 67.23it/s]"
     ]
    },
    {
     "name": "stderr",
     "output_type": "stream",
     "text": [
      "\r",
      "stem:   9%|▉         | 4590/50000 [00:58<10:52, 69.56it/s]"
     ]
    },
    {
     "name": "stderr",
     "output_type": "stream",
     "text": [
      "\r",
      "stem:   9%|▉         | 4579/50000 [00:58<11:11, 67.60it/s]"
     ]
    },
    {
     "name": "stderr",
     "output_type": "stream",
     "text": [
      "\r",
      "stem:   9%|▉         | 4570/50000 [00:58<10:27, 72.35it/s]"
     ]
    },
    {
     "name": "stderr",
     "output_type": "stream",
     "text": [
      "\r",
      "stem:   9%|▉         | 4560/50000 [00:58<09:13, 82.13it/s]"
     ]
    },
    {
     "name": "stderr",
     "output_type": "stream",
     "text": [
      "\r",
      "stem:   9%|▉         | 4546/50000 [00:57<10:05, 75.02it/s]"
     ]
    },
    {
     "name": "stderr",
     "output_type": "stream",
     "text": [
      "\r",
      "stem:   9%|▉         | 4536/50000 [00:57<09:11, 82.37it/s]"
     ]
    },
    {
     "name": "stderr",
     "output_type": "stream",
     "text": [
      "\r",
      "stem:   9%|▉         | 4518/50000 [00:57<11:01, 68.77it/s]"
     ]
    },
    {
     "name": "stderr",
     "output_type": "stream",
     "text": [
      "\r",
      "stem:   9%|▉         | 4509/50000 [00:57<10:56, 69.32it/s]"
     ]
    },
    {
     "name": "stderr",
     "output_type": "stream",
     "text": [
      "\r",
      "stem:   9%|▉         | 4500/50000 [00:57<09:48, 77.29it/s]"
     ]
    },
    {
     "name": "stderr",
     "output_type": "stream",
     "text": [
      "\r",
      "stem:   9%|▉         | 4488/50000 [00:57<10:57, 69.27it/s]"
     ]
    },
    {
     "name": "stderr",
     "output_type": "stream",
     "text": [
      "\r",
      "stem:   9%|▉         | 4479/50000 [00:57<10:58, 69.08it/s]"
     ]
    },
    {
     "name": "stderr",
     "output_type": "stream",
     "text": [
      "\r",
      "stem:   9%|▉         | 4469/50000 [00:56<09:35, 79.06it/s]"
     ]
    },
    {
     "name": "stderr",
     "output_type": "stream",
     "text": [
      "\r",
      "stem:   9%|▉         | 4458/50000 [00:56<09:55, 76.43it/s]"
     ]
    },
    {
     "name": "stderr",
     "output_type": "stream",
     "text": [
      "\r",
      "stem:   9%|▉         | 4440/50000 [00:56<12:19, 61.63it/s]"
     ]
    },
    {
     "name": "stderr",
     "output_type": "stream",
     "text": [
      "\r",
      "stem:   9%|▉         | 4428/50000 [00:56<11:29, 66.06it/s]"
     ]
    },
    {
     "name": "stderr",
     "output_type": "stream",
     "text": [
      "\r",
      "stem:   9%|▉         | 4410/50000 [00:56<11:16, 67.36it/s]"
     ]
    },
    {
     "name": "stderr",
     "output_type": "stream",
     "text": [
      "\r",
      "stem:   9%|▉         | 4399/50000 [00:56<13:05, 58.03it/s]"
     ]
    },
    {
     "name": "stderr",
     "output_type": "stream",
     "text": [
      "\r",
      "stem:   9%|▉         | 4390/50000 [00:55<11:36, 65.44it/s]"
     ]
    },
    {
     "name": "stderr",
     "output_type": "stream",
     "text": [
      "\r",
      "stem:   9%|▉         | 4379/50000 [00:55<08:28, 89.64it/s]"
     ]
    },
    {
     "name": "stderr",
     "output_type": "stream",
     "text": [
      "\r",
      "stem:   9%|▊         | 4368/50000 [00:55<08:54, 85.37it/s]"
     ]
    },
    {
     "name": "stderr",
     "output_type": "stream",
     "text": [
      "\r",
      "stem:   9%|▊         | 4350/50000 [00:55<10:35, 71.80it/s]"
     ]
    },
    {
     "name": "stderr",
     "output_type": "stream",
     "text": [
      "\r",
      "stem:   9%|▊         | 4336/50000 [00:55<08:34, 88.76it/s]"
     ]
    },
    {
     "name": "stderr",
     "output_type": "stream",
     "text": [
      "\r",
      "stem:   9%|▊         | 4326/50000 [00:54<08:58, 84.82it/s]"
     ]
    },
    {
     "name": "stderr",
     "output_type": "stream",
     "text": [
      "\r",
      "stem:   9%|▊         | 4314/50000 [00:54<09:27, 80.48it/s]"
     ]
    },
    {
     "name": "stderr",
     "output_type": "stream",
     "text": [
      "\r",
      "stem:   9%|▊         | 4296/50000 [00:54<11:25, 66.70it/s]"
     ]
    },
    {
     "name": "stderr",
     "output_type": "stream",
     "text": [
      "\r",
      "stem:   9%|▊         | 4278/50000 [00:54<11:15, 67.73it/s]"
     ]
    },
    {
     "name": "stderr",
     "output_type": "stream",
     "text": [
      "\r",
      "stem:   9%|▊         | 4269/50000 [00:54<09:20, 81.59it/s]"
     ]
    },
    {
     "name": "stderr",
     "output_type": "stream",
     "text": [
      "\r",
      "stem:   9%|▊         | 4259/50000 [00:54<08:12, 92.82it/s]"
     ]
    },
    {
     "name": "stderr",
     "output_type": "stream",
     "text": [
      "\r",
      "stem:   8%|▊         | 4248/50000 [00:54<08:01, 94.99it/s]"
     ]
    },
    {
     "name": "stderr",
     "output_type": "stream",
     "text": [
      "\r",
      "stem:   8%|▊         | 4230/50000 [00:53<08:54, 85.65it/s]"
     ]
    },
    {
     "name": "stderr",
     "output_type": "stream",
     "text": [
      "\r",
      "stem:   8%|▊         | 4212/50000 [00:53<08:19, 91.70it/s]"
     ]
    },
    {
     "name": "stderr",
     "output_type": "stream",
     "text": [
      "\r",
      "stem:   8%|▊         | 4200/50000 [00:53<08:27, 90.18it/s]"
     ]
    },
    {
     "name": "stderr",
     "output_type": "stream",
     "text": [
      "\r",
      "stem:   8%|▊         | 4188/50000 [00:53<09:20, 81.78it/s]"
     ]
    },
    {
     "name": "stderr",
     "output_type": "stream",
     "text": [
      "\r",
      "stem:   8%|▊         | 4176/50000 [00:53<09:54, 77.08it/s] "
     ]
    },
    {
     "name": "stderr",
     "output_type": "stream",
     "text": [
      "\r",
      "stem:   8%|▊         | 4164/50000 [00:53<07:34, 100.75it/s]"
     ]
    },
    {
     "name": "stderr",
     "output_type": "stream",
     "text": [
      "\r",
      "stem:   8%|▊         | 4146/50000 [00:52<07:51, 97.27it/s]"
     ]
    },
    {
     "name": "stderr",
     "output_type": "stream",
     "text": [
      "\r",
      "stem:   8%|▊         | 4128/50000 [00:52<07:50, 97.44it/s]"
     ]
    },
    {
     "name": "stderr",
     "output_type": "stream",
     "text": [
      "\r",
      "stem:   8%|▊         | 4104/50000 [00:52<08:27, 90.46it/s]"
     ]
    },
    {
     "name": "stderr",
     "output_type": "stream",
     "text": [
      "\r",
      "stem:   8%|▊         | 4086/50000 [00:52<08:34, 89.24it/s]"
     ]
    },
    {
     "name": "stderr",
     "output_type": "stream",
     "text": [
      "\r",
      "stem:   8%|▊         | 4074/50000 [00:52<08:37, 88.68it/s]"
     ]
    },
    {
     "name": "stderr",
     "output_type": "stream",
     "text": [
      "\r",
      "stem:   8%|▊         | 4062/50000 [00:52<08:29, 90.17it/s]"
     ]
    },
    {
     "name": "stderr",
     "output_type": "stream",
     "text": [
      "\r",
      "stem:   8%|▊         | 4050/50000 [00:51<08:47, 87.18it/s]"
     ]
    },
    {
     "name": "stderr",
     "output_type": "stream",
     "text": [
      "\r",
      "stem:   8%|▊         | 4037/50000 [00:51<07:54, 96.76it/s] "
     ]
    },
    {
     "name": "stderr",
     "output_type": "stream",
     "text": [
      "\r",
      "stem:   8%|▊         | 4026/50000 [00:51<07:14, 105.91it/s]"
     ]
    },
    {
     "name": "stderr",
     "output_type": "stream",
     "text": [
      "\r",
      "stem:   8%|▊         | 4008/50000 [00:51<07:32, 101.61it/s]"
     ]
    },
    {
     "name": "stderr",
     "output_type": "stream",
     "text": [
      "\r",
      "stem:   8%|▊         | 3996/50000 [00:51<07:34, 101.23it/s]"
     ]
    },
    {
     "name": "stderr",
     "output_type": "stream",
     "text": [
      "\r",
      "stem:   8%|▊         | 3983/50000 [00:51<08:03, 95.08it/s]"
     ]
    },
    {
     "name": "stderr",
     "output_type": "stream",
     "text": [
      "\r",
      "stem:   8%|▊         | 3972/50000 [00:51<07:45, 98.85it/s]"
     ]
    },
    {
     "name": "stderr",
     "output_type": "stream",
     "text": [
      "\r",
      "stem:   8%|▊         | 3958/50000 [00:50<08:42, 88.06it/s]"
     ]
    },
    {
     "name": "stderr",
     "output_type": "stream",
     "text": [
      "\r",
      "stem:   8%|▊         | 3948/50000 [00:50<08:12, 93.45it/s]"
     ]
    },
    {
     "name": "stderr",
     "output_type": "stream",
     "text": [
      "\r",
      "stem:   8%|▊         | 3936/50000 [00:50<08:54, 86.19it/s]"
     ]
    },
    {
     "name": "stderr",
     "output_type": "stream",
     "text": [
      "\r",
      "stem:   8%|▊         | 3912/50000 [00:50<08:47, 87.37it/s]"
     ]
    },
    {
     "name": "stderr",
     "output_type": "stream",
     "text": [
      "\r",
      "stem:   8%|▊         | 3894/50000 [00:50<08:43, 88.06it/s]"
     ]
    },
    {
     "name": "stderr",
     "output_type": "stream",
     "text": [
      "\r",
      "stem:   8%|▊         | 3882/50000 [00:50<09:01, 85.15it/s]"
     ]
    },
    {
     "name": "stderr",
     "output_type": "stream",
     "text": [
      "\r",
      "stem:   8%|▊         | 3870/50000 [00:49<09:44, 78.88it/s]"
     ]
    },
    {
     "name": "stderr",
     "output_type": "stream",
     "text": [
      "\r",
      "stem:   8%|▊         | 3852/50000 [00:49<09:15, 83.09it/s]"
     ]
    },
    {
     "name": "stderr",
     "output_type": "stream",
     "text": [
      "\r",
      "stem:   8%|▊         | 3839/50000 [00:49<08:04, 95.28it/s]"
     ]
    },
    {
     "name": "stderr",
     "output_type": "stream",
     "text": [
      "\r",
      "stem:   8%|▊         | 3828/50000 [00:49<07:56, 96.82it/s]"
     ]
    },
    {
     "name": "stderr",
     "output_type": "stream",
     "text": [
      "\r",
      "stem:   8%|▊         | 3816/50000 [00:49<08:18, 92.57it/s]"
     ]
    },
    {
     "name": "stderr",
     "output_type": "stream",
     "text": [
      "\r",
      "stem:   8%|▊         | 3798/50000 [00:49<09:25, 81.70it/s]"
     ]
    },
    {
     "name": "stderr",
     "output_type": "stream",
     "text": [
      "\r",
      "stem:   8%|▊         | 3780/50000 [00:49<10:36, 72.61it/s]"
     ]
    },
    {
     "name": "stderr",
     "output_type": "stream",
     "text": [
      "\r",
      "stem:   8%|▊         | 3768/50000 [00:48<09:35, 80.32it/s]"
     ]
    },
    {
     "name": "stderr",
     "output_type": "stream",
     "text": [
      "\r",
      "stem:   8%|▊         | 3756/50000 [00:48<10:52, 70.90it/s]"
     ]
    },
    {
     "name": "stderr",
     "output_type": "stream",
     "text": [
      "\r",
      "stem:   7%|▋         | 3744/50000 [00:48<10:24, 74.08it/s]"
     ]
    },
    {
     "name": "stderr",
     "output_type": "stream",
     "text": [
      "\r",
      "stem:   7%|▋         | 3732/50000 [00:48<11:27, 67.26it/s]"
     ]
    },
    {
     "name": "stderr",
     "output_type": "stream",
     "text": [
      "\r",
      "stem:   7%|▋         | 3714/50000 [00:48<12:10, 63.40it/s]"
     ]
    },
    {
     "name": "stderr",
     "output_type": "stream",
     "text": [
      "\r",
      "stem:   7%|▋         | 3704/50000 [00:48<13:45, 56.09it/s]"
     ]
    },
    {
     "name": "stderr",
     "output_type": "stream",
     "text": [
      "\r",
      "stem:   7%|▋         | 3696/50000 [00:47<13:37, 56.64it/s]"
     ]
    },
    {
     "name": "stderr",
     "output_type": "stream",
     "text": [
      "\r",
      "stem:   7%|▋         | 3679/50000 [00:47<16:29, 46.84it/s]"
     ]
    },
    {
     "name": "stderr",
     "output_type": "stream",
     "text": [
      "\r",
      "stem:   7%|▋         | 3673/50000 [00:47<16:36, 46.50it/s]"
     ]
    },
    {
     "name": "stderr",
     "output_type": "stream",
     "text": [
      "\r",
      "stem:   7%|▋         | 3666/50000 [00:47<15:43, 49.11it/s]"
     ]
    },
    {
     "name": "stderr",
     "output_type": "stream",
     "text": [
      "\r",
      "stem:   7%|▋         | 3649/50000 [00:47<19:09, 40.31it/s]"
     ]
    },
    {
     "name": "stderr",
     "output_type": "stream",
     "text": [
      "\r",
      "stem:   7%|▋         | 3642/50000 [00:47<15:01, 51.42it/s]"
     ]
    },
    {
     "name": "stderr",
     "output_type": "stream",
     "text": [
      "\r",
      "stem:   7%|▋         | 3630/50000 [00:46<18:17, 42.24it/s]"
     ]
    },
    {
     "name": "stderr",
     "output_type": "stream",
     "text": [
      "\r",
      "stem:   7%|▋         | 3624/50000 [00:46<18:30, 41.76it/s]"
     ]
    },
    {
     "name": "stderr",
     "output_type": "stream",
     "text": [
      "\r",
      "stem:   7%|▋         | 3612/50000 [00:46<19:56, 38.77it/s]"
     ]
    },
    {
     "name": "stderr",
     "output_type": "stream",
     "text": [
      "\r",
      "stem:   7%|▋         | 3600/50000 [00:46<17:02, 45.38it/s]"
     ]
    },
    {
     "name": "stderr",
     "output_type": "stream",
     "text": [
      "\r",
      "stem:   7%|▋         | 3588/50000 [00:45<18:54, 40.91it/s]"
     ]
    },
    {
     "name": "stderr",
     "output_type": "stream",
     "text": [
      "\r",
      "stem:   7%|▋         | 3579/50000 [00:45<16:29, 46.90it/s]"
     ]
    },
    {
     "name": "stderr",
     "output_type": "stream",
     "text": [
      "\r",
      "stem:   7%|▋         | 3572/50000 [00:45<15:04, 51.35it/s]"
     ]
    },
    {
     "name": "stderr",
     "output_type": "stream",
     "text": [
      "\r",
      "stem:   7%|▋         | 3564/50000 [00:45<14:15, 54.30it/s]"
     ]
    },
    {
     "name": "stderr",
     "output_type": "stream",
     "text": [
      "\r",
      "stem:   7%|▋         | 3554/50000 [00:45<16:59, 45.57it/s]"
     ]
    },
    {
     "name": "stderr",
     "output_type": "stream",
     "text": [
      "\r",
      "stem:   7%|▋         | 3546/50000 [00:44<13:20, 58.05it/s]"
     ]
    },
    {
     "name": "stderr",
     "output_type": "stream",
     "text": [
      "\r",
      "stem:   7%|▋         | 3531/50000 [00:44<16:03, 48.22it/s]"
     ]
    },
    {
     "name": "stderr",
     "output_type": "stream",
     "text": [
      "\r",
      "stem:   7%|▋         | 3522/50000 [00:44<12:40, 61.09it/s]"
     ]
    },
    {
     "name": "stderr",
     "output_type": "stream",
     "text": [
      "\r",
      "stem:   7%|▋         | 3506/50000 [00:44<15:25, 50.23it/s]"
     ]
    },
    {
     "name": "stderr",
     "output_type": "stream",
     "text": [
      "\r",
      "stem:   7%|▋         | 3498/50000 [00:44<12:58, 59.75it/s]"
     ]
    },
    {
     "name": "stderr",
     "output_type": "stream",
     "text": [
      "\r",
      "stem:   7%|▋         | 3486/50000 [00:44<15:43, 49.29it/s]"
     ]
    },
    {
     "name": "stderr",
     "output_type": "stream",
     "text": [
      "\r",
      "stem:   7%|▋         | 3475/50000 [00:43<15:01, 51.63it/s]"
     ]
    },
    {
     "name": "stderr",
     "output_type": "stream",
     "text": [
      "\r",
      "stem:   7%|▋         | 3468/50000 [00:43<15:25, 50.30it/s]"
     ]
    },
    {
     "name": "stderr",
     "output_type": "stream",
     "text": [
      "\r",
      "stem:   7%|▋         | 3459/50000 [00:43<13:54, 55.75it/s]"
     ]
    },
    {
     "name": "stderr",
     "output_type": "stream",
     "text": [
      "\r",
      "stem:   7%|▋         | 3450/50000 [00:43<12:05, 64.16it/s]"
     ]
    },
    {
     "name": "stderr",
     "output_type": "stream",
     "text": [
      "\r",
      "stem:   7%|▋         | 3433/50000 [00:43<15:03, 51.53it/s]"
     ]
    },
    {
     "name": "stderr",
     "output_type": "stream",
     "text": [
      "\r",
      "stem:   7%|▋         | 3426/50000 [00:42<13:49, 56.13it/s]"
     ]
    },
    {
     "name": "stderr",
     "output_type": "stream",
     "text": [
      "\r",
      "stem:   7%|▋         | 3414/50000 [00:42<13:20, 58.19it/s]"
     ]
    },
    {
     "name": "stderr",
     "output_type": "stream",
     "text": [
      "\r",
      "stem:   7%|▋         | 3402/50000 [00:42<11:50, 65.59it/s]"
     ]
    },
    {
     "name": "stderr",
     "output_type": "stream",
     "text": [
      "\r",
      "stem:   7%|▋         | 3391/50000 [00:42<11:07, 69.83it/s]"
     ]
    },
    {
     "name": "stderr",
     "output_type": "stream",
     "text": [
      "\r",
      "stem:   7%|▋         | 3382/50000 [00:42<09:53, 78.54it/s]"
     ]
    },
    {
     "name": "stderr",
     "output_type": "stream",
     "text": [
      "\r",
      "stem:   7%|▋         | 3372/50000 [00:42<09:47, 79.33it/s]"
     ]
    },
    {
     "name": "stderr",
     "output_type": "stream",
     "text": [
      "\r",
      "stem:   7%|▋         | 3356/50000 [00:41<09:13, 84.20it/s]"
     ]
    },
    {
     "name": "stderr",
     "output_type": "stream",
     "text": [
      "\r",
      "stem:   7%|▋         | 3345/50000 [00:41<08:58, 86.65it/s]"
     ]
    },
    {
     "name": "stderr",
     "output_type": "stream",
     "text": [
      "\r",
      "stem:   7%|▋         | 3332/50000 [00:41<08:33, 90.84it/s]"
     ]
    },
    {
     "name": "stderr",
     "output_type": "stream",
     "text": [
      "\r",
      "stem:   7%|▋         | 3318/50000 [00:41<08:03, 96.63it/s]"
     ]
    },
    {
     "name": "stderr",
     "output_type": "stream",
     "text": [
      "\r",
      "stem:   7%|▋         | 3294/50000 [00:41<10:05, 77.16it/s] "
     ]
    },
    {
     "name": "stderr",
     "output_type": "stream",
     "text": [
      "\r",
      "stem:   7%|▋         | 3282/50000 [00:40<07:37, 102.15it/s]"
     ]
    },
    {
     "name": "stderr",
     "output_type": "stream",
     "text": [
      "\r",
      "stem:   7%|▋         | 3264/50000 [00:40<08:48, 88.36it/s]"
     ]
    },
    {
     "name": "stderr",
     "output_type": "stream",
     "text": [
      "\r",
      "stem:   7%|▋         | 3252/50000 [00:40<09:09, 85.04it/s]"
     ]
    },
    {
     "name": "stderr",
     "output_type": "stream",
     "text": [
      "\r",
      "stem:   6%|▋         | 3234/50000 [00:40<10:41, 72.88it/s]"
     ]
    },
    {
     "name": "stderr",
     "output_type": "stream",
     "text": [
      "\r",
      "stem:   6%|▋         | 3216/50000 [00:40<12:28, 62.49it/s]"
     ]
    },
    {
     "name": "stderr",
     "output_type": "stream",
     "text": [
      "\r",
      "stem:   6%|▋         | 3204/50000 [00:40<11:04, 70.43it/s]"
     ]
    },
    {
     "name": "stderr",
     "output_type": "stream",
     "text": [
      "\r",
      "stem:   6%|▋         | 3186/50000 [00:39<12:05, 64.54it/s]"
     ]
    },
    {
     "name": "stderr",
     "output_type": "stream",
     "text": [
      "\r",
      "stem:   6%|▋         | 3174/50000 [00:39<12:17, 63.53it/s]"
     ]
    },
    {
     "name": "stderr",
     "output_type": "stream",
     "text": [
      "\r",
      "stem:   6%|▋         | 3162/50000 [00:39<13:51, 56.33it/s]"
     ]
    },
    {
     "name": "stderr",
     "output_type": "stream",
     "text": [
      "\r",
      "stem:   6%|▋         | 3144/50000 [00:39<15:57, 48.94it/s]"
     ]
    },
    {
     "name": "stderr",
     "output_type": "stream",
     "text": [
      "\r",
      "stem:   6%|▌         | 3120/50000 [00:39<20:37, 37.88it/s]"
     ]
    },
    {
     "name": "stderr",
     "output_type": "stream",
     "text": [
      "\r",
      "stem:   6%|▌         | 3114/50000 [00:39<16:06, 48.52it/s]"
     ]
    },
    {
     "name": "stderr",
     "output_type": "stream",
     "text": [
      "\r",
      "stem:   6%|▌         | 3108/50000 [00:38<16:51, 46.34it/s]"
     ]
    },
    {
     "name": "stderr",
     "output_type": "stream",
     "text": [
      "\r",
      "stem:   6%|▌         | 3096/50000 [00:38<13:05, 59.70it/s]"
     ]
    },
    {
     "name": "stderr",
     "output_type": "stream",
     "text": [
      "\r",
      "stem:   6%|▌         | 3087/50000 [00:38<10:49, 72.28it/s]"
     ]
    },
    {
     "name": "stderr",
     "output_type": "stream",
     "text": [
      "\r",
      "stem:   6%|▌         | 3078/50000 [00:38<10:22, 75.44it/s]"
     ]
    },
    {
     "name": "stderr",
     "output_type": "stream",
     "text": [
      "\r",
      "stem:   6%|▌         | 3066/50000 [00:38<11:36, 67.36it/s]"
     ]
    },
    {
     "name": "stderr",
     "output_type": "stream",
     "text": [
      "\r",
      "stem:   6%|▌         | 3048/50000 [00:37<12:35, 62.15it/s]"
     ]
    },
    {
     "name": "stderr",
     "output_type": "stream",
     "text": [
      "\r",
      "stem:   6%|▌         | 3036/50000 [00:37<11:49, 66.18it/s]"
     ]
    },
    {
     "name": "stderr",
     "output_type": "stream",
     "text": [
      "\r",
      "stem:   6%|▌         | 3024/50000 [00:37<10:00, 78.17it/s]"
     ]
    },
    {
     "name": "stderr",
     "output_type": "stream",
     "text": [
      "\r",
      "stem:   6%|▌         | 3009/50000 [00:37<11:28, 68.29it/s]"
     ]
    },
    {
     "name": "stderr",
     "output_type": "stream",
     "text": [
      "\r",
      "stem:   6%|▌         | 3000/50000 [00:37<10:42, 73.13it/s]"
     ]
    },
    {
     "name": "stderr",
     "output_type": "stream",
     "text": [
      "\r",
      "stem:   6%|▌         | 2982/50000 [00:36<12:06, 64.73it/s]"
     ]
    },
    {
     "name": "stderr",
     "output_type": "stream",
     "text": [
      "\r",
      "stem:   6%|▌         | 2967/50000 [00:36<10:41, 73.30it/s]"
     ]
    },
    {
     "name": "stderr",
     "output_type": "stream",
     "text": [
      "\r",
      "stem:   6%|▌         | 2958/50000 [00:36<10:36, 73.91it/s]"
     ]
    },
    {
     "name": "stderr",
     "output_type": "stream",
     "text": [
      "\r",
      "stem:   6%|▌         | 2946/50000 [00:36<10:17, 76.23it/s]"
     ]
    },
    {
     "name": "stderr",
     "output_type": "stream",
     "text": [
      "\r",
      "stem:   6%|▌         | 2928/50000 [00:36<11:50, 66.26it/s]"
     ]
    },
    {
     "name": "stderr",
     "output_type": "stream",
     "text": [
      "\r",
      "stem:   6%|▌         | 2918/50000 [00:36<09:51, 79.57it/s]"
     ]
    },
    {
     "name": "stderr",
     "output_type": "stream",
     "text": [
      "\r",
      "stem:   6%|▌         | 2908/50000 [00:35<09:28, 82.86it/s]"
     ]
    },
    {
     "name": "stderr",
     "output_type": "stream",
     "text": [
      "\r",
      "stem:   6%|▌         | 2898/50000 [00:35<08:59, 87.31it/s] "
     ]
    },
    {
     "name": "stderr",
     "output_type": "stream",
     "text": [
      "\r",
      "stem:   6%|▌         | 2886/50000 [00:35<07:16, 107.86it/s]"
     ]
    },
    {
     "name": "stderr",
     "output_type": "stream",
     "text": [
      "\r",
      "stem:   6%|▌         | 2868/50000 [00:35<07:46, 100.96it/s]"
     ]
    },
    {
     "name": "stderr",
     "output_type": "stream",
     "text": [
      "\r",
      "stem:   6%|▌         | 2856/50000 [00:35<08:06, 96.92it/s]"
     ]
    },
    {
     "name": "stderr",
     "output_type": "stream",
     "text": [
      "\r",
      "stem:   6%|▌         | 2844/50000 [00:35<08:43, 90.14it/s]"
     ]
    },
    {
     "name": "stderr",
     "output_type": "stream",
     "text": [
      "\r",
      "stem:   6%|▌         | 2820/50000 [00:34<09:19, 84.31it/s]"
     ]
    },
    {
     "name": "stderr",
     "output_type": "stream",
     "text": [
      "\r",
      "stem:   6%|▌         | 2802/50000 [00:34<08:44, 90.06it/s]"
     ]
    },
    {
     "name": "stderr",
     "output_type": "stream",
     "text": [
      "\r",
      "stem:   6%|▌         | 2790/50000 [00:34<08:36, 91.38it/s]"
     ]
    },
    {
     "name": "stderr",
     "output_type": "stream",
     "text": [
      "\r",
      "stem:   6%|▌         | 2772/50000 [00:34<10:18, 76.40it/s]"
     ]
    },
    {
     "name": "stderr",
     "output_type": "stream",
     "text": [
      "\r",
      "stem:   6%|▌         | 2760/50000 [00:34<08:17, 94.93it/s]"
     ]
    },
    {
     "name": "stderr",
     "output_type": "stream",
     "text": [
      "\r",
      "stem:   5%|▌         | 2748/50000 [00:34<08:54, 88.33it/s]"
     ]
    },
    {
     "name": "stderr",
     "output_type": "stream",
     "text": [
      "\r",
      "stem:   5%|▌         | 2730/50000 [00:33<09:43, 81.04it/s]"
     ]
    },
    {
     "name": "stderr",
     "output_type": "stream",
     "text": [
      "\r",
      "stem:   5%|▌         | 2712/50000 [00:33<11:45, 67.04it/s]"
     ]
    },
    {
     "name": "stderr",
     "output_type": "stream",
     "text": [
      "\r",
      "stem:   5%|▌         | 2694/50000 [00:33<11:09, 70.62it/s]"
     ]
    },
    {
     "name": "stderr",
     "output_type": "stream",
     "text": [
      "\r",
      "stem:   5%|▌         | 2684/50000 [00:33<11:30, 68.52it/s]"
     ]
    },
    {
     "name": "stderr",
     "output_type": "stream",
     "text": [
      "\r",
      "stem:   5%|▌         | 2674/50000 [00:33<08:32, 92.30it/s]"
     ]
    },
    {
     "name": "stderr",
     "output_type": "stream",
     "text": [
      "\r",
      "stem:   5%|▌         | 2664/50000 [00:33<08:46, 89.93it/s]"
     ]
    },
    {
     "name": "stderr",
     "output_type": "stream",
     "text": [
      "\r",
      "stem:   5%|▌         | 2652/50000 [00:32<08:31, 92.61it/s]"
     ]
    },
    {
     "name": "stderr",
     "output_type": "stream",
     "text": [
      "\r",
      "stem:   5%|▌         | 2639/50000 [00:32<09:28, 83.26it/s]"
     ]
    },
    {
     "name": "stderr",
     "output_type": "stream",
     "text": [
      "\r",
      "stem:   5%|▌         | 2629/50000 [00:32<09:06, 86.73it/s]"
     ]
    },
    {
     "name": "stderr",
     "output_type": "stream",
     "text": [
      "\r",
      "stem:   5%|▌         | 2619/50000 [00:32<08:17, 95.17it/s]"
     ]
    },
    {
     "name": "stderr",
     "output_type": "stream",
     "text": [
      "\r",
      "stem:   5%|▌         | 2609/50000 [00:32<08:24, 93.90it/s]"
     ]
    },
    {
     "name": "stderr",
     "output_type": "stream",
     "text": [
      "\r",
      "stem:   5%|▌         | 2598/50000 [00:32<08:10, 96.62it/s]"
     ]
    },
    {
     "name": "stderr",
     "output_type": "stream",
     "text": [
      "\r",
      "stem:   5%|▌         | 2586/50000 [00:32<08:32, 92.47it/s]"
     ]
    },
    {
     "name": "stderr",
     "output_type": "stream",
     "text": [
      "\r",
      "stem:   5%|▌         | 2574/50000 [00:32<08:40, 91.11it/s]"
     ]
    },
    {
     "name": "stderr",
     "output_type": "stream",
     "text": [
      "\r",
      "stem:   5%|▌         | 2562/50000 [00:32<09:08, 86.51it/s]"
     ]
    },
    {
     "name": "stderr",
     "output_type": "stream",
     "text": [
      "\r",
      "stem:   5%|▌         | 2544/50000 [00:31<10:36, 74.51it/s]"
     ]
    },
    {
     "name": "stderr",
     "output_type": "stream",
     "text": [
      "\r",
      "stem:   5%|▌         | 2526/50000 [00:31<12:05, 65.43it/s]"
     ]
    },
    {
     "name": "stderr",
     "output_type": "stream",
     "text": [
      "\r",
      "stem:   5%|▌         | 2510/50000 [00:31<11:50, 66.83it/s]"
     ]
    },
    {
     "name": "stderr",
     "output_type": "stream",
     "text": [
      "\r",
      "stem:   5%|▌         | 2502/50000 [00:31<12:11, 64.92it/s]"
     ]
    },
    {
     "name": "stderr",
     "output_type": "stream",
     "text": [
      "\r",
      "stem:   5%|▍         | 2484/50000 [00:31<13:17, 59.61it/s]"
     ]
    },
    {
     "name": "stderr",
     "output_type": "stream",
     "text": [
      "\r",
      "stem:   5%|▍         | 2472/50000 [00:31<15:22, 51.54it/s]"
     ]
    },
    {
     "name": "stderr",
     "output_type": "stream",
     "text": [
      "\r",
      "stem:   5%|▍         | 2461/50000 [00:30<11:11, 70.85it/s]"
     ]
    },
    {
     "name": "stderr",
     "output_type": "stream",
     "text": [
      "\r",
      "stem:   5%|▍         | 2453/50000 [00:30<11:37, 68.18it/s]"
     ]
    },
    {
     "name": "stderr",
     "output_type": "stream",
     "text": [
      "\r",
      "stem:   5%|▍         | 2445/50000 [00:30<12:04, 65.68it/s]"
     ]
    },
    {
     "name": "stderr",
     "output_type": "stream",
     "text": [
      "\r",
      "stem:   5%|▍         | 2436/50000 [00:30<10:55, 72.61it/s]"
     ]
    },
    {
     "name": "stderr",
     "output_type": "stream",
     "text": [
      "\r",
      "stem:   5%|▍         | 2421/50000 [00:30<12:44, 62.24it/s]"
     ]
    },
    {
     "name": "stderr",
     "output_type": "stream",
     "text": [
      "\r",
      "stem:   5%|▍         | 2412/50000 [00:29<11:05, 71.54it/s]"
     ]
    },
    {
     "name": "stderr",
     "output_type": "stream",
     "text": [
      "\r",
      "stem:   5%|▍         | 2400/50000 [00:29<12:01, 65.95it/s]"
     ]
    },
    {
     "name": "stderr",
     "output_type": "stream",
     "text": [
      "\r",
      "stem:   5%|▍         | 2388/50000 [00:29<09:15, 85.71it/s]"
     ]
    },
    {
     "name": "stderr",
     "output_type": "stream",
     "text": [
      "\r",
      "stem:   5%|▍         | 2375/50000 [00:29<10:23, 76.32it/s]"
     ]
    },
    {
     "name": "stderr",
     "output_type": "stream",
     "text": [
      "\r",
      "stem:   5%|▍         | 2364/50000 [00:29<08:31, 93.07it/s]"
     ]
    },
    {
     "name": "stderr",
     "output_type": "stream",
     "text": [
      "\r",
      "stem:   5%|▍         | 2346/50000 [00:29<10:06, 78.53it/s]"
     ]
    },
    {
     "name": "stderr",
     "output_type": "stream",
     "text": [
      "\r",
      "stem:   5%|▍         | 2329/50000 [00:28<10:31, 75.43it/s]"
     ]
    },
    {
     "name": "stderr",
     "output_type": "stream",
     "text": [
      "\r",
      "stem:   5%|▍         | 2319/50000 [00:28<08:40, 91.60it/s]"
     ]
    },
    {
     "name": "stderr",
     "output_type": "stream",
     "text": [
      "\r",
      "stem:   5%|▍         | 2309/50000 [00:28<08:49, 90.07it/s]"
     ]
    },
    {
     "name": "stderr",
     "output_type": "stream",
     "text": [
      "\r",
      "stem:   5%|▍         | 2298/50000 [00:28<08:18, 95.74it/s]"
     ]
    },
    {
     "name": "stderr",
     "output_type": "stream",
     "text": [
      "\r",
      "stem:   5%|▍         | 2283/50000 [00:28<09:17, 85.53it/s]"
     ]
    },
    {
     "name": "stderr",
     "output_type": "stream",
     "text": [
      "\r",
      "stem:   5%|▍         | 2274/50000 [00:28<09:13, 86.23it/s]"
     ]
    },
    {
     "name": "stderr",
     "output_type": "stream",
     "text": [
      "\r",
      "stem:   5%|▍         | 2264/50000 [00:28<09:18, 85.47it/s]"
     ]
    },
    {
     "name": "stderr",
     "output_type": "stream",
     "text": [
      "\r",
      "stem:   5%|▍         | 2254/50000 [00:28<08:47, 90.54it/s]"
     ]
    },
    {
     "name": "stderr",
     "output_type": "stream",
     "text": [
      "\r",
      "stem:   4%|▍         | 2244/50000 [00:27<08:51, 89.91it/s]"
     ]
    },
    {
     "name": "stderr",
     "output_type": "stream",
     "text": [
      "\r",
      "stem:   4%|▍         | 2232/50000 [00:27<09:14, 86.17it/s]"
     ]
    },
    {
     "name": "stderr",
     "output_type": "stream",
     "text": [
      "\r",
      "stem:   4%|▍         | 2214/50000 [00:27<09:47, 81.38it/s]"
     ]
    },
    {
     "name": "stderr",
     "output_type": "stream",
     "text": [
      "\r",
      "stem:   4%|▍         | 2196/50000 [00:27<08:20, 95.49it/s]"
     ]
    },
    {
     "name": "stderr",
     "output_type": "stream",
     "text": [
      "\r",
      "stem:   4%|▍         | 2184/50000 [00:27<08:09, 97.72it/s]"
     ]
    },
    {
     "name": "stderr",
     "output_type": "stream",
     "text": [
      "\r",
      "stem:   4%|▍         | 2172/50000 [00:27<08:17, 96.14it/s]"
     ]
    },
    {
     "name": "stderr",
     "output_type": "stream",
     "text": [
      "\r",
      "stem:   4%|▍         | 2154/50000 [00:26<09:54, 80.46it/s]"
     ]
    },
    {
     "name": "stderr",
     "output_type": "stream",
     "text": [
      "\r",
      "stem:   4%|▍         | 2130/50000 [00:26<10:03, 79.29it/s]"
     ]
    },
    {
     "name": "stderr",
     "output_type": "stream",
     "text": [
      "\r",
      "stem:   4%|▍         | 2118/50000 [00:26<09:35, 83.22it/s]"
     ]
    },
    {
     "name": "stderr",
     "output_type": "stream",
     "text": [
      "\r",
      "stem:   4%|▍         | 2094/50000 [00:26<09:24, 84.84it/s]"
     ]
    },
    {
     "name": "stderr",
     "output_type": "stream",
     "text": [
      "\r",
      "stem:   4%|▍         | 2075/50000 [00:26<09:29, 84.16it/s]"
     ]
    },
    {
     "name": "stderr",
     "output_type": "stream",
     "text": [
      "\r",
      "stem:   4%|▍         | 2064/50000 [00:25<09:13, 86.66it/s]"
     ]
    },
    {
     "name": "stderr",
     "output_type": "stream",
     "text": [
      "\r",
      "stem:   4%|▍         | 2046/50000 [00:25<10:46, 74.15it/s]"
     ]
    },
    {
     "name": "stderr",
     "output_type": "stream",
     "text": [
      "\r",
      "stem:   4%|▍         | 2032/50000 [00:25<09:09, 87.30it/s]"
     ]
    },
    {
     "name": "stderr",
     "output_type": "stream",
     "text": [
      "\r",
      "stem:   4%|▍         | 2021/50000 [00:25<08:38, 92.53it/s]"
     ]
    },
    {
     "name": "stderr",
     "output_type": "stream",
     "text": [
      "\r",
      "stem:   4%|▍         | 2010/50000 [00:25<08:44, 91.51it/s]"
     ]
    },
    {
     "name": "stderr",
     "output_type": "stream",
     "text": [
      "\r",
      "stem:   4%|▍         | 1998/50000 [00:25<08:42, 91.83it/s]"
     ]
    },
    {
     "name": "stderr",
     "output_type": "stream",
     "text": [
      "\r",
      "stem:   4%|▍         | 1974/50000 [00:24<10:24, 76.95it/s]"
     ]
    },
    {
     "name": "stderr",
     "output_type": "stream",
     "text": [
      "\r",
      "stem:   4%|▍         | 1962/50000 [00:24<10:02, 79.74it/s]"
     ]
    },
    {
     "name": "stderr",
     "output_type": "stream",
     "text": [
      "\r",
      "stem:   4%|▍         | 1944/50000 [00:24<10:16, 77.90it/s]"
     ]
    },
    {
     "name": "stderr",
     "output_type": "stream",
     "text": [
      "\r",
      "stem:   4%|▍         | 1932/50000 [00:24<08:45, 91.46it/s]"
     ]
    },
    {
     "name": "stderr",
     "output_type": "stream",
     "text": [
      "\r",
      "stem:   4%|▍         | 1914/50000 [00:24<10:35, 75.67it/s]"
     ]
    },
    {
     "name": "stderr",
     "output_type": "stream",
     "text": [
      "\r",
      "stem:   4%|▍         | 1896/50000 [00:24<12:15, 65.38it/s]"
     ]
    },
    {
     "name": "stderr",
     "output_type": "stream",
     "text": [
      "\r",
      "stem:   4%|▍         | 1884/50000 [00:23<10:39, 75.26it/s]"
     ]
    },
    {
     "name": "stderr",
     "output_type": "stream",
     "text": [
      "\r",
      "stem:   4%|▎         | 1872/50000 [00:23<10:49, 74.15it/s]"
     ]
    },
    {
     "name": "stderr",
     "output_type": "stream",
     "text": [
      "\r",
      "stem:   4%|▎         | 1857/50000 [00:23<11:32, 69.51it/s]"
     ]
    },
    {
     "name": "stderr",
     "output_type": "stream",
     "text": [
      "\r",
      "stem:   4%|▎         | 1848/50000 [00:23<11:24, 70.35it/s]"
     ]
    },
    {
     "name": "stderr",
     "output_type": "stream",
     "text": [
      "\r",
      "stem:   4%|▎         | 1838/50000 [00:23<09:04, 88.37it/s]"
     ]
    },
    {
     "name": "stderr",
     "output_type": "stream",
     "text": [
      "\r",
      "stem:   4%|▎         | 1828/50000 [00:23<09:29, 84.52it/s]"
     ]
    },
    {
     "name": "stderr",
     "output_type": "stream",
     "text": [
      "\r",
      "stem:   4%|▎         | 1818/50000 [00:22<09:09, 87.67it/s]"
     ]
    },
    {
     "name": "stderr",
     "output_type": "stream",
     "text": [
      "\r",
      "stem:   4%|▎         | 1806/50000 [00:22<10:12, 78.71it/s]"
     ]
    },
    {
     "name": "stderr",
     "output_type": "stream",
     "text": [
      "\r",
      "stem:   4%|▎         | 1782/50000 [00:22<11:33, 69.56it/s]"
     ]
    },
    {
     "name": "stderr",
     "output_type": "stream",
     "text": [
      "\r",
      "stem:   4%|▎         | 1770/50000 [00:22<10:12, 78.68it/s]"
     ]
    },
    {
     "name": "stderr",
     "output_type": "stream",
     "text": [
      "\r",
      "stem:   4%|▎         | 1752/50000 [00:22<12:07, 66.31it/s]"
     ]
    },
    {
     "name": "stderr",
     "output_type": "stream",
     "text": [
      "\r",
      "stem:   3%|▎         | 1734/50000 [00:22<12:18, 65.34it/s]"
     ]
    },
    {
     "name": "stderr",
     "output_type": "stream",
     "text": [
      "\r",
      "stem:   3%|▎         | 1718/50000 [00:21<12:39, 63.56it/s]"
     ]
    },
    {
     "name": "stderr",
     "output_type": "stream",
     "text": [
      "\r",
      "stem:   3%|▎         | 1710/50000 [00:21<11:06, 72.43it/s]"
     ]
    },
    {
     "name": "stderr",
     "output_type": "stream",
     "text": [
      "\r",
      "stem:   3%|▎         | 1698/50000 [00:21<11:22, 70.77it/s]"
     ]
    },
    {
     "name": "stderr",
     "output_type": "stream",
     "text": [
      "\r",
      "stem:   3%|▎         | 1688/50000 [00:21<12:02, 66.88it/s]"
     ]
    },
    {
     "name": "stderr",
     "output_type": "stream",
     "text": [
      "\r",
      "stem:   3%|▎         | 1680/50000 [00:21<10:34, 76.19it/s]"
     ]
    },
    {
     "name": "stderr",
     "output_type": "stream",
     "text": [
      "\r",
      "stem:   3%|▎         | 1665/50000 [00:21<11:10, 72.10it/s]"
     ]
    },
    {
     "name": "stderr",
     "output_type": "stream",
     "text": [
      "\r",
      "stem:   3%|▎         | 1656/50000 [00:20<10:34, 76.25it/s]"
     ]
    },
    {
     "name": "stderr",
     "output_type": "stream",
     "text": [
      "\r",
      "stem:   3%|▎         | 1641/50000 [00:20<09:36, 83.93it/s]"
     ]
    },
    {
     "name": "stderr",
     "output_type": "stream",
     "text": [
      "\r",
      "stem:   3%|▎         | 1632/50000 [00:20<09:49, 82.00it/s]"
     ]
    },
    {
     "name": "stderr",
     "output_type": "stream",
     "text": [
      "\r",
      "stem:   3%|▎         | 1614/50000 [00:20<11:16, 71.53it/s]"
     ]
    },
    {
     "name": "stderr",
     "output_type": "stream",
     "text": [
      "\r",
      "stem:   3%|▎         | 1602/50000 [00:20<11:29, 70.16it/s]"
     ]
    },
    {
     "name": "stderr",
     "output_type": "stream",
     "text": [
      "\r",
      "stem:   3%|▎         | 1590/50000 [00:20<11:25, 70.57it/s]"
     ]
    },
    {
     "name": "stderr",
     "output_type": "stream",
     "text": [
      "\r",
      "stem:   3%|▎         | 1578/50000 [00:19<11:56, 67.55it/s]"
     ]
    },
    {
     "name": "stderr",
     "output_type": "stream",
     "text": [
      "\r",
      "stem:   3%|▎         | 1566/50000 [00:19<11:12, 71.98it/s]"
     ]
    },
    {
     "name": "stderr",
     "output_type": "stream",
     "text": [
      "\r",
      "stem:   3%|▎         | 1555/50000 [00:19<10:47, 74.80it/s]"
     ]
    },
    {
     "name": "stderr",
     "output_type": "stream",
     "text": [
      "\r",
      "stem:   3%|▎         | 1546/50000 [00:19<10:55, 73.97it/s]"
     ]
    },
    {
     "name": "stderr",
     "output_type": "stream",
     "text": [
      "\r",
      "stem:   3%|▎         | 1536/50000 [00:19<11:33, 69.91it/s]"
     ]
    },
    {
     "name": "stderr",
     "output_type": "stream",
     "text": [
      "\r",
      "stem:   3%|▎         | 1512/50000 [00:19<13:48, 58.52it/s]"
     ]
    },
    {
     "name": "stderr",
     "output_type": "stream",
     "text": [
      "\r",
      "stem:   3%|▎         | 1494/50000 [00:18<16:31, 48.90it/s]"
     ]
    },
    {
     "name": "stderr",
     "output_type": "stream",
     "text": [
      "\r",
      "stem:   3%|▎         | 1484/50000 [00:18<13:46, 58.68it/s]"
     ]
    },
    {
     "name": "stderr",
     "output_type": "stream",
     "text": [
      "\r",
      "stem:   3%|▎         | 1476/50000 [00:18<13:09, 61.43it/s]"
     ]
    },
    {
     "name": "stderr",
     "output_type": "stream",
     "text": [
      "\r",
      "stem:   3%|▎         | 1458/50000 [00:18<16:02, 50.43it/s]"
     ]
    },
    {
     "name": "stderr",
     "output_type": "stream",
     "text": [
      "\r",
      "stem:   3%|▎         | 1446/50000 [00:18<13:37, 59.36it/s]"
     ]
    },
    {
     "name": "stderr",
     "output_type": "stream",
     "text": [
      "\r",
      "stem:   3%|▎         | 1436/50000 [00:17<12:38, 64.01it/s]"
     ]
    },
    {
     "name": "stderr",
     "output_type": "stream",
     "text": [
      "\r",
      "stem:   3%|▎         | 1428/50000 [00:17<12:52, 62.87it/s]"
     ]
    },
    {
     "name": "stderr",
     "output_type": "stream",
     "text": [
      "\r",
      "stem:   3%|▎         | 1419/50000 [00:17<13:02, 62.08it/s]"
     ]
    },
    {
     "name": "stderr",
     "output_type": "stream",
     "text": [
      "\r",
      "stem:   3%|▎         | 1410/50000 [00:17<13:35, 59.56it/s]"
     ]
    },
    {
     "name": "stderr",
     "output_type": "stream",
     "text": [
      "\r",
      "stem:   3%|▎         | 1392/50000 [00:17<16:15, 49.84it/s]"
     ]
    },
    {
     "name": "stderr",
     "output_type": "stream",
     "text": [
      "\r",
      "stem:   3%|▎         | 1380/50000 [00:17<16:41, 48.54it/s]"
     ]
    },
    {
     "name": "stderr",
     "output_type": "stream",
     "text": [
      "\r",
      "stem:   3%|▎         | 1368/50000 [00:16<20:28, 39.58it/s]"
     ]
    },
    {
     "name": "stderr",
     "output_type": "stream",
     "text": [
      "\r",
      "stem:   3%|▎         | 1359/50000 [00:16<10:35, 76.53it/s]"
     ]
    },
    {
     "name": "stderr",
     "output_type": "stream",
     "text": [
      "\r",
      "stem:   3%|▎         | 1350/50000 [00:16<10:42, 75.67it/s]"
     ]
    },
    {
     "name": "stderr",
     "output_type": "stream",
     "text": [
      "\r",
      "stem:   3%|▎         | 1332/50000 [00:16<12:02, 67.37it/s]"
     ]
    },
    {
     "name": "stderr",
     "output_type": "stream",
     "text": [
      "\r",
      "stem:   3%|▎         | 1320/50000 [00:16<12:44, 63.64it/s]"
     ]
    },
    {
     "name": "stderr",
     "output_type": "stream",
     "text": [
      "\r",
      "stem:   3%|▎         | 1308/50000 [00:15<14:22, 56.43it/s]"
     ]
    },
    {
     "name": "stderr",
     "output_type": "stream",
     "text": [
      "\r",
      "stem:   3%|▎         | 1296/50000 [00:15<13:37, 59.56it/s]"
     ]
    },
    {
     "name": "stderr",
     "output_type": "stream",
     "text": [
      "\r",
      "stem:   3%|▎         | 1284/50000 [00:15<11:16, 71.98it/s]"
     ]
    },
    {
     "name": "stderr",
     "output_type": "stream",
     "text": [
      "\r",
      "stem:   3%|▎         | 1275/50000 [00:15<11:44, 69.20it/s]"
     ]
    },
    {
     "name": "stderr",
     "output_type": "stream",
     "text": [
      "\r",
      "stem:   3%|▎         | 1266/50000 [00:15<10:20, 78.56it/s]"
     ]
    },
    {
     "name": "stderr",
     "output_type": "stream",
     "text": [
      "\r",
      "stem:   3%|▎         | 1254/50000 [00:15<11:44, 69.23it/s]"
     ]
    },
    {
     "name": "stderr",
     "output_type": "stream",
     "text": [
      "\r",
      "stem:   2%|▏         | 1230/50000 [00:14<12:28, 65.17it/s]"
     ]
    },
    {
     "name": "stderr",
     "output_type": "stream",
     "text": [
      "\r",
      "stem:   2%|▏         | 1206/50000 [00:14<14:10, 57.39it/s]"
     ]
    },
    {
     "name": "stderr",
     "output_type": "stream",
     "text": [
      "\r",
      "stem:   2%|▏         | 1194/50000 [00:14<12:10, 66.82it/s]"
     ]
    },
    {
     "name": "stderr",
     "output_type": "stream",
     "text": [
      "\r",
      "stem:   2%|▏         | 1185/50000 [00:14<10:11, 79.82it/s]"
     ]
    },
    {
     "name": "stderr",
     "output_type": "stream",
     "text": [
      "\r",
      "stem:   2%|▏         | 1176/50000 [00:13<10:18, 78.99it/s]"
     ]
    },
    {
     "name": "stderr",
     "output_type": "stream",
     "text": [
      "\r",
      "stem:   2%|▏         | 1158/50000 [00:13<11:14, 72.39it/s]"
     ]
    },
    {
     "name": "stderr",
     "output_type": "stream",
     "text": [
      "\r",
      "stem:   2%|▏         | 1146/50000 [00:13<09:41, 84.06it/s]"
     ]
    },
    {
     "name": "stderr",
     "output_type": "stream",
     "text": [
      "\r",
      "stem:   2%|▏         | 1134/50000 [00:13<10:16, 79.28it/s]"
     ]
    },
    {
     "name": "stderr",
     "output_type": "stream",
     "text": [
      "\r",
      "stem:   2%|▏         | 1116/50000 [00:13<10:07, 80.46it/s]"
     ]
    },
    {
     "name": "stderr",
     "output_type": "stream",
     "text": [
      "\r",
      "stem:   2%|▏         | 1104/50000 [00:12<08:31, 95.67it/s]"
     ]
    },
    {
     "name": "stderr",
     "output_type": "stream",
     "text": [
      "\r",
      "stem:   2%|▏         | 1090/50000 [00:12<09:18, 87.65it/s]"
     ]
    },
    {
     "name": "stderr",
     "output_type": "stream",
     "text": [
      "\r",
      "stem:   2%|▏         | 1080/50000 [00:12<08:59, 90.67it/s]"
     ]
    },
    {
     "name": "stderr",
     "output_type": "stream",
     "text": [
      "\r",
      "stem:   2%|▏         | 1068/50000 [00:12<08:50, 92.26it/s]"
     ]
    },
    {
     "name": "stderr",
     "output_type": "stream",
     "text": [
      "\r",
      "stem:   2%|▏         | 1056/50000 [00:12<09:22, 87.07it/s] "
     ]
    },
    {
     "name": "stderr",
     "output_type": "stream",
     "text": [
      "\r",
      "stem:   2%|▏         | 1044/50000 [00:12<08:05, 100.88it/s]"
     ]
    },
    {
     "name": "stderr",
     "output_type": "stream",
     "text": [
      "\r",
      "stem:   2%|▏         | 1026/50000 [00:12<08:38, 94.49it/s]"
     ]
    },
    {
     "name": "stderr",
     "output_type": "stream",
     "text": [
      "\r",
      "stem:   2%|▏         | 1014/50000 [00:12<08:26, 96.76it/s]"
     ]
    },
    {
     "name": "stderr",
     "output_type": "stream",
     "text": [
      "\r",
      "stem:   2%|▏         | 1002/50000 [00:11<08:18, 98.20it/s]"
     ]
    },
    {
     "name": "stderr",
     "output_type": "stream",
     "text": [
      "\r",
      "stem:   2%|▏         | 978/50000 [00:11<08:23, 97.38it/s] "
     ]
    },
    {
     "name": "stderr",
     "output_type": "stream",
     "text": [
      "\r",
      "stem:   2%|▏         | 960/50000 [00:11<08:06, 100.74it/s]"
     ]
    },
    {
     "name": "stderr",
     "output_type": "stream",
     "text": [
      "\r",
      "stem:   2%|▏         | 948/50000 [00:11<07:52, 103.74it/s]"
     ]
    },
    {
     "name": "stderr",
     "output_type": "stream",
     "text": [
      "\r",
      "stem:   2%|▏         | 924/50000 [00:11<09:03, 90.37it/s]"
     ]
    },
    {
     "name": "stderr",
     "output_type": "stream",
     "text": [
      "\r",
      "stem:   2%|▏         | 907/50000 [00:10<08:51, 92.32it/s]"
     ]
    },
    {
     "name": "stderr",
     "output_type": "stream",
     "text": [
      "\r",
      "stem:   2%|▏         | 897/50000 [00:10<08:53, 92.03it/s]"
     ]
    },
    {
     "name": "stderr",
     "output_type": "stream",
     "text": [
      "\r",
      "stem:   2%|▏         | 887/50000 [00:10<08:53, 92.00it/s]"
     ]
    },
    {
     "name": "stderr",
     "output_type": "stream",
     "text": [
      "\r",
      "stem:   2%|▏         | 876/50000 [00:10<08:14, 99.29it/s]"
     ]
    },
    {
     "name": "stderr",
     "output_type": "stream",
     "text": [
      "\r",
      "stem:   2%|▏         | 864/50000 [00:10<08:21, 97.98it/s]"
     ]
    },
    {
     "name": "stderr",
     "output_type": "stream",
     "text": [
      "\r",
      "stem:   2%|▏         | 852/50000 [00:10<08:34, 95.54it/s]"
     ]
    },
    {
     "name": "stderr",
     "output_type": "stream",
     "text": [
      "\r",
      "stem:   2%|▏         | 834/50000 [00:10<10:08, 80.78it/s]"
     ]
    },
    {
     "name": "stderr",
     "output_type": "stream",
     "text": [
      "\r",
      "stem:   2%|▏         | 822/50000 [00:10<09:05, 90.11it/s]"
     ]
    },
    {
     "name": "stderr",
     "output_type": "stream",
     "text": [
      "\r",
      "stem:   2%|▏         | 810/50000 [00:09<09:32, 85.94it/s]"
     ]
    },
    {
     "name": "stderr",
     "output_type": "stream",
     "text": [
      "\r",
      "stem:   2%|▏         | 798/50000 [00:09<09:30, 86.28it/s]"
     ]
    },
    {
     "name": "stderr",
     "output_type": "stream",
     "text": [
      "\r",
      "stem:   2%|▏         | 780/50000 [00:09<10:46, 76.11it/s]"
     ]
    },
    {
     "name": "stderr",
     "output_type": "stream",
     "text": [
      "\r",
      "stem:   2%|▏         | 768/50000 [00:09<09:13, 88.87it/s]"
     ]
    },
    {
     "name": "stderr",
     "output_type": "stream",
     "text": [
      "\r",
      "stem:   2%|▏         | 756/50000 [00:09<09:35, 85.53it/s]"
     ]
    },
    {
     "name": "stderr",
     "output_type": "stream",
     "text": [
      "\r",
      "stem:   1%|▏         | 738/50000 [00:09<10:23, 78.99it/s]"
     ]
    },
    {
     "name": "stderr",
     "output_type": "stream",
     "text": [
      "\r",
      "stem:   1%|▏         | 726/50000 [00:08<09:42, 84.59it/s]"
     ]
    },
    {
     "name": "stderr",
     "output_type": "stream",
     "text": [
      "\r",
      "stem:   1%|▏         | 711/50000 [00:08<11:02, 74.35it/s]"
     ]
    },
    {
     "name": "stderr",
     "output_type": "stream",
     "text": [
      "\r",
      "stem:   1%|▏         | 702/50000 [00:08<11:15, 72.98it/s]"
     ]
    },
    {
     "name": "stderr",
     "output_type": "stream",
     "text": [
      "\r",
      "stem:   1%|▏         | 690/50000 [00:08<12:47, 64.25it/s]"
     ]
    },
    {
     "name": "stderr",
     "output_type": "stream",
     "text": [
      "\r",
      "stem:   1%|▏         | 679/50000 [00:08<13:33, 60.59it/s]"
     ]
    },
    {
     "name": "stderr",
     "output_type": "stream",
     "text": [
      "\r",
      "stem:   1%|▏         | 672/50000 [00:08<14:05, 58.37it/s]"
     ]
    },
    {
     "name": "stderr",
     "output_type": "stream",
     "text": [
      "\r",
      "stem:   1%|▏         | 660/50000 [00:08<14:16, 57.57it/s]"
     ]
    },
    {
     "name": "stderr",
     "output_type": "stream",
     "text": [
      "\r",
      "stem:   1%|▏         | 651/50000 [00:08<15:25, 53.35it/s]"
     ]
    },
    {
     "name": "stderr",
     "output_type": "stream",
     "text": [
      "\r",
      "stem:   1%|▏         | 642/50000 [00:07<09:55, 82.93it/s]"
     ]
    },
    {
     "name": "stderr",
     "output_type": "stream",
     "text": [
      "\r",
      "stem:   1%|▏         | 630/50000 [00:07<09:29, 86.72it/s]"
     ]
    },
    {
     "name": "stderr",
     "output_type": "stream",
     "text": [
      "\r",
      "stem:   1%|          | 618/50000 [00:07<09:53, 83.24it/s]"
     ]
    },
    {
     "name": "stderr",
     "output_type": "stream",
     "text": [
      "\r",
      "stem:   1%|          | 606/50000 [00:07<08:29, 96.98it/s]"
     ]
    },
    {
     "name": "stderr",
     "output_type": "stream",
     "text": [
      "\r",
      "stem:   1%|          | 594/50000 [00:07<09:08, 90.04it/s]"
     ]
    },
    {
     "name": "stderr",
     "output_type": "stream",
     "text": [
      "\r",
      "stem:   1%|          | 576/50000 [00:07<09:56, 82.84it/s]"
     ]
    },
    {
     "name": "stderr",
     "output_type": "stream",
     "text": [
      "\r",
      "stem:   1%|          | 560/50000 [00:06<11:39, 70.69it/s]"
     ]
    },
    {
     "name": "stderr",
     "output_type": "stream",
     "text": [
      "\r",
      "stem:   1%|          | 552/50000 [00:06<11:26, 71.99it/s]"
     ]
    },
    {
     "name": "stderr",
     "output_type": "stream",
     "text": [
      "\r",
      "stem:   1%|          | 540/50000 [00:06<12:24, 66.42it/s]"
     ]
    },
    {
     "name": "stderr",
     "output_type": "stream",
     "text": [
      "\r",
      "stem:   1%|          | 528/50000 [00:06<12:31, 65.80it/s]"
     ]
    },
    {
     "name": "stderr",
     "output_type": "stream",
     "text": [
      "\r",
      "stem:   1%|          | 516/50000 [00:06<12:48, 64.42it/s]"
     ]
    },
    {
     "name": "stderr",
     "output_type": "stream",
     "text": [
      "\r",
      "stem:   1%|          | 504/50000 [00:06<14:26, 57.14it/s]"
     ]
    },
    {
     "name": "stderr",
     "output_type": "stream",
     "text": [
      "\r",
      "stem:   1%|          | 495/50000 [00:05<10:01, 82.36it/s]"
     ]
    },
    {
     "name": "stderr",
     "output_type": "stream",
     "text": [
      "\r",
      "stem:   1%|          | 486/50000 [00:05<10:06, 81.62it/s]"
     ]
    },
    {
     "name": "stderr",
     "output_type": "stream",
     "text": [
      "\r",
      "stem:   1%|          | 468/50000 [00:05<10:44, 76.86it/s]"
     ]
    },
    {
     "name": "stderr",
     "output_type": "stream",
     "text": [
      "\r",
      "stem:   1%|          | 456/50000 [00:05<11:14, 73.45it/s]"
     ]
    },
    {
     "name": "stderr",
     "output_type": "stream",
     "text": [
      "\r",
      "stem:   1%|          | 442/50000 [00:05<11:41, 70.69it/s]"
     ]
    },
    {
     "name": "stderr",
     "output_type": "stream",
     "text": [
      "\r",
      "stem:   1%|          | 432/50000 [00:05<10:41, 77.22it/s]"
     ]
    },
    {
     "name": "stderr",
     "output_type": "stream",
     "text": [
      "\r",
      "stem:   1%|          | 419/50000 [00:04<11:49, 69.87it/s]"
     ]
    },
    {
     "name": "stderr",
     "output_type": "stream",
     "text": [
      "\r",
      "stem:   1%|          | 408/50000 [00:04<09:47, 84.35it/s]"
     ]
    },
    {
     "name": "stderr",
     "output_type": "stream",
     "text": [
      "\r",
      "stem:   1%|          | 390/50000 [00:04<11:53, 69.54it/s]"
     ]
    },
    {
     "name": "stderr",
     "output_type": "stream",
     "text": [
      "\r",
      "stem:   1%|          | 372/50000 [00:04<09:59, 82.74it/s]"
     ]
    },
    {
     "name": "stderr",
     "output_type": "stream",
     "text": [
      "\r",
      "stem:   1%|          | 358/50000 [00:04<09:21, 88.40it/s]"
     ]
    },
    {
     "name": "stderr",
     "output_type": "stream",
     "text": [
      "\r",
      "stem:   1%|          | 348/50000 [00:04<09:48, 84.33it/s]"
     ]
    },
    {
     "name": "stderr",
     "output_type": "stream",
     "text": [
      "\r",
      "stem:   1%|          | 324/50000 [00:03<11:00, 75.18it/s]"
     ]
    },
    {
     "name": "stderr",
     "output_type": "stream",
     "text": [
      "\r",
      "stem:   1%|          | 312/50000 [00:03<10:09, 81.58it/s]"
     ]
    },
    {
     "name": "stderr",
     "output_type": "stream",
     "text": [
      "\r",
      "stem:   1%|          | 300/50000 [00:03<11:24, 72.56it/s]"
     ]
    },
    {
     "name": "stderr",
     "output_type": "stream",
     "text": [
      "\r",
      "stem:   1%|          | 282/50000 [00:03<12:03, 68.68it/s]"
     ]
    },
    {
     "name": "stderr",
     "output_type": "stream",
     "text": [
      "\r",
      "stem:   1%|          | 270/50000 [00:03<12:00, 68.99it/s]"
     ]
    },
    {
     "name": "stderr",
     "output_type": "stream",
     "text": [
      "\r",
      "stem:   1%|          | 261/50000 [00:02<10:40, 77.67it/s]"
     ]
    },
    {
     "name": "stderr",
     "output_type": "stream",
     "text": [
      "\r",
      "stem:   1%|          | 252/50000 [00:02<09:46, 84.75it/s]"
     ]
    },
    {
     "name": "stderr",
     "output_type": "stream",
     "text": [
      "\r",
      "stem:   0%|          | 240/50000 [00:02<09:56, 83.35it/s]"
     ]
    },
    {
     "name": "stderr",
     "output_type": "stream",
     "text": [
      "\r",
      "stem:   0%|          | 222/50000 [00:02<09:47, 84.78it/s]"
     ]
    },
    {
     "name": "stderr",
     "output_type": "stream",
     "text": [
      "\r",
      "stem:   0%|          | 204/50000 [00:02<10:46, 77.02it/s]"
     ]
    },
    {
     "name": "stderr",
     "output_type": "stream",
     "text": [
      "\r",
      "stem:   0%|          | 188/50000 [00:02<11:12, 74.09it/s]"
     ]
    },
    {
     "name": "stderr",
     "output_type": "stream",
     "text": [
      "\r",
      "stem:   0%|          | 178/50000 [00:01<09:23, 88.40it/s]"
     ]
    },
    {
     "name": "stderr",
     "output_type": "stream",
     "text": [
      "\r",
      "stem:   0%|          | 168/50000 [00:01<09:39, 85.96it/s]"
     ]
    },
    {
     "name": "stderr",
     "output_type": "stream",
     "text": [
      "\r",
      "stem:   0%|          | 150/50000 [00:01<10:49, 76.72it/s]"
     ]
    },
    {
     "name": "stderr",
     "output_type": "stream",
     "text": [
      "\r",
      "stem:   0%|          | 138/50000 [00:01<10:14, 81.16it/s]"
     ]
    },
    {
     "name": "stderr",
     "output_type": "stream",
     "text": [
      "\r",
      "stem:   0%|          | 114/50000 [00:01<11:58, 69.43it/s]"
     ]
    },
    {
     "name": "stderr",
     "output_type": "stream",
     "text": [
      "\r",
      "stem:   0%|          | 102/50000 [00:01<11:35, 71.76it/s]"
     ]
    },
    {
     "name": "stderr",
     "output_type": "stream",
     "text": [
      "\r",
      "stem:   0%|          | 90/50000 [00:01<13:34, 61.31it/s]"
     ]
    },
    {
     "name": "stderr",
     "output_type": "stream",
     "text": [
      "\r",
      "stem:   0%|          | 78/50000 [00:00<12:12, 68.16it/s]"
     ]
    },
    {
     "name": "stderr",
     "output_type": "stream",
     "text": [
      "\r",
      "stem:   0%|          | 66/50000 [00:00<10:55, 76.15it/s]"
     ]
    },
    {
     "name": "stderr",
     "output_type": "stream",
     "text": [
      "\r",
      "stem:   0%|          | 48/50000 [00:00<13:02, 63.86it/s]"
     ]
    },
    {
     "name": "stderr",
     "output_type": "stream",
     "text": [
      "\r",
      "stem:   0%|          | 22/50000 [00:00<16:54, 49.26it/s]"
     ]
    },
    {
     "name": "stderr",
     "output_type": "stream",
     "text": [
      "\r",
      "stem:   0%|          | 8/50000 [00:00<21:16, 39.16it/s]"
     ]
    },
    {
     "name": "stderr",
     "output_type": "stream",
     "text": [
      "\r",
      "stem:   0%|          | 0/50000 [00:00<?, ?it/s]"
     ]
    }
   ],
   "source": [
    "def stemmering_sentences(sentence):\n",
    "    # Remove punctuation, stopword and then stemmering\n",
    "    punctuation = set(string.punctuation)\n",
    "    stemmer = nltk.PorterStemmer()\n",
    "    tmp = unicode(sentence, errors='ignore')\n",
    "    doc = [stemmer.stem(word.lower()) for word in nltk.word_tokenize(tmp) if\n",
    "           (word not in punctuation) and (word not in nltk.corpus.stopwords.words('english')) and (word != 'br')]\n",
    "    return doc\n",
    "\n",
    "def stemmering_sentences_imdb(X, y):\n",
    "    sentences_stem = Parallel(n_jobs=4)(delayed(stemmering_sentences)(sentence) for sentence in tqdm.tqdm(X, desc=\"stem\"))\n",
    "    return sentences_stem, y\n",
    "X, y = stemmering_sentences_imdb(X_train+X_test, y_train+y_test)\n"
   ]
  },
  {
   "cell_type": "code",
   "execution_count": 5,
   "metadata": {
    "autoscroll": "json-false",
    "collapsed": false,
    "ein.tags": [
     "worksheet-0"
    ],
    "slideshow": {
     "slide_type": "-"
    }
   },
   "outputs": [],
   "source": [
    "# combine_train_test_X = terms_by_doc_train + terms_by_doc_test\n",
    "combine_train_test_X = X\n"
   ]
  },
  {
   "cell_type": "code",
   "execution_count": 6,
   "metadata": {
    "autoscroll": "json-false",
    "collapsed": false,
    "ein.tags": [
     "worksheet-0"
    ],
    "slideshow": {
     "slide_type": "-"
    }
   },
   "outputs": [],
   "source": [
    "vocab_dim = 50\n",
    "maxlen = 400\n",
    "n_iterations = 1  # ideally more..\n",
    "n_exposures = 30\n",
    "window_size = 5\n",
    "batch_size = 200\n",
    "nb_filter = 250\n",
    "filter_length = 3\n",
    "hidden_dims = 250\n",
    "nb_epoch = 2\n",
    "cpu_count = multiprocessing.cpu_count()"
   ]
  },
  {
   "cell_type": "code",
   "execution_count": 7,
   "metadata": {
    "autoscroll": "json-false",
    "collapsed": false,
    "ein.tags": [
     "worksheet-0"
    ],
    "slideshow": {
     "slide_type": "-"
    }
   },
   "outputs": [
    {
     "data": {
      "text/plain": [
       "5806352"
      ]
     },
     "execution_count": 7,
     "metadata": {},
     "output_type": "execute_result"
    },
    {
     "name": "stdout",
     "output_type": "stream",
     "text": [
      "Training a Word2vec model...\n"
     ]
    }
   ],
   "source": [
    "from gensim.models.word2vec import Word2Vec\n",
    "print('Training a Word2vec model...')\n",
    "model = Word2Vec(size=vocab_dim,\n",
    "                 min_count=n_exposures,\n",
    "                 window=window_size,\n",
    "                 workers=cpu_count,\n",
    "                 iter=n_iterations)\n",
    "model.build_vocab(combine_train_test_X)\n",
    "model.train(combine_train_test_X)\n"
   ]
  },
  {
   "cell_type": "code",
   "execution_count": 8,
   "metadata": {
    "autoscroll": "json-false",
    "collapsed": false,
    "ein.tags": [
     "worksheet-0"
    ],
    "slideshow": {
     "slide_type": "-"
    }
   },
   "outputs": [
    {
     "name": "stdout",
     "output_type": "stream",
     "text": [
      "Setting up Arrays for Keras Embedding Layer...\n"
     ]
    }
   ],
   "source": [
    "from gensim.corpora.dictionary import Dictionary\n",
    "gensim_dict = Dictionary()\n",
    "gensim_dict.doc2bow(model.vocab.keys(), allow_update=True)\n",
    "# gensim_dict.items() returns [(0, u\"'surpris\"), (1, u'woodi'), (2, u'yellow'),...]\n",
    "# K+1 aims at avoiding 0 as index.\n",
    "w2indx = {v: k+1 for k, v in gensim_dict.items()}\n",
    "w2vec = {word: model[word] for word in w2indx.keys()}\n",
    "# print len(model[\"surpris\"]) -> 100\n",
    "print('Setting up Arrays for Keras Embedding Layer...')\n",
    "n_symbols = len(w2indx) + 1  # adding 1 to account for 0th index\n",
    "embedding_weights = np.zeros((n_symbols + 1, vocab_dim))\n",
    "for word, index in w2indx.items():\n",
    "    embedding_weights[index, :] = w2vec[word]\n"
   ]
  },
  {
   "cell_type": "code",
   "execution_count": 9,
   "metadata": {
    "autoscroll": "json-false",
    "collapsed": false,
    "ein.tags": [
     "worksheet-0"
    ],
    "slideshow": {
     "slide_type": "-"
    }
   },
   "outputs": [],
   "source": [
    "from sklearn.model_selection import train_test_split\n",
    "terms_by_doc_train, terms_by_doc_test, y_train, y_test = train_test_split(X, y, test_size=0.3, random_state=58)\n",
    "X_train = []\n",
    "for doc in terms_by_doc_train:\n",
    "    new_txt = []\n",
    "    for word in doc:\n",
    "        try:\n",
    "            new_txt.append(w2indx[word])\n",
    "        except:\n",
    "            new_txt.append(0)\n",
    "    X_train.append(new_txt)\n",
    "X_test = []\n",
    "for doc in terms_by_doc_test:\n",
    "    new_txt = []\n",
    "    for word in doc:\n",
    "        try:\n",
    "            new_txt.append(w2indx[word])\n",
    "        except:\n",
    "            new_txt.append(0)\n",
    "    X_test.append(new_txt)"
   ]
  },
  {
   "cell_type": "code",
   "execution_count": 11,
   "metadata": {
    "autoscroll": "json-false",
    "collapsed": false,
    "ein.tags": [
     "worksheet-0"
    ],
    "slideshow": {
     "slide_type": "-"
    }
   },
   "outputs": [
    {
     "name": "stdout",
     "output_type": "stream",
     "text": [
      "\n",
      "Test score: 0.276048250993\n",
      "Test accuracy: 0.888399996758\n"
     ]
    },
    {
     "name": "stdout",
     "output_type": "stream",
     "text": [
      "\b\b\b\b\b\b\b\b\b\b\b\b\b\b\b\b\b\b\b\b\b\b\b\b\b\b\b\b\b\b\b\b\b\b\b\b\b\b\b\b\b\b\b\b\b\b\b\b\b\b\b\b\b\b\r",
      "15000/15000 [==============================] - 15s    "
     ]
    },
    {
     "name": "stdout",
     "output_type": "stream",
     "text": [
      "\b\b\b\b\b\b\b\b\b\b\b\b\b\b\b\b\b\b\b\b\b\b\b\b\b\b\b\b\b\b\b\b\b\b\b\b\b\b\b\b\b\b\b\b\b\b\b\b\b\b\b\b\b\b\r",
      "14800/15000 [============================>.] - ETA: 0s"
     ]
    },
    {
     "name": "stdout",
     "output_type": "stream",
     "text": [
      "\b\b\b\b\b\b\b\b\b\b\b\b\b\b\b\b\b\b\b\b\b\b\b\b\b\b\b\b\b\b\b\b\b\b\b\b\b\b\b\b\b\b\b\b\b\b\b\b\b\b\b\b\b\b\r",
      "14600/15000 [============================>.] - ETA: 0s"
     ]
    },
    {
     "name": "stdout",
     "output_type": "stream",
     "text": [
      "\b\b\b\b\b\b\b\b\b\b\b\b\b\b\b\b\b\b\b\b\b\b\b\b\b\b\b\b\b\b\b\b\b\b\b\b\b\b\b\b\b\b\b\b\b\b\b\b\b\b\b\b\b\b\r",
      "14400/15000 [===========================>..] - ETA: 0s"
     ]
    },
    {
     "name": "stdout",
     "output_type": "stream",
     "text": [
      "\b\b\b\b\b\b\b\b\b\b\b\b\b\b\b\b\b\b\b\b\b\b\b\b\b\b\b\b\b\b\b\b\b\b\b\b\b\b\b\b\b\b\b\b\b\b\b\b\b\b\b\b\b\b\r",
      "14200/15000 [===========================>..] - ETA: 0s"
     ]
    },
    {
     "name": "stdout",
     "output_type": "stream",
     "text": [
      "\b\b\b\b\b\b\b\b\b\b\b\b\b\b\b\b\b\b\b\b\b\b\b\b\b\b\b\b\b\b\b\b\b\b\b\b\b\b\b\b\b\b\b\b\b\b\b\b\b\b\b\b\b\b\r",
      "14000/15000 [===========================>..] - ETA: 1s"
     ]
    },
    {
     "name": "stdout",
     "output_type": "stream",
     "text": [
      "\b\b\b\b\b\b\b\b\b\b\b\b\b\b\b\b\b\b\b\b\b\b\b\b\b\b\b\b\b\b\b\b\b\b\b\b\b\b\b\b\b\b\b\b\b\b\b\b\b\b\b\b\b\b\r",
      "13800/15000 [==========================>...] - ETA: 1s"
     ]
    },
    {
     "name": "stdout",
     "output_type": "stream",
     "text": [
      "\b\b\b\b\b\b\b\b\b\b\b\b\b\b\b\b\b\b\b\b\b\b\b\b\b\b\b\b\b\b\b\b\b\b\b\b\b\b\b\b\b\b\b\b\b\b\b\b\b\b\b\b\b\b\r",
      "13600/15000 [==========================>...] - ETA: 1s"
     ]
    },
    {
     "name": "stdout",
     "output_type": "stream",
     "text": [
      "\b\b\b\b\b\b\b\b\b\b\b\b\b\b\b\b\b\b\b\b\b\b\b\b\b\b\b\b\b\b\b\b\b\b\b\b\b\b\b\b\b\b\b\b\b\b\b\b\b\b\b\b\b\b\r",
      "13400/15000 [=========================>....] - ETA: 1s"
     ]
    },
    {
     "name": "stdout",
     "output_type": "stream",
     "text": [
      "\r",
      "13200/15000 [=========================>....] - ETA: 1s"
     ]
    },
    {
     "name": "stdout",
     "output_type": "stream",
     "text": [
      "\b\b\b\b\b\b\b\b\b\b\b\b\b\b\b\b\b\b\b\b\b\b\b\b\b\b\b\b\b\b\b\b\b\b\b\b\b\b\b\b\b\b\b\b\b\b\b\b\b\b\b\b\b\b"
     ]
    },
    {
     "name": "stdout",
     "output_type": "stream",
     "text": [
      "\b\b\b\b\b\b\b\b\b\b\b\b\b\b\b\b\b\b\b\b\b\b\b\b\b\b\b\b\b\b\b\b\b\b\b\b\b\b\b\b\b\b\b\b\b\b\b\b\b\b\b\b\b\b\r",
      "13000/15000 [=========================>....] - ETA: 2s"
     ]
    },
    {
     "name": "stdout",
     "output_type": "stream",
     "text": [
      "\b\b\b\b\b\b\b\b\b\b\b\b\b\b\b\b\b\b\b\b\b\b\b\b\b\b\b\b\b\b\b\b\b\b\b\b\b\b\b\b\b\b\b\b\b\b\b\b\b\b\b\b\b\b\r",
      "12800/15000 [========================>.....] - ETA: 2s"
     ]
    },
    {
     "name": "stdout",
     "output_type": "stream",
     "text": [
      "\b\b\b\b\b\b\b\b\b\b\b\b\b\b\b\b\b\b\b\b\b\b\b\b\b\b\b\b\b\b\b\b\b\b\b\b\b\b\b\b\b\b\b\b\b\b\b\b\b\b\b\b\b\b\r",
      "12600/15000 [========================>.....] - ETA: 2s"
     ]
    },
    {
     "name": "stdout",
     "output_type": "stream",
     "text": [
      "\b\b\b\b\b\b\b\b\b\b\b\b\b\b\b\b\b\b\b\b\b\b\b\b\b\b\b\b\b\b\b\b\b\b\b\b\b\b\b\b\b\b\b\b\b\b\b\b\b\b\b\b\b\b\r",
      "12400/15000 [=======================>......] - ETA: 2s"
     ]
    },
    {
     "name": "stdout",
     "output_type": "stream",
     "text": [
      "\b\b\b\b\b\b\b\b\b\b\b\b\b\b\b\b\b\b\b\b\b\b\b\b\b\b\b\b\b\b\b\b\b\b\b\b\b\b\b\b\b\b\b\b\b\b\b\b\b\b\b\b\b\b\r",
      "12200/15000 [=======================>......] - ETA: 2s"
     ]
    },
    {
     "name": "stdout",
     "output_type": "stream",
     "text": [
      "\b\b\b\b\b\b\b\b\b\b\b\b\b\b\b\b\b\b\b\b\b\b\b\b\b\b\b\b\b\b\b\b\b\b\b\b\b\b\b\b\b\b\b\b\b\b\b\b\b\b\b\b\b\b\r",
      "12000/15000 [=======================>......] - ETA: 3s"
     ]
    },
    {
     "name": "stdout",
     "output_type": "stream",
     "text": [
      "\b\b\b\b\b\b\b\b\b\b\b\b\b\b\b\b\b\b\b\b\b\b\b\b\b\b\b\b\b\b\b\b\b\b\b\b\b\b\b\b\b\b\b\b\b\b\b\b\b\b\b\b\b\b\r",
      "11800/15000 [======================>.......] - ETA: 3s"
     ]
    },
    {
     "name": "stdout",
     "output_type": "stream",
     "text": [
      "\b\b\b\b\b\b\b\b\b\b\b\b\b\b\b\b\b\b\b\b\b\b\b\b\b\b\b\b\b\b\b\b\b\b\b\b\b\b\b\b\b\b\b\b\b\b\b\b\b\b\b\b\b\b\r",
      "11600/15000 [======================>.......] - ETA: 3s"
     ]
    },
    {
     "name": "stdout",
     "output_type": "stream",
     "text": [
      "\b\b\b\b\b\b\b\b\b\b\b\b\b\b\b\b\b\b\b\b\b\b\b\b\b\b\b\b\b\b\b\b\b\b\b\b\b\b\b\b\b\b\b\b\b\b\b\b\b\b\b\b\b\b\r",
      "11400/15000 [=====================>........] - ETA: 3s"
     ]
    },
    {
     "name": "stdout",
     "output_type": "stream",
     "text": [
      "\b\b\b\b\b\b\b\b\b\b\b\b\b\b\b\b\b\b\b\b\b\b\b\b\b\b\b\b\b\b\b\b\b\b\b\b\b\b\b\b\b\b\b\b\b\b\b\b\b\b\b\b\b\b\r",
      "11200/15000 [=====================>........] - ETA: 3s"
     ]
    },
    {
     "name": "stdout",
     "output_type": "stream",
     "text": [
      "\b\b\b\b\b\b\b\b\b\b\b\b\b\b\b\b\b\b\b\b\b\b\b\b\b\b\b\b\b\b\b\b\b\b\b\b\b\b\b\b\b\b\b\b\b\b\b\b\b\b\b\b\b\b\r",
      "11000/15000 [=====================>........] - ETA: 4s"
     ]
    },
    {
     "name": "stdout",
     "output_type": "stream",
     "text": [
      "\b\b\b\b\b\b\b\b\b\b\b\b\b\b\b\b\b\b\b\b\b\b\b\b\b\b\b\b\b\b\b\b\b\b\b\b\b\b\b\b\b\b\b\b\b\b\b\b\b\b\b\b\b\b\r",
      "10800/15000 [====================>.........] - ETA: 4s"
     ]
    },
    {
     "name": "stdout",
     "output_type": "stream",
     "text": [
      "\b\b\b\b\b\b\b\b\b\b\b\b\b\b\b\b\b\b\b\b\b\b\b\b\b\b\b\b\b\b\b\b\b\b\b\b\b\b\b\b\b\b\b\b\b\b\b\b\b\b\b\b\b\b\r",
      "10600/15000 [====================>.........] - ETA: 4s"
     ]
    },
    {
     "name": "stdout",
     "output_type": "stream",
     "text": [
      "\b\b\b\b\b\b\b\b\b\b\b\b\b\b\b\b\b\b\b\b\b\b\b\b\b\b\b\b\b\b\b\b\b\b\b\b\b\b\b\b\b\b\b\b\b\b\b\b\b\b\b\b\b\b\r",
      "10400/15000 [===================>..........] - ETA: 4s"
     ]
    },
    {
     "name": "stdout",
     "output_type": "stream",
     "text": [
      "\b\b\b\b\b\b\b\b\b\b\b\b\b\b\b\b\b\b\b\b\b\b\b\b\b\b\b\b\b\b\b\b\b\b\b\b\b\b\b\b\b\b\b\b\b\b\b\b\b\b\b\b\b\b\r",
      "10200/15000 [===================>..........] - ETA: 4s"
     ]
    },
    {
     "name": "stdout",
     "output_type": "stream",
     "text": [
      "\b\b\b\b\b\b\b\b\b\b\b\b\b\b\b\b\b\b\b\b\b\b\b\b\b\b\b\b\b\b\b\b\b\b\b\b\b\b\b\b\b\b\b\b\b\b\b\b\b\b\b\b\b\b\r",
      "10000/15000 [===================>..........] - ETA: 5s"
     ]
    },
    {
     "name": "stdout",
     "output_type": "stream",
     "text": [
      "\b\b\b\b\b\b\b\b\b\b\b\b\b\b\b\b\b\b\b\b\b\b\b\b\b\b\b\b\b\b\b\b\b\b\b\b\b\b\b\b\b\b\b\b\b\b\b\b\b\b\b\b\b\b\r",
      " 9800/15000 [==================>...........] - ETA: 5s"
     ]
    },
    {
     "name": "stdout",
     "output_type": "stream",
     "text": [
      "\b\b\b\b\b\b\b\b\b\b\b\b\b\b\b\b\b\b\b\b\b\b\b\b\b\b\b\b\b\b\b\b\b\b\b\b\b\b\b\b\b\b\b\b\b\b\b\b\b\b\b\b\b\b\r",
      " 9600/15000 [==================>...........] - ETA: 5s"
     ]
    },
    {
     "name": "stdout",
     "output_type": "stream",
     "text": [
      "\b\b\b\b\b\b\b\b\b\b\b\b\b\b\b\b\b\b\b\b\b\b\b\b\b\b\b\b\b\b\b\b\b\b\b\b\b\b\b\b\b\b\b\b\b\b\b\b\b\b\b\b\b\b\r",
      " 9400/15000 [=================>............] - ETA: 5s"
     ]
    },
    {
     "name": "stdout",
     "output_type": "stream",
     "text": [
      "\b\b\b\b\b\b\b\b\b\b\b\b\b\b\b\b\b\b\b\b\b\b\b\b\b\b\b\b\b\b\b\b\b\b\b\b\b\b\b\b\b\b\b\b\b\b\b\b\b\b\b\b\b\b\r",
      " 9200/15000 [=================>............] - ETA: 5s"
     ]
    },
    {
     "name": "stdout",
     "output_type": "stream",
     "text": [
      "\b\b\b\b\b\b\b\b\b\b\b\b\b\b\b\b\b\b\b\b\b\b\b\b\b\b\b\b\b\b\b\b\b\b\b\b\b\b\b\b\b\b\b\b\b\b\b\b\b\b\b\b\b\b\r",
      " 9000/15000 [=================>............] - ETA: 6s"
     ]
    },
    {
     "name": "stdout",
     "output_type": "stream",
     "text": [
      "\b\b\b\b\b\b\b\b\b\b\b\b\b\b\b\b\b\b\b\b\b\b\b\b\b\b\b\b\b\b\b\b\b\b\b\b\b\b\b\b\b\b\b\b\b\b\b\b\b\b\b\b\b\b\r",
      " 8800/15000 [================>.............] - ETA: 6s"
     ]
    },
    {
     "name": "stdout",
     "output_type": "stream",
     "text": [
      "\b\b\b\b\b\b\b\b\b\b\b\b\b\b\b\b\b\b\b\b\b\b\b\b\b\b\b\b\b\b\b\b\b\b\b\b\b\b\b\b\b\b\b\b\b\b\b\b\b\b\b\b\b\b\r",
      " 8600/15000 [================>.............] - ETA: 6s"
     ]
    },
    {
     "name": "stdout",
     "output_type": "stream",
     "text": [
      "\b\b\b\b\b\b\b\b\b\b\b\b\b\b\b\b\b\b\b\b\b\b\b\b\b\b\b\b\b\b\b\b\b\b\b\b\b\b\b\b\b\b\b\b\b\b\b\b\b\b\b\b\b\b\r",
      " 8400/15000 [===============>..............] - ETA: 6s"
     ]
    },
    {
     "name": "stdout",
     "output_type": "stream",
     "text": [
      "\b\b\b\b\b\b\b\b\b\b\b\b\b\b\b\b\b\b\b\b\b\b\b\b\b\b\b\b\b\b\b\b\b\b\b\b\b\b\b\b\b\b\b\b\b\b\b\b\b\b\b\b\b\b\r",
      " 8200/15000 [===============>..............] - ETA: 6s"
     ]
    },
    {
     "name": "stdout",
     "output_type": "stream",
     "text": [
      "\b\b\b\b\b\b\b\b\b\b\b\b\b\b\b\b\b\b\b\b\b\b\b\b\b\b\b\b\b\b\b\b\b\b\b\b\b\b\b\b\b\b\b\b\b\b\b\b\b\b\b\b\b\b\r",
      " 8000/15000 [===============>..............] - ETA: 7s"
     ]
    },
    {
     "name": "stdout",
     "output_type": "stream",
     "text": [
      "\b\b\b\b\b\b\b\b\b\b\b\b\b\b\b\b\b\b\b\b\b\b\b\b\b\b\b\b\b\b\b\b\b\b\b\b\b\b\b\b\b\b\b\b\b\b\b\b\b\b\b\b\b\b\r",
      " 7800/15000 [==============>...............] - ETA: 7s"
     ]
    },
    {
     "name": "stdout",
     "output_type": "stream",
     "text": [
      "\b\b\b\b\b\b\b\b\b\b\b\b\b\b\b\b\b\b\b\b\b\b\b\b\b\b\b\b\b\b\b\b\b\b\b\b\b\b\b\b\b\b\b\b\b\b\b\b\b\b\b\b\b\b\r",
      " 7600/15000 [==============>...............] - ETA: 7s"
     ]
    },
    {
     "name": "stdout",
     "output_type": "stream",
     "text": [
      "\b\b\b\b\b\b\b\b\b\b\b\b\b\b\b\b\b\b\b\b\b\b\b\b\b\b\b\b\b\b\b\b\b\b\b\b\b\b\b\b\b\b\b\b\b\b\b\b\b\b\b\b\b\b\r",
      " 7400/15000 [=============>................] - ETA: 7s"
     ]
    },
    {
     "name": "stdout",
     "output_type": "stream",
     "text": [
      "\b\b\b\b\b\b\b\b\b\b\b\b\b\b\b\b\b\b\b\b\b\b\b\b\b\b\b\b\b\b\b\b\b\b\b\b\b\b\b\b\b\b\b\b\b\b\b\b\b\b\b\b\b\b\r",
      " 7200/15000 [=============>................] - ETA: 8s"
     ]
    },
    {
     "name": "stdout",
     "output_type": "stream",
     "text": [
      "\b\b\b\b\b\b\b\b\b\b\b\b\b\b\b\b\b\b\b\b\b\b\b\b\b\b\b\b\b\b\b\b\b\b\b\b\b\b\b\b\b\b\b\b\b\b\b\b\b\b\b\b\b\b\r",
      " 7000/15000 [=============>................] - ETA: 8s"
     ]
    },
    {
     "name": "stdout",
     "output_type": "stream",
     "text": [
      "\b\b\b\b\b\b\b\b\b\b\b\b\b\b\b\b\b\b\b\b\b\b\b\b\b\b\b\b\b\b\b\b\b\b\b\b\b\b\b\b\b\b\b\b\b\b\b\b\b\b\b\b\b\b\r",
      " 6800/15000 [============>.................] - ETA: 8s"
     ]
    },
    {
     "name": "stdout",
     "output_type": "stream",
     "text": [
      "\b\b\b\b\b\b\b\b\b\b\b\b\b\b\b\b\b\b\b\b\b\b\b\b\b\b\b\b\b\b\b\b\b\b\b\b\b\b\b\b\b\b\b\b\b\b\b\b\b\b\b\b\b\b\r",
      " 6600/15000 [============>.................] - ETA: 8s"
     ]
    },
    {
     "name": "stdout",
     "output_type": "stream",
     "text": [
      "\b\b\b\b\b\b\b\b\b\b\b\b\b\b\b\b\b\b\b\b\b\b\b\b\b\b\b\b\b\b\b\b\b\b\b\b\b\b\b\b\b\b\b\b\b\b\b\b\b\b\b\b\b\b\r",
      " 6400/15000 [===========>..................] - ETA: 8s"
     ]
    },
    {
     "name": "stdout",
     "output_type": "stream",
     "text": [
      "\b\b\b\b\b\b\b\b\b\b\b\b\b\b\b\b\b\b\b\b\b\b\b\b\b\b\b\b\b\b\b\b\b\b\b\b\b\b\b\b\b\b\b\b\b\b\b\b\b\b\b\b\b\b\r",
      " 6200/15000 [===========>..................] - ETA: 8s"
     ]
    },
    {
     "name": "stdout",
     "output_type": "stream",
     "text": [
      "\b\b\b\b\b\b\b\b\b\b\b\b\b\b\b\b\b\b\b\b\b\b\b\b\b\b\b\b\b\b\b\b\b\b\b\b\b\b\b\b\b\b\b\b\b\b\b\b\b\b\b\b\b\b\r",
      " 6000/15000 [===========>..................] - ETA: 9s"
     ]
    },
    {
     "name": "stdout",
     "output_type": "stream",
     "text": [
      "\b\b\b\b\b\b\b\b\b\b\b\b\b\b\b\b\b\b\b\b\b\b\b\b\b\b\b\b\b\b\b\b\b\b\b\b\b\b\b\b\b\b\b\b\b\b\b\b\b\b\b\b\b\b\r",
      " 5800/15000 [==========>...................] - ETA: 9s"
     ]
    },
    {
     "name": "stdout",
     "output_type": "stream",
     "text": [
      "\b\b\b\b\b\b\b\b\b\b\b\b\b\b\b\b\b\b\b\b\b\b\b\b\b\b\b\b\b\b\b\b\b\b\b\b\b\b\b\b\b\b\b\b\b\b\b\b\b\b\b\b\b\b\r",
      " 5600/15000 [==========>...................] - ETA: 9s"
     ]
    },
    {
     "name": "stdout",
     "output_type": "stream",
     "text": [
      "\b\b\b\b\b\b\b\b\b\b\b\b\b\b\b\b\b\b\b\b\b\b\b\b\b\b\b\b\b\b\b\b\b\b\b\b\b\b\b\b\b\b\b\b\b\b\b\b\b\b\b\b\b\b\r",
      " 5400/15000 [=========>....................] - ETA: 9s"
     ]
    },
    {
     "name": "stdout",
     "output_type": "stream",
     "text": [
      "\b\b\b\b\b\b\b\b\b\b\b\b\b\b\b\b\b\b\b\b\b\b\b\b\b\b\b\b\b\b\b\b\b\b\b\b\b\b\b\b\b\b\b\b\b\b\b\b\b\b\b\b\b\b\b\r",
      " 5200/15000 [=========>....................] - ETA: 9s "
     ]
    },
    {
     "name": "stdout",
     "output_type": "stream",
     "text": [
      "\b\b\b\b\b\b\b\b\b\b\b\b\b\b\b\b\b\b\b\b\b\b\b\b\b\b\b\b\b\b\b\b\b\b\b\b\b\b\b\b\b\b\b\b\b\b\b\b\b\b\b\b\b\b\b\r",
      " 5000/15000 [=========>....................] - ETA: 10s"
     ]
    },
    {
     "name": "stdout",
     "output_type": "stream",
     "text": [
      "\b\b\b\b\b\b\b\b\b\b\b\b\b\b\b\b\b\b\b\b\b\b\b\b\b\b\b\b\b\b\b\b\b\b\b\b\b\b\b\b\b\b\b\b\b\b\b\b\b\b\b\b\b\b\b\r",
      " 4800/15000 [========>.....................] - ETA: 10s"
     ]
    },
    {
     "name": "stdout",
     "output_type": "stream",
     "text": [
      "\b\b\b\b\b\b\b\b\b\b\b\b\b\b\b\b\b\b\b\b\b\b\b\b\b\b\b\b\b\b\b\b\b\b\b\b\b\b\b\b\b\b\b\b\b\b\b\b\b\b\b\b\b\b\b\r",
      " 4600/15000 [========>.....................] - ETA: 10s"
     ]
    },
    {
     "name": "stdout",
     "output_type": "stream",
     "text": [
      "\b\b\b\b\b\b\b\b\b\b\b\b\b\b\b\b\b\b\b\b\b\b\b\b\b\b\b\b\b\b\b\b\b\b\b\b\b\b\b\b\b\b\b\b\b\b\b\b\b\b\b\b\b\b\b\r",
      " 4400/15000 [=======>......................] - ETA: 10s"
     ]
    },
    {
     "name": "stdout",
     "output_type": "stream",
     "text": [
      "\b\b\b\b\b\b\b\b\b\b\b\b\b\b\b\b\b\b\b\b\b\b\b\b\b\b\b\b\b\b\b\b\b\b\b\b\b\b\b\b\b\b\b\b\b\b\b\b\b\b\b\b\b\b\b\r",
      " 4200/15000 [=======>......................] - ETA: 11s"
     ]
    },
    {
     "name": "stdout",
     "output_type": "stream",
     "text": [
      "\b\b\b\b\b\b\b\b\b\b\b\b\b\b\b\b\b\b\b\b\b\b\b\b\b\b\b\b\b\b\b\b\b\b\b\b\b\b\b\b\b\b\b\b\b\b\b\b\b\b\b\b\b\b\b\r",
      " 4000/15000 [=======>......................] - ETA: 11s"
     ]
    },
    {
     "name": "stdout",
     "output_type": "stream",
     "text": [
      "\b\b\b\b\b\b\b\b\b\b\b\b\b\b\b\b\b\b\b\b\b\b\b\b\b\b\b\b\b\b\b\b\b\b\b\b\b\b\b\b\b\b\b\b\b\b\b\b\b\b\b\b\b\b\b\r",
      " 3800/15000 [======>.......................] - ETA: 11s"
     ]
    },
    {
     "name": "stdout",
     "output_type": "stream",
     "text": [
      "\b\b\b\b\b\b\b\b\b\b\b\b\b\b\b\b\b\b\b\b\b\b\b\b\b\b\b\b\b\b\b\b\b\b\b\b\b\b\b\b\b\b\b\b\b\b\b\b\b\b\b\b\b\b\b\r",
      " 3600/15000 [======>.......................] - ETA: 11s"
     ]
    },
    {
     "name": "stdout",
     "output_type": "stream",
     "text": [
      "\b\b\b\b\b\b\b\b\b\b\b\b\b\b\b\b\b\b\b\b\b\b\b\b\b\b\b\b\b\b\b\b\b\b\b\b\b\b\b\b\b\b\b\b\b\b\b\b\b\b\b\b\b\b\b\r",
      " 3400/15000 [=====>........................] - ETA: 11s"
     ]
    },
    {
     "name": "stdout",
     "output_type": "stream",
     "text": [
      "\b\b\b\b\b\b\b\b\b\b\b\b\b\b\b\b\b\b\b\b\b\b\b\b\b\b\b\b\b\b\b\b\b\b\b\b\b\b\b\b\b\b\b\b\b\b\b\b\b\b\b\b\b\b\b\r",
      " 3200/15000 [=====>........................] - ETA: 12s"
     ]
    },
    {
     "name": "stdout",
     "output_type": "stream",
     "text": [
      "\b\b\b\b\b\b\b\b\b\b\b\b\b\b\b\b\b\b\b\b\b\b\b\b\b\b\b\b\b\b\b\b\b\b\b\b\b\b\b\b\b\b\b\b\b\b\b\b\b\b\b\b\b\b\b\r",
      " 3000/15000 [=====>........................] - ETA: 12s"
     ]
    },
    {
     "name": "stdout",
     "output_type": "stream",
     "text": [
      "\b\b\b\b\b\b\b\b\b\b\b\b\b\b\b\b\b\b\b\b\b\b\b\b\b\b\b\b\b\b\b\b\b\b\b\b\b\b\b\b\b\b\b\b\b\b\b\b\b\b\b\b\b\b\b\r",
      " 2800/15000 [====>.........................] - ETA: 12s"
     ]
    },
    {
     "name": "stdout",
     "output_type": "stream",
     "text": [
      "\b\b\b\b\b\b\b\b\b\b\b\b\b\b\b\b\b\b\b\b\b\b\b\b\b\b\b\b\b\b\b\b\b\b\b\b\b\b\b\b\b\b\b\b\b\b\b\b\b\b\b\b\b\b\b\r",
      " 2600/15000 [====>.........................] - ETA: 12s"
     ]
    },
    {
     "name": "stdout",
     "output_type": "stream",
     "text": [
      "\b\b\b\b\b\b\b\b\b\b\b\b\b\b\b\b\b\b\b\b\b\b\b\b\b\b\b\b\b\b\b\b\b\b\b\b\b\b\b\b\b\b\b\b\b\b\b\b\b\b\b\b\b\b\b\r",
      " 2400/15000 [===>..........................] - ETA: 12s"
     ]
    },
    {
     "name": "stdout",
     "output_type": "stream",
     "text": [
      "\b\b\b\b\b\b\b\b\b\b\b\b\b\b\b\b\b\b\b\b\b\b\b\b\b\b\b\b\b\b\b\b\b\b\b\b\b\b\b\b\b\b\b\b\b\b\b\b\b\b\b\b\b\b\b\r",
      " 2200/15000 [===>..........................] - ETA: 13s"
     ]
    },
    {
     "name": "stdout",
     "output_type": "stream",
     "text": [
      "\b\b\b\b\b\b\b\b\b\b\b\b\b\b\b\b\b\b\b\b\b\b\b\b\b\b\b\b\b\b\b\b\b\b\b\b\b\b\b\b\b\b\b\b\b\b\b\b\b\b\b\b\b\b\b\r",
      " 2000/15000 [===>..........................] - ETA: 13s"
     ]
    },
    {
     "name": "stdout",
     "output_type": "stream",
     "text": [
      "\b\b\b\b\b\b\b\b\b\b\b\b\b\b\b\b\b\b\b\b\b\b\b\b\b\b\b\b\b\b\b\b\b\b\b\b\b\b\b\b\b\b\b\b\b\b\b\b\b\b\b\b\b\b\b\r",
      " 1800/15000 [==>...........................] - ETA: 13s"
     ]
    },
    {
     "name": "stdout",
     "output_type": "stream",
     "text": [
      "\b\b\b\b\b\b\b\b\b\b\b\b\b\b\b\b\b\b\b\b\b\b\b\b\b\b\b\b\b\b\b\b\b\b\b\b\b\b\b\b\b\b\b\b\b\b\b\b\b\b\b\b\b\b\b\r",
      " 1600/15000 [==>...........................] - ETA: 13s"
     ]
    },
    {
     "name": "stdout",
     "output_type": "stream",
     "text": [
      "\b\b\b\b\b\b\b\b\b\b\b\b\b\b\b\b\b\b\b\b\b\b\b\b\b\b\b\b\b\b\b\b\b\b\b\b\b\b\b\b\b\b\b\b\b\b\b\b\b\b\b\b\b\b\b\r",
      " 1400/15000 [=>............................] - ETA: 13s"
     ]
    },
    {
     "name": "stdout",
     "output_type": "stream",
     "text": [
      "\b\b\b\b\b\b\b\b\b\b\b\b\b\b\b\b\b\b\b\b\b\b\b\b\b\b\b\b\b\b\b\b\b\b\b\b\b\b\b\b\b\b\b\b\b\b\b\b\b\b\b\b\b\b\b\r",
      " 1200/15000 [=>............................] - ETA: 14s"
     ]
    },
    {
     "name": "stdout",
     "output_type": "stream",
     "text": [
      "\b\b\b\b\b\b\b\b\b\b\b\b\b\b\b\b\b\b\b\b\b\b\b\b\b\b\b\b\b\b\b\b\b\b\b\b\b\b\b\b\b\b\b\b\b\b\b\b\b\b\b\b\b\b\b\r",
      " 1000/15000 [=>............................] - ETA: 14s"
     ]
    },
    {
     "name": "stdout",
     "output_type": "stream",
     "text": [
      "\b\b\b\b\b\b\b\b\b\b\b\b\b\b\b\b\b\b\b\b\b\b\b\b\b\b\b\b\b\b\b\b\b\b\b\b\b\b\b\b\b\b\b\b\b\b\b\b\b\b\b\b\b\b\b\r",
      "  800/15000 [>.............................] - ETA: 14s"
     ]
    },
    {
     "name": "stdout",
     "output_type": "stream",
     "text": [
      "\b\b\b\b\b\b\b\b\b\b\b\b\b\b\b\b\b\b\b\b\b\b\b\b\b\b\b\b\b\b\b\b\b\b\b\b\b\b\b\b\b\b\b\b\b\b\b\b\b\b\b\b\b\b\b\r",
      "  600/15000 [>.............................] - ETA: 14s"
     ]
    },
    {
     "name": "stdout",
     "output_type": "stream",
     "text": [
      "\b\b\b\b\b\b\b\b\b\b\b\b\b\b\b\b\b\b\b\b\b\b\b\b\b\b\b\b\b\b\b\b\b\b\b\b\b\b\b\b\b\b\b\b\b\b\b\b\b\b\b\b\b\b\b\r",
      "  400/15000 [..............................] - ETA: 15s"
     ]
    },
    {
     "name": "stdout",
     "output_type": "stream",
     "text": [
      "\r",
      "  200/15000 [..............................] - ETA: 15s"
     ]
    },
    {
     "name": "stdout",
     "output_type": "stream",
     "text": [
      "Evaluate...\n"
     ]
    }
   ],
   "source": [
    "\n",
    "print('Pad sequences (samples x time)')\n",
    "X_train = sequence.pad_sequences(X_train, maxlen=maxlen)\n",
    "X_test = sequence.pad_sequences(X_test, maxlen=maxlen)\n",
    "print('X_train shape:', X_train.shape)\n",
    "print('X_test shape:', X_test.shape)\n",
    "\n",
    "print('Build model...')\n",
    "model = Sequential()\n",
    "\n",
    "# we start off with an efficient embedding layer which maps\n",
    "# our vocab indices into embedding_dims dimensions\n",
    "model.add(Embedding(input_dim = n_symbols + 1,\n",
    "                    output_dim = vocab_dim,\n",
    "                    input_length=maxlen,\n",
    "                    dropout=0.2))\n",
    "\n",
    "# we add a Convolution1D, which will learn nb_filter\n",
    "# word group filters of size filter_length:\n",
    "model.add(Convolution1D(nb_filter=nb_filter,\n",
    "                        filter_length=filter_length,\n",
    "                        border_mode='valid',\n",
    "                        activation='relu',\n",
    "                        subsample_length=1))\n",
    "# we use max pooling:\n",
    "model.add(GlobalMaxPooling1D())\n",
    "\n",
    "# We add a vanilla hidden layer:\n",
    "model.add(Dense(hidden_dims))\n",
    "model.add(Dropout(0.2))\n",
    "model.add(Activation('relu'))\n",
    "\n",
    "# We project onto a single unit output layer, and squash it with a sigmoid:\n",
    "model.add(Dense(1))\n",
    "model.add(Activation('sigmoid'))\n",
    "\n",
    "model.compile(loss='binary_crossentropy',\n",
    "              optimizer='adam',\n",
    "              metrics=['accuracy'])\n",
    "model.fit(X_train, y_train,\n",
    "          batch_size=batch_size,\n",
    "          nb_epoch=nb_epoch,\n",
    "          validation_data=(X_test, y_test))\n",
    "print(\"Evaluate...\")\n",
    "score, acc = model.evaluate(X_test, y_test,\n",
    "                            batch_size=batch_size)\n",
    "print('Test score:', score)\n",
    "print('Test accuracy:', acc)"
   ]
  },
  {
   "cell_type": "code",
   "execution_count": 12,
   "metadata": {
    "autoscroll": "json-false",
    "collapsed": false,
    "ein.tags": [
     "worksheet-0"
    ],
    "slideshow": {
     "slide_type": "-"
    }
   },
   "outputs": [],
   "source": [
    "from keras.models import load_model\n",
    "import pickle\n",
    "model.save('./cnn_train_imdb.h5')\n",
    "import pickle\n",
    "with open(\"./cnn_w2indx_dict_imdb.pkl\", 'wb') as f:\n",
    "    pickle.dump(w2indx, f)"
   ]
  },
  {
   "cell_type": "code",
   "execution_count": 16,
   "metadata": {
    "autoscroll": "json-false",
    "collapsed": false,
    "ein.tags": [
     "worksheet-0"
    ],
    "slideshow": {
     "slide_type": "-"
    }
   },
   "outputs": [],
   "source": [
    "with open(\"./cnn_w2indx_dict_imdb.pkl\", 'rb') as f:\n",
    "    w2indx_load = pickle.load(f)\n",
    "model = load_model('cnn_train_imdb.h5')"
   ]
  },
  {
   "cell_type": "code",
   "execution_count": 17,
   "metadata": {
    "autoscroll": "json-false",
    "collapsed": false,
    "ein.tags": [
     "worksheet-0"
    ],
    "slideshow": {
     "slide_type": "-"
    }
   },
   "outputs": [],
   "source": [
    "demo = [\"It is one good film.\", \"He said it is one good film, but he is wrong.\"]\n",
    "demo = [stemmering_sentences(i) for i in demo]\n",
    "X_demo = []\n",
    "for doc in demo:\n",
    "    new_txt = []\n",
    "    for word in doc:\n",
    "        try:\n",
    "            new_txt.append(w2indx_load[word])\n",
    "        except:\n",
    "            new_txt.append(0)\n",
    "    X_demo.append(new_txt)"
   ]
  },
  {
   "cell_type": "code",
   "execution_count": 21,
   "metadata": {
    "autoscroll": "json-false",
    "collapsed": false,
    "ein.tags": [
     "worksheet-0"
    ],
    "slideshow": {
     "slide_type": "-"
    }
   },
   "outputs": [
    {
     "data": {
      "text/plain": [
       "[[6401, 989, 7654, 7391], [5807, 6317, 989, 7654, 7391, 973]]"
      ]
     },
     "execution_count": 21,
     "metadata": {},
     "output_type": "execute_result"
    }
   ],
   "source": [
    "X_demo"
   ]
  },
  {
   "cell_type": "code",
   "execution_count": 25,
   "metadata": {
    "autoscroll": "json-false",
    "collapsed": false,
    "ein.tags": [
     "worksheet-0"
    ],
    "slideshow": {
     "slide_type": "-"
    }
   },
   "outputs": [
    {
     "data": {
      "text/plain": [
       "array([[ 0.91695625],\n",
       "       [ 0.80726594]], dtype=float32)"
      ]
     },
     "execution_count": 25,
     "metadata": {},
     "output_type": "execute_result"
    }
   ],
   "source": [
    "X_demo = sequence.pad_sequences(X_demo, maxlen=maxlen)\n",
    "model.predict(X_demo)"
   ]
  }
 ],
 "metadata": {
  "kernelspec": {
   "display_name": "Python 2",
   "name": "python2"
  },
  "name": "cnn_imdb.ipynb"
 },
 "nbformat": 4,
 "nbformat_minor": 1
}
